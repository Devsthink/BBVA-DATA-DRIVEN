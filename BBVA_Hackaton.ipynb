{
  "cells": [
    {
      "cell_type": "markdown",
      "metadata": {
        "id": "view-in-github",
        "colab_type": "text"
      },
      "source": [
        "<a href=\"https://colab.research.google.com/github/Devsthink/BBVA-DATA-DRIVEN/blob/main/BBVA_Hackaton.ipynb\" target=\"_parent\"><img src=\"https://colab.research.google.com/assets/colab-badge.svg\" alt=\"Open In Colab\"/></a>"
      ]
    },
    {
      "cell_type": "markdown",
      "metadata": {
        "id": "EiEW5j9oVbql"
      },
      "source": [
        "#Hackaton BBVA\n"
      ]
    },
    {
      "cell_type": "markdown",
      "metadata": {
        "id": "Iifjn1z7ZoHg"
      },
      "source": [
        "# Modelo de prediccion de valorizacion de inmuebles"
      ]
    },
    {
      "cell_type": "markdown",
      "metadata": {
        "id": "0dONvh494CCI"
      },
      "source": [
        "Librerias necesarias para creacion de modelo\n",
        "\n",
        "\n",
        "\n",
        "*   Manejo de arreglos en diferentes dimensiones\n",
        "*   Cargar y exportar datos\n",
        "*   Redes Neuronales\n",
        "*   Ubicaciones geograficas\n",
        "\n",
        "\n",
        "\n"
      ]
    },
    {
      "cell_type": "markdown",
      "metadata": {
        "id": "14VSLnSL4on-"
      },
      "source": [
        "# Obtención de datos\n",
        "\n",
        "*   Carga de datos a variable local\n",
        "\n"
      ]
    },
    {
      "cell_type": "code",
      "source": [
        "!pip install folium\n",
        "!pip install -U scikit-learn\n",
        "!pip install geopy"
      ],
      "metadata": {
        "id": "CJZHVwAa6DEn",
        "colab": {
          "base_uri": "https://localhost:8080/"
        },
        "outputId": "78a67a53-b0d5-4131-c515-e91fbf4b5061"
      },
      "execution_count": 1,
      "outputs": [
        {
          "output_type": "stream",
          "name": "stdout",
          "text": [
            "Looking in indexes: https://pypi.org/simple, https://us-python.pkg.dev/colab-wheels/public/simple/\n",
            "Requirement already satisfied: folium in /usr/local/lib/python3.7/dist-packages (0.12.1.post1)\n",
            "Requirement already satisfied: requests in /usr/local/lib/python3.7/dist-packages (from folium) (2.23.0)\n",
            "Requirement already satisfied: numpy in /usr/local/lib/python3.7/dist-packages (from folium) (1.21.6)\n",
            "Requirement already satisfied: branca>=0.3.0 in /usr/local/lib/python3.7/dist-packages (from folium) (0.5.0)\n",
            "Requirement already satisfied: jinja2>=2.9 in /usr/local/lib/python3.7/dist-packages (from folium) (2.11.3)\n",
            "Requirement already satisfied: MarkupSafe>=0.23 in /usr/local/lib/python3.7/dist-packages (from jinja2>=2.9->folium) (2.0.1)\n",
            "Requirement already satisfied: certifi>=2017.4.17 in /usr/local/lib/python3.7/dist-packages (from requests->folium) (2022.9.24)\n",
            "Requirement already satisfied: chardet<4,>=3.0.2 in /usr/local/lib/python3.7/dist-packages (from requests->folium) (3.0.4)\n",
            "Requirement already satisfied: idna<3,>=2.5 in /usr/local/lib/python3.7/dist-packages (from requests->folium) (2.10)\n",
            "Requirement already satisfied: urllib3!=1.25.0,!=1.25.1,<1.26,>=1.21.1 in /usr/local/lib/python3.7/dist-packages (from requests->folium) (1.24.3)\n",
            "Looking in indexes: https://pypi.org/simple, https://us-python.pkg.dev/colab-wheels/public/simple/\n",
            "Requirement already satisfied: scikit-learn in /usr/local/lib/python3.7/dist-packages (1.0.2)\n",
            "Requirement already satisfied: joblib>=0.11 in /usr/local/lib/python3.7/dist-packages (from scikit-learn) (1.2.0)\n",
            "Requirement already satisfied: scipy>=1.1.0 in /usr/local/lib/python3.7/dist-packages (from scikit-learn) (1.7.3)\n",
            "Requirement already satisfied: numpy>=1.14.6 in /usr/local/lib/python3.7/dist-packages (from scikit-learn) (1.21.6)\n",
            "Requirement already satisfied: threadpoolctl>=2.0.0 in /usr/local/lib/python3.7/dist-packages (from scikit-learn) (3.1.0)\n",
            "Looking in indexes: https://pypi.org/simple, https://us-python.pkg.dev/colab-wheels/public/simple/\n",
            "Requirement already satisfied: geopy in /usr/local/lib/python3.7/dist-packages (1.17.0)\n",
            "Requirement already satisfied: geographiclib<2,>=1.49 in /usr/local/lib/python3.7/dist-packages (from geopy) (1.52)\n"
          ]
        }
      ]
    },
    {
      "cell_type": "code",
      "execution_count": 2,
      "metadata": {
        "id": "b1XzvHg4VWug"
      },
      "outputs": [],
      "source": [
        "import pandas as pd\n",
        "import tensorflow as tf\n",
        "import numpy as np\n",
        "import csv\n",
        "import matplotlib.pyplot as plt\n",
        "import geopy\n",
        "from geopy.geocoders import Nominatim"
      ]
    },
    {
      "cell_type": "markdown",
      "metadata": {
        "id": "RstA8YCXIyCJ"
      },
      "source": [
        "Carga de los archivos desde un repositorio remoto:"
      ]
    },
    {
      "cell_type": "code",
      "execution_count": 3,
      "metadata": {
        "id": "IpN484kQWyxY",
        "colab": {
          "base_uri": "https://localhost:8080/"
        },
        "outputId": "9f908585-66f1-4051-881d-77552196f0c3"
      },
      "outputs": [
        {
          "output_type": "stream",
          "name": "stdout",
          "text": [
            "Mounted at /content/drive\n"
          ]
        }
      ],
      "source": [
        "from google.colab import drive\n",
        "drive.mount('/content/drive') "
      ]
    },
    {
      "cell_type": "code",
      "execution_count": 4,
      "metadata": {
        "id": "_wwLIWIkW6XV"
      },
      "outputs": [],
      "source": [
        "path = '/content/drive/MyDrive/BBVA_Hackaton/Train_Data_BBVA.csv'"
      ]
    },
    {
      "cell_type": "code",
      "execution_count": 5,
      "metadata": {
        "id": "6VbtV0ekYpNO",
        "colab": {
          "base_uri": "https://localhost:8080/",
          "height": 1000
        },
        "outputId": "0a6f6510-8e58-4d92-9589-40ce2febc2c1"
      },
      "outputs": [
        {
          "output_type": "execute_result",
          "data": {
            "text/plain": [
              "    Fecha entrega del Informe  Tipo de via  Piso Departamento Provincia  \\\n",
              "0                        2022            2     1         Lima      Lima   \n",
              "1                        2022            6     4         Lima      Lima   \n",
              "2                        2022            2     5         Lima      Lima   \n",
              "3                        2022           10     2         Lima      Lima   \n",
              "4                        2022            1     3         Lima      Lima   \n",
              "5                        2022            2     2         Lima      Lima   \n",
              "6                        2022            3     2         Lima      Lima   \n",
              "7                        2022            1     2         Lima      Lima   \n",
              "8                        2022            3     1         Lima      Lima   \n",
              "9                        2022            1     4         Lima      Lima   \n",
              "10                       2022            1     5         Lima      Lima   \n",
              "11                       2022            2     1         Lima      Lima   \n",
              "12                       2022            1     1         Lima      Lima   \n",
              "13                       2022           10     2  La Libertad  Trujillo   \n",
              "14                       2022            1     3         Lima      Lima   \n",
              "15                       2022            1     4         Lima      Lima   \n",
              "16                       2022            3     4         Lima      Lima   \n",
              "17                       2022            1     3         Lima      Lima   \n",
              "18                       2022           10     5        Piura     Piura   \n",
              "19                       2022            1     2         Lima      Lima   \n",
              "\n",
              "                  Distrito  Numero de estacionamiento  Depositos    Latitud  \\\n",
              "0        Magdalena del Mar                          0          0 -12.120143   \n",
              "1   San Juan de Lurigancho                          1          0 -12.022509   \n",
              "2        Santiago de Surco                          1          0 -12.089686   \n",
              "3               Pachacamac                          0          1 -12.095758   \n",
              "4               San Isidro                          0          0 -12.015309   \n",
              "5              La Victoria                          0          0 -12.095764   \n",
              "6        Santiago de Surco                          1          0 -12.029741   \n",
              "7        Santiago de Surco                          1          0 -11.899533   \n",
              "8              La Victoria                          1          0 -12.076643   \n",
              "9                      Ate                          0          0  -5.185692   \n",
              "10                     Ate                          0          0 -12.119652   \n",
              "11                  Brenia                          0          0 -12.136353   \n",
              "12              San Isidro                          0          0 -12.052870   \n",
              "13               Huanchaco                          0          0  -8.111449   \n",
              "14              San Isidro                          1          0 -12.090449   \n",
              "15                     Ate                          0          0 -12.112711   \n",
              "16            Pueblo Libre                          0          0 -12.038434   \n",
              "17       Santiago de Surco                          0          0 -12.064683   \n",
              "18   Veintiseis de Octubre                          0          0 -12.062116   \n",
              "19       Santiago de Surco                          0          0 -12.121306   \n",
              "\n",
              "     Longitud  ...  Posicion Numero de frentes  Edad  Elevador  \\\n",
              "0  -77.023960  ...  Exterior                 2     3         1   \n",
              "1  -76.833715  ...  Exterior                 1    42         2   \n",
              "2  -77.068454  ...  Exterior                 1    16         2   \n",
              "3  -76.981323  ...  Exterior                -1    -1         2   \n",
              "4  -76.874213  ...  Exterior                 0     1         1   \n",
              "5  -77.023360  ...  Exterior                -1    27         2   \n",
              "6  -76.945582  ...  Exterior                -1     3         2   \n",
              "7  -77.057616  ...  Interior                 1     1         1   \n",
              "8  -77.050648  ...  Exterior                 1     2         2   \n",
              "9  -80.654541  ...  Exterior                 1     0         1   \n",
              "10 -77.005706  ...  Exterior                 1     0         2   \n",
              "11 -77.002325  ...  Exterior                -1     0         1   \n",
              "12 -77.006517  ...  Interior                 3     1         1   \n",
              "13 -79.026046  ...  Exterior                 1    -1         2   \n",
              "14 -77.018342  ...  Exterior                 2     1         2   \n",
              "15 -76.964334  ...  Exterior                 1    47         2   \n",
              "16 -76.957028  ...  Exterior                 1    12         1   \n",
              "17 -77.013660  ...  Exterior                 2     1         2   \n",
              "18 -76.949711  ...  Exterior                 1    56         0   \n",
              "19 -76.999737  ...  Interior                 1    48         2   \n",
              "\n",
              "    Estado de conservacion               Metodo Representado  \\\n",
              "0                    Bueno  Comparacion de mercado (directo)   \n",
              "1                  Regular     Costos o reposicion (directo)   \n",
              "2                    Bueno  Comparacion de mercado (directo)   \n",
              "3                    Bueno     Costos o reposicion (directo)   \n",
              "4                Muy bueno  Comparacion de mercado (directo)   \n",
              "5                    Bueno  Comparacion de mercado (directo)   \n",
              "6                    Bueno  Comparacion de mercado (directo)   \n",
              "7                Muy bueno  Comparacion de mercado (directo)   \n",
              "8                     Malo  Comparacion de mercado (directo)   \n",
              "9                    Bueno  Comparacion de mercado (directo)   \n",
              "10                   Bueno  Comparacion de mercado (directo)   \n",
              "11               Muy bueno  Comparacion de mercado (directo)   \n",
              "12               Muy bueno  Comparacion de mercado (directo)   \n",
              "13                   Bueno     Costos o reposicion (directo)   \n",
              "14               Muy bueno  Comparacion de mercado (directo)   \n",
              "15                   Bueno  Comparacion de mercado (directo)   \n",
              "16                   Bueno  Comparacion de mercado (directo)   \n",
              "17               Muy bueno  Comparacion de mercado (directo)   \n",
              "18                   Bueno     Costos o reposicion (directo)   \n",
              "19                   Bueno     Costos o reposicion (directo)   \n",
              "\n",
              "   Moneda principal para calculos Area Terreno  Area Construccion  \\\n",
              "0                             USD          0.0              81.56   \n",
              "1                             USD        410.0               0.00   \n",
              "2                             USD          0.0              90.13   \n",
              "3                             USD        120.0               0.00   \n",
              "4                             PEN          0.0              45.00   \n",
              "5                             USD          0.0              26.72   \n",
              "6                             PEN          0.0             155.03   \n",
              "7                             USD          0.0             177.87   \n",
              "8                             USD          0.0              88.12   \n",
              "9                             USD          0.0              69.09   \n",
              "10                            USD          0.0              71.96   \n",
              "11                            USD          0.0              91.00   \n",
              "12                            USD          0.0              45.05   \n",
              "13                            USD        140.0             140.00   \n",
              "14                            USD          0.0             167.77   \n",
              "15                            USD          0.0             123.35   \n",
              "16                            USD          0.0              75.80   \n",
              "17                            USD          0.0             149.58   \n",
              "18                            USD        200.0             333.58   \n",
              "19                            PEN        165.3             135.00   \n",
              "\n",
              "    Valor comercial  \n",
              "0        120,708.80  \n",
              "1        192,225.00  \n",
              "2        137,886.28  \n",
              "3         44,400.00  \n",
              "4        111,600.00  \n",
              "5        604,139.20  \n",
              "6        262,095.12  \n",
              "7        298,389.00  \n",
              "8        144,249.80  \n",
              "9        102,267.12  \n",
              "10       104,563.20  \n",
              "11       137,410.00  \n",
              "12       117,580.50  \n",
              "13        52,000.00  \n",
              "14       336,684.19  \n",
              "15       134,848.86  \n",
              "16       106,120.00  \n",
              "17       253,035.51  \n",
              "18       170,336.25  \n",
              "19       295,212.15  \n",
              "\n",
              "[20 rows x 21 columns]"
            ],
            "text/html": [
              "\n",
              "  <div id=\"df-6ad4ce75-eac8-4b0e-bada-f1e15a2863ba\">\n",
              "    <div class=\"colab-df-container\">\n",
              "      <div>\n",
              "<style scoped>\n",
              "    .dataframe tbody tr th:only-of-type {\n",
              "        vertical-align: middle;\n",
              "    }\n",
              "\n",
              "    .dataframe tbody tr th {\n",
              "        vertical-align: top;\n",
              "    }\n",
              "\n",
              "    .dataframe thead th {\n",
              "        text-align: right;\n",
              "    }\n",
              "</style>\n",
              "<table border=\"1\" class=\"dataframe\">\n",
              "  <thead>\n",
              "    <tr style=\"text-align: right;\">\n",
              "      <th></th>\n",
              "      <th>Fecha entrega del Informe</th>\n",
              "      <th>Tipo de via</th>\n",
              "      <th>Piso</th>\n",
              "      <th>Departamento</th>\n",
              "      <th>Provincia</th>\n",
              "      <th>Distrito</th>\n",
              "      <th>Numero de estacionamiento</th>\n",
              "      <th>Depositos</th>\n",
              "      <th>Latitud</th>\n",
              "      <th>Longitud</th>\n",
              "      <th>...</th>\n",
              "      <th>Posicion</th>\n",
              "      <th>Numero de frentes</th>\n",
              "      <th>Edad</th>\n",
              "      <th>Elevador</th>\n",
              "      <th>Estado de conservacion</th>\n",
              "      <th>Metodo Representado</th>\n",
              "      <th>Moneda principal para calculos</th>\n",
              "      <th>Area Terreno</th>\n",
              "      <th>Area Construccion</th>\n",
              "      <th>Valor comercial</th>\n",
              "    </tr>\n",
              "  </thead>\n",
              "  <tbody>\n",
              "    <tr>\n",
              "      <th>0</th>\n",
              "      <td>2022</td>\n",
              "      <td>2</td>\n",
              "      <td>1</td>\n",
              "      <td>Lima</td>\n",
              "      <td>Lima</td>\n",
              "      <td>Magdalena del Mar</td>\n",
              "      <td>0</td>\n",
              "      <td>0</td>\n",
              "      <td>-12.120143</td>\n",
              "      <td>-77.023960</td>\n",
              "      <td>...</td>\n",
              "      <td>Exterior</td>\n",
              "      <td>2</td>\n",
              "      <td>3</td>\n",
              "      <td>1</td>\n",
              "      <td>Bueno</td>\n",
              "      <td>Comparacion de mercado (directo)</td>\n",
              "      <td>USD</td>\n",
              "      <td>0.0</td>\n",
              "      <td>81.56</td>\n",
              "      <td>120,708.80</td>\n",
              "    </tr>\n",
              "    <tr>\n",
              "      <th>1</th>\n",
              "      <td>2022</td>\n",
              "      <td>6</td>\n",
              "      <td>4</td>\n",
              "      <td>Lima</td>\n",
              "      <td>Lima</td>\n",
              "      <td>San Juan de Lurigancho</td>\n",
              "      <td>1</td>\n",
              "      <td>0</td>\n",
              "      <td>-12.022509</td>\n",
              "      <td>-76.833715</td>\n",
              "      <td>...</td>\n",
              "      <td>Exterior</td>\n",
              "      <td>1</td>\n",
              "      <td>42</td>\n",
              "      <td>2</td>\n",
              "      <td>Regular</td>\n",
              "      <td>Costos o reposicion (directo)</td>\n",
              "      <td>USD</td>\n",
              "      <td>410.0</td>\n",
              "      <td>0.00</td>\n",
              "      <td>192,225.00</td>\n",
              "    </tr>\n",
              "    <tr>\n",
              "      <th>2</th>\n",
              "      <td>2022</td>\n",
              "      <td>2</td>\n",
              "      <td>5</td>\n",
              "      <td>Lima</td>\n",
              "      <td>Lima</td>\n",
              "      <td>Santiago de Surco</td>\n",
              "      <td>1</td>\n",
              "      <td>0</td>\n",
              "      <td>-12.089686</td>\n",
              "      <td>-77.068454</td>\n",
              "      <td>...</td>\n",
              "      <td>Exterior</td>\n",
              "      <td>1</td>\n",
              "      <td>16</td>\n",
              "      <td>2</td>\n",
              "      <td>Bueno</td>\n",
              "      <td>Comparacion de mercado (directo)</td>\n",
              "      <td>USD</td>\n",
              "      <td>0.0</td>\n",
              "      <td>90.13</td>\n",
              "      <td>137,886.28</td>\n",
              "    </tr>\n",
              "    <tr>\n",
              "      <th>3</th>\n",
              "      <td>2022</td>\n",
              "      <td>10</td>\n",
              "      <td>2</td>\n",
              "      <td>Lima</td>\n",
              "      <td>Lima</td>\n",
              "      <td>Pachacamac</td>\n",
              "      <td>0</td>\n",
              "      <td>1</td>\n",
              "      <td>-12.095758</td>\n",
              "      <td>-76.981323</td>\n",
              "      <td>...</td>\n",
              "      <td>Exterior</td>\n",
              "      <td>-1</td>\n",
              "      <td>-1</td>\n",
              "      <td>2</td>\n",
              "      <td>Bueno</td>\n",
              "      <td>Costos o reposicion (directo)</td>\n",
              "      <td>USD</td>\n",
              "      <td>120.0</td>\n",
              "      <td>0.00</td>\n",
              "      <td>44,400.00</td>\n",
              "    </tr>\n",
              "    <tr>\n",
              "      <th>4</th>\n",
              "      <td>2022</td>\n",
              "      <td>1</td>\n",
              "      <td>3</td>\n",
              "      <td>Lima</td>\n",
              "      <td>Lima</td>\n",
              "      <td>San Isidro</td>\n",
              "      <td>0</td>\n",
              "      <td>0</td>\n",
              "      <td>-12.015309</td>\n",
              "      <td>-76.874213</td>\n",
              "      <td>...</td>\n",
              "      <td>Exterior</td>\n",
              "      <td>0</td>\n",
              "      <td>1</td>\n",
              "      <td>1</td>\n",
              "      <td>Muy bueno</td>\n",
              "      <td>Comparacion de mercado (directo)</td>\n",
              "      <td>PEN</td>\n",
              "      <td>0.0</td>\n",
              "      <td>45.00</td>\n",
              "      <td>111,600.00</td>\n",
              "    </tr>\n",
              "    <tr>\n",
              "      <th>5</th>\n",
              "      <td>2022</td>\n",
              "      <td>2</td>\n",
              "      <td>2</td>\n",
              "      <td>Lima</td>\n",
              "      <td>Lima</td>\n",
              "      <td>La Victoria</td>\n",
              "      <td>0</td>\n",
              "      <td>0</td>\n",
              "      <td>-12.095764</td>\n",
              "      <td>-77.023360</td>\n",
              "      <td>...</td>\n",
              "      <td>Exterior</td>\n",
              "      <td>-1</td>\n",
              "      <td>27</td>\n",
              "      <td>2</td>\n",
              "      <td>Bueno</td>\n",
              "      <td>Comparacion de mercado (directo)</td>\n",
              "      <td>USD</td>\n",
              "      <td>0.0</td>\n",
              "      <td>26.72</td>\n",
              "      <td>604,139.20</td>\n",
              "    </tr>\n",
              "    <tr>\n",
              "      <th>6</th>\n",
              "      <td>2022</td>\n",
              "      <td>3</td>\n",
              "      <td>2</td>\n",
              "      <td>Lima</td>\n",
              "      <td>Lima</td>\n",
              "      <td>Santiago de Surco</td>\n",
              "      <td>1</td>\n",
              "      <td>0</td>\n",
              "      <td>-12.029741</td>\n",
              "      <td>-76.945582</td>\n",
              "      <td>...</td>\n",
              "      <td>Exterior</td>\n",
              "      <td>-1</td>\n",
              "      <td>3</td>\n",
              "      <td>2</td>\n",
              "      <td>Bueno</td>\n",
              "      <td>Comparacion de mercado (directo)</td>\n",
              "      <td>PEN</td>\n",
              "      <td>0.0</td>\n",
              "      <td>155.03</td>\n",
              "      <td>262,095.12</td>\n",
              "    </tr>\n",
              "    <tr>\n",
              "      <th>7</th>\n",
              "      <td>2022</td>\n",
              "      <td>1</td>\n",
              "      <td>2</td>\n",
              "      <td>Lima</td>\n",
              "      <td>Lima</td>\n",
              "      <td>Santiago de Surco</td>\n",
              "      <td>1</td>\n",
              "      <td>0</td>\n",
              "      <td>-11.899533</td>\n",
              "      <td>-77.057616</td>\n",
              "      <td>...</td>\n",
              "      <td>Interior</td>\n",
              "      <td>1</td>\n",
              "      <td>1</td>\n",
              "      <td>1</td>\n",
              "      <td>Muy bueno</td>\n",
              "      <td>Comparacion de mercado (directo)</td>\n",
              "      <td>USD</td>\n",
              "      <td>0.0</td>\n",
              "      <td>177.87</td>\n",
              "      <td>298,389.00</td>\n",
              "    </tr>\n",
              "    <tr>\n",
              "      <th>8</th>\n",
              "      <td>2022</td>\n",
              "      <td>3</td>\n",
              "      <td>1</td>\n",
              "      <td>Lima</td>\n",
              "      <td>Lima</td>\n",
              "      <td>La Victoria</td>\n",
              "      <td>1</td>\n",
              "      <td>0</td>\n",
              "      <td>-12.076643</td>\n",
              "      <td>-77.050648</td>\n",
              "      <td>...</td>\n",
              "      <td>Exterior</td>\n",
              "      <td>1</td>\n",
              "      <td>2</td>\n",
              "      <td>2</td>\n",
              "      <td>Malo</td>\n",
              "      <td>Comparacion de mercado (directo)</td>\n",
              "      <td>USD</td>\n",
              "      <td>0.0</td>\n",
              "      <td>88.12</td>\n",
              "      <td>144,249.80</td>\n",
              "    </tr>\n",
              "    <tr>\n",
              "      <th>9</th>\n",
              "      <td>2022</td>\n",
              "      <td>1</td>\n",
              "      <td>4</td>\n",
              "      <td>Lima</td>\n",
              "      <td>Lima</td>\n",
              "      <td>Ate</td>\n",
              "      <td>0</td>\n",
              "      <td>0</td>\n",
              "      <td>-5.185692</td>\n",
              "      <td>-80.654541</td>\n",
              "      <td>...</td>\n",
              "      <td>Exterior</td>\n",
              "      <td>1</td>\n",
              "      <td>0</td>\n",
              "      <td>1</td>\n",
              "      <td>Bueno</td>\n",
              "      <td>Comparacion de mercado (directo)</td>\n",
              "      <td>USD</td>\n",
              "      <td>0.0</td>\n",
              "      <td>69.09</td>\n",
              "      <td>102,267.12</td>\n",
              "    </tr>\n",
              "    <tr>\n",
              "      <th>10</th>\n",
              "      <td>2022</td>\n",
              "      <td>1</td>\n",
              "      <td>5</td>\n",
              "      <td>Lima</td>\n",
              "      <td>Lima</td>\n",
              "      <td>Ate</td>\n",
              "      <td>0</td>\n",
              "      <td>0</td>\n",
              "      <td>-12.119652</td>\n",
              "      <td>-77.005706</td>\n",
              "      <td>...</td>\n",
              "      <td>Exterior</td>\n",
              "      <td>1</td>\n",
              "      <td>0</td>\n",
              "      <td>2</td>\n",
              "      <td>Bueno</td>\n",
              "      <td>Comparacion de mercado (directo)</td>\n",
              "      <td>USD</td>\n",
              "      <td>0.0</td>\n",
              "      <td>71.96</td>\n",
              "      <td>104,563.20</td>\n",
              "    </tr>\n",
              "    <tr>\n",
              "      <th>11</th>\n",
              "      <td>2022</td>\n",
              "      <td>2</td>\n",
              "      <td>1</td>\n",
              "      <td>Lima</td>\n",
              "      <td>Lima</td>\n",
              "      <td>Brenia</td>\n",
              "      <td>0</td>\n",
              "      <td>0</td>\n",
              "      <td>-12.136353</td>\n",
              "      <td>-77.002325</td>\n",
              "      <td>...</td>\n",
              "      <td>Exterior</td>\n",
              "      <td>-1</td>\n",
              "      <td>0</td>\n",
              "      <td>1</td>\n",
              "      <td>Muy bueno</td>\n",
              "      <td>Comparacion de mercado (directo)</td>\n",
              "      <td>USD</td>\n",
              "      <td>0.0</td>\n",
              "      <td>91.00</td>\n",
              "      <td>137,410.00</td>\n",
              "    </tr>\n",
              "    <tr>\n",
              "      <th>12</th>\n",
              "      <td>2022</td>\n",
              "      <td>1</td>\n",
              "      <td>1</td>\n",
              "      <td>Lima</td>\n",
              "      <td>Lima</td>\n",
              "      <td>San Isidro</td>\n",
              "      <td>0</td>\n",
              "      <td>0</td>\n",
              "      <td>-12.052870</td>\n",
              "      <td>-77.006517</td>\n",
              "      <td>...</td>\n",
              "      <td>Interior</td>\n",
              "      <td>3</td>\n",
              "      <td>1</td>\n",
              "      <td>1</td>\n",
              "      <td>Muy bueno</td>\n",
              "      <td>Comparacion de mercado (directo)</td>\n",
              "      <td>USD</td>\n",
              "      <td>0.0</td>\n",
              "      <td>45.05</td>\n",
              "      <td>117,580.50</td>\n",
              "    </tr>\n",
              "    <tr>\n",
              "      <th>13</th>\n",
              "      <td>2022</td>\n",
              "      <td>10</td>\n",
              "      <td>2</td>\n",
              "      <td>La Libertad</td>\n",
              "      <td>Trujillo</td>\n",
              "      <td>Huanchaco</td>\n",
              "      <td>0</td>\n",
              "      <td>0</td>\n",
              "      <td>-8.111449</td>\n",
              "      <td>-79.026046</td>\n",
              "      <td>...</td>\n",
              "      <td>Exterior</td>\n",
              "      <td>1</td>\n",
              "      <td>-1</td>\n",
              "      <td>2</td>\n",
              "      <td>Bueno</td>\n",
              "      <td>Costos o reposicion (directo)</td>\n",
              "      <td>USD</td>\n",
              "      <td>140.0</td>\n",
              "      <td>140.00</td>\n",
              "      <td>52,000.00</td>\n",
              "    </tr>\n",
              "    <tr>\n",
              "      <th>14</th>\n",
              "      <td>2022</td>\n",
              "      <td>1</td>\n",
              "      <td>3</td>\n",
              "      <td>Lima</td>\n",
              "      <td>Lima</td>\n",
              "      <td>San Isidro</td>\n",
              "      <td>1</td>\n",
              "      <td>0</td>\n",
              "      <td>-12.090449</td>\n",
              "      <td>-77.018342</td>\n",
              "      <td>...</td>\n",
              "      <td>Exterior</td>\n",
              "      <td>2</td>\n",
              "      <td>1</td>\n",
              "      <td>2</td>\n",
              "      <td>Muy bueno</td>\n",
              "      <td>Comparacion de mercado (directo)</td>\n",
              "      <td>USD</td>\n",
              "      <td>0.0</td>\n",
              "      <td>167.77</td>\n",
              "      <td>336,684.19</td>\n",
              "    </tr>\n",
              "    <tr>\n",
              "      <th>15</th>\n",
              "      <td>2022</td>\n",
              "      <td>1</td>\n",
              "      <td>4</td>\n",
              "      <td>Lima</td>\n",
              "      <td>Lima</td>\n",
              "      <td>Ate</td>\n",
              "      <td>0</td>\n",
              "      <td>0</td>\n",
              "      <td>-12.112711</td>\n",
              "      <td>-76.964334</td>\n",
              "      <td>...</td>\n",
              "      <td>Exterior</td>\n",
              "      <td>1</td>\n",
              "      <td>47</td>\n",
              "      <td>2</td>\n",
              "      <td>Bueno</td>\n",
              "      <td>Comparacion de mercado (directo)</td>\n",
              "      <td>USD</td>\n",
              "      <td>0.0</td>\n",
              "      <td>123.35</td>\n",
              "      <td>134,848.86</td>\n",
              "    </tr>\n",
              "    <tr>\n",
              "      <th>16</th>\n",
              "      <td>2022</td>\n",
              "      <td>3</td>\n",
              "      <td>4</td>\n",
              "      <td>Lima</td>\n",
              "      <td>Lima</td>\n",
              "      <td>Pueblo Libre</td>\n",
              "      <td>0</td>\n",
              "      <td>0</td>\n",
              "      <td>-12.038434</td>\n",
              "      <td>-76.957028</td>\n",
              "      <td>...</td>\n",
              "      <td>Exterior</td>\n",
              "      <td>1</td>\n",
              "      <td>12</td>\n",
              "      <td>1</td>\n",
              "      <td>Bueno</td>\n",
              "      <td>Comparacion de mercado (directo)</td>\n",
              "      <td>USD</td>\n",
              "      <td>0.0</td>\n",
              "      <td>75.80</td>\n",
              "      <td>106,120.00</td>\n",
              "    </tr>\n",
              "    <tr>\n",
              "      <th>17</th>\n",
              "      <td>2022</td>\n",
              "      <td>1</td>\n",
              "      <td>3</td>\n",
              "      <td>Lima</td>\n",
              "      <td>Lima</td>\n",
              "      <td>Santiago de Surco</td>\n",
              "      <td>0</td>\n",
              "      <td>0</td>\n",
              "      <td>-12.064683</td>\n",
              "      <td>-77.013660</td>\n",
              "      <td>...</td>\n",
              "      <td>Exterior</td>\n",
              "      <td>2</td>\n",
              "      <td>1</td>\n",
              "      <td>2</td>\n",
              "      <td>Muy bueno</td>\n",
              "      <td>Comparacion de mercado (directo)</td>\n",
              "      <td>USD</td>\n",
              "      <td>0.0</td>\n",
              "      <td>149.58</td>\n",
              "      <td>253,035.51</td>\n",
              "    </tr>\n",
              "    <tr>\n",
              "      <th>18</th>\n",
              "      <td>2022</td>\n",
              "      <td>10</td>\n",
              "      <td>5</td>\n",
              "      <td>Piura</td>\n",
              "      <td>Piura</td>\n",
              "      <td>Veintiseis de Octubre</td>\n",
              "      <td>0</td>\n",
              "      <td>0</td>\n",
              "      <td>-12.062116</td>\n",
              "      <td>-76.949711</td>\n",
              "      <td>...</td>\n",
              "      <td>Exterior</td>\n",
              "      <td>1</td>\n",
              "      <td>56</td>\n",
              "      <td>0</td>\n",
              "      <td>Bueno</td>\n",
              "      <td>Costos o reposicion (directo)</td>\n",
              "      <td>USD</td>\n",
              "      <td>200.0</td>\n",
              "      <td>333.58</td>\n",
              "      <td>170,336.25</td>\n",
              "    </tr>\n",
              "    <tr>\n",
              "      <th>19</th>\n",
              "      <td>2022</td>\n",
              "      <td>1</td>\n",
              "      <td>2</td>\n",
              "      <td>Lima</td>\n",
              "      <td>Lima</td>\n",
              "      <td>Santiago de Surco</td>\n",
              "      <td>0</td>\n",
              "      <td>0</td>\n",
              "      <td>-12.121306</td>\n",
              "      <td>-76.999737</td>\n",
              "      <td>...</td>\n",
              "      <td>Interior</td>\n",
              "      <td>1</td>\n",
              "      <td>48</td>\n",
              "      <td>2</td>\n",
              "      <td>Bueno</td>\n",
              "      <td>Costos o reposicion (directo)</td>\n",
              "      <td>PEN</td>\n",
              "      <td>165.3</td>\n",
              "      <td>135.00</td>\n",
              "      <td>295,212.15</td>\n",
              "    </tr>\n",
              "  </tbody>\n",
              "</table>\n",
              "<p>20 rows × 21 columns</p>\n",
              "</div>\n",
              "      <button class=\"colab-df-convert\" onclick=\"convertToInteractive('df-6ad4ce75-eac8-4b0e-bada-f1e15a2863ba')\"\n",
              "              title=\"Convert this dataframe to an interactive table.\"\n",
              "              style=\"display:none;\">\n",
              "        \n",
              "  <svg xmlns=\"http://www.w3.org/2000/svg\" height=\"24px\"viewBox=\"0 0 24 24\"\n",
              "       width=\"24px\">\n",
              "    <path d=\"M0 0h24v24H0V0z\" fill=\"none\"/>\n",
              "    <path d=\"M18.56 5.44l.94 2.06.94-2.06 2.06-.94-2.06-.94-.94-2.06-.94 2.06-2.06.94zm-11 1L8.5 8.5l.94-2.06 2.06-.94-2.06-.94L8.5 2.5l-.94 2.06-2.06.94zm10 10l.94 2.06.94-2.06 2.06-.94-2.06-.94-.94-2.06-.94 2.06-2.06.94z\"/><path d=\"M17.41 7.96l-1.37-1.37c-.4-.4-.92-.59-1.43-.59-.52 0-1.04.2-1.43.59L10.3 9.45l-7.72 7.72c-.78.78-.78 2.05 0 2.83L4 21.41c.39.39.9.59 1.41.59.51 0 1.02-.2 1.41-.59l7.78-7.78 2.81-2.81c.8-.78.8-2.07 0-2.86zM5.41 20L4 18.59l7.72-7.72 1.47 1.35L5.41 20z\"/>\n",
              "  </svg>\n",
              "      </button>\n",
              "      \n",
              "  <style>\n",
              "    .colab-df-container {\n",
              "      display:flex;\n",
              "      flex-wrap:wrap;\n",
              "      gap: 12px;\n",
              "    }\n",
              "\n",
              "    .colab-df-convert {\n",
              "      background-color: #E8F0FE;\n",
              "      border: none;\n",
              "      border-radius: 50%;\n",
              "      cursor: pointer;\n",
              "      display: none;\n",
              "      fill: #1967D2;\n",
              "      height: 32px;\n",
              "      padding: 0 0 0 0;\n",
              "      width: 32px;\n",
              "    }\n",
              "\n",
              "    .colab-df-convert:hover {\n",
              "      background-color: #E2EBFA;\n",
              "      box-shadow: 0px 1px 2px rgba(60, 64, 67, 0.3), 0px 1px 3px 1px rgba(60, 64, 67, 0.15);\n",
              "      fill: #174EA6;\n",
              "    }\n",
              "\n",
              "    [theme=dark] .colab-df-convert {\n",
              "      background-color: #3B4455;\n",
              "      fill: #D2E3FC;\n",
              "    }\n",
              "\n",
              "    [theme=dark] .colab-df-convert:hover {\n",
              "      background-color: #434B5C;\n",
              "      box-shadow: 0px 1px 3px 1px rgba(0, 0, 0, 0.15);\n",
              "      filter: drop-shadow(0px 1px 2px rgba(0, 0, 0, 0.3));\n",
              "      fill: #FFFFFF;\n",
              "    }\n",
              "  </style>\n",
              "\n",
              "      <script>\n",
              "        const buttonEl =\n",
              "          document.querySelector('#df-6ad4ce75-eac8-4b0e-bada-f1e15a2863ba button.colab-df-convert');\n",
              "        buttonEl.style.display =\n",
              "          google.colab.kernel.accessAllowed ? 'block' : 'none';\n",
              "\n",
              "        async function convertToInteractive(key) {\n",
              "          const element = document.querySelector('#df-6ad4ce75-eac8-4b0e-bada-f1e15a2863ba');\n",
              "          const dataTable =\n",
              "            await google.colab.kernel.invokeFunction('convertToInteractive',\n",
              "                                                     [key], {});\n",
              "          if (!dataTable) return;\n",
              "\n",
              "          const docLinkHtml = 'Like what you see? Visit the ' +\n",
              "            '<a target=\"_blank\" href=https://colab.research.google.com/notebooks/data_table.ipynb>data table notebook</a>'\n",
              "            + ' to learn more about interactive tables.';\n",
              "          element.innerHTML = '';\n",
              "          dataTable['output_type'] = 'display_data';\n",
              "          await google.colab.output.renderOutput(dataTable, element);\n",
              "          const docLink = document.createElement('div');\n",
              "          docLink.innerHTML = docLinkHtml;\n",
              "          element.appendChild(docLink);\n",
              "        }\n",
              "      </script>\n",
              "    </div>\n",
              "  </div>\n",
              "  "
            ]
          },
          "metadata": {},
          "execution_count": 5
        }
      ],
      "source": [
        "df = pd.read_csv(path)\n",
        "df.head(20)"
      ]
    },
    {
      "cell_type": "markdown",
      "metadata": {
        "id": "FrrLXNsf4zYX"
      },
      "source": [
        "# *Descripción de datos*\n",
        "\n",
        "*   Distinción de valores numericos y no numericos\n",
        "*   Rangos entre cada variable\n",
        "\n",
        "\n"
      ]
    },
    {
      "cell_type": "code",
      "execution_count": null,
      "metadata": {
        "colab": {
          "base_uri": "https://localhost:8080/",
          "height": 416
        },
        "id": "V6fWYUE9452-",
        "outputId": "4b08a7d9-0048-4657-ad53-5673d87734e5"
      },
      "outputs": [
        {
          "output_type": "execute_result",
          "data": {
            "text/plain": [
              "       Fecha entrega del Informe  Tipo de via       Piso  \\\n",
              "count                       20.0    20.000000  20.000000   \n",
              "mean                      2022.0     3.100000   2.800000   \n",
              "std                          0.0     3.210181   1.399248   \n",
              "min                       2022.0     1.000000   1.000000   \n",
              "25%                       2022.0     1.000000   2.000000   \n",
              "50%                       2022.0     2.000000   2.500000   \n",
              "75%                       2022.0     3.000000   4.000000   \n",
              "max                       2022.0    10.000000   5.000000   \n",
              "\n",
              "       Numero de estacionamiento  Depositos    Latitud   Longitud  \\\n",
              "count                  20.000000  20.000000  20.000000  20.000000   \n",
              "mean                    0.300000   0.050000 -11.527040 -77.272841   \n",
              "std                     0.470162   0.223607   1.735406   0.918707   \n",
              "min                     0.000000   0.000000 -12.136353 -80.654541   \n",
              "25%                     0.000000   0.000000 -12.100001 -77.030632   \n",
              "50%                     0.000000   0.000000 -12.070663 -77.006111   \n",
              "75%                     1.000000   0.000000 -12.027933 -76.962508   \n",
              "max                     1.000000   1.000000  -5.185692 -76.833715   \n",
              "\n",
              "       Numero de frentes       Edad   Elevador  Area Terreno  \\\n",
              "count          20.000000  20.000000  20.000000     20.000000   \n",
              "mean            0.800000  12.950000   1.550000     51.765000   \n",
              "std             1.105013  19.489471   0.604805    106.581273   \n",
              "min            -1.000000  -1.000000   0.000000      0.000000   \n",
              "25%             0.750000   0.750000   1.000000      0.000000   \n",
              "50%             1.000000   1.500000   2.000000      0.000000   \n",
              "75%             1.000000  18.750000   2.000000     30.000000   \n",
              "max             3.000000  56.000000   2.000000    410.000000   \n",
              "\n",
              "       Area Construccion  \n",
              "count          20.000000  \n",
              "mean          103.330500  \n",
              "std            75.481729  \n",
              "min             0.000000  \n",
              "25%            63.080000  \n",
              "50%            89.125000  \n",
              "75%           142.395000  \n",
              "max           333.580000  "
            ],
            "text/html": [
              "\n",
              "  <div id=\"df-581560c0-2cbe-4d90-abe1-9c03fb32ba48\">\n",
              "    <div class=\"colab-df-container\">\n",
              "      <div>\n",
              "<style scoped>\n",
              "    .dataframe tbody tr th:only-of-type {\n",
              "        vertical-align: middle;\n",
              "    }\n",
              "\n",
              "    .dataframe tbody tr th {\n",
              "        vertical-align: top;\n",
              "    }\n",
              "\n",
              "    .dataframe thead th {\n",
              "        text-align: right;\n",
              "    }\n",
              "</style>\n",
              "<table border=\"1\" class=\"dataframe\">\n",
              "  <thead>\n",
              "    <tr style=\"text-align: right;\">\n",
              "      <th></th>\n",
              "      <th>Fecha entrega del Informe</th>\n",
              "      <th>Tipo de via</th>\n",
              "      <th>Piso</th>\n",
              "      <th>Numero de estacionamiento</th>\n",
              "      <th>Depositos</th>\n",
              "      <th>Latitud</th>\n",
              "      <th>Longitud</th>\n",
              "      <th>Numero de frentes</th>\n",
              "      <th>Edad</th>\n",
              "      <th>Elevador</th>\n",
              "      <th>Area Terreno</th>\n",
              "      <th>Area Construccion</th>\n",
              "    </tr>\n",
              "  </thead>\n",
              "  <tbody>\n",
              "    <tr>\n",
              "      <th>count</th>\n",
              "      <td>20.0</td>\n",
              "      <td>20.000000</td>\n",
              "      <td>20.000000</td>\n",
              "      <td>20.000000</td>\n",
              "      <td>20.000000</td>\n",
              "      <td>20.000000</td>\n",
              "      <td>20.000000</td>\n",
              "      <td>20.000000</td>\n",
              "      <td>20.000000</td>\n",
              "      <td>20.000000</td>\n",
              "      <td>20.000000</td>\n",
              "      <td>20.000000</td>\n",
              "    </tr>\n",
              "    <tr>\n",
              "      <th>mean</th>\n",
              "      <td>2022.0</td>\n",
              "      <td>3.100000</td>\n",
              "      <td>2.800000</td>\n",
              "      <td>0.300000</td>\n",
              "      <td>0.050000</td>\n",
              "      <td>-11.527040</td>\n",
              "      <td>-77.272841</td>\n",
              "      <td>0.800000</td>\n",
              "      <td>12.950000</td>\n",
              "      <td>1.550000</td>\n",
              "      <td>51.765000</td>\n",
              "      <td>103.330500</td>\n",
              "    </tr>\n",
              "    <tr>\n",
              "      <th>std</th>\n",
              "      <td>0.0</td>\n",
              "      <td>3.210181</td>\n",
              "      <td>1.399248</td>\n",
              "      <td>0.470162</td>\n",
              "      <td>0.223607</td>\n",
              "      <td>1.735406</td>\n",
              "      <td>0.918707</td>\n",
              "      <td>1.105013</td>\n",
              "      <td>19.489471</td>\n",
              "      <td>0.604805</td>\n",
              "      <td>106.581273</td>\n",
              "      <td>75.481729</td>\n",
              "    </tr>\n",
              "    <tr>\n",
              "      <th>min</th>\n",
              "      <td>2022.0</td>\n",
              "      <td>1.000000</td>\n",
              "      <td>1.000000</td>\n",
              "      <td>0.000000</td>\n",
              "      <td>0.000000</td>\n",
              "      <td>-12.136353</td>\n",
              "      <td>-80.654541</td>\n",
              "      <td>-1.000000</td>\n",
              "      <td>-1.000000</td>\n",
              "      <td>0.000000</td>\n",
              "      <td>0.000000</td>\n",
              "      <td>0.000000</td>\n",
              "    </tr>\n",
              "    <tr>\n",
              "      <th>25%</th>\n",
              "      <td>2022.0</td>\n",
              "      <td>1.000000</td>\n",
              "      <td>2.000000</td>\n",
              "      <td>0.000000</td>\n",
              "      <td>0.000000</td>\n",
              "      <td>-12.100001</td>\n",
              "      <td>-77.030632</td>\n",
              "      <td>0.750000</td>\n",
              "      <td>0.750000</td>\n",
              "      <td>1.000000</td>\n",
              "      <td>0.000000</td>\n",
              "      <td>63.080000</td>\n",
              "    </tr>\n",
              "    <tr>\n",
              "      <th>50%</th>\n",
              "      <td>2022.0</td>\n",
              "      <td>2.000000</td>\n",
              "      <td>2.500000</td>\n",
              "      <td>0.000000</td>\n",
              "      <td>0.000000</td>\n",
              "      <td>-12.070663</td>\n",
              "      <td>-77.006111</td>\n",
              "      <td>1.000000</td>\n",
              "      <td>1.500000</td>\n",
              "      <td>2.000000</td>\n",
              "      <td>0.000000</td>\n",
              "      <td>89.125000</td>\n",
              "    </tr>\n",
              "    <tr>\n",
              "      <th>75%</th>\n",
              "      <td>2022.0</td>\n",
              "      <td>3.000000</td>\n",
              "      <td>4.000000</td>\n",
              "      <td>1.000000</td>\n",
              "      <td>0.000000</td>\n",
              "      <td>-12.027933</td>\n",
              "      <td>-76.962508</td>\n",
              "      <td>1.000000</td>\n",
              "      <td>18.750000</td>\n",
              "      <td>2.000000</td>\n",
              "      <td>30.000000</td>\n",
              "      <td>142.395000</td>\n",
              "    </tr>\n",
              "    <tr>\n",
              "      <th>max</th>\n",
              "      <td>2022.0</td>\n",
              "      <td>10.000000</td>\n",
              "      <td>5.000000</td>\n",
              "      <td>1.000000</td>\n",
              "      <td>1.000000</td>\n",
              "      <td>-5.185692</td>\n",
              "      <td>-76.833715</td>\n",
              "      <td>3.000000</td>\n",
              "      <td>56.000000</td>\n",
              "      <td>2.000000</td>\n",
              "      <td>410.000000</td>\n",
              "      <td>333.580000</td>\n",
              "    </tr>\n",
              "  </tbody>\n",
              "</table>\n",
              "</div>\n",
              "      <button class=\"colab-df-convert\" onclick=\"convertToInteractive('df-581560c0-2cbe-4d90-abe1-9c03fb32ba48')\"\n",
              "              title=\"Convert this dataframe to an interactive table.\"\n",
              "              style=\"display:none;\">\n",
              "        \n",
              "  <svg xmlns=\"http://www.w3.org/2000/svg\" height=\"24px\"viewBox=\"0 0 24 24\"\n",
              "       width=\"24px\">\n",
              "    <path d=\"M0 0h24v24H0V0z\" fill=\"none\"/>\n",
              "    <path d=\"M18.56 5.44l.94 2.06.94-2.06 2.06-.94-2.06-.94-.94-2.06-.94 2.06-2.06.94zm-11 1L8.5 8.5l.94-2.06 2.06-.94-2.06-.94L8.5 2.5l-.94 2.06-2.06.94zm10 10l.94 2.06.94-2.06 2.06-.94-2.06-.94-.94-2.06-.94 2.06-2.06.94z\"/><path d=\"M17.41 7.96l-1.37-1.37c-.4-.4-.92-.59-1.43-.59-.52 0-1.04.2-1.43.59L10.3 9.45l-7.72 7.72c-.78.78-.78 2.05 0 2.83L4 21.41c.39.39.9.59 1.41.59.51 0 1.02-.2 1.41-.59l7.78-7.78 2.81-2.81c.8-.78.8-2.07 0-2.86zM5.41 20L4 18.59l7.72-7.72 1.47 1.35L5.41 20z\"/>\n",
              "  </svg>\n",
              "      </button>\n",
              "      \n",
              "  <style>\n",
              "    .colab-df-container {\n",
              "      display:flex;\n",
              "      flex-wrap:wrap;\n",
              "      gap: 12px;\n",
              "    }\n",
              "\n",
              "    .colab-df-convert {\n",
              "      background-color: #E8F0FE;\n",
              "      border: none;\n",
              "      border-radius: 50%;\n",
              "      cursor: pointer;\n",
              "      display: none;\n",
              "      fill: #1967D2;\n",
              "      height: 32px;\n",
              "      padding: 0 0 0 0;\n",
              "      width: 32px;\n",
              "    }\n",
              "\n",
              "    .colab-df-convert:hover {\n",
              "      background-color: #E2EBFA;\n",
              "      box-shadow: 0px 1px 2px rgba(60, 64, 67, 0.3), 0px 1px 3px 1px rgba(60, 64, 67, 0.15);\n",
              "      fill: #174EA6;\n",
              "    }\n",
              "\n",
              "    [theme=dark] .colab-df-convert {\n",
              "      background-color: #3B4455;\n",
              "      fill: #D2E3FC;\n",
              "    }\n",
              "\n",
              "    [theme=dark] .colab-df-convert:hover {\n",
              "      background-color: #434B5C;\n",
              "      box-shadow: 0px 1px 3px 1px rgba(0, 0, 0, 0.15);\n",
              "      filter: drop-shadow(0px 1px 2px rgba(0, 0, 0, 0.3));\n",
              "      fill: #FFFFFF;\n",
              "    }\n",
              "  </style>\n",
              "\n",
              "      <script>\n",
              "        const buttonEl =\n",
              "          document.querySelector('#df-581560c0-2cbe-4d90-abe1-9c03fb32ba48 button.colab-df-convert');\n",
              "        buttonEl.style.display =\n",
              "          google.colab.kernel.accessAllowed ? 'block' : 'none';\n",
              "\n",
              "        async function convertToInteractive(key) {\n",
              "          const element = document.querySelector('#df-581560c0-2cbe-4d90-abe1-9c03fb32ba48');\n",
              "          const dataTable =\n",
              "            await google.colab.kernel.invokeFunction('convertToInteractive',\n",
              "                                                     [key], {});\n",
              "          if (!dataTable) return;\n",
              "\n",
              "          const docLinkHtml = 'Like what you see? Visit the ' +\n",
              "            '<a target=\"_blank\" href=https://colab.research.google.com/notebooks/data_table.ipynb>data table notebook</a>'\n",
              "            + ' to learn more about interactive tables.';\n",
              "          element.innerHTML = '';\n",
              "          dataTable['output_type'] = 'display_data';\n",
              "          await google.colab.output.renderOutput(dataTable, element);\n",
              "          const docLink = document.createElement('div');\n",
              "          docLink.innerHTML = docLinkHtml;\n",
              "          element.appendChild(docLink);\n",
              "        }\n",
              "      </script>\n",
              "    </div>\n",
              "  </div>\n",
              "  "
            ]
          },
          "metadata": {},
          "execution_count": 63
        }
      ],
      "source": [
        "#Valores descriptivos de dataset\n",
        "df.describe()"
      ]
    },
    {
      "cell_type": "code",
      "execution_count": null,
      "metadata": {
        "colab": {
          "base_uri": "https://localhost:8080/"
        },
        "id": "3s4YJYHB5JNu",
        "outputId": "85d49f46-d7b1-4702-9440-3643fcf4d1b6"
      },
      "outputs": [
        {
          "output_type": "execute_result",
          "data": {
            "text/plain": [
              "(20, 21)"
            ]
          },
          "metadata": {},
          "execution_count": 64
        }
      ],
      "source": [
        "#Numero de registros y valores a tomar en cuenta\n",
        "df.shape"
      ]
    },
    {
      "cell_type": "code",
      "execution_count": null,
      "metadata": {
        "colab": {
          "base_uri": "https://localhost:8080/"
        },
        "id": "NfA8uzia5aPY",
        "outputId": "6ea76344-8d80-4ac5-c593-0d6f5e48c006"
      },
      "outputs": [
        {
          "output_type": "execute_result",
          "data": {
            "text/plain": [
              "Fecha entrega del Informe           int64\n",
              "Tipo de via                         int64\n",
              "Piso                                int64\n",
              "Departamento                       object\n",
              "Provincia                          object\n",
              "Distrito                           object\n",
              "Numero de estacionamiento           int64\n",
              "Depositos                           int64\n",
              "Latitud                           float64\n",
              "Longitud                          float64\n",
              "Categoria del bien                 object\n",
              "Posicion                           object\n",
              "Numero de frentes                   int64\n",
              "Edad                                int64\n",
              "Elevador                            int64\n",
              "Estado de conservacion             object\n",
              "Metodo Representado                object\n",
              "Moneda principal para calculos     object\n",
              "Area Terreno                      float64\n",
              "Area Construccion                 float64\n",
              "Valor comercial                    object\n",
              "dtype: object"
            ]
          },
          "metadata": {},
          "execution_count": 65
        }
      ],
      "source": [
        "df.dtypes"
      ]
    },
    {
      "cell_type": "markdown",
      "metadata": {
        "id": "cV1f9_C8-EjQ"
      },
      "source": [
        "## Conteo de valores \n",
        "Numero de itereaciones por cada valor distinto en variables"
      ]
    },
    {
      "cell_type": "code",
      "execution_count": null,
      "metadata": {
        "colab": {
          "base_uri": "https://localhost:8080/"
        },
        "id": "6OOn0nx_6ptd",
        "outputId": "d0c54f43-16af-4bc0-da8d-336ab2a02da0"
      },
      "outputs": [
        {
          "output_type": "execute_result",
          "data": {
            "text/plain": [
              "1     9\n",
              "2     4\n",
              "10    3\n",
              "3     3\n",
              "6     1\n",
              "Name: Tipo de via, dtype: int64"
            ]
          },
          "metadata": {},
          "execution_count": 66
        }
      ],
      "source": [
        "df['Tipo de via'].value_counts()"
      ]
    },
    {
      "cell_type": "code",
      "execution_count": null,
      "metadata": {
        "colab": {
          "base_uri": "https://localhost:8080/"
        },
        "id": "lnsTcPX797Lp",
        "outputId": "4c22ed71-26c8-4cdd-ccfe-d3362e7789a9"
      },
      "outputs": [
        {
          "output_type": "execute_result",
          "data": {
            "text/plain": [
              "2    6\n",
              "1    4\n",
              "4    4\n",
              "5    3\n",
              "3    3\n",
              "Name: Piso, dtype: int64"
            ]
          },
          "metadata": {},
          "execution_count": 67
        }
      ],
      "source": [
        "df['Piso'].value_counts()"
      ]
    },
    {
      "cell_type": "code",
      "execution_count": null,
      "metadata": {
        "colab": {
          "base_uri": "https://localhost:8080/"
        },
        "id": "PbDchqbY98qf",
        "outputId": "1fd728ce-f6e8-4e9a-d3fa-40c2895bec8b"
      },
      "outputs": [
        {
          "output_type": "execute_result",
          "data": {
            "text/plain": [
              "Lima           18\n",
              "La Libertad     1\n",
              "Piura           1\n",
              "Name: Departamento, dtype: int64"
            ]
          },
          "metadata": {},
          "execution_count": 68
        }
      ],
      "source": [
        "df['Departamento'].value_counts()"
      ]
    },
    {
      "cell_type": "code",
      "execution_count": null,
      "metadata": {
        "colab": {
          "base_uri": "https://localhost:8080/"
        },
        "id": "YNVYjiUv9984",
        "outputId": "653ef5a5-4ed3-473d-bd62-d9e6f510d4f8"
      },
      "outputs": [
        {
          "output_type": "execute_result",
          "data": {
            "text/plain": [
              "Bueno        12\n",
              "Muy bueno     6\n",
              "Regular       1\n",
              "Malo          1\n",
              "Name: Estado de conservacion, dtype: int64"
            ]
          },
          "metadata": {},
          "execution_count": 69
        }
      ],
      "source": [
        "df['Estado de conservacion'].value_counts()"
      ]
    },
    {
      "cell_type": "code",
      "execution_count": null,
      "metadata": {
        "colab": {
          "base_uri": "https://localhost:8080/"
        },
        "id": "noYnJyTN-ARI",
        "outputId": "4ff28574-be77-4f34-ae91-98b2b951db10"
      },
      "outputs": [
        {
          "output_type": "execute_result",
          "data": {
            "text/plain": [
              "Lima        18\n",
              "Trujillo     1\n",
              "Piura        1\n",
              "Name: Provincia, dtype: int64"
            ]
          },
          "metadata": {},
          "execution_count": 70
        }
      ],
      "source": [
        "df['Provincia'].value_counts()"
      ]
    },
    {
      "cell_type": "code",
      "execution_count": null,
      "metadata": {
        "colab": {
          "base_uri": "https://localhost:8080/"
        },
        "id": "I45vcC5J-Br-",
        "outputId": "605c29c2-ea39-4ed6-b9f9-8dce181586f8"
      },
      "outputs": [
        {
          "output_type": "execute_result",
          "data": {
            "text/plain": [
              "Departamento            13\n",
              "Vivienda Unifamiliar     4\n",
              "Local Comercial          2\n",
              "Terreno Urbano           1\n",
              "Name: Categoria del bien, dtype: int64"
            ]
          },
          "metadata": {},
          "execution_count": 71
        }
      ],
      "source": [
        "df['Categoria del bien'].value_counts()"
      ]
    },
    {
      "cell_type": "code",
      "execution_count": null,
      "metadata": {
        "colab": {
          "base_uri": "https://localhost:8080/"
        },
        "id": "0WVkznLO-C-A",
        "outputId": "0b79459c-f63a-4084-e6de-ae714a4470ad"
      },
      "outputs": [
        {
          "output_type": "execute_result",
          "data": {
            "text/plain": [
              "Comparacion de mercado (directo)    15\n",
              "Costos o reposicion (directo)        5\n",
              "Name: Metodo Representado, dtype: int64"
            ]
          },
          "metadata": {},
          "execution_count": 72
        }
      ],
      "source": [
        "df['Metodo Representado'].value_counts()"
      ]
    },
    {
      "cell_type": "code",
      "execution_count": null,
      "metadata": {
        "colab": {
          "base_uri": "https://localhost:8080/"
        },
        "id": "0_Gcb8ULQH7f",
        "outputId": "264fface-b0b9-48d0-dd58-eeccf67114d0"
      },
      "outputs": [
        {
          "output_type": "execute_result",
          "data": {
            "text/plain": [
              "-12.120143    1\n",
              "-12.022509    1\n",
              "-12.062116    1\n",
              "-12.064683    1\n",
              "-12.038434    1\n",
              "-12.112711    1\n",
              "-12.090449    1\n",
              "-8.111449     1\n",
              "-12.052870    1\n",
              "-12.136353    1\n",
              "-12.119652    1\n",
              "-5.185692     1\n",
              "-12.076643    1\n",
              "-11.899533    1\n",
              "-12.029741    1\n",
              "-12.095764    1\n",
              "-12.015309    1\n",
              "-12.095758    1\n",
              "-12.089686    1\n",
              "-12.121306    1\n",
              "Name: Latitud, dtype: int64"
            ]
          },
          "metadata": {},
          "execution_count": 73
        }
      ],
      "source": [
        "df['Latitud'].value_counts()"
      ]
    },
    {
      "cell_type": "code",
      "execution_count": null,
      "metadata": {
        "colab": {
          "base_uri": "https://localhost:8080/"
        },
        "id": "QjxlTsXoQrDb",
        "outputId": "1d17e083-545d-4fe6-8d72-92e4e54f327a"
      },
      "outputs": [
        {
          "output_type": "execute_result",
          "data": {
            "text/plain": [
              "-77.023960    1\n",
              "-76.833715    1\n",
              "-76.949711    1\n",
              "-77.013660    1\n",
              "-76.957028    1\n",
              "-76.964334    1\n",
              "-77.018342    1\n",
              "-79.026046    1\n",
              "-77.006517    1\n",
              "-77.002325    1\n",
              "-77.005706    1\n",
              "-80.654541    1\n",
              "-77.050648    1\n",
              "-77.057616    1\n",
              "-76.945582    1\n",
              "-77.023360    1\n",
              "-76.874213    1\n",
              "-76.981323    1\n",
              "-77.068454    1\n",
              "-76.999737    1\n",
              "Name: Longitud, dtype: int64"
            ]
          },
          "metadata": {},
          "execution_count": 74
        }
      ],
      "source": [
        "df['Longitud'].value_counts()"
      ]
    },
    {
      "cell_type": "markdown",
      "metadata": {
        "id": "54VNzzNX_UBf"
      },
      "source": [
        "#Direcciones especificas\n",
        "\n",
        "Se pretende utilizar la localización para agregar peso y valor a la funcion de calculo"
      ]
    },
    {
      "cell_type": "code",
      "execution_count": null,
      "metadata": {
        "id": "WOS6MG67kSa-",
        "colab": {
          "base_uri": "https://localhost:8080/"
        },
        "outputId": "2de6d78d-2a78-419c-819c-ded9477f13dd"
      },
      "outputs": [
        {
          "output_type": "stream",
          "name": "stderr",
          "text": [
            "/usr/local/lib/python3.7/dist-packages/geopy/geocoders/osm.py:143: UserWarning: Using Nominatim with the default \"geopy/1.17.0\" `user_agent` is strongly discouraged, as it violates Nominatim's ToS https://operations.osmfoundation.org/policies/nominatim/ and may possibly cause 403 and 429 HTTP errors. Please specify a custom `user_agent` with `Nominatim(user_agent=\"my-application\")` or by overriding the default `user_agent`: `geopy.geocoders.options.default_user_agent = \"my-application\"`. In geopy 2.0 this will become an exception.\n",
            "  UserWarning\n"
          ]
        }
      ],
      "source": [
        "directions = []\n",
        "geolocalizador = Nominatim();\n",
        "#Se recorren todos los valores para obtener su direccion\n",
        "for i in range(len(df)):\n",
        "    direction = geolocalizador.reverse(str(df.at[i,\"Latitud\"]) + ',' + str(df.at[i,\"Longitud\"]))\n",
        "\n",
        "\n",
        "\n",
        "    directions.append(direction) #Se agrega a la lista\n",
        "\n",
        "    "
      ]
    },
    {
      "cell_type": "code",
      "execution_count": null,
      "metadata": {
        "colab": {
          "base_uri": "https://localhost:8080/"
        },
        "id": "TJtJVx0G_oyf",
        "outputId": "a95c202f-1c2c-44b4-da91-3b97f63cd189"
      },
      "outputs": [
        {
          "output_type": "stream",
          "name": "stdout",
          "text": [
            "[['Alimentos Orgánicos, Avenida Ricardo Palma, Miraflores, Lima, Lima Metropolitana, Lima, 15047, Perú'\n",
            "  (-12.1200224, -77.02411169999999)]\n",
            " ['Cruz de Mayo, Huaycán, Ate, Lima, Lima Metropolitana, Lima, 15483, Perú'\n",
            "  (-12.022988868528829, -76.83358761224656)]\n",
            " ['Institución Educativa Miguel Grau, 1025, Jirón Libertad, Magdalena, Magdalena del Mar, Lima, Lima Metropolitana, Lima, 15086, Perú'\n",
            "  (-12.089316, -77.06880828321442)]\n",
            " ['Jirón 27, San Borja, Lima, Lima Metropolitana, Lima, 15023, Perú'\n",
            "  (-12.095700479837816, -76.98133061268804)]\n",
            " ['San Juan, Santa Clara, Ate, Lima, Lima Metropolitana, Lima, 15487, Perú'\n",
            "  (-12.015178275510912, -76.87424669152152)]\n",
            " ['File Security, 227, Calle German Schreiber, Centro financiero de San Isidro, San Isidro, Lima, Lima Metropolitana, Lima, 15000, Perú'\n",
            "  (-12.0958146, -77.0233109)]\n",
            " ['Santa Anita, Lima, Lima Metropolitana, Lima, 15009, Perú'\n",
            "  (-12.029485310302201, -76.94566781602553)]\n",
            " ['Comas, Lima, Lima Metropolitana, Lima, 15316, Perú'\n",
            "  (-11.89943214633956, -77.05772291425961)]\n",
            " ['La Choza Náutica, Avenida Horacio Urteaga, Jesús María, Lima, Lima Metropolitana, Lima, 15081, Perú'\n",
            "  (-12.0763076, -77.05052)]\n",
            " ['Piura, 20009, Perú' (-5.185881314086504, -80.65459956823354)]\n",
            " ['Calle La Almendra, Los Sauces, Surquillo, Lima, Lima Metropolitana, Lima, 15038, Perú'\n",
            "  (-12.119617444754901, -77.00565520360932)]\n",
            " ['Avenida Los Vicus, La Capullana, Santiago de Surco, Lima, Lima Metropolitana, Lima, 15038, Perú'\n",
            "  (-12.13633990242076, -77.00233820519033)]\n",
            " ['Calle Unión, San Cayetano, El Agustino, Lima, Lima Metropolitana, Lima, 15004, Perú'\n",
            "  (-12.052853817525994, -77.00656453113139)]\n",
            " ['Casa de los Condes de Aranda, Jirón Bolívar, Urbanización El Recreo, Trujillo, La Libertad, 13006, Perú'\n",
            "  (-8.1113667, -79.0256892)]\n",
            " ['Clinica Ricardo Palma, 1066, Avenida Javier Prado Este, Centro financiero de San Isidro, San Isidro, Lima, Lima Metropolitana, Lima, 15036, Perú'\n",
            "  (-12.0907117, -77.01830143287725)]\n",
            " ['Calle Las Laderas, Residencial Los Alamos de Monterrico, Santiago de Surco, Lima, Lima Metropolitana, Lima, 15023, Perú'\n",
            "  (-12.112618583152104, -76.96428942273076)]\n",
            " ['Los Mangos, Santa Anita, Lima, Lima Metropolitana, Lima, 15009, Perú'\n",
            "  (-12.038418336676582, -76.957035322517)]\n",
            " ['Emporio Comercial de Gamarra, Jirón Bélgica, San German, La Victoria, Lima, Lima Metropolitana, Lima, 15018, Perú'\n",
            "  (-12.06673285, -77.0148622341489)]\n",
            " ['Calle Mariano Melgar, La Molina, Lima, Lima Metropolitana, Lima, 15012, Perú'\n",
            "  (-12.062103272788567, -76.94971478989095)]\n",
            " ['Calle El Eucalipto, Los Sauces, Surquillo, Lima, Lima Metropolitana, Lima, 15038, Perú'\n",
            "  (-12.121285689341514, -76.99959938554761)]]\n"
          ]
        },
        {
          "output_type": "stream",
          "name": "stderr",
          "text": [
            "/usr/local/lib/python3.7/dist-packages/ipykernel_launcher.py:2: VisibleDeprecationWarning: Creating an ndarray from ragged nested sequences (which is a list-or-tuple of lists-or-tuples-or ndarrays with different lengths or shapes) is deprecated. If you meant to do this, you must specify 'dtype=object' when creating the ndarray.\n",
            "  \n"
          ]
        }
      ],
      "source": [
        "#Se muestra la lista de direcciones\n",
        "arr_directions = np.array(directions)\n",
        "print(arr_directions)"
      ]
    },
    {
      "cell_type": "code",
      "execution_count": null,
      "metadata": {
        "colab": {
          "base_uri": "https://localhost:8080/"
        },
        "id": "_mzVQiWAPia6",
        "outputId": "589f61c5-ddfe-40eb-86cc-0a7679363aa4"
      },
      "outputs": [
        {
          "output_type": "stream",
          "name": "stdout",
          "text": [
            "-36.8533028 174.7709309\n",
            "12, Grafton Road, Learning Quarter, City Centre, Auckland, Waitematā, Auckland, 1053, New Zealand / Aotearoa\n"
          ]
        }
      ],
      "source": [
        "#Test - josue\n",
        "#reversegeocoder - from xy coordinates to location address\n",
        "locator = Nominatim(timeout=10, user_agent=\"my-application\")\n",
        "coordinates = \"-36.8533028, 174.7709309\"\n",
        "location = locator.reverse(coordinates)\n",
        "print(location.latitude, location.longitude)\n",
        "print(location.address)"
      ]
    },
    {
      "cell_type": "markdown",
      "metadata": {
        "id": "g-b-T_LpAkYe"
      },
      "source": [
        "#Rango de datos"
      ]
    },
    {
      "cell_type": "code",
      "execution_count": null,
      "metadata": {
        "colab": {
          "base_uri": "https://localhost:8080/"
        },
        "id": "sJNWOqAMswU_",
        "outputId": "898dde0e-c19c-42cd-b3ba-2e89ad411931"
      },
      "outputs": [
        {
          "output_type": "execute_result",
          "data": {
            "text/plain": [
              "array([[<matplotlib.axes._subplots.AxesSubplot object at 0x7f6719f24410>,\n",
              "        <matplotlib.axes._subplots.AxesSubplot object at 0x7f67199d8650>,\n",
              "        <matplotlib.axes._subplots.AxesSubplot object at 0x7f6719e5c950>],\n",
              "       [<matplotlib.axes._subplots.AxesSubplot object at 0x7f671a3b3a90>,\n",
              "        <matplotlib.axes._subplots.AxesSubplot object at 0x7f671896ac50>,\n",
              "        <matplotlib.axes._subplots.AxesSubplot object at 0x7f6718925290>],\n",
              "       [<matplotlib.axes._subplots.AxesSubplot object at 0x7f67188d7910>,\n",
              "        <matplotlib.axes._subplots.AxesSubplot object at 0x7f671888fe50>,\n",
              "        <matplotlib.axes._subplots.AxesSubplot object at 0x7f671888fe90>],\n",
              "       [<matplotlib.axes._subplots.AxesSubplot object at 0x7f67188515d0>,\n",
              "        <matplotlib.axes._subplots.AxesSubplot object at 0x7f67187ce110>,\n",
              "        <matplotlib.axes._subplots.AxesSubplot object at 0x7f6718801710>]],\n",
              "      dtype=object)"
            ]
          },
          "metadata": {},
          "execution_count": 78
        },
        {
          "output_type": "display_data",
          "data": {
            "text/plain": [
              "<Figure size 1440x1080 with 12 Axes>"
            ],
            "image/png": "[encoded data removed]"
          },
          "metadata": {
            "needs_background": "light"
          }
        }
      ],
      "source": [
        "df.hist(bins=50, figsize=(20,15))"
      ]
    },
    {
      "cell_type": "markdown",
      "metadata": {
        "id": "wIa-rCrnTXMR"
      },
      "source": [
        "# Mapeo de las propiedades (no cul, sin mapa, no jala chido)"
      ]
    },
    {
      "cell_type": "code",
      "execution_count": null,
      "metadata": {
        "colab": {
          "base_uri": "https://localhost:8080/",
          "height": 459
        },
        "id": "wgL064XgTR_y",
        "outputId": "fa27bc51-4dad-472c-fb71-03a19a2011e4"
      },
      "outputs": [
        {
          "output_type": "execute_result",
          "data": {
            "text/plain": [
              "<matplotlib.axes._subplots.AxesSubplot at 0x7fbf67c22350>"
            ]
          },
          "metadata": {},
          "execution_count": 86
        },
        {
          "output_type": "display_data",
          "data": {
            "text/plain": [
              "<Figure size 720x504 with 1 Axes>"
            ],
            "image/png": "[encoded data removed]"
          },
          "metadata": {
            "needs_background": "light"
          }
        }
      ],
      "source": [
        "#grafica de dispersion en X, Y\n",
        "df.plot(kind=\"scatter\", x=\"Latitud\", y=\"Longitud\", figsize=(10,7))"
      ]
    },
    {
      "cell_type": "code",
      "execution_count": null,
      "metadata": {
        "colab": {
          "base_uri": "https://localhost:8080/",
          "height": 459
        },
        "id": "UW_ZKcyPUfUL",
        "outputId": "bcef22b0-2298-4764-a3c5-fe42bae31e1e"
      },
      "outputs": [
        {
          "output_type": "execute_result",
          "data": {
            "text/plain": [
              "<matplotlib.axes._subplots.AxesSubplot at 0x7fbf67be8150>"
            ]
          },
          "metadata": {},
          "execution_count": 87
        },
        {
          "output_type": "display_data",
          "data": {
            "text/plain": [
              "<Figure size 720x504 with 1 Axes>"
            ],
            "image/png": "[encoded data removed]"
          },
          "metadata": {
            "needs_background": "light"
          }
        }
      ],
      "source": [
        "#grafica de dispersion en X, Y con alfa para ver donde hay mayor densidad\n",
        "df.plot(kind=\"scatter\", x=\"Latitud\", alpha=0.1, y=\"Longitud\", figsize=(10,7))"
      ]
    },
    {
      "cell_type": "code",
      "execution_count": null,
      "metadata": {
        "colab": {
          "base_uri": "https://localhost:8080/",
          "height": 986
        },
        "id": "8is69zOjU8pl",
        "outputId": "44c81fd0-1313-40da-823f-2f25452a401c"
      },
      "outputs": [
        {
          "output_type": "error",
          "ename": "ValueError",
          "evalue": "ignored",
          "traceback": [
            "\u001b[0;31m---------------------------------------------------------------------------\u001b[0m",
            "\u001b[0;31mValueError\u001b[0m                                Traceback (most recent call last)",
            "\u001b[0;32m/usr/local/lib/python3.7/dist-packages/matplotlib/colors.py\u001b[0m in \u001b[0;36mto_rgba_array\u001b[0;34m(c, alpha)\u001b[0m\n\u001b[1;32m    324\u001b[0m         \u001b[0;32mtry\u001b[0m\u001b[0;34m:\u001b[0m\u001b[0;34m\u001b[0m\u001b[0;34m\u001b[0m\u001b[0m\n\u001b[0;32m--> 325\u001b[0;31m             \u001b[0mresult\u001b[0m \u001b[0;34m=\u001b[0m \u001b[0mnp\u001b[0m\u001b[0;34m.\u001b[0m\u001b[0marray\u001b[0m\u001b[0;34m(\u001b[0m\u001b[0;34m[\u001b[0m\u001b[0mto_rgba\u001b[0m\u001b[0;34m(\u001b[0m\u001b[0mcc\u001b[0m\u001b[0;34m,\u001b[0m \u001b[0malpha\u001b[0m\u001b[0;34m)\u001b[0m \u001b[0;32mfor\u001b[0m \u001b[0mcc\u001b[0m \u001b[0;32min\u001b[0m \u001b[0mc\u001b[0m\u001b[0;34m]\u001b[0m\u001b[0;34m)\u001b[0m\u001b[0;34m\u001b[0m\u001b[0;34m\u001b[0m\u001b[0m\n\u001b[0m\u001b[1;32m    326\u001b[0m         \u001b[0;32mexcept\u001b[0m \u001b[0mValueError\u001b[0m\u001b[0;34m:\u001b[0m\u001b[0;34m\u001b[0m\u001b[0;34m\u001b[0m\u001b[0m\n",
            "\u001b[0;32m/usr/local/lib/python3.7/dist-packages/matplotlib/colors.py\u001b[0m in \u001b[0;36m<listcomp>\u001b[0;34m(.0)\u001b[0m\n\u001b[1;32m    324\u001b[0m         \u001b[0;32mtry\u001b[0m\u001b[0;34m:\u001b[0m\u001b[0;34m\u001b[0m\u001b[0;34m\u001b[0m\u001b[0m\n\u001b[0;32m--> 325\u001b[0;31m             \u001b[0mresult\u001b[0m \u001b[0;34m=\u001b[0m \u001b[0mnp\u001b[0m\u001b[0;34m.\u001b[0m\u001b[0marray\u001b[0m\u001b[0;34m(\u001b[0m\u001b[0;34m[\u001b[0m\u001b[0mto_rgba\u001b[0m\u001b[0;34m(\u001b[0m\u001b[0mcc\u001b[0m\u001b[0;34m,\u001b[0m \u001b[0malpha\u001b[0m\u001b[0;34m)\u001b[0m \u001b[0;32mfor\u001b[0m \u001b[0mcc\u001b[0m \u001b[0;32min\u001b[0m \u001b[0mc\u001b[0m\u001b[0;34m]\u001b[0m\u001b[0;34m)\u001b[0m\u001b[0;34m\u001b[0m\u001b[0;34m\u001b[0m\u001b[0m\n\u001b[0m\u001b[1;32m    326\u001b[0m         \u001b[0;32mexcept\u001b[0m \u001b[0mValueError\u001b[0m\u001b[0;34m:\u001b[0m\u001b[0;34m\u001b[0m\u001b[0;34m\u001b[0m\u001b[0m\n",
            "\u001b[0;32m/usr/local/lib/python3.7/dist-packages/matplotlib/colors.py\u001b[0m in \u001b[0;36mto_rgba\u001b[0;34m(c, alpha)\u001b[0m\n\u001b[1;32m    184\u001b[0m     \u001b[0;32mif\u001b[0m \u001b[0mrgba\u001b[0m \u001b[0;32mis\u001b[0m \u001b[0;32mNone\u001b[0m\u001b[0;34m:\u001b[0m  \u001b[0;31m# Suppress exception chaining of cache lookup failure.\u001b[0m\u001b[0;34m\u001b[0m\u001b[0;34m\u001b[0m\u001b[0m\n\u001b[0;32m--> 185\u001b[0;31m         \u001b[0mrgba\u001b[0m \u001b[0;34m=\u001b[0m \u001b[0m_to_rgba_no_colorcycle\u001b[0m\u001b[0;34m(\u001b[0m\u001b[0mc\u001b[0m\u001b[0;34m,\u001b[0m \u001b[0malpha\u001b[0m\u001b[0;34m)\u001b[0m\u001b[0;34m\u001b[0m\u001b[0;34m\u001b[0m\u001b[0m\n\u001b[0m\u001b[1;32m    186\u001b[0m         \u001b[0;32mtry\u001b[0m\u001b[0;34m:\u001b[0m\u001b[0;34m\u001b[0m\u001b[0;34m\u001b[0m\u001b[0m\n",
            "\u001b[0;32m/usr/local/lib/python3.7/dist-packages/matplotlib/colors.py\u001b[0m in \u001b[0;36m_to_rgba_no_colorcycle\u001b[0;34m(c, alpha)\u001b[0m\n\u001b[1;32m    260\u001b[0m             \u001b[0;32mreturn\u001b[0m \u001b[0mc\u001b[0m\u001b[0;34m,\u001b[0m \u001b[0mc\u001b[0m\u001b[0;34m,\u001b[0m \u001b[0mc\u001b[0m\u001b[0;34m,\u001b[0m \u001b[0malpha\u001b[0m \u001b[0;32mif\u001b[0m \u001b[0malpha\u001b[0m \u001b[0;32mis\u001b[0m \u001b[0;32mnot\u001b[0m \u001b[0;32mNone\u001b[0m \u001b[0;32melse\u001b[0m \u001b[0;36m1.\u001b[0m\u001b[0;34m\u001b[0m\u001b[0;34m\u001b[0m\u001b[0m\n\u001b[0;32m--> 261\u001b[0;31m         \u001b[0;32mraise\u001b[0m \u001b[0mValueError\u001b[0m\u001b[0;34m(\u001b[0m\u001b[0;34mf\"Invalid RGBA argument: {orig_c!r}\"\u001b[0m\u001b[0;34m)\u001b[0m\u001b[0;34m\u001b[0m\u001b[0;34m\u001b[0m\u001b[0m\n\u001b[0m\u001b[1;32m    262\u001b[0m     \u001b[0;31m# tuple color.\u001b[0m\u001b[0;34m\u001b[0m\u001b[0;34m\u001b[0m\u001b[0;34m\u001b[0m\u001b[0m\n",
            "\u001b[0;31mValueError\u001b[0m: Invalid RGBA argument: 'e'",
            "\nDuring handling of the above exception, another exception occurred:\n",
            "\u001b[0;31mValueError\u001b[0m                                Traceback (most recent call last)",
            "\u001b[0;32m/usr/local/lib/python3.7/dist-packages/matplotlib/axes/_axes.py\u001b[0m in \u001b[0;36m_parse_scatter_color_args\u001b[0;34m(c, edgecolors, kwargs, xsize, get_next_color_func)\u001b[0m\n\u001b[1;32m   4238\u001b[0m             \u001b[0;32mtry\u001b[0m\u001b[0;34m:\u001b[0m  \u001b[0;31m# Is 'c' acceptable as PathCollection facecolors?\u001b[0m\u001b[0;34m\u001b[0m\u001b[0;34m\u001b[0m\u001b[0m\n\u001b[0;32m-> 4239\u001b[0;31m                 \u001b[0mcolors\u001b[0m \u001b[0;34m=\u001b[0m \u001b[0mmcolors\u001b[0m\u001b[0;34m.\u001b[0m\u001b[0mto_rgba_array\u001b[0m\u001b[0;34m(\u001b[0m\u001b[0mc\u001b[0m\u001b[0;34m)\u001b[0m\u001b[0;34m\u001b[0m\u001b[0;34m\u001b[0m\u001b[0m\n\u001b[0m\u001b[1;32m   4240\u001b[0m             \u001b[0;32mexcept\u001b[0m \u001b[0mValueError\u001b[0m\u001b[0;34m:\u001b[0m\u001b[0;34m\u001b[0m\u001b[0;34m\u001b[0m\u001b[0m\n",
            "\u001b[0;32m/usr/local/lib/python3.7/dist-packages/matplotlib/colors.py\u001b[0m in \u001b[0;36mto_rgba_array\u001b[0;34m(c, alpha)\u001b[0m\n\u001b[1;32m    329\u001b[0m                 \u001b[0;34m\"consisting of single character color specifiers such as \"\u001b[0m\u001b[0;34m\u001b[0m\u001b[0;34m\u001b[0m\u001b[0m\n\u001b[0;32m--> 330\u001b[0;31m                 \"'rgb'. Note also that the latter is deprecated.\" % c)\n\u001b[0m\u001b[1;32m    331\u001b[0m         \u001b[0;32melse\u001b[0m\u001b[0;34m:\u001b[0m\u001b[0;34m\u001b[0m\u001b[0;34m\u001b[0m\u001b[0m\n",
            "\u001b[0;31mValueError\u001b[0m: 'median_house_value' is neither a valid single color nor a color sequence consisting of single character color specifiers such as 'rgb'. Note also that the latter is deprecated.",
            "\nDuring handling of the above exception, another exception occurred:\n",
            "\u001b[0;31mValueError\u001b[0m                                Traceback (most recent call last)",
            "\u001b[0;32m<ipython-input-88-196b1a008f23>\u001b[0m in \u001b[0;36m<module>\u001b[0;34m\u001b[0m\n\u001b[1;32m      5\u001b[0m \u001b[0;34m\u001b[0m\u001b[0m\n\u001b[1;32m      6\u001b[0m df.plot(kind=\"scatter\", x=\"Latitud\", alpha=0.1, y=\"Longitud\", figsize=(10,7),\n\u001b[0;32m----> 7\u001b[0;31m         s=df['Valor comercial'], c='median_house_value')\n\u001b[0m",
            "\u001b[0;32m/usr/local/lib/python3.7/dist-packages/pandas/plotting/_core.py\u001b[0m in \u001b[0;36m__call__\u001b[0;34m(self, *args, **kwargs)\u001b[0m\n\u001b[1;32m    915\u001b[0m         \u001b[0;32mif\u001b[0m \u001b[0mkind\u001b[0m \u001b[0;32min\u001b[0m \u001b[0mself\u001b[0m\u001b[0;34m.\u001b[0m\u001b[0m_dataframe_kinds\u001b[0m\u001b[0;34m:\u001b[0m\u001b[0;34m\u001b[0m\u001b[0;34m\u001b[0m\u001b[0m\n\u001b[1;32m    916\u001b[0m             \u001b[0;32mif\u001b[0m \u001b[0misinstance\u001b[0m\u001b[0;34m(\u001b[0m\u001b[0mdata\u001b[0m\u001b[0;34m,\u001b[0m \u001b[0mABCDataFrame\u001b[0m\u001b[0;34m)\u001b[0m\u001b[0;34m:\u001b[0m\u001b[0;34m\u001b[0m\u001b[0;34m\u001b[0m\u001b[0m\n\u001b[0;32m--> 917\u001b[0;31m                 \u001b[0;32mreturn\u001b[0m \u001b[0mplot_backend\u001b[0m\u001b[0;34m.\u001b[0m\u001b[0mplot\u001b[0m\u001b[0;34m(\u001b[0m\u001b[0mdata\u001b[0m\u001b[0;34m,\u001b[0m \u001b[0mx\u001b[0m\u001b[0;34m=\u001b[0m\u001b[0mx\u001b[0m\u001b[0;34m,\u001b[0m \u001b[0my\u001b[0m\u001b[0;34m=\u001b[0m\u001b[0my\u001b[0m\u001b[0;34m,\u001b[0m \u001b[0mkind\u001b[0m\u001b[0;34m=\u001b[0m\u001b[0mkind\u001b[0m\u001b[0;34m,\u001b[0m \u001b[0;34m**\u001b[0m\u001b[0mkwargs\u001b[0m\u001b[0;34m)\u001b[0m\u001b[0;34m\u001b[0m\u001b[0;34m\u001b[0m\u001b[0m\n\u001b[0m\u001b[1;32m    918\u001b[0m             \u001b[0;32melse\u001b[0m\u001b[0;34m:\u001b[0m\u001b[0;34m\u001b[0m\u001b[0;34m\u001b[0m\u001b[0m\n\u001b[1;32m    919\u001b[0m                 \u001b[0;32mraise\u001b[0m \u001b[0mValueError\u001b[0m\u001b[0;34m(\u001b[0m\u001b[0;34mf\"plot kind {kind} can only be used for data frames\"\u001b[0m\u001b[0;34m)\u001b[0m\u001b[0;34m\u001b[0m\u001b[0;34m\u001b[0m\u001b[0m\n",
            "\u001b[0;32m/usr/local/lib/python3.7/dist-packages/pandas/plotting/_matplotlib/__init__.py\u001b[0m in \u001b[0;36mplot\u001b[0;34m(data, kind, **kwargs)\u001b[0m\n\u001b[1;32m     69\u001b[0m             \u001b[0mkwargs\u001b[0m\u001b[0;34m[\u001b[0m\u001b[0;34m\"ax\"\u001b[0m\u001b[0;34m]\u001b[0m \u001b[0;34m=\u001b[0m \u001b[0mgetattr\u001b[0m\u001b[0;34m(\u001b[0m\u001b[0max\u001b[0m\u001b[0;34m,\u001b[0m \u001b[0;34m\"left_ax\"\u001b[0m\u001b[0;34m,\u001b[0m \u001b[0max\u001b[0m\u001b[0;34m)\u001b[0m\u001b[0;34m\u001b[0m\u001b[0;34m\u001b[0m\u001b[0m\n\u001b[1;32m     70\u001b[0m     \u001b[0mplot_obj\u001b[0m \u001b[0;34m=\u001b[0m \u001b[0mPLOT_CLASSES\u001b[0m\u001b[0;34m[\u001b[0m\u001b[0mkind\u001b[0m\u001b[0;34m]\u001b[0m\u001b[0;34m(\u001b[0m\u001b[0mdata\u001b[0m\u001b[0;34m,\u001b[0m \u001b[0;34m**\u001b[0m\u001b[0mkwargs\u001b[0m\u001b[0;34m)\u001b[0m\u001b[0;34m\u001b[0m\u001b[0;34m\u001b[0m\u001b[0m\n\u001b[0;32m---> 71\u001b[0;31m     \u001b[0mplot_obj\u001b[0m\u001b[0;34m.\u001b[0m\u001b[0mgenerate\u001b[0m\u001b[0;34m(\u001b[0m\u001b[0;34m)\u001b[0m\u001b[0;34m\u001b[0m\u001b[0;34m\u001b[0m\u001b[0m\n\u001b[0m\u001b[1;32m     72\u001b[0m     \u001b[0mplot_obj\u001b[0m\u001b[0;34m.\u001b[0m\u001b[0mdraw\u001b[0m\u001b[0;34m(\u001b[0m\u001b[0;34m)\u001b[0m\u001b[0;34m\u001b[0m\u001b[0;34m\u001b[0m\u001b[0m\n\u001b[1;32m     73\u001b[0m     \u001b[0;32mreturn\u001b[0m \u001b[0mplot_obj\u001b[0m\u001b[0;34m.\u001b[0m\u001b[0mresult\u001b[0m\u001b[0;34m\u001b[0m\u001b[0;34m\u001b[0m\u001b[0m\n",
            "\u001b[0;32m/usr/local/lib/python3.7/dist-packages/pandas/plotting/_matplotlib/core.py\u001b[0m in \u001b[0;36mgenerate\u001b[0;34m(self)\u001b[0m\n\u001b[1;32m    286\u001b[0m         \u001b[0mself\u001b[0m\u001b[0;34m.\u001b[0m\u001b[0m_compute_plot_data\u001b[0m\u001b[0;34m(\u001b[0m\u001b[0;34m)\u001b[0m\u001b[0;34m\u001b[0m\u001b[0;34m\u001b[0m\u001b[0m\n\u001b[1;32m    287\u001b[0m         \u001b[0mself\u001b[0m\u001b[0;34m.\u001b[0m\u001b[0m_setup_subplots\u001b[0m\u001b[0;34m(\u001b[0m\u001b[0;34m)\u001b[0m\u001b[0;34m\u001b[0m\u001b[0;34m\u001b[0m\u001b[0m\n\u001b[0;32m--> 288\u001b[0;31m         \u001b[0mself\u001b[0m\u001b[0;34m.\u001b[0m\u001b[0m_make_plot\u001b[0m\u001b[0;34m(\u001b[0m\u001b[0;34m)\u001b[0m\u001b[0;34m\u001b[0m\u001b[0;34m\u001b[0m\u001b[0m\n\u001b[0m\u001b[1;32m    289\u001b[0m         \u001b[0mself\u001b[0m\u001b[0;34m.\u001b[0m\u001b[0m_add_table\u001b[0m\u001b[0;34m(\u001b[0m\u001b[0;34m)\u001b[0m\u001b[0;34m\u001b[0m\u001b[0;34m\u001b[0m\u001b[0m\n\u001b[1;32m    290\u001b[0m         \u001b[0mself\u001b[0m\u001b[0;34m.\u001b[0m\u001b[0m_make_legend\u001b[0m\u001b[0;34m(\u001b[0m\u001b[0;34m)\u001b[0m\u001b[0;34m\u001b[0m\u001b[0;34m\u001b[0m\u001b[0m\n",
            "\u001b[0;32m/usr/local/lib/python3.7/dist-packages/pandas/plotting/_matplotlib/core.py\u001b[0m in \u001b[0;36m_make_plot\u001b[0;34m(self)\u001b[0m\n\u001b[1;32m   1075\u001b[0m             \u001b[0mcmap\u001b[0m\u001b[0;34m=\u001b[0m\u001b[0mcmap\u001b[0m\u001b[0;34m,\u001b[0m\u001b[0;34m\u001b[0m\u001b[0;34m\u001b[0m\u001b[0m\n\u001b[1;32m   1076\u001b[0m             \u001b[0mnorm\u001b[0m\u001b[0;34m=\u001b[0m\u001b[0mnorm\u001b[0m\u001b[0;34m,\u001b[0m\u001b[0;34m\u001b[0m\u001b[0;34m\u001b[0m\u001b[0m\n\u001b[0;32m-> 1077\u001b[0;31m             \u001b[0;34m**\u001b[0m\u001b[0mself\u001b[0m\u001b[0;34m.\u001b[0m\u001b[0mkwds\u001b[0m\u001b[0;34m,\u001b[0m\u001b[0;34m\u001b[0m\u001b[0;34m\u001b[0m\u001b[0m\n\u001b[0m\u001b[1;32m   1078\u001b[0m         )\n\u001b[1;32m   1079\u001b[0m         \u001b[0;32mif\u001b[0m \u001b[0mcb\u001b[0m\u001b[0;34m:\u001b[0m\u001b[0;34m\u001b[0m\u001b[0;34m\u001b[0m\u001b[0m\n",
            "\u001b[0;32m/usr/local/lib/python3.7/dist-packages/matplotlib/__init__.py\u001b[0m in \u001b[0;36minner\u001b[0;34m(ax, data, *args, **kwargs)\u001b[0m\n\u001b[1;32m   1563\u001b[0m     \u001b[0;32mdef\u001b[0m \u001b[0minner\u001b[0m\u001b[0;34m(\u001b[0m\u001b[0max\u001b[0m\u001b[0;34m,\u001b[0m \u001b[0;34m*\u001b[0m\u001b[0margs\u001b[0m\u001b[0;34m,\u001b[0m \u001b[0mdata\u001b[0m\u001b[0;34m=\u001b[0m\u001b[0;32mNone\u001b[0m\u001b[0;34m,\u001b[0m \u001b[0;34m**\u001b[0m\u001b[0mkwargs\u001b[0m\u001b[0;34m)\u001b[0m\u001b[0;34m:\u001b[0m\u001b[0;34m\u001b[0m\u001b[0;34m\u001b[0m\u001b[0m\n\u001b[1;32m   1564\u001b[0m         \u001b[0;32mif\u001b[0m \u001b[0mdata\u001b[0m \u001b[0;32mis\u001b[0m \u001b[0;32mNone\u001b[0m\u001b[0;34m:\u001b[0m\u001b[0;34m\u001b[0m\u001b[0;34m\u001b[0m\u001b[0m\n\u001b[0;32m-> 1565\u001b[0;31m             \u001b[0;32mreturn\u001b[0m \u001b[0mfunc\u001b[0m\u001b[0;34m(\u001b[0m\u001b[0max\u001b[0m\u001b[0;34m,\u001b[0m \u001b[0;34m*\u001b[0m\u001b[0mmap\u001b[0m\u001b[0;34m(\u001b[0m\u001b[0msanitize_sequence\u001b[0m\u001b[0;34m,\u001b[0m \u001b[0margs\u001b[0m\u001b[0;34m)\u001b[0m\u001b[0;34m,\u001b[0m \u001b[0;34m**\u001b[0m\u001b[0mkwargs\u001b[0m\u001b[0;34m)\u001b[0m\u001b[0;34m\u001b[0m\u001b[0;34m\u001b[0m\u001b[0m\n\u001b[0m\u001b[1;32m   1566\u001b[0m \u001b[0;34m\u001b[0m\u001b[0m\n\u001b[1;32m   1567\u001b[0m         \u001b[0mbound\u001b[0m \u001b[0;34m=\u001b[0m \u001b[0mnew_sig\u001b[0m\u001b[0;34m.\u001b[0m\u001b[0mbind\u001b[0m\u001b[0;34m(\u001b[0m\u001b[0max\u001b[0m\u001b[0;34m,\u001b[0m \u001b[0;34m*\u001b[0m\u001b[0margs\u001b[0m\u001b[0;34m,\u001b[0m \u001b[0;34m**\u001b[0m\u001b[0mkwargs\u001b[0m\u001b[0;34m)\u001b[0m\u001b[0;34m\u001b[0m\u001b[0;34m\u001b[0m\u001b[0m\n",
            "\u001b[0;32m/usr/local/lib/python3.7/dist-packages/matplotlib/cbook/deprecation.py\u001b[0m in \u001b[0;36mwrapper\u001b[0;34m(*args, **kwargs)\u001b[0m\n\u001b[1;32m    356\u001b[0m                 \u001b[0;34mf\"%(removal)s.  If any parameter follows {name!r}, they \"\u001b[0m\u001b[0;34m\u001b[0m\u001b[0;34m\u001b[0m\u001b[0m\n\u001b[1;32m    357\u001b[0m                 f\"should be pass as keyword, not positionally.\")\n\u001b[0;32m--> 358\u001b[0;31m         \u001b[0;32mreturn\u001b[0m \u001b[0mfunc\u001b[0m\u001b[0;34m(\u001b[0m\u001b[0;34m*\u001b[0m\u001b[0margs\u001b[0m\u001b[0;34m,\u001b[0m \u001b[0;34m**\u001b[0m\u001b[0mkwargs\u001b[0m\u001b[0;34m)\u001b[0m\u001b[0;34m\u001b[0m\u001b[0;34m\u001b[0m\u001b[0m\n\u001b[0m\u001b[1;32m    359\u001b[0m \u001b[0;34m\u001b[0m\u001b[0m\n\u001b[1;32m    360\u001b[0m     \u001b[0;32mreturn\u001b[0m \u001b[0mwrapper\u001b[0m\u001b[0;34m\u001b[0m\u001b[0;34m\u001b[0m\u001b[0m\n",
            "\u001b[0;32m/usr/local/lib/python3.7/dist-packages/matplotlib/axes/_axes.py\u001b[0m in \u001b[0;36mscatter\u001b[0;34m(self, x, y, s, c, marker, cmap, norm, vmin, vmax, alpha, linewidths, verts, edgecolors, plotnonfinite, **kwargs)\u001b[0m\n\u001b[1;32m   4401\u001b[0m             self._parse_scatter_color_args(\n\u001b[1;32m   4402\u001b[0m                 \u001b[0mc\u001b[0m\u001b[0;34m,\u001b[0m \u001b[0medgecolors\u001b[0m\u001b[0;34m,\u001b[0m \u001b[0mkwargs\u001b[0m\u001b[0;34m,\u001b[0m \u001b[0mx\u001b[0m\u001b[0;34m.\u001b[0m\u001b[0msize\u001b[0m\u001b[0;34m,\u001b[0m\u001b[0;34m\u001b[0m\u001b[0;34m\u001b[0m\u001b[0m\n\u001b[0;32m-> 4403\u001b[0;31m                 get_next_color_func=self._get_patches_for_fill.get_next_color)\n\u001b[0m\u001b[1;32m   4404\u001b[0m \u001b[0;34m\u001b[0m\u001b[0m\n\u001b[1;32m   4405\u001b[0m         \u001b[0;32mif\u001b[0m \u001b[0mplotnonfinite\u001b[0m \u001b[0;32mand\u001b[0m \u001b[0mcolors\u001b[0m \u001b[0;32mis\u001b[0m \u001b[0;32mNone\u001b[0m\u001b[0;34m:\u001b[0m\u001b[0;34m\u001b[0m\u001b[0;34m\u001b[0m\u001b[0m\n",
            "\u001b[0;32m/usr/local/lib/python3.7/dist-packages/matplotlib/axes/_axes.py\u001b[0m in \u001b[0;36m_parse_scatter_color_args\u001b[0;34m(c, edgecolors, kwargs, xsize, get_next_color_func)\u001b[0m\n\u001b[1;32m   4244\u001b[0m                 \u001b[0;31m# severe failure => one may appreciate a verbose feedback.\u001b[0m\u001b[0;34m\u001b[0m\u001b[0;34m\u001b[0m\u001b[0;34m\u001b[0m\u001b[0m\n\u001b[1;32m   4245\u001b[0m                 raise ValueError(\n\u001b[0;32m-> 4246\u001b[0;31m                     \u001b[0;34mf\"'c' argument must be a color, a sequence of colors, or \"\u001b[0m\u001b[0;34m\u001b[0m\u001b[0;34m\u001b[0m\u001b[0m\n\u001b[0m\u001b[1;32m   4247\u001b[0m                     f\"a sequence of numbers, not {c}\")\n\u001b[1;32m   4248\u001b[0m             \u001b[0;32melse\u001b[0m\u001b[0;34m:\u001b[0m\u001b[0;34m\u001b[0m\u001b[0;34m\u001b[0m\u001b[0m\n",
            "\u001b[0;31mValueError\u001b[0m: 'c' argument must be a color, a sequence of colors, or a sequence of numbers, not median_house_value"
          ]
        },
        {
          "output_type": "display_data",
          "data": {
            "text/plain": [
              "<Figure size 720x504 with 1 Axes>"
            ],
            "image/png": "[encoded data removed]"
          },
          "metadata": {
            "needs_background": "light"
          }
        }
      ],
      "source": [
        "#cambiamos el tamaño del punto y agregamos una escala de medicion\n",
        "#s tamaño de cada punto\n",
        "#c etiqueta\n",
        "\n",
        "\n",
        "df.plot(kind=\"scatter\", x=\"Latitud\", alpha=0.1, y=\"Longitud\", figsize=(10,7),\n",
        "        s=df['Valor comercial'], c='median_house_value')"
      ]
    },
    {
      "cell_type": "markdown",
      "metadata": {
        "id": "VkRrvgyNuOQQ"
      },
      "source": [
        "# Mapeo con follium"
      ]
    },
    {
      "cell_type": "code",
      "execution_count": null,
      "metadata": {
        "id": "XjAIQ2ABuJQy",
        "colab": {
          "base_uri": "https://localhost:8080/",
          "height": 532
        },
        "outputId": "e8b8ff15-1494-40c3-da52-be12972a4dcb"
      },
      "outputs": [
        {
          "output_type": "execute_result",
          "data": {
            "text/plain": [
              "<folium.folium.Map at 0x7f671816a190>"
            ],
            "text/html": [
              "<div style=\"width:100%;\"><div style=\"position:relative;width:100%;height:0;padding-bottom:60%;\"><span style=\"color:#565656\">Make this Notebook Trusted to load map: File -> Trust Notebook</span><iframe srcdoc=\"&lt;!DOCTYPE html&gt;\n",
              "&lt;head&gt;    \n",
              "    &lt;meta http-equiv=&quot;content-type&quot; content=&quot;text/html; charset=UTF-8&quot; /&gt;\n",
              "    \n",
              "        &lt;script&gt;\n",
              "            L_NO_TOUCH = false;\n",
              "            L_DISABLE_3D = false;\n",
              "        &lt;/script&gt;\n",
              "    \n",
              "    &lt;style&gt;html, body {width: 100%;height: 100%;margin: 0;padding: 0;}&lt;/style&gt;\n",
              "    &lt;style&gt;#map {position:absolute;top:0;bottom:0;right:0;left:0;}&lt;/style&gt;\n",
              "    &lt;script src=&quot;https://cdn.jsdelivr.net/npm/leaflet@1.6.0/dist/leaflet.js&quot;&gt;&lt;/script&gt;\n",
              "    &lt;script src=&quot;https://code.jquery.com/jquery-1.12.4.min.js&quot;&gt;&lt;/script&gt;\n",
              "    &lt;script src=&quot;https://maxcdn.bootstrapcdn.com/bootstrap/3.2.0/js/bootstrap.min.js&quot;&gt;&lt;/script&gt;\n",
              "    &lt;script src=&quot;https://cdnjs.cloudflare.com/ajax/libs/Leaflet.awesome-markers/2.0.2/leaflet.awesome-markers.js&quot;&gt;&lt;/script&gt;\n",
              "    &lt;link rel=&quot;stylesheet&quot; href=&quot;https://cdn.jsdelivr.net/npm/leaflet@1.6.0/dist/leaflet.css&quot;/&gt;\n",
              "    &lt;link rel=&quot;stylesheet&quot; href=&quot;https://maxcdn.bootstrapcdn.com/bootstrap/3.2.0/css/bootstrap.min.css&quot;/&gt;\n",
              "    &lt;link rel=&quot;stylesheet&quot; href=&quot;https://maxcdn.bootstrapcdn.com/bootstrap/3.2.0/css/bootstrap-theme.min.css&quot;/&gt;\n",
              "    &lt;link rel=&quot;stylesheet&quot; href=&quot;https://maxcdn.bootstrapcdn.com/font-awesome/4.6.3/css/font-awesome.min.css&quot;/&gt;\n",
              "    &lt;link rel=&quot;stylesheet&quot; href=&quot;https://cdnjs.cloudflare.com/ajax/libs/Leaflet.awesome-markers/2.0.2/leaflet.awesome-markers.css&quot;/&gt;\n",
              "    &lt;link rel=&quot;stylesheet&quot; href=&quot;https://cdn.jsdelivr.net/gh/python-visualization/folium/folium/templates/leaflet.awesome.rotate.min.css&quot;/&gt;\n",
              "    \n",
              "            &lt;meta name=&quot;viewport&quot; content=&quot;width=device-width,\n",
              "                initial-scale=1.0, maximum-scale=1.0, user-scalable=no&quot; /&gt;\n",
              "            &lt;style&gt;\n",
              "                #map_33a6336bd302924a5c72fffa174e5648 {\n",
              "                    position: relative;\n",
              "                    width: 100.0%;\n",
              "                    height: 100.0%;\n",
              "                    left: 0.0%;\n",
              "                    top: 0.0%;\n",
              "                }\n",
              "            &lt;/style&gt;\n",
              "        \n",
              "&lt;/head&gt;\n",
              "&lt;body&gt;    \n",
              "    \n",
              "            &lt;div class=&quot;folium-map&quot; id=&quot;map_33a6336bd302924a5c72fffa174e5648&quot; &gt;&lt;/div&gt;\n",
              "        \n",
              "&lt;/body&gt;\n",
              "&lt;script&gt;    \n",
              "    \n",
              "            var map_33a6336bd302924a5c72fffa174e5648 = L.map(\n",
              "                &quot;map_33a6336bd302924a5c72fffa174e5648&quot;,\n",
              "                {\n",
              "                    center: [-12.057158, -77.048902],\n",
              "                    crs: L.CRS.EPSG3857,\n",
              "                    zoom: 6,\n",
              "                    zoomControl: true,\n",
              "                    preferCanvas: false,\n",
              "                }\n",
              "            );\n",
              "\n",
              "            \n",
              "\n",
              "        \n",
              "    \n",
              "            var tile_layer_184ddf1375ea9474a1be1b7bba67db85 = L.tileLayer(\n",
              "                &quot;https://{s}.tile.openstreetmap.org/{z}/{x}/{y}.png&quot;,\n",
              "                {&quot;attribution&quot;: &quot;Data by \\u0026copy; \\u003ca href=\\&quot;http://openstreetmap.org\\&quot;\\u003eOpenStreetMap\\u003c/a\\u003e, under \\u003ca href=\\&quot;http://www.openstreetmap.org/copyright\\&quot;\\u003eODbL\\u003c/a\\u003e.&quot;, &quot;detectRetina&quot;: false, &quot;maxNativeZoom&quot;: 18, &quot;maxZoom&quot;: 18, &quot;minZoom&quot;: 0, &quot;noWrap&quot;: false, &quot;opacity&quot;: 1, &quot;subdomains&quot;: &quot;abc&quot;, &quot;tms&quot;: false}\n",
              "            ).addTo(map_33a6336bd302924a5c72fffa174e5648);\n",
              "        \n",
              "&lt;/script&gt;\" style=\"position:absolute;width:100%;height:100%;left:0;top:0;border:none !important;\" allowfullscreen webkitallowfullscreen mozallowfullscreen></iframe></div></div>"
            ]
          },
          "metadata": {},
          "execution_count": 79
        }
      ],
      "source": [
        "import folium\n",
        "#x=\"Latitud (Decimal)\", y=\"Longitud (Decimal)\"\n",
        "mapa=folium.Map(location=[-12.057158, -77.048902], zoom_start=6 )\n",
        "mapa"
      ]
    },
    {
      "cell_type": "code",
      "execution_count": null,
      "metadata": {
        "id": "6rNWaZK1wPEa",
        "colab": {
          "base_uri": "https://localhost:8080/"
        },
        "outputId": "c0bbc594-f119-4052-bde0-a93f8d7b1e59"
      },
      "outputs": [
        {
          "output_type": "execute_result",
          "data": {
            "text/plain": [
              "array([[-12.1201435, -77.0239598],\n",
              "       [-12.0225094, -76.833715 ],\n",
              "       [-12.0896856, -77.0684536],\n",
              "       [-12.0957584, -76.9813229],\n",
              "       [-12.0153092, -76.874213 ],\n",
              "       [-12.0957639, -77.02336  ],\n",
              "       [-12.0297405, -76.9455815],\n",
              "       [-11.899533 , -77.0576157],\n",
              "       [-12.0766427, -77.0506477],\n",
              "       [ -5.1856924, -80.6545414],\n",
              "       [-12.1196524, -77.0057059],\n",
              "       [-12.1363533, -77.0023247],\n",
              "       [-12.05287  , -77.006517 ],\n",
              "       [ -8.1114492, -79.0260459],\n",
              "       [-12.090449 , -77.018342 ],\n",
              "       [-12.112711 , -76.9643341],\n",
              "       [-12.0384343, -76.9570281],\n",
              "       [-12.064683 , -77.01366  ],\n",
              "       [-12.0621164, -76.9497108],\n",
              "       [-12.1213057, -76.9997372]])"
            ]
          },
          "metadata": {},
          "execution_count": 80
        }
      ],
      "source": [
        "distritos= df[ ['Latitud','Longitud']].to_numpy()\n",
        "distritos"
      ]
    },
    {
      "cell_type": "code",
      "execution_count": null,
      "metadata": {
        "id": "Bu5lUvZwwt5k",
        "colab": {
          "base_uri": "https://localhost:8080/",
          "height": 588
        },
        "outputId": "f89bcd7d-00c7-44a8-aab6-36a21057069c"
      },
      "outputs": [
        {
          "output_type": "stream",
          "name": "stderr",
          "text": [
            "/usr/local/lib/python3.7/dist-packages/ipykernel_launcher.py:4: UserWarning: The `max_val` parameter is no longer necessary. The largest intensity is calculated automatically.\n",
            "  after removing the cwd from sys.path.\n"
          ]
        },
        {
          "output_type": "execute_result",
          "data": {
            "text/plain": [
              "<folium.folium.Map at 0x7f671816a190>"
            ],
            "text/html": [
              "<div style=\"width:100%;\"><div style=\"position:relative;width:100%;height:0;padding-bottom:60%;\"><span style=\"color:#565656\">Make this Notebook Trusted to load map: File -> Trust Notebook</span><iframe srcdoc=\"&lt;!DOCTYPE html&gt;\n",
              "&lt;head&gt;    \n",
              "    &lt;meta http-equiv=&quot;content-type&quot; content=&quot;text/html; charset=UTF-8&quot; /&gt;\n",
              "    \n",
              "        &lt;script&gt;\n",
              "            L_NO_TOUCH = false;\n",
              "            L_DISABLE_3D = false;\n",
              "        &lt;/script&gt;\n",
              "    \n",
              "    &lt;style&gt;html, body {width: 100%;height: 100%;margin: 0;padding: 0;}&lt;/style&gt;\n",
              "    &lt;style&gt;#map {position:absolute;top:0;bottom:0;right:0;left:0;}&lt;/style&gt;\n",
              "    &lt;script src=&quot;https://cdn.jsdelivr.net/npm/leaflet@1.6.0/dist/leaflet.js&quot;&gt;&lt;/script&gt;\n",
              "    &lt;script src=&quot;https://code.jquery.com/jquery-1.12.4.min.js&quot;&gt;&lt;/script&gt;\n",
              "    &lt;script src=&quot;https://maxcdn.bootstrapcdn.com/bootstrap/3.2.0/js/bootstrap.min.js&quot;&gt;&lt;/script&gt;\n",
              "    &lt;script src=&quot;https://cdnjs.cloudflare.com/ajax/libs/Leaflet.awesome-markers/2.0.2/leaflet.awesome-markers.js&quot;&gt;&lt;/script&gt;\n",
              "    &lt;link rel=&quot;stylesheet&quot; href=&quot;https://cdn.jsdelivr.net/npm/leaflet@1.6.0/dist/leaflet.css&quot;/&gt;\n",
              "    &lt;link rel=&quot;stylesheet&quot; href=&quot;https://maxcdn.bootstrapcdn.com/bootstrap/3.2.0/css/bootstrap.min.css&quot;/&gt;\n",
              "    &lt;link rel=&quot;stylesheet&quot; href=&quot;https://maxcdn.bootstrapcdn.com/bootstrap/3.2.0/css/bootstrap-theme.min.css&quot;/&gt;\n",
              "    &lt;link rel=&quot;stylesheet&quot; href=&quot;https://maxcdn.bootstrapcdn.com/font-awesome/4.6.3/css/font-awesome.min.css&quot;/&gt;\n",
              "    &lt;link rel=&quot;stylesheet&quot; href=&quot;https://cdnjs.cloudflare.com/ajax/libs/Leaflet.awesome-markers/2.0.2/leaflet.awesome-markers.css&quot;/&gt;\n",
              "    &lt;link rel=&quot;stylesheet&quot; href=&quot;https://cdn.jsdelivr.net/gh/python-visualization/folium/folium/templates/leaflet.awesome.rotate.min.css&quot;/&gt;\n",
              "    \n",
              "            &lt;meta name=&quot;viewport&quot; content=&quot;width=device-width,\n",
              "                initial-scale=1.0, maximum-scale=1.0, user-scalable=no&quot; /&gt;\n",
              "            &lt;style&gt;\n",
              "                #map_33a6336bd302924a5c72fffa174e5648 {\n",
              "                    position: relative;\n",
              "                    width: 100.0%;\n",
              "                    height: 100.0%;\n",
              "                    left: 0.0%;\n",
              "                    top: 0.0%;\n",
              "                }\n",
              "            &lt;/style&gt;\n",
              "        \n",
              "    &lt;script src=&quot;https://cdn.jsdelivr.net/gh/python-visualization/folium@master/folium/templates/leaflet_heat.min.js&quot;&gt;&lt;/script&gt;\n",
              "&lt;/head&gt;\n",
              "&lt;body&gt;    \n",
              "    \n",
              "            &lt;div class=&quot;folium-map&quot; id=&quot;map_33a6336bd302924a5c72fffa174e5648&quot; &gt;&lt;/div&gt;\n",
              "        \n",
              "&lt;/body&gt;\n",
              "&lt;script&gt;    \n",
              "    \n",
              "            var map_33a6336bd302924a5c72fffa174e5648 = L.map(\n",
              "                &quot;map_33a6336bd302924a5c72fffa174e5648&quot;,\n",
              "                {\n",
              "                    center: [-12.057158, -77.048902],\n",
              "                    crs: L.CRS.EPSG3857,\n",
              "                    zoom: 6,\n",
              "                    zoomControl: true,\n",
              "                    preferCanvas: false,\n",
              "                }\n",
              "            );\n",
              "\n",
              "            \n",
              "\n",
              "        \n",
              "    \n",
              "            var tile_layer_184ddf1375ea9474a1be1b7bba67db85 = L.tileLayer(\n",
              "                &quot;https://{s}.tile.openstreetmap.org/{z}/{x}/{y}.png&quot;,\n",
              "                {&quot;attribution&quot;: &quot;Data by \\u0026copy; \\u003ca href=\\&quot;http://openstreetmap.org\\&quot;\\u003eOpenStreetMap\\u003c/a\\u003e, under \\u003ca href=\\&quot;http://www.openstreetmap.org/copyright\\&quot;\\u003eODbL\\u003c/a\\u003e.&quot;, &quot;detectRetina&quot;: false, &quot;maxNativeZoom&quot;: 18, &quot;maxZoom&quot;: 18, &quot;minZoom&quot;: 0, &quot;noWrap&quot;: false, &quot;opacity&quot;: 1, &quot;subdomains&quot;: &quot;abc&quot;, &quot;tms&quot;: false}\n",
              "            ).addTo(map_33a6336bd302924a5c72fffa174e5648);\n",
              "        \n",
              "    \n",
              "            var heat_map_083071892cc44f6b49b63416a913d049 = L.heatLayer(\n",
              "                [[-12.1201435, -77.0239598], [-12.0225094, -76.833715], [-12.0896856, -77.0684536], [-12.0957584, -76.9813229], [-12.0153092, -76.874213], [-12.0957639, -77.02336], [-12.0297405, -76.9455815], [-11.899533, -77.0576157], [-12.0766427, -77.0506477], [-5.1856924, -80.6545414], [-12.1196524, -77.0057059], [-12.1363533, -77.0023247], [-12.05287, -77.006517], [-8.1114492, -79.0260459], [-12.090449, -77.018342], [-12.112711, -76.9643341], [-12.0384343, -76.9570281], [-12.064683, -77.01366], [-12.0621164, -76.9497108], [-12.1213057, -76.9997372]],\n",
              "                {&quot;blur&quot;: 15, &quot;maxZoom&quot;: 18, &quot;minOpacity&quot;: 0.4, &quot;radius&quot;: 15}\n",
              "            ).addTo(map_33a6336bd302924a5c72fffa174e5648);\n",
              "        \n",
              "&lt;/script&gt;\" style=\"position:absolute;width:100%;height:100%;left:0;top:0;border:none !important;\" allowfullscreen webkitallowfullscreen mozallowfullscreen></iframe></div></div>"
            ]
          },
          "metadata": {},
          "execution_count": 81
        }
      ],
      "source": [
        "from folium import plugins\n",
        "from folium.plugins import HeatMap\n",
        "\n",
        "HeatMap (distritos,radius=15, max_val=0.1, min_opacity=0.4).add_to(mapa)\n",
        "mapa"
      ]
    },
    {
      "cell_type": "markdown",
      "metadata": {
        "id": "f8Avo3kPzX28"
      },
      "source": [
        "# Correlacion de variables"
      ]
    },
    {
      "cell_type": "code",
      "execution_count": null,
      "metadata": {
        "colab": {
          "base_uri": "https://localhost:8080/",
          "height": 966
        },
        "id": "1NofJttpzVvC",
        "outputId": "0e8339cc-6343-4e28-f3a5-2dc9e0892c46"
      },
      "outputs": [
        {
          "output_type": "execute_result",
          "data": {
            "text/plain": [
              "array([[<matplotlib.axes._subplots.AxesSubplot object at 0x7f6717794d50>,\n",
              "        <matplotlib.axes._subplots.AxesSubplot object at 0x7f6717850110>,\n",
              "        <matplotlib.axes._subplots.AxesSubplot object at 0x7f6717745c50>,\n",
              "        <matplotlib.axes._subplots.AxesSubplot object at 0x7f6717709290>,\n",
              "        <matplotlib.axes._subplots.AxesSubplot object at 0x7f671773f890>],\n",
              "       [<matplotlib.axes._subplots.AxesSubplot object at 0x7f67176f6e90>,\n",
              "        <matplotlib.axes._subplots.AxesSubplot object at 0x7f67176bb550>,\n",
              "        <matplotlib.axes._subplots.AxesSubplot object at 0x7f671766fa90>,\n",
              "        <matplotlib.axes._subplots.AxesSubplot object at 0x7f671766fad0>,\n",
              "        <matplotlib.axes._subplots.AxesSubplot object at 0x7f6717633210>],\n",
              "       [<matplotlib.axes._subplots.AxesSubplot object at 0x7f67175a1d10>,\n",
              "        <matplotlib.axes._subplots.AxesSubplot object at 0x7f6717565350>,\n",
              "        <matplotlib.axes._subplots.AxesSubplot object at 0x7f6717521a50>,\n",
              "        <matplotlib.axes._subplots.AxesSubplot object at 0x7f67174ceb90>,\n",
              "        <matplotlib.axes._subplots.AxesSubplot object at 0x7f671749b690>],\n",
              "       [<matplotlib.axes._subplots.AxesSubplot object at 0x7f6717451c90>,\n",
              "        <matplotlib.axes._subplots.AxesSubplot object at 0x7f67174172d0>,\n",
              "        <matplotlib.axes._subplots.AxesSubplot object at 0x7f67173cd8d0>,\n",
              "        <matplotlib.axes._subplots.AxesSubplot object at 0x7f6717383ed0>,\n",
              "        <matplotlib.axes._subplots.AxesSubplot object at 0x7f6717348510>],\n",
              "       [<matplotlib.axes._subplots.AxesSubplot object at 0x7f671737fb10>,\n",
              "        <matplotlib.axes._subplots.AxesSubplot object at 0x7f67172c2150>,\n",
              "        <matplotlib.axes._subplots.AxesSubplot object at 0x7f67172f9750>,\n",
              "        <matplotlib.axes._subplots.AxesSubplot object at 0x7f67172afd50>,\n",
              "        <matplotlib.axes._subplots.AxesSubplot object at 0x7f6717273390>]],\n",
              "      dtype=object)"
            ]
          },
          "metadata": {},
          "execution_count": 82
        },
        {
          "output_type": "display_data",
          "data": {
            "text/plain": [
              "<Figure size 864x576 with 25 Axes>"
            ],
            "image/png": "[encoded data removed]"
          },
          "metadata": {
            "needs_background": "light"
          }
        }
      ],
      "source": [
        "#diagramas de coorelacion, se me ocurre que sea de todas las variables contra todas\n",
        "from pandas.plotting import scatter_matrix\n",
        "atributos=[\"Valor comercial\",\"Piso\",\"Provincia\",\"Numero de frentes\",\"Numero de estacionamiento\",\"Edad\",\"Tipo de via\",\"Categoria del bien\",\"Estado de conservacion\"]\n",
        "\n",
        "scatter_matrix(df[atributos], figsize=(12,8))"
      ]
    },
    {
      "cell_type": "code",
      "execution_count": null,
      "metadata": {
        "colab": {
          "base_uri": "https://localhost:8080/",
          "height": 401
        },
        "id": "6VhykUo-_Obn",
        "outputId": "c12bf804-1cbd-4c7d-c592-f0ff0de4cf15"
      },
      "outputs": [
        {
          "output_type": "display_data",
          "data": {
            "text/plain": [
              "<Figure size 432x288 with 2 Axes>"
            ],
            "image/png": "[encoded data removed]"
          },
          "metadata": {
            "needs_background": "light"
          }
        }
      ],
      "source": [
        "import seaborn as sn\n",
        "\n",
        "corrMatrix=df[atributos].corr().round(2)\n",
        "sn.heatmap(corrMatrix, annot=True,cmap='coolwarm')\n",
        "plt.show()"
      ]
    },
    {
      "cell_type": "markdown",
      "metadata": {
        "id": "2bdb8nXkHaov"
      },
      "source": [
        "# Preparar los datos y sus transformaciones"
      ]
    },
    {
      "cell_type": "code",
      "execution_count": null,
      "metadata": {
        "colab": {
          "base_uri": "https://localhost:8080/"
        },
        "id": "bIVUMSX-HYex",
        "outputId": "42412299-24d0-48f5-b9f9-a3871c63fc97"
      },
      "outputs": [
        {
          "output_type": "execute_result",
          "data": {
            "text/plain": [
              "False"
            ]
          },
          "metadata": {},
          "execution_count": 84
        }
      ],
      "source": [
        "#revisar y eliminar los datos nulos\n",
        "df.isnull().values.any()\n"
      ]
    },
    {
      "cell_type": "code",
      "execution_count": null,
      "metadata": {
        "colab": {
          "base_uri": "https://localhost:8080/"
        },
        "id": "AOSKc8KTH4QE",
        "outputId": "3a471aac-54cb-41f6-e630-f53b965a684b"
      },
      "outputs": [
        {
          "output_type": "execute_result",
          "data": {
            "text/plain": [
              "20"
            ]
          },
          "metadata": {},
          "execution_count": 50
        }
      ],
      "source": [
        "#numero de datos\n",
        "\n",
        "len(df)"
      ]
    },
    {
      "cell_type": "code",
      "execution_count": null,
      "metadata": {
        "id": "omdP5tzaH9An"
      },
      "outputs": [],
      "source": [
        "#eliminar datos nulos hijo de madre se fue mi base de datos al gulag\n",
        "\n",
        "#df=df.dropna()\n",
        "#len(df)"
      ]
    },
    {
      "cell_type": "markdown",
      "source": [
        "# categorizar(lo haremos nominal)"
      ],
      "metadata": {
        "id": "3VgvOTVMQKtq"
      }
    },
    {
      "cell_type": "code",
      "source": [
        "df['Provincia'].value_counts()"
      ],
      "metadata": {
        "colab": {
          "base_uri": "https://localhost:8080/"
        },
        "id": "bXU5jphLNvfp",
        "outputId": "fa69287a-a861-4b2c-e89f-26a968166c33"
      },
      "execution_count": null,
      "outputs": [
        {
          "output_type": "execute_result",
          "data": {
            "text/plain": [
              "Lima        18\n",
              "Trujillo     1\n",
              "Piura        1\n",
              "Name: Provincia, dtype: int64"
            ]
          },
          "metadata": {},
          "execution_count": 85
        }
      ]
    },
    {
      "cell_type": "code",
      "source": [
        "from sklearn.preprocessing import OneHotEncoder\n",
        "Nominal_codificador=OneHotEncoder(sparse=False)\n",
        "Nominal_codificador.fit_transform(df[['Provincia']])"
      ],
      "metadata": {
        "colab": {
          "base_uri": "https://localhost:8080/"
        },
        "id": "okzzUkJKQmU5",
        "outputId": "67159863-0697-46cf-8f5b-3a128d99aec8"
      },
      "execution_count": null,
      "outputs": [
        {
          "output_type": "execute_result",
          "data": {
            "text/plain": [
              "array([[1., 0., 0.],\n",
              "       [1., 0., 0.],\n",
              "       [1., 0., 0.],\n",
              "       [1., 0., 0.],\n",
              "       [1., 0., 0.],\n",
              "       [1., 0., 0.],\n",
              "       [1., 0., 0.],\n",
              "       [1., 0., 0.],\n",
              "       [1., 0., 0.],\n",
              "       [1., 0., 0.],\n",
              "       [1., 0., 0.],\n",
              "       [1., 0., 0.],\n",
              "       [1., 0., 0.],\n",
              "       [0., 0., 1.],\n",
              "       [1., 0., 0.],\n",
              "       [1., 0., 0.],\n",
              "       [1., 0., 0.],\n",
              "       [1., 0., 0.],\n",
              "       [0., 1., 0.],\n",
              "       [1., 0., 0.]])"
            ]
          },
          "metadata": {},
          "execution_count": 86
        }
      ]
    },
    {
      "cell_type": "code",
      "source": [
        "#nominal\n",
        "Nominal_codificador.categories_"
      ],
      "metadata": {
        "colab": {
          "base_uri": "https://localhost:8080/"
        },
        "id": "iKINII9RRiI6",
        "outputId": "de1d4b91-c5d7-4cb0-f7a8-b820a67c9331"
      },
      "execution_count": null,
      "outputs": [
        {
          "output_type": "execute_result",
          "data": {
            "text/plain": [
              "[array(['Lima', 'Piura', 'Trujillo'], dtype=object)]"
            ]
          },
          "metadata": {},
          "execution_count": 87
        }
      ]
    },
    {
      "cell_type": "markdown",
      "source": [
        "# PIPELINE"
      ],
      "metadata": {
        "id": "AcyxnGrgR0EZ"
      }
    },
    {
      "cell_type": "code",
      "source": [
        "from sklearn.utils.fixes import sklearn\n",
        "#MODULOS IMPORTANTES\n",
        "from sklearn.pipeline import Pipeline\n",
        "from sklearn.compose import ColumnTransformer\n",
        "from sklearn.preprocessing import StandardScaler, OrdinalEncoder, OneHotEncoder\n",
        "\n",
        "#lista de variables numericas y categoricas\n",
        "numeric_list=[\"Tipo de via\", \"Piso\", \"Numero de estacionamiento\", \"Depositos\", \"Latitud\", \"Longitud\",\"Numero de frentes\", \"Edad\", \"Elevador\", \"Area Terreno\", \"Area Construccion\",\"Valor comercial\" ]\n",
        "categorical_list=[\"Departamento\",\"Provincia\", \"Distrito\",\"Categoria del bien\", \"Posicion\", \"Estado de conservacion\", \"Metodo Representado\" ]"
      ],
      "metadata": {
        "id": "X0V2FuT5R33F"
      },
      "execution_count": null,
      "outputs": []
    },
    {
      "cell_type": "code",
      "source": [
        "from pandas.core.arrays import categorical\n",
        "#pipeline de procesamiento para los datos numericos y categoricos\n",
        "numeric_transformer= Pipeline(steps=[(\"scaler\", StandardScaler())]) #Reescalar los numeros\n",
        "categorical_transformer=Pipeline(steps=[(\"onehot\", OneHotEncoder())]) #Casterar a numeros"
      ],
      "metadata": {
        "id": "vNIu27gDYdq7"
      },
      "execution_count": null,
      "outputs": []
    },
    {
      "cell_type": "markdown",
      "source": [
        "ColumnTransformer function"
      ],
      "metadata": {
        "id": "OO0IzuEBamYd"
      }
    },
    {
      "cell_type": "code",
      "source": [
        "from matplotlib.transforms import Transform\n",
        "#definir transformaciones\n",
        "transformer= ColumnTransformer ([\n",
        "    (\"num\", numeric_transformer,numeric_list) , (\"cat\", categorical_transformer, categorical_list)\n",
        "]);"
      ],
      "metadata": {
        "id": "mZ9ZlbUNaxSB"
      },
      "execution_count": null,
      "outputs": []
    },
    {
      "cell_type": "markdown",
      "source": [
        "# Preparacion de los datos 2.0"
      ],
      "metadata": {
        "id": "m9YXwQyIcGZN"
      }
    },
    {
      "cell_type": "markdown",
      "source": [],
      "metadata": {
        "id": "SZHzgng08wdX"
      }
    },
    {
      "cell_type": "code",
      "source": [
        "#crear x (quitar la columna o el campo valor comercial)\n",
        "X = df.drop(columns=[\"Valor comercial\", 'Fecha entrega del Informe'], axis=1)"
      ],
      "metadata": {
        "id": "2pTT8CQe3cqn"
      },
      "execution_count": 6,
      "outputs": []
    },
    {
      "cell_type": "code",
      "source": [
        "#crear y (valor de la columna valor comercial)\n",
        "y = df[\"Valor comercial\"]"
      ],
      "metadata": {
        "id": "cHwLONYAcV6F"
      },
      "execution_count": 7,
      "outputs": []
    },
    {
      "cell_type": "code",
      "source": [
        "#Forma 1\n",
        "from sklearn.model_selection import train_test_split\n",
        "#X_main, X_test, y_main, y_test = train_test_split(X,y,test_size=0.8) # Puedes usar desde esta linea\n",
        "#X_train, X_val, y_train, y_val = train_test_split(X_main,y_main, train_size=0.2) # \n",
        "X_train, X_test, y_train, y_test = train_test_split(X,y, train_size=0.8) "
      ],
      "metadata": {
        "id": "O129luAv1wS3"
      },
      "execution_count": 8,
      "outputs": []
    },
    {
      "cell_type": "code",
      "source": [
        "#revisa el tamaño de cada muesta\n",
        "X_train.shape, X_test.shape, y_train.shape, y_test.shape\n",
        "\n",
        "#hasta aquí el tuto"
      ],
      "metadata": {
        "id": "9tA_VHSXAJyL",
        "colab": {
          "base_uri": "https://localhost:8080/"
        },
        "outputId": "bd5de3ef-8cfe-4104-c8f6-1dbcc9f16a34"
      },
      "execution_count": 9,
      "outputs": [
        {
          "output_type": "execute_result",
          "data": {
            "text/plain": [
              "((16, 19), (4, 19), (16,), (4,))"
            ]
          },
          "metadata": {},
          "execution_count": 9
        }
      ]
    },
    {
      "cell_type": "code",
      "source": [
        "#Regresion lineal\n",
        "from sklearn.metrics import mean_squared_error as mse \n",
        "from sklearn.linear_model import LinearRegression\n",
        "lm = LinearRegression().fit(X_train, y_train)\n",
        "mse(lm.predict(X_train, y_train, squared = False), mse(lm.predict(X), y))"
      ],
      "metadata": {
        "id": "c6gapQ5yfHJw",
        "colab": {
          "base_uri": "https://localhost:8080/",
          "height": 370
        },
        "outputId": "458bd1b6-4bf6-44e9-c2b8-aa8bbb2dac35"
      },
      "execution_count": 15,
      "outputs": [
        {
          "output_type": "error",
          "ename": "ValueError",
          "evalue": "ignored",
          "traceback": [
            "\u001b[0;31m---------------------------------------------------------------------------\u001b[0m",
            "\u001b[0;31mValueError\u001b[0m                                Traceback (most recent call last)",
            "\u001b[0;32m<ipython-input-15-3a7a4e1ab4bc>\u001b[0m in \u001b[0;36m<module>\u001b[0;34m\u001b[0m\n\u001b[1;32m      2\u001b[0m \u001b[0;32mfrom\u001b[0m \u001b[0msklearn\u001b[0m\u001b[0;34m.\u001b[0m\u001b[0mmetrics\u001b[0m \u001b[0;32mimport\u001b[0m \u001b[0mmean_squared_error\u001b[0m \u001b[0;32mas\u001b[0m \u001b[0mmse\u001b[0m\u001b[0;34m\u001b[0m\u001b[0;34m\u001b[0m\u001b[0m\n\u001b[1;32m      3\u001b[0m \u001b[0;32mfrom\u001b[0m \u001b[0msklearn\u001b[0m\u001b[0;34m.\u001b[0m\u001b[0mlinear_model\u001b[0m \u001b[0;32mimport\u001b[0m \u001b[0mLinearRegression\u001b[0m\u001b[0;34m\u001b[0m\u001b[0;34m\u001b[0m\u001b[0m\n\u001b[0;32m----> 4\u001b[0;31m \u001b[0mlm\u001b[0m \u001b[0;34m=\u001b[0m \u001b[0mLinearRegression\u001b[0m\u001b[0;34m(\u001b[0m\u001b[0;34m)\u001b[0m\u001b[0;34m.\u001b[0m\u001b[0mfit\u001b[0m\u001b[0;34m(\u001b[0m\u001b[0mX_train\u001b[0m\u001b[0;34m,\u001b[0m \u001b[0my_train\u001b[0m\u001b[0;34m)\u001b[0m\u001b[0;34m\u001b[0m\u001b[0;34m\u001b[0m\u001b[0m\n\u001b[0m\u001b[1;32m      5\u001b[0m \u001b[0mmse\u001b[0m\u001b[0;34m(\u001b[0m\u001b[0mlm\u001b[0m\u001b[0;34m.\u001b[0m\u001b[0mpredict\u001b[0m\u001b[0;34m(\u001b[0m\u001b[0mX_train\u001b[0m\u001b[0;34m,\u001b[0m \u001b[0my_train\u001b[0m\u001b[0;34m,\u001b[0m \u001b[0msquared\u001b[0m \u001b[0;34m=\u001b[0m \u001b[0;32mFalse\u001b[0m\u001b[0;34m)\u001b[0m\u001b[0;34m,\u001b[0m \u001b[0mmse\u001b[0m\u001b[0;34m(\u001b[0m\u001b[0mlm\u001b[0m\u001b[0;34m.\u001b[0m\u001b[0mpredict\u001b[0m\u001b[0;34m(\u001b[0m\u001b[0mX\u001b[0m\u001b[0;34m)\u001b[0m\u001b[0;34m,\u001b[0m \u001b[0my\u001b[0m\u001b[0;34m)\u001b[0m\u001b[0;34m)\u001b[0m\u001b[0;34m\u001b[0m\u001b[0;34m\u001b[0m\u001b[0m\n",
            "\u001b[0;32m/usr/local/lib/python3.7/dist-packages/sklearn/linear_model/_base.py\u001b[0m in \u001b[0;36mfit\u001b[0;34m(self, X, y, sample_weight)\u001b[0m\n\u001b[1;32m    661\u001b[0m \u001b[0;34m\u001b[0m\u001b[0m\n\u001b[1;32m    662\u001b[0m         X, y = self._validate_data(\n\u001b[0;32m--> 663\u001b[0;31m             \u001b[0mX\u001b[0m\u001b[0;34m,\u001b[0m \u001b[0my\u001b[0m\u001b[0;34m,\u001b[0m \u001b[0maccept_sparse\u001b[0m\u001b[0;34m=\u001b[0m\u001b[0maccept_sparse\u001b[0m\u001b[0;34m,\u001b[0m \u001b[0my_numeric\u001b[0m\u001b[0;34m=\u001b[0m\u001b[0;32mTrue\u001b[0m\u001b[0;34m,\u001b[0m \u001b[0mmulti_output\u001b[0m\u001b[0;34m=\u001b[0m\u001b[0;32mTrue\u001b[0m\u001b[0;34m\u001b[0m\u001b[0;34m\u001b[0m\u001b[0m\n\u001b[0m\u001b[1;32m    664\u001b[0m         )\n\u001b[1;32m    665\u001b[0m \u001b[0;34m\u001b[0m\u001b[0m\n",
            "\u001b[0;32m/usr/local/lib/python3.7/dist-packages/sklearn/base.py\u001b[0m in \u001b[0;36m_validate_data\u001b[0;34m(self, X, y, reset, validate_separately, **check_params)\u001b[0m\n\u001b[1;32m    579\u001b[0m                 \u001b[0my\u001b[0m \u001b[0;34m=\u001b[0m \u001b[0mcheck_array\u001b[0m\u001b[0;34m(\u001b[0m\u001b[0my\u001b[0m\u001b[0;34m,\u001b[0m \u001b[0;34m**\u001b[0m\u001b[0mcheck_y_params\u001b[0m\u001b[0;34m)\u001b[0m\u001b[0;34m\u001b[0m\u001b[0;34m\u001b[0m\u001b[0m\n\u001b[1;32m    580\u001b[0m             \u001b[0;32melse\u001b[0m\u001b[0;34m:\u001b[0m\u001b[0;34m\u001b[0m\u001b[0;34m\u001b[0m\u001b[0m\n\u001b[0;32m--> 581\u001b[0;31m                 \u001b[0mX\u001b[0m\u001b[0;34m,\u001b[0m \u001b[0my\u001b[0m \u001b[0;34m=\u001b[0m \u001b[0mcheck_X_y\u001b[0m\u001b[0;34m(\u001b[0m\u001b[0mX\u001b[0m\u001b[0;34m,\u001b[0m \u001b[0my\u001b[0m\u001b[0;34m,\u001b[0m \u001b[0;34m**\u001b[0m\u001b[0mcheck_params\u001b[0m\u001b[0;34m)\u001b[0m\u001b[0;34m\u001b[0m\u001b[0;34m\u001b[0m\u001b[0m\n\u001b[0m\u001b[1;32m    582\u001b[0m             \u001b[0mout\u001b[0m \u001b[0;34m=\u001b[0m \u001b[0mX\u001b[0m\u001b[0;34m,\u001b[0m \u001b[0my\u001b[0m\u001b[0;34m\u001b[0m\u001b[0;34m\u001b[0m\u001b[0m\n\u001b[1;32m    583\u001b[0m \u001b[0;34m\u001b[0m\u001b[0m\n",
            "\u001b[0;32m/usr/local/lib/python3.7/dist-packages/sklearn/utils/validation.py\u001b[0m in \u001b[0;36mcheck_X_y\u001b[0;34m(X, y, accept_sparse, accept_large_sparse, dtype, order, copy, force_all_finite, ensure_2d, allow_nd, multi_output, ensure_min_samples, ensure_min_features, y_numeric, estimator)\u001b[0m\n\u001b[1;32m    974\u001b[0m         \u001b[0mensure_min_samples\u001b[0m\u001b[0;34m=\u001b[0m\u001b[0mensure_min_samples\u001b[0m\u001b[0;34m,\u001b[0m\u001b[0;34m\u001b[0m\u001b[0;34m\u001b[0m\u001b[0m\n\u001b[1;32m    975\u001b[0m         \u001b[0mensure_min_features\u001b[0m\u001b[0;34m=\u001b[0m\u001b[0mensure_min_features\u001b[0m\u001b[0;34m,\u001b[0m\u001b[0;34m\u001b[0m\u001b[0;34m\u001b[0m\u001b[0m\n\u001b[0;32m--> 976\u001b[0;31m         \u001b[0mestimator\u001b[0m\u001b[0;34m=\u001b[0m\u001b[0mestimator\u001b[0m\u001b[0;34m,\u001b[0m\u001b[0;34m\u001b[0m\u001b[0;34m\u001b[0m\u001b[0m\n\u001b[0m\u001b[1;32m    977\u001b[0m     )\n\u001b[1;32m    978\u001b[0m \u001b[0;34m\u001b[0m\u001b[0m\n",
            "\u001b[0;32m/usr/local/lib/python3.7/dist-packages/sklearn/utils/validation.py\u001b[0m in \u001b[0;36mcheck_array\u001b[0;34m(array, accept_sparse, accept_large_sparse, dtype, order, copy, force_all_finite, ensure_2d, allow_nd, ensure_min_samples, ensure_min_features, estimator)\u001b[0m\n\u001b[1;32m    744\u001b[0m                     \u001b[0marray\u001b[0m \u001b[0;34m=\u001b[0m \u001b[0marray\u001b[0m\u001b[0;34m.\u001b[0m\u001b[0mastype\u001b[0m\u001b[0;34m(\u001b[0m\u001b[0mdtype\u001b[0m\u001b[0;34m,\u001b[0m \u001b[0mcasting\u001b[0m\u001b[0;34m=\u001b[0m\u001b[0;34m\"unsafe\"\u001b[0m\u001b[0;34m,\u001b[0m \u001b[0mcopy\u001b[0m\u001b[0;34m=\u001b[0m\u001b[0;32mFalse\u001b[0m\u001b[0;34m)\u001b[0m\u001b[0;34m\u001b[0m\u001b[0;34m\u001b[0m\u001b[0m\n\u001b[1;32m    745\u001b[0m                 \u001b[0;32melse\u001b[0m\u001b[0;34m:\u001b[0m\u001b[0;34m\u001b[0m\u001b[0;34m\u001b[0m\u001b[0m\n\u001b[0;32m--> 746\u001b[0;31m                     \u001b[0marray\u001b[0m \u001b[0;34m=\u001b[0m \u001b[0mnp\u001b[0m\u001b[0;34m.\u001b[0m\u001b[0masarray\u001b[0m\u001b[0;34m(\u001b[0m\u001b[0marray\u001b[0m\u001b[0;34m,\u001b[0m \u001b[0morder\u001b[0m\u001b[0;34m=\u001b[0m\u001b[0morder\u001b[0m\u001b[0;34m,\u001b[0m \u001b[0mdtype\u001b[0m\u001b[0;34m=\u001b[0m\u001b[0mdtype\u001b[0m\u001b[0;34m)\u001b[0m\u001b[0;34m\u001b[0m\u001b[0;34m\u001b[0m\u001b[0m\n\u001b[0m\u001b[1;32m    747\u001b[0m             \u001b[0;32mexcept\u001b[0m \u001b[0mComplexWarning\u001b[0m \u001b[0;32mas\u001b[0m \u001b[0mcomplex_warning\u001b[0m\u001b[0;34m:\u001b[0m\u001b[0;34m\u001b[0m\u001b[0;34m\u001b[0m\u001b[0m\n\u001b[1;32m    748\u001b[0m                 raise ValueError(\n",
            "\u001b[0;32m/usr/local/lib/python3.7/dist-packages/pandas/core/generic.py\u001b[0m in \u001b[0;36m__array__\u001b[0;34m(self, dtype)\u001b[0m\n\u001b[1;32m   1991\u001b[0m \u001b[0;34m\u001b[0m\u001b[0m\n\u001b[1;32m   1992\u001b[0m     \u001b[0;32mdef\u001b[0m \u001b[0m__array__\u001b[0m\u001b[0;34m(\u001b[0m\u001b[0mself\u001b[0m\u001b[0;34m,\u001b[0m \u001b[0mdtype\u001b[0m\u001b[0;34m:\u001b[0m \u001b[0mNpDtype\u001b[0m \u001b[0;34m|\u001b[0m \u001b[0;32mNone\u001b[0m \u001b[0;34m=\u001b[0m \u001b[0;32mNone\u001b[0m\u001b[0;34m)\u001b[0m \u001b[0;34m->\u001b[0m \u001b[0mnp\u001b[0m\u001b[0;34m.\u001b[0m\u001b[0mndarray\u001b[0m\u001b[0;34m:\u001b[0m\u001b[0;34m\u001b[0m\u001b[0;34m\u001b[0m\u001b[0m\n\u001b[0;32m-> 1993\u001b[0;31m         \u001b[0;32mreturn\u001b[0m \u001b[0mnp\u001b[0m\u001b[0;34m.\u001b[0m\u001b[0masarray\u001b[0m\u001b[0;34m(\u001b[0m\u001b[0mself\u001b[0m\u001b[0;34m.\u001b[0m\u001b[0m_values\u001b[0m\u001b[0;34m,\u001b[0m \u001b[0mdtype\u001b[0m\u001b[0;34m=\u001b[0m\u001b[0mdtype\u001b[0m\u001b[0;34m)\u001b[0m\u001b[0;34m\u001b[0m\u001b[0;34m\u001b[0m\u001b[0m\n\u001b[0m\u001b[1;32m   1994\u001b[0m \u001b[0;34m\u001b[0m\u001b[0m\n\u001b[1;32m   1995\u001b[0m     def __array_wrap__(\n",
            "\u001b[0;31mValueError\u001b[0m: could not convert string to float: 'Lima'"
          ]
        }
      ]
    },
    {
      "cell_type": "markdown",
      "source": [
        "# Fase de entrenamiento"
      ],
      "metadata": {
        "id": "sI4ArQcFxsZO"
      }
    },
    {
      "cell_type": "markdown",
      "source": [
        "Sigue agregar entreno con datos anteriores\n"
      ],
      "metadata": {
        "id": "ncA9Vciz95ti"
      }
    },
    {
      "cell_type": "code",
      "source": [
        "#llama al modelo lineal\n",
        "from sklearn.linear_model import LinearRegression\n",
        "linear_regression = LinearRegression()"
      ],
      "metadata": {
        "id": "Hl82VPH7x3hi"
      },
      "execution_count": 13,
      "outputs": []
    },
    {
      "cell_type": "code",
      "source": [
        "#pipeline de la predicción completa\n",
        "model_linear_regression = Pipeline([\n",
        "    ('transformer', transformer),\n",
        "    ('linear_regression', linear_regression)\n",
        "])"
      ],
      "metadata": {
        "colab": {
          "base_uri": "https://localhost:8080/",
          "height": 239
        },
        "id": "vIq-QQzsyKsX",
        "outputId": "855736d4-9fde-4ce3-91e5-eb8ce7fef4cc"
      },
      "execution_count": 14,
      "outputs": [
        {
          "output_type": "error",
          "ename": "NameError",
          "evalue": "ignored",
          "traceback": [
            "\u001b[0;31m---------------------------------------------------------------------------\u001b[0m",
            "\u001b[0;31mNameError\u001b[0m                                 Traceback (most recent call last)",
            "\u001b[0;32m<ipython-input-14-555b263b7a03>\u001b[0m in \u001b[0;36m<module>\u001b[0;34m\u001b[0m\n\u001b[1;32m      1\u001b[0m \u001b[0;31m#pipeline de la predicción completa\u001b[0m\u001b[0;34m\u001b[0m\u001b[0;34m\u001b[0m\u001b[0;34m\u001b[0m\u001b[0m\n\u001b[0;32m----> 2\u001b[0;31m model_linear_regression = Pipeline([\n\u001b[0m\u001b[1;32m      3\u001b[0m     \u001b[0;34m(\u001b[0m\u001b[0;34m'transformer'\u001b[0m\u001b[0;34m,\u001b[0m \u001b[0mtransformer\u001b[0m\u001b[0;34m)\u001b[0m\u001b[0;34m,\u001b[0m\u001b[0;34m\u001b[0m\u001b[0;34m\u001b[0m\u001b[0m\n\u001b[1;32m      4\u001b[0m     \u001b[0;34m(\u001b[0m\u001b[0;34m'linear_regression'\u001b[0m\u001b[0;34m,\u001b[0m \u001b[0mlinear_regression\u001b[0m\u001b[0;34m)\u001b[0m\u001b[0;34m\u001b[0m\u001b[0;34m\u001b[0m\u001b[0m\n\u001b[1;32m      5\u001b[0m ])\n",
            "\u001b[0;31mNameError\u001b[0m: name 'Pipeline' is not defined"
          ]
        }
      ]
    },
    {
      "cell_type": "code",
      "source": [
        "model_linear_regression.fit(X_train, y_train)"
      ],
      "metadata": {
        "colab": {
          "base_uri": "https://localhost:8080/",
          "height": 168
        },
        "id": "DSJsJWlGyhF9",
        "outputId": "fd912f4f-361b-4267-9791-f58a0d63233a"
      },
      "execution_count": 12,
      "outputs": [
        {
          "output_type": "error",
          "ename": "NameError",
          "evalue": "ignored",
          "traceback": [
            "\u001b[0;31m---------------------------------------------------------------------------\u001b[0m",
            "\u001b[0;31mNameError\u001b[0m                                 Traceback (most recent call last)",
            "\u001b[0;32m<ipython-input-12-ee42f7c94f21>\u001b[0m in \u001b[0;36m<module>\u001b[0;34m\u001b[0m\n\u001b[0;32m----> 1\u001b[0;31m \u001b[0mmodel_linear_regression\u001b[0m\u001b[0;34m.\u001b[0m\u001b[0mfit\u001b[0m\u001b[0;34m(\u001b[0m\u001b[0mX_train\u001b[0m\u001b[0;34m,\u001b[0m \u001b[0my_train\u001b[0m\u001b[0;34m)\u001b[0m\u001b[0;34m\u001b[0m\u001b[0;34m\u001b[0m\u001b[0m\n\u001b[0m",
            "\u001b[0;31mNameError\u001b[0m: name 'model_linear_regression' is not defined"
          ]
        }
      ]
    },
    {
      "cell_type": "code",
      "source": [
        "#prueba de instancias\n",
        "muestra_datos = X_test.iloc[:4]\n",
        "model_linear_regression.predict(muestra_datos)"
      ],
      "metadata": {
        "colab": {
          "base_uri": "https://localhost:8080/",
          "height": 204
        },
        "id": "tqYDc5xy2JM0",
        "outputId": "b6fe5731-fede-4e1a-848b-8f087e9062e8"
      },
      "execution_count": 16,
      "outputs": [
        {
          "output_type": "error",
          "ename": "NameError",
          "evalue": "ignored",
          "traceback": [
            "\u001b[0;31m---------------------------------------------------------------------------\u001b[0m",
            "\u001b[0;31mNameError\u001b[0m                                 Traceback (most recent call last)",
            "\u001b[0;32m<ipython-input-16-3dcd92a975a1>\u001b[0m in \u001b[0;36m<module>\u001b[0;34m\u001b[0m\n\u001b[1;32m      1\u001b[0m \u001b[0;31m#prueba de instancias\u001b[0m\u001b[0;34m\u001b[0m\u001b[0;34m\u001b[0m\u001b[0;34m\u001b[0m\u001b[0m\n\u001b[1;32m      2\u001b[0m \u001b[0mmuestra_datos\u001b[0m \u001b[0;34m=\u001b[0m \u001b[0mX_test\u001b[0m\u001b[0;34m.\u001b[0m\u001b[0miloc\u001b[0m\u001b[0;34m[\u001b[0m\u001b[0;34m:\u001b[0m\u001b[0;36m4\u001b[0m\u001b[0;34m]\u001b[0m\u001b[0;34m\u001b[0m\u001b[0;34m\u001b[0m\u001b[0m\n\u001b[0;32m----> 3\u001b[0;31m \u001b[0mmodel_linear_regression\u001b[0m\u001b[0;34m.\u001b[0m\u001b[0mpredict\u001b[0m\u001b[0;34m(\u001b[0m\u001b[0mmuestra_datos\u001b[0m\u001b[0;34m)\u001b[0m\u001b[0;34m\u001b[0m\u001b[0;34m\u001b[0m\u001b[0m\n\u001b[0m",
            "\u001b[0;31mNameError\u001b[0m: name 'model_linear_regression' is not defined"
          ]
        }
      ]
    },
    {
      "cell_type": "code",
      "source": [
        "#comparamos con los valores reales\n",
        "#hoy 22/10/2022 si funca\n",
        "list(y_test.iloc[:4])"
      ],
      "metadata": {
        "colab": {
          "base_uri": "https://localhost:8080/"
        },
        "id": "8ewfv31v2YaW",
        "outputId": "625ebed8-2e09-4a27-e169-0677a9a422e9"
      },
      "execution_count": 17,
      "outputs": [
        {
          "output_type": "execute_result",
          "data": {
            "text/plain": [
              "['102,267.12', '298,389.00', '120,708.80', '604,139.20']"
            ]
          },
          "metadata": {},
          "execution_count": 17
        }
      ]
    },
    {
      "cell_type": "markdown",
      "source": [
        "# Evaluación de regresion lineal"
      ],
      "metadata": {
        "id": "L1S0918M7sr4"
      }
    },
    {
      "cell_type": "code",
      "source": [
        "#evaluar el modelo usando crossvalidation\n",
        "from sklearn.model_selection import cross_val_score\n",
        "\n",
        "linear_scores = cross_val_score(model_linear_regression, X, y,\n",
        "                                scoring = 'neg_mean_squared_error', cv = 10)"
      ],
      "metadata": {
        "colab": {
          "base_uri": "https://localhost:8080/",
          "height": 222
        },
        "id": "5S61Be8D71Ab",
        "outputId": "7bfa356d-4a09-4b94-a260-64ee828d3a5d"
      },
      "execution_count": 19,
      "outputs": [
        {
          "output_type": "error",
          "ename": "NameError",
          "evalue": "ignored",
          "traceback": [
            "\u001b[0;31m---------------------------------------------------------------------------\u001b[0m",
            "\u001b[0;31mNameError\u001b[0m                                 Traceback (most recent call last)",
            "\u001b[0;32m<ipython-input-19-e5def5ef823b>\u001b[0m in \u001b[0;36m<module>\u001b[0;34m\u001b[0m\n\u001b[1;32m      2\u001b[0m \u001b[0;32mfrom\u001b[0m \u001b[0msklearn\u001b[0m\u001b[0;34m.\u001b[0m\u001b[0mmodel_selection\u001b[0m \u001b[0;32mimport\u001b[0m \u001b[0mcross_val_score\u001b[0m\u001b[0;34m\u001b[0m\u001b[0;34m\u001b[0m\u001b[0m\n\u001b[1;32m      3\u001b[0m \u001b[0;34m\u001b[0m\u001b[0m\n\u001b[0;32m----> 4\u001b[0;31m linear_scores = cross_val_score(model_linear_regression, X, y,\n\u001b[0m\u001b[1;32m      5\u001b[0m                                 scoring = 'neg_mean_squared_error', cv = 10)\n",
            "\u001b[0;31mNameError\u001b[0m: name 'model_linear_regression' is not defined"
          ]
        }
      ]
    },
    {
      "cell_type": "code",
      "source": [
        "#cambiamos el signo y sacamos la raiz\n",
        "linear_rmse_scores = np.sqrt(-linear_scores)\n",
        "linear_rmse_scores"
      ],
      "metadata": {
        "colab": {
          "base_uri": "https://localhost:8080/",
          "height": 204
        },
        "id": "ESC9HUp38jpl",
        "outputId": "b0d9bea8-64f9-4d7e-c99e-b531154d81fd"
      },
      "execution_count": 20,
      "outputs": [
        {
          "output_type": "error",
          "ename": "NameError",
          "evalue": "ignored",
          "traceback": [
            "\u001b[0;31m---------------------------------------------------------------------------\u001b[0m",
            "\u001b[0;31mNameError\u001b[0m                                 Traceback (most recent call last)",
            "\u001b[0;32m<ipython-input-20-4a892d8ddb13>\u001b[0m in \u001b[0;36m<module>\u001b[0;34m\u001b[0m\n\u001b[1;32m      1\u001b[0m \u001b[0;31m#cambiamos el signo y sacamos la raiz\u001b[0m\u001b[0;34m\u001b[0m\u001b[0;34m\u001b[0m\u001b[0;34m\u001b[0m\u001b[0m\n\u001b[0;32m----> 2\u001b[0;31m \u001b[0mlinear_rmse_scores\u001b[0m \u001b[0;34m=\u001b[0m \u001b[0mnp\u001b[0m\u001b[0;34m.\u001b[0m\u001b[0msqrt\u001b[0m\u001b[0;34m(\u001b[0m\u001b[0;34m-\u001b[0m\u001b[0mlinear_scores\u001b[0m\u001b[0;34m)\u001b[0m\u001b[0;34m\u001b[0m\u001b[0;34m\u001b[0m\u001b[0m\n\u001b[0m\u001b[1;32m      3\u001b[0m \u001b[0mlinear_rmse_scores\u001b[0m\u001b[0;34m\u001b[0m\u001b[0;34m\u001b[0m\u001b[0m\n",
            "\u001b[0;31mNameError\u001b[0m: name 'linear_scores' is not defined"
          ]
        }
      ]
    },
    {
      "cell_type": "code",
      "source": [
        "#definimos una función que nos devuelva el score, mean y stadard deviation\n",
        "def display_scores(scores) : \n",
        "  print('Scores: ',scores)\n",
        "  print('Mean: ',scores.mean())\n",
        "  print('Standard Deviation: ', scores.std())"
      ],
      "metadata": {
        "id": "WJsGe9fG8x00"
      },
      "execution_count": 21,
      "outputs": []
    },
    {
      "cell_type": "code",
      "source": [
        "display_scores(linear_rmse_scores)"
      ],
      "metadata": {
        "colab": {
          "base_uri": "https://localhost:8080/",
          "height": 168
        },
        "id": "b7LahyZu9WKx",
        "outputId": "d8df5fae-959d-4122-d3f7-9ec5a0a70a21"
      },
      "execution_count": 22,
      "outputs": [
        {
          "output_type": "error",
          "ename": "NameError",
          "evalue": "ignored",
          "traceback": [
            "\u001b[0;31m---------------------------------------------------------------------------\u001b[0m",
            "\u001b[0;31mNameError\u001b[0m                                 Traceback (most recent call last)",
            "\u001b[0;32m<ipython-input-22-b4f4fe735302>\u001b[0m in \u001b[0;36m<module>\u001b[0;34m\u001b[0m\n\u001b[0;32m----> 1\u001b[0;31m \u001b[0mdisplay_scores\u001b[0m\u001b[0;34m(\u001b[0m\u001b[0mlinear_rmse_scores\u001b[0m\u001b[0;34m)\u001b[0m\u001b[0;34m\u001b[0m\u001b[0;34m\u001b[0m\u001b[0m\n\u001b[0m",
            "\u001b[0;31mNameError\u001b[0m: name 'linear_rmse_scores' is not defined"
          ]
        }
      ]
    },
    {
      "cell_type": "markdown",
      "source": [
        "# Árbol de desiciones "
      ],
      "metadata": {
        "id": "yso94xqF9kcI"
      }
    },
    {
      "cell_type": "code",
      "source": [
        "#aplicar el modelo de arbole de decision con DecisionTreeRegressor\n",
        "from sklearn.tree import DecisionTreeRegressor\n",
        "\n",
        "#1. nombrar una var para nuestro modelo\n",
        "tree_reg=DecisionTreeRegressor(random_state=42)\n",
        "#2. Definir el pipeline: Transformación + modelo\n",
        "model_tree_reg = Pipeline(steps =[\n",
        "    ('transformer',transformer),\n",
        "    ('tree_reg',tree_reg)\n",
        "])\n",
        "#3. Ajustar el modelo\n",
        "model_tree_reg.fit(X_train,y_train)\n"
      ],
      "metadata": {
        "id": "CuhxDF-H9rte"
      },
      "execution_count": null,
      "outputs": []
    },
    {
      "cell_type": "code",
      "source": [
        "#evaluacion\n",
        "\n",
        "#4. calcular el score con la validacion cruzada CV=10\n",
        "tree_\n",
        "#5. Realizar el cambio de signo y sacar la raiz\n",
        "\n",
        "#6. Mostrar el resultado usando la funcion display_scores"
      ],
      "metadata": {
        "id": "5hJ89QfF_hwa"
      },
      "execution_count": null,
      "outputs": []
    },
    {
      "cell_type": "markdown",
      "metadata": {
        "id": "Aire1PovmUXi"
      },
      "source": [
        "# Funciones que calculan cosas\n"
      ]
    },
    {
      "cell_type": "code",
      "execution_count": 23,
      "metadata": {
        "id": "-M_34agfmfl1"
      },
      "outputs": [],
      "source": [
        "#array of streats\n",
        "street = [\"Calle 1\", \"Calle 2\", \"Calle 3\", \"Calle 4\", \"Calle 5\", \"Calle 6\", \"Calle 7\"]\n",
        "\n",
        "#array of departments\n",
        "departments = [\"Departamento 1\", \"Departamento 2\", \"Departamento 3\", \"Departamento 4\", \"Departamento 5\"]\n",
        "\n",
        "\n",
        "#array of districts\n",
        "districts = [\"San Isidro\", \"La Victoria\", \"Santiago de Surco\", \"La Victoria\", \"Ate\", \"Breña\", \"Pueblo Libre\", \"Veintiseis de Octubre\"]\n",
        "\n",
        "#array of floars\n",
        "floars = [\"1\", \"2\", \"3\", \"4\", \"5\", \"6\", \"7\", \"8\", \"9\", \"10\"] \n",
        "\n",
        "\n",
        "#function to select the street\n",
        "def selectStreet():\n",
        "    print(\"Selecciona la calle\")\n",
        "    for i in range(len(street)):\n",
        "        print(i+1, street[i])\n",
        "    streetSelected = int(input(\"Selecciona una calle: \"))\n",
        "    return street[streetSelected-1]\n",
        "\n",
        "\n",
        "\n",
        "#function to calculate the price of the house\n",
        "def calculatePrice(street, department, district, floar):\n",
        "    price = 0\n",
        "    if street == \"Calle 1\":\n",
        "        price += 1000\n",
        "    elif street == \"Calle 2\":\n",
        "        price += 2000\n",
        "    elif street == \"Calle 3\":\n",
        "        price += 3000\n",
        "    elif street == \"Calle 4\":\n",
        "        price += 4000\n",
        "    elif street == \"Calle 5\":\n",
        "        price += 5000\n",
        "    elif street == \"Calle 6\":\n",
        "        price += 6000\n",
        "    elif street == \"Calle 7\":\n",
        "        price += 7000\n",
        "\n",
        "    if department == \"Departamento 1\":\n",
        "        price += 1000\n",
        "    elif department == \"Departamento 2\":\n",
        "        price += 2000\n",
        "    elif department == \"Departamento 3\":\n",
        "        price += 3000\n",
        "    elif department == \"Departamento 4\":\n",
        "        price += 4000\n",
        "    elif department == \"Departamento 5\":\n",
        "        price += 5000\n",
        "\n",
        "    if district == \"San Isidro\":\n",
        "        price += 1000\n",
        "    elif district == \"La Victoria\":\n",
        "        price += 2000\n",
        "    elif district == \"Santiago de Surco\":\n",
        "        price += 3000\n",
        "    elif district == \"Ate\":\n",
        "        price += 4000\n",
        "    elif district == \"Breña\":\n",
        "        price += 5000\n",
        "    elif district == \"Pueblo Libre\":\n",
        "        price += 6000\n",
        "    elif district == \"Veintiseis de Octubre\":\n",
        "        price += 7000\n",
        "\n",
        "    if floar == \"1\":\n",
        "        price += 1000\n",
        "    elif floar == \"2\":\n",
        "        price += 2000\n",
        "    elif floar == \"3\":\n",
        "        price += 3000\n",
        "    elif floar == \"4\":\n",
        "        price += 4000\n",
        "    elif floar == \"5\":\n",
        "        price += 5000\n",
        "    elif floar == \"6\":\n",
        "        price += 6000\n",
        "    elif floar == \"7\":\n",
        "        price += 7000\n",
        "    elif floar == \"8\":\n",
        "        price += 8000\n",
        "    elif floar == \"9\":\n",
        "        price += 9000\n",
        "    elif floar == \"10\":\n",
        "        price += 10000\n",
        "\n",
        "    return price"
      ]
    },
    {
      "cell_type": "code",
      "execution_count": 24,
      "metadata": {
        "id": "VybnGpzat0UB",
        "colab": {
          "base_uri": "https://localhost:8080/",
          "height": 476
        },
        "outputId": "07b641d1-aa2c-4a05-ed8d-d9f84193956a"
      },
      "outputs": [
        {
          "output_type": "stream",
          "name": "stdout",
          "text": [
            "Selecciona la calle\n",
            "1 Calle 1\n",
            "2 Calle 2\n",
            "3 Calle 3\n",
            "4 Calle 4\n",
            "5 Calle 5\n",
            "6 Calle 6\n",
            "7 Calle 7\n"
          ]
        },
        {
          "output_type": "error",
          "ename": "KeyboardInterrupt",
          "evalue": "ignored",
          "traceback": [
            "\u001b[0;31m---------------------------------------------------------------------------\u001b[0m",
            "\u001b[0;31mKeyboardInterrupt\u001b[0m                         Traceback (most recent call last)",
            "\u001b[0;32m<ipython-input-24-0c119e59dd92>\u001b[0m in \u001b[0;36m<module>\u001b[0;34m\u001b[0m\n\u001b[0;32m----> 1\u001b[0;31m \u001b[0mselectStreet\u001b[0m\u001b[0;34m(\u001b[0m\u001b[0;34m)\u001b[0m\u001b[0;34m\u001b[0m\u001b[0;34m\u001b[0m\u001b[0m\n\u001b[0m",
            "\u001b[0;32m<ipython-input-23-d69883ad37fd>\u001b[0m in \u001b[0;36mselectStreet\u001b[0;34m()\u001b[0m\n\u001b[1;32m     18\u001b[0m     \u001b[0;32mfor\u001b[0m \u001b[0mi\u001b[0m \u001b[0;32min\u001b[0m \u001b[0mrange\u001b[0m\u001b[0;34m(\u001b[0m\u001b[0mlen\u001b[0m\u001b[0;34m(\u001b[0m\u001b[0mstreet\u001b[0m\u001b[0;34m)\u001b[0m\u001b[0;34m)\u001b[0m\u001b[0;34m:\u001b[0m\u001b[0;34m\u001b[0m\u001b[0;34m\u001b[0m\u001b[0m\n\u001b[1;32m     19\u001b[0m         \u001b[0mprint\u001b[0m\u001b[0;34m(\u001b[0m\u001b[0mi\u001b[0m\u001b[0;34m+\u001b[0m\u001b[0;36m1\u001b[0m\u001b[0;34m,\u001b[0m \u001b[0mstreet\u001b[0m\u001b[0;34m[\u001b[0m\u001b[0mi\u001b[0m\u001b[0;34m]\u001b[0m\u001b[0;34m)\u001b[0m\u001b[0;34m\u001b[0m\u001b[0;34m\u001b[0m\u001b[0m\n\u001b[0;32m---> 20\u001b[0;31m     \u001b[0mstreetSelected\u001b[0m \u001b[0;34m=\u001b[0m \u001b[0mint\u001b[0m\u001b[0;34m(\u001b[0m\u001b[0minput\u001b[0m\u001b[0;34m(\u001b[0m\u001b[0;34m\"Selecciona una calle: \"\u001b[0m\u001b[0;34m)\u001b[0m\u001b[0;34m)\u001b[0m\u001b[0;34m\u001b[0m\u001b[0;34m\u001b[0m\u001b[0m\n\u001b[0m\u001b[1;32m     21\u001b[0m     \u001b[0;32mreturn\u001b[0m \u001b[0mstreet\u001b[0m\u001b[0;34m[\u001b[0m\u001b[0mstreetSelected\u001b[0m\u001b[0;34m-\u001b[0m\u001b[0;36m1\u001b[0m\u001b[0;34m]\u001b[0m\u001b[0;34m\u001b[0m\u001b[0;34m\u001b[0m\u001b[0m\n\u001b[1;32m     22\u001b[0m \u001b[0;34m\u001b[0m\u001b[0m\n",
            "\u001b[0;32m/usr/local/lib/python3.7/dist-packages/ipykernel/kernelbase.py\u001b[0m in \u001b[0;36mraw_input\u001b[0;34m(self, prompt)\u001b[0m\n\u001b[1;32m    861\u001b[0m             \u001b[0mself\u001b[0m\u001b[0;34m.\u001b[0m\u001b[0m_parent_ident\u001b[0m\u001b[0;34m,\u001b[0m\u001b[0;34m\u001b[0m\u001b[0;34m\u001b[0m\u001b[0m\n\u001b[1;32m    862\u001b[0m             \u001b[0mself\u001b[0m\u001b[0;34m.\u001b[0m\u001b[0m_parent_header\u001b[0m\u001b[0;34m,\u001b[0m\u001b[0;34m\u001b[0m\u001b[0;34m\u001b[0m\u001b[0m\n\u001b[0;32m--> 863\u001b[0;31m             \u001b[0mpassword\u001b[0m\u001b[0;34m=\u001b[0m\u001b[0;32mFalse\u001b[0m\u001b[0;34m,\u001b[0m\u001b[0;34m\u001b[0m\u001b[0;34m\u001b[0m\u001b[0m\n\u001b[0m\u001b[1;32m    864\u001b[0m         )\n\u001b[1;32m    865\u001b[0m \u001b[0;34m\u001b[0m\u001b[0m\n",
            "\u001b[0;32m/usr/local/lib/python3.7/dist-packages/ipykernel/kernelbase.py\u001b[0m in \u001b[0;36m_input_request\u001b[0;34m(self, prompt, ident, parent, password)\u001b[0m\n\u001b[1;32m    902\u001b[0m             \u001b[0;32mexcept\u001b[0m \u001b[0mKeyboardInterrupt\u001b[0m\u001b[0;34m:\u001b[0m\u001b[0;34m\u001b[0m\u001b[0;34m\u001b[0m\u001b[0m\n\u001b[1;32m    903\u001b[0m                 \u001b[0;31m# re-raise KeyboardInterrupt, to truncate traceback\u001b[0m\u001b[0;34m\u001b[0m\u001b[0;34m\u001b[0m\u001b[0;34m\u001b[0m\u001b[0m\n\u001b[0;32m--> 904\u001b[0;31m                 \u001b[0;32mraise\u001b[0m \u001b[0mKeyboardInterrupt\u001b[0m\u001b[0;34m(\u001b[0m\u001b[0;34m\"Interrupted by user\"\u001b[0m\u001b[0;34m)\u001b[0m \u001b[0;32mfrom\u001b[0m \u001b[0;32mNone\u001b[0m\u001b[0;34m\u001b[0m\u001b[0;34m\u001b[0m\u001b[0m\n\u001b[0m\u001b[1;32m    905\u001b[0m             \u001b[0;32mexcept\u001b[0m \u001b[0mException\u001b[0m \u001b[0;32mas\u001b[0m \u001b[0me\u001b[0m\u001b[0;34m:\u001b[0m\u001b[0;34m\u001b[0m\u001b[0;34m\u001b[0m\u001b[0m\n\u001b[1;32m    906\u001b[0m                 \u001b[0mself\u001b[0m\u001b[0;34m.\u001b[0m\u001b[0mlog\u001b[0m\u001b[0;34m.\u001b[0m\u001b[0mwarning\u001b[0m\u001b[0;34m(\u001b[0m\u001b[0;34m\"Invalid Message:\"\u001b[0m\u001b[0;34m,\u001b[0m \u001b[0mexc_info\u001b[0m\u001b[0;34m=\u001b[0m\u001b[0;32mTrue\u001b[0m\u001b[0;34m)\u001b[0m\u001b[0;34m\u001b[0m\u001b[0;34m\u001b[0m\u001b[0m\n",
            "\u001b[0;31mKeyboardInterrupt\u001b[0m: Interrupted by user"
          ]
        }
      ],
      "source": [
        "selectStreet()"
      ]
    }
  ],
  "metadata": {
    "colab": {
      "collapsed_sections": [
        "Iifjn1z7ZoHg",
        "FrrLXNsf4zYX",
        "54VNzzNX_UBf",
        "g-b-T_LpAkYe",
        "wIa-rCrnTXMR",
        "3VgvOTVMQKtq",
        "Aire1PovmUXi"
      ],
      "provenance": [],
      "history_visible": true,
      "include_colab_link": true
    },
    "kernelspec": {
      "display_name": "Python 3",
      "name": "python3"
    },
    "language_info": {
      "name": "python"
    }
  },
  "nbformat": 4,
  "nbformat_minor": 0
}