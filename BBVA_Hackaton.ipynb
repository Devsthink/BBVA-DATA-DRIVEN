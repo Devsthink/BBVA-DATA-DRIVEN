{
  "cells": [
    {
      "cell_type": "markdown",
      "metadata": {
        "id": "view-in-github",
        "colab_type": "text"
      },
      "source": [
        "<a href=\"https://colab.research.google.com/github/Devsthink/BBVA-DATA-DRIVEN/blob/main/BBVA_Hackaton.ipynb\" target=\"_parent\"><img src=\"https://colab.research.google.com/assets/colab-badge.svg\" alt=\"Open In Colab\"/></a>"
      ]
    },
    {
      "cell_type": "markdown",
      "metadata": {
        "id": "EiEW5j9oVbql"
      },
      "source": [
        "#Hackaton BBVA\n"
      ]
    },
    {
      "cell_type": "markdown",
      "metadata": {
        "id": "Iifjn1z7ZoHg"
      },
      "source": [
        "# Modelo de prediccion de valorizacion de inmuebles"
      ]
    },
    {
      "cell_type": "markdown",
      "metadata": {
        "id": "0dONvh494CCI"
      },
      "source": [
        "Librerias necesarias para creacion de modelo\n",
        "\n",
        "\n",
        "\n",
        "*   Manejo de arreglos en diferentes dimensiones\n",
        "*   Cargar y exportar datos\n",
        "*   Redes Neuronales\n",
        "*   Ubicaciones geograficas\n",
        "\n",
        "\n",
        "\n"
      ]
    },
    {
      "cell_type": "markdown",
      "metadata": {
        "id": "14VSLnSL4on-"
      },
      "source": [
        "# Obtención de datos\n",
        "\n",
        "*   Carga de datos a variable local\n",
        "\n"
      ]
    },
    {
      "cell_type": "code",
      "execution_count": 122,
      "metadata": {
        "colab": {
          "base_uri": "https://localhost:8080/"
        },
        "id": "b1XzvHg4VWug",
        "outputId": "99e40ec4-6036-4adf-b1bc-767a7446cc68"
      },
      "outputs": [
        {
          "output_type": "stream",
          "name": "stdout",
          "text": [
            "Looking in indexes: https://pypi.org/simple, https://us-python.pkg.dev/colab-wheels/public/simple/\n",
            "Requirement already satisfied: geopy in /usr/local/lib/python3.7/dist-packages (1.17.0)\n",
            "Requirement already satisfied: geographiclib<2,>=1.49 in /usr/local/lib/python3.7/dist-packages (from geopy) (1.52)\n",
            "Looking in indexes: https://pypi.org/simple, https://us-python.pkg.dev/colab-wheels/public/simple/\n",
            "Requirement already satisfied: folium in /usr/local/lib/python3.7/dist-packages (0.12.1.post1)\n",
            "Requirement already satisfied: numpy in /usr/local/lib/python3.7/dist-packages (from folium) (1.21.6)\n",
            "Requirement already satisfied: jinja2>=2.9 in /usr/local/lib/python3.7/dist-packages (from folium) (2.11.3)\n",
            "Requirement already satisfied: requests in /usr/local/lib/python3.7/dist-packages (from folium) (2.23.0)\n",
            "Requirement already satisfied: branca>=0.3.0 in /usr/local/lib/python3.7/dist-packages (from folium) (0.5.0)\n",
            "Requirement already satisfied: MarkupSafe>=0.23 in /usr/local/lib/python3.7/dist-packages (from jinja2>=2.9->folium) (2.0.1)\n",
            "Requirement already satisfied: idna<3,>=2.5 in /usr/local/lib/python3.7/dist-packages (from requests->folium) (2.10)\n",
            "Requirement already satisfied: certifi>=2017.4.17 in /usr/local/lib/python3.7/dist-packages (from requests->folium) (2022.9.24)\n",
            "Requirement already satisfied: urllib3!=1.25.0,!=1.25.1,<1.26,>=1.21.1 in /usr/local/lib/python3.7/dist-packages (from requests->folium) (1.24.3)\n",
            "Requirement already satisfied: chardet<4,>=3.0.2 in /usr/local/lib/python3.7/dist-packages (from requests->folium) (3.0.4)\n"
          ]
        }
      ],
      "source": [
        "import pandas as pd\n",
        "\n",
        "import tensorflow as tf\n",
        "import numpy as np\n",
        "import csv\n",
        "import matplotlib.pyplot as plt\n",
        "\n",
        "!pip install geopy\n",
        "import geopy\n",
        "from geopy.geocoders import Nominatim\n",
        "\n",
        "!pip install folium"
      ]
    },
    {
      "cell_type": "markdown",
      "metadata": {
        "id": "RstA8YCXIyCJ"
      },
      "source": [
        "Carga de los archivos desde un repositorio remoto:"
      ]
    },
    {
      "cell_type": "code",
      "execution_count": 124,
      "metadata": {
        "colab": {
          "base_uri": "https://localhost:8080/"
        },
        "id": "IpN484kQWyxY",
        "outputId": "5774c478-a7be-4176-92e7-1af9529f2705"
      },
      "outputs": [
        {
          "output_type": "stream",
          "name": "stdout",
          "text": [
            "Drive already mounted at /content/drive; to attempt to forcibly remount, call drive.mount(\"/content/drive\", force_remount=True).\n"
          ]
        }
      ],
      "source": [
        "from google.colab import drive\n",
        "drive.mount('/content/drive') "
      ]
    },
    {
      "cell_type": "code",
      "execution_count": 125,
      "metadata": {
        "id": "_wwLIWIkW6XV"
      },
      "outputs": [],
      "source": [
        "path = '/content/drive/MyDrive/BBVA_Hackaton/a.csv'"
      ]
    },
    {
      "cell_type": "code",
      "execution_count": 126,
      "metadata": {
        "colab": {
          "base_uri": "https://localhost:8080/",
          "height": 1000
        },
        "id": "6VbtV0ekYpNO",
        "outputId": "38ba8600-ea0f-41fc-8ce4-30289880827d"
      },
      "outputs": [
        {
          "output_type": "execute_result",
          "data": {
            "text/plain": [
              "   Fecha entrega del Informe  Tipo de via  Piso Departamento Provincia  \\\n",
              "0                 28/04/2022            2     1         Lima      Lima   \n",
              "1                 27/04/2022            6     4         Lima      Lima   \n",
              "2                 27/04/2022            2     5         Lima      Lima   \n",
              "3                 27/04/2022           10     2         Lima      Lima   \n",
              "4                 27/04/2022            1     3         Lima      Lima   \n",
              "5                 27/04/2022            2     2         Lima      Lima   \n",
              "6                 27/04/2022            3     2         Lima      Lima   \n",
              "7                 27/04/2022            1     2         Lima      Lima   \n",
              "8                 26/04/2022            3     1         Lima      Lima   \n",
              "9                 26/04/2022            1     4         Lima      Lima   \n",
              "10                26/04/2022            1     5         Lima      Lima   \n",
              "11                26/04/2022            2     1         Lima      Lima   \n",
              "12                26/04/2022            1     1         Lima      Lima   \n",
              "13                26/04/2022           10     2  La Libertad  Trujillo   \n",
              "14                26/04/2022            1     3         Lima      Lima   \n",
              "15                26/04/2022            1     4         Lima      Lima   \n",
              "16                26/04/2022            3     4         Lima      Lima   \n",
              "17                25/04/2022            1     3         Lima      Lima   \n",
              "18                25/04/2022           10     5        Piura     Piura   \n",
              "19                25/04/2022            1     2         Lima      Lima   \n",
              "\n",
              "                  Distrito  Numero de estacionamiento  Depositos  \\\n",
              "0        Magdalena del Mar                        NaN        NaN   \n",
              "1   San Juan de Lurigancho                        1.0        NaN   \n",
              "2        Santiago de Surco                        1.0        NaN   \n",
              "3               Pachacamac                        NaN        1.0   \n",
              "4               San Isidro                        NaN        NaN   \n",
              "5              La Victoria                        NaN        NaN   \n",
              "6        Santiago de Surco                        1.0        NaN   \n",
              "7        Santiago de Surco                        1.0        NaN   \n",
              "8              La Victoria                        1.0        NaN   \n",
              "9                      Ate                        NaN        NaN   \n",
              "10                     Ate                        NaN        NaN   \n",
              "11                  Brenia                        NaN        NaN   \n",
              "12              San Isidro                        NaN        NaN   \n",
              "13               Huanchaco                        NaN        NaN   \n",
              "14              San Isidro                        1.0        NaN   \n",
              "15                     Ate                        NaN        NaN   \n",
              "16            Pueblo Libre                        NaN        NaN   \n",
              "17       Santiago de Surco                        NaN        NaN   \n",
              "18   Veintiseis de Octubre                        NaN        NaN   \n",
              "19       Santiago de Surco                        NaN        NaN   \n",
              "\n",
              "    Latitud (Decimal)  Longitud (Decimal)  ...  Posicion Numero de frentes  \\\n",
              "0          -12.120143          -77.023960  ...  Exterior               2.0   \n",
              "1          -12.022509          -76.833715  ...  Exterior               1.0   \n",
              "2          -12.089686          -77.068454  ...  Exterior               1.0   \n",
              "3          -12.095758          -76.981323  ...  Exterior               NaN   \n",
              "4          -12.015309          -76.874213  ...  Exterior               0.0   \n",
              "5          -12.095764          -77.023360  ...  Exterior               NaN   \n",
              "6          -12.029741          -76.945582  ...  Exterior               NaN   \n",
              "7          -11.899533          -77.057616  ...  Interior               1.0   \n",
              "8          -12.076643          -77.050648  ...  Exterior               1.0   \n",
              "9           -5.185692          -80.654541  ...  Exterior               1.0   \n",
              "10         -12.119652          -77.005706  ...  Exterior               1.0   \n",
              "11         -12.136353          -77.002325  ...  Exterior               NaN   \n",
              "12         -12.052870          -77.006517  ...  Interior               3.0   \n",
              "13          -8.111449          -79.026046  ...  Exterior               1.0   \n",
              "14         -12.090449          -77.018342  ...  Exterior               2.0   \n",
              "15         -12.112711          -76.964334  ...  Exterior               1.0   \n",
              "16         -12.038434          -76.957028  ...  Exterior               1.0   \n",
              "17         -12.064683          -77.013660  ...  Exterior               2.0   \n",
              "18         -12.062116          -76.949711  ...  Exterior               1.0   \n",
              "19         -12.121306          -76.999737  ...  Interior               1.0   \n",
              "\n",
              "    Edad  Elevador  Estado de conservacion               Metodo Representado  \\\n",
              "0    3.0         1                   Bueno  Comparacion de mercado (directo)   \n",
              "1   42.0         2                 Regular     Costos o reposicion (directo)   \n",
              "2   16.0         2                   Bueno  Comparacion de mercado (directo)   \n",
              "3    NaN         2                   Bueno     Costos o reposicion (directo)   \n",
              "4    1.0         1               Muy bueno  Comparacion de mercado (directo)   \n",
              "5   27.0         2                   Bueno  Comparacion de mercado (directo)   \n",
              "6    3.0         2                   Bueno  Comparacion de mercado (directo)   \n",
              "7    1.0         1               Muy bueno  Comparacion de mercado (directo)   \n",
              "8    2.0         2                    Malo  Comparacion de mercado (directo)   \n",
              "9    0.0         1                   Bueno  Comparacion de mercado (directo)   \n",
              "10   0.0         2                   Bueno  Comparacion de mercado (directo)   \n",
              "11   0.0         1               Muy bueno  Comparacion de mercado (directo)   \n",
              "12   1.0         1               Muy bueno  Comparacion de mercado (directo)   \n",
              "13   NaN         2                   Bueno     Costos o reposicion (directo)   \n",
              "14   1.0         2               Muy bueno  Comparacion de mercado (directo)   \n",
              "15  47.0         2                   Bueno  Comparacion de mercado (directo)   \n",
              "16  12.0         1                   Bueno  Comparacion de mercado (directo)   \n",
              "17   1.0         2               Muy bueno  Comparacion de mercado (directo)   \n",
              "18  56.0         0                   Bueno     Costos o reposicion (directo)   \n",
              "19  48.0         2                   Bueno     Costos o reposicion (directo)   \n",
              "\n",
              "   Moneda principal para calculos Area Terreno  Area Construccion  \\\n",
              "0                             USD          0.0              81.56   \n",
              "1                             USD        410.0               0.00   \n",
              "2                             USD          0.0              90.13   \n",
              "3                             USD        120.0               0.00   \n",
              "4                             PEN          0.0              45.00   \n",
              "5                             USD          0.0              26.72   \n",
              "6                             PEN          0.0             155.03   \n",
              "7                             USD          0.0             177.87   \n",
              "8                             USD          0.0              88.12   \n",
              "9                             USD          0.0              69.09   \n",
              "10                            USD          0.0              71.96   \n",
              "11                            USD          0.0              91.00   \n",
              "12                            USD          0.0              45.05   \n",
              "13                            USD        140.0             140.00   \n",
              "14                            USD          0.0             167.77   \n",
              "15                            USD          0.0             123.35   \n",
              "16                            USD          0.0              75.80   \n",
              "17                            USD          0.0             149.58   \n",
              "18                            USD        200.0             333.58   \n",
              "19                            PEN        165.3             135.00   \n",
              "\n",
              "    Valor comercial  \n",
              "0        120,708.80  \n",
              "1        192,225.00  \n",
              "2        137,886.28  \n",
              "3         44,400.00  \n",
              "4        111,600.00  \n",
              "5        604,139.20  \n",
              "6        262,095.12  \n",
              "7        298,389.00  \n",
              "8        144,249.80  \n",
              "9        102,267.12  \n",
              "10       104,563.20  \n",
              "11       137,410.00  \n",
              "12       117,580.50  \n",
              "13        52,000.00  \n",
              "14       336,684.19  \n",
              "15       134,848.86  \n",
              "16       106,120.00  \n",
              "17       253,035.51  \n",
              "18       170,336.25  \n",
              "19       295,212.15  \n",
              "\n",
              "[20 rows x 21 columns]"
            ],
            "text/html": [
              "\n",
              "  <div id=\"df-b3bf5a7b-3623-4ee5-a10c-5f1afc957731\">\n",
              "    <div class=\"colab-df-container\">\n",
              "      <div>\n",
              "<style scoped>\n",
              "    .dataframe tbody tr th:only-of-type {\n",
              "        vertical-align: middle;\n",
              "    }\n",
              "\n",
              "    .dataframe tbody tr th {\n",
              "        vertical-align: top;\n",
              "    }\n",
              "\n",
              "    .dataframe thead th {\n",
              "        text-align: right;\n",
              "    }\n",
              "</style>\n",
              "<table border=\"1\" class=\"dataframe\">\n",
              "  <thead>\n",
              "    <tr style=\"text-align: right;\">\n",
              "      <th></th>\n",
              "      <th>Fecha entrega del Informe</th>\n",
              "      <th>Tipo de via</th>\n",
              "      <th>Piso</th>\n",
              "      <th>Departamento</th>\n",
              "      <th>Provincia</th>\n",
              "      <th>Distrito</th>\n",
              "      <th>Numero de estacionamiento</th>\n",
              "      <th>Depositos</th>\n",
              "      <th>Latitud (Decimal)</th>\n",
              "      <th>Longitud (Decimal)</th>\n",
              "      <th>...</th>\n",
              "      <th>Posicion</th>\n",
              "      <th>Numero de frentes</th>\n",
              "      <th>Edad</th>\n",
              "      <th>Elevador</th>\n",
              "      <th>Estado de conservacion</th>\n",
              "      <th>Metodo Representado</th>\n",
              "      <th>Moneda principal para calculos</th>\n",
              "      <th>Area Terreno</th>\n",
              "      <th>Area Construccion</th>\n",
              "      <th>Valor comercial</th>\n",
              "    </tr>\n",
              "  </thead>\n",
              "  <tbody>\n",
              "    <tr>\n",
              "      <th>0</th>\n",
              "      <td>28/04/2022</td>\n",
              "      <td>2</td>\n",
              "      <td>1</td>\n",
              "      <td>Lima</td>\n",
              "      <td>Lima</td>\n",
              "      <td>Magdalena del Mar</td>\n",
              "      <td>NaN</td>\n",
              "      <td>NaN</td>\n",
              "      <td>-12.120143</td>\n",
              "      <td>-77.023960</td>\n",
              "      <td>...</td>\n",
              "      <td>Exterior</td>\n",
              "      <td>2.0</td>\n",
              "      <td>3.0</td>\n",
              "      <td>1</td>\n",
              "      <td>Bueno</td>\n",
              "      <td>Comparacion de mercado (directo)</td>\n",
              "      <td>USD</td>\n",
              "      <td>0.0</td>\n",
              "      <td>81.56</td>\n",
              "      <td>120,708.80</td>\n",
              "    </tr>\n",
              "    <tr>\n",
              "      <th>1</th>\n",
              "      <td>27/04/2022</td>\n",
              "      <td>6</td>\n",
              "      <td>4</td>\n",
              "      <td>Lima</td>\n",
              "      <td>Lima</td>\n",
              "      <td>San Juan de Lurigancho</td>\n",
              "      <td>1.0</td>\n",
              "      <td>NaN</td>\n",
              "      <td>-12.022509</td>\n",
              "      <td>-76.833715</td>\n",
              "      <td>...</td>\n",
              "      <td>Exterior</td>\n",
              "      <td>1.0</td>\n",
              "      <td>42.0</td>\n",
              "      <td>2</td>\n",
              "      <td>Regular</td>\n",
              "      <td>Costos o reposicion (directo)</td>\n",
              "      <td>USD</td>\n",
              "      <td>410.0</td>\n",
              "      <td>0.00</td>\n",
              "      <td>192,225.00</td>\n",
              "    </tr>\n",
              "    <tr>\n",
              "      <th>2</th>\n",
              "      <td>27/04/2022</td>\n",
              "      <td>2</td>\n",
              "      <td>5</td>\n",
              "      <td>Lima</td>\n",
              "      <td>Lima</td>\n",
              "      <td>Santiago de Surco</td>\n",
              "      <td>1.0</td>\n",
              "      <td>NaN</td>\n",
              "      <td>-12.089686</td>\n",
              "      <td>-77.068454</td>\n",
              "      <td>...</td>\n",
              "      <td>Exterior</td>\n",
              "      <td>1.0</td>\n",
              "      <td>16.0</td>\n",
              "      <td>2</td>\n",
              "      <td>Bueno</td>\n",
              "      <td>Comparacion de mercado (directo)</td>\n",
              "      <td>USD</td>\n",
              "      <td>0.0</td>\n",
              "      <td>90.13</td>\n",
              "      <td>137,886.28</td>\n",
              "    </tr>\n",
              "    <tr>\n",
              "      <th>3</th>\n",
              "      <td>27/04/2022</td>\n",
              "      <td>10</td>\n",
              "      <td>2</td>\n",
              "      <td>Lima</td>\n",
              "      <td>Lima</td>\n",
              "      <td>Pachacamac</td>\n",
              "      <td>NaN</td>\n",
              "      <td>1.0</td>\n",
              "      <td>-12.095758</td>\n",
              "      <td>-76.981323</td>\n",
              "      <td>...</td>\n",
              "      <td>Exterior</td>\n",
              "      <td>NaN</td>\n",
              "      <td>NaN</td>\n",
              "      <td>2</td>\n",
              "      <td>Bueno</td>\n",
              "      <td>Costos o reposicion (directo)</td>\n",
              "      <td>USD</td>\n",
              "      <td>120.0</td>\n",
              "      <td>0.00</td>\n",
              "      <td>44,400.00</td>\n",
              "    </tr>\n",
              "    <tr>\n",
              "      <th>4</th>\n",
              "      <td>27/04/2022</td>\n",
              "      <td>1</td>\n",
              "      <td>3</td>\n",
              "      <td>Lima</td>\n",
              "      <td>Lima</td>\n",
              "      <td>San Isidro</td>\n",
              "      <td>NaN</td>\n",
              "      <td>NaN</td>\n",
              "      <td>-12.015309</td>\n",
              "      <td>-76.874213</td>\n",
              "      <td>...</td>\n",
              "      <td>Exterior</td>\n",
              "      <td>0.0</td>\n",
              "      <td>1.0</td>\n",
              "      <td>1</td>\n",
              "      <td>Muy bueno</td>\n",
              "      <td>Comparacion de mercado (directo)</td>\n",
              "      <td>PEN</td>\n",
              "      <td>0.0</td>\n",
              "      <td>45.00</td>\n",
              "      <td>111,600.00</td>\n",
              "    </tr>\n",
              "    <tr>\n",
              "      <th>5</th>\n",
              "      <td>27/04/2022</td>\n",
              "      <td>2</td>\n",
              "      <td>2</td>\n",
              "      <td>Lima</td>\n",
              "      <td>Lima</td>\n",
              "      <td>La Victoria</td>\n",
              "      <td>NaN</td>\n",
              "      <td>NaN</td>\n",
              "      <td>-12.095764</td>\n",
              "      <td>-77.023360</td>\n",
              "      <td>...</td>\n",
              "      <td>Exterior</td>\n",
              "      <td>NaN</td>\n",
              "      <td>27.0</td>\n",
              "      <td>2</td>\n",
              "      <td>Bueno</td>\n",
              "      <td>Comparacion de mercado (directo)</td>\n",
              "      <td>USD</td>\n",
              "      <td>0.0</td>\n",
              "      <td>26.72</td>\n",
              "      <td>604,139.20</td>\n",
              "    </tr>\n",
              "    <tr>\n",
              "      <th>6</th>\n",
              "      <td>27/04/2022</td>\n",
              "      <td>3</td>\n",
              "      <td>2</td>\n",
              "      <td>Lima</td>\n",
              "      <td>Lima</td>\n",
              "      <td>Santiago de Surco</td>\n",
              "      <td>1.0</td>\n",
              "      <td>NaN</td>\n",
              "      <td>-12.029741</td>\n",
              "      <td>-76.945582</td>\n",
              "      <td>...</td>\n",
              "      <td>Exterior</td>\n",
              "      <td>NaN</td>\n",
              "      <td>3.0</td>\n",
              "      <td>2</td>\n",
              "      <td>Bueno</td>\n",
              "      <td>Comparacion de mercado (directo)</td>\n",
              "      <td>PEN</td>\n",
              "      <td>0.0</td>\n",
              "      <td>155.03</td>\n",
              "      <td>262,095.12</td>\n",
              "    </tr>\n",
              "    <tr>\n",
              "      <th>7</th>\n",
              "      <td>27/04/2022</td>\n",
              "      <td>1</td>\n",
              "      <td>2</td>\n",
              "      <td>Lima</td>\n",
              "      <td>Lima</td>\n",
              "      <td>Santiago de Surco</td>\n",
              "      <td>1.0</td>\n",
              "      <td>NaN</td>\n",
              "      <td>-11.899533</td>\n",
              "      <td>-77.057616</td>\n",
              "      <td>...</td>\n",
              "      <td>Interior</td>\n",
              "      <td>1.0</td>\n",
              "      <td>1.0</td>\n",
              "      <td>1</td>\n",
              "      <td>Muy bueno</td>\n",
              "      <td>Comparacion de mercado (directo)</td>\n",
              "      <td>USD</td>\n",
              "      <td>0.0</td>\n",
              "      <td>177.87</td>\n",
              "      <td>298,389.00</td>\n",
              "    </tr>\n",
              "    <tr>\n",
              "      <th>8</th>\n",
              "      <td>26/04/2022</td>\n",
              "      <td>3</td>\n",
              "      <td>1</td>\n",
              "      <td>Lima</td>\n",
              "      <td>Lima</td>\n",
              "      <td>La Victoria</td>\n",
              "      <td>1.0</td>\n",
              "      <td>NaN</td>\n",
              "      <td>-12.076643</td>\n",
              "      <td>-77.050648</td>\n",
              "      <td>...</td>\n",
              "      <td>Exterior</td>\n",
              "      <td>1.0</td>\n",
              "      <td>2.0</td>\n",
              "      <td>2</td>\n",
              "      <td>Malo</td>\n",
              "      <td>Comparacion de mercado (directo)</td>\n",
              "      <td>USD</td>\n",
              "      <td>0.0</td>\n",
              "      <td>88.12</td>\n",
              "      <td>144,249.80</td>\n",
              "    </tr>\n",
              "    <tr>\n",
              "      <th>9</th>\n",
              "      <td>26/04/2022</td>\n",
              "      <td>1</td>\n",
              "      <td>4</td>\n",
              "      <td>Lima</td>\n",
              "      <td>Lima</td>\n",
              "      <td>Ate</td>\n",
              "      <td>NaN</td>\n",
              "      <td>NaN</td>\n",
              "      <td>-5.185692</td>\n",
              "      <td>-80.654541</td>\n",
              "      <td>...</td>\n",
              "      <td>Exterior</td>\n",
              "      <td>1.0</td>\n",
              "      <td>0.0</td>\n",
              "      <td>1</td>\n",
              "      <td>Bueno</td>\n",
              "      <td>Comparacion de mercado (directo)</td>\n",
              "      <td>USD</td>\n",
              "      <td>0.0</td>\n",
              "      <td>69.09</td>\n",
              "      <td>102,267.12</td>\n",
              "    </tr>\n",
              "    <tr>\n",
              "      <th>10</th>\n",
              "      <td>26/04/2022</td>\n",
              "      <td>1</td>\n",
              "      <td>5</td>\n",
              "      <td>Lima</td>\n",
              "      <td>Lima</td>\n",
              "      <td>Ate</td>\n",
              "      <td>NaN</td>\n",
              "      <td>NaN</td>\n",
              "      <td>-12.119652</td>\n",
              "      <td>-77.005706</td>\n",
              "      <td>...</td>\n",
              "      <td>Exterior</td>\n",
              "      <td>1.0</td>\n",
              "      <td>0.0</td>\n",
              "      <td>2</td>\n",
              "      <td>Bueno</td>\n",
              "      <td>Comparacion de mercado (directo)</td>\n",
              "      <td>USD</td>\n",
              "      <td>0.0</td>\n",
              "      <td>71.96</td>\n",
              "      <td>104,563.20</td>\n",
              "    </tr>\n",
              "    <tr>\n",
              "      <th>11</th>\n",
              "      <td>26/04/2022</td>\n",
              "      <td>2</td>\n",
              "      <td>1</td>\n",
              "      <td>Lima</td>\n",
              "      <td>Lima</td>\n",
              "      <td>Brenia</td>\n",
              "      <td>NaN</td>\n",
              "      <td>NaN</td>\n",
              "      <td>-12.136353</td>\n",
              "      <td>-77.002325</td>\n",
              "      <td>...</td>\n",
              "      <td>Exterior</td>\n",
              "      <td>NaN</td>\n",
              "      <td>0.0</td>\n",
              "      <td>1</td>\n",
              "      <td>Muy bueno</td>\n",
              "      <td>Comparacion de mercado (directo)</td>\n",
              "      <td>USD</td>\n",
              "      <td>0.0</td>\n",
              "      <td>91.00</td>\n",
              "      <td>137,410.00</td>\n",
              "    </tr>\n",
              "    <tr>\n",
              "      <th>12</th>\n",
              "      <td>26/04/2022</td>\n",
              "      <td>1</td>\n",
              "      <td>1</td>\n",
              "      <td>Lima</td>\n",
              "      <td>Lima</td>\n",
              "      <td>San Isidro</td>\n",
              "      <td>NaN</td>\n",
              "      <td>NaN</td>\n",
              "      <td>-12.052870</td>\n",
              "      <td>-77.006517</td>\n",
              "      <td>...</td>\n",
              "      <td>Interior</td>\n",
              "      <td>3.0</td>\n",
              "      <td>1.0</td>\n",
              "      <td>1</td>\n",
              "      <td>Muy bueno</td>\n",
              "      <td>Comparacion de mercado (directo)</td>\n",
              "      <td>USD</td>\n",
              "      <td>0.0</td>\n",
              "      <td>45.05</td>\n",
              "      <td>117,580.50</td>\n",
              "    </tr>\n",
              "    <tr>\n",
              "      <th>13</th>\n",
              "      <td>26/04/2022</td>\n",
              "      <td>10</td>\n",
              "      <td>2</td>\n",
              "      <td>La Libertad</td>\n",
              "      <td>Trujillo</td>\n",
              "      <td>Huanchaco</td>\n",
              "      <td>NaN</td>\n",
              "      <td>NaN</td>\n",
              "      <td>-8.111449</td>\n",
              "      <td>-79.026046</td>\n",
              "      <td>...</td>\n",
              "      <td>Exterior</td>\n",
              "      <td>1.0</td>\n",
              "      <td>NaN</td>\n",
              "      <td>2</td>\n",
              "      <td>Bueno</td>\n",
              "      <td>Costos o reposicion (directo)</td>\n",
              "      <td>USD</td>\n",
              "      <td>140.0</td>\n",
              "      <td>140.00</td>\n",
              "      <td>52,000.00</td>\n",
              "    </tr>\n",
              "    <tr>\n",
              "      <th>14</th>\n",
              "      <td>26/04/2022</td>\n",
              "      <td>1</td>\n",
              "      <td>3</td>\n",
              "      <td>Lima</td>\n",
              "      <td>Lima</td>\n",
              "      <td>San Isidro</td>\n",
              "      <td>1.0</td>\n",
              "      <td>NaN</td>\n",
              "      <td>-12.090449</td>\n",
              "      <td>-77.018342</td>\n",
              "      <td>...</td>\n",
              "      <td>Exterior</td>\n",
              "      <td>2.0</td>\n",
              "      <td>1.0</td>\n",
              "      <td>2</td>\n",
              "      <td>Muy bueno</td>\n",
              "      <td>Comparacion de mercado (directo)</td>\n",
              "      <td>USD</td>\n",
              "      <td>0.0</td>\n",
              "      <td>167.77</td>\n",
              "      <td>336,684.19</td>\n",
              "    </tr>\n",
              "    <tr>\n",
              "      <th>15</th>\n",
              "      <td>26/04/2022</td>\n",
              "      <td>1</td>\n",
              "      <td>4</td>\n",
              "      <td>Lima</td>\n",
              "      <td>Lima</td>\n",
              "      <td>Ate</td>\n",
              "      <td>NaN</td>\n",
              "      <td>NaN</td>\n",
              "      <td>-12.112711</td>\n",
              "      <td>-76.964334</td>\n",
              "      <td>...</td>\n",
              "      <td>Exterior</td>\n",
              "      <td>1.0</td>\n",
              "      <td>47.0</td>\n",
              "      <td>2</td>\n",
              "      <td>Bueno</td>\n",
              "      <td>Comparacion de mercado (directo)</td>\n",
              "      <td>USD</td>\n",
              "      <td>0.0</td>\n",
              "      <td>123.35</td>\n",
              "      <td>134,848.86</td>\n",
              "    </tr>\n",
              "    <tr>\n",
              "      <th>16</th>\n",
              "      <td>26/04/2022</td>\n",
              "      <td>3</td>\n",
              "      <td>4</td>\n",
              "      <td>Lima</td>\n",
              "      <td>Lima</td>\n",
              "      <td>Pueblo Libre</td>\n",
              "      <td>NaN</td>\n",
              "      <td>NaN</td>\n",
              "      <td>-12.038434</td>\n",
              "      <td>-76.957028</td>\n",
              "      <td>...</td>\n",
              "      <td>Exterior</td>\n",
              "      <td>1.0</td>\n",
              "      <td>12.0</td>\n",
              "      <td>1</td>\n",
              "      <td>Bueno</td>\n",
              "      <td>Comparacion de mercado (directo)</td>\n",
              "      <td>USD</td>\n",
              "      <td>0.0</td>\n",
              "      <td>75.80</td>\n",
              "      <td>106,120.00</td>\n",
              "    </tr>\n",
              "    <tr>\n",
              "      <th>17</th>\n",
              "      <td>25/04/2022</td>\n",
              "      <td>1</td>\n",
              "      <td>3</td>\n",
              "      <td>Lima</td>\n",
              "      <td>Lima</td>\n",
              "      <td>Santiago de Surco</td>\n",
              "      <td>NaN</td>\n",
              "      <td>NaN</td>\n",
              "      <td>-12.064683</td>\n",
              "      <td>-77.013660</td>\n",
              "      <td>...</td>\n",
              "      <td>Exterior</td>\n",
              "      <td>2.0</td>\n",
              "      <td>1.0</td>\n",
              "      <td>2</td>\n",
              "      <td>Muy bueno</td>\n",
              "      <td>Comparacion de mercado (directo)</td>\n",
              "      <td>USD</td>\n",
              "      <td>0.0</td>\n",
              "      <td>149.58</td>\n",
              "      <td>253,035.51</td>\n",
              "    </tr>\n",
              "    <tr>\n",
              "      <th>18</th>\n",
              "      <td>25/04/2022</td>\n",
              "      <td>10</td>\n",
              "      <td>5</td>\n",
              "      <td>Piura</td>\n",
              "      <td>Piura</td>\n",
              "      <td>Veintiseis de Octubre</td>\n",
              "      <td>NaN</td>\n",
              "      <td>NaN</td>\n",
              "      <td>-12.062116</td>\n",
              "      <td>-76.949711</td>\n",
              "      <td>...</td>\n",
              "      <td>Exterior</td>\n",
              "      <td>1.0</td>\n",
              "      <td>56.0</td>\n",
              "      <td>0</td>\n",
              "      <td>Bueno</td>\n",
              "      <td>Costos o reposicion (directo)</td>\n",
              "      <td>USD</td>\n",
              "      <td>200.0</td>\n",
              "      <td>333.58</td>\n",
              "      <td>170,336.25</td>\n",
              "    </tr>\n",
              "    <tr>\n",
              "      <th>19</th>\n",
              "      <td>25/04/2022</td>\n",
              "      <td>1</td>\n",
              "      <td>2</td>\n",
              "      <td>Lima</td>\n",
              "      <td>Lima</td>\n",
              "      <td>Santiago de Surco</td>\n",
              "      <td>NaN</td>\n",
              "      <td>NaN</td>\n",
              "      <td>-12.121306</td>\n",
              "      <td>-76.999737</td>\n",
              "      <td>...</td>\n",
              "      <td>Interior</td>\n",
              "      <td>1.0</td>\n",
              "      <td>48.0</td>\n",
              "      <td>2</td>\n",
              "      <td>Bueno</td>\n",
              "      <td>Costos o reposicion (directo)</td>\n",
              "      <td>PEN</td>\n",
              "      <td>165.3</td>\n",
              "      <td>135.00</td>\n",
              "      <td>295,212.15</td>\n",
              "    </tr>\n",
              "  </tbody>\n",
              "</table>\n",
              "<p>20 rows × 21 columns</p>\n",
              "</div>\n",
              "      <button class=\"colab-df-convert\" onclick=\"convertToInteractive('df-b3bf5a7b-3623-4ee5-a10c-5f1afc957731')\"\n",
              "              title=\"Convert this dataframe to an interactive table.\"\n",
              "              style=\"display:none;\">\n",
              "        \n",
              "  <svg xmlns=\"http://www.w3.org/2000/svg\" height=\"24px\"viewBox=\"0 0 24 24\"\n",
              "       width=\"24px\">\n",
              "    <path d=\"M0 0h24v24H0V0z\" fill=\"none\"/>\n",
              "    <path d=\"M18.56 5.44l.94 2.06.94-2.06 2.06-.94-2.06-.94-.94-2.06-.94 2.06-2.06.94zm-11 1L8.5 8.5l.94-2.06 2.06-.94-2.06-.94L8.5 2.5l-.94 2.06-2.06.94zm10 10l.94 2.06.94-2.06 2.06-.94-2.06-.94-.94-2.06-.94 2.06-2.06.94z\"/><path d=\"M17.41 7.96l-1.37-1.37c-.4-.4-.92-.59-1.43-.59-.52 0-1.04.2-1.43.59L10.3 9.45l-7.72 7.72c-.78.78-.78 2.05 0 2.83L4 21.41c.39.39.9.59 1.41.59.51 0 1.02-.2 1.41-.59l7.78-7.78 2.81-2.81c.8-.78.8-2.07 0-2.86zM5.41 20L4 18.59l7.72-7.72 1.47 1.35L5.41 20z\"/>\n",
              "  </svg>\n",
              "      </button>\n",
              "      \n",
              "  <style>\n",
              "    .colab-df-container {\n",
              "      display:flex;\n",
              "      flex-wrap:wrap;\n",
              "      gap: 12px;\n",
              "    }\n",
              "\n",
              "    .colab-df-convert {\n",
              "      background-color: #E8F0FE;\n",
              "      border: none;\n",
              "      border-radius: 50%;\n",
              "      cursor: pointer;\n",
              "      display: none;\n",
              "      fill: #1967D2;\n",
              "      height: 32px;\n",
              "      padding: 0 0 0 0;\n",
              "      width: 32px;\n",
              "    }\n",
              "\n",
              "    .colab-df-convert:hover {\n",
              "      background-color: #E2EBFA;\n",
              "      box-shadow: 0px 1px 2px rgba(60, 64, 67, 0.3), 0px 1px 3px 1px rgba(60, 64, 67, 0.15);\n",
              "      fill: #174EA6;\n",
              "    }\n",
              "\n",
              "    [theme=dark] .colab-df-convert {\n",
              "      background-color: #3B4455;\n",
              "      fill: #D2E3FC;\n",
              "    }\n",
              "\n",
              "    [theme=dark] .colab-df-convert:hover {\n",
              "      background-color: #434B5C;\n",
              "      box-shadow: 0px 1px 3px 1px rgba(0, 0, 0, 0.15);\n",
              "      filter: drop-shadow(0px 1px 2px rgba(0, 0, 0, 0.3));\n",
              "      fill: #FFFFFF;\n",
              "    }\n",
              "  </style>\n",
              "\n",
              "      <script>\n",
              "        const buttonEl =\n",
              "          document.querySelector('#df-b3bf5a7b-3623-4ee5-a10c-5f1afc957731 button.colab-df-convert');\n",
              "        buttonEl.style.display =\n",
              "          google.colab.kernel.accessAllowed ? 'block' : 'none';\n",
              "\n",
              "        async function convertToInteractive(key) {\n",
              "          const element = document.querySelector('#df-b3bf5a7b-3623-4ee5-a10c-5f1afc957731');\n",
              "          const dataTable =\n",
              "            await google.colab.kernel.invokeFunction('convertToInteractive',\n",
              "                                                     [key], {});\n",
              "          if (!dataTable) return;\n",
              "\n",
              "          const docLinkHtml = 'Like what you see? Visit the ' +\n",
              "            '<a target=\"_blank\" href=https://colab.research.google.com/notebooks/data_table.ipynb>data table notebook</a>'\n",
              "            + ' to learn more about interactive tables.';\n",
              "          element.innerHTML = '';\n",
              "          dataTable['output_type'] = 'display_data';\n",
              "          await google.colab.output.renderOutput(dataTable, element);\n",
              "          const docLink = document.createElement('div');\n",
              "          docLink.innerHTML = docLinkHtml;\n",
              "          element.appendChild(docLink);\n",
              "        }\n",
              "      </script>\n",
              "    </div>\n",
              "  </div>\n",
              "  "
            ]
          },
          "metadata": {},
          "execution_count": 126
        }
      ],
      "source": [
        "df = pd.read_csv(path)\n",
        "df.head(20)"
      ]
    },
    {
      "cell_type": "markdown",
      "metadata": {
        "id": "FrrLXNsf4zYX"
      },
      "source": [
        "# *Descripción de datos*\n",
        "\n",
        "*   Distinción de valores numericos y no numericos\n",
        "*   Rangos entre cada variable\n",
        "\n",
        "\n"
      ]
    },
    {
      "cell_type": "code",
      "execution_count": 127,
      "metadata": {
        "colab": {
          "base_uri": "https://localhost:8080/",
          "height": 399
        },
        "id": "V6fWYUE9452-",
        "outputId": "a7ab2e65-356e-437a-b4c9-a8a1d0a2bf1a"
      },
      "outputs": [
        {
          "output_type": "execute_result",
          "data": {
            "text/plain": [
              "       Tipo de via       Piso  Numero de estacionamiento  Depositos  \\\n",
              "count    20.000000  20.000000                        6.0        1.0   \n",
              "mean      3.100000   2.800000                        1.0        1.0   \n",
              "std       3.210181   1.399248                        0.0        NaN   \n",
              "min       1.000000   1.000000                        1.0        1.0   \n",
              "25%       1.000000   2.000000                        1.0        1.0   \n",
              "50%       2.000000   2.500000                        1.0        1.0   \n",
              "75%       3.000000   4.000000                        1.0        1.0   \n",
              "max      10.000000   5.000000                        1.0        1.0   \n",
              "\n",
              "       Latitud (Decimal)  Longitud (Decimal)  Numero de frentes       Edad  \\\n",
              "count          20.000000           20.000000           16.00000  18.000000   \n",
              "mean          -11.527040          -77.272841            1.25000  14.500000   \n",
              "std             1.735406            0.918707            0.68313  19.977193   \n",
              "min           -12.136353          -80.654541            0.00000   0.000000   \n",
              "25%           -12.100001          -77.030632            1.00000   1.000000   \n",
              "50%           -12.070663          -77.006111            1.00000   2.500000   \n",
              "75%           -12.027933          -76.962508            1.25000  24.250000   \n",
              "max            -5.185692          -76.833715            3.00000  56.000000   \n",
              "\n",
              "        Elevador  Area Terreno  Area Construccion  \n",
              "count  20.000000     20.000000          20.000000  \n",
              "mean    1.550000     51.765000         103.330500  \n",
              "std     0.604805    106.581273          75.481729  \n",
              "min     0.000000      0.000000           0.000000  \n",
              "25%     1.000000      0.000000          63.080000  \n",
              "50%     2.000000      0.000000          89.125000  \n",
              "75%     2.000000     30.000000         142.395000  \n",
              "max     2.000000    410.000000         333.580000  "
            ],
            "text/html": [
              "\n",
              "  <div id=\"df-d0002410-b8c5-4975-a5fc-c6408c258df8\">\n",
              "    <div class=\"colab-df-container\">\n",
              "      <div>\n",
              "<style scoped>\n",
              "    .dataframe tbody tr th:only-of-type {\n",
              "        vertical-align: middle;\n",
              "    }\n",
              "\n",
              "    .dataframe tbody tr th {\n",
              "        vertical-align: top;\n",
              "    }\n",
              "\n",
              "    .dataframe thead th {\n",
              "        text-align: right;\n",
              "    }\n",
              "</style>\n",
              "<table border=\"1\" class=\"dataframe\">\n",
              "  <thead>\n",
              "    <tr style=\"text-align: right;\">\n",
              "      <th></th>\n",
              "      <th>Tipo de via</th>\n",
              "      <th>Piso</th>\n",
              "      <th>Numero de estacionamiento</th>\n",
              "      <th>Depositos</th>\n",
              "      <th>Latitud (Decimal)</th>\n",
              "      <th>Longitud (Decimal)</th>\n",
              "      <th>Numero de frentes</th>\n",
              "      <th>Edad</th>\n",
              "      <th>Elevador</th>\n",
              "      <th>Area Terreno</th>\n",
              "      <th>Area Construccion</th>\n",
              "    </tr>\n",
              "  </thead>\n",
              "  <tbody>\n",
              "    <tr>\n",
              "      <th>count</th>\n",
              "      <td>20.000000</td>\n",
              "      <td>20.000000</td>\n",
              "      <td>6.0</td>\n",
              "      <td>1.0</td>\n",
              "      <td>20.000000</td>\n",
              "      <td>20.000000</td>\n",
              "      <td>16.00000</td>\n",
              "      <td>18.000000</td>\n",
              "      <td>20.000000</td>\n",
              "      <td>20.000000</td>\n",
              "      <td>20.000000</td>\n",
              "    </tr>\n",
              "    <tr>\n",
              "      <th>mean</th>\n",
              "      <td>3.100000</td>\n",
              "      <td>2.800000</td>\n",
              "      <td>1.0</td>\n",
              "      <td>1.0</td>\n",
              "      <td>-11.527040</td>\n",
              "      <td>-77.272841</td>\n",
              "      <td>1.25000</td>\n",
              "      <td>14.500000</td>\n",
              "      <td>1.550000</td>\n",
              "      <td>51.765000</td>\n",
              "      <td>103.330500</td>\n",
              "    </tr>\n",
              "    <tr>\n",
              "      <th>std</th>\n",
              "      <td>3.210181</td>\n",
              "      <td>1.399248</td>\n",
              "      <td>0.0</td>\n",
              "      <td>NaN</td>\n",
              "      <td>1.735406</td>\n",
              "      <td>0.918707</td>\n",
              "      <td>0.68313</td>\n",
              "      <td>19.977193</td>\n",
              "      <td>0.604805</td>\n",
              "      <td>106.581273</td>\n",
              "      <td>75.481729</td>\n",
              "    </tr>\n",
              "    <tr>\n",
              "      <th>min</th>\n",
              "      <td>1.000000</td>\n",
              "      <td>1.000000</td>\n",
              "      <td>1.0</td>\n",
              "      <td>1.0</td>\n",
              "      <td>-12.136353</td>\n",
              "      <td>-80.654541</td>\n",
              "      <td>0.00000</td>\n",
              "      <td>0.000000</td>\n",
              "      <td>0.000000</td>\n",
              "      <td>0.000000</td>\n",
              "      <td>0.000000</td>\n",
              "    </tr>\n",
              "    <tr>\n",
              "      <th>25%</th>\n",
              "      <td>1.000000</td>\n",
              "      <td>2.000000</td>\n",
              "      <td>1.0</td>\n",
              "      <td>1.0</td>\n",
              "      <td>-12.100001</td>\n",
              "      <td>-77.030632</td>\n",
              "      <td>1.00000</td>\n",
              "      <td>1.000000</td>\n",
              "      <td>1.000000</td>\n",
              "      <td>0.000000</td>\n",
              "      <td>63.080000</td>\n",
              "    </tr>\n",
              "    <tr>\n",
              "      <th>50%</th>\n",
              "      <td>2.000000</td>\n",
              "      <td>2.500000</td>\n",
              "      <td>1.0</td>\n",
              "      <td>1.0</td>\n",
              "      <td>-12.070663</td>\n",
              "      <td>-77.006111</td>\n",
              "      <td>1.00000</td>\n",
              "      <td>2.500000</td>\n",
              "      <td>2.000000</td>\n",
              "      <td>0.000000</td>\n",
              "      <td>89.125000</td>\n",
              "    </tr>\n",
              "    <tr>\n",
              "      <th>75%</th>\n",
              "      <td>3.000000</td>\n",
              "      <td>4.000000</td>\n",
              "      <td>1.0</td>\n",
              "      <td>1.0</td>\n",
              "      <td>-12.027933</td>\n",
              "      <td>-76.962508</td>\n",
              "      <td>1.25000</td>\n",
              "      <td>24.250000</td>\n",
              "      <td>2.000000</td>\n",
              "      <td>30.000000</td>\n",
              "      <td>142.395000</td>\n",
              "    </tr>\n",
              "    <tr>\n",
              "      <th>max</th>\n",
              "      <td>10.000000</td>\n",
              "      <td>5.000000</td>\n",
              "      <td>1.0</td>\n",
              "      <td>1.0</td>\n",
              "      <td>-5.185692</td>\n",
              "      <td>-76.833715</td>\n",
              "      <td>3.00000</td>\n",
              "      <td>56.000000</td>\n",
              "      <td>2.000000</td>\n",
              "      <td>410.000000</td>\n",
              "      <td>333.580000</td>\n",
              "    </tr>\n",
              "  </tbody>\n",
              "</table>\n",
              "</div>\n",
              "      <button class=\"colab-df-convert\" onclick=\"convertToInteractive('df-d0002410-b8c5-4975-a5fc-c6408c258df8')\"\n",
              "              title=\"Convert this dataframe to an interactive table.\"\n",
              "              style=\"display:none;\">\n",
              "        \n",
              "  <svg xmlns=\"http://www.w3.org/2000/svg\" height=\"24px\"viewBox=\"0 0 24 24\"\n",
              "       width=\"24px\">\n",
              "    <path d=\"M0 0h24v24H0V0z\" fill=\"none\"/>\n",
              "    <path d=\"M18.56 5.44l.94 2.06.94-2.06 2.06-.94-2.06-.94-.94-2.06-.94 2.06-2.06.94zm-11 1L8.5 8.5l.94-2.06 2.06-.94-2.06-.94L8.5 2.5l-.94 2.06-2.06.94zm10 10l.94 2.06.94-2.06 2.06-.94-2.06-.94-.94-2.06-.94 2.06-2.06.94z\"/><path d=\"M17.41 7.96l-1.37-1.37c-.4-.4-.92-.59-1.43-.59-.52 0-1.04.2-1.43.59L10.3 9.45l-7.72 7.72c-.78.78-.78 2.05 0 2.83L4 21.41c.39.39.9.59 1.41.59.51 0 1.02-.2 1.41-.59l7.78-7.78 2.81-2.81c.8-.78.8-2.07 0-2.86zM5.41 20L4 18.59l7.72-7.72 1.47 1.35L5.41 20z\"/>\n",
              "  </svg>\n",
              "      </button>\n",
              "      \n",
              "  <style>\n",
              "    .colab-df-container {\n",
              "      display:flex;\n",
              "      flex-wrap:wrap;\n",
              "      gap: 12px;\n",
              "    }\n",
              "\n",
              "    .colab-df-convert {\n",
              "      background-color: #E8F0FE;\n",
              "      border: none;\n",
              "      border-radius: 50%;\n",
              "      cursor: pointer;\n",
              "      display: none;\n",
              "      fill: #1967D2;\n",
              "      height: 32px;\n",
              "      padding: 0 0 0 0;\n",
              "      width: 32px;\n",
              "    }\n",
              "\n",
              "    .colab-df-convert:hover {\n",
              "      background-color: #E2EBFA;\n",
              "      box-shadow: 0px 1px 2px rgba(60, 64, 67, 0.3), 0px 1px 3px 1px rgba(60, 64, 67, 0.15);\n",
              "      fill: #174EA6;\n",
              "    }\n",
              "\n",
              "    [theme=dark] .colab-df-convert {\n",
              "      background-color: #3B4455;\n",
              "      fill: #D2E3FC;\n",
              "    }\n",
              "\n",
              "    [theme=dark] .colab-df-convert:hover {\n",
              "      background-color: #434B5C;\n",
              "      box-shadow: 0px 1px 3px 1px rgba(0, 0, 0, 0.15);\n",
              "      filter: drop-shadow(0px 1px 2px rgba(0, 0, 0, 0.3));\n",
              "      fill: #FFFFFF;\n",
              "    }\n",
              "  </style>\n",
              "\n",
              "      <script>\n",
              "        const buttonEl =\n",
              "          document.querySelector('#df-d0002410-b8c5-4975-a5fc-c6408c258df8 button.colab-df-convert');\n",
              "        buttonEl.style.display =\n",
              "          google.colab.kernel.accessAllowed ? 'block' : 'none';\n",
              "\n",
              "        async function convertToInteractive(key) {\n",
              "          const element = document.querySelector('#df-d0002410-b8c5-4975-a5fc-c6408c258df8');\n",
              "          const dataTable =\n",
              "            await google.colab.kernel.invokeFunction('convertToInteractive',\n",
              "                                                     [key], {});\n",
              "          if (!dataTable) return;\n",
              "\n",
              "          const docLinkHtml = 'Like what you see? Visit the ' +\n",
              "            '<a target=\"_blank\" href=https://colab.research.google.com/notebooks/data_table.ipynb>data table notebook</a>'\n",
              "            + ' to learn more about interactive tables.';\n",
              "          element.innerHTML = '';\n",
              "          dataTable['output_type'] = 'display_data';\n",
              "          await google.colab.output.renderOutput(dataTable, element);\n",
              "          const docLink = document.createElement('div');\n",
              "          docLink.innerHTML = docLinkHtml;\n",
              "          element.appendChild(docLink);\n",
              "        }\n",
              "      </script>\n",
              "    </div>\n",
              "  </div>\n",
              "  "
            ]
          },
          "metadata": {},
          "execution_count": 127
        }
      ],
      "source": [
        "#Valores descriptivos de dataset\n",
        "df.describe()"
      ]
    },
    {
      "cell_type": "code",
      "execution_count": 128,
      "metadata": {
        "colab": {
          "base_uri": "https://localhost:8080/"
        },
        "id": "3s4YJYHB5JNu",
        "outputId": "492495fc-de1f-4f32-ab53-777c45d0702a"
      },
      "outputs": [
        {
          "output_type": "execute_result",
          "data": {
            "text/plain": [
              "(20, 21)"
            ]
          },
          "metadata": {},
          "execution_count": 128
        }
      ],
      "source": [
        "#Numero de registros y valores a tomar en cuenta\n",
        "df.shape"
      ]
    },
    {
      "cell_type": "code",
      "execution_count": 129,
      "metadata": {
        "colab": {
          "base_uri": "https://localhost:8080/"
        },
        "id": "NfA8uzia5aPY",
        "outputId": "ac5d8ee0-b15b-49e6-91e4-3c53e4276690"
      },
      "outputs": [
        {
          "output_type": "execute_result",
          "data": {
            "text/plain": [
              "Fecha entrega del Informe          object\n",
              "Tipo de via                         int64\n",
              "Piso                                int64\n",
              "Departamento                       object\n",
              "Provincia                          object\n",
              "Distrito                           object\n",
              "Numero de estacionamiento         float64\n",
              "Depositos                         float64\n",
              "Latitud (Decimal)                 float64\n",
              "Longitud (Decimal)                float64\n",
              "Categoria del bien                 object\n",
              "Posicion                           object\n",
              "Numero de frentes                 float64\n",
              "Edad                              float64\n",
              "Elevador                            int64\n",
              "Estado de conservacion             object\n",
              "Metodo Representado                object\n",
              "Moneda principal para calculos     object\n",
              "Area Terreno                      float64\n",
              "Area Construccion                 float64\n",
              "Valor comercial                    object\n",
              "dtype: object"
            ]
          },
          "metadata": {},
          "execution_count": 129
        }
      ],
      "source": [
        "df.dtypes"
      ]
    },
    {
      "cell_type": "markdown",
      "metadata": {
        "id": "cV1f9_C8-EjQ"
      },
      "source": [
        "## Conteo de valores \n",
        "Numero de itereaciones por cada valor distinto en variables"
      ]
    },
    {
      "cell_type": "code",
      "execution_count": null,
      "metadata": {
        "colab": {
          "base_uri": "https://localhost:8080/"
        },
        "id": "6OOn0nx_6ptd",
        "outputId": "695048f8-b57b-4e88-986d-ff8d0bac631a"
      },
      "outputs": [
        {
          "data": {
            "text/plain": [
              "1     9\n",
              "2     4\n",
              "10    3\n",
              "3     3\n",
              "6     1\n",
              "Name: Tipo de via, dtype: int64"
            ]
          },
          "execution_count": 51,
          "metadata": {},
          "output_type": "execute_result"
        }
      ],
      "source": [
        "df['Tipo de via'].value_counts()"
      ]
    },
    {
      "cell_type": "code",
      "execution_count": null,
      "metadata": {
        "colab": {
          "base_uri": "https://localhost:8080/"
        },
        "id": "lnsTcPX797Lp",
        "outputId": "9aa5b418-e17d-4e74-a6c0-f778364ee5bd"
      },
      "outputs": [
        {
          "data": {
            "text/plain": [
              "2    6\n",
              "1    4\n",
              "4    4\n",
              "5    3\n",
              "3    3\n",
              "Name: Piso, dtype: int64"
            ]
          },
          "execution_count": 52,
          "metadata": {},
          "output_type": "execute_result"
        }
      ],
      "source": [
        "df['Piso'].value_counts()"
      ]
    },
    {
      "cell_type": "code",
      "execution_count": null,
      "metadata": {
        "colab": {
          "base_uri": "https://localhost:8080/"
        },
        "id": "PbDchqbY98qf",
        "outputId": "ab7b9143-6040-471e-99a9-7b0a11d01788"
      },
      "outputs": [
        {
          "data": {
            "text/plain": [
              "Lima           18\n",
              "La Libertad     1\n",
              "Piura           1\n",
              "Name: Departamento, dtype: int64"
            ]
          },
          "execution_count": 53,
          "metadata": {},
          "output_type": "execute_result"
        }
      ],
      "source": [
        "df['Departamento'].value_counts()"
      ]
    },
    {
      "cell_type": "code",
      "execution_count": null,
      "metadata": {
        "colab": {
          "base_uri": "https://localhost:8080/"
        },
        "id": "YNVYjiUv9984",
        "outputId": "c2cd8a6b-aa4e-49fd-f7e2-c98e57601474"
      },
      "outputs": [
        {
          "data": {
            "text/plain": [
              "Bueno        12\n",
              "Muy bueno     6\n",
              "Regular       1\n",
              "Malo          1\n",
              "Name: Estado de conservacion, dtype: int64"
            ]
          },
          "execution_count": 54,
          "metadata": {},
          "output_type": "execute_result"
        }
      ],
      "source": [
        "df['Estado de conservacion'].value_counts()"
      ]
    },
    {
      "cell_type": "code",
      "execution_count": null,
      "metadata": {
        "colab": {
          "base_uri": "https://localhost:8080/"
        },
        "id": "noYnJyTN-ARI",
        "outputId": "4b7f302a-947b-46e0-c15b-78b819928a1b"
      },
      "outputs": [
        {
          "data": {
            "text/plain": [
              "Lima        18\n",
              "Trujillo     1\n",
              "Piura        1\n",
              "Name: Provincia, dtype: int64"
            ]
          },
          "execution_count": 55,
          "metadata": {},
          "output_type": "execute_result"
        }
      ],
      "source": [
        "df['Provincia'].value_counts()"
      ]
    },
    {
      "cell_type": "code",
      "execution_count": null,
      "metadata": {
        "colab": {
          "base_uri": "https://localhost:8080/"
        },
        "id": "I45vcC5J-Br-",
        "outputId": "1eb0321f-6a75-4720-b494-808cf310a46e"
      },
      "outputs": [
        {
          "data": {
            "text/plain": [
              "Departamento            13\n",
              "Vivienda Unifamiliar     4\n",
              "Local Comercial          2\n",
              "Terreno Urbano           1\n",
              "Name: Categoria del bien, dtype: int64"
            ]
          },
          "execution_count": 56,
          "metadata": {},
          "output_type": "execute_result"
        }
      ],
      "source": [
        "df['Categoria del bien'].value_counts()"
      ]
    },
    {
      "cell_type": "code",
      "execution_count": null,
      "metadata": {
        "colab": {
          "base_uri": "https://localhost:8080/"
        },
        "id": "0WVkznLO-C-A",
        "outputId": "ee3e183d-284b-4709-fb87-305ec8a2d6d6"
      },
      "outputs": [
        {
          "data": {
            "text/plain": [
              "Comparacion de mercado (directo)    15\n",
              "Costos o reposicion (directo)        5\n",
              "Name: Metodo Representado, dtype: int64"
            ]
          },
          "execution_count": 57,
          "metadata": {},
          "output_type": "execute_result"
        }
      ],
      "source": [
        "df['Metodo Representado'].value_counts()"
      ]
    },
    {
      "cell_type": "code",
      "execution_count": null,
      "metadata": {
        "colab": {
          "base_uri": "https://localhost:8080/"
        },
        "id": "0_Gcb8ULQH7f",
        "outputId": "015a2720-0f07-479b-80d6-57ba821fb91b"
      },
      "outputs": [
        {
          "data": {
            "text/plain": [
              "-12.120143    1\n",
              "-12.022509    1\n",
              "-12.062116    1\n",
              "-12.064683    1\n",
              "-12.038434    1\n",
              "-12.112711    1\n",
              "-12.090449    1\n",
              "-8.111449     1\n",
              "-12.052870    1\n",
              "-12.136353    1\n",
              "-12.119652    1\n",
              "-5.185692     1\n",
              "-12.076643    1\n",
              "-11.899533    1\n",
              "-12.029741    1\n",
              "-12.095764    1\n",
              "-12.015309    1\n",
              "-12.095758    1\n",
              "-12.089686    1\n",
              "-12.121306    1\n",
              "Name: Latitud (Decimal), dtype: int64"
            ]
          },
          "execution_count": 58,
          "metadata": {},
          "output_type": "execute_result"
        }
      ],
      "source": [
        "df['Latitud (Decimal)'].value_counts()"
      ]
    },
    {
      "cell_type": "code",
      "execution_count": 120,
      "metadata": {
        "colab": {
          "base_uri": "https://localhost:8080/"
        },
        "id": "QjxlTsXoQrDb",
        "outputId": "4931c97c-62a0-427e-8665-87da6d7c496d"
      },
      "outputs": [
        {
          "output_type": "execute_result",
          "data": {
            "text/plain": [
              "Series([], Name: Longitud (Decimal), dtype: int64)"
            ]
          },
          "metadata": {},
          "execution_count": 120
        }
      ],
      "source": [
        "df['Longitud (Decimal)'].value_counts()"
      ]
    },
    {
      "cell_type": "markdown",
      "metadata": {
        "id": "54VNzzNX_UBf"
      },
      "source": [
        "#Direcciones especificas\n",
        "\n",
        "Se pretende utilizar la localización para agregar peso y valor a la funcion de calculo"
      ]
    },
    {
      "cell_type": "code",
      "execution_count": null,
      "metadata": {
        "id": "WOS6MG67kSa-"
      },
      "outputs": [],
      "source": [
        "directions = []\n",
        "geolocalizador = Nominatim();\n",
        "#Se recorren todos los valores para obtener su direccion\n",
        "for i in range(len(df)):\n",
        "    direction = geolocalizador.reverse(str(df.at[i,\"Latitud (Decimal)\"]) + ',' + str(df.at[i,\"Longitud (Decimal)\"]))\n",
        "\n",
        "\n",
        "\n",
        "    directions.append(direction) #Se agrega a la lista\n",
        "\n",
        "    "
      ]
    },
    {
      "cell_type": "code",
      "execution_count": null,
      "metadata": {
        "colab": {
          "base_uri": "https://localhost:8080/"
        },
        "id": "TJtJVx0G_oyf",
        "outputId": "cf9251c7-e8a7-4b34-a409-36bd3a1b0017"
      },
      "outputs": [
        {
          "name": "stdout",
          "output_type": "stream",
          "text": [
            "[['Alimentos Orgánicos, Avenida Ricardo Palma, Miraflores, Lima, Lima Metropolitana, Lima, 15047, Perú'\n",
            "  (-12.1200224, -77.02411169999999)]\n",
            " ['Cruz de Mayo, Huaycán, Ate, Lima, Lima Metropolitana, Lima, 15483, Perú'\n",
            "  (-12.022988868528829, -76.83358761224656)]\n",
            " ['Institución Educativa Miguel Grau, 1025, Jirón Libertad, Magdalena, Magdalena del Mar, Lima, Lima Metropolitana, Lima, 15086, Perú'\n",
            "  (-12.089316, -77.06880828321442)]\n",
            " ['Jirón 27, San Borja, Lima, Lima Metropolitana, Lima, 15023, Perú'\n",
            "  (-12.095700479837816, -76.98133061268804)]\n",
            " ['San Juan, Santa Clara, Ate, Lima, Lima Metropolitana, Lima, 15487, Perú'\n",
            "  (-12.015178275510912, -76.87424669152152)]\n",
            " ['File Security, 227, Calle German Schreiber, Centro financiero de San Isidro, San Isidro, Lima, Lima Metropolitana, Lima, 15000, Perú'\n",
            "  (-12.0958146, -77.0233109)]\n",
            " ['Santa Anita, Lima, Lima Metropolitana, Lima, 15009, Perú'\n",
            "  (-12.029485310302201, -76.94566781602553)]\n",
            " ['Comas, Lima, Lima Metropolitana, Lima, 15316, Perú'\n",
            "  (-11.89943214633956, -77.05772291425961)]\n",
            " ['La Choza Náutica, Avenida Horacio Urteaga, Jesús María, Lima, Lima Metropolitana, Lima, 15081, Perú'\n",
            "  (-12.0763076, -77.05052)]\n",
            " ['Piura, 20009, Perú' (-5.185881314086504, -80.65459956823354)]\n",
            " ['Calle La Almendra, Los Sauces, Surquillo, Lima, Lima Metropolitana, Lima, 15038, Perú'\n",
            "  (-12.119617444754901, -77.00565520360932)]\n",
            " ['Avenida Los Vicus, La Capullana, Santiago de Surco, Lima, Lima Metropolitana, Lima, 15038, Perú'\n",
            "  (-12.13633990242076, -77.00233820519033)]\n",
            " ['Calle Unión, San Cayetano, El Agustino, Lima, Lima Metropolitana, Lima, 15004, Perú'\n",
            "  (-12.052853817525994, -77.00656453113139)]\n",
            " ['Casa de los Condes de Aranda, Jirón Bolívar, Urbanización El Recreo, Trujillo, La Libertad, 13006, Perú'\n",
            "  (-8.1113667, -79.0256892)]\n",
            " ['Clinica Ricardo Palma, 1066, Avenida Javier Prado Este, Centro financiero de San Isidro, San Isidro, Lima, Lima Metropolitana, Lima, 15036, Perú'\n",
            "  (-12.0907117, -77.01830143287725)]\n",
            " ['Calle Las Laderas, Residencial Los Alamos de Monterrico, Santiago de Surco, Lima, Lima Metropolitana, Lima, 15023, Perú'\n",
            "  (-12.112618583152104, -76.96428942273076)]\n",
            " ['Los Mangos, Santa Anita, Lima, Lima Metropolitana, Lima, 15009, Perú'\n",
            "  (-12.038418336676582, -76.957035322517)]\n",
            " ['Emporio Comercial de Gamarra, Jirón Bélgica, San German, La Victoria, Lima, Lima Metropolitana, Lima, 15018, Perú'\n",
            "  (-12.06673285, -77.0148622341489)]\n",
            " ['Calle Mariano Melgar, La Molina, Lima, Lima Metropolitana, Lima, 15012, Perú'\n",
            "  (-12.062103272788567, -76.94971478989095)]\n",
            " ['Calle El Eucalipto, Los Sauces, Surquillo, Lima, Lima Metropolitana, Lima, 15038, Perú'\n",
            "  (-12.121285689341514, -76.99959938554761)]]\n"
          ]
        },
        {
          "name": "stderr",
          "output_type": "stream",
          "text": [
            "/usr/local/lib/python3.7/dist-packages/ipykernel_launcher.py:2: VisibleDeprecationWarning: Creating an ndarray from ragged nested sequences (which is a list-or-tuple of lists-or-tuples-or ndarrays with different lengths or shapes) is deprecated. If you meant to do this, you must specify 'dtype=object' when creating the ndarray.\n",
            "  \n"
          ]
        }
      ],
      "source": [
        "#Se muestra la lista de direcciones\n",
        "arr_directions = np.array(directions)\n",
        "print(arr_directions)"
      ]
    },
    {
      "cell_type": "code",
      "execution_count": null,
      "metadata": {
        "colab": {
          "base_uri": "https://localhost:8080/"
        },
        "id": "_mzVQiWAPia6",
        "outputId": "0729f629-3639-4baf-f86d-ac436b877e48"
      },
      "outputs": [
        {
          "name": "stdout",
          "output_type": "stream",
          "text": [
            "-36.8533028 174.7709309\n",
            "12, Grafton Road, Learning Quarter, City Centre, Auckland, Waitematā, Auckland, 1053, New Zealand / Aotearoa\n"
          ]
        }
      ],
      "source": [
        "#Test - josue\n",
        "#reversegeocoder - from xy coordinates to location address\n",
        "locator = Nominatim(timeout=10, user_agent=\"my-application\")\n",
        "coordinates = \"-36.8533028, 174.7709309\"\n",
        "location = locator.reverse(coordinates)\n",
        "print(location.latitude, location.longitude)\n",
        "print(location.address)"
      ]
    },
    {
      "cell_type": "markdown",
      "metadata": {
        "id": "g-b-T_LpAkYe"
      },
      "source": [
        "#Rango de datos"
      ]
    },
    {
      "cell_type": "code",
      "execution_count": null,
      "metadata": {
        "colab": {
          "base_uri": "https://localhost:8080/"
        },
        "id": "sJNWOqAMswU_",
        "outputId": "cd05eae7-6805-4323-cee9-84dff26641a3"
      },
      "outputs": [
        {
          "data": {
            "text/plain": [
              "array([[<matplotlib.axes._subplots.AxesSubplot object at 0x7fb5e0abd550>,\n",
              "        <matplotlib.axes._subplots.AxesSubplot object at 0x7fb5e0a84510>,\n",
              "        <matplotlib.axes._subplots.AxesSubplot object at 0x7fb5e0a3bb10>],\n",
              "       [<matplotlib.axes._subplots.AxesSubplot object at 0x7fb5e09ff150>,\n",
              "        <matplotlib.axes._subplots.AxesSubplot object at 0x7fb5e09b4750>,\n",
              "        <matplotlib.axes._subplots.AxesSubplot object at 0x7fb5e09ead50>],\n",
              "       [<matplotlib.axes._subplots.AxesSubplot object at 0x7fb5e09b0410>,\n",
              "        <matplotlib.axes._subplots.AxesSubplot object at 0x7fb5e0965950>,\n",
              "        <matplotlib.axes._subplots.AxesSubplot object at 0x7fb5e0965990>],\n",
              "       [<matplotlib.axes._subplots.AxesSubplot object at 0x7fb5e09290d0>,\n",
              "        <matplotlib.axes._subplots.AxesSubplot object at 0x7fb5e0893bd0>,\n",
              "        <matplotlib.axes._subplots.AxesSubplot object at 0x7fb5e0857210>]],\n",
              "      dtype=object)"
            ]
          },
          "execution_count": 33,
          "metadata": {},
          "output_type": "execute_result"
        },
        {
          "data": {
            "image/png": "[encoded data removed]",
            "text/plain": [
              "<Figure size 1440x1080 with 12 Axes>"
            ]
          },
          "metadata": {},
          "output_type": "display_data"
        }
      ],
      "source": [
        "df.hist(bins=50, figsize=(20,15))"
      ]
    },
    {
      "cell_type": "markdown",
      "metadata": {
        "id": "wIa-rCrnTXMR"
      },
      "source": [
        "# Mapeo de las propiedades (no cul, sin mapa, no jala chido)"
      ]
    },
    {
      "cell_type": "code",
      "execution_count": null,
      "metadata": {
        "colab": {
          "base_uri": "https://localhost:8080/"
        },
        "id": "wgL064XgTR_y",
        "outputId": "2c07d3de-ec2b-4da4-955e-616af4b4ff5c"
      },
      "outputs": [
        {
          "data": {
            "text/plain": [
              "<matplotlib.axes._subplots.AxesSubplot at 0x7fb5df8a8550>"
            ]
          },
          "execution_count": 35,
          "metadata": {},
          "output_type": "execute_result"
        },
        {
          "data": {
            "image/png": "[encoded data removed]",
            "text/plain": [
              "<Figure size 720x504 with 1 Axes>"
            ]
          },
          "metadata": {},
          "output_type": "display_data"
        }
      ],
      "source": [
        "#grafica de dispersion en X, Y\n",
        "df.plot(kind=\"scatter\", x=\"Latitud (Decimal)\", y=\"Longitud (Decimal)\", figsize=(10,7))"
      ]
    },
    {
      "cell_type": "code",
      "execution_count": null,
      "metadata": {
        "colab": {
          "base_uri": "https://localhost:8080/"
        },
        "id": "UW_ZKcyPUfUL",
        "outputId": "be10d99f-ac9d-4033-cfe2-b89b8c957e15"
      },
      "outputs": [
        {
          "data": {
            "text/plain": [
              "<matplotlib.axes._subplots.AxesSubplot at 0x7fb5df6b9190>"
            ]
          },
          "execution_count": 38,
          "metadata": {},
          "output_type": "execute_result"
        },
        {
          "data": {
            "image/png": "[encoded data removed]",
            "text/plain": [
              "<Figure size 720x504 with 1 Axes>"
            ]
          },
          "metadata": {},
          "output_type": "display_data"
        }
      ],
      "source": [
        "#grafica de dispersion en X, Y con alfa para ver donde hay mayor densidad\n",
        "df.plot(kind=\"scatter\", x=\"Latitud (Decimal)\", alpha=0.1, y=\"Longitud (Decimal)\", figsize=(10,7))"
      ]
    },
    {
      "cell_type": "code",
      "execution_count": null,
      "metadata": {
        "colab": {
          "base_uri": "https://localhost:8080/"
        },
        "id": "8is69zOjU8pl",
        "outputId": "272ea61e-8a44-46ff-fc31-ce9d0fef1686"
      },
      "outputs": [
        {
          "ename": "ValueError",
          "evalue": "ignored",
          "output_type": "error",
          "traceback": [
            "\u001b[0;31m---------------------------------------------------------------------------\u001b[0m",
            "\u001b[0;31mValueError\u001b[0m                                Traceback (most recent call last)",
            "\u001b[0;32m/usr/local/lib/python3.7/dist-packages/matplotlib/colors.py\u001b[0m in \u001b[0;36mto_rgba_array\u001b[0;34m(c, alpha)\u001b[0m\n\u001b[1;32m    324\u001b[0m         \u001b[0;32mtry\u001b[0m\u001b[0;34m:\u001b[0m\u001b[0;34m\u001b[0m\u001b[0;34m\u001b[0m\u001b[0m\n\u001b[0;32m--> 325\u001b[0;31m             \u001b[0mresult\u001b[0m \u001b[0;34m=\u001b[0m \u001b[0mnp\u001b[0m\u001b[0;34m.\u001b[0m\u001b[0marray\u001b[0m\u001b[0;34m(\u001b[0m\u001b[0;34m[\u001b[0m\u001b[0mto_rgba\u001b[0m\u001b[0;34m(\u001b[0m\u001b[0mcc\u001b[0m\u001b[0;34m,\u001b[0m \u001b[0malpha\u001b[0m\u001b[0;34m)\u001b[0m \u001b[0;32mfor\u001b[0m \u001b[0mcc\u001b[0m \u001b[0;32min\u001b[0m \u001b[0mc\u001b[0m\u001b[0;34m]\u001b[0m\u001b[0;34m)\u001b[0m\u001b[0;34m\u001b[0m\u001b[0;34m\u001b[0m\u001b[0m\n\u001b[0m\u001b[1;32m    326\u001b[0m         \u001b[0;32mexcept\u001b[0m \u001b[0mValueError\u001b[0m\u001b[0;34m:\u001b[0m\u001b[0;34m\u001b[0m\u001b[0;34m\u001b[0m\u001b[0m\n",
            "\u001b[0;32m/usr/local/lib/python3.7/dist-packages/matplotlib/colors.py\u001b[0m in \u001b[0;36m<listcomp>\u001b[0;34m(.0)\u001b[0m\n\u001b[1;32m    324\u001b[0m         \u001b[0;32mtry\u001b[0m\u001b[0;34m:\u001b[0m\u001b[0;34m\u001b[0m\u001b[0;34m\u001b[0m\u001b[0m\n\u001b[0;32m--> 325\u001b[0;31m             \u001b[0mresult\u001b[0m \u001b[0;34m=\u001b[0m \u001b[0mnp\u001b[0m\u001b[0;34m.\u001b[0m\u001b[0marray\u001b[0m\u001b[0;34m(\u001b[0m\u001b[0;34m[\u001b[0m\u001b[0mto_rgba\u001b[0m\u001b[0;34m(\u001b[0m\u001b[0mcc\u001b[0m\u001b[0;34m,\u001b[0m \u001b[0malpha\u001b[0m\u001b[0;34m)\u001b[0m \u001b[0;32mfor\u001b[0m \u001b[0mcc\u001b[0m \u001b[0;32min\u001b[0m \u001b[0mc\u001b[0m\u001b[0;34m]\u001b[0m\u001b[0;34m)\u001b[0m\u001b[0;34m\u001b[0m\u001b[0;34m\u001b[0m\u001b[0m\n\u001b[0m\u001b[1;32m    326\u001b[0m         \u001b[0;32mexcept\u001b[0m \u001b[0mValueError\u001b[0m\u001b[0;34m:\u001b[0m\u001b[0;34m\u001b[0m\u001b[0;34m\u001b[0m\u001b[0m\n",
            "\u001b[0;32m/usr/local/lib/python3.7/dist-packages/matplotlib/colors.py\u001b[0m in \u001b[0;36mto_rgba\u001b[0;34m(c, alpha)\u001b[0m\n\u001b[1;32m    184\u001b[0m     \u001b[0;32mif\u001b[0m \u001b[0mrgba\u001b[0m \u001b[0;32mis\u001b[0m \u001b[0;32mNone\u001b[0m\u001b[0;34m:\u001b[0m  \u001b[0;31m# Suppress exception chaining of cache lookup failure.\u001b[0m\u001b[0;34m\u001b[0m\u001b[0;34m\u001b[0m\u001b[0m\n\u001b[0;32m--> 185\u001b[0;31m         \u001b[0mrgba\u001b[0m \u001b[0;34m=\u001b[0m \u001b[0m_to_rgba_no_colorcycle\u001b[0m\u001b[0;34m(\u001b[0m\u001b[0mc\u001b[0m\u001b[0;34m,\u001b[0m \u001b[0malpha\u001b[0m\u001b[0;34m)\u001b[0m\u001b[0;34m\u001b[0m\u001b[0;34m\u001b[0m\u001b[0m\n\u001b[0m\u001b[1;32m    186\u001b[0m         \u001b[0;32mtry\u001b[0m\u001b[0;34m:\u001b[0m\u001b[0;34m\u001b[0m\u001b[0;34m\u001b[0m\u001b[0m\n",
            "\u001b[0;32m/usr/local/lib/python3.7/dist-packages/matplotlib/colors.py\u001b[0m in \u001b[0;36m_to_rgba_no_colorcycle\u001b[0;34m(c, alpha)\u001b[0m\n\u001b[1;32m    260\u001b[0m             \u001b[0;32mreturn\u001b[0m \u001b[0mc\u001b[0m\u001b[0;34m,\u001b[0m \u001b[0mc\u001b[0m\u001b[0;34m,\u001b[0m \u001b[0mc\u001b[0m\u001b[0;34m,\u001b[0m \u001b[0malpha\u001b[0m \u001b[0;32mif\u001b[0m \u001b[0malpha\u001b[0m \u001b[0;32mis\u001b[0m \u001b[0;32mnot\u001b[0m \u001b[0;32mNone\u001b[0m \u001b[0;32melse\u001b[0m \u001b[0;36m1.\u001b[0m\u001b[0;34m\u001b[0m\u001b[0;34m\u001b[0m\u001b[0m\n\u001b[0;32m--> 261\u001b[0;31m         \u001b[0;32mraise\u001b[0m \u001b[0mValueError\u001b[0m\u001b[0;34m(\u001b[0m\u001b[0;34mf\"Invalid RGBA argument: {orig_c!r}\"\u001b[0m\u001b[0;34m)\u001b[0m\u001b[0;34m\u001b[0m\u001b[0;34m\u001b[0m\u001b[0m\n\u001b[0m\u001b[1;32m    262\u001b[0m     \u001b[0;31m# tuple color.\u001b[0m\u001b[0;34m\u001b[0m\u001b[0;34m\u001b[0m\u001b[0;34m\u001b[0m\u001b[0m\n",
            "\u001b[0;31mValueError\u001b[0m: Invalid RGBA argument: 'e'",
            "\nDuring handling of the above exception, another exception occurred:\n",
            "\u001b[0;31mValueError\u001b[0m                                Traceback (most recent call last)",
            "\u001b[0;32m/usr/local/lib/python3.7/dist-packages/matplotlib/axes/_axes.py\u001b[0m in \u001b[0;36m_parse_scatter_color_args\u001b[0;34m(c, edgecolors, kwargs, xsize, get_next_color_func)\u001b[0m\n\u001b[1;32m   4238\u001b[0m             \u001b[0;32mtry\u001b[0m\u001b[0;34m:\u001b[0m  \u001b[0;31m# Is 'c' acceptable as PathCollection facecolors?\u001b[0m\u001b[0;34m\u001b[0m\u001b[0;34m\u001b[0m\u001b[0m\n\u001b[0;32m-> 4239\u001b[0;31m                 \u001b[0mcolors\u001b[0m \u001b[0;34m=\u001b[0m \u001b[0mmcolors\u001b[0m\u001b[0;34m.\u001b[0m\u001b[0mto_rgba_array\u001b[0m\u001b[0;34m(\u001b[0m\u001b[0mc\u001b[0m\u001b[0;34m)\u001b[0m\u001b[0;34m\u001b[0m\u001b[0;34m\u001b[0m\u001b[0m\n\u001b[0m\u001b[1;32m   4240\u001b[0m             \u001b[0;32mexcept\u001b[0m \u001b[0mValueError\u001b[0m\u001b[0;34m:\u001b[0m\u001b[0;34m\u001b[0m\u001b[0;34m\u001b[0m\u001b[0m\n",
            "\u001b[0;32m/usr/local/lib/python3.7/dist-packages/matplotlib/colors.py\u001b[0m in \u001b[0;36mto_rgba_array\u001b[0;34m(c, alpha)\u001b[0m\n\u001b[1;32m    329\u001b[0m                 \u001b[0;34m\"consisting of single character color specifiers such as \"\u001b[0m\u001b[0;34m\u001b[0m\u001b[0;34m\u001b[0m\u001b[0m\n\u001b[0;32m--> 330\u001b[0;31m                 \"'rgb'. Note also that the latter is deprecated.\" % c)\n\u001b[0m\u001b[1;32m    331\u001b[0m         \u001b[0;32melse\u001b[0m\u001b[0;34m:\u001b[0m\u001b[0;34m\u001b[0m\u001b[0;34m\u001b[0m\u001b[0m\n",
            "\u001b[0;31mValueError\u001b[0m: 'median_house_value' is neither a valid single color nor a color sequence consisting of single character color specifiers such as 'rgb'. Note also that the latter is deprecated.",
            "\nDuring handling of the above exception, another exception occurred:\n",
            "\u001b[0;31mValueError\u001b[0m                                Traceback (most recent call last)",
            "\u001b[0;32m<ipython-input-67-ed1f0f234db0>\u001b[0m in \u001b[0;36m<module>\u001b[0;34m\u001b[0m\n\u001b[1;32m      5\u001b[0m \u001b[0;34m\u001b[0m\u001b[0m\n\u001b[1;32m      6\u001b[0m df.plot(kind=\"scatter\", x=\"Latitud (Decimal)\", alpha=0.1, y=\"Longitud (Decimal)\", figsize=(10,7),\n\u001b[0;32m----> 7\u001b[0;31m         s=df['Valor comercial'], c='median_house_value')\n\u001b[0m",
            "\u001b[0;32m/usr/local/lib/python3.7/dist-packages/pandas/plotting/_core.py\u001b[0m in \u001b[0;36m__call__\u001b[0;34m(self, *args, **kwargs)\u001b[0m\n\u001b[1;32m    915\u001b[0m         \u001b[0;32mif\u001b[0m \u001b[0mkind\u001b[0m \u001b[0;32min\u001b[0m \u001b[0mself\u001b[0m\u001b[0;34m.\u001b[0m\u001b[0m_dataframe_kinds\u001b[0m\u001b[0;34m:\u001b[0m\u001b[0;34m\u001b[0m\u001b[0;34m\u001b[0m\u001b[0m\n\u001b[1;32m    916\u001b[0m             \u001b[0;32mif\u001b[0m \u001b[0misinstance\u001b[0m\u001b[0;34m(\u001b[0m\u001b[0mdata\u001b[0m\u001b[0;34m,\u001b[0m \u001b[0mABCDataFrame\u001b[0m\u001b[0;34m)\u001b[0m\u001b[0;34m:\u001b[0m\u001b[0;34m\u001b[0m\u001b[0;34m\u001b[0m\u001b[0m\n\u001b[0;32m--> 917\u001b[0;31m                 \u001b[0;32mreturn\u001b[0m \u001b[0mplot_backend\u001b[0m\u001b[0;34m.\u001b[0m\u001b[0mplot\u001b[0m\u001b[0;34m(\u001b[0m\u001b[0mdata\u001b[0m\u001b[0;34m,\u001b[0m \u001b[0mx\u001b[0m\u001b[0;34m=\u001b[0m\u001b[0mx\u001b[0m\u001b[0;34m,\u001b[0m \u001b[0my\u001b[0m\u001b[0;34m=\u001b[0m\u001b[0my\u001b[0m\u001b[0;34m,\u001b[0m \u001b[0mkind\u001b[0m\u001b[0;34m=\u001b[0m\u001b[0mkind\u001b[0m\u001b[0;34m,\u001b[0m \u001b[0;34m**\u001b[0m\u001b[0mkwargs\u001b[0m\u001b[0;34m)\u001b[0m\u001b[0;34m\u001b[0m\u001b[0;34m\u001b[0m\u001b[0m\n\u001b[0m\u001b[1;32m    918\u001b[0m             \u001b[0;32melse\u001b[0m\u001b[0;34m:\u001b[0m\u001b[0;34m\u001b[0m\u001b[0;34m\u001b[0m\u001b[0m\n\u001b[1;32m    919\u001b[0m                 \u001b[0;32mraise\u001b[0m \u001b[0mValueError\u001b[0m\u001b[0;34m(\u001b[0m\u001b[0;34mf\"plot kind {kind} can only be used for data frames\"\u001b[0m\u001b[0;34m)\u001b[0m\u001b[0;34m\u001b[0m\u001b[0;34m\u001b[0m\u001b[0m\n",
            "\u001b[0;32m/usr/local/lib/python3.7/dist-packages/pandas/plotting/_matplotlib/__init__.py\u001b[0m in \u001b[0;36mplot\u001b[0;34m(data, kind, **kwargs)\u001b[0m\n\u001b[1;32m     69\u001b[0m             \u001b[0mkwargs\u001b[0m\u001b[0;34m[\u001b[0m\u001b[0;34m\"ax\"\u001b[0m\u001b[0;34m]\u001b[0m \u001b[0;34m=\u001b[0m \u001b[0mgetattr\u001b[0m\u001b[0;34m(\u001b[0m\u001b[0max\u001b[0m\u001b[0;34m,\u001b[0m \u001b[0;34m\"left_ax\"\u001b[0m\u001b[0;34m,\u001b[0m \u001b[0max\u001b[0m\u001b[0;34m)\u001b[0m\u001b[0;34m\u001b[0m\u001b[0;34m\u001b[0m\u001b[0m\n\u001b[1;32m     70\u001b[0m     \u001b[0mplot_obj\u001b[0m \u001b[0;34m=\u001b[0m \u001b[0mPLOT_CLASSES\u001b[0m\u001b[0;34m[\u001b[0m\u001b[0mkind\u001b[0m\u001b[0;34m]\u001b[0m\u001b[0;34m(\u001b[0m\u001b[0mdata\u001b[0m\u001b[0;34m,\u001b[0m \u001b[0;34m**\u001b[0m\u001b[0mkwargs\u001b[0m\u001b[0;34m)\u001b[0m\u001b[0;34m\u001b[0m\u001b[0;34m\u001b[0m\u001b[0m\n\u001b[0;32m---> 71\u001b[0;31m     \u001b[0mplot_obj\u001b[0m\u001b[0;34m.\u001b[0m\u001b[0mgenerate\u001b[0m\u001b[0;34m(\u001b[0m\u001b[0;34m)\u001b[0m\u001b[0;34m\u001b[0m\u001b[0;34m\u001b[0m\u001b[0m\n\u001b[0m\u001b[1;32m     72\u001b[0m     \u001b[0mplot_obj\u001b[0m\u001b[0;34m.\u001b[0m\u001b[0mdraw\u001b[0m\u001b[0;34m(\u001b[0m\u001b[0;34m)\u001b[0m\u001b[0;34m\u001b[0m\u001b[0;34m\u001b[0m\u001b[0m\n\u001b[1;32m     73\u001b[0m     \u001b[0;32mreturn\u001b[0m \u001b[0mplot_obj\u001b[0m\u001b[0;34m.\u001b[0m\u001b[0mresult\u001b[0m\u001b[0;34m\u001b[0m\u001b[0;34m\u001b[0m\u001b[0m\n",
            "\u001b[0;32m/usr/local/lib/python3.7/dist-packages/pandas/plotting/_matplotlib/core.py\u001b[0m in \u001b[0;36mgenerate\u001b[0;34m(self)\u001b[0m\n\u001b[1;32m    286\u001b[0m         \u001b[0mself\u001b[0m\u001b[0;34m.\u001b[0m\u001b[0m_compute_plot_data\u001b[0m\u001b[0;34m(\u001b[0m\u001b[0;34m)\u001b[0m\u001b[0;34m\u001b[0m\u001b[0;34m\u001b[0m\u001b[0m\n\u001b[1;32m    287\u001b[0m         \u001b[0mself\u001b[0m\u001b[0;34m.\u001b[0m\u001b[0m_setup_subplots\u001b[0m\u001b[0;34m(\u001b[0m\u001b[0;34m)\u001b[0m\u001b[0;34m\u001b[0m\u001b[0;34m\u001b[0m\u001b[0m\n\u001b[0;32m--> 288\u001b[0;31m         \u001b[0mself\u001b[0m\u001b[0;34m.\u001b[0m\u001b[0m_make_plot\u001b[0m\u001b[0;34m(\u001b[0m\u001b[0;34m)\u001b[0m\u001b[0;34m\u001b[0m\u001b[0;34m\u001b[0m\u001b[0m\n\u001b[0m\u001b[1;32m    289\u001b[0m         \u001b[0mself\u001b[0m\u001b[0;34m.\u001b[0m\u001b[0m_add_table\u001b[0m\u001b[0;34m(\u001b[0m\u001b[0;34m)\u001b[0m\u001b[0;34m\u001b[0m\u001b[0;34m\u001b[0m\u001b[0m\n\u001b[1;32m    290\u001b[0m         \u001b[0mself\u001b[0m\u001b[0;34m.\u001b[0m\u001b[0m_make_legend\u001b[0m\u001b[0;34m(\u001b[0m\u001b[0;34m)\u001b[0m\u001b[0;34m\u001b[0m\u001b[0;34m\u001b[0m\u001b[0m\n",
            "\u001b[0;32m/usr/local/lib/python3.7/dist-packages/pandas/plotting/_matplotlib/core.py\u001b[0m in \u001b[0;36m_make_plot\u001b[0;34m(self)\u001b[0m\n\u001b[1;32m   1075\u001b[0m             \u001b[0mcmap\u001b[0m\u001b[0;34m=\u001b[0m\u001b[0mcmap\u001b[0m\u001b[0;34m,\u001b[0m\u001b[0;34m\u001b[0m\u001b[0;34m\u001b[0m\u001b[0m\n\u001b[1;32m   1076\u001b[0m             \u001b[0mnorm\u001b[0m\u001b[0;34m=\u001b[0m\u001b[0mnorm\u001b[0m\u001b[0;34m,\u001b[0m\u001b[0;34m\u001b[0m\u001b[0;34m\u001b[0m\u001b[0m\n\u001b[0;32m-> 1077\u001b[0;31m             \u001b[0;34m**\u001b[0m\u001b[0mself\u001b[0m\u001b[0;34m.\u001b[0m\u001b[0mkwds\u001b[0m\u001b[0;34m,\u001b[0m\u001b[0;34m\u001b[0m\u001b[0;34m\u001b[0m\u001b[0m\n\u001b[0m\u001b[1;32m   1078\u001b[0m         )\n\u001b[1;32m   1079\u001b[0m         \u001b[0;32mif\u001b[0m \u001b[0mcb\u001b[0m\u001b[0;34m:\u001b[0m\u001b[0;34m\u001b[0m\u001b[0;34m\u001b[0m\u001b[0m\n",
            "\u001b[0;32m/usr/local/lib/python3.7/dist-packages/matplotlib/__init__.py\u001b[0m in \u001b[0;36minner\u001b[0;34m(ax, data, *args, **kwargs)\u001b[0m\n\u001b[1;32m   1563\u001b[0m     \u001b[0;32mdef\u001b[0m \u001b[0minner\u001b[0m\u001b[0;34m(\u001b[0m\u001b[0max\u001b[0m\u001b[0;34m,\u001b[0m \u001b[0;34m*\u001b[0m\u001b[0margs\u001b[0m\u001b[0;34m,\u001b[0m \u001b[0mdata\u001b[0m\u001b[0;34m=\u001b[0m\u001b[0;32mNone\u001b[0m\u001b[0;34m,\u001b[0m \u001b[0;34m**\u001b[0m\u001b[0mkwargs\u001b[0m\u001b[0;34m)\u001b[0m\u001b[0;34m:\u001b[0m\u001b[0;34m\u001b[0m\u001b[0;34m\u001b[0m\u001b[0m\n\u001b[1;32m   1564\u001b[0m         \u001b[0;32mif\u001b[0m \u001b[0mdata\u001b[0m \u001b[0;32mis\u001b[0m \u001b[0;32mNone\u001b[0m\u001b[0;34m:\u001b[0m\u001b[0;34m\u001b[0m\u001b[0;34m\u001b[0m\u001b[0m\n\u001b[0;32m-> 1565\u001b[0;31m             \u001b[0;32mreturn\u001b[0m \u001b[0mfunc\u001b[0m\u001b[0;34m(\u001b[0m\u001b[0max\u001b[0m\u001b[0;34m,\u001b[0m \u001b[0;34m*\u001b[0m\u001b[0mmap\u001b[0m\u001b[0;34m(\u001b[0m\u001b[0msanitize_sequence\u001b[0m\u001b[0;34m,\u001b[0m \u001b[0margs\u001b[0m\u001b[0;34m)\u001b[0m\u001b[0;34m,\u001b[0m \u001b[0;34m**\u001b[0m\u001b[0mkwargs\u001b[0m\u001b[0;34m)\u001b[0m\u001b[0;34m\u001b[0m\u001b[0;34m\u001b[0m\u001b[0m\n\u001b[0m\u001b[1;32m   1566\u001b[0m \u001b[0;34m\u001b[0m\u001b[0m\n\u001b[1;32m   1567\u001b[0m         \u001b[0mbound\u001b[0m \u001b[0;34m=\u001b[0m \u001b[0mnew_sig\u001b[0m\u001b[0;34m.\u001b[0m\u001b[0mbind\u001b[0m\u001b[0;34m(\u001b[0m\u001b[0max\u001b[0m\u001b[0;34m,\u001b[0m \u001b[0;34m*\u001b[0m\u001b[0margs\u001b[0m\u001b[0;34m,\u001b[0m \u001b[0;34m**\u001b[0m\u001b[0mkwargs\u001b[0m\u001b[0;34m)\u001b[0m\u001b[0;34m\u001b[0m\u001b[0;34m\u001b[0m\u001b[0m\n",
            "\u001b[0;32m/usr/local/lib/python3.7/dist-packages/matplotlib/cbook/deprecation.py\u001b[0m in \u001b[0;36mwrapper\u001b[0;34m(*args, **kwargs)\u001b[0m\n\u001b[1;32m    356\u001b[0m                 \u001b[0;34mf\"%(removal)s.  If any parameter follows {name!r}, they \"\u001b[0m\u001b[0;34m\u001b[0m\u001b[0;34m\u001b[0m\u001b[0m\n\u001b[1;32m    357\u001b[0m                 f\"should be pass as keyword, not positionally.\")\n\u001b[0;32m--> 358\u001b[0;31m         \u001b[0;32mreturn\u001b[0m \u001b[0mfunc\u001b[0m\u001b[0;34m(\u001b[0m\u001b[0;34m*\u001b[0m\u001b[0margs\u001b[0m\u001b[0;34m,\u001b[0m \u001b[0;34m**\u001b[0m\u001b[0mkwargs\u001b[0m\u001b[0;34m)\u001b[0m\u001b[0;34m\u001b[0m\u001b[0;34m\u001b[0m\u001b[0m\n\u001b[0m\u001b[1;32m    359\u001b[0m \u001b[0;34m\u001b[0m\u001b[0m\n\u001b[1;32m    360\u001b[0m     \u001b[0;32mreturn\u001b[0m \u001b[0mwrapper\u001b[0m\u001b[0;34m\u001b[0m\u001b[0;34m\u001b[0m\u001b[0m\n",
            "\u001b[0;32m/usr/local/lib/python3.7/dist-packages/matplotlib/axes/_axes.py\u001b[0m in \u001b[0;36mscatter\u001b[0;34m(self, x, y, s, c, marker, cmap, norm, vmin, vmax, alpha, linewidths, verts, edgecolors, plotnonfinite, **kwargs)\u001b[0m\n\u001b[1;32m   4401\u001b[0m             self._parse_scatter_color_args(\n\u001b[1;32m   4402\u001b[0m                 \u001b[0mc\u001b[0m\u001b[0;34m,\u001b[0m \u001b[0medgecolors\u001b[0m\u001b[0;34m,\u001b[0m \u001b[0mkwargs\u001b[0m\u001b[0;34m,\u001b[0m \u001b[0mx\u001b[0m\u001b[0;34m.\u001b[0m\u001b[0msize\u001b[0m\u001b[0;34m,\u001b[0m\u001b[0;34m\u001b[0m\u001b[0;34m\u001b[0m\u001b[0m\n\u001b[0;32m-> 4403\u001b[0;31m                 get_next_color_func=self._get_patches_for_fill.get_next_color)\n\u001b[0m\u001b[1;32m   4404\u001b[0m \u001b[0;34m\u001b[0m\u001b[0m\n\u001b[1;32m   4405\u001b[0m         \u001b[0;32mif\u001b[0m \u001b[0mplotnonfinite\u001b[0m \u001b[0;32mand\u001b[0m \u001b[0mcolors\u001b[0m \u001b[0;32mis\u001b[0m \u001b[0;32mNone\u001b[0m\u001b[0;34m:\u001b[0m\u001b[0;34m\u001b[0m\u001b[0;34m\u001b[0m\u001b[0m\n",
            "\u001b[0;32m/usr/local/lib/python3.7/dist-packages/matplotlib/axes/_axes.py\u001b[0m in \u001b[0;36m_parse_scatter_color_args\u001b[0;34m(c, edgecolors, kwargs, xsize, get_next_color_func)\u001b[0m\n\u001b[1;32m   4244\u001b[0m                 \u001b[0;31m# severe failure => one may appreciate a verbose feedback.\u001b[0m\u001b[0;34m\u001b[0m\u001b[0;34m\u001b[0m\u001b[0;34m\u001b[0m\u001b[0m\n\u001b[1;32m   4245\u001b[0m                 raise ValueError(\n\u001b[0;32m-> 4246\u001b[0;31m                     \u001b[0;34mf\"'c' argument must be a color, a sequence of colors, or \"\u001b[0m\u001b[0;34m\u001b[0m\u001b[0;34m\u001b[0m\u001b[0m\n\u001b[0m\u001b[1;32m   4247\u001b[0m                     f\"a sequence of numbers, not {c}\")\n\u001b[1;32m   4248\u001b[0m             \u001b[0;32melse\u001b[0m\u001b[0;34m:\u001b[0m\u001b[0;34m\u001b[0m\u001b[0;34m\u001b[0m\u001b[0m\n",
            "\u001b[0;31mValueError\u001b[0m: 'c' argument must be a color, a sequence of colors, or a sequence of numbers, not median_house_value"
          ]
        },
        {
          "data": {
            "image/png": "[encoded data removed]",
            "text/plain": [
              "<Figure size 720x504 with 1 Axes>"
            ]
          },
          "metadata": {},
          "output_type": "display_data"
        }
      ],
      "source": [
        "#cambiamos el tamaño del punto y agregamos una escala de medicion\n",
        "#s tamaño de cada punto\n",
        "#c etiqueta\n",
        "\n",
        "\n",
        "df.plot(kind=\"scatter\", x=\"Latitud (Decimal)\", alpha=0.1, y=\"Longitud (Decimal)\", figsize=(10,7),\n",
        "        s=df['Valor comercial'], c='median_house_value')"
      ]
    },
    {
      "cell_type": "markdown",
      "metadata": {
        "id": "VkRrvgyNuOQQ"
      },
      "source": [
        "# Mapeo con follium"
      ]
    },
    {
      "cell_type": "code",
      "execution_count": null,
      "metadata": {
        "colab": {
          "base_uri": "https://localhost:8080/",
          "height": 395
        },
        "id": "XjAIQ2ABuJQy",
        "outputId": "a9997f85-d50c-410a-a7e1-9c470213edce"
      },
      "outputs": [
        {
          "data": {
            "text/html": [
              "<div style=\"width:100%;\"><div style=\"position:relative;width:100%;height:0;padding-bottom:60%;\"><span style=\"color:#565656\">Make this Notebook Trusted to load map: File -> Trust Notebook</span><iframe srcdoc=\"&lt;!DOCTYPE html&gt;\n",
              "&lt;head&gt;    \n",
              "    &lt;meta http-equiv=&quot;content-type&quot; content=&quot;text/html; charset=UTF-8&quot; /&gt;\n",
              "    \n",
              "        &lt;script&gt;\n",
              "            L_NO_TOUCH = false;\n",
              "            L_DISABLE_3D = false;\n",
              "        &lt;/script&gt;\n",
              "    \n",
              "    &lt;style&gt;html, body {width: 100%;height: 100%;margin: 0;padding: 0;}&lt;/style&gt;\n",
              "    &lt;style&gt;#map {position:absolute;top:0;bottom:0;right:0;left:0;}&lt;/style&gt;\n",
              "    &lt;script src=&quot;https://cdn.jsdelivr.net/npm/leaflet@1.6.0/dist/leaflet.js&quot;&gt;&lt;/script&gt;\n",
              "    &lt;script src=&quot;https://code.jquery.com/jquery-1.12.4.min.js&quot;&gt;&lt;/script&gt;\n",
              "    &lt;script src=&quot;https://maxcdn.bootstrapcdn.com/bootstrap/3.2.0/js/bootstrap.min.js&quot;&gt;&lt;/script&gt;\n",
              "    &lt;script src=&quot;https://cdnjs.cloudflare.com/ajax/libs/Leaflet.awesome-markers/2.0.2/leaflet.awesome-markers.js&quot;&gt;&lt;/script&gt;\n",
              "    &lt;link rel=&quot;stylesheet&quot; href=&quot;https://cdn.jsdelivr.net/npm/leaflet@1.6.0/dist/leaflet.css&quot;/&gt;\n",
              "    &lt;link rel=&quot;stylesheet&quot; href=&quot;https://maxcdn.bootstrapcdn.com/bootstrap/3.2.0/css/bootstrap.min.css&quot;/&gt;\n",
              "    &lt;link rel=&quot;stylesheet&quot; href=&quot;https://maxcdn.bootstrapcdn.com/bootstrap/3.2.0/css/bootstrap-theme.min.css&quot;/&gt;\n",
              "    &lt;link rel=&quot;stylesheet&quot; href=&quot;https://maxcdn.bootstrapcdn.com/font-awesome/4.6.3/css/font-awesome.min.css&quot;/&gt;\n",
              "    &lt;link rel=&quot;stylesheet&quot; href=&quot;https://cdnjs.cloudflare.com/ajax/libs/Leaflet.awesome-markers/2.0.2/leaflet.awesome-markers.css&quot;/&gt;\n",
              "    &lt;link rel=&quot;stylesheet&quot; href=&quot;https://cdn.jsdelivr.net/gh/python-visualization/folium/folium/templates/leaflet.awesome.rotate.min.css&quot;/&gt;\n",
              "    \n",
              "            &lt;meta name=&quot;viewport&quot; content=&quot;width=device-width,\n",
              "                initial-scale=1.0, maximum-scale=1.0, user-scalable=no&quot; /&gt;\n",
              "            &lt;style&gt;\n",
              "                #map_462f39e6229124d1d7dd7d0b8ab44f6f {\n",
              "                    position: relative;\n",
              "                    width: 100.0%;\n",
              "                    height: 100.0%;\n",
              "                    left: 0.0%;\n",
              "                    top: 0.0%;\n",
              "                }\n",
              "            &lt;/style&gt;\n",
              "        \n",
              "&lt;/head&gt;\n",
              "&lt;body&gt;    \n",
              "    \n",
              "            &lt;div class=&quot;folium-map&quot; id=&quot;map_462f39e6229124d1d7dd7d0b8ab44f6f&quot; &gt;&lt;/div&gt;\n",
              "        \n",
              "&lt;/body&gt;\n",
              "&lt;script&gt;    \n",
              "    \n",
              "            var map_462f39e6229124d1d7dd7d0b8ab44f6f = L.map(\n",
              "                &quot;map_462f39e6229124d1d7dd7d0b8ab44f6f&quot;,\n",
              "                {\n",
              "                    center: [-12.057158, -77.048902],\n",
              "                    crs: L.CRS.EPSG3857,\n",
              "                    zoom: 6,\n",
              "                    zoomControl: true,\n",
              "                    preferCanvas: false,\n",
              "                }\n",
              "            );\n",
              "\n",
              "            \n",
              "\n",
              "        \n",
              "    \n",
              "            var tile_layer_9be787341883ea9185b247f0f759f3f0 = L.tileLayer(\n",
              "                &quot;https://{s}.tile.openstreetmap.org/{z}/{x}/{y}.png&quot;,\n",
              "                {&quot;attribution&quot;: &quot;Data by \\u0026copy; \\u003ca href=\\&quot;http://openstreetmap.org\\&quot;\\u003eOpenStreetMap\\u003c/a\\u003e, under \\u003ca href=\\&quot;http://www.openstreetmap.org/copyright\\&quot;\\u003eODbL\\u003c/a\\u003e.&quot;, &quot;detectRetina&quot;: false, &quot;maxNativeZoom&quot;: 18, &quot;maxZoom&quot;: 18, &quot;minZoom&quot;: 0, &quot;noWrap&quot;: false, &quot;opacity&quot;: 1, &quot;subdomains&quot;: &quot;abc&quot;, &quot;tms&quot;: false}\n",
              "            ).addTo(map_462f39e6229124d1d7dd7d0b8ab44f6f);\n",
              "        \n",
              "&lt;/script&gt;\" style=\"position:absolute;width:100%;height:100%;left:0;top:0;border:none !important;\" allowfullscreen webkitallowfullscreen mozallowfullscreen></iframe></div></div>"
            ],
            "text/plain": [
              "<folium.folium.Map at 0x7fb5dd957090>"
            ]
          },
          "execution_count": 78,
          "metadata": {},
          "output_type": "execute_result"
        }
      ],
      "source": [
        "import folium\n",
        "#x=\"Latitud (Decimal)\", y=\"Longitud (Decimal)\"\n",
        "mapa=folium.Map(location=[-12.057158, -77.048902], zoom_start=6 )\n",
        "mapa"
      ]
    },
    {
      "cell_type": "code",
      "execution_count": null,
      "metadata": {
        "colab": {
          "base_uri": "https://localhost:8080/"
        },
        "id": "6rNWaZK1wPEa",
        "outputId": "5b1cb2c5-d9c6-4fff-ed45-3e0917ab9227"
      },
      "outputs": [
        {
          "data": {
            "text/plain": [
              "array([[-12.1201435, -77.0239598],\n",
              "       [-12.0225094, -76.833715 ],\n",
              "       [-12.0896856, -77.0684536],\n",
              "       [-12.0957584, -76.9813229],\n",
              "       [-12.0153092, -76.874213 ],\n",
              "       [-12.0957639, -77.02336  ],\n",
              "       [-12.0297405, -76.9455815],\n",
              "       [-11.899533 , -77.0576157],\n",
              "       [-12.0766427, -77.0506477],\n",
              "       [ -5.1856924, -80.6545414],\n",
              "       [-12.1196524, -77.0057059],\n",
              "       [-12.1363533, -77.0023247],\n",
              "       [-12.05287  , -77.006517 ],\n",
              "       [ -8.1114492, -79.0260459],\n",
              "       [-12.090449 , -77.018342 ],\n",
              "       [-12.112711 , -76.9643341],\n",
              "       [-12.0384343, -76.9570281],\n",
              "       [-12.064683 , -77.01366  ],\n",
              "       [-12.0621164, -76.9497108],\n",
              "       [-12.1213057, -76.9997372]])"
            ]
          },
          "execution_count": 76,
          "metadata": {},
          "output_type": "execute_result"
        }
      ],
      "source": [
        "distritos= df[ ['Latitud (Decimal)','Longitud (Decimal)']].to_numpy()\n",
        "distritos"
      ]
    },
    {
      "cell_type": "code",
      "execution_count": null,
      "metadata": {
        "colab": {
          "base_uri": "https://localhost:8080/",
          "height": 449
        },
        "id": "Bu5lUvZwwt5k",
        "outputId": "23d35e3f-abbb-4523-f65c-7e2424a277cf"
      },
      "outputs": [
        {
          "name": "stderr",
          "output_type": "stream",
          "text": [
            "/usr/local/lib/python3.7/dist-packages/ipykernel_launcher.py:4: UserWarning: The `max_val` parameter is no longer necessary. The largest intensity is calculated automatically.\n",
            "  after removing the cwd from sys.path.\n"
          ]
        },
        {
          "data": {
            "text/html": [
              "<div style=\"width:100%;\"><div style=\"position:relative;width:100%;height:0;padding-bottom:60%;\"><span style=\"color:#565656\">Make this Notebook Trusted to load map: File -> Trust Notebook</span><iframe srcdoc=\"&lt;!DOCTYPE html&gt;\n",
              "&lt;head&gt;    \n",
              "    &lt;meta http-equiv=&quot;content-type&quot; content=&quot;text/html; charset=UTF-8&quot; /&gt;\n",
              "    \n",
              "        &lt;script&gt;\n",
              "            L_NO_TOUCH = false;\n",
              "            L_DISABLE_3D = false;\n",
              "        &lt;/script&gt;\n",
              "    \n",
              "    &lt;style&gt;html, body {width: 100%;height: 100%;margin: 0;padding: 0;}&lt;/style&gt;\n",
              "    &lt;style&gt;#map {position:absolute;top:0;bottom:0;right:0;left:0;}&lt;/style&gt;\n",
              "    &lt;script src=&quot;https://cdn.jsdelivr.net/npm/leaflet@1.6.0/dist/leaflet.js&quot;&gt;&lt;/script&gt;\n",
              "    &lt;script src=&quot;https://code.jquery.com/jquery-1.12.4.min.js&quot;&gt;&lt;/script&gt;\n",
              "    &lt;script src=&quot;https://maxcdn.bootstrapcdn.com/bootstrap/3.2.0/js/bootstrap.min.js&quot;&gt;&lt;/script&gt;\n",
              "    &lt;script src=&quot;https://cdnjs.cloudflare.com/ajax/libs/Leaflet.awesome-markers/2.0.2/leaflet.awesome-markers.js&quot;&gt;&lt;/script&gt;\n",
              "    &lt;link rel=&quot;stylesheet&quot; href=&quot;https://cdn.jsdelivr.net/npm/leaflet@1.6.0/dist/leaflet.css&quot;/&gt;\n",
              "    &lt;link rel=&quot;stylesheet&quot; href=&quot;https://maxcdn.bootstrapcdn.com/bootstrap/3.2.0/css/bootstrap.min.css&quot;/&gt;\n",
              "    &lt;link rel=&quot;stylesheet&quot; href=&quot;https://maxcdn.bootstrapcdn.com/bootstrap/3.2.0/css/bootstrap-theme.min.css&quot;/&gt;\n",
              "    &lt;link rel=&quot;stylesheet&quot; href=&quot;https://maxcdn.bootstrapcdn.com/font-awesome/4.6.3/css/font-awesome.min.css&quot;/&gt;\n",
              "    &lt;link rel=&quot;stylesheet&quot; href=&quot;https://cdnjs.cloudflare.com/ajax/libs/Leaflet.awesome-markers/2.0.2/leaflet.awesome-markers.css&quot;/&gt;\n",
              "    &lt;link rel=&quot;stylesheet&quot; href=&quot;https://cdn.jsdelivr.net/gh/python-visualization/folium/folium/templates/leaflet.awesome.rotate.min.css&quot;/&gt;\n",
              "    \n",
              "            &lt;meta name=&quot;viewport&quot; content=&quot;width=device-width,\n",
              "                initial-scale=1.0, maximum-scale=1.0, user-scalable=no&quot; /&gt;\n",
              "            &lt;style&gt;\n",
              "                #map_40a87672ef11fe17bd9f71336f5755ab {\n",
              "                    position: relative;\n",
              "                    width: 100.0%;\n",
              "                    height: 100.0%;\n",
              "                    left: 0.0%;\n",
              "                    top: 0.0%;\n",
              "                }\n",
              "            &lt;/style&gt;\n",
              "        \n",
              "    &lt;script src=&quot;https://cdn.jsdelivr.net/gh/python-visualization/folium@master/folium/templates/leaflet_heat.min.js&quot;&gt;&lt;/script&gt;\n",
              "&lt;/head&gt;\n",
              "&lt;body&gt;    \n",
              "    \n",
              "            &lt;div class=&quot;folium-map&quot; id=&quot;map_40a87672ef11fe17bd9f71336f5755ab&quot; &gt;&lt;/div&gt;\n",
              "        \n",
              "&lt;/body&gt;\n",
              "&lt;script&gt;    \n",
              "    \n",
              "            var map_40a87672ef11fe17bd9f71336f5755ab = L.map(\n",
              "                &quot;map_40a87672ef11fe17bd9f71336f5755ab&quot;,\n",
              "                {\n",
              "                    center: [-12.057158, -77.048902],\n",
              "                    crs: L.CRS.EPSG3857,\n",
              "                    zoom: 6,\n",
              "                    zoomControl: true,\n",
              "                    preferCanvas: false,\n",
              "                }\n",
              "            );\n",
              "\n",
              "            \n",
              "\n",
              "        \n",
              "    \n",
              "            var tile_layer_ef1fe844168321197f4f807c8823187a = L.tileLayer(\n",
              "                &quot;https://{s}.tile.openstreetmap.org/{z}/{x}/{y}.png&quot;,\n",
              "                {&quot;attribution&quot;: &quot;Data by \\u0026copy; \\u003ca href=\\&quot;http://openstreetmap.org\\&quot;\\u003eOpenStreetMap\\u003c/a\\u003e, under \\u003ca href=\\&quot;http://www.openstreetmap.org/copyright\\&quot;\\u003eODbL\\u003c/a\\u003e.&quot;, &quot;detectRetina&quot;: false, &quot;maxNativeZoom&quot;: 18, &quot;maxZoom&quot;: 18, &quot;minZoom&quot;: 0, &quot;noWrap&quot;: false, &quot;opacity&quot;: 1, &quot;subdomains&quot;: &quot;abc&quot;, &quot;tms&quot;: false}\n",
              "            ).addTo(map_40a87672ef11fe17bd9f71336f5755ab);\n",
              "        \n",
              "    \n",
              "            var heat_map_ec209c2e7ec3cc07c5596db058eeb6db = L.heatLayer(\n",
              "                [[-12.1201435, -77.0239598], [-12.0225094, -76.833715], [-12.0896856, -77.0684536], [-12.0957584, -76.9813229], [-12.0153092, -76.874213], [-12.0957639, -77.02336], [-12.0297405, -76.9455815], [-11.899533, -77.0576157], [-12.0766427, -77.0506477], [-5.1856924, -80.6545414], [-12.1196524, -77.0057059], [-12.1363533, -77.0023247], [-12.05287, -77.006517], [-8.1114492, -79.0260459], [-12.090449, -77.018342], [-12.112711, -76.9643341], [-12.0384343, -76.9570281], [-12.064683, -77.01366], [-12.0621164, -76.9497108], [-12.1213057, -76.9997372]],\n",
              "                {&quot;blur&quot;: 15, &quot;maxZoom&quot;: 18, &quot;minOpacity&quot;: 0.4, &quot;radius&quot;: 15}\n",
              "            ).addTo(map_40a87672ef11fe17bd9f71336f5755ab);\n",
              "        \n",
              "&lt;/script&gt;\" style=\"position:absolute;width:100%;height:100%;left:0;top:0;border:none !important;\" allowfullscreen webkitallowfullscreen mozallowfullscreen></iframe></div></div>"
            ],
            "text/plain": [
              "<folium.folium.Map at 0x7fb5dd957a90>"
            ]
          },
          "execution_count": 77,
          "metadata": {},
          "output_type": "execute_result"
        }
      ],
      "source": [
        "from folium import plugins\n",
        "from folium.plugins import HeatMap\n",
        "\n",
        "HeatMap (distritos,radius=15, max_val=0.1, min_opacity=0.4).add_to(mapa)\n",
        "mapa"
      ]
    },
    {
      "cell_type": "markdown",
      "metadata": {
        "id": "f8Avo3kPzX28"
      },
      "source": [
        "# Correlacion de variables"
      ]
    },
    {
      "cell_type": "code",
      "execution_count": 130,
      "metadata": {
        "colab": {
          "base_uri": "https://localhost:8080/",
          "height": 1000
        },
        "id": "1NofJttpzVvC",
        "outputId": "172591bf-fec8-4e34-b74c-3571a7911cd0"
      },
      "outputs": [
        {
          "output_type": "stream",
          "name": "stderr",
          "text": [
            "/usr/local/lib/python3.7/dist-packages/pandas/plotting/_matplotlib/misc.py:100: UserWarning: Attempting to set identical left == right == 1.0 results in singular transformations; automatically expanding.\n",
            "  ax.set_xlim(boundaries_list[j])\n",
            "/usr/local/lib/python3.7/dist-packages/pandas/plotting/_matplotlib/misc.py:101: UserWarning: Attempting to set identical bottom == top == 1.0 results in singular transformations; automatically expanding.\n",
            "  ax.set_ylim(boundaries_list[i])\n",
            "/usr/local/lib/python3.7/dist-packages/pandas/plotting/_matplotlib/misc.py:91: UserWarning: Attempting to set identical left == right == 1.0 results in singular transformations; automatically expanding.\n",
            "  ax.set_xlim(boundaries_list[i])\n"
          ]
        },
        {
          "output_type": "execute_result",
          "data": {
            "text/plain": [
              "array([[<matplotlib.axes._subplots.AxesSubplot object at 0x7fb5d621bad0>,\n",
              "        <matplotlib.axes._subplots.AxesSubplot object at 0x7fb5d60feb50>,\n",
              "        <matplotlib.axes._subplots.AxesSubplot object at 0x7fb5d6126fd0>,\n",
              "        <matplotlib.axes._subplots.AxesSubplot object at 0x7fb5d60e6550>,\n",
              "        <matplotlib.axes._subplots.AxesSubplot object at 0x7fb5d609ca50>],\n",
              "       [<matplotlib.axes._subplots.AxesSubplot object at 0x7fb5e035f090>,\n",
              "        <matplotlib.axes._subplots.AxesSubplot object at 0x7fb5d796d250>,\n",
              "        <matplotlib.axes._subplots.AxesSubplot object at 0x7fb5d726a990>,\n",
              "        <matplotlib.axes._subplots.AxesSubplot object at 0x7fb5d71e7e10>,\n",
              "        <matplotlib.axes._subplots.AxesSubplot object at 0x7fb5d7ab7410>],\n",
              "       [<matplotlib.axes._subplots.AxesSubplot object at 0x7fb5d7a251d0>,\n",
              "        <matplotlib.axes._subplots.AxesSubplot object at 0x7fb5d6053fd0>,\n",
              "        <matplotlib.axes._subplots.AxesSubplot object at 0x7fb5d5fba650>,\n",
              "        <matplotlib.axes._subplots.AxesSubplot object at 0x7fb5d5fe9c50>,\n",
              "        <matplotlib.axes._subplots.AxesSubplot object at 0x7fb5d5fab290>],\n",
              "       [<matplotlib.axes._subplots.AxesSubplot object at 0x7fb5d5f62890>,\n",
              "        <matplotlib.axes._subplots.AxesSubplot object at 0x7fb5d5f18e90>,\n",
              "        <matplotlib.axes._subplots.AxesSubplot object at 0x7fb5d5edc4d0>,\n",
              "        <matplotlib.axes._subplots.AxesSubplot object at 0x7fb5d5e92ad0>,\n",
              "        <matplotlib.axes._subplots.AxesSubplot object at 0x7fb5d5e56110>],\n",
              "       [<matplotlib.axes._subplots.AxesSubplot object at 0x7fb5d5e0d710>,\n",
              "        <matplotlib.axes._subplots.AxesSubplot object at 0x7fb5d5dc4d10>,\n",
              "        <matplotlib.axes._subplots.AxesSubplot object at 0x7fb5d5d87350>,\n",
              "        <matplotlib.axes._subplots.AxesSubplot object at 0x7fb5d5d3e950>,\n",
              "        <matplotlib.axes._subplots.AxesSubplot object at 0x7fb5d5cf5f50>]],\n",
              "      dtype=object)"
            ]
          },
          "metadata": {},
          "execution_count": 130
        },
        {
          "output_type": "display_data",
          "data": {
            "text/plain": [
              "<Figure size 864x576 with 25 Axes>"
            ],
            "image/png": "[encoded data removed]"
          },
          "metadata": {
            "needs_background": "light"
          }
        }
      ],
      "source": [
        "#diagramas de coorelacion, se me ocurre que sea de todas las variables contra todas\n",
        "from pandas.plotting import scatter_matrix\n",
        "atributos=[\"Valor comercial\",\"Piso\",\"Provincia\",\"Numero de frentes\",\"Numero de estacionamiento\",\"Edad\",\"Tipo de via\",\"Categoria del bien\",\"Estado de conservacion\"]\n",
        "\n",
        "scatter_matrix(df[atributos], figsize=(12,8))"
      ]
    },
    {
      "cell_type": "code",
      "execution_count": null,
      "metadata": {
        "colab": {
          "base_uri": "https://localhost:8080/",
          "height": 401
        },
        "id": "6VhykUo-_Obn",
        "outputId": "5a093f17-41e2-43c3-fad5-75c9cb9fe12c"
      },
      "outputs": [
        {
          "data": {
            "image/png": "[encoded data removed]",
            "text/plain": [
              "<Figure size 432x288 with 2 Axes>"
            ]
          },
          "metadata": {},
          "output_type": "display_data"
        }
      ],
      "source": [
        "import seaborn as sn\n",
        "\n",
        "corrMatrix=df[atributos].corr().round(2)\n",
        "sn.heatmap(corrMatrix, annot=True,cmap='coolwarm')\n",
        "plt.show()"
      ]
    },
    {
      "cell_type": "markdown",
      "metadata": {
        "id": "2bdb8nXkHaov"
      },
      "source": [
        "# Preparar los datos y sus transformaciones"
      ]
    },
    {
      "cell_type": "code",
      "execution_count": null,
      "metadata": {
        "colab": {
          "base_uri": "https://localhost:8080/"
        },
        "id": "bIVUMSX-HYex",
        "outputId": "05efac0a-ade8-4ed9-cc6f-959cd65f0059"
      },
      "outputs": [
        {
          "data": {
            "text/plain": [
              "True"
            ]
          },
          "execution_count": 97,
          "metadata": {},
          "output_type": "execute_result"
        }
      ],
      "source": [
        "#revisar y eliminar los datos nulos\n",
        "df.isnull().values.any()\n"
      ]
    },
    {
      "cell_type": "code",
      "execution_count": 131,
      "metadata": {
        "colab": {
          "base_uri": "https://localhost:8080/"
        },
        "id": "AOSKc8KTH4QE",
        "outputId": "a6f8030c-f8b4-46a6-f102-ea8aa5c682c0"
      },
      "outputs": [
        {
          "output_type": "execute_result",
          "data": {
            "text/plain": [
              "20"
            ]
          },
          "metadata": {},
          "execution_count": 131
        }
      ],
      "source": [
        "#numero de datos\n",
        "\n",
        "len(df)"
      ]
    },
    {
      "cell_type": "code",
      "execution_count": null,
      "metadata": {
        "colab": {
          "base_uri": "https://localhost:8080/"
        },
        "id": "omdP5tzaH9An",
        "outputId": "c882a57d-12fd-4e71-b671-cec598ebf383"
      },
      "outputs": [
        {
          "data": {
            "text/plain": [
              "0"
            ]
          },
          "execution_count": 99,
          "metadata": {},
          "output_type": "execute_result"
        }
      ],
      "source": [
        "#eliminar datos nulos hijo de madre se fue mi base de datos al gulag\n",
        "\n",
        "#df=df.dropna()\n",
        "#len(df)"
      ]
    },
    {
      "cell_type": "markdown",
      "source": [
        "# categorizar(lo haremos nominal)"
      ],
      "metadata": {
        "id": "3VgvOTVMQKtq"
      }
    },
    {
      "cell_type": "code",
      "source": [
        "df['Provincia'].value_counts()"
      ],
      "metadata": {
        "colab": {
          "base_uri": "https://localhost:8080/"
        },
        "id": "bXU5jphLNvfp",
        "outputId": "0efa656e-97ad-4389-d246-b35861dcca79"
      },
      "execution_count": 132,
      "outputs": [
        {
          "output_type": "execute_result",
          "data": {
            "text/plain": [
              "Lima        18\n",
              "Trujillo     1\n",
              "Piura        1\n",
              "Name: Provincia, dtype: int64"
            ]
          },
          "metadata": {},
          "execution_count": 132
        }
      ]
    },
    {
      "cell_type": "code",
      "source": [
        "from sklearn.preprocessing import OneHotEncoder\n",
        "Nominal_codificador=OneHotEncoder(sparse=False)\n",
        "Nominal_codificador.fit_transform(df[['Provincia']])"
      ],
      "metadata": {
        "colab": {
          "base_uri": "https://localhost:8080/"
        },
        "id": "okzzUkJKQmU5",
        "outputId": "ecc21898-f78e-45eb-ae92-fc7d57a47c00"
      },
      "execution_count": 133,
      "outputs": [
        {
          "output_type": "execute_result",
          "data": {
            "text/plain": [
              "array([[1., 0., 0.],\n",
              "       [1., 0., 0.],\n",
              "       [1., 0., 0.],\n",
              "       [1., 0., 0.],\n",
              "       [1., 0., 0.],\n",
              "       [1., 0., 0.],\n",
              "       [1., 0., 0.],\n",
              "       [1., 0., 0.],\n",
              "       [1., 0., 0.],\n",
              "       [1., 0., 0.],\n",
              "       [1., 0., 0.],\n",
              "       [1., 0., 0.],\n",
              "       [1., 0., 0.],\n",
              "       [0., 0., 1.],\n",
              "       [1., 0., 0.],\n",
              "       [1., 0., 0.],\n",
              "       [1., 0., 0.],\n",
              "       [1., 0., 0.],\n",
              "       [0., 1., 0.],\n",
              "       [1., 0., 0.]])"
            ]
          },
          "metadata": {},
          "execution_count": 133
        }
      ]
    },
    {
      "cell_type": "code",
      "source": [
        "#nominal\n",
        "Nominal_codificador.categories_"
      ],
      "metadata": {
        "colab": {
          "base_uri": "https://localhost:8080/"
        },
        "id": "iKINII9RRiI6",
        "outputId": "00971552-ea9b-4927-b975-9b670ba913a4"
      },
      "execution_count": 134,
      "outputs": [
        {
          "output_type": "execute_result",
          "data": {
            "text/plain": [
              "[array(['Lima', 'Piura', 'Trujillo'], dtype=object)]"
            ]
          },
          "metadata": {},
          "execution_count": 134
        }
      ]
    },
    {
      "cell_type": "markdown",
      "source": [
        "# PIPELINE"
      ],
      "metadata": {
        "id": "AcyxnGrgR0EZ"
      }
    },
    {
      "cell_type": "code",
      "source": [
        "from sklearn.utils.fixes import sklearn\n",
        "#MODULOS IMPORTANTES\n",
        "from sklearn.pipeline import Pipeline\n",
        "from sklearn.compose import ColumnTransformer\n",
        "from sklearn.preprocessing import StandardScaler, OrdinalEncoder\n",
        "\n",
        "#lista de variables numericas y categoricas\n",
        "numeric_list=[\"Tipo de via\", \"Piso\", \"Numero de estacionamiento\", \"Depositos\", \"Latitud (Decimal)\", \"Longitud (Decimal)\",\"Numero de frentes\", \"Edad\", \"Elevador\", \"Area Terreno\", \"Area Construccion\",\"Valor comercial\" ]\n",
        "categorical_list=[\"Departamento\",\"Provincia\", \"Distrito\",\"Categoria del bien\", \"Posicion\", \"Estado de conservacion\", \"Metodo Representado\" ]\n",
        "\n",
        "\n",
        "\n",
        "\n",
        "\n"
      ],
      "metadata": {
        "id": "X0V2FuT5R33F"
      },
      "execution_count": 137,
      "outputs": []
    },
    {
      "cell_type": "code",
      "source": [
        "from pandas.core.arrays import categorical\n",
        "#pipeline de procesamiento para los datos numericos y categoricos\n",
        "numeric_transformer= Pipeline(steps=[(\"scaler\", StandardScaler())])\n",
        "categorical_transformer=Pipeline(steps=[(\"onehot\", OneHotEncoder())])\n",
        "\n"
      ],
      "metadata": {
        "id": "vNIu27gDYdq7"
      },
      "execution_count": 139,
      "outputs": []
    },
    {
      "cell_type": "markdown",
      "source": [
        "ColumnTransformer function"
      ],
      "metadata": {
        "id": "OO0IzuEBamYd"
      }
    },
    {
      "cell_type": "code",
      "source": [
        "from matplotlib.transforms import Transform\n",
        "#definir transformaciones\n",
        "transformer= ColumnTransformer ([\n",
        "    (\"num\", numeric_transformer,numeric_list) , (\"cat\", categorical_transformer, categorical_list)\n",
        "])"
      ],
      "metadata": {
        "id": "mZ9ZlbUNaxSB"
      },
      "execution_count": null,
      "outputs": []
    },
    {
      "cell_type": "markdown",
      "source": [
        "# Preparacion de los datos 2.0"
      ],
      "metadata": {
        "id": "m9YXwQyIcGZN"
      }
    },
    {
      "cell_type": "code",
      "source": [
        "#crear x (quitar la columna o el campo valor comercial)\n",
        " x=df.drop(\"Valor comercial\", axis=1)"
      ],
      "metadata": {
        "id": "gW7VhDWXcF_u"
      },
      "execution_count": 140,
      "outputs": []
    },
    {
      "cell_type": "code",
      "source": [
        "#crear y (valor de la columna valor comercial)\n",
        "y=df[\"Valor comercial\"]"
      ],
      "metadata": {
        "id": "cHwLONYAcV6F"
      },
      "execution_count": null,
      "outputs": []
    },
    {
      "cell_type": "code",
      "source": [
        "#dividir los datos para entrenamiento y los datos para prueba\n",
        "from sklearn.model_selection import train_test_split\n",
        "X_train, X_test,X_train, X_test,"
      ],
      "metadata": {
        "id": "O3Kp5mt2fAZU"
      },
      "execution_count": null,
      "outputs": []
    },
    {
      "cell_type": "code",
      "source": [],
      "metadata": {
        "id": "c6gapQ5yfHJw"
      },
      "execution_count": null,
      "outputs": []
    },
    {
      "cell_type": "markdown",
      "metadata": {
        "id": "Aire1PovmUXi"
      },
      "source": [
        "# Funciones que calculan cosas\n"
      ]
    },
    {
      "cell_type": "code",
      "execution_count": null,
      "metadata": {
        "id": "-M_34agfmfl1"
      },
      "outputs": [],
      "source": [
        "#array of streats\n",
        "street = [\"Calle 1\", \"Calle 2\", \"Calle 3\", \"Calle 4\", \"Calle 5\", \"Calle 6\", \"Calle 7\"]\n",
        "\n",
        "#array of departments\n",
        "departments = [\"Departamento 1\", \"Departamento 2\", \"Departamento 3\", \"Departamento 4\", \"Departamento 5\"]\n",
        "\n",
        "\n",
        "#array of districts\n",
        "districts = [\"San Isidro\", \"La Victoria\", \"Santiago de Surco\", \"La Victoria\", \"Ate\", \"Breña\", \"Pueblo Libre\", \"Veintiseis de Octubre\"]\n",
        "\n",
        "#array of floars\n",
        "floars = [\"1\", \"2\", \"3\", \"4\", \"5\", \"6\", \"7\", \"8\", \"9\", \"10\"] \n",
        "\n",
        "\n",
        "#function to select the street\n",
        "def selectStreet():\n",
        "    print(\"Selecciona la calle\")\n",
        "    for i in range(len(street)):\n",
        "        print(i+1, street[i])\n",
        "    streetSelected = int(input(\"Selecciona una calle: \"))\n",
        "    return street[streetSelected-1]\n",
        "\n",
        "\n",
        "\n",
        "#function to calculate the price of the house\n",
        "def calculatePrice(street, department, district, floar):\n",
        "    price = 0\n",
        "    if street == \"Calle 1\":\n",
        "        price += 1000\n",
        "    elif street == \"Calle 2\":\n",
        "        price += 2000\n",
        "    elif street == \"Calle 3\":\n",
        "        price += 3000\n",
        "    elif street == \"Calle 4\":\n",
        "        price += 4000\n",
        "    elif street == \"Calle 5\":\n",
        "        price += 5000\n",
        "    elif street == \"Calle 6\":\n",
        "        price += 6000\n",
        "    elif street == \"Calle 7\":\n",
        "        price += 7000\n",
        "\n",
        "    if department == \"Departamento 1\":\n",
        "        price += 1000\n",
        "    elif department == \"Departamento 2\":\n",
        "        price += 2000\n",
        "    elif department == \"Departamento 3\":\n",
        "        price += 3000\n",
        "    elif department == \"Departamento 4\":\n",
        "        price += 4000\n",
        "    elif department == \"Departamento 5\":\n",
        "        price += 5000\n",
        "\n",
        "    if district == \"San Isidro\":\n",
        "        price += 1000\n",
        "    elif district == \"La Victoria\":\n",
        "        price += 2000\n",
        "    elif district == \"Santiago de Surco\":\n",
        "        price += 3000\n",
        "    elif district == \"Ate\":\n",
        "        price += 4000\n",
        "    elif district == \"Breña\":\n",
        "        price += 5000\n",
        "    elif district == \"Pueblo Libre\":\n",
        "        price += 6000\n",
        "    elif district == \"Veintiseis de Octubre\":\n",
        "        price += 7000\n",
        "\n",
        "    if floar == \"1\":\n",
        "        price += 1000\n",
        "    elif floar == \"2\":\n",
        "        price += 2000\n",
        "    elif floar == \"3\":\n",
        "        price += 3000\n",
        "    elif floar == \"4\":\n",
        "        price += 4000\n",
        "    elif floar == \"5\":\n",
        "        price += 5000\n",
        "    elif floar == \"6\":\n",
        "        price += 6000\n",
        "    elif floar == \"7\":\n",
        "        price += 7000\n",
        "    elif floar == \"8\":\n",
        "        price += 8000\n",
        "    elif floar == \"9\":\n",
        "        price += 9000\n",
        "    elif floar == \"10\":\n",
        "        price += 10000\n",
        "\n",
        "    return price"
      ]
    },
    {
      "cell_type": "code",
      "execution_count": null,
      "metadata": {
        "colab": {
          "base_uri": "https://localhost:8080/",
          "height": 192
        },
        "id": "VybnGpzat0UB",
        "outputId": "29788151-9743-453a-aae1-ebe14ccf9ce8"
      },
      "outputs": [
        {
          "name": "stdout",
          "output_type": "stream",
          "text": [
            "Selecciona la calle\n",
            "1 Calle 1\n",
            "2 Calle 2\n",
            "3 Calle 3\n",
            "4 Calle 4\n",
            "5 Calle 5\n",
            "6 Calle 6\n",
            "7 Calle 7\n",
            "Selecciona una calle: 7\n"
          ]
        },
        {
          "data": {
            "application/vnd.google.colaboratory.intrinsic+json": {
              "type": "string"
            },
            "text/plain": [
              "'Calle 7'"
            ]
          },
          "execution_count": 80,
          "metadata": {},
          "output_type": "execute_result"
        }
      ],
      "source": [
        "selectStreet()"
      ]
    },
    {
      "cell_type": "code",
      "source": [],
      "metadata": {
        "id": "kif43m-VaqHv"
      },
      "execution_count": null,
      "outputs": []
    },
    {
      "cell_type": "code",
      "source": [],
      "metadata": {
        "id": "HW7zf0sFelbO"
      },
      "execution_count": null,
      "outputs": []
    }
  ],
  "metadata": {
    "colab": {
      "collapsed_sections": [
        "Iifjn1z7ZoHg",
        "14VSLnSL4on-",
        "54VNzzNX_UBf",
        "g-b-T_LpAkYe",
        "wIa-rCrnTXMR",
        "VkRrvgyNuOQQ",
        "Aire1PovmUXi"
      ],
      "provenance": [],
      "include_colab_link": true
    },
    "kernelspec": {
      "display_name": "Python 3",
      "name": "python3"
    },
    "language_info": {
      "name": "python"
    }
  },
  "nbformat": 4,
  "nbformat_minor": 0
}