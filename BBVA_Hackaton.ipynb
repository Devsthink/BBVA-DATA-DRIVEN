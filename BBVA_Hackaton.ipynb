{
  "nbformat": 4,
  "nbformat_minor": 0,
  "metadata": {
    "colab": {
      "provenance": [],
      "collapsed_sections": [
        "14VSLnSL4on-",
        "FrrLXNsf4zYX",
        "54VNzzNX_UBf",
        "g-b-T_LpAkYe",
        "Aire1PovmUXi"
      ],
      "toc_visible": true,
      "include_colab_link": true
    },
    "kernelspec": {
      "name": "python3",
      "display_name": "Python 3"
    },
    "language_info": {
      "name": "python"
    }
  },
  "cells": [
    {
      "cell_type": "markdown",
      "metadata": {
        "id": "view-in-github",
        "colab_type": "text"
      },
      "source": [
        "<a href=\"https://colab.research.google.com/github/Devsthink/BBVA-DATA-DRIVEN/blob/main/BBVA_Hackaton.ipynb\" target=\"_parent\"><img src=\"https://colab.research.google.com/assets/colab-badge.svg\" alt=\"Open In Colab\"/></a>"
      ]
    },
    {
      "cell_type": "markdown",
      "source": [
        "#Hackaton BBVA\n"
      ],
      "metadata": {
        "id": "EiEW5j9oVbql"
      }
    },
    {
      "cell_type": "markdown",
      "source": [
        "# Modelo de prediccion de valorizacion de inmuebles"
      ],
      "metadata": {
        "id": "Iifjn1z7ZoHg"
      }
    },
    {
      "cell_type": "markdown",
      "source": [
        "Librerias necesarias para creacion de modelo\n",
        "\n",
        "\n",
        "\n",
        "*   Manejo de arreglos en diferentes dimensiones\n",
        "*   Cargar y exportar datos\n",
        "*   Redes Neuronales\n",
        "*   Ubicaciones geograficas\n",
        "\n",
        "\n",
        "\n"
      ],
      "metadata": {
        "id": "0dONvh494CCI"
      }
    },
    {
      "cell_type": "markdown",
      "source": [
        "# Obtención de datos\n",
        "\n",
        "*   Carga de datos a variable local\n",
        "\n"
      ],
      "metadata": {
        "id": "14VSLnSL4on-"
      }
    },
    {
      "cell_type": "code",
      "execution_count": null,
      "metadata": {
        "id": "b1XzvHg4VWug"
      },
      "outputs": [],
      "source": [
        "import pandas as pd\n",
        "from geopy.geocoders import Nominatim\n",
        "import tensorflow as tf\n",
        "import numpy as np\n",
        "import csv"
      ]
    },
    {
      "cell_type": "code",
      "source": [
        "from google.colab import drive\n",
        "drive.mount('/content/drive') "
      ],
      "metadata": {
        "id": "IpN484kQWyxY",
        "colab": {
          "base_uri": "https://localhost:8080/"
        },
        "outputId": "f0ed3a4a-e83d-468e-c1a7-525139af2e4b"
      },
      "execution_count": null,
      "outputs": [
        {
          "output_type": "stream",
          "name": "stdout",
          "text": [
            "Drive already mounted at /content/drive; to attempt to forcibly remount, call drive.mount(\"/content/drive\", force_remount=True).\n"
          ]
        }
      ]
    },
    {
      "cell_type": "code",
      "source": [
        "path = '/content/drive/MyDrive/BBVA_Hackaton/a.csv'"
      ],
      "metadata": {
        "id": "_wwLIWIkW6XV"
      },
      "execution_count": null,
      "outputs": []
    },
    {
      "cell_type": "code",
      "source": [
        "df = pd.read_csv(path)\n",
        "df.head(20)"
      ],
      "metadata": {
        "id": "6VbtV0ekYpNO",
        "colab": {
          "base_uri": "https://localhost:8080/"
        },
        "outputId": "d16fe9d4-51e6-4fc0-a493-09b0f76f10c6"
      },
      "execution_count": null,
      "outputs": [
        {
          "output_type": "execute_result",
          "data": {
            "text/plain": [
              "   Fecha entrega del Informe  Tipo de via  Piso Departamento Provincia  \\\n",
              "0                 28/04/2022            2     1         Lima      Lima   \n",
              "1                 27/04/2022            6     4         Lima      Lima   \n",
              "2                 27/04/2022            2     5         Lima      Lima   \n",
              "3                 27/04/2022           10     2         Lima      Lima   \n",
              "4                 27/04/2022            1     3         Lima      Lima   \n",
              "5                 27/04/2022            2     2         Lima      Lima   \n",
              "6                 27/04/2022            3     2         Lima      Lima   \n",
              "7                 27/04/2022            1     2         Lima      Lima   \n",
              "8                 26/04/2022            3     1         Lima      Lima   \n",
              "9                 26/04/2022            1     4         Lima      Lima   \n",
              "10                26/04/2022            1     5         Lima      Lima   \n",
              "11                26/04/2022            2     1         Lima      Lima   \n",
              "12                26/04/2022            1     1         Lima      Lima   \n",
              "13                26/04/2022           10     2  La Libertad  Trujillo   \n",
              "14                26/04/2022            1     3         Lima      Lima   \n",
              "15                26/04/2022            1     4         Lima      Lima   \n",
              "16                26/04/2022            3     4         Lima      Lima   \n",
              "17                25/04/2022            1     3         Lima      Lima   \n",
              "18                25/04/2022           10     5        Piura     Piura   \n",
              "19                25/04/2022            1     2         Lima      Lima   \n",
              "\n",
              "                  Distrito  Numero de estacionamiento  Depositos    Latitud  \\\n",
              "0        Magdalena del Mar                          0          0 -12.120143   \n",
              "1   San Juan de Lurigancho                          1          0 -12.022509   \n",
              "2        Santiago de Surco                          1          0 -12.089686   \n",
              "3               Pachacamac                          0          1 -12.095758   \n",
              "4               San Isidro                          0          0 -12.015309   \n",
              "5              La Victoria                          0          0 -12.095764   \n",
              "6        Santiago de Surco                          1          0 -12.029741   \n",
              "7        Santiago de Surco                          1          0 -11.899533   \n",
              "8              La Victoria                          1          0 -12.076643   \n",
              "9                      Ate                          0          0  -5.185692   \n",
              "10                     Ate                          0          0 -12.119652   \n",
              "11                  Brenia                          0          0 -12.136353   \n",
              "12              San Isidro                          0          0 -12.052870   \n",
              "13               Huanchaco                          0          0  -8.111449   \n",
              "14              San Isidro                          1          0 -12.090449   \n",
              "15                     Ate                          0          0 -12.112711   \n",
              "16            Pueblo Libre                          0          0 -12.038434   \n",
              "17       Santiago de Surco                          0          0 -12.064683   \n",
              "18   Veintiseis de Octubre                          0          0 -12.062116   \n",
              "19       Santiago de Surco                          0          0 -12.121306   \n",
              "\n",
              "     Longitud  ...  Posicion Numero de frentes  Edad  Elevador  \\\n",
              "0  -77.023960  ...  Exterior               2.0   3.0         1   \n",
              "1  -76.833715  ...  Exterior               1.0  42.0         2   \n",
              "2  -77.068454  ...  Exterior               1.0  16.0         2   \n",
              "3  -76.981323  ...  Exterior               NaN   NaN         2   \n",
              "4  -76.874213  ...  Exterior               0.0   1.0         1   \n",
              "5  -77.023360  ...  Exterior               NaN  27.0         2   \n",
              "6  -76.945582  ...  Exterior               NaN   3.0         2   \n",
              "7  -77.057616  ...  Interior               1.0   1.0         1   \n",
              "8  -77.050648  ...  Exterior               1.0   2.0         2   \n",
              "9  -80.654541  ...  Exterior               1.0   0.0         1   \n",
              "10 -77.005706  ...  Exterior               1.0   0.0         2   \n",
              "11 -77.002325  ...  Exterior               NaN   0.0         1   \n",
              "12 -77.006517  ...  Interior               3.0   1.0         1   \n",
              "13 -79.026046  ...  Exterior               1.0   NaN         2   \n",
              "14 -77.018342  ...  Exterior               2.0   1.0         2   \n",
              "15 -76.964334  ...  Exterior               1.0  47.0         2   \n",
              "16 -76.957028  ...  Exterior               1.0  12.0         1   \n",
              "17 -77.013660  ...  Exterior               2.0   1.0         2   \n",
              "18 -76.949711  ...  Exterior               1.0  56.0         0   \n",
              "19 -76.999737  ...  Interior               1.0  48.0         2   \n",
              "\n",
              "    Estado de conservacion               Metodo Representado  \\\n",
              "0                    Bueno  Comparacion de mercado (directo)   \n",
              "1                  Regular     Costos o reposicion (directo)   \n",
              "2                    Bueno  Comparacion de mercado (directo)   \n",
              "3                    Bueno     Costos o reposicion (directo)   \n",
              "4                Muy bueno  Comparacion de mercado (directo)   \n",
              "5                    Bueno  Comparacion de mercado (directo)   \n",
              "6                    Bueno  Comparacion de mercado (directo)   \n",
              "7                Muy bueno  Comparacion de mercado (directo)   \n",
              "8                     Malo  Comparacion de mercado (directo)   \n",
              "9                    Bueno  Comparacion de mercado (directo)   \n",
              "10                   Bueno  Comparacion de mercado (directo)   \n",
              "11               Muy bueno  Comparacion de mercado (directo)   \n",
              "12               Muy bueno  Comparacion de mercado (directo)   \n",
              "13                   Bueno     Costos o reposicion (directo)   \n",
              "14               Muy bueno  Comparacion de mercado (directo)   \n",
              "15                   Bueno  Comparacion de mercado (directo)   \n",
              "16                   Bueno  Comparacion de mercado (directo)   \n",
              "17               Muy bueno  Comparacion de mercado (directo)   \n",
              "18                   Bueno     Costos o reposicion (directo)   \n",
              "19                   Bueno     Costos o reposicion (directo)   \n",
              "\n",
              "   Moneda principal para calculos Area Terreno  Area Construccion  \\\n",
              "0                             USD          0.0              81.56   \n",
              "1                             USD        410.0               0.00   \n",
              "2                             USD          0.0              90.13   \n",
              "3                             USD        120.0               0.00   \n",
              "4                             PEN          0.0              45.00   \n",
              "5                             USD          0.0              26.72   \n",
              "6                             PEN          0.0             155.03   \n",
              "7                             USD          0.0             177.87   \n",
              "8                             USD          0.0              88.12   \n",
              "9                             USD          0.0              69.09   \n",
              "10                            USD          0.0              71.96   \n",
              "11                            USD          0.0              91.00   \n",
              "12                            USD          0.0              45.05   \n",
              "13                            USD        140.0             140.00   \n",
              "14                            USD          0.0             167.77   \n",
              "15                            USD          0.0             123.35   \n",
              "16                            USD          0.0              75.80   \n",
              "17                            USD          0.0             149.58   \n",
              "18                            USD        200.0             333.58   \n",
              "19                            PEN        165.3             135.00   \n",
              "\n",
              "    Valor comercial  \n",
              "0        120,708.80  \n",
              "1        192,225.00  \n",
              "2        137,886.28  \n",
              "3         44,400.00  \n",
              "4        111,600.00  \n",
              "5        604,139.20  \n",
              "6        262,095.12  \n",
              "7        298,389.00  \n",
              "8        144,249.80  \n",
              "9        102,267.12  \n",
              "10       104,563.20  \n",
              "11       137,410.00  \n",
              "12       117,580.50  \n",
              "13        52,000.00  \n",
              "14       336,684.19  \n",
              "15       134,848.86  \n",
              "16       106,120.00  \n",
              "17       253,035.51  \n",
              "18       170,336.25  \n",
              "19       295,212.15  \n",
              "\n",
              "[20 rows x 21 columns]"
            ],
            "text/html": [
              "\n",
              "  <div id=\"df-f26683f0-ae6f-400d-8c86-3f668109f1c2\">\n",
              "    <div class=\"colab-df-container\">\n",
              "      <div>\n",
              "<style scoped>\n",
              "    .dataframe tbody tr th:only-of-type {\n",
              "        vertical-align: middle;\n",
              "    }\n",
              "\n",
              "    .dataframe tbody tr th {\n",
              "        vertical-align: top;\n",
              "    }\n",
              "\n",
              "    .dataframe thead th {\n",
              "        text-align: right;\n",
              "    }\n",
              "</style>\n",
              "<table border=\"1\" class=\"dataframe\">\n",
              "  <thead>\n",
              "    <tr style=\"text-align: right;\">\n",
              "      <th></th>\n",
              "      <th>Fecha entrega del Informe</th>\n",
              "      <th>Tipo de via</th>\n",
              "      <th>Piso</th>\n",
              "      <th>Departamento</th>\n",
              "      <th>Provincia</th>\n",
              "      <th>Distrito</th>\n",
              "      <th>Numero de estacionamiento</th>\n",
              "      <th>Depositos</th>\n",
              "      <th>Latitud</th>\n",
              "      <th>Longitud</th>\n",
              "      <th>...</th>\n",
              "      <th>Posicion</th>\n",
              "      <th>Numero de frentes</th>\n",
              "      <th>Edad</th>\n",
              "      <th>Elevador</th>\n",
              "      <th>Estado de conservacion</th>\n",
              "      <th>Metodo Representado</th>\n",
              "      <th>Moneda principal para calculos</th>\n",
              "      <th>Area Terreno</th>\n",
              "      <th>Area Construccion</th>\n",
              "      <th>Valor comercial</th>\n",
              "    </tr>\n",
              "  </thead>\n",
              "  <tbody>\n",
              "    <tr>\n",
              "      <th>0</th>\n",
              "      <td>28/04/2022</td>\n",
              "      <td>2</td>\n",
              "      <td>1</td>\n",
              "      <td>Lima</td>\n",
              "      <td>Lima</td>\n",
              "      <td>Magdalena del Mar</td>\n",
              "      <td>0</td>\n",
              "      <td>0</td>\n",
              "      <td>-12.120143</td>\n",
              "      <td>-77.023960</td>\n",
              "      <td>...</td>\n",
              "      <td>Exterior</td>\n",
              "      <td>2.0</td>\n",
              "      <td>3.0</td>\n",
              "      <td>1</td>\n",
              "      <td>Bueno</td>\n",
              "      <td>Comparacion de mercado (directo)</td>\n",
              "      <td>USD</td>\n",
              "      <td>0.0</td>\n",
              "      <td>81.56</td>\n",
              "      <td>120,708.80</td>\n",
              "    </tr>\n",
              "    <tr>\n",
              "      <th>1</th>\n",
              "      <td>27/04/2022</td>\n",
              "      <td>6</td>\n",
              "      <td>4</td>\n",
              "      <td>Lima</td>\n",
              "      <td>Lima</td>\n",
              "      <td>San Juan de Lurigancho</td>\n",
              "      <td>1</td>\n",
              "      <td>0</td>\n",
              "      <td>-12.022509</td>\n",
              "      <td>-76.833715</td>\n",
              "      <td>...</td>\n",
              "      <td>Exterior</td>\n",
              "      <td>1.0</td>\n",
              "      <td>42.0</td>\n",
              "      <td>2</td>\n",
              "      <td>Regular</td>\n",
              "      <td>Costos o reposicion (directo)</td>\n",
              "      <td>USD</td>\n",
              "      <td>410.0</td>\n",
              "      <td>0.00</td>\n",
              "      <td>192,225.00</td>\n",
              "    </tr>\n",
              "    <tr>\n",
              "      <th>2</th>\n",
              "      <td>27/04/2022</td>\n",
              "      <td>2</td>\n",
              "      <td>5</td>\n",
              "      <td>Lima</td>\n",
              "      <td>Lima</td>\n",
              "      <td>Santiago de Surco</td>\n",
              "      <td>1</td>\n",
              "      <td>0</td>\n",
              "      <td>-12.089686</td>\n",
              "      <td>-77.068454</td>\n",
              "      <td>...</td>\n",
              "      <td>Exterior</td>\n",
              "      <td>1.0</td>\n",
              "      <td>16.0</td>\n",
              "      <td>2</td>\n",
              "      <td>Bueno</td>\n",
              "      <td>Comparacion de mercado (directo)</td>\n",
              "      <td>USD</td>\n",
              "      <td>0.0</td>\n",
              "      <td>90.13</td>\n",
              "      <td>137,886.28</td>\n",
              "    </tr>\n",
              "    <tr>\n",
              "      <th>3</th>\n",
              "      <td>27/04/2022</td>\n",
              "      <td>10</td>\n",
              "      <td>2</td>\n",
              "      <td>Lima</td>\n",
              "      <td>Lima</td>\n",
              "      <td>Pachacamac</td>\n",
              "      <td>0</td>\n",
              "      <td>1</td>\n",
              "      <td>-12.095758</td>\n",
              "      <td>-76.981323</td>\n",
              "      <td>...</td>\n",
              "      <td>Exterior</td>\n",
              "      <td>NaN</td>\n",
              "      <td>NaN</td>\n",
              "      <td>2</td>\n",
              "      <td>Bueno</td>\n",
              "      <td>Costos o reposicion (directo)</td>\n",
              "      <td>USD</td>\n",
              "      <td>120.0</td>\n",
              "      <td>0.00</td>\n",
              "      <td>44,400.00</td>\n",
              "    </tr>\n",
              "    <tr>\n",
              "      <th>4</th>\n",
              "      <td>27/04/2022</td>\n",
              "      <td>1</td>\n",
              "      <td>3</td>\n",
              "      <td>Lima</td>\n",
              "      <td>Lima</td>\n",
              "      <td>San Isidro</td>\n",
              "      <td>0</td>\n",
              "      <td>0</td>\n",
              "      <td>-12.015309</td>\n",
              "      <td>-76.874213</td>\n",
              "      <td>...</td>\n",
              "      <td>Exterior</td>\n",
              "      <td>0.0</td>\n",
              "      <td>1.0</td>\n",
              "      <td>1</td>\n",
              "      <td>Muy bueno</td>\n",
              "      <td>Comparacion de mercado (directo)</td>\n",
              "      <td>PEN</td>\n",
              "      <td>0.0</td>\n",
              "      <td>45.00</td>\n",
              "      <td>111,600.00</td>\n",
              "    </tr>\n",
              "    <tr>\n",
              "      <th>5</th>\n",
              "      <td>27/04/2022</td>\n",
              "      <td>2</td>\n",
              "      <td>2</td>\n",
              "      <td>Lima</td>\n",
              "      <td>Lima</td>\n",
              "      <td>La Victoria</td>\n",
              "      <td>0</td>\n",
              "      <td>0</td>\n",
              "      <td>-12.095764</td>\n",
              "      <td>-77.023360</td>\n",
              "      <td>...</td>\n",
              "      <td>Exterior</td>\n",
              "      <td>NaN</td>\n",
              "      <td>27.0</td>\n",
              "      <td>2</td>\n",
              "      <td>Bueno</td>\n",
              "      <td>Comparacion de mercado (directo)</td>\n",
              "      <td>USD</td>\n",
              "      <td>0.0</td>\n",
              "      <td>26.72</td>\n",
              "      <td>604,139.20</td>\n",
              "    </tr>\n",
              "    <tr>\n",
              "      <th>6</th>\n",
              "      <td>27/04/2022</td>\n",
              "      <td>3</td>\n",
              "      <td>2</td>\n",
              "      <td>Lima</td>\n",
              "      <td>Lima</td>\n",
              "      <td>Santiago de Surco</td>\n",
              "      <td>1</td>\n",
              "      <td>0</td>\n",
              "      <td>-12.029741</td>\n",
              "      <td>-76.945582</td>\n",
              "      <td>...</td>\n",
              "      <td>Exterior</td>\n",
              "      <td>NaN</td>\n",
              "      <td>3.0</td>\n",
              "      <td>2</td>\n",
              "      <td>Bueno</td>\n",
              "      <td>Comparacion de mercado (directo)</td>\n",
              "      <td>PEN</td>\n",
              "      <td>0.0</td>\n",
              "      <td>155.03</td>\n",
              "      <td>262,095.12</td>\n",
              "    </tr>\n",
              "    <tr>\n",
              "      <th>7</th>\n",
              "      <td>27/04/2022</td>\n",
              "      <td>1</td>\n",
              "      <td>2</td>\n",
              "      <td>Lima</td>\n",
              "      <td>Lima</td>\n",
              "      <td>Santiago de Surco</td>\n",
              "      <td>1</td>\n",
              "      <td>0</td>\n",
              "      <td>-11.899533</td>\n",
              "      <td>-77.057616</td>\n",
              "      <td>...</td>\n",
              "      <td>Interior</td>\n",
              "      <td>1.0</td>\n",
              "      <td>1.0</td>\n",
              "      <td>1</td>\n",
              "      <td>Muy bueno</td>\n",
              "      <td>Comparacion de mercado (directo)</td>\n",
              "      <td>USD</td>\n",
              "      <td>0.0</td>\n",
              "      <td>177.87</td>\n",
              "      <td>298,389.00</td>\n",
              "    </tr>\n",
              "    <tr>\n",
              "      <th>8</th>\n",
              "      <td>26/04/2022</td>\n",
              "      <td>3</td>\n",
              "      <td>1</td>\n",
              "      <td>Lima</td>\n",
              "      <td>Lima</td>\n",
              "      <td>La Victoria</td>\n",
              "      <td>1</td>\n",
              "      <td>0</td>\n",
              "      <td>-12.076643</td>\n",
              "      <td>-77.050648</td>\n",
              "      <td>...</td>\n",
              "      <td>Exterior</td>\n",
              "      <td>1.0</td>\n",
              "      <td>2.0</td>\n",
              "      <td>2</td>\n",
              "      <td>Malo</td>\n",
              "      <td>Comparacion de mercado (directo)</td>\n",
              "      <td>USD</td>\n",
              "      <td>0.0</td>\n",
              "      <td>88.12</td>\n",
              "      <td>144,249.80</td>\n",
              "    </tr>\n",
              "    <tr>\n",
              "      <th>9</th>\n",
              "      <td>26/04/2022</td>\n",
              "      <td>1</td>\n",
              "      <td>4</td>\n",
              "      <td>Lima</td>\n",
              "      <td>Lima</td>\n",
              "      <td>Ate</td>\n",
              "      <td>0</td>\n",
              "      <td>0</td>\n",
              "      <td>-5.185692</td>\n",
              "      <td>-80.654541</td>\n",
              "      <td>...</td>\n",
              "      <td>Exterior</td>\n",
              "      <td>1.0</td>\n",
              "      <td>0.0</td>\n",
              "      <td>1</td>\n",
              "      <td>Bueno</td>\n",
              "      <td>Comparacion de mercado (directo)</td>\n",
              "      <td>USD</td>\n",
              "      <td>0.0</td>\n",
              "      <td>69.09</td>\n",
              "      <td>102,267.12</td>\n",
              "    </tr>\n",
              "    <tr>\n",
              "      <th>10</th>\n",
              "      <td>26/04/2022</td>\n",
              "      <td>1</td>\n",
              "      <td>5</td>\n",
              "      <td>Lima</td>\n",
              "      <td>Lima</td>\n",
              "      <td>Ate</td>\n",
              "      <td>0</td>\n",
              "      <td>0</td>\n",
              "      <td>-12.119652</td>\n",
              "      <td>-77.005706</td>\n",
              "      <td>...</td>\n",
              "      <td>Exterior</td>\n",
              "      <td>1.0</td>\n",
              "      <td>0.0</td>\n",
              "      <td>2</td>\n",
              "      <td>Bueno</td>\n",
              "      <td>Comparacion de mercado (directo)</td>\n",
              "      <td>USD</td>\n",
              "      <td>0.0</td>\n",
              "      <td>71.96</td>\n",
              "      <td>104,563.20</td>\n",
              "    </tr>\n",
              "    <tr>\n",
              "      <th>11</th>\n",
              "      <td>26/04/2022</td>\n",
              "      <td>2</td>\n",
              "      <td>1</td>\n",
              "      <td>Lima</td>\n",
              "      <td>Lima</td>\n",
              "      <td>Brenia</td>\n",
              "      <td>0</td>\n",
              "      <td>0</td>\n",
              "      <td>-12.136353</td>\n",
              "      <td>-77.002325</td>\n",
              "      <td>...</td>\n",
              "      <td>Exterior</td>\n",
              "      <td>NaN</td>\n",
              "      <td>0.0</td>\n",
              "      <td>1</td>\n",
              "      <td>Muy bueno</td>\n",
              "      <td>Comparacion de mercado (directo)</td>\n",
              "      <td>USD</td>\n",
              "      <td>0.0</td>\n",
              "      <td>91.00</td>\n",
              "      <td>137,410.00</td>\n",
              "    </tr>\n",
              "    <tr>\n",
              "      <th>12</th>\n",
              "      <td>26/04/2022</td>\n",
              "      <td>1</td>\n",
              "      <td>1</td>\n",
              "      <td>Lima</td>\n",
              "      <td>Lima</td>\n",
              "      <td>San Isidro</td>\n",
              "      <td>0</td>\n",
              "      <td>0</td>\n",
              "      <td>-12.052870</td>\n",
              "      <td>-77.006517</td>\n",
              "      <td>...</td>\n",
              "      <td>Interior</td>\n",
              "      <td>3.0</td>\n",
              "      <td>1.0</td>\n",
              "      <td>1</td>\n",
              "      <td>Muy bueno</td>\n",
              "      <td>Comparacion de mercado (directo)</td>\n",
              "      <td>USD</td>\n",
              "      <td>0.0</td>\n",
              "      <td>45.05</td>\n",
              "      <td>117,580.50</td>\n",
              "    </tr>\n",
              "    <tr>\n",
              "      <th>13</th>\n",
              "      <td>26/04/2022</td>\n",
              "      <td>10</td>\n",
              "      <td>2</td>\n",
              "      <td>La Libertad</td>\n",
              "      <td>Trujillo</td>\n",
              "      <td>Huanchaco</td>\n",
              "      <td>0</td>\n",
              "      <td>0</td>\n",
              "      <td>-8.111449</td>\n",
              "      <td>-79.026046</td>\n",
              "      <td>...</td>\n",
              "      <td>Exterior</td>\n",
              "      <td>1.0</td>\n",
              "      <td>NaN</td>\n",
              "      <td>2</td>\n",
              "      <td>Bueno</td>\n",
              "      <td>Costos o reposicion (directo)</td>\n",
              "      <td>USD</td>\n",
              "      <td>140.0</td>\n",
              "      <td>140.00</td>\n",
              "      <td>52,000.00</td>\n",
              "    </tr>\n",
              "    <tr>\n",
              "      <th>14</th>\n",
              "      <td>26/04/2022</td>\n",
              "      <td>1</td>\n",
              "      <td>3</td>\n",
              "      <td>Lima</td>\n",
              "      <td>Lima</td>\n",
              "      <td>San Isidro</td>\n",
              "      <td>1</td>\n",
              "      <td>0</td>\n",
              "      <td>-12.090449</td>\n",
              "      <td>-77.018342</td>\n",
              "      <td>...</td>\n",
              "      <td>Exterior</td>\n",
              "      <td>2.0</td>\n",
              "      <td>1.0</td>\n",
              "      <td>2</td>\n",
              "      <td>Muy bueno</td>\n",
              "      <td>Comparacion de mercado (directo)</td>\n",
              "      <td>USD</td>\n",
              "      <td>0.0</td>\n",
              "      <td>167.77</td>\n",
              "      <td>336,684.19</td>\n",
              "    </tr>\n",
              "    <tr>\n",
              "      <th>15</th>\n",
              "      <td>26/04/2022</td>\n",
              "      <td>1</td>\n",
              "      <td>4</td>\n",
              "      <td>Lima</td>\n",
              "      <td>Lima</td>\n",
              "      <td>Ate</td>\n",
              "      <td>0</td>\n",
              "      <td>0</td>\n",
              "      <td>-12.112711</td>\n",
              "      <td>-76.964334</td>\n",
              "      <td>...</td>\n",
              "      <td>Exterior</td>\n",
              "      <td>1.0</td>\n",
              "      <td>47.0</td>\n",
              "      <td>2</td>\n",
              "      <td>Bueno</td>\n",
              "      <td>Comparacion de mercado (directo)</td>\n",
              "      <td>USD</td>\n",
              "      <td>0.0</td>\n",
              "      <td>123.35</td>\n",
              "      <td>134,848.86</td>\n",
              "    </tr>\n",
              "    <tr>\n",
              "      <th>16</th>\n",
              "      <td>26/04/2022</td>\n",
              "      <td>3</td>\n",
              "      <td>4</td>\n",
              "      <td>Lima</td>\n",
              "      <td>Lima</td>\n",
              "      <td>Pueblo Libre</td>\n",
              "      <td>0</td>\n",
              "      <td>0</td>\n",
              "      <td>-12.038434</td>\n",
              "      <td>-76.957028</td>\n",
              "      <td>...</td>\n",
              "      <td>Exterior</td>\n",
              "      <td>1.0</td>\n",
              "      <td>12.0</td>\n",
              "      <td>1</td>\n",
              "      <td>Bueno</td>\n",
              "      <td>Comparacion de mercado (directo)</td>\n",
              "      <td>USD</td>\n",
              "      <td>0.0</td>\n",
              "      <td>75.80</td>\n",
              "      <td>106,120.00</td>\n",
              "    </tr>\n",
              "    <tr>\n",
              "      <th>17</th>\n",
              "      <td>25/04/2022</td>\n",
              "      <td>1</td>\n",
              "      <td>3</td>\n",
              "      <td>Lima</td>\n",
              "      <td>Lima</td>\n",
              "      <td>Santiago de Surco</td>\n",
              "      <td>0</td>\n",
              "      <td>0</td>\n",
              "      <td>-12.064683</td>\n",
              "      <td>-77.013660</td>\n",
              "      <td>...</td>\n",
              "      <td>Exterior</td>\n",
              "      <td>2.0</td>\n",
              "      <td>1.0</td>\n",
              "      <td>2</td>\n",
              "      <td>Muy bueno</td>\n",
              "      <td>Comparacion de mercado (directo)</td>\n",
              "      <td>USD</td>\n",
              "      <td>0.0</td>\n",
              "      <td>149.58</td>\n",
              "      <td>253,035.51</td>\n",
              "    </tr>\n",
              "    <tr>\n",
              "      <th>18</th>\n",
              "      <td>25/04/2022</td>\n",
              "      <td>10</td>\n",
              "      <td>5</td>\n",
              "      <td>Piura</td>\n",
              "      <td>Piura</td>\n",
              "      <td>Veintiseis de Octubre</td>\n",
              "      <td>0</td>\n",
              "      <td>0</td>\n",
              "      <td>-12.062116</td>\n",
              "      <td>-76.949711</td>\n",
              "      <td>...</td>\n",
              "      <td>Exterior</td>\n",
              "      <td>1.0</td>\n",
              "      <td>56.0</td>\n",
              "      <td>0</td>\n",
              "      <td>Bueno</td>\n",
              "      <td>Costos o reposicion (directo)</td>\n",
              "      <td>USD</td>\n",
              "      <td>200.0</td>\n",
              "      <td>333.58</td>\n",
              "      <td>170,336.25</td>\n",
              "    </tr>\n",
              "    <tr>\n",
              "      <th>19</th>\n",
              "      <td>25/04/2022</td>\n",
              "      <td>1</td>\n",
              "      <td>2</td>\n",
              "      <td>Lima</td>\n",
              "      <td>Lima</td>\n",
              "      <td>Santiago de Surco</td>\n",
              "      <td>0</td>\n",
              "      <td>0</td>\n",
              "      <td>-12.121306</td>\n",
              "      <td>-76.999737</td>\n",
              "      <td>...</td>\n",
              "      <td>Interior</td>\n",
              "      <td>1.0</td>\n",
              "      <td>48.0</td>\n",
              "      <td>2</td>\n",
              "      <td>Bueno</td>\n",
              "      <td>Costos o reposicion (directo)</td>\n",
              "      <td>PEN</td>\n",
              "      <td>165.3</td>\n",
              "      <td>135.00</td>\n",
              "      <td>295,212.15</td>\n",
              "    </tr>\n",
              "  </tbody>\n",
              "</table>\n",
              "<p>20 rows × 21 columns</p>\n",
              "</div>\n",
              "      <button class=\"colab-df-convert\" onclick=\"convertToInteractive('df-f26683f0-ae6f-400d-8c86-3f668109f1c2')\"\n",
              "              title=\"Convert this dataframe to an interactive table.\"\n",
              "              style=\"display:none;\">\n",
              "        \n",
              "  <svg xmlns=\"http://www.w3.org/2000/svg\" height=\"24px\"viewBox=\"0 0 24 24\"\n",
              "       width=\"24px\">\n",
              "    <path d=\"M0 0h24v24H0V0z\" fill=\"none\"/>\n",
              "    <path d=\"M18.56 5.44l.94 2.06.94-2.06 2.06-.94-2.06-.94-.94-2.06-.94 2.06-2.06.94zm-11 1L8.5 8.5l.94-2.06 2.06-.94-2.06-.94L8.5 2.5l-.94 2.06-2.06.94zm10 10l.94 2.06.94-2.06 2.06-.94-2.06-.94-.94-2.06-.94 2.06-2.06.94z\"/><path d=\"M17.41 7.96l-1.37-1.37c-.4-.4-.92-.59-1.43-.59-.52 0-1.04.2-1.43.59L10.3 9.45l-7.72 7.72c-.78.78-.78 2.05 0 2.83L4 21.41c.39.39.9.59 1.41.59.51 0 1.02-.2 1.41-.59l7.78-7.78 2.81-2.81c.8-.78.8-2.07 0-2.86zM5.41 20L4 18.59l7.72-7.72 1.47 1.35L5.41 20z\"/>\n",
              "  </svg>\n",
              "      </button>\n",
              "      \n",
              "  <style>\n",
              "    .colab-df-container {\n",
              "      display:flex;\n",
              "      flex-wrap:wrap;\n",
              "      gap: 12px;\n",
              "    }\n",
              "\n",
              "    .colab-df-convert {\n",
              "      background-color: #E8F0FE;\n",
              "      border: none;\n",
              "      border-radius: 50%;\n",
              "      cursor: pointer;\n",
              "      display: none;\n",
              "      fill: #1967D2;\n",
              "      height: 32px;\n",
              "      padding: 0 0 0 0;\n",
              "      width: 32px;\n",
              "    }\n",
              "\n",
              "    .colab-df-convert:hover {\n",
              "      background-color: #E2EBFA;\n",
              "      box-shadow: 0px 1px 2px rgba(60, 64, 67, 0.3), 0px 1px 3px 1px rgba(60, 64, 67, 0.15);\n",
              "      fill: #174EA6;\n",
              "    }\n",
              "\n",
              "    [theme=dark] .colab-df-convert {\n",
              "      background-color: #3B4455;\n",
              "      fill: #D2E3FC;\n",
              "    }\n",
              "\n",
              "    [theme=dark] .colab-df-convert:hover {\n",
              "      background-color: #434B5C;\n",
              "      box-shadow: 0px 1px 3px 1px rgba(0, 0, 0, 0.15);\n",
              "      filter: drop-shadow(0px 1px 2px rgba(0, 0, 0, 0.3));\n",
              "      fill: #FFFFFF;\n",
              "    }\n",
              "  </style>\n",
              "\n",
              "      <script>\n",
              "        const buttonEl =\n",
              "          document.querySelector('#df-f26683f0-ae6f-400d-8c86-3f668109f1c2 button.colab-df-convert');\n",
              "        buttonEl.style.display =\n",
              "          google.colab.kernel.accessAllowed ? 'block' : 'none';\n",
              "\n",
              "        async function convertToInteractive(key) {\n",
              "          const element = document.querySelector('#df-f26683f0-ae6f-400d-8c86-3f668109f1c2');\n",
              "          const dataTable =\n",
              "            await google.colab.kernel.invokeFunction('convertToInteractive',\n",
              "                                                     [key], {});\n",
              "          if (!dataTable) return;\n",
              "\n",
              "          const docLinkHtml = 'Like what you see? Visit the ' +\n",
              "            '<a target=\"_blank\" href=https://colab.research.google.com/notebooks/data_table.ipynb>data table notebook</a>'\n",
              "            + ' to learn more about interactive tables.';\n",
              "          element.innerHTML = '';\n",
              "          dataTable['output_type'] = 'display_data';\n",
              "          await google.colab.output.renderOutput(dataTable, element);\n",
              "          const docLink = document.createElement('div');\n",
              "          docLink.innerHTML = docLinkHtml;\n",
              "          element.appendChild(docLink);\n",
              "        }\n",
              "      </script>\n",
              "    </div>\n",
              "  </div>\n",
              "  "
            ]
          },
          "metadata": {},
          "execution_count": 26
        }
      ]
    },
    {
      "cell_type": "markdown",
      "source": [
        "# *Descripción de datos*\n",
        "\n",
        "*   Distinción de valores numericos y no numericos\n",
        "*   Rangos entre cada variable\n",
        "\n",
        "\n"
      ],
      "metadata": {
        "id": "FrrLXNsf4zYX"
      }
    },
    {
      "cell_type": "code",
      "source": [
        "#Valores descriptivos de dataset\n",
        "df.describe()"
      ],
      "metadata": {
        "colab": {
          "base_uri": "https://localhost:8080/"
        },
        "id": "V6fWYUE9452-",
        "outputId": "7ef821db-2289-4b50-a888-4c087b74003f"
      },
      "execution_count": null,
      "outputs": [
        {
          "output_type": "execute_result",
          "data": {
            "text/plain": [
              "       Tipo de via       Piso  Numero de estacionamiento  Depositos  \\\n",
              "count    20.000000  20.000000                  20.000000  20.000000   \n",
              "mean      3.100000   2.800000                   0.300000   0.050000   \n",
              "std       3.210181   1.399248                   0.470162   0.223607   \n",
              "min       1.000000   1.000000                   0.000000   0.000000   \n",
              "25%       1.000000   2.000000                   0.000000   0.000000   \n",
              "50%       2.000000   2.500000                   0.000000   0.000000   \n",
              "75%       3.000000   4.000000                   1.000000   0.000000   \n",
              "max      10.000000   5.000000                   1.000000   1.000000   \n",
              "\n",
              "         Latitud   Longitud  Numero de frentes       Edad   Elevador  \\\n",
              "count  20.000000  20.000000           16.00000  18.000000  20.000000   \n",
              "mean  -11.527040 -77.272841            1.25000  14.500000   1.550000   \n",
              "std     1.735406   0.918707            0.68313  19.977193   0.604805   \n",
              "min   -12.136353 -80.654541            0.00000   0.000000   0.000000   \n",
              "25%   -12.100001 -77.030632            1.00000   1.000000   1.000000   \n",
              "50%   -12.070663 -77.006111            1.00000   2.500000   2.000000   \n",
              "75%   -12.027933 -76.962508            1.25000  24.250000   2.000000   \n",
              "max    -5.185692 -76.833715            3.00000  56.000000   2.000000   \n",
              "\n",
              "       Area Terreno  Area Construccion  \n",
              "count     20.000000          20.000000  \n",
              "mean      51.765000         103.330500  \n",
              "std      106.581273          75.481729  \n",
              "min        0.000000           0.000000  \n",
              "25%        0.000000          63.080000  \n",
              "50%        0.000000          89.125000  \n",
              "75%       30.000000         142.395000  \n",
              "max      410.000000         333.580000  "
            ],
            "text/html": [
              "\n",
              "  <div id=\"df-0ba3b5a9-0b0c-43ff-bd1a-69fc3e4bd8f9\">\n",
              "    <div class=\"colab-df-container\">\n",
              "      <div>\n",
              "<style scoped>\n",
              "    .dataframe tbody tr th:only-of-type {\n",
              "        vertical-align: middle;\n",
              "    }\n",
              "\n",
              "    .dataframe tbody tr th {\n",
              "        vertical-align: top;\n",
              "    }\n",
              "\n",
              "    .dataframe thead th {\n",
              "        text-align: right;\n",
              "    }\n",
              "</style>\n",
              "<table border=\"1\" class=\"dataframe\">\n",
              "  <thead>\n",
              "    <tr style=\"text-align: right;\">\n",
              "      <th></th>\n",
              "      <th>Tipo de via</th>\n",
              "      <th>Piso</th>\n",
              "      <th>Numero de estacionamiento</th>\n",
              "      <th>Depositos</th>\n",
              "      <th>Latitud</th>\n",
              "      <th>Longitud</th>\n",
              "      <th>Numero de frentes</th>\n",
              "      <th>Edad</th>\n",
              "      <th>Elevador</th>\n",
              "      <th>Area Terreno</th>\n",
              "      <th>Area Construccion</th>\n",
              "    </tr>\n",
              "  </thead>\n",
              "  <tbody>\n",
              "    <tr>\n",
              "      <th>count</th>\n",
              "      <td>20.000000</td>\n",
              "      <td>20.000000</td>\n",
              "      <td>20.000000</td>\n",
              "      <td>20.000000</td>\n",
              "      <td>20.000000</td>\n",
              "      <td>20.000000</td>\n",
              "      <td>16.00000</td>\n",
              "      <td>18.000000</td>\n",
              "      <td>20.000000</td>\n",
              "      <td>20.000000</td>\n",
              "      <td>20.000000</td>\n",
              "    </tr>\n",
              "    <tr>\n",
              "      <th>mean</th>\n",
              "      <td>3.100000</td>\n",
              "      <td>2.800000</td>\n",
              "      <td>0.300000</td>\n",
              "      <td>0.050000</td>\n",
              "      <td>-11.527040</td>\n",
              "      <td>-77.272841</td>\n",
              "      <td>1.25000</td>\n",
              "      <td>14.500000</td>\n",
              "      <td>1.550000</td>\n",
              "      <td>51.765000</td>\n",
              "      <td>103.330500</td>\n",
              "    </tr>\n",
              "    <tr>\n",
              "      <th>std</th>\n",
              "      <td>3.210181</td>\n",
              "      <td>1.399248</td>\n",
              "      <td>0.470162</td>\n",
              "      <td>0.223607</td>\n",
              "      <td>1.735406</td>\n",
              "      <td>0.918707</td>\n",
              "      <td>0.68313</td>\n",
              "      <td>19.977193</td>\n",
              "      <td>0.604805</td>\n",
              "      <td>106.581273</td>\n",
              "      <td>75.481729</td>\n",
              "    </tr>\n",
              "    <tr>\n",
              "      <th>min</th>\n",
              "      <td>1.000000</td>\n",
              "      <td>1.000000</td>\n",
              "      <td>0.000000</td>\n",
              "      <td>0.000000</td>\n",
              "      <td>-12.136353</td>\n",
              "      <td>-80.654541</td>\n",
              "      <td>0.00000</td>\n",
              "      <td>0.000000</td>\n",
              "      <td>0.000000</td>\n",
              "      <td>0.000000</td>\n",
              "      <td>0.000000</td>\n",
              "    </tr>\n",
              "    <tr>\n",
              "      <th>25%</th>\n",
              "      <td>1.000000</td>\n",
              "      <td>2.000000</td>\n",
              "      <td>0.000000</td>\n",
              "      <td>0.000000</td>\n",
              "      <td>-12.100001</td>\n",
              "      <td>-77.030632</td>\n",
              "      <td>1.00000</td>\n",
              "      <td>1.000000</td>\n",
              "      <td>1.000000</td>\n",
              "      <td>0.000000</td>\n",
              "      <td>63.080000</td>\n",
              "    </tr>\n",
              "    <tr>\n",
              "      <th>50%</th>\n",
              "      <td>2.000000</td>\n",
              "      <td>2.500000</td>\n",
              "      <td>0.000000</td>\n",
              "      <td>0.000000</td>\n",
              "      <td>-12.070663</td>\n",
              "      <td>-77.006111</td>\n",
              "      <td>1.00000</td>\n",
              "      <td>2.500000</td>\n",
              "      <td>2.000000</td>\n",
              "      <td>0.000000</td>\n",
              "      <td>89.125000</td>\n",
              "    </tr>\n",
              "    <tr>\n",
              "      <th>75%</th>\n",
              "      <td>3.000000</td>\n",
              "      <td>4.000000</td>\n",
              "      <td>1.000000</td>\n",
              "      <td>0.000000</td>\n",
              "      <td>-12.027933</td>\n",
              "      <td>-76.962508</td>\n",
              "      <td>1.25000</td>\n",
              "      <td>24.250000</td>\n",
              "      <td>2.000000</td>\n",
              "      <td>30.000000</td>\n",
              "      <td>142.395000</td>\n",
              "    </tr>\n",
              "    <tr>\n",
              "      <th>max</th>\n",
              "      <td>10.000000</td>\n",
              "      <td>5.000000</td>\n",
              "      <td>1.000000</td>\n",
              "      <td>1.000000</td>\n",
              "      <td>-5.185692</td>\n",
              "      <td>-76.833715</td>\n",
              "      <td>3.00000</td>\n",
              "      <td>56.000000</td>\n",
              "      <td>2.000000</td>\n",
              "      <td>410.000000</td>\n",
              "      <td>333.580000</td>\n",
              "    </tr>\n",
              "  </tbody>\n",
              "</table>\n",
              "</div>\n",
              "      <button class=\"colab-df-convert\" onclick=\"convertToInteractive('df-0ba3b5a9-0b0c-43ff-bd1a-69fc3e4bd8f9')\"\n",
              "              title=\"Convert this dataframe to an interactive table.\"\n",
              "              style=\"display:none;\">\n",
              "        \n",
              "  <svg xmlns=\"http://www.w3.org/2000/svg\" height=\"24px\"viewBox=\"0 0 24 24\"\n",
              "       width=\"24px\">\n",
              "    <path d=\"M0 0h24v24H0V0z\" fill=\"none\"/>\n",
              "    <path d=\"M18.56 5.44l.94 2.06.94-2.06 2.06-.94-2.06-.94-.94-2.06-.94 2.06-2.06.94zm-11 1L8.5 8.5l.94-2.06 2.06-.94-2.06-.94L8.5 2.5l-.94 2.06-2.06.94zm10 10l.94 2.06.94-2.06 2.06-.94-2.06-.94-.94-2.06-.94 2.06-2.06.94z\"/><path d=\"M17.41 7.96l-1.37-1.37c-.4-.4-.92-.59-1.43-.59-.52 0-1.04.2-1.43.59L10.3 9.45l-7.72 7.72c-.78.78-.78 2.05 0 2.83L4 21.41c.39.39.9.59 1.41.59.51 0 1.02-.2 1.41-.59l7.78-7.78 2.81-2.81c.8-.78.8-2.07 0-2.86zM5.41 20L4 18.59l7.72-7.72 1.47 1.35L5.41 20z\"/>\n",
              "  </svg>\n",
              "      </button>\n",
              "      \n",
              "  <style>\n",
              "    .colab-df-container {\n",
              "      display:flex;\n",
              "      flex-wrap:wrap;\n",
              "      gap: 12px;\n",
              "    }\n",
              "\n",
              "    .colab-df-convert {\n",
              "      background-color: #E8F0FE;\n",
              "      border: none;\n",
              "      border-radius: 50%;\n",
              "      cursor: pointer;\n",
              "      display: none;\n",
              "      fill: #1967D2;\n",
              "      height: 32px;\n",
              "      padding: 0 0 0 0;\n",
              "      width: 32px;\n",
              "    }\n",
              "\n",
              "    .colab-df-convert:hover {\n",
              "      background-color: #E2EBFA;\n",
              "      box-shadow: 0px 1px 2px rgba(60, 64, 67, 0.3), 0px 1px 3px 1px rgba(60, 64, 67, 0.15);\n",
              "      fill: #174EA6;\n",
              "    }\n",
              "\n",
              "    [theme=dark] .colab-df-convert {\n",
              "      background-color: #3B4455;\n",
              "      fill: #D2E3FC;\n",
              "    }\n",
              "\n",
              "    [theme=dark] .colab-df-convert:hover {\n",
              "      background-color: #434B5C;\n",
              "      box-shadow: 0px 1px 3px 1px rgba(0, 0, 0, 0.15);\n",
              "      filter: drop-shadow(0px 1px 2px rgba(0, 0, 0, 0.3));\n",
              "      fill: #FFFFFF;\n",
              "    }\n",
              "  </style>\n",
              "\n",
              "      <script>\n",
              "        const buttonEl =\n",
              "          document.querySelector('#df-0ba3b5a9-0b0c-43ff-bd1a-69fc3e4bd8f9 button.colab-df-convert');\n",
              "        buttonEl.style.display =\n",
              "          google.colab.kernel.accessAllowed ? 'block' : 'none';\n",
              "\n",
              "        async function convertToInteractive(key) {\n",
              "          const element = document.querySelector('#df-0ba3b5a9-0b0c-43ff-bd1a-69fc3e4bd8f9');\n",
              "          const dataTable =\n",
              "            await google.colab.kernel.invokeFunction('convertToInteractive',\n",
              "                                                     [key], {});\n",
              "          if (!dataTable) return;\n",
              "\n",
              "          const docLinkHtml = 'Like what you see? Visit the ' +\n",
              "            '<a target=\"_blank\" href=https://colab.research.google.com/notebooks/data_table.ipynb>data table notebook</a>'\n",
              "            + ' to learn more about interactive tables.';\n",
              "          element.innerHTML = '';\n",
              "          dataTable['output_type'] = 'display_data';\n",
              "          await google.colab.output.renderOutput(dataTable, element);\n",
              "          const docLink = document.createElement('div');\n",
              "          docLink.innerHTML = docLinkHtml;\n",
              "          element.appendChild(docLink);\n",
              "        }\n",
              "      </script>\n",
              "    </div>\n",
              "  </div>\n",
              "  "
            ]
          },
          "metadata": {},
          "execution_count": 27
        }
      ]
    },
    {
      "cell_type": "code",
      "source": [
        "#Numero de registros y valores a tomar en cuenta\n",
        "df.shape"
      ],
      "metadata": {
        "colab": {
          "base_uri": "https://localhost:8080/"
        },
        "id": "3s4YJYHB5JNu",
        "outputId": "84ca9eac-a7da-45fe-ba2c-b6a4eb31777a"
      },
      "execution_count": null,
      "outputs": [
        {
          "output_type": "execute_result",
          "data": {
            "text/plain": [
              "(20, 21)"
            ]
          },
          "metadata": {},
          "execution_count": 28
        }
      ]
    },
    {
      "cell_type": "code",
      "source": [
        "df.dtypes"
      ],
      "metadata": {
        "colab": {
          "base_uri": "https://localhost:8080/"
        },
        "id": "NfA8uzia5aPY",
        "outputId": "3945d8c8-432b-4253-f5b0-425bf255d60f"
      },
      "execution_count": null,
      "outputs": [
        {
          "output_type": "execute_result",
          "data": {
            "text/plain": [
              "Fecha entrega del Informe          object\n",
              "Tipo de via                         int64\n",
              "Piso                                int64\n",
              "Departamento                       object\n",
              "Provincia                          object\n",
              "Distrito                           object\n",
              "Numero de estacionamiento           int64\n",
              "Depositos                           int64\n",
              "Latitud                           float64\n",
              "Longitud                          float64\n",
              "Categoria del bien                 object\n",
              "Posicion                           object\n",
              "Numero de frentes                 float64\n",
              "Edad                              float64\n",
              "Elevador                            int64\n",
              "Estado de conservacion             object\n",
              "Metodo Representado                object\n",
              "Moneda principal para calculos     object\n",
              "Area Terreno                      float64\n",
              "Area Construccion                 float64\n",
              "Valor comercial                    object\n",
              "dtype: object"
            ]
          },
          "metadata": {},
          "execution_count": 29
        }
      ]
    },
    {
      "cell_type": "markdown",
      "source": [
        "## Conteo de valores \n",
        "Numero de itereaciones por cada valor distinto en variables"
      ],
      "metadata": {
        "id": "cV1f9_C8-EjQ"
      }
    },
    {
      "cell_type": "code",
      "source": [
        "df['Tipo de via'].value_counts()"
      ],
      "metadata": {
        "colab": {
          "base_uri": "https://localhost:8080/"
        },
        "id": "6OOn0nx_6ptd",
        "outputId": "3b110d89-4684-408c-ca85-76ed23209c48"
      },
      "execution_count": null,
      "outputs": [
        {
          "output_type": "execute_result",
          "data": {
            "text/plain": [
              "1     9\n",
              "2     4\n",
              "10    3\n",
              "3     3\n",
              "6     1\n",
              "Name: Tipo de via, dtype: int64"
            ]
          },
          "metadata": {},
          "execution_count": 30
        }
      ]
    },
    {
      "cell_type": "code",
      "source": [
        "df['Piso'].value_counts()"
      ],
      "metadata": {
        "colab": {
          "base_uri": "https://localhost:8080/"
        },
        "id": "lnsTcPX797Lp",
        "outputId": "9b894d6c-81f8-4936-e526-2617421f620b"
      },
      "execution_count": null,
      "outputs": [
        {
          "output_type": "execute_result",
          "data": {
            "text/plain": [
              "2    6\n",
              "1    4\n",
              "4    4\n",
              "5    3\n",
              "3    3\n",
              "Name: Piso, dtype: int64"
            ]
          },
          "metadata": {},
          "execution_count": 31
        }
      ]
    },
    {
      "cell_type": "code",
      "source": [
        "df['Departamento'].value_counts()"
      ],
      "metadata": {
        "colab": {
          "base_uri": "https://localhost:8080/"
        },
        "id": "PbDchqbY98qf",
        "outputId": "a9429a00-a38d-4cf6-b4af-63063efb4699"
      },
      "execution_count": null,
      "outputs": [
        {
          "output_type": "execute_result",
          "data": {
            "text/plain": [
              "Lima           18\n",
              "La Libertad     1\n",
              "Piura           1\n",
              "Name: Departamento, dtype: int64"
            ]
          },
          "metadata": {},
          "execution_count": 32
        }
      ]
    },
    {
      "cell_type": "code",
      "source": [
        "df['Estado de conservacion'].value_counts()"
      ],
      "metadata": {
        "colab": {
          "base_uri": "https://localhost:8080/"
        },
        "id": "YNVYjiUv9984",
        "outputId": "4c735c78-492c-482d-f017-89cea67690ed"
      },
      "execution_count": null,
      "outputs": [
        {
          "output_type": "execute_result",
          "data": {
            "text/plain": [
              "Bueno        12\n",
              "Muy bueno     6\n",
              "Regular       1\n",
              "Malo          1\n",
              "Name: Estado de conservacion, dtype: int64"
            ]
          },
          "metadata": {},
          "execution_count": 33
        }
      ]
    },
    {
      "cell_type": "code",
      "source": [
        "df['Provincia'].value_counts()"
      ],
      "metadata": {
        "colab": {
          "base_uri": "https://localhost:8080/"
        },
        "id": "noYnJyTN-ARI",
        "outputId": "bd11ce48-7f6b-4bac-8b91-f10d1e662099"
      },
      "execution_count": null,
      "outputs": [
        {
          "output_type": "execute_result",
          "data": {
            "text/plain": [
              "Lima        18\n",
              "Trujillo     1\n",
              "Piura        1\n",
              "Name: Provincia, dtype: int64"
            ]
          },
          "metadata": {},
          "execution_count": 34
        }
      ]
    },
    {
      "cell_type": "code",
      "source": [
        "df['Categoria del bien'].value_counts()"
      ],
      "metadata": {
        "colab": {
          "base_uri": "https://localhost:8080/"
        },
        "id": "I45vcC5J-Br-",
        "outputId": "a8327559-1da7-4a81-de30-ac508db83946"
      },
      "execution_count": null,
      "outputs": [
        {
          "output_type": "execute_result",
          "data": {
            "text/plain": [
              "Departamento            13\n",
              "Vivienda Unifamiliar     4\n",
              "Local Comercial          2\n",
              "Terreno Urbano           1\n",
              "Name: Categoria del bien, dtype: int64"
            ]
          },
          "metadata": {},
          "execution_count": 35
        }
      ]
    },
    {
      "cell_type": "code",
      "source": [
        "df['Metodo Representado'].value_counts()"
      ],
      "metadata": {
        "colab": {
          "base_uri": "https://localhost:8080/"
        },
        "id": "0WVkznLO-C-A",
        "outputId": "29358fab-3b33-4b43-e6ed-2fa753ed3932"
      },
      "execution_count": null,
      "outputs": [
        {
          "output_type": "execute_result",
          "data": {
            "text/plain": [
              "Comparacion de mercado (directo)    15\n",
              "Costos o reposicion (directo)        5\n",
              "Name: Metodo Representado, dtype: int64"
            ]
          },
          "metadata": {},
          "execution_count": 36
        }
      ]
    },
    {
      "cell_type": "markdown",
      "source": [
        "#Direcciones especificas\n",
        "\n",
        "Se pretende utilizar la localización para agregar peso y valor a la funcion de calculo"
      ],
      "metadata": {
        "id": "54VNzzNX_UBf"
      }
    },
    {
      "cell_type": "code",
      "source": [
        "directions = []\n",
        "geolocalizador = Nominatim();\n",
        "#Se recorren todos los valores para obtener su direccion\n",
        "for i in range(len(df)):\n",
        "    direction = geolocalizador.reverse(str(df.at[i,\"Latitud\"]) + ',' + str(df.at[i,\"Longitud\"]))\n",
        "    directions.append(direction) #Se agrega a la lista\n",
        "\n",
        "    "
      ],
      "metadata": {
        "id": "WOS6MG67kSa-",
        "colab": {
          "base_uri": "https://localhost:8080/"
        },
        "outputId": "4036be80-b9ca-484d-ac34-088334fc8a16"
      },
      "execution_count": null,
      "outputs": [
        {
          "output_type": "stream",
          "name": "stderr",
          "text": [
            "/usr/local/lib/python3.7/dist-packages/geopy/geocoders/osm.py:143: UserWarning: Using Nominatim with the default \"geopy/1.17.0\" `user_agent` is strongly discouraged, as it violates Nominatim's ToS https://operations.osmfoundation.org/policies/nominatim/ and may possibly cause 403 and 429 HTTP errors. Please specify a custom `user_agent` with `Nominatim(user_agent=\"my-application\")` or by overriding the default `user_agent`: `geopy.geocoders.options.default_user_agent = \"my-application\"`. In geopy 2.0 this will become an exception.\n",
            "  UserWarning\n"
          ]
        }
      ]
    },
    {
      "cell_type": "code",
      "source": [
        "#Se muestra la lista de direcciones\n",
        "arr_directions = np.array(directions)\n",
        "print(arr_directions)"
      ],
      "metadata": {
        "colab": {
          "base_uri": "https://localhost:8080/"
        },
        "id": "TJtJVx0G_oyf",
        "outputId": "efd91a78-c0ad-4d4d-c135-175b655c4935"
      },
      "execution_count": null,
      "outputs": [
        {
          "output_type": "stream",
          "name": "stdout",
          "text": [
            "[['Alimentos Orgánicos, Avenida Ricardo Palma, Miraflores, Lima, Lima Metropolitana, Lima, 15047, Perú'\n",
            "  (-12.1200224, -77.02411169999999)]\n",
            " ['Cruz de Mayo, Huaycán, Ate, Lima, Lima Metropolitana, Lima, 15483, Perú'\n",
            "  (-12.022988868528829, -76.83358761224656)]\n",
            " ['Institución Educativa Miguel Grau, 1025, Jirón Libertad, Magdalena, Magdalena del Mar, Lima, Lima Metropolitana, Lima, 15086, Perú'\n",
            "  (-12.089316, -77.06880828321442)]\n",
            " ['Jirón 27, San Borja, Lima, Lima Metropolitana, Lima, 15023, Perú'\n",
            "  (-12.095700479837816, -76.98133061268804)]\n",
            " ['San Juan, Santa Clara, Ate, Lima, Lima Metropolitana, Lima, 15487, Perú'\n",
            "  (-12.015178275510912, -76.87424669152152)]\n",
            " ['File Security, 227, Calle German Schreiber, Centro financiero de San Isidro, San Isidro, Lima, Lima Metropolitana, Lima, 15000, Perú'\n",
            "  (-12.0958146, -77.0233109)]\n",
            " ['Santa Anita, Lima, Lima Metropolitana, Lima, 15009, Perú'\n",
            "  (-12.029485310302201, -76.94566781602553)]\n",
            " ['Comas, Lima, Lima Metropolitana, Lima, 15316, Perú'\n",
            "  (-11.89943214633956, -77.05772291425961)]\n",
            " ['La Choza Náutica, Avenida Horacio Urteaga, Jesús María, Lima, Lima Metropolitana, Lima, 15081, Perú'\n",
            "  (-12.0763076, -77.05052)]\n",
            " ['Piura, 20009, Perú' (-5.185881314086504, -80.65459956823354)]\n",
            " ['Calle La Almendra, Los Sauces, Surquillo, Lima, Lima Metropolitana, Lima, 15038, Perú'\n",
            "  (-12.119617444754901, -77.00565520360932)]\n",
            " ['Avenida Los Vicus, La Capullana, Santiago de Surco, Lima, Lima Metropolitana, Lima, 15038, Perú'\n",
            "  (-12.13633990242076, -77.00233820519033)]\n",
            " ['Calle Unión, San Cayetano, El Agustino, Lima, Lima Metropolitana, Lima, 15004, Perú'\n",
            "  (-12.052853817525994, -77.00656453113139)]\n",
            " ['Casa de los Condes de Aranda, Jirón Bolívar, Urbanización El Recreo, Trujillo, La Libertad, 13006, Perú'\n",
            "  (-8.1113667, -79.0256892)]\n",
            " ['Clinica Ricardo Palma, 1066, Avenida Javier Prado Este, Centro financiero de San Isidro, San Isidro, Lima, Lima Metropolitana, Lima, 15036, Perú'\n",
            "  (-12.0907117, -77.01830143287725)]\n",
            " ['Calle Las Laderas, Residencial Los Alamos de Monterrico, Santiago de Surco, Lima, Lima Metropolitana, Lima, 15023, Perú'\n",
            "  (-12.112618583152104, -76.96428942273076)]\n",
            " ['Los Mangos, Santa Anita, Lima, Lima Metropolitana, Lima, 15009, Perú'\n",
            "  (-12.038418336676582, -76.957035322517)]\n",
            " ['Emporio Comercial de Gamarra, Jirón Bélgica, San German, La Victoria, Lima, Lima Metropolitana, Lima, 15018, Perú'\n",
            "  (-12.06673285, -77.0148622341489)]\n",
            " ['Calle Mariano Melgar, La Molina, Lima, Lima Metropolitana, Lima, 15012, Perú'\n",
            "  (-12.062103272788567, -76.94971478989095)]\n",
            " ['Calle El Eucalipto, Los Sauces, Surquillo, Lima, Lima Metropolitana, Lima, 15038, Perú'\n",
            "  (-12.121285689341514, -76.99959938554761)]]\n"
          ]
        },
        {
          "output_type": "stream",
          "name": "stderr",
          "text": [
            "/usr/local/lib/python3.7/dist-packages/ipykernel_launcher.py:2: VisibleDeprecationWarning: Creating an ndarray from ragged nested sequences (which is a list-or-tuple of lists-or-tuples-or ndarrays with different lengths or shapes) is deprecated. If you meant to do this, you must specify 'dtype=object' when creating the ndarray.\n",
            "  \n"
          ]
        }
      ]
    },
    {
      "cell_type": "markdown",
      "source": [
        "#Rango de datos"
      ],
      "metadata": {
        "id": "g-b-T_LpAkYe"
      }
    },
    {
      "cell_type": "code",
      "source": [
        "df.hist(bins=50, figsize=(20,15))"
      ],
      "metadata": {
        "id": "sJNWOqAMswU_",
        "outputId": "c65002f4-f26a-4301-e7d7-88681117708f",
        "colab": {
          "base_uri": "https://localhost:8080/",
          "height": 1000
        }
      },
      "execution_count": null,
      "outputs": [
        {
          "output_type": "execute_result",
          "data": {
            "text/plain": [
              "array([[<matplotlib.axes._subplots.AxesSubplot object at 0x7f005379f4d0>,\n",
              "        <matplotlib.axes._subplots.AxesSubplot object at 0x7f005379f150>,\n",
              "        <matplotlib.axes._subplots.AxesSubplot object at 0x7f005371ef10>],\n",
              "       [<matplotlib.axes._subplots.AxesSubplot object at 0x7f00536e2550>,\n",
              "        <matplotlib.axes._subplots.AxesSubplot object at 0x7f0053698b50>,\n",
              "        <matplotlib.axes._subplots.AxesSubplot object at 0x7f005365b190>],\n",
              "       [<matplotlib.axes._subplots.AxesSubplot object at 0x7f0053611810>,\n",
              "        <matplotlib.axes._subplots.AxesSubplot object at 0x7f00535c8d50>,\n",
              "        <matplotlib.axes._subplots.AxesSubplot object at 0x7f00535c8d90>],\n",
              "       [<matplotlib.axes._subplots.AxesSubplot object at 0x7f00535894d0>,\n",
              "        <matplotlib.axes._subplots.AxesSubplot object at 0x7f005356cb10>,\n",
              "        <matplotlib.axes._subplots.AxesSubplot object at 0x7f00534ba610>]],\n",
              "      dtype=object)"
            ]
          },
          "metadata": {},
          "execution_count": 39
        },
        {
          "output_type": "display_data",
          "data": {
            "text/plain": [
              "<Figure size 1440x1080 with 12 Axes>"
            ],
            "image/png": "[encoded data removed]"
          },
          "metadata": {
            "needs_background": "light"
          }
        }
      ]
    },
    {
      "cell_type": "markdown",
      "source": [
        "# Funciones que calculan cosas\n"
      ],
      "metadata": {
        "id": "Aire1PovmUXi"
      }
    },
    {
      "cell_type": "code",
      "source": [
        "#array of streats\n",
        "street = [\"Calle 1\", \"Calle 2\", \"Calle 3\", \"Calle 4\", \"Calle 5\", \"Calle 6\", \"Calle 7\"]\n",
        "\n",
        "#array of departments\n",
        "departments = [\"Departamento 1\", \"Departamento 2\", \"Departamento 3\", \"Departamento 4\", \"Departamento 5\"]\n",
        "\n",
        "\n",
        "#array of districts\n",
        "districts = [\"San Isidro\", \"La Victoria\", \"Santiago de Surco\", \"La Victoria\", \"Ate\", \"Breña\", \"Pueblo Libre\", \"Veintiseis de Octubre\"]\n",
        "\n",
        "#array of floars\n",
        "floars = [\"1\", \"2\", \"3\", \"4\", \"5\", \"6\", \"7\", \"8\", \"9\", \"10\"] \n",
        "\n",
        "\n",
        "#function to select the street\n",
        "def selectStreet():\n",
        "    print(\"Selecciona la calle\")\n",
        "    for i in range(len(street)):\n",
        "        print(i+1, street[i])\n",
        "    streetSelected = int(input(\"Selecciona una calle: \"))\n",
        "    return street[streetSelected-1]\n",
        "\n",
        "\n",
        "\n",
        "#function to calculate the price of the house\n",
        "def calculatePrice(street, department, district, floar):\n",
        "    price = 0\n",
        "    if street == \"Calle 1\":\n",
        "        price += 1000\n",
        "    elif street == \"Calle 2\":\n",
        "        price += 2000\n",
        "    elif street == \"Calle 3\":\n",
        "        price += 3000\n",
        "    elif street == \"Calle 4\":\n",
        "        price += 4000\n",
        "    elif street == \"Calle 5\":\n",
        "        price += 5000\n",
        "    elif street == \"Calle 6\":\n",
        "        price += 6000\n",
        "    elif street == \"Calle 7\":\n",
        "        price += 7000\n",
        "\n",
        "    if department == \"Departamento 1\":\n",
        "        price += 1000\n",
        "    elif department == \"Departamento 2\":\n",
        "        price += 2000\n",
        "    elif department == \"Departamento 3\":\n",
        "        price += 3000\n",
        "    elif department == \"Departamento 4\":\n",
        "        price += 4000\n",
        "    elif department == \"Departamento 5\":\n",
        "        price += 5000\n",
        "\n",
        "    if district == \"San Isidro\":\n",
        "        price += 1000\n",
        "    elif district == \"La Victoria\":\n",
        "        price += 2000\n",
        "    elif district == \"Santiago de Surco\":\n",
        "        price += 3000\n",
        "    elif district == \"Ate\":\n",
        "        price += 4000\n",
        "    elif district == \"Breña\":\n",
        "        price += 5000\n",
        "    elif district == \"Pueblo Libre\":\n",
        "        price += 6000\n",
        "    elif district == \"Veintiseis de Octubre\":\n",
        "        price += 7000\n",
        "\n",
        "    if floar == \"1\":\n",
        "        price += 1000\n",
        "    elif floar == \"2\":\n",
        "        price += 2000\n",
        "    elif floar == \"3\":\n",
        "        price += 3000\n",
        "    elif floar == \"4\":\n",
        "        price += 4000\n",
        "    elif floar == \"5\":\n",
        "        price += 5000\n",
        "    elif floar == \"6\":\n",
        "        price += 6000\n",
        "    elif floar == \"7\":\n",
        "        price += 7000\n",
        "    elif floar == \"8\":\n",
        "        price += 8000\n",
        "    elif floar == \"9\":\n",
        "        price += 9000\n",
        "    elif floar == \"10\":\n",
        "        price += 10000\n",
        "\n",
        "    return price"
      ],
      "metadata": {
        "id": "-M_34agfmfl1"
      },
      "execution_count": null,
      "outputs": []
    },
    {
      "cell_type": "code",
      "source": [
        "selectStreet()"
      ],
      "metadata": {
        "colab": {
          "base_uri": "https://localhost:8080/",
          "height": 192
        },
        "id": "VybnGpzat0UB",
        "outputId": "29788151-9743-453a-aae1-ebe14ccf9ce8"
      },
      "execution_count": null,
      "outputs": [
        {
          "name": "stdout",
          "output_type": "stream",
          "text": [
            "Selecciona la calle\n",
            "1 Calle 1\n",
            "2 Calle 2\n",
            "3 Calle 3\n",
            "4 Calle 4\n",
            "5 Calle 5\n",
            "6 Calle 6\n",
            "7 Calle 7\n",
            "Selecciona una calle: 7\n"
          ]
        },
        {
          "output_type": "execute_result",
          "data": {
            "text/plain": [
              "'Calle 7'"
            ],
            "application/vnd.google.colaboratory.intrinsic+json": {
              "type": "string"
            }
          },
          "metadata": {},
          "execution_count": 80
        }
      ]
    }
  ]
}