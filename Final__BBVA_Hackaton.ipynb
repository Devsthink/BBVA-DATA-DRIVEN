{
  "cells": [
    {
      "cell_type": "markdown",
      "metadata": {
        "id": "view-in-github",
        "colab_type": "text"
      },
      "source": [
        "<a href=\"https://colab.research.google.com/github/Devsthink/BBVA-DATA-DRIVEN/blob/main/Final__BBVA_Hackaton.ipynb\" target=\"_parent\"><img src=\"https://colab.research.google.com/assets/colab-badge.svg\" alt=\"Open In Colab\"/></a>"
      ]
    },
    {
      "cell_type": "markdown",
      "metadata": {
        "id": "EiEW5j9oVbql"
      },
      "source": [
        "#Hackaton BBVA\n"
      ]
    },
    {
      "cell_type": "markdown",
      "metadata": {
        "id": "Iifjn1z7ZoHg"
      },
      "source": [
        "# Modelo de prediccion de valorizacion de inmuebles"
      ]
    },
    {
      "cell_type": "markdown",
      "metadata": {
        "id": "0dONvh494CCI"
      },
      "source": [
        "Librerias necesarias para creacion de modelo\n",
        "\n",
        "\n",
        "\n",
        "*   Manejo de arreglos en diferentes dimensiones\n",
        "*   Cargar y exportar datos\n",
        "*   Redes Neuronales\n",
        "*   Ubicaciones geograficas\n",
        "\n",
        "\n",
        "\n"
      ]
    },
    {
      "cell_type": "markdown",
      "metadata": {
        "id": "14VSLnSL4on-"
      },
      "source": [
        "# Obtención de datos\n",
        "\n",
        "*   Carga de datos a variable local\n",
        "\n"
      ]
    },
    {
      "cell_type": "code",
      "source": [
        "!pip install folium\n",
        "!pip install -U scikit-learn\n",
        "!pip install geopy"
      ],
      "metadata": {
        "colab": {
          "base_uri": "https://localhost:8080/"
        },
        "id": "vnfTuIjroTKZ",
        "outputId": "5c7307bf-63c8-471d-8a3d-fbaa707508f0"
      },
      "execution_count": 744,
      "outputs": [
        {
          "output_type": "stream",
          "name": "stdout",
          "text": [
            "Looking in indexes: https://pypi.org/simple, https://us-python.pkg.dev/colab-wheels/public/simple/\n",
            "Requirement already satisfied: folium in /usr/local/lib/python3.7/dist-packages (0.13.0)\n",
            "Requirement already satisfied: branca>=0.3.0 in /usr/local/lib/python3.7/dist-packages (from folium) (0.5.0)\n",
            "Requirement already satisfied: requests in /usr/local/lib/python3.7/dist-packages (from folium) (2.23.0)\n",
            "Requirement already satisfied: numpy in /usr/local/lib/python3.7/dist-packages (from folium) (1.21.6)\n",
            "Requirement already satisfied: jinja2>=2.9 in /usr/local/lib/python3.7/dist-packages (from folium) (2.11.3)\n",
            "Requirement already satisfied: MarkupSafe>=0.23 in /usr/local/lib/python3.7/dist-packages (from jinja2>=2.9->folium) (2.0.1)\n",
            "Requirement already satisfied: certifi>=2017.4.17 in /usr/local/lib/python3.7/dist-packages (from requests->folium) (2022.9.24)\n",
            "Requirement already satisfied: idna<3,>=2.5 in /usr/local/lib/python3.7/dist-packages (from requests->folium) (2.10)\n",
            "Requirement already satisfied: urllib3!=1.25.0,!=1.25.1,<1.26,>=1.21.1 in /usr/local/lib/python3.7/dist-packages (from requests->folium) (1.24.3)\n",
            "Requirement already satisfied: chardet<4,>=3.0.2 in /usr/local/lib/python3.7/dist-packages (from requests->folium) (3.0.4)\n",
            "Looking in indexes: https://pypi.org/simple, https://us-python.pkg.dev/colab-wheels/public/simple/\n",
            "Requirement already satisfied: scikit-learn in /usr/local/lib/python3.7/dist-packages (1.0.2)\n",
            "Requirement already satisfied: threadpoolctl>=2.0.0 in /usr/local/lib/python3.7/dist-packages (from scikit-learn) (3.1.0)\n",
            "Requirement already satisfied: scipy>=1.1.0 in /usr/local/lib/python3.7/dist-packages (from scikit-learn) (1.7.3)\n",
            "Requirement already satisfied: numpy>=1.14.6 in /usr/local/lib/python3.7/dist-packages (from scikit-learn) (1.21.6)\n",
            "Requirement already satisfied: joblib>=0.11 in /usr/local/lib/python3.7/dist-packages (from scikit-learn) (1.2.0)\n",
            "Looking in indexes: https://pypi.org/simple, https://us-python.pkg.dev/colab-wheels/public/simple/\n",
            "Requirement already satisfied: geopy in /usr/local/lib/python3.7/dist-packages (2.2.0)\n",
            "Requirement already satisfied: geographiclib<2,>=1.49 in /usr/local/lib/python3.7/dist-packages (from geopy) (1.52)\n"
          ]
        }
      ]
    },
    {
      "cell_type": "code",
      "execution_count": 794,
      "metadata": {
        "id": "b1XzvHg4VWug"
      },
      "outputs": [],
      "source": [
        "import pandas as pd\n",
        "import tensorflow as tf\n",
        "import numpy as np\n",
        "import csv\n",
        "import matplotlib.pyplot as plt\n",
        "import geopy\n",
        "from geopy.geocoders import Nominatim\n",
        "import keras\n",
        "from time import time\n",
        "\n",
        "# Arquitectura de la red\n",
        "from keras import models\n",
        "from keras import layers\n",
        "from keras import optimizers\n",
        "from sklearn.preprocessing import OrdinalEncoder\n",
        "from sklearn import preprocessing\n",
        "from sklearn.metrics import mean_squared_error"
      ]
    },
    {
      "cell_type": "markdown",
      "metadata": {
        "id": "RstA8YCXIyCJ"
      },
      "source": [
        "Carga de los archivos desde un repositorio remoto:"
      ]
    },
    {
      "cell_type": "code",
      "execution_count": 795,
      "metadata": {
        "id": "IpN484kQWyxY",
        "colab": {
          "base_uri": "https://localhost:8080/"
        },
        "outputId": "8c423724-174a-4274-d0cb-6c4f0da38c0b"
      },
      "outputs": [
        {
          "output_type": "stream",
          "name": "stdout",
          "text": [
            "Drive already mounted at /content/drive; to attempt to forcibly remount, call drive.mount(\"/content/drive\", force_remount=True).\n"
          ]
        }
      ],
      "source": [
        "from google.colab import drive\n",
        "drive.mount('/content/drive') "
      ]
    },
    {
      "cell_type": "code",
      "execution_count": 796,
      "metadata": {
        "id": "_wwLIWIkW6XV"
      },
      "outputs": [],
      "source": [
        "#path = '/content/drive/MyDrive/BBVA_Hackaton/Train_Data_BBVA.csv'\n",
        "path = '/content/drive/MyDrive/BBVA_Hackaton/Train_Data_BBVA.csv'"
      ]
    },
    {
      "cell_type": "markdown",
      "source": [],
      "metadata": {
        "id": "3OMqTLvgNZIA"
      }
    },
    {
      "cell_type": "code",
      "execution_count": 797,
      "metadata": {
        "id": "6VbtV0ekYpNO",
        "colab": {
          "base_uri": "https://localhost:8080/",
          "height": 525
        },
        "outputId": "8442513e-149a-461a-bd10-d12ca65daee9"
      },
      "outputs": [
        {
          "output_type": "execute_result",
          "data": {
            "text/plain": [
              "   Fecha entrega del Informe  Tipo de via  Piso Departamento Provincia  \\\n",
              "0                       2022            2     1         Lima      Lima   \n",
              "1                       2022            6     4         Lima      Lima   \n",
              "2                       2022            2     5         Lima      Lima   \n",
              "3                       2022           10     2         Lima      Lima   \n",
              "4                       2022            1     3         Lima      Lima   \n",
              "\n",
              "                 Distrito  Numero de estacionamiento  Depositos    Latitud  \\\n",
              "0       Magdalena del Mar                         -1         -1 -12.120143   \n",
              "1  San Juan de Lurigancho                          1         -1 -12.022509   \n",
              "2       Santiago de Surco                          1         -1 -12.089686   \n",
              "3              Pachacamac                         -1          1 -12.095758   \n",
              "4              San Isidro                         -1         -1 -12.015309   \n",
              "\n",
              "    Longitud  ...  Posicion Numero de frentes  Edad  Elevador  \\\n",
              "0 -77.023960  ...  Exterior                 2     3         1   \n",
              "1 -76.833715  ...  Exterior                 1    42         2   \n",
              "2 -77.068454  ...  Exterior                 1    16         2   \n",
              "3 -76.981323  ...  Exterior                -1    -1         2   \n",
              "4 -76.874213  ...  Exterior                 0     1         1   \n",
              "\n",
              "   Estado de conservacion               Metodo Representado  \\\n",
              "0                   Bueno  Comparacion de mercado (directo)   \n",
              "1                 Regular     Costos o reposicion (directo)   \n",
              "2                   Bueno  Comparacion de mercado (directo)   \n",
              "3                   Bueno     Costos o reposicion (directo)   \n",
              "4               Muy bueno  Comparacion de mercado (directo)   \n",
              "\n",
              "  Moneda principal para calculos Area Terreno  Area Construccion  \\\n",
              "0                            USD          0.0              81.56   \n",
              "1                            USD        410.0               0.00   \n",
              "2                            USD          0.0              90.13   \n",
              "3                            USD        120.0               0.00   \n",
              "4                            PEN          0.0              45.00   \n",
              "\n",
              "   Valor comercial  \n",
              "0        120708.80  \n",
              "1        192225.00  \n",
              "2        137886.28  \n",
              "3         44400.00  \n",
              "4        111600.00  \n",
              "\n",
              "[5 rows x 21 columns]"
            ],
            "text/html": [
              "\n",
              "  <div id=\"df-2e00e333-e909-4ebd-8d58-74a0a33941a0\">\n",
              "    <div class=\"colab-df-container\">\n",
              "      <div>\n",
              "<style scoped>\n",
              "    .dataframe tbody tr th:only-of-type {\n",
              "        vertical-align: middle;\n",
              "    }\n",
              "\n",
              "    .dataframe tbody tr th {\n",
              "        vertical-align: top;\n",
              "    }\n",
              "\n",
              "    .dataframe thead th {\n",
              "        text-align: right;\n",
              "    }\n",
              "</style>\n",
              "<table border=\"1\" class=\"dataframe\">\n",
              "  <thead>\n",
              "    <tr style=\"text-align: right;\">\n",
              "      <th></th>\n",
              "      <th>Fecha entrega del Informe</th>\n",
              "      <th>Tipo de via</th>\n",
              "      <th>Piso</th>\n",
              "      <th>Departamento</th>\n",
              "      <th>Provincia</th>\n",
              "      <th>Distrito</th>\n",
              "      <th>Numero de estacionamiento</th>\n",
              "      <th>Depositos</th>\n",
              "      <th>Latitud</th>\n",
              "      <th>Longitud</th>\n",
              "      <th>...</th>\n",
              "      <th>Posicion</th>\n",
              "      <th>Numero de frentes</th>\n",
              "      <th>Edad</th>\n",
              "      <th>Elevador</th>\n",
              "      <th>Estado de conservacion</th>\n",
              "      <th>Metodo Representado</th>\n",
              "      <th>Moneda principal para calculos</th>\n",
              "      <th>Area Terreno</th>\n",
              "      <th>Area Construccion</th>\n",
              "      <th>Valor comercial</th>\n",
              "    </tr>\n",
              "  </thead>\n",
              "  <tbody>\n",
              "    <tr>\n",
              "      <th>0</th>\n",
              "      <td>2022</td>\n",
              "      <td>2</td>\n",
              "      <td>1</td>\n",
              "      <td>Lima</td>\n",
              "      <td>Lima</td>\n",
              "      <td>Magdalena del Mar</td>\n",
              "      <td>-1</td>\n",
              "      <td>-1</td>\n",
              "      <td>-12.120143</td>\n",
              "      <td>-77.023960</td>\n",
              "      <td>...</td>\n",
              "      <td>Exterior</td>\n",
              "      <td>2</td>\n",
              "      <td>3</td>\n",
              "      <td>1</td>\n",
              "      <td>Bueno</td>\n",
              "      <td>Comparacion de mercado (directo)</td>\n",
              "      <td>USD</td>\n",
              "      <td>0.0</td>\n",
              "      <td>81.56</td>\n",
              "      <td>120708.80</td>\n",
              "    </tr>\n",
              "    <tr>\n",
              "      <th>1</th>\n",
              "      <td>2022</td>\n",
              "      <td>6</td>\n",
              "      <td>4</td>\n",
              "      <td>Lima</td>\n",
              "      <td>Lima</td>\n",
              "      <td>San Juan de Lurigancho</td>\n",
              "      <td>1</td>\n",
              "      <td>-1</td>\n",
              "      <td>-12.022509</td>\n",
              "      <td>-76.833715</td>\n",
              "      <td>...</td>\n",
              "      <td>Exterior</td>\n",
              "      <td>1</td>\n",
              "      <td>42</td>\n",
              "      <td>2</td>\n",
              "      <td>Regular</td>\n",
              "      <td>Costos o reposicion (directo)</td>\n",
              "      <td>USD</td>\n",
              "      <td>410.0</td>\n",
              "      <td>0.00</td>\n",
              "      <td>192225.00</td>\n",
              "    </tr>\n",
              "    <tr>\n",
              "      <th>2</th>\n",
              "      <td>2022</td>\n",
              "      <td>2</td>\n",
              "      <td>5</td>\n",
              "      <td>Lima</td>\n",
              "      <td>Lima</td>\n",
              "      <td>Santiago de Surco</td>\n",
              "      <td>1</td>\n",
              "      <td>-1</td>\n",
              "      <td>-12.089686</td>\n",
              "      <td>-77.068454</td>\n",
              "      <td>...</td>\n",
              "      <td>Exterior</td>\n",
              "      <td>1</td>\n",
              "      <td>16</td>\n",
              "      <td>2</td>\n",
              "      <td>Bueno</td>\n",
              "      <td>Comparacion de mercado (directo)</td>\n",
              "      <td>USD</td>\n",
              "      <td>0.0</td>\n",
              "      <td>90.13</td>\n",
              "      <td>137886.28</td>\n",
              "    </tr>\n",
              "    <tr>\n",
              "      <th>3</th>\n",
              "      <td>2022</td>\n",
              "      <td>10</td>\n",
              "      <td>2</td>\n",
              "      <td>Lima</td>\n",
              "      <td>Lima</td>\n",
              "      <td>Pachacamac</td>\n",
              "      <td>-1</td>\n",
              "      <td>1</td>\n",
              "      <td>-12.095758</td>\n",
              "      <td>-76.981323</td>\n",
              "      <td>...</td>\n",
              "      <td>Exterior</td>\n",
              "      <td>-1</td>\n",
              "      <td>-1</td>\n",
              "      <td>2</td>\n",
              "      <td>Bueno</td>\n",
              "      <td>Costos o reposicion (directo)</td>\n",
              "      <td>USD</td>\n",
              "      <td>120.0</td>\n",
              "      <td>0.00</td>\n",
              "      <td>44400.00</td>\n",
              "    </tr>\n",
              "    <tr>\n",
              "      <th>4</th>\n",
              "      <td>2022</td>\n",
              "      <td>1</td>\n",
              "      <td>3</td>\n",
              "      <td>Lima</td>\n",
              "      <td>Lima</td>\n",
              "      <td>San Isidro</td>\n",
              "      <td>-1</td>\n",
              "      <td>-1</td>\n",
              "      <td>-12.015309</td>\n",
              "      <td>-76.874213</td>\n",
              "      <td>...</td>\n",
              "      <td>Exterior</td>\n",
              "      <td>0</td>\n",
              "      <td>1</td>\n",
              "      <td>1</td>\n",
              "      <td>Muy bueno</td>\n",
              "      <td>Comparacion de mercado (directo)</td>\n",
              "      <td>PEN</td>\n",
              "      <td>0.0</td>\n",
              "      <td>45.00</td>\n",
              "      <td>111600.00</td>\n",
              "    </tr>\n",
              "  </tbody>\n",
              "</table>\n",
              "<p>5 rows × 21 columns</p>\n",
              "</div>\n",
              "      <button class=\"colab-df-convert\" onclick=\"convertToInteractive('df-2e00e333-e909-4ebd-8d58-74a0a33941a0')\"\n",
              "              title=\"Convert this dataframe to an interactive table.\"\n",
              "              style=\"display:none;\">\n",
              "        \n",
              "  <svg xmlns=\"http://www.w3.org/2000/svg\" height=\"24px\"viewBox=\"0 0 24 24\"\n",
              "       width=\"24px\">\n",
              "    <path d=\"M0 0h24v24H0V0z\" fill=\"none\"/>\n",
              "    <path d=\"M18.56 5.44l.94 2.06.94-2.06 2.06-.94-2.06-.94-.94-2.06-.94 2.06-2.06.94zm-11 1L8.5 8.5l.94-2.06 2.06-.94-2.06-.94L8.5 2.5l-.94 2.06-2.06.94zm10 10l.94 2.06.94-2.06 2.06-.94-2.06-.94-.94-2.06-.94 2.06-2.06.94z\"/><path d=\"M17.41 7.96l-1.37-1.37c-.4-.4-.92-.59-1.43-.59-.52 0-1.04.2-1.43.59L10.3 9.45l-7.72 7.72c-.78.78-.78 2.05 0 2.83L4 21.41c.39.39.9.59 1.41.59.51 0 1.02-.2 1.41-.59l7.78-7.78 2.81-2.81c.8-.78.8-2.07 0-2.86zM5.41 20L4 18.59l7.72-7.72 1.47 1.35L5.41 20z\"/>\n",
              "  </svg>\n",
              "      </button>\n",
              "      \n",
              "  <style>\n",
              "    .colab-df-container {\n",
              "      display:flex;\n",
              "      flex-wrap:wrap;\n",
              "      gap: 12px;\n",
              "    }\n",
              "\n",
              "    .colab-df-convert {\n",
              "      background-color: #E8F0FE;\n",
              "      border: none;\n",
              "      border-radius: 50%;\n",
              "      cursor: pointer;\n",
              "      display: none;\n",
              "      fill: #1967D2;\n",
              "      height: 32px;\n",
              "      padding: 0 0 0 0;\n",
              "      width: 32px;\n",
              "    }\n",
              "\n",
              "    .colab-df-convert:hover {\n",
              "      background-color: #E2EBFA;\n",
              "      box-shadow: 0px 1px 2px rgba(60, 64, 67, 0.3), 0px 1px 3px 1px rgba(60, 64, 67, 0.15);\n",
              "      fill: #174EA6;\n",
              "    }\n",
              "\n",
              "    [theme=dark] .colab-df-convert {\n",
              "      background-color: #3B4455;\n",
              "      fill: #D2E3FC;\n",
              "    }\n",
              "\n",
              "    [theme=dark] .colab-df-convert:hover {\n",
              "      background-color: #434B5C;\n",
              "      box-shadow: 0px 1px 3px 1px rgba(0, 0, 0, 0.15);\n",
              "      filter: drop-shadow(0px 1px 2px rgba(0, 0, 0, 0.3));\n",
              "      fill: #FFFFFF;\n",
              "    }\n",
              "  </style>\n",
              "\n",
              "      <script>\n",
              "        const buttonEl =\n",
              "          document.querySelector('#df-2e00e333-e909-4ebd-8d58-74a0a33941a0 button.colab-df-convert');\n",
              "        buttonEl.style.display =\n",
              "          google.colab.kernel.accessAllowed ? 'block' : 'none';\n",
              "\n",
              "        async function convertToInteractive(key) {\n",
              "          const element = document.querySelector('#df-2e00e333-e909-4ebd-8d58-74a0a33941a0');\n",
              "          const dataTable =\n",
              "            await google.colab.kernel.invokeFunction('convertToInteractive',\n",
              "                                                     [key], {});\n",
              "          if (!dataTable) return;\n",
              "\n",
              "          const docLinkHtml = 'Like what you see? Visit the ' +\n",
              "            '<a target=\"_blank\" href=https://colab.research.google.com/notebooks/data_table.ipynb>data table notebook</a>'\n",
              "            + ' to learn more about interactive tables.';\n",
              "          element.innerHTML = '';\n",
              "          dataTable['output_type'] = 'display_data';\n",
              "          await google.colab.output.renderOutput(dataTable, element);\n",
              "          const docLink = document.createElement('div');\n",
              "          docLink.innerHTML = docLinkHtml;\n",
              "          element.appendChild(docLink);\n",
              "        }\n",
              "      </script>\n",
              "    </div>\n",
              "  </div>\n",
              "  "
            ]
          },
          "metadata": {},
          "execution_count": 797
        }
      ],
      "source": [
        "df = pd.read_csv(path)\n",
        "df.head()"
      ]
    },
    {
      "cell_type": "markdown",
      "metadata": {
        "id": "FrrLXNsf4zYX"
      },
      "source": [
        "# *Descripción de datos*\n",
        "\n",
        "*   Distinción de valores numericos y no numericos\n",
        "*   Rangos entre cada variable\n",
        "\n",
        "\n"
      ]
    },
    {
      "cell_type": "code",
      "execution_count": 798,
      "metadata": {
        "id": "V6fWYUE9452-",
        "colab": {
          "base_uri": "https://localhost:8080/",
          "height": 0
        },
        "outputId": "46e26da1-d8a2-49f6-f1d4-4aa9574f1412"
      },
      "outputs": [
        {
          "output_type": "execute_result",
          "data": {
            "text/plain": [
              "       Fecha entrega del Informe  Tipo de via       Piso  \\\n",
              "count                       20.0    20.000000  20.000000   \n",
              "mean                      2022.0     3.100000   2.800000   \n",
              "std                          0.0     3.210181   1.399248   \n",
              "min                       2022.0     1.000000   1.000000   \n",
              "25%                       2022.0     1.000000   2.000000   \n",
              "50%                       2022.0     2.000000   2.500000   \n",
              "75%                       2022.0     3.000000   4.000000   \n",
              "max                       2022.0    10.000000   5.000000   \n",
              "\n",
              "       Numero de estacionamiento  Depositos    Latitud   Longitud  \\\n",
              "count                  20.000000  20.000000  20.000000  20.000000   \n",
              "mean                   -0.400000  -0.900000 -11.527040 -77.272841   \n",
              "std                     0.940325   0.447214   1.735406   0.918707   \n",
              "min                    -1.000000  -1.000000 -12.136353 -80.654541   \n",
              "25%                    -1.000000  -1.000000 -12.100001 -77.030632   \n",
              "50%                    -1.000000  -1.000000 -12.070663 -77.006111   \n",
              "75%                     1.000000  -1.000000 -12.027933 -76.962508   \n",
              "max                     1.000000   1.000000  -5.185692 -76.833715   \n",
              "\n",
              "       Numero de frentes       Edad   Elevador  Area Terreno  \\\n",
              "count          20.000000  20.000000  20.000000     20.000000   \n",
              "mean            0.800000  12.950000   1.550000     51.765000   \n",
              "std             1.105013  19.489471   0.604805    106.581273   \n",
              "min            -1.000000  -1.000000   0.000000      0.000000   \n",
              "25%             0.750000   0.750000   1.000000      0.000000   \n",
              "50%             1.000000   1.500000   2.000000      0.000000   \n",
              "75%             1.000000  18.750000   2.000000     30.000000   \n",
              "max             3.000000  56.000000   2.000000    410.000000   \n",
              "\n",
              "       Area Construccion  Valor comercial  \n",
              "count          20.000000        20.000000  \n",
              "mean          103.330500    186287.549000  \n",
              "std            75.481729    128599.103879  \n",
              "min             0.000000     44400.000000  \n",
              "25%            63.080000    110230.000000  \n",
              "50%            89.125000    137648.140000  \n",
              "75%           142.395000    255300.412500  \n",
              "max           333.580000    604139.200000  "
            ],
            "text/html": [
              "\n",
              "  <div id=\"df-e499b5c3-7b98-4649-bed8-1835961d5b6b\">\n",
              "    <div class=\"colab-df-container\">\n",
              "      <div>\n",
              "<style scoped>\n",
              "    .dataframe tbody tr th:only-of-type {\n",
              "        vertical-align: middle;\n",
              "    }\n",
              "\n",
              "    .dataframe tbody tr th {\n",
              "        vertical-align: top;\n",
              "    }\n",
              "\n",
              "    .dataframe thead th {\n",
              "        text-align: right;\n",
              "    }\n",
              "</style>\n",
              "<table border=\"1\" class=\"dataframe\">\n",
              "  <thead>\n",
              "    <tr style=\"text-align: right;\">\n",
              "      <th></th>\n",
              "      <th>Fecha entrega del Informe</th>\n",
              "      <th>Tipo de via</th>\n",
              "      <th>Piso</th>\n",
              "      <th>Numero de estacionamiento</th>\n",
              "      <th>Depositos</th>\n",
              "      <th>Latitud</th>\n",
              "      <th>Longitud</th>\n",
              "      <th>Numero de frentes</th>\n",
              "      <th>Edad</th>\n",
              "      <th>Elevador</th>\n",
              "      <th>Area Terreno</th>\n",
              "      <th>Area Construccion</th>\n",
              "      <th>Valor comercial</th>\n",
              "    </tr>\n",
              "  </thead>\n",
              "  <tbody>\n",
              "    <tr>\n",
              "      <th>count</th>\n",
              "      <td>20.0</td>\n",
              "      <td>20.000000</td>\n",
              "      <td>20.000000</td>\n",
              "      <td>20.000000</td>\n",
              "      <td>20.000000</td>\n",
              "      <td>20.000000</td>\n",
              "      <td>20.000000</td>\n",
              "      <td>20.000000</td>\n",
              "      <td>20.000000</td>\n",
              "      <td>20.000000</td>\n",
              "      <td>20.000000</td>\n",
              "      <td>20.000000</td>\n",
              "      <td>20.000000</td>\n",
              "    </tr>\n",
              "    <tr>\n",
              "      <th>mean</th>\n",
              "      <td>2022.0</td>\n",
              "      <td>3.100000</td>\n",
              "      <td>2.800000</td>\n",
              "      <td>-0.400000</td>\n",
              "      <td>-0.900000</td>\n",
              "      <td>-11.527040</td>\n",
              "      <td>-77.272841</td>\n",
              "      <td>0.800000</td>\n",
              "      <td>12.950000</td>\n",
              "      <td>1.550000</td>\n",
              "      <td>51.765000</td>\n",
              "      <td>103.330500</td>\n",
              "      <td>186287.549000</td>\n",
              "    </tr>\n",
              "    <tr>\n",
              "      <th>std</th>\n",
              "      <td>0.0</td>\n",
              "      <td>3.210181</td>\n",
              "      <td>1.399248</td>\n",
              "      <td>0.940325</td>\n",
              "      <td>0.447214</td>\n",
              "      <td>1.735406</td>\n",
              "      <td>0.918707</td>\n",
              "      <td>1.105013</td>\n",
              "      <td>19.489471</td>\n",
              "      <td>0.604805</td>\n",
              "      <td>106.581273</td>\n",
              "      <td>75.481729</td>\n",
              "      <td>128599.103879</td>\n",
              "    </tr>\n",
              "    <tr>\n",
              "      <th>min</th>\n",
              "      <td>2022.0</td>\n",
              "      <td>1.000000</td>\n",
              "      <td>1.000000</td>\n",
              "      <td>-1.000000</td>\n",
              "      <td>-1.000000</td>\n",
              "      <td>-12.136353</td>\n",
              "      <td>-80.654541</td>\n",
              "      <td>-1.000000</td>\n",
              "      <td>-1.000000</td>\n",
              "      <td>0.000000</td>\n",
              "      <td>0.000000</td>\n",
              "      <td>0.000000</td>\n",
              "      <td>44400.000000</td>\n",
              "    </tr>\n",
              "    <tr>\n",
              "      <th>25%</th>\n",
              "      <td>2022.0</td>\n",
              "      <td>1.000000</td>\n",
              "      <td>2.000000</td>\n",
              "      <td>-1.000000</td>\n",
              "      <td>-1.000000</td>\n",
              "      <td>-12.100001</td>\n",
              "      <td>-77.030632</td>\n",
              "      <td>0.750000</td>\n",
              "      <td>0.750000</td>\n",
              "      <td>1.000000</td>\n",
              "      <td>0.000000</td>\n",
              "      <td>63.080000</td>\n",
              "      <td>110230.000000</td>\n",
              "    </tr>\n",
              "    <tr>\n",
              "      <th>50%</th>\n",
              "      <td>2022.0</td>\n",
              "      <td>2.000000</td>\n",
              "      <td>2.500000</td>\n",
              "      <td>-1.000000</td>\n",
              "      <td>-1.000000</td>\n",
              "      <td>-12.070663</td>\n",
              "      <td>-77.006111</td>\n",
              "      <td>1.000000</td>\n",
              "      <td>1.500000</td>\n",
              "      <td>2.000000</td>\n",
              "      <td>0.000000</td>\n",
              "      <td>89.125000</td>\n",
              "      <td>137648.140000</td>\n",
              "    </tr>\n",
              "    <tr>\n",
              "      <th>75%</th>\n",
              "      <td>2022.0</td>\n",
              "      <td>3.000000</td>\n",
              "      <td>4.000000</td>\n",
              "      <td>1.000000</td>\n",
              "      <td>-1.000000</td>\n",
              "      <td>-12.027933</td>\n",
              "      <td>-76.962508</td>\n",
              "      <td>1.000000</td>\n",
              "      <td>18.750000</td>\n",
              "      <td>2.000000</td>\n",
              "      <td>30.000000</td>\n",
              "      <td>142.395000</td>\n",
              "      <td>255300.412500</td>\n",
              "    </tr>\n",
              "    <tr>\n",
              "      <th>max</th>\n",
              "      <td>2022.0</td>\n",
              "      <td>10.000000</td>\n",
              "      <td>5.000000</td>\n",
              "      <td>1.000000</td>\n",
              "      <td>1.000000</td>\n",
              "      <td>-5.185692</td>\n",
              "      <td>-76.833715</td>\n",
              "      <td>3.000000</td>\n",
              "      <td>56.000000</td>\n",
              "      <td>2.000000</td>\n",
              "      <td>410.000000</td>\n",
              "      <td>333.580000</td>\n",
              "      <td>604139.200000</td>\n",
              "    </tr>\n",
              "  </tbody>\n",
              "</table>\n",
              "</div>\n",
              "      <button class=\"colab-df-convert\" onclick=\"convertToInteractive('df-e499b5c3-7b98-4649-bed8-1835961d5b6b')\"\n",
              "              title=\"Convert this dataframe to an interactive table.\"\n",
              "              style=\"display:none;\">\n",
              "        \n",
              "  <svg xmlns=\"http://www.w3.org/2000/svg\" height=\"24px\"viewBox=\"0 0 24 24\"\n",
              "       width=\"24px\">\n",
              "    <path d=\"M0 0h24v24H0V0z\" fill=\"none\"/>\n",
              "    <path d=\"M18.56 5.44l.94 2.06.94-2.06 2.06-.94-2.06-.94-.94-2.06-.94 2.06-2.06.94zm-11 1L8.5 8.5l.94-2.06 2.06-.94-2.06-.94L8.5 2.5l-.94 2.06-2.06.94zm10 10l.94 2.06.94-2.06 2.06-.94-2.06-.94-.94-2.06-.94 2.06-2.06.94z\"/><path d=\"M17.41 7.96l-1.37-1.37c-.4-.4-.92-.59-1.43-.59-.52 0-1.04.2-1.43.59L10.3 9.45l-7.72 7.72c-.78.78-.78 2.05 0 2.83L4 21.41c.39.39.9.59 1.41.59.51 0 1.02-.2 1.41-.59l7.78-7.78 2.81-2.81c.8-.78.8-2.07 0-2.86zM5.41 20L4 18.59l7.72-7.72 1.47 1.35L5.41 20z\"/>\n",
              "  </svg>\n",
              "      </button>\n",
              "      \n",
              "  <style>\n",
              "    .colab-df-container {\n",
              "      display:flex;\n",
              "      flex-wrap:wrap;\n",
              "      gap: 12px;\n",
              "    }\n",
              "\n",
              "    .colab-df-convert {\n",
              "      background-color: #E8F0FE;\n",
              "      border: none;\n",
              "      border-radius: 50%;\n",
              "      cursor: pointer;\n",
              "      display: none;\n",
              "      fill: #1967D2;\n",
              "      height: 32px;\n",
              "      padding: 0 0 0 0;\n",
              "      width: 32px;\n",
              "    }\n",
              "\n",
              "    .colab-df-convert:hover {\n",
              "      background-color: #E2EBFA;\n",
              "      box-shadow: 0px 1px 2px rgba(60, 64, 67, 0.3), 0px 1px 3px 1px rgba(60, 64, 67, 0.15);\n",
              "      fill: #174EA6;\n",
              "    }\n",
              "\n",
              "    [theme=dark] .colab-df-convert {\n",
              "      background-color: #3B4455;\n",
              "      fill: #D2E3FC;\n",
              "    }\n",
              "\n",
              "    [theme=dark] .colab-df-convert:hover {\n",
              "      background-color: #434B5C;\n",
              "      box-shadow: 0px 1px 3px 1px rgba(0, 0, 0, 0.15);\n",
              "      filter: drop-shadow(0px 1px 2px rgba(0, 0, 0, 0.3));\n",
              "      fill: #FFFFFF;\n",
              "    }\n",
              "  </style>\n",
              "\n",
              "      <script>\n",
              "        const buttonEl =\n",
              "          document.querySelector('#df-e499b5c3-7b98-4649-bed8-1835961d5b6b button.colab-df-convert');\n",
              "        buttonEl.style.display =\n",
              "          google.colab.kernel.accessAllowed ? 'block' : 'none';\n",
              "\n",
              "        async function convertToInteractive(key) {\n",
              "          const element = document.querySelector('#df-e499b5c3-7b98-4649-bed8-1835961d5b6b');\n",
              "          const dataTable =\n",
              "            await google.colab.kernel.invokeFunction('convertToInteractive',\n",
              "                                                     [key], {});\n",
              "          if (!dataTable) return;\n",
              "\n",
              "          const docLinkHtml = 'Like what you see? Visit the ' +\n",
              "            '<a target=\"_blank\" href=https://colab.research.google.com/notebooks/data_table.ipynb>data table notebook</a>'\n",
              "            + ' to learn more about interactive tables.';\n",
              "          element.innerHTML = '';\n",
              "          dataTable['output_type'] = 'display_data';\n",
              "          await google.colab.output.renderOutput(dataTable, element);\n",
              "          const docLink = document.createElement('div');\n",
              "          docLink.innerHTML = docLinkHtml;\n",
              "          element.appendChild(docLink);\n",
              "        }\n",
              "      </script>\n",
              "    </div>\n",
              "  </div>\n",
              "  "
            ]
          },
          "metadata": {},
          "execution_count": 798
        }
      ],
      "source": [
        "#Valores descriptivos de dataset\n",
        "df.describe()"
      ]
    },
    {
      "cell_type": "code",
      "execution_count": 799,
      "metadata": {
        "id": "3s4YJYHB5JNu",
        "colab": {
          "base_uri": "https://localhost:8080/"
        },
        "outputId": "13dd13f8-cba5-4a39-a3df-54d59c287b80"
      },
      "outputs": [
        {
          "output_type": "execute_result",
          "data": {
            "text/plain": [
              "(20, 21)"
            ]
          },
          "metadata": {},
          "execution_count": 799
        }
      ],
      "source": [
        "#Numero de registros y valores a tomar en cuenta\n",
        "df.shape"
      ]
    },
    {
      "cell_type": "code",
      "execution_count": 800,
      "metadata": {
        "id": "NfA8uzia5aPY",
        "colab": {
          "base_uri": "https://localhost:8080/"
        },
        "outputId": "d0686128-7568-4c9c-ad86-cf41d5c7f3c0"
      },
      "outputs": [
        {
          "output_type": "execute_result",
          "data": {
            "text/plain": [
              "Fecha entrega del Informe           int64\n",
              "Tipo de via                         int64\n",
              "Piso                                int64\n",
              "Departamento                       object\n",
              "Provincia                          object\n",
              "Distrito                           object\n",
              "Numero de estacionamiento           int64\n",
              "Depositos                           int64\n",
              "Latitud                           float64\n",
              "Longitud                          float64\n",
              "Categoria del bien                 object\n",
              "Posicion                           object\n",
              "Numero de frentes                   int64\n",
              "Edad                                int64\n",
              "Elevador                            int64\n",
              "Estado de conservacion             object\n",
              "Metodo Representado                object\n",
              "Moneda principal para calculos     object\n",
              "Area Terreno                      float64\n",
              "Area Construccion                 float64\n",
              "Valor comercial                   float64\n",
              "dtype: object"
            ]
          },
          "metadata": {},
          "execution_count": 800
        }
      ],
      "source": [
        "df.dtypes"
      ]
    },
    {
      "cell_type": "markdown",
      "metadata": {
        "id": "cV1f9_C8-EjQ"
      },
      "source": [
        "## Conteo de valores \n",
        "Numero de itereaciones por cada valor distinto en variables"
      ]
    },
    {
      "cell_type": "code",
      "execution_count": 801,
      "metadata": {
        "id": "6OOn0nx_6ptd",
        "colab": {
          "base_uri": "https://localhost:8080/"
        },
        "outputId": "aaac29d9-4dd3-4db7-fe5d-6e20227e9be7"
      },
      "outputs": [
        {
          "output_type": "execute_result",
          "data": {
            "text/plain": [
              "1     9\n",
              "2     4\n",
              "10    3\n",
              "3     3\n",
              "6     1\n",
              "Name: Tipo de via, dtype: int64"
            ]
          },
          "metadata": {},
          "execution_count": 801
        }
      ],
      "source": [
        "df['Tipo de via'].value_counts()"
      ]
    },
    {
      "cell_type": "code",
      "execution_count": 802,
      "metadata": {
        "id": "lnsTcPX797Lp",
        "colab": {
          "base_uri": "https://localhost:8080/"
        },
        "outputId": "97c0147a-3373-46da-b8c3-03e0badb7db9"
      },
      "outputs": [
        {
          "output_type": "execute_result",
          "data": {
            "text/plain": [
              "2    6\n",
              "1    4\n",
              "4    4\n",
              "5    3\n",
              "3    3\n",
              "Name: Piso, dtype: int64"
            ]
          },
          "metadata": {},
          "execution_count": 802
        }
      ],
      "source": [
        "df['Piso'].value_counts()"
      ]
    },
    {
      "cell_type": "code",
      "execution_count": 803,
      "metadata": {
        "id": "PbDchqbY98qf",
        "colab": {
          "base_uri": "https://localhost:8080/"
        },
        "outputId": "8f1e74d9-4328-4ff8-f172-7ef67ccff6d4"
      },
      "outputs": [
        {
          "output_type": "execute_result",
          "data": {
            "text/plain": [
              "Lima           18\n",
              "La Libertad     1\n",
              "Piura           1\n",
              "Name: Departamento, dtype: int64"
            ]
          },
          "metadata": {},
          "execution_count": 803
        }
      ],
      "source": [
        "df['Departamento'].value_counts()"
      ]
    },
    {
      "cell_type": "code",
      "execution_count": 804,
      "metadata": {
        "id": "YNVYjiUv9984",
        "colab": {
          "base_uri": "https://localhost:8080/"
        },
        "outputId": "adafaa67-7e83-4eb4-c5e9-26bd391eb56d"
      },
      "outputs": [
        {
          "output_type": "execute_result",
          "data": {
            "text/plain": [
              "Bueno        12\n",
              "Muy bueno     6\n",
              "Regular       1\n",
              "Malo          1\n",
              "Name: Estado de conservacion, dtype: int64"
            ]
          },
          "metadata": {},
          "execution_count": 804
        }
      ],
      "source": [
        "df['Estado de conservacion'].value_counts()"
      ]
    },
    {
      "cell_type": "code",
      "execution_count": 805,
      "metadata": {
        "id": "noYnJyTN-ARI",
        "colab": {
          "base_uri": "https://localhost:8080/"
        },
        "outputId": "e4fdc371-159d-45a2-ce52-ed2022b230f3"
      },
      "outputs": [
        {
          "output_type": "execute_result",
          "data": {
            "text/plain": [
              "Lima        18\n",
              "Trujillo     1\n",
              "Piura        1\n",
              "Name: Provincia, dtype: int64"
            ]
          },
          "metadata": {},
          "execution_count": 805
        }
      ],
      "source": [
        "df['Provincia'].value_counts()"
      ]
    },
    {
      "cell_type": "code",
      "execution_count": 806,
      "metadata": {
        "id": "I45vcC5J-Br-",
        "colab": {
          "base_uri": "https://localhost:8080/"
        },
        "outputId": "6bc71061-406c-4ecd-95ae-1ed7f1606cf7"
      },
      "outputs": [
        {
          "output_type": "execute_result",
          "data": {
            "text/plain": [
              "Departamento            13\n",
              "Vivienda Unifamiliar     4\n",
              "Local Comercial          2\n",
              "Terreno Urbano           1\n",
              "Name: Categoria del bien, dtype: int64"
            ]
          },
          "metadata": {},
          "execution_count": 806
        }
      ],
      "source": [
        "df['Categoria del bien'].value_counts()"
      ]
    },
    {
      "cell_type": "code",
      "execution_count": 807,
      "metadata": {
        "id": "0WVkznLO-C-A",
        "colab": {
          "base_uri": "https://localhost:8080/"
        },
        "outputId": "06aeb398-8272-4aaa-d1ca-f565ffa13477"
      },
      "outputs": [
        {
          "output_type": "execute_result",
          "data": {
            "text/plain": [
              "Comparacion de mercado (directo)    15\n",
              "Costos o reposicion (directo)        5\n",
              "Name: Metodo Representado, dtype: int64"
            ]
          },
          "metadata": {},
          "execution_count": 807
        }
      ],
      "source": [
        "df['Metodo Representado'].value_counts()"
      ]
    },
    {
      "cell_type": "code",
      "execution_count": 808,
      "metadata": {
        "id": "0_Gcb8ULQH7f",
        "colab": {
          "base_uri": "https://localhost:8080/"
        },
        "outputId": "732b2e68-0bc0-4795-a9d9-23c5e2d785ad"
      },
      "outputs": [
        {
          "output_type": "execute_result",
          "data": {
            "text/plain": [
              "-12.120143    1\n",
              "-12.022509    1\n",
              "-12.062116    1\n",
              "-12.064683    1\n",
              "-12.038434    1\n",
              "-12.112711    1\n",
              "-12.090449    1\n",
              "-8.111449     1\n",
              "-12.052870    1\n",
              "-12.136353    1\n",
              "-12.119652    1\n",
              "-5.185692     1\n",
              "-12.076643    1\n",
              "-11.899533    1\n",
              "-12.029741    1\n",
              "-12.095764    1\n",
              "-12.015309    1\n",
              "-12.095758    1\n",
              "-12.089686    1\n",
              "-12.121306    1\n",
              "Name: Latitud, dtype: int64"
            ]
          },
          "metadata": {},
          "execution_count": 808
        }
      ],
      "source": [
        "df['Latitud'].value_counts()"
      ]
    },
    {
      "cell_type": "code",
      "execution_count": 809,
      "metadata": {
        "id": "QjxlTsXoQrDb",
        "colab": {
          "base_uri": "https://localhost:8080/"
        },
        "outputId": "38e6c723-1fa7-4337-9373-87a4fc60a5ea"
      },
      "outputs": [
        {
          "output_type": "execute_result",
          "data": {
            "text/plain": [
              "-77.023960    1\n",
              "-76.833715    1\n",
              "-76.949711    1\n",
              "-77.013660    1\n",
              "-76.957028    1\n",
              "-76.964334    1\n",
              "-77.018342    1\n",
              "-79.026046    1\n",
              "-77.006517    1\n",
              "-77.002325    1\n",
              "-77.005706    1\n",
              "-80.654541    1\n",
              "-77.050648    1\n",
              "-77.057616    1\n",
              "-76.945582    1\n",
              "-77.023360    1\n",
              "-76.874213    1\n",
              "-76.981323    1\n",
              "-77.068454    1\n",
              "-76.999737    1\n",
              "Name: Longitud, dtype: int64"
            ]
          },
          "metadata": {},
          "execution_count": 809
        }
      ],
      "source": [
        "df['Longitud'].value_counts()"
      ]
    },
    {
      "cell_type": "markdown",
      "metadata": {
        "id": "54VNzzNX_UBf"
      },
      "source": [
        "#Direcciones especificas\n",
        "\n",
        "Se pretende utilizar la localización para agregar peso y valor a la funcion de calculo"
      ]
    },
    {
      "cell_type": "code",
      "execution_count": 810,
      "metadata": {
        "id": "WOS6MG67kSa-"
      },
      "outputs": [],
      "source": [
        "directions = []\n",
        "geolocalizador = Nominatim(user_agent=\"GetLoc\");\n",
        "#Se recorren todos los valores para obtener su direccion\n",
        "for i in range(len(df)):\n",
        "    direction = geolocalizador.reverse(str(df.at[i,\"Latitud\"]) + ',' + str(df.at[i,\"Longitud\"]))\n",
        "\n",
        "\n",
        "\n",
        "    directions.append(direction) #Se agrega a la lista\n",
        "\n",
        "    "
      ]
    },
    {
      "cell_type": "code",
      "execution_count": 811,
      "metadata": {
        "id": "TJtJVx0G_oyf",
        "colab": {
          "base_uri": "https://localhost:8080/"
        },
        "outputId": "52dced6f-ebc0-49c6-ce7c-2fbb22fac7d7"
      },
      "outputs": [
        {
          "output_type": "stream",
          "name": "stdout",
          "text": [
            "[['Alimentos Orgánicos, Avenida Ricardo Palma, Miraflores, Lima, Lima Metropolitana, Lima, 15047, Perú'\n",
            "  (-12.1200224, -77.02411169999999)]\n",
            " ['Cruz de Mayo, Huaycán, Ate, Lima, Lima Metropolitana, Lima, 15483, Perú'\n",
            "  (-12.022988868528829, -76.83358761224656)]\n",
            " ['Institución Educativa Miguel Grau, 1025, Jirón Libertad, Magdalena, Magdalena del Mar, Lima, Lima Metropolitana, Lima, 15086, Perú'\n",
            "  (-12.089316, -77.06880828321442)]\n",
            " ['Jirón 27, San Borja, Lima, Lima Metropolitana, Lima, 15023, Perú'\n",
            "  (-12.095700479837816, -76.98133061268804)]\n",
            " ['San Juan, Santa Clara, Ate, Lima, Lima Metropolitana, Lima, 15487, Perú'\n",
            "  (-12.015178275510912, -76.87424669152152)]\n",
            " ['File Security, 227, Calle German Schreiber, Centro financiero de San Isidro, San Isidro, Lima, Lima Metropolitana, Lima, 15000, Perú'\n",
            "  (-12.0958146, -77.0233109)]\n",
            " ['Santa Anita, Lima, Lima Metropolitana, Lima, 15009, Perú'\n",
            "  (-12.029485310302201, -76.94566781602553)]\n",
            " ['Comas, Lima, Lima Metropolitana, Lima, 15316, Perú'\n",
            "  (-11.89943214633956, -77.05772291425961)]\n",
            " ['La Choza Náutica, Avenida Horacio Urteaga, Jesús María, Lima, Lima Metropolitana, Lima, 15081, Perú'\n",
            "  (-12.0763076, -77.05052)]\n",
            " ['Piura, 20009, Perú' (-5.185881314086504, -80.65459956823354)]\n",
            " ['Calle La Almendra, Los Sauces, Surquillo, Lima, Lima Metropolitana, Lima, 15038, Perú'\n",
            "  (-12.119617444754901, -77.00565520360932)]\n",
            " ['Avenida Los Vicus, La Capullana, Santiago de Surco, Lima, Lima Metropolitana, Lima, 15038, Perú'\n",
            "  (-12.13633990242076, -77.00233820519033)]\n",
            " ['Calle Unión, San Cayetano, El Agustino, Lima, Lima Metropolitana, Lima, 15004, Perú'\n",
            "  (-12.052853817525994, -77.00656453113139)]\n",
            " ['Casa de los Condes de Aranda, Jirón Bolívar, Urbanización El Recreo, Trujillo, La Libertad, 13006, Perú'\n",
            "  (-8.1113667, -79.0256892)]\n",
            " ['Clinica Ricardo Palma, 1066, Avenida Javier Prado Este, Centro financiero de San Isidro, San Isidro, Lima, Lima Metropolitana, Lima, 15036, Perú'\n",
            "  (-12.0907117, -77.01830143287725)]\n",
            " ['Calle Las Laderas, Residencial Los Alamos de Monterrico, Santiago de Surco, Lima, Lima Metropolitana, Lima, 15023, Perú'\n",
            "  (-12.112618583152104, -76.96428942273076)]\n",
            " ['Los Mangos, Santa Anita, Lima, Lima Metropolitana, Lima, 15009, Perú'\n",
            "  (-12.038418336676582, -76.957035322517)]\n",
            " ['Emporio Comercial de Gamarra, Jirón Bélgica, San German, La Victoria, Lima, Lima Metropolitana, Lima, 15018, Perú'\n",
            "  (-12.06673285, -77.0148622341489)]\n",
            " ['Calle Mariano Melgar, La Molina, Lima, Lima Metropolitana, Lima, 15012, Perú'\n",
            "  (-12.062103272788567, -76.94971478989095)]\n",
            " ['Calle El Eucalipto, Los Sauces, Surquillo, Lima, Lima Metropolitana, Lima, 15038, Perú'\n",
            "  (-12.121285689341514, -76.99959938554761)]]\n"
          ]
        },
        {
          "output_type": "stream",
          "name": "stderr",
          "text": [
            "/usr/local/lib/python3.7/dist-packages/ipykernel_launcher.py:2: VisibleDeprecationWarning: Creating an ndarray from ragged nested sequences (which is a list-or-tuple of lists-or-tuples-or ndarrays with different lengths or shapes) is deprecated. If you meant to do this, you must specify 'dtype=object' when creating the ndarray.\n",
            "  \n"
          ]
        }
      ],
      "source": [
        "#Se muestra la lista de direcciones\n",
        "arr_directions = np.array(directions)\n",
        "print(arr_directions)"
      ]
    },
    {
      "cell_type": "markdown",
      "metadata": {
        "id": "g-b-T_LpAkYe"
      },
      "source": [
        "#Rango de datos"
      ]
    },
    {
      "cell_type": "code",
      "execution_count": 812,
      "metadata": {
        "id": "sJNWOqAMswU_",
        "colab": {
          "base_uri": "https://localhost:8080/",
          "height": 0
        },
        "outputId": "117886f9-94e8-4021-db12-012d3a6508df"
      },
      "outputs": [
        {
          "output_type": "execute_result",
          "data": {
            "text/plain": [
              "array([[<matplotlib.axes._subplots.AxesSubplot object at 0x7f28d741bfd0>,\n",
              "        <matplotlib.axes._subplots.AxesSubplot object at 0x7f28d73b1610>,\n",
              "        <matplotlib.axes._subplots.AxesSubplot object at 0x7f28d743b0d0>,\n",
              "        <matplotlib.axes._subplots.AxesSubplot object at 0x7f28d7389e90>],\n",
              "       [<matplotlib.axes._subplots.AxesSubplot object at 0x7f28d734a3d0>,\n",
              "        <matplotlib.axes._subplots.AxesSubplot object at 0x7f28d72fd8d0>,\n",
              "        <matplotlib.axes._subplots.AxesSubplot object at 0x7f28d72b3e50>,\n",
              "        <matplotlib.axes._subplots.AxesSubplot object at 0x7f28d72762d0>],\n",
              "       [<matplotlib.axes._subplots.AxesSubplot object at 0x7f28d7276310>,\n",
              "        <matplotlib.axes._subplots.AxesSubplot object at 0x7f28d722c910>,\n",
              "        <matplotlib.axes._subplots.AxesSubplot object at 0x7f28d71a8250>,\n",
              "        <matplotlib.axes._subplots.AxesSubplot object at 0x7f28d715e750>],\n",
              "       [<matplotlib.axes._subplots.AxesSubplot object at 0x7f28d7194c50>,\n",
              "        <matplotlib.axes._subplots.AxesSubplot object at 0x7f28d714afd0>,\n",
              "        <matplotlib.axes._subplots.AxesSubplot object at 0x7f28d710d510>,\n",
              "        <matplotlib.axes._subplots.AxesSubplot object at 0x7f28d70c4a10>]],\n",
              "      dtype=object)"
            ]
          },
          "metadata": {},
          "execution_count": 812
        },
        {
          "output_type": "display_data",
          "data": {
            "text/plain": [
              "<Figure size 1440x1080 with 16 Axes>"
            ],
            "image/png": "[encoded data removed]"
          },
          "metadata": {
            "needs_background": "light"
          }
        }
      ],
      "source": [
        "df.hist(bins=50, figsize=(20,15))"
      ]
    },
    {
      "cell_type": "markdown",
      "metadata": {
        "id": "wIa-rCrnTXMR"
      },
      "source": [
        "# Mapeo de las propiedades (no cul, sin mapa, no jala chido)"
      ]
    },
    {
      "cell_type": "code",
      "execution_count": 813,
      "metadata": {
        "id": "wgL064XgTR_y",
        "colab": {
          "base_uri": "https://localhost:8080/",
          "height": 0
        },
        "outputId": "49420030-5ef6-46ce-d9e2-9fd78d1813e8"
      },
      "outputs": [
        {
          "output_type": "execute_result",
          "data": {
            "text/plain": [
              "<matplotlib.axes._subplots.AxesSubplot at 0x7f28d8eb6bd0>"
            ]
          },
          "metadata": {},
          "execution_count": 813
        },
        {
          "output_type": "display_data",
          "data": {
            "text/plain": [
              "<Figure size 720x504 with 1 Axes>"
            ],
            "image/png": "[encoded data removed]"
          },
          "metadata": {
            "needs_background": "light"
          }
        }
      ],
      "source": [
        "#grafica de dispersion en X, Y\n",
        "df.plot(kind=\"scatter\", x=\"Latitud\", y=\"Longitud\", figsize=(10,7))"
      ]
    },
    {
      "cell_type": "code",
      "execution_count": 814,
      "metadata": {
        "id": "UW_ZKcyPUfUL",
        "colab": {
          "base_uri": "https://localhost:8080/",
          "height": 0
        },
        "outputId": "876d25db-cd43-4296-d9c5-fce69e4838db"
      },
      "outputs": [
        {
          "output_type": "execute_result",
          "data": {
            "text/plain": [
              "<matplotlib.axes._subplots.AxesSubplot at 0x7f28d6aea1d0>"
            ]
          },
          "metadata": {},
          "execution_count": 814
        },
        {
          "output_type": "display_data",
          "data": {
            "text/plain": [
              "<Figure size 720x504 with 1 Axes>"
            ],
            "image/png": "[encoded data removed]"
          },
          "metadata": {
            "needs_background": "light"
          }
        }
      ],
      "source": [
        "#grafica de dispersion en X, Y con alfa para ver donde hay mayor densidad\n",
        "df.plot(kind=\"scatter\", x=\"Latitud\", alpha=0.1, y=\"Longitud\", figsize=(10,7))"
      ]
    },
    {
      "cell_type": "code",
      "execution_count": 815,
      "metadata": {
        "id": "8is69zOjU8pl"
      },
      "outputs": [],
      "source": [
        "#cambiamos el tamaño del punto y agregamos una escala de medicion\n",
        "#s tamaño de cada punto\n",
        "#c etiqueta\n",
        "\n",
        "\n",
        "#df.plot(kind=\"scatter\", x=\"Latitud\", alpha=0.1, y=\"Longitud\", figsize=(10,7),\n",
        " #       s=df['Valor comercial'], c='median_house_value')"
      ]
    },
    {
      "cell_type": "markdown",
      "metadata": {
        "id": "VkRrvgyNuOQQ"
      },
      "source": [
        "# Mapeo con follium"
      ]
    },
    {
      "cell_type": "code",
      "execution_count": 816,
      "metadata": {
        "id": "XjAIQ2ABuJQy",
        "colab": {
          "base_uri": "https://localhost:8080/",
          "height": 0
        },
        "outputId": "da8e6205-821b-4780-c810-6eb540d7a680"
      },
      "outputs": [
        {
          "output_type": "execute_result",
          "data": {
            "text/plain": [
              "<folium.folium.Map at 0x7f28d655e8d0>"
            ],
            "text/html": [
              "<div style=\"width:100%;\"><div style=\"position:relative;width:100%;height:0;padding-bottom:60%;\"><span style=\"color:#565656\">Make this Notebook Trusted to load map: File -> Trust Notebook</span><iframe srcdoc=\"&lt;!DOCTYPE html&gt;\n",
              "&lt;head&gt;    \n",
              "    &lt;meta http-equiv=&quot;content-type&quot; content=&quot;text/html; charset=UTF-8&quot; /&gt;\n",
              "    \n",
              "        &lt;script&gt;\n",
              "            L_NO_TOUCH = false;\n",
              "            L_DISABLE_3D = false;\n",
              "        &lt;/script&gt;\n",
              "    \n",
              "    &lt;style&gt;html, body {width: 100%;height: 100%;margin: 0;padding: 0;}&lt;/style&gt;\n",
              "    &lt;style&gt;#map {position:absolute;top:0;bottom:0;right:0;left:0;}&lt;/style&gt;\n",
              "    &lt;script src=&quot;https://cdn.jsdelivr.net/npm/leaflet@1.6.0/dist/leaflet.js&quot;&gt;&lt;/script&gt;\n",
              "    &lt;script src=&quot;https://code.jquery.com/jquery-1.12.4.min.js&quot;&gt;&lt;/script&gt;\n",
              "    &lt;script src=&quot;https://maxcdn.bootstrapcdn.com/bootstrap/3.2.0/js/bootstrap.min.js&quot;&gt;&lt;/script&gt;\n",
              "    &lt;script src=&quot;https://cdnjs.cloudflare.com/ajax/libs/Leaflet.awesome-markers/2.0.2/leaflet.awesome-markers.js&quot;&gt;&lt;/script&gt;\n",
              "    &lt;link rel=&quot;stylesheet&quot; href=&quot;https://cdn.jsdelivr.net/npm/leaflet@1.6.0/dist/leaflet.css&quot;/&gt;\n",
              "    &lt;link rel=&quot;stylesheet&quot; href=&quot;https://maxcdn.bootstrapcdn.com/bootstrap/3.2.0/css/bootstrap.min.css&quot;/&gt;\n",
              "    &lt;link rel=&quot;stylesheet&quot; href=&quot;https://maxcdn.bootstrapcdn.com/bootstrap/3.2.0/css/bootstrap-theme.min.css&quot;/&gt;\n",
              "    &lt;link rel=&quot;stylesheet&quot; href=&quot;https://maxcdn.bootstrapcdn.com/font-awesome/4.6.3/css/font-awesome.min.css&quot;/&gt;\n",
              "    &lt;link rel=&quot;stylesheet&quot; href=&quot;https://cdnjs.cloudflare.com/ajax/libs/Leaflet.awesome-markers/2.0.2/leaflet.awesome-markers.css&quot;/&gt;\n",
              "    &lt;link rel=&quot;stylesheet&quot; href=&quot;https://cdn.jsdelivr.net/gh/python-visualization/folium/folium/templates/leaflet.awesome.rotate.min.css&quot;/&gt;\n",
              "    \n",
              "            &lt;meta name=&quot;viewport&quot; content=&quot;width=device-width,\n",
              "                initial-scale=1.0, maximum-scale=1.0, user-scalable=no&quot; /&gt;\n",
              "            &lt;style&gt;\n",
              "                #map_b52564c85ab1cc3d593ecd96cec54ecb {\n",
              "                    position: relative;\n",
              "                    width: 100.0%;\n",
              "                    height: 100.0%;\n",
              "                    left: 0.0%;\n",
              "                    top: 0.0%;\n",
              "                }\n",
              "            &lt;/style&gt;\n",
              "        \n",
              "&lt;/head&gt;\n",
              "&lt;body&gt;    \n",
              "    \n",
              "            &lt;div class=&quot;folium-map&quot; id=&quot;map_b52564c85ab1cc3d593ecd96cec54ecb&quot; &gt;&lt;/div&gt;\n",
              "        \n",
              "&lt;/body&gt;\n",
              "&lt;script&gt;    \n",
              "    \n",
              "            var map_b52564c85ab1cc3d593ecd96cec54ecb = L.map(\n",
              "                &quot;map_b52564c85ab1cc3d593ecd96cec54ecb&quot;,\n",
              "                {\n",
              "                    center: [-12.057158, -77.048902],\n",
              "                    crs: L.CRS.EPSG3857,\n",
              "                    zoom: 6,\n",
              "                    zoomControl: true,\n",
              "                    preferCanvas: false,\n",
              "                }\n",
              "            );\n",
              "\n",
              "            \n",
              "\n",
              "        \n",
              "    \n",
              "            var tile_layer_73427f04f48be8490483539d8d135c34 = L.tileLayer(\n",
              "                &quot;https://{s}.tile.openstreetmap.org/{z}/{x}/{y}.png&quot;,\n",
              "                {&quot;attribution&quot;: &quot;Data by \\u0026copy; \\u003ca href=\\&quot;http://openstreetmap.org\\&quot;\\u003eOpenStreetMap\\u003c/a\\u003e, under \\u003ca href=\\&quot;http://www.openstreetmap.org/copyright\\&quot;\\u003eODbL\\u003c/a\\u003e.&quot;, &quot;detectRetina&quot;: false, &quot;maxNativeZoom&quot;: 18, &quot;maxZoom&quot;: 18, &quot;minZoom&quot;: 0, &quot;noWrap&quot;: false, &quot;opacity&quot;: 1, &quot;subdomains&quot;: &quot;abc&quot;, &quot;tms&quot;: false}\n",
              "            ).addTo(map_b52564c85ab1cc3d593ecd96cec54ecb);\n",
              "        \n",
              "&lt;/script&gt;\" style=\"position:absolute;width:100%;height:100%;left:0;top:0;border:none !important;\" allowfullscreen webkitallowfullscreen mozallowfullscreen></iframe></div></div>"
            ]
          },
          "metadata": {},
          "execution_count": 816
        }
      ],
      "source": [
        "import folium\n",
        "#x=\"Latitud (Decimal)\", y=\"Longitud (Decimal)\"\n",
        "mapa=folium.Map(location=[-12.057158, -77.048902], zoom_start=6 )\n",
        "mapa"
      ]
    },
    {
      "cell_type": "code",
      "execution_count": 817,
      "metadata": {
        "id": "6rNWaZK1wPEa",
        "colab": {
          "base_uri": "https://localhost:8080/"
        },
        "outputId": "4187120e-4e81-4a3b-88f5-c06e478821a4"
      },
      "outputs": [
        {
          "output_type": "execute_result",
          "data": {
            "text/plain": [
              "array([[-12.1201435, -77.0239598],\n",
              "       [-12.0225094, -76.833715 ],\n",
              "       [-12.0896856, -77.0684536],\n",
              "       [-12.0957584, -76.9813229],\n",
              "       [-12.0153092, -76.874213 ],\n",
              "       [-12.0957639, -77.02336  ],\n",
              "       [-12.0297405, -76.9455815],\n",
              "       [-11.899533 , -77.0576157],\n",
              "       [-12.0766427, -77.0506477],\n",
              "       [ -5.1856924, -80.6545414],\n",
              "       [-12.1196524, -77.0057059],\n",
              "       [-12.1363533, -77.0023247],\n",
              "       [-12.05287  , -77.006517 ],\n",
              "       [ -8.1114492, -79.0260459],\n",
              "       [-12.090449 , -77.018342 ],\n",
              "       [-12.112711 , -76.9643341],\n",
              "       [-12.0384343, -76.9570281],\n",
              "       [-12.064683 , -77.01366  ],\n",
              "       [-12.0621164, -76.9497108],\n",
              "       [-12.1213057, -76.9997372]])"
            ]
          },
          "metadata": {},
          "execution_count": 817
        }
      ],
      "source": [
        "distritos= df[ ['Latitud','Longitud']].to_numpy()\n",
        "distritos"
      ]
    },
    {
      "cell_type": "code",
      "execution_count": 818,
      "metadata": {
        "id": "Bu5lUvZwwt5k",
        "colab": {
          "base_uri": "https://localhost:8080/",
          "height": 0
        },
        "outputId": "0c8d6e2a-04d3-48e4-dbf1-796b42687da1"
      },
      "outputs": [
        {
          "output_type": "stream",
          "name": "stderr",
          "text": [
            "/usr/local/lib/python3.7/dist-packages/ipykernel_launcher.py:4: UserWarning: The `max_val` parameter is no longer necessary. The largest intensity is calculated automatically.\n",
            "  after removing the cwd from sys.path.\n"
          ]
        },
        {
          "output_type": "execute_result",
          "data": {
            "text/plain": [
              "<folium.folium.Map at 0x7f28d655e8d0>"
            ],
            "text/html": [
              "<div style=\"width:100%;\"><div style=\"position:relative;width:100%;height:0;padding-bottom:60%;\"><span style=\"color:#565656\">Make this Notebook Trusted to load map: File -> Trust Notebook</span><iframe srcdoc=\"&lt;!DOCTYPE html&gt;\n",
              "&lt;head&gt;    \n",
              "    &lt;meta http-equiv=&quot;content-type&quot; content=&quot;text/html; charset=UTF-8&quot; /&gt;\n",
              "    \n",
              "        &lt;script&gt;\n",
              "            L_NO_TOUCH = false;\n",
              "            L_DISABLE_3D = false;\n",
              "        &lt;/script&gt;\n",
              "    \n",
              "    &lt;style&gt;html, body {width: 100%;height: 100%;margin: 0;padding: 0;}&lt;/style&gt;\n",
              "    &lt;style&gt;#map {position:absolute;top:0;bottom:0;right:0;left:0;}&lt;/style&gt;\n",
              "    &lt;script src=&quot;https://cdn.jsdelivr.net/npm/leaflet@1.6.0/dist/leaflet.js&quot;&gt;&lt;/script&gt;\n",
              "    &lt;script src=&quot;https://code.jquery.com/jquery-1.12.4.min.js&quot;&gt;&lt;/script&gt;\n",
              "    &lt;script src=&quot;https://maxcdn.bootstrapcdn.com/bootstrap/3.2.0/js/bootstrap.min.js&quot;&gt;&lt;/script&gt;\n",
              "    &lt;script src=&quot;https://cdnjs.cloudflare.com/ajax/libs/Leaflet.awesome-markers/2.0.2/leaflet.awesome-markers.js&quot;&gt;&lt;/script&gt;\n",
              "    &lt;link rel=&quot;stylesheet&quot; href=&quot;https://cdn.jsdelivr.net/npm/leaflet@1.6.0/dist/leaflet.css&quot;/&gt;\n",
              "    &lt;link rel=&quot;stylesheet&quot; href=&quot;https://maxcdn.bootstrapcdn.com/bootstrap/3.2.0/css/bootstrap.min.css&quot;/&gt;\n",
              "    &lt;link rel=&quot;stylesheet&quot; href=&quot;https://maxcdn.bootstrapcdn.com/bootstrap/3.2.0/css/bootstrap-theme.min.css&quot;/&gt;\n",
              "    &lt;link rel=&quot;stylesheet&quot; href=&quot;https://maxcdn.bootstrapcdn.com/font-awesome/4.6.3/css/font-awesome.min.css&quot;/&gt;\n",
              "    &lt;link rel=&quot;stylesheet&quot; href=&quot;https://cdnjs.cloudflare.com/ajax/libs/Leaflet.awesome-markers/2.0.2/leaflet.awesome-markers.css&quot;/&gt;\n",
              "    &lt;link rel=&quot;stylesheet&quot; href=&quot;https://cdn.jsdelivr.net/gh/python-visualization/folium/folium/templates/leaflet.awesome.rotate.min.css&quot;/&gt;\n",
              "    \n",
              "            &lt;meta name=&quot;viewport&quot; content=&quot;width=device-width,\n",
              "                initial-scale=1.0, maximum-scale=1.0, user-scalable=no&quot; /&gt;\n",
              "            &lt;style&gt;\n",
              "                #map_b52564c85ab1cc3d593ecd96cec54ecb {\n",
              "                    position: relative;\n",
              "                    width: 100.0%;\n",
              "                    height: 100.0%;\n",
              "                    left: 0.0%;\n",
              "                    top: 0.0%;\n",
              "                }\n",
              "            &lt;/style&gt;\n",
              "        \n",
              "    &lt;script src=&quot;https://cdn.jsdelivr.net/gh/python-visualization/folium@main/folium/templates/leaflet_heat.min.js&quot;&gt;&lt;/script&gt;\n",
              "&lt;/head&gt;\n",
              "&lt;body&gt;    \n",
              "    \n",
              "            &lt;div class=&quot;folium-map&quot; id=&quot;map_b52564c85ab1cc3d593ecd96cec54ecb&quot; &gt;&lt;/div&gt;\n",
              "        \n",
              "&lt;/body&gt;\n",
              "&lt;script&gt;    \n",
              "    \n",
              "            var map_b52564c85ab1cc3d593ecd96cec54ecb = L.map(\n",
              "                &quot;map_b52564c85ab1cc3d593ecd96cec54ecb&quot;,\n",
              "                {\n",
              "                    center: [-12.057158, -77.048902],\n",
              "                    crs: L.CRS.EPSG3857,\n",
              "                    zoom: 6,\n",
              "                    zoomControl: true,\n",
              "                    preferCanvas: false,\n",
              "                }\n",
              "            );\n",
              "\n",
              "            \n",
              "\n",
              "        \n",
              "    \n",
              "            var tile_layer_73427f04f48be8490483539d8d135c34 = L.tileLayer(\n",
              "                &quot;https://{s}.tile.openstreetmap.org/{z}/{x}/{y}.png&quot;,\n",
              "                {&quot;attribution&quot;: &quot;Data by \\u0026copy; \\u003ca href=\\&quot;http://openstreetmap.org\\&quot;\\u003eOpenStreetMap\\u003c/a\\u003e, under \\u003ca href=\\&quot;http://www.openstreetmap.org/copyright\\&quot;\\u003eODbL\\u003c/a\\u003e.&quot;, &quot;detectRetina&quot;: false, &quot;maxNativeZoom&quot;: 18, &quot;maxZoom&quot;: 18, &quot;minZoom&quot;: 0, &quot;noWrap&quot;: false, &quot;opacity&quot;: 1, &quot;subdomains&quot;: &quot;abc&quot;, &quot;tms&quot;: false}\n",
              "            ).addTo(map_b52564c85ab1cc3d593ecd96cec54ecb);\n",
              "        \n",
              "    \n",
              "            var heat_map_0ca5544f0b0beff1765c5fc68b02f555 = L.heatLayer(\n",
              "                [[-12.1201435, -77.0239598], [-12.0225094, -76.833715], [-12.0896856, -77.0684536], [-12.0957584, -76.9813229], [-12.0153092, -76.874213], [-12.0957639, -77.02336], [-12.0297405, -76.9455815], [-11.899533, -77.0576157], [-12.0766427, -77.0506477], [-5.1856924, -80.6545414], [-12.1196524, -77.0057059], [-12.1363533, -77.0023247], [-12.05287, -77.006517], [-8.1114492, -79.0260459], [-12.090449, -77.018342], [-12.112711, -76.9643341], [-12.0384343, -76.9570281], [-12.064683, -77.01366], [-12.0621164, -76.9497108], [-12.1213057, -76.9997372]],\n",
              "                {&quot;blur&quot;: 15, &quot;maxZoom&quot;: 18, &quot;minOpacity&quot;: 0.4, &quot;radius&quot;: 15}\n",
              "            ).addTo(map_b52564c85ab1cc3d593ecd96cec54ecb);\n",
              "        \n",
              "&lt;/script&gt;\" style=\"position:absolute;width:100%;height:100%;left:0;top:0;border:none !important;\" allowfullscreen webkitallowfullscreen mozallowfullscreen></iframe></div></div>"
            ]
          },
          "metadata": {},
          "execution_count": 818
        }
      ],
      "source": [
        "from folium import plugins\n",
        "from folium.plugins import HeatMap\n",
        "\n",
        "HeatMap (distritos,radius=15, max_val=0.1, min_opacity=0.4).add_to(mapa)\n",
        "mapa"
      ]
    },
    {
      "cell_type": "markdown",
      "metadata": {
        "id": "f8Avo3kPzX28"
      },
      "source": [
        "# Correlacion de variables"
      ]
    },
    {
      "cell_type": "code",
      "execution_count": 819,
      "metadata": {
        "id": "1NofJttpzVvC",
        "colab": {
          "base_uri": "https://localhost:8080/",
          "height": 0
        },
        "outputId": "a71d1766-4078-454c-d035-dd08545d02f0"
      },
      "outputs": [
        {
          "output_type": "execute_result",
          "data": {
            "text/plain": [
              "array([[<matplotlib.axes._subplots.AxesSubplot object at 0x7f28d655e490>,\n",
              "        <matplotlib.axes._subplots.AxesSubplot object at 0x7f28d6599150>,\n",
              "        <matplotlib.axes._subplots.AxesSubplot object at 0x7f28d6548650>,\n",
              "        <matplotlib.axes._subplots.AxesSubplot object at 0x7f28d64fab50>,\n",
              "        <matplotlib.axes._subplots.AxesSubplot object at 0x7f28d64a6b90>,\n",
              "        <matplotlib.axes._subplots.AxesSubplot object at 0x7f28d6473610>],\n",
              "       [<matplotlib.axes._subplots.AxesSubplot object at 0x7f28d642fb50>,\n",
              "        <matplotlib.axes._subplots.AxesSubplot object at 0x7f28d63e9e10>,\n",
              "        <matplotlib.axes._subplots.AxesSubplot object at 0x7f28d63e9e50>,\n",
              "        <matplotlib.axes._subplots.AxesSubplot object at 0x7f28d63a9490>,\n",
              "        <matplotlib.axes._subplots.AxesSubplot object at 0x7f28d6392d50>,\n",
              "        <matplotlib.axes._subplots.AxesSubplot object at 0x7f28d63561d0>],\n",
              "       [<matplotlib.axes._subplots.AxesSubplot object at 0x7f28d630e690>,\n",
              "        <matplotlib.axes._subplots.AxesSubplot object at 0x7f28d62c2b90>,\n",
              "        <matplotlib.axes._subplots.AxesSubplot object at 0x7f28d62850d0>,\n",
              "        <matplotlib.axes._subplots.AxesSubplot object at 0x7f28d623d5d0>,\n",
              "        <matplotlib.axes._subplots.AxesSubplot object at 0x7f28d61f4b10>,\n",
              "        <matplotlib.axes._subplots.AxesSubplot object at 0x7f28d61acfd0>],\n",
              "       [<matplotlib.axes._subplots.AxesSubplot object at 0x7f28d616e550>,\n",
              "        <matplotlib.axes._subplots.AxesSubplot object at 0x7f28d6124a50>,\n",
              "        <matplotlib.axes._subplots.AxesSubplot object at 0x7f28d615af50>,\n",
              "        <matplotlib.axes._subplots.AxesSubplot object at 0x7f28d609f490>,\n",
              "        <matplotlib.axes._subplots.AxesSubplot object at 0x7f28d60d5990>,\n",
              "        <matplotlib.axes._subplots.AxesSubplot object at 0x7f28d608de90>],\n",
              "       [<matplotlib.axes._subplots.AxesSubplot object at 0x7f28d60503d0>,\n",
              "        <matplotlib.axes._subplots.AxesSubplot object at 0x7f28d60068d0>,\n",
              "        <matplotlib.axes._subplots.AxesSubplot object at 0x7f28d5fbbdd0>,\n",
              "        <matplotlib.axes._subplots.AxesSubplot object at 0x7f28d5f7e310>,\n",
              "        <matplotlib.axes._subplots.AxesSubplot object at 0x7f28d5f35810>,\n",
              "        <matplotlib.axes._subplots.AxesSubplot object at 0x7f28d5eebd10>],\n",
              "       [<matplotlib.axes._subplots.AxesSubplot object at 0x7f28d5eb0250>,\n",
              "        <matplotlib.axes._subplots.AxesSubplot object at 0x7f28d5e66750>,\n",
              "        <matplotlib.axes._subplots.AxesSubplot object at 0x7f28d5e1dc50>,\n",
              "        <matplotlib.axes._subplots.AxesSubplot object at 0x7f28d5de0190>,\n",
              "        <matplotlib.axes._subplots.AxesSubplot object at 0x7f28d5e17690>,\n",
              "        <matplotlib.axes._subplots.AxesSubplot object at 0x7f28d5dd0b90>]],\n",
              "      dtype=object)"
            ]
          },
          "metadata": {},
          "execution_count": 819
        },
        {
          "output_type": "display_data",
          "data": {
            "text/plain": [
              "<Figure size 864x576 with 36 Axes>"
            ],
            "image/png": "[encoded data removed]"
          },
          "metadata": {
            "needs_background": "light"
          }
        }
      ],
      "source": [
        "#diagramas de coorelacion, se me ocurre que sea de todas las variables contra todas\n",
        "from pandas.plotting import scatter_matrix\n",
        "atributos=[\"Valor comercial\",\"Piso\",\"Provincia\",\"Numero de frentes\",\"Numero de estacionamiento\",\"Edad\",\"Tipo de via\",\"Categoria del bien\",\"Estado de conservacion\"]\n",
        "\n",
        "scatter_matrix(df[atributos], figsize=(12,8))"
      ]
    },
    {
      "cell_type": "code",
      "execution_count": 820,
      "metadata": {
        "id": "6VhykUo-_Obn",
        "colab": {
          "base_uri": "https://localhost:8080/",
          "height": 0
        },
        "outputId": "a6352d36-4302-4460-f981-23bbc51fc6f3"
      },
      "outputs": [
        {
          "output_type": "display_data",
          "data": {
            "text/plain": [
              "<Figure size 432x288 with 2 Axes>"
            ],
            "image/png": "[encoded data removed]"
          },
          "metadata": {
            "needs_background": "light"
          }
        }
      ],
      "source": [
        "import seaborn as sn\n",
        "\n",
        "corrMatrix=df[atributos].corr().round(2)\n",
        "sn.heatmap(corrMatrix, annot=True,cmap='coolwarm')\n",
        "plt.show()"
      ]
    },
    {
      "cell_type": "markdown",
      "metadata": {
        "id": "2bdb8nXkHaov"
      },
      "source": [
        "# Preparar los datos y sus transformaciones"
      ]
    },
    {
      "cell_type": "code",
      "execution_count": 821,
      "metadata": {
        "id": "bIVUMSX-HYex",
        "colab": {
          "base_uri": "https://localhost:8080/"
        },
        "outputId": "47b5e964-ebbd-4cc1-af8d-28a05332c19d"
      },
      "outputs": [
        {
          "output_type": "execute_result",
          "data": {
            "text/plain": [
              "False"
            ]
          },
          "metadata": {},
          "execution_count": 821
        }
      ],
      "source": [
        "#revisar y eliminar los datos nulos\n",
        "df.isnull().values.any()"
      ]
    },
    {
      "cell_type": "code",
      "execution_count": 822,
      "metadata": {
        "id": "AOSKc8KTH4QE",
        "colab": {
          "base_uri": "https://localhost:8080/"
        },
        "outputId": "9fc50c15-e91c-4779-8958-9814aa06430a"
      },
      "outputs": [
        {
          "output_type": "execute_result",
          "data": {
            "text/plain": [
              "20"
            ]
          },
          "metadata": {},
          "execution_count": 822
        }
      ],
      "source": [
        "#numero de datos\n",
        "len(df)"
      ]
    },
    {
      "cell_type": "markdown",
      "source": [
        "# Categorizar(lo haremos nominal)"
      ],
      "metadata": {
        "id": "3VgvOTVMQKtq"
      }
    },
    {
      "cell_type": "code",
      "source": [
        "df['Provincia'].value_counts()"
      ],
      "metadata": {
        "id": "bXU5jphLNvfp",
        "colab": {
          "base_uri": "https://localhost:8080/"
        },
        "outputId": "2f12c646-6375-4bab-bc55-5e49f1cdadf2"
      },
      "execution_count": 826,
      "outputs": [
        {
          "output_type": "execute_result",
          "data": {
            "text/plain": [
              "Lima        18\n",
              "Trujillo     1\n",
              "Piura        1\n",
              "Name: Provincia, dtype: int64"
            ]
          },
          "metadata": {},
          "execution_count": 826
        }
      ]
    },
    {
      "cell_type": "code",
      "source": [
        "from sklearn.preprocessing import OneHotEncoder\n",
        "Nominal_codificador=OneHotEncoder(sparse=False)\n",
        "Nominal_codificador.fit_transform(df[['Provincia']])"
      ],
      "metadata": {
        "id": "okzzUkJKQmU5",
        "colab": {
          "base_uri": "https://localhost:8080/"
        },
        "outputId": "a78e169f-75e6-422d-fae3-283702ea8683"
      },
      "execution_count": 827,
      "outputs": [
        {
          "output_type": "execute_result",
          "data": {
            "text/plain": [
              "array([[1., 0., 0.],\n",
              "       [1., 0., 0.],\n",
              "       [1., 0., 0.],\n",
              "       [1., 0., 0.],\n",
              "       [1., 0., 0.],\n",
              "       [1., 0., 0.],\n",
              "       [1., 0., 0.],\n",
              "       [1., 0., 0.],\n",
              "       [1., 0., 0.],\n",
              "       [1., 0., 0.],\n",
              "       [1., 0., 0.],\n",
              "       [1., 0., 0.],\n",
              "       [1., 0., 0.],\n",
              "       [0., 0., 1.],\n",
              "       [1., 0., 0.],\n",
              "       [1., 0., 0.],\n",
              "       [1., 0., 0.],\n",
              "       [1., 0., 0.],\n",
              "       [0., 1., 0.],\n",
              "       [1., 0., 0.]])"
            ]
          },
          "metadata": {},
          "execution_count": 827
        }
      ]
    },
    {
      "cell_type": "code",
      "source": [
        "#nominal\n",
        "Nominal_codificador.categories_"
      ],
      "metadata": {
        "id": "iKINII9RRiI6",
        "colab": {
          "base_uri": "https://localhost:8080/"
        },
        "outputId": "1cd4503a-8167-41ea-826c-b0ae6a08d614"
      },
      "execution_count": 828,
      "outputs": [
        {
          "output_type": "execute_result",
          "data": {
            "text/plain": [
              "[array(['Lima', 'Piura', 'Trujillo'], dtype=object)]"
            ]
          },
          "metadata": {},
          "execution_count": 828
        }
      ]
    },
    {
      "cell_type": "markdown",
      "source": [
        "# PIPELINE"
      ],
      "metadata": {
        "id": "AcyxnGrgR0EZ"
      }
    },
    {
      "cell_type": "code",
      "source": [
        "from sklearn.utils.fixes import sklearn\n",
        "#MODULOS IMPORTANTES\n",
        "from sklearn.pipeline import Pipeline\n",
        "from sklearn.compose import ColumnTransformer\n",
        "from sklearn.preprocessing import StandardScaler, OrdinalEncoder, OneHotEncoder\n",
        "\n",
        "#lista de variables numericas y categoricas\n",
        "numeric_list=['Fecha entrega del Informe', \"Tipo de via\", \"Piso\", \"Numero de estacionamiento\", \"Depositos\", \"Latitud\", \"Longitud\",\"Numero de frentes\", \"Edad\", \"Elevador\", \"Area Terreno\", \"Area Construccion\",\"Valor comercial\" ]\n",
        "categorical_list=['Moneda principal para calculos',\"Departamento\",\"Provincia\", \"Distrito\",\"Categoria del bien\", \"Posicion\", \"Estado de conservacion\", \"Metodo Representado\" ]"
      ],
      "metadata": {
        "id": "X0V2FuT5R33F"
      },
      "execution_count": 849,
      "outputs": []
    },
    {
      "cell_type": "code",
      "source": [
        "from pandas.core.arrays import categorical\n",
        "#pipeline de procesamiento para los datos numericos y categoricos\n",
        "numeric_transformer= Pipeline(steps=[(\"scaler\", StandardScaler())]) #Reescalar los numeros\n",
        "categorical_transformer=Pipeline(steps=[(\"onehot\", OneHotEncoder())]) #Casterar a numeros"
      ],
      "metadata": {
        "id": "vNIu27gDYdq7"
      },
      "execution_count": 850,
      "outputs": []
    },
    {
      "cell_type": "markdown",
      "source": [
        "\n",
        "\n",
        "ColumnTransformer function"
      ],
      "metadata": {
        "id": "OO0IzuEBamYd"
      }
    },
    {
      "cell_type": "code",
      "source": [
        "from matplotlib.transforms import Transform\n",
        "#definir transformaciones\n",
        "transformer= ColumnTransformer ([\n",
        "    (\"num\", numeric_transformer,numeric_list) , (\"cat\", categorical_transformer, categorical_list)\n",
        "]);"
      ],
      "metadata": {
        "id": "mZ9ZlbUNaxSB"
      },
      "execution_count": 851,
      "outputs": []
    },
    {
      "cell_type": "markdown",
      "source": [
        "# Preparacion de los datos 2.0"
      ],
      "metadata": {
        "id": "m9YXwQyIcGZN"
      }
    },
    {
      "cell_type": "code",
      "source": [
        "X_ejemplo = df.drop(columns=numeric_list, axis=1)\n",
        "X_ejemplo"
      ],
      "metadata": {
        "id": "11zCsOE_yXMH",
        "colab": {
          "base_uri": "https://localhost:8080/",
          "height": 0
        },
        "outputId": "c03c88c5-5472-474e-9afc-b55b7ee1d3c5"
      },
      "execution_count": 852,
      "outputs": [
        {
          "output_type": "execute_result",
          "data": {
            "text/plain": [
              "   Departamento Provincia                Distrito    Categoria del bien  \\\n",
              "0          Lima      Lima       Magdalena del Mar          Departamento   \n",
              "1          Lima      Lima  San Juan de Lurigancho       Local Comercial   \n",
              "2          Lima      Lima       Santiago de Surco          Departamento   \n",
              "3          Lima      Lima              Pachacamac  Vivienda Unifamiliar   \n",
              "4          Lima      Lima              San Isidro          Departamento   \n",
              "5          Lima      Lima             La Victoria       Local Comercial   \n",
              "6          Lima      Lima       Santiago de Surco          Departamento   \n",
              "7          Lima      Lima       Santiago de Surco          Departamento   \n",
              "8          Lima      Lima             La Victoria          Departamento   \n",
              "9          Lima      Lima                     Ate          Departamento   \n",
              "10         Lima      Lima                     Ate          Departamento   \n",
              "11         Lima      Lima                  Brenia          Departamento   \n",
              "12         Lima      Lima              San Isidro          Departamento   \n",
              "13  La Libertad  Trujillo               Huanchaco        Terreno Urbano   \n",
              "14         Lima      Lima              San Isidro  Vivienda Unifamiliar   \n",
              "15         Lima      Lima                     Ate          Departamento   \n",
              "16         Lima      Lima            Pueblo Libre          Departamento   \n",
              "17         Lima      Lima       Santiago de Surco          Departamento   \n",
              "18        Piura     Piura   Veintiseis de Octubre  Vivienda Unifamiliar   \n",
              "19         Lima      Lima       Santiago de Surco  Vivienda Unifamiliar   \n",
              "\n",
              "    Posicion Estado de conservacion               Metodo Representado  \\\n",
              "0   Exterior                  Bueno  Comparacion de mercado (directo)   \n",
              "1   Exterior                Regular     Costos o reposicion (directo)   \n",
              "2   Exterior                  Bueno  Comparacion de mercado (directo)   \n",
              "3   Exterior                  Bueno     Costos o reposicion (directo)   \n",
              "4   Exterior              Muy bueno  Comparacion de mercado (directo)   \n",
              "5   Exterior                  Bueno  Comparacion de mercado (directo)   \n",
              "6   Exterior                  Bueno  Comparacion de mercado (directo)   \n",
              "7   Interior              Muy bueno  Comparacion de mercado (directo)   \n",
              "8   Exterior                   Malo  Comparacion de mercado (directo)   \n",
              "9   Exterior                  Bueno  Comparacion de mercado (directo)   \n",
              "10  Exterior                  Bueno  Comparacion de mercado (directo)   \n",
              "11  Exterior              Muy bueno  Comparacion de mercado (directo)   \n",
              "12  Interior              Muy bueno  Comparacion de mercado (directo)   \n",
              "13  Exterior                  Bueno     Costos o reposicion (directo)   \n",
              "14  Exterior              Muy bueno  Comparacion de mercado (directo)   \n",
              "15  Exterior                  Bueno  Comparacion de mercado (directo)   \n",
              "16  Exterior                  Bueno  Comparacion de mercado (directo)   \n",
              "17  Exterior              Muy bueno  Comparacion de mercado (directo)   \n",
              "18  Exterior                  Bueno     Costos o reposicion (directo)   \n",
              "19  Interior                  Bueno     Costos o reposicion (directo)   \n",
              "\n",
              "   Moneda principal para calculos  \n",
              "0                             USD  \n",
              "1                             USD  \n",
              "2                             USD  \n",
              "3                             USD  \n",
              "4                             PEN  \n",
              "5                             USD  \n",
              "6                             PEN  \n",
              "7                             USD  \n",
              "8                             USD  \n",
              "9                             USD  \n",
              "10                            USD  \n",
              "11                            USD  \n",
              "12                            USD  \n",
              "13                            USD  \n",
              "14                            USD  \n",
              "15                            USD  \n",
              "16                            USD  \n",
              "17                            USD  \n",
              "18                            USD  \n",
              "19                            PEN  "
            ],
            "text/html": [
              "\n",
              "  <div id=\"df-e43b0f5e-bb9c-45aa-806e-aa1113786774\">\n",
              "    <div class=\"colab-df-container\">\n",
              "      <div>\n",
              "<style scoped>\n",
              "    .dataframe tbody tr th:only-of-type {\n",
              "        vertical-align: middle;\n",
              "    }\n",
              "\n",
              "    .dataframe tbody tr th {\n",
              "        vertical-align: top;\n",
              "    }\n",
              "\n",
              "    .dataframe thead th {\n",
              "        text-align: right;\n",
              "    }\n",
              "</style>\n",
              "<table border=\"1\" class=\"dataframe\">\n",
              "  <thead>\n",
              "    <tr style=\"text-align: right;\">\n",
              "      <th></th>\n",
              "      <th>Departamento</th>\n",
              "      <th>Provincia</th>\n",
              "      <th>Distrito</th>\n",
              "      <th>Categoria del bien</th>\n",
              "      <th>Posicion</th>\n",
              "      <th>Estado de conservacion</th>\n",
              "      <th>Metodo Representado</th>\n",
              "      <th>Moneda principal para calculos</th>\n",
              "    </tr>\n",
              "  </thead>\n",
              "  <tbody>\n",
              "    <tr>\n",
              "      <th>0</th>\n",
              "      <td>Lima</td>\n",
              "      <td>Lima</td>\n",
              "      <td>Magdalena del Mar</td>\n",
              "      <td>Departamento</td>\n",
              "      <td>Exterior</td>\n",
              "      <td>Bueno</td>\n",
              "      <td>Comparacion de mercado (directo)</td>\n",
              "      <td>USD</td>\n",
              "    </tr>\n",
              "    <tr>\n",
              "      <th>1</th>\n",
              "      <td>Lima</td>\n",
              "      <td>Lima</td>\n",
              "      <td>San Juan de Lurigancho</td>\n",
              "      <td>Local Comercial</td>\n",
              "      <td>Exterior</td>\n",
              "      <td>Regular</td>\n",
              "      <td>Costos o reposicion (directo)</td>\n",
              "      <td>USD</td>\n",
              "    </tr>\n",
              "    <tr>\n",
              "      <th>2</th>\n",
              "      <td>Lima</td>\n",
              "      <td>Lima</td>\n",
              "      <td>Santiago de Surco</td>\n",
              "      <td>Departamento</td>\n",
              "      <td>Exterior</td>\n",
              "      <td>Bueno</td>\n",
              "      <td>Comparacion de mercado (directo)</td>\n",
              "      <td>USD</td>\n",
              "    </tr>\n",
              "    <tr>\n",
              "      <th>3</th>\n",
              "      <td>Lima</td>\n",
              "      <td>Lima</td>\n",
              "      <td>Pachacamac</td>\n",
              "      <td>Vivienda Unifamiliar</td>\n",
              "      <td>Exterior</td>\n",
              "      <td>Bueno</td>\n",
              "      <td>Costos o reposicion (directo)</td>\n",
              "      <td>USD</td>\n",
              "    </tr>\n",
              "    <tr>\n",
              "      <th>4</th>\n",
              "      <td>Lima</td>\n",
              "      <td>Lima</td>\n",
              "      <td>San Isidro</td>\n",
              "      <td>Departamento</td>\n",
              "      <td>Exterior</td>\n",
              "      <td>Muy bueno</td>\n",
              "      <td>Comparacion de mercado (directo)</td>\n",
              "      <td>PEN</td>\n",
              "    </tr>\n",
              "    <tr>\n",
              "      <th>5</th>\n",
              "      <td>Lima</td>\n",
              "      <td>Lima</td>\n",
              "      <td>La Victoria</td>\n",
              "      <td>Local Comercial</td>\n",
              "      <td>Exterior</td>\n",
              "      <td>Bueno</td>\n",
              "      <td>Comparacion de mercado (directo)</td>\n",
              "      <td>USD</td>\n",
              "    </tr>\n",
              "    <tr>\n",
              "      <th>6</th>\n",
              "      <td>Lima</td>\n",
              "      <td>Lima</td>\n",
              "      <td>Santiago de Surco</td>\n",
              "      <td>Departamento</td>\n",
              "      <td>Exterior</td>\n",
              "      <td>Bueno</td>\n",
              "      <td>Comparacion de mercado (directo)</td>\n",
              "      <td>PEN</td>\n",
              "    </tr>\n",
              "    <tr>\n",
              "      <th>7</th>\n",
              "      <td>Lima</td>\n",
              "      <td>Lima</td>\n",
              "      <td>Santiago de Surco</td>\n",
              "      <td>Departamento</td>\n",
              "      <td>Interior</td>\n",
              "      <td>Muy bueno</td>\n",
              "      <td>Comparacion de mercado (directo)</td>\n",
              "      <td>USD</td>\n",
              "    </tr>\n",
              "    <tr>\n",
              "      <th>8</th>\n",
              "      <td>Lima</td>\n",
              "      <td>Lima</td>\n",
              "      <td>La Victoria</td>\n",
              "      <td>Departamento</td>\n",
              "      <td>Exterior</td>\n",
              "      <td>Malo</td>\n",
              "      <td>Comparacion de mercado (directo)</td>\n",
              "      <td>USD</td>\n",
              "    </tr>\n",
              "    <tr>\n",
              "      <th>9</th>\n",
              "      <td>Lima</td>\n",
              "      <td>Lima</td>\n",
              "      <td>Ate</td>\n",
              "      <td>Departamento</td>\n",
              "      <td>Exterior</td>\n",
              "      <td>Bueno</td>\n",
              "      <td>Comparacion de mercado (directo)</td>\n",
              "      <td>USD</td>\n",
              "    </tr>\n",
              "    <tr>\n",
              "      <th>10</th>\n",
              "      <td>Lima</td>\n",
              "      <td>Lima</td>\n",
              "      <td>Ate</td>\n",
              "      <td>Departamento</td>\n",
              "      <td>Exterior</td>\n",
              "      <td>Bueno</td>\n",
              "      <td>Comparacion de mercado (directo)</td>\n",
              "      <td>USD</td>\n",
              "    </tr>\n",
              "    <tr>\n",
              "      <th>11</th>\n",
              "      <td>Lima</td>\n",
              "      <td>Lima</td>\n",
              "      <td>Brenia</td>\n",
              "      <td>Departamento</td>\n",
              "      <td>Exterior</td>\n",
              "      <td>Muy bueno</td>\n",
              "      <td>Comparacion de mercado (directo)</td>\n",
              "      <td>USD</td>\n",
              "    </tr>\n",
              "    <tr>\n",
              "      <th>12</th>\n",
              "      <td>Lima</td>\n",
              "      <td>Lima</td>\n",
              "      <td>San Isidro</td>\n",
              "      <td>Departamento</td>\n",
              "      <td>Interior</td>\n",
              "      <td>Muy bueno</td>\n",
              "      <td>Comparacion de mercado (directo)</td>\n",
              "      <td>USD</td>\n",
              "    </tr>\n",
              "    <tr>\n",
              "      <th>13</th>\n",
              "      <td>La Libertad</td>\n",
              "      <td>Trujillo</td>\n",
              "      <td>Huanchaco</td>\n",
              "      <td>Terreno Urbano</td>\n",
              "      <td>Exterior</td>\n",
              "      <td>Bueno</td>\n",
              "      <td>Costos o reposicion (directo)</td>\n",
              "      <td>USD</td>\n",
              "    </tr>\n",
              "    <tr>\n",
              "      <th>14</th>\n",
              "      <td>Lima</td>\n",
              "      <td>Lima</td>\n",
              "      <td>San Isidro</td>\n",
              "      <td>Vivienda Unifamiliar</td>\n",
              "      <td>Exterior</td>\n",
              "      <td>Muy bueno</td>\n",
              "      <td>Comparacion de mercado (directo)</td>\n",
              "      <td>USD</td>\n",
              "    </tr>\n",
              "    <tr>\n",
              "      <th>15</th>\n",
              "      <td>Lima</td>\n",
              "      <td>Lima</td>\n",
              "      <td>Ate</td>\n",
              "      <td>Departamento</td>\n",
              "      <td>Exterior</td>\n",
              "      <td>Bueno</td>\n",
              "      <td>Comparacion de mercado (directo)</td>\n",
              "      <td>USD</td>\n",
              "    </tr>\n",
              "    <tr>\n",
              "      <th>16</th>\n",
              "      <td>Lima</td>\n",
              "      <td>Lima</td>\n",
              "      <td>Pueblo Libre</td>\n",
              "      <td>Departamento</td>\n",
              "      <td>Exterior</td>\n",
              "      <td>Bueno</td>\n",
              "      <td>Comparacion de mercado (directo)</td>\n",
              "      <td>USD</td>\n",
              "    </tr>\n",
              "    <tr>\n",
              "      <th>17</th>\n",
              "      <td>Lima</td>\n",
              "      <td>Lima</td>\n",
              "      <td>Santiago de Surco</td>\n",
              "      <td>Departamento</td>\n",
              "      <td>Exterior</td>\n",
              "      <td>Muy bueno</td>\n",
              "      <td>Comparacion de mercado (directo)</td>\n",
              "      <td>USD</td>\n",
              "    </tr>\n",
              "    <tr>\n",
              "      <th>18</th>\n",
              "      <td>Piura</td>\n",
              "      <td>Piura</td>\n",
              "      <td>Veintiseis de Octubre</td>\n",
              "      <td>Vivienda Unifamiliar</td>\n",
              "      <td>Exterior</td>\n",
              "      <td>Bueno</td>\n",
              "      <td>Costos o reposicion (directo)</td>\n",
              "      <td>USD</td>\n",
              "    </tr>\n",
              "    <tr>\n",
              "      <th>19</th>\n",
              "      <td>Lima</td>\n",
              "      <td>Lima</td>\n",
              "      <td>Santiago de Surco</td>\n",
              "      <td>Vivienda Unifamiliar</td>\n",
              "      <td>Interior</td>\n",
              "      <td>Bueno</td>\n",
              "      <td>Costos o reposicion (directo)</td>\n",
              "      <td>PEN</td>\n",
              "    </tr>\n",
              "  </tbody>\n",
              "</table>\n",
              "</div>\n",
              "      <button class=\"colab-df-convert\" onclick=\"convertToInteractive('df-e43b0f5e-bb9c-45aa-806e-aa1113786774')\"\n",
              "              title=\"Convert this dataframe to an interactive table.\"\n",
              "              style=\"display:none;\">\n",
              "        \n",
              "  <svg xmlns=\"http://www.w3.org/2000/svg\" height=\"24px\"viewBox=\"0 0 24 24\"\n",
              "       width=\"24px\">\n",
              "    <path d=\"M0 0h24v24H0V0z\" fill=\"none\"/>\n",
              "    <path d=\"M18.56 5.44l.94 2.06.94-2.06 2.06-.94-2.06-.94-.94-2.06-.94 2.06-2.06.94zm-11 1L8.5 8.5l.94-2.06 2.06-.94-2.06-.94L8.5 2.5l-.94 2.06-2.06.94zm10 10l.94 2.06.94-2.06 2.06-.94-2.06-.94-.94-2.06-.94 2.06-2.06.94z\"/><path d=\"M17.41 7.96l-1.37-1.37c-.4-.4-.92-.59-1.43-.59-.52 0-1.04.2-1.43.59L10.3 9.45l-7.72 7.72c-.78.78-.78 2.05 0 2.83L4 21.41c.39.39.9.59 1.41.59.51 0 1.02-.2 1.41-.59l7.78-7.78 2.81-2.81c.8-.78.8-2.07 0-2.86zM5.41 20L4 18.59l7.72-7.72 1.47 1.35L5.41 20z\"/>\n",
              "  </svg>\n",
              "      </button>\n",
              "      \n",
              "  <style>\n",
              "    .colab-df-container {\n",
              "      display:flex;\n",
              "      flex-wrap:wrap;\n",
              "      gap: 12px;\n",
              "    }\n",
              "\n",
              "    .colab-df-convert {\n",
              "      background-color: #E8F0FE;\n",
              "      border: none;\n",
              "      border-radius: 50%;\n",
              "      cursor: pointer;\n",
              "      display: none;\n",
              "      fill: #1967D2;\n",
              "      height: 32px;\n",
              "      padding: 0 0 0 0;\n",
              "      width: 32px;\n",
              "    }\n",
              "\n",
              "    .colab-df-convert:hover {\n",
              "      background-color: #E2EBFA;\n",
              "      box-shadow: 0px 1px 2px rgba(60, 64, 67, 0.3), 0px 1px 3px 1px rgba(60, 64, 67, 0.15);\n",
              "      fill: #174EA6;\n",
              "    }\n",
              "\n",
              "    [theme=dark] .colab-df-convert {\n",
              "      background-color: #3B4455;\n",
              "      fill: #D2E3FC;\n",
              "    }\n",
              "\n",
              "    [theme=dark] .colab-df-convert:hover {\n",
              "      background-color: #434B5C;\n",
              "      box-shadow: 0px 1px 3px 1px rgba(0, 0, 0, 0.15);\n",
              "      filter: drop-shadow(0px 1px 2px rgba(0, 0, 0, 0.3));\n",
              "      fill: #FFFFFF;\n",
              "    }\n",
              "  </style>\n",
              "\n",
              "      <script>\n",
              "        const buttonEl =\n",
              "          document.querySelector('#df-e43b0f5e-bb9c-45aa-806e-aa1113786774 button.colab-df-convert');\n",
              "        buttonEl.style.display =\n",
              "          google.colab.kernel.accessAllowed ? 'block' : 'none';\n",
              "\n",
              "        async function convertToInteractive(key) {\n",
              "          const element = document.querySelector('#df-e43b0f5e-bb9c-45aa-806e-aa1113786774');\n",
              "          const dataTable =\n",
              "            await google.colab.kernel.invokeFunction('convertToInteractive',\n",
              "                                                     [key], {});\n",
              "          if (!dataTable) return;\n",
              "\n",
              "          const docLinkHtml = 'Like what you see? Visit the ' +\n",
              "            '<a target=\"_blank\" href=https://colab.research.google.com/notebooks/data_table.ipynb>data table notebook</a>'\n",
              "            + ' to learn more about interactive tables.';\n",
              "          element.innerHTML = '';\n",
              "          dataTable['output_type'] = 'display_data';\n",
              "          await google.colab.output.renderOutput(dataTable, element);\n",
              "          const docLink = document.createElement('div');\n",
              "          docLink.innerHTML = docLinkHtml;\n",
              "          element.appendChild(docLink);\n",
              "        }\n",
              "      </script>\n",
              "    </div>\n",
              "  </div>\n",
              "  "
            ]
          },
          "metadata": {},
          "execution_count": 852
        }
      ]
    },
    {
      "cell_type": "code",
      "source": [
        "#crear x (quitar la columna o el campo valor comercial\n",
        "# X_raw_nnn -> raw no numeric data\n",
        "X_raw_nnd = df.drop(columns=numeric_list, axis=1)\n",
        "\n",
        "#Convert data to numeric data \n",
        "enc = OrdinalEncoder()\n",
        "enc.fit(X_raw_nnd)\n",
        "\n",
        "# X_nnn -> no numeric data decode to numeric\n",
        "X_nnd_decode =  np.array(enc.transform(X_raw_nnd))"
      ],
      "metadata": {
        "id": "2pTT8CQe3cqn"
      },
      "execution_count": 853,
      "outputs": []
    },
    {
      "cell_type": "code",
      "source": [
        "X_nnd_decode"
      ],
      "metadata": {
        "id": "-ehY28BoViXt",
        "colab": {
          "base_uri": "https://localhost:8080/"
        },
        "outputId": "ca83ed25-3673-4cda-bd26-ae06c26e69f5"
      },
      "execution_count": 854,
      "outputs": [
        {
          "output_type": "execute_result",
          "data": {
            "text/plain": [
              "array([[ 1.,  0.,  4.,  0.,  0.,  0.,  0.,  1.],\n",
              "       [ 1.,  0.,  8.,  1.,  0.,  3.,  1.,  1.],\n",
              "       [ 1.,  0.,  9.,  0.,  0.,  0.,  0.,  1.],\n",
              "       [ 1.,  0.,  5.,  3.,  0.,  0.,  1.,  1.],\n",
              "       [ 1.,  0.,  7.,  0.,  0.,  2.,  0.,  0.],\n",
              "       [ 1.,  0.,  3.,  1.,  0.,  0.,  0.,  1.],\n",
              "       [ 1.,  0.,  9.,  0.,  0.,  0.,  0.,  0.],\n",
              "       [ 1.,  0.,  9.,  0.,  1.,  2.,  0.,  1.],\n",
              "       [ 1.,  0.,  3.,  0.,  0.,  1.,  0.,  1.],\n",
              "       [ 1.,  0.,  0.,  0.,  0.,  0.,  0.,  1.],\n",
              "       [ 1.,  0.,  0.,  0.,  0.,  0.,  0.,  1.],\n",
              "       [ 1.,  0.,  1.,  0.,  0.,  2.,  0.,  1.],\n",
              "       [ 1.,  0.,  7.,  0.,  1.,  2.,  0.,  1.],\n",
              "       [ 0.,  2.,  2.,  2.,  0.,  0.,  1.,  1.],\n",
              "       [ 1.,  0.,  7.,  3.,  0.,  2.,  0.,  1.],\n",
              "       [ 1.,  0.,  0.,  0.,  0.,  0.,  0.,  1.],\n",
              "       [ 1.,  0.,  6.,  0.,  0.,  0.,  0.,  1.],\n",
              "       [ 1.,  0.,  9.,  0.,  0.,  2.,  0.,  1.],\n",
              "       [ 2.,  1., 10.,  3.,  0.,  0.,  1.,  1.],\n",
              "       [ 1.,  0.,  9.,  3.,  1.,  0.,  1.,  0.]])"
            ]
          },
          "metadata": {},
          "execution_count": 854
        }
      ]
    },
    {
      "cell_type": "code",
      "source": [
        "#X need to contain numeric and categorical data\n",
        "X_nd = np.array(df.drop(columns=categorical_list, axis=1))\n",
        "X_nd"
      ],
      "metadata": {
        "id": "jm_6_D1l3KVu",
        "colab": {
          "base_uri": "https://localhost:8080/"
        },
        "outputId": "208e7761-3429-4dff-c2a0-c4046f82f2a7"
      },
      "execution_count": 855,
      "outputs": [
        {
          "output_type": "execute_result",
          "data": {
            "text/plain": [
              "array([[ 2.02200000e+03,  2.00000000e+00,  1.00000000e+00,\n",
              "        -1.00000000e+00, -1.00000000e+00, -1.21201435e+01,\n",
              "        -7.70239598e+01,  2.00000000e+00,  3.00000000e+00,\n",
              "         1.00000000e+00,  0.00000000e+00,  8.15600000e+01,\n",
              "         1.20708800e+05],\n",
              "       [ 2.02200000e+03,  6.00000000e+00,  4.00000000e+00,\n",
              "         1.00000000e+00, -1.00000000e+00, -1.20225094e+01,\n",
              "        -7.68337150e+01,  1.00000000e+00,  4.20000000e+01,\n",
              "         2.00000000e+00,  4.10000000e+02,  0.00000000e+00,\n",
              "         1.92225000e+05],\n",
              "       [ 2.02200000e+03,  2.00000000e+00,  5.00000000e+00,\n",
              "         1.00000000e+00, -1.00000000e+00, -1.20896856e+01,\n",
              "        -7.70684536e+01,  1.00000000e+00,  1.60000000e+01,\n",
              "         2.00000000e+00,  0.00000000e+00,  9.01300000e+01,\n",
              "         1.37886280e+05],\n",
              "       [ 2.02200000e+03,  1.00000000e+01,  2.00000000e+00,\n",
              "        -1.00000000e+00,  1.00000000e+00, -1.20957584e+01,\n",
              "        -7.69813229e+01, -1.00000000e+00, -1.00000000e+00,\n",
              "         2.00000000e+00,  1.20000000e+02,  0.00000000e+00,\n",
              "         4.44000000e+04],\n",
              "       [ 2.02200000e+03,  1.00000000e+00,  3.00000000e+00,\n",
              "        -1.00000000e+00, -1.00000000e+00, -1.20153092e+01,\n",
              "        -7.68742130e+01,  0.00000000e+00,  1.00000000e+00,\n",
              "         1.00000000e+00,  0.00000000e+00,  4.50000000e+01,\n",
              "         1.11600000e+05],\n",
              "       [ 2.02200000e+03,  2.00000000e+00,  2.00000000e+00,\n",
              "        -1.00000000e+00, -1.00000000e+00, -1.20957639e+01,\n",
              "        -7.70233600e+01, -1.00000000e+00,  2.70000000e+01,\n",
              "         2.00000000e+00,  0.00000000e+00,  2.67200000e+01,\n",
              "         6.04139200e+05],\n",
              "       [ 2.02200000e+03,  3.00000000e+00,  2.00000000e+00,\n",
              "         1.00000000e+00, -1.00000000e+00, -1.20297405e+01,\n",
              "        -7.69455815e+01, -1.00000000e+00,  3.00000000e+00,\n",
              "         2.00000000e+00,  0.00000000e+00,  1.55030000e+02,\n",
              "         2.62095120e+05],\n",
              "       [ 2.02200000e+03,  1.00000000e+00,  2.00000000e+00,\n",
              "         1.00000000e+00, -1.00000000e+00, -1.18995330e+01,\n",
              "        -7.70576157e+01,  1.00000000e+00,  1.00000000e+00,\n",
              "         1.00000000e+00,  0.00000000e+00,  1.77870000e+02,\n",
              "         2.98389000e+05],\n",
              "       [ 2.02200000e+03,  3.00000000e+00,  1.00000000e+00,\n",
              "         1.00000000e+00, -1.00000000e+00, -1.20766427e+01,\n",
              "        -7.70506477e+01,  1.00000000e+00,  2.00000000e+00,\n",
              "         2.00000000e+00,  0.00000000e+00,  8.81200000e+01,\n",
              "         1.44249800e+05],\n",
              "       [ 2.02200000e+03,  1.00000000e+00,  4.00000000e+00,\n",
              "        -1.00000000e+00, -1.00000000e+00, -5.18569240e+00,\n",
              "        -8.06545414e+01,  1.00000000e+00,  0.00000000e+00,\n",
              "         1.00000000e+00,  0.00000000e+00,  6.90900000e+01,\n",
              "         1.02267120e+05],\n",
              "       [ 2.02200000e+03,  1.00000000e+00,  5.00000000e+00,\n",
              "        -1.00000000e+00, -1.00000000e+00, -1.21196524e+01,\n",
              "        -7.70057059e+01,  1.00000000e+00,  0.00000000e+00,\n",
              "         2.00000000e+00,  0.00000000e+00,  7.19600000e+01,\n",
              "         1.04563200e+05],\n",
              "       [ 2.02200000e+03,  2.00000000e+00,  1.00000000e+00,\n",
              "        -1.00000000e+00, -1.00000000e+00, -1.21363533e+01,\n",
              "        -7.70023247e+01, -1.00000000e+00,  0.00000000e+00,\n",
              "         1.00000000e+00,  0.00000000e+00,  9.10000000e+01,\n",
              "         1.37410000e+05],\n",
              "       [ 2.02200000e+03,  1.00000000e+00,  1.00000000e+00,\n",
              "        -1.00000000e+00, -1.00000000e+00, -1.20528700e+01,\n",
              "        -7.70065170e+01,  3.00000000e+00,  1.00000000e+00,\n",
              "         1.00000000e+00,  0.00000000e+00,  4.50500000e+01,\n",
              "         1.17580500e+05],\n",
              "       [ 2.02200000e+03,  1.00000000e+01,  2.00000000e+00,\n",
              "        -1.00000000e+00, -1.00000000e+00, -8.11144920e+00,\n",
              "        -7.90260459e+01,  1.00000000e+00, -1.00000000e+00,\n",
              "         2.00000000e+00,  1.40000000e+02,  1.40000000e+02,\n",
              "         5.20000000e+04],\n",
              "       [ 2.02200000e+03,  1.00000000e+00,  3.00000000e+00,\n",
              "         1.00000000e+00, -1.00000000e+00, -1.20904490e+01,\n",
              "        -7.70183420e+01,  2.00000000e+00,  1.00000000e+00,\n",
              "         2.00000000e+00,  0.00000000e+00,  1.67770000e+02,\n",
              "         3.36684190e+05],\n",
              "       [ 2.02200000e+03,  1.00000000e+00,  4.00000000e+00,\n",
              "        -1.00000000e+00, -1.00000000e+00, -1.21127110e+01,\n",
              "        -7.69643341e+01,  1.00000000e+00,  4.70000000e+01,\n",
              "         2.00000000e+00,  0.00000000e+00,  1.23350000e+02,\n",
              "         1.34848860e+05],\n",
              "       [ 2.02200000e+03,  3.00000000e+00,  4.00000000e+00,\n",
              "        -1.00000000e+00, -1.00000000e+00, -1.20384343e+01,\n",
              "        -7.69570281e+01,  1.00000000e+00,  1.20000000e+01,\n",
              "         1.00000000e+00,  0.00000000e+00,  7.58000000e+01,\n",
              "         1.06120000e+05],\n",
              "       [ 2.02200000e+03,  1.00000000e+00,  3.00000000e+00,\n",
              "        -1.00000000e+00, -1.00000000e+00, -1.20646830e+01,\n",
              "        -7.70136600e+01,  2.00000000e+00,  1.00000000e+00,\n",
              "         2.00000000e+00,  0.00000000e+00,  1.49580000e+02,\n",
              "         2.53035510e+05],\n",
              "       [ 2.02200000e+03,  1.00000000e+01,  5.00000000e+00,\n",
              "        -1.00000000e+00, -1.00000000e+00, -1.20621164e+01,\n",
              "        -7.69497108e+01,  1.00000000e+00,  5.60000000e+01,\n",
              "         0.00000000e+00,  2.00000000e+02,  3.33580000e+02,\n",
              "         1.70336250e+05],\n",
              "       [ 2.02200000e+03,  1.00000000e+00,  2.00000000e+00,\n",
              "        -1.00000000e+00, -1.00000000e+00, -1.21213057e+01,\n",
              "        -7.69997372e+01,  1.00000000e+00,  4.80000000e+01,\n",
              "         2.00000000e+00,  1.65300000e+02,  1.35000000e+02,\n",
              "         2.95212150e+05]])"
            ]
          },
          "metadata": {},
          "execution_count": 855
        }
      ]
    },
    {
      "cell_type": "code",
      "source": [
        "#Union de X no numericas y X numericas \n",
        "X = np.concatenate((X_nnd_decode, X_nd), axis=1)\n",
        "X"
      ],
      "metadata": {
        "id": "xqgxVu7R7frW",
        "colab": {
          "base_uri": "https://localhost:8080/"
        },
        "outputId": "5877d702-6793-4cb1-9621-3adea1aed65c"
      },
      "execution_count": 856,
      "outputs": [
        {
          "output_type": "execute_result",
          "data": {
            "text/plain": [
              "array([[ 1.00000000e+00,  0.00000000e+00,  4.00000000e+00,\n",
              "         0.00000000e+00,  0.00000000e+00,  0.00000000e+00,\n",
              "         0.00000000e+00,  1.00000000e+00,  2.02200000e+03,\n",
              "         2.00000000e+00,  1.00000000e+00, -1.00000000e+00,\n",
              "        -1.00000000e+00, -1.21201435e+01, -7.70239598e+01,\n",
              "         2.00000000e+00,  3.00000000e+00,  1.00000000e+00,\n",
              "         0.00000000e+00,  8.15600000e+01,  1.20708800e+05],\n",
              "       [ 1.00000000e+00,  0.00000000e+00,  8.00000000e+00,\n",
              "         1.00000000e+00,  0.00000000e+00,  3.00000000e+00,\n",
              "         1.00000000e+00,  1.00000000e+00,  2.02200000e+03,\n",
              "         6.00000000e+00,  4.00000000e+00,  1.00000000e+00,\n",
              "        -1.00000000e+00, -1.20225094e+01, -7.68337150e+01,\n",
              "         1.00000000e+00,  4.20000000e+01,  2.00000000e+00,\n",
              "         4.10000000e+02,  0.00000000e+00,  1.92225000e+05],\n",
              "       [ 1.00000000e+00,  0.00000000e+00,  9.00000000e+00,\n",
              "         0.00000000e+00,  0.00000000e+00,  0.00000000e+00,\n",
              "         0.00000000e+00,  1.00000000e+00,  2.02200000e+03,\n",
              "         2.00000000e+00,  5.00000000e+00,  1.00000000e+00,\n",
              "        -1.00000000e+00, -1.20896856e+01, -7.70684536e+01,\n",
              "         1.00000000e+00,  1.60000000e+01,  2.00000000e+00,\n",
              "         0.00000000e+00,  9.01300000e+01,  1.37886280e+05],\n",
              "       [ 1.00000000e+00,  0.00000000e+00,  5.00000000e+00,\n",
              "         3.00000000e+00,  0.00000000e+00,  0.00000000e+00,\n",
              "         1.00000000e+00,  1.00000000e+00,  2.02200000e+03,\n",
              "         1.00000000e+01,  2.00000000e+00, -1.00000000e+00,\n",
              "         1.00000000e+00, -1.20957584e+01, -7.69813229e+01,\n",
              "        -1.00000000e+00, -1.00000000e+00,  2.00000000e+00,\n",
              "         1.20000000e+02,  0.00000000e+00,  4.44000000e+04],\n",
              "       [ 1.00000000e+00,  0.00000000e+00,  7.00000000e+00,\n",
              "         0.00000000e+00,  0.00000000e+00,  2.00000000e+00,\n",
              "         0.00000000e+00,  0.00000000e+00,  2.02200000e+03,\n",
              "         1.00000000e+00,  3.00000000e+00, -1.00000000e+00,\n",
              "        -1.00000000e+00, -1.20153092e+01, -7.68742130e+01,\n",
              "         0.00000000e+00,  1.00000000e+00,  1.00000000e+00,\n",
              "         0.00000000e+00,  4.50000000e+01,  1.11600000e+05],\n",
              "       [ 1.00000000e+00,  0.00000000e+00,  3.00000000e+00,\n",
              "         1.00000000e+00,  0.00000000e+00,  0.00000000e+00,\n",
              "         0.00000000e+00,  1.00000000e+00,  2.02200000e+03,\n",
              "         2.00000000e+00,  2.00000000e+00, -1.00000000e+00,\n",
              "        -1.00000000e+00, -1.20957639e+01, -7.70233600e+01,\n",
              "        -1.00000000e+00,  2.70000000e+01,  2.00000000e+00,\n",
              "         0.00000000e+00,  2.67200000e+01,  6.04139200e+05],\n",
              "       [ 1.00000000e+00,  0.00000000e+00,  9.00000000e+00,\n",
              "         0.00000000e+00,  0.00000000e+00,  0.00000000e+00,\n",
              "         0.00000000e+00,  0.00000000e+00,  2.02200000e+03,\n",
              "         3.00000000e+00,  2.00000000e+00,  1.00000000e+00,\n",
              "        -1.00000000e+00, -1.20297405e+01, -7.69455815e+01,\n",
              "        -1.00000000e+00,  3.00000000e+00,  2.00000000e+00,\n",
              "         0.00000000e+00,  1.55030000e+02,  2.62095120e+05],\n",
              "       [ 1.00000000e+00,  0.00000000e+00,  9.00000000e+00,\n",
              "         0.00000000e+00,  1.00000000e+00,  2.00000000e+00,\n",
              "         0.00000000e+00,  1.00000000e+00,  2.02200000e+03,\n",
              "         1.00000000e+00,  2.00000000e+00,  1.00000000e+00,\n",
              "        -1.00000000e+00, -1.18995330e+01, -7.70576157e+01,\n",
              "         1.00000000e+00,  1.00000000e+00,  1.00000000e+00,\n",
              "         0.00000000e+00,  1.77870000e+02,  2.98389000e+05],\n",
              "       [ 1.00000000e+00,  0.00000000e+00,  3.00000000e+00,\n",
              "         0.00000000e+00,  0.00000000e+00,  1.00000000e+00,\n",
              "         0.00000000e+00,  1.00000000e+00,  2.02200000e+03,\n",
              "         3.00000000e+00,  1.00000000e+00,  1.00000000e+00,\n",
              "        -1.00000000e+00, -1.20766427e+01, -7.70506477e+01,\n",
              "         1.00000000e+00,  2.00000000e+00,  2.00000000e+00,\n",
              "         0.00000000e+00,  8.81200000e+01,  1.44249800e+05],\n",
              "       [ 1.00000000e+00,  0.00000000e+00,  0.00000000e+00,\n",
              "         0.00000000e+00,  0.00000000e+00,  0.00000000e+00,\n",
              "         0.00000000e+00,  1.00000000e+00,  2.02200000e+03,\n",
              "         1.00000000e+00,  4.00000000e+00, -1.00000000e+00,\n",
              "        -1.00000000e+00, -5.18569240e+00, -8.06545414e+01,\n",
              "         1.00000000e+00,  0.00000000e+00,  1.00000000e+00,\n",
              "         0.00000000e+00,  6.90900000e+01,  1.02267120e+05],\n",
              "       [ 1.00000000e+00,  0.00000000e+00,  0.00000000e+00,\n",
              "         0.00000000e+00,  0.00000000e+00,  0.00000000e+00,\n",
              "         0.00000000e+00,  1.00000000e+00,  2.02200000e+03,\n",
              "         1.00000000e+00,  5.00000000e+00, -1.00000000e+00,\n",
              "        -1.00000000e+00, -1.21196524e+01, -7.70057059e+01,\n",
              "         1.00000000e+00,  0.00000000e+00,  2.00000000e+00,\n",
              "         0.00000000e+00,  7.19600000e+01,  1.04563200e+05],\n",
              "       [ 1.00000000e+00,  0.00000000e+00,  1.00000000e+00,\n",
              "         0.00000000e+00,  0.00000000e+00,  2.00000000e+00,\n",
              "         0.00000000e+00,  1.00000000e+00,  2.02200000e+03,\n",
              "         2.00000000e+00,  1.00000000e+00, -1.00000000e+00,\n",
              "        -1.00000000e+00, -1.21363533e+01, -7.70023247e+01,\n",
              "        -1.00000000e+00,  0.00000000e+00,  1.00000000e+00,\n",
              "         0.00000000e+00,  9.10000000e+01,  1.37410000e+05],\n",
              "       [ 1.00000000e+00,  0.00000000e+00,  7.00000000e+00,\n",
              "         0.00000000e+00,  1.00000000e+00,  2.00000000e+00,\n",
              "         0.00000000e+00,  1.00000000e+00,  2.02200000e+03,\n",
              "         1.00000000e+00,  1.00000000e+00, -1.00000000e+00,\n",
              "        -1.00000000e+00, -1.20528700e+01, -7.70065170e+01,\n",
              "         3.00000000e+00,  1.00000000e+00,  1.00000000e+00,\n",
              "         0.00000000e+00,  4.50500000e+01,  1.17580500e+05],\n",
              "       [ 0.00000000e+00,  2.00000000e+00,  2.00000000e+00,\n",
              "         2.00000000e+00,  0.00000000e+00,  0.00000000e+00,\n",
              "         1.00000000e+00,  1.00000000e+00,  2.02200000e+03,\n",
              "         1.00000000e+01,  2.00000000e+00, -1.00000000e+00,\n",
              "        -1.00000000e+00, -8.11144920e+00, -7.90260459e+01,\n",
              "         1.00000000e+00, -1.00000000e+00,  2.00000000e+00,\n",
              "         1.40000000e+02,  1.40000000e+02,  5.20000000e+04],\n",
              "       [ 1.00000000e+00,  0.00000000e+00,  7.00000000e+00,\n",
              "         3.00000000e+00,  0.00000000e+00,  2.00000000e+00,\n",
              "         0.00000000e+00,  1.00000000e+00,  2.02200000e+03,\n",
              "         1.00000000e+00,  3.00000000e+00,  1.00000000e+00,\n",
              "        -1.00000000e+00, -1.20904490e+01, -7.70183420e+01,\n",
              "         2.00000000e+00,  1.00000000e+00,  2.00000000e+00,\n",
              "         0.00000000e+00,  1.67770000e+02,  3.36684190e+05],\n",
              "       [ 1.00000000e+00,  0.00000000e+00,  0.00000000e+00,\n",
              "         0.00000000e+00,  0.00000000e+00,  0.00000000e+00,\n",
              "         0.00000000e+00,  1.00000000e+00,  2.02200000e+03,\n",
              "         1.00000000e+00,  4.00000000e+00, -1.00000000e+00,\n",
              "        -1.00000000e+00, -1.21127110e+01, -7.69643341e+01,\n",
              "         1.00000000e+00,  4.70000000e+01,  2.00000000e+00,\n",
              "         0.00000000e+00,  1.23350000e+02,  1.34848860e+05],\n",
              "       [ 1.00000000e+00,  0.00000000e+00,  6.00000000e+00,\n",
              "         0.00000000e+00,  0.00000000e+00,  0.00000000e+00,\n",
              "         0.00000000e+00,  1.00000000e+00,  2.02200000e+03,\n",
              "         3.00000000e+00,  4.00000000e+00, -1.00000000e+00,\n",
              "        -1.00000000e+00, -1.20384343e+01, -7.69570281e+01,\n",
              "         1.00000000e+00,  1.20000000e+01,  1.00000000e+00,\n",
              "         0.00000000e+00,  7.58000000e+01,  1.06120000e+05],\n",
              "       [ 1.00000000e+00,  0.00000000e+00,  9.00000000e+00,\n",
              "         0.00000000e+00,  0.00000000e+00,  2.00000000e+00,\n",
              "         0.00000000e+00,  1.00000000e+00,  2.02200000e+03,\n",
              "         1.00000000e+00,  3.00000000e+00, -1.00000000e+00,\n",
              "        -1.00000000e+00, -1.20646830e+01, -7.70136600e+01,\n",
              "         2.00000000e+00,  1.00000000e+00,  2.00000000e+00,\n",
              "         0.00000000e+00,  1.49580000e+02,  2.53035510e+05],\n",
              "       [ 2.00000000e+00,  1.00000000e+00,  1.00000000e+01,\n",
              "         3.00000000e+00,  0.00000000e+00,  0.00000000e+00,\n",
              "         1.00000000e+00,  1.00000000e+00,  2.02200000e+03,\n",
              "         1.00000000e+01,  5.00000000e+00, -1.00000000e+00,\n",
              "        -1.00000000e+00, -1.20621164e+01, -7.69497108e+01,\n",
              "         1.00000000e+00,  5.60000000e+01,  0.00000000e+00,\n",
              "         2.00000000e+02,  3.33580000e+02,  1.70336250e+05],\n",
              "       [ 1.00000000e+00,  0.00000000e+00,  9.00000000e+00,\n",
              "         3.00000000e+00,  1.00000000e+00,  0.00000000e+00,\n",
              "         1.00000000e+00,  0.00000000e+00,  2.02200000e+03,\n",
              "         1.00000000e+00,  2.00000000e+00, -1.00000000e+00,\n",
              "        -1.00000000e+00, -1.21213057e+01, -7.69997372e+01,\n",
              "         1.00000000e+00,  4.80000000e+01,  2.00000000e+00,\n",
              "         1.65300000e+02,  1.35000000e+02,  2.95212150e+05]])"
            ]
          },
          "metadata": {},
          "execution_count": 856
        }
      ]
    },
    {
      "cell_type": "code",
      "source": [
        "#crear y (valor de la columna valor comercial)\n",
        "y =  np.array(df[\"Valor comercial\"])\n",
        "y"
      ],
      "metadata": {
        "id": "cHwLONYAcV6F",
        "colab": {
          "base_uri": "https://localhost:8080/"
        },
        "outputId": "7bee5968-855b-4af2-afa2-cabc4fe3a1f3"
      },
      "execution_count": 857,
      "outputs": [
        {
          "output_type": "execute_result",
          "data": {
            "text/plain": [
              "array([120708.8 , 192225.  , 137886.28,  44400.  , 111600.  , 604139.2 ,\n",
              "       262095.12, 298389.  , 144249.8 , 102267.12, 104563.2 , 137410.  ,\n",
              "       117580.5 ,  52000.  , 336684.19, 134848.86, 106120.  , 253035.51,\n",
              "       170336.25, 295212.15])"
            ]
          },
          "metadata": {},
          "execution_count": 857
        }
      ]
    },
    {
      "cell_type": "code",
      "source": [
        "#Forma 1\n",
        "from sklearn.model_selection import train_test_split\n",
        "#X_main, X_test, y_main, y_test = train_test_split(X,y,test_size=0.8) # Puedes usar desde esta linea\n",
        "#X_train, X_val, y_train, y_val = train_test_split(X_main,y_main, train_size=0.2) # \n",
        "X_train, X_test, y_train, y_test = train_test_split(X,y, train_size=0.9) "
      ],
      "metadata": {
        "id": "O129luAv1wS3"
      },
      "execution_count": 858,
      "outputs": []
    },
    {
      "cell_type": "markdown",
      "source": [],
      "metadata": {
        "id": "uzjdkG2Lr4_r"
      }
    },
    {
      "cell_type": "code",
      "source": [
        "#revisa el tamaño de cada muesta\n",
        "X_train.shape, X_test.shape, y_train.shape, y_test.shape"
      ],
      "metadata": {
        "id": "9tA_VHSXAJyL",
        "colab": {
          "base_uri": "https://localhost:8080/"
        },
        "outputId": "e6c3e729-6940-4276-ade4-380f9c236682"
      },
      "execution_count": 859,
      "outputs": [
        {
          "output_type": "execute_result",
          "data": {
            "text/plain": [
              "((18, 21), (2, 21), (18,), (2,))"
            ]
          },
          "metadata": {},
          "execution_count": 859
        }
      ]
    },
    {
      "cell_type": "markdown",
      "source": [
        "# Red Neuronal"
      ],
      "metadata": {
        "id": "_d-OClwHSx0i"
      }
    },
    {
      "cell_type": "code",
      "source": [
        "data_shape = df.shape[1:]\n",
        "data_shape[0]"
      ],
      "metadata": {
        "id": "NVeGysh5YMyx",
        "colab": {
          "base_uri": "https://localhost:8080/"
        },
        "outputId": "b6cefc5a-ce04-4952-afdd-360fa22b68c6"
      },
      "execution_count": 860,
      "outputs": [
        {
          "output_type": "execute_result",
          "data": {
            "text/plain": [
              "21"
            ]
          },
          "metadata": {},
          "execution_count": 860
        }
      ]
    },
    {
      "cell_type": "code",
      "source": [
        "# Inicialización de red neuronal\n",
        "network = models.Sequential()  \n",
        "#network.add(layers.Dense(units=data_shape[0], activation='sigmoid', input_dim=data_shape[0], name='hidden-layer_1'))\n",
        "#network.add(layers.Dense(units=data_shape[0], activation='sigmoid', input_dim=data_shape[0], name='hidden-layer_2'))\n",
        "#network.add(layers.Dense(units=data_shape[0], activation='sigmoid', input_dim=data_shape[0], name='hidden-layer_3'))\n",
        "#network.add(layers.Dense(units=1, activation='sigmoid', name='output'))\n",
        "network.add(layers.InputLayer(data_shape))\n",
        "network.add(layers.Dense(256,'relu'))\n",
        "network.add(layers.Dense(128,'relu'))\n",
        "network.add(layers.Dense(64,'relu'))\n",
        "network.add(layers.Dense(32,'relu'))\n",
        "network.add(layers.Dense(16,'relu'))\n",
        "network.add(layers.Dense(1,'linear'))\n"
      ],
      "metadata": {
        "id": "gs6mM8b4S0Xn"
      },
      "execution_count": 861,
      "outputs": []
    },
    {
      "cell_type": "code",
      "source": [
        "# optimizador\n",
        "opt = tf.keras.optimizers.Adam(learning_rate=.1) \n",
        "# compilador\n",
        "network.compile(optimizer=opt, loss='mse', metrics=[keras.metrics.RootMeanSquaredError()])\n",
        "# Muestra arquitectura de la red\n",
        "network.summary()"
      ],
      "metadata": {
        "id": "xLNOtBrIUU1g",
        "colab": {
          "base_uri": "https://localhost:8080/"
        },
        "outputId": "f08c769e-31a0-4970-a3db-8408a84a3e79"
      },
      "execution_count": 862,
      "outputs": [
        {
          "output_type": "stream",
          "name": "stdout",
          "text": [
            "Model: \"sequential_26\"\n",
            "_________________________________________________________________\n",
            " Layer (type)                Output Shape              Param #   \n",
            "=================================================================\n",
            " dense_116 (Dense)           (None, 256)               5632      \n",
            "                                                                 \n",
            " dense_117 (Dense)           (None, 128)               32896     \n",
            "                                                                 \n",
            " dense_118 (Dense)           (None, 64)                8256      \n",
            "                                                                 \n",
            " dense_119 (Dense)           (None, 32)                2080      \n",
            "                                                                 \n",
            " dense_120 (Dense)           (None, 16)                528       \n",
            "                                                                 \n",
            " dense_121 (Dense)           (None, 1)                 17        \n",
            "                                                                 \n",
            "=================================================================\n",
            "Total params: 49,409\n",
            "Trainable params: 49,409\n",
            "Non-trainable params: 0\n",
            "_________________________________________________________________\n"
          ]
        }
      ]
    },
    {
      "cell_type": "code",
      "source": [
        "y_train.shape"
      ],
      "metadata": {
        "id": "TiyxfLF-bw7H",
        "colab": {
          "base_uri": "https://localhost:8080/"
        },
        "outputId": "263108ce-deb8-4521-fcee-d1dcfc47cd98"
      },
      "execution_count": 863,
      "outputs": [
        {
          "output_type": "execute_result",
          "data": {
            "text/plain": [
              "(18,)"
            ]
          },
          "metadata": {},
          "execution_count": 863
        }
      ]
    },
    {
      "cell_type": "code",
      "source": [
        "X_train.shape"
      ],
      "metadata": {
        "id": "pPY-KiKqb1t9",
        "colab": {
          "base_uri": "https://localhost:8080/"
        },
        "outputId": "4a4327c0-8627-4c94-ab89-3253a525e24f"
      },
      "execution_count": 864,
      "outputs": [
        {
          "output_type": "execute_result",
          "data": {
            "text/plain": [
              "(18, 21)"
            ]
          },
          "metadata": {},
          "execution_count": 864
        }
      ]
    },
    {
      "cell_type": "markdown",
      "source": [
        "# Fase de entrenamiento"
      ],
      "metadata": {
        "id": "sI4ArQcFxsZO"
      }
    },
    {
      "cell_type": "code",
      "source": [
        "# Entrenamiento de la red\n",
        "#tic = time()\n",
        "network.fit(x=X_train, y=y_train,validation_data=(X,y), epochs=100)\n",
        "#print('total training time:', time()-tic, 'seconds')"
      ],
      "metadata": {
        "id": "-Uy8Q3cRUcNI",
        "colab": {
          "base_uri": "https://localhost:8080/"
        },
        "outputId": "df19eab6-e76c-4e61-ce36-18a3e0ce159d"
      },
      "execution_count": 865,
      "outputs": [
        {
          "output_type": "stream",
          "name": "stdout",
          "text": [
            "Epoch 1/100\n",
            "1/1 [==============================] - 1s 862ms/step - loss: 49588805632.0000 - root_mean_squared_error: 222685.4375 - val_loss: 31530049077248.0000 - val_root_mean_squared_error: 5615162.5000\n",
            "Epoch 2/100\n",
            "1/1 [==============================] - 0s 37ms/step - loss: 30652311273472.0000 - root_mean_squared_error: 5536453.0000 - val_loss: 37140901888.0000 - val_root_mean_squared_error: 192719.7500\n",
            "Epoch 3/100\n",
            "1/1 [==============================] - 0s 38ms/step - loss: 36111695872.0000 - root_mean_squared_error: 190030.7812 - val_loss: 24079849472.0000 - val_root_mean_squared_error: 155176.8281\n",
            "Epoch 4/100\n",
            "1/1 [==============================] - 0s 38ms/step - loss: 23410931712.0000 - root_mean_squared_error: 153006.3125 - val_loss: 1317590400.0000 - val_root_mean_squared_error: 36298.6289\n",
            "Epoch 5/100\n",
            "1/1 [==============================] - 0s 41ms/step - loss: 1277454848.0000 - root_mean_squared_error: 35741.5000 - val_loss: 3828615936.0000 - val_root_mean_squared_error: 61875.8125\n",
            "Epoch 6/100\n",
            "1/1 [==============================] - 0s 36ms/step - loss: 3711330560.0000 - root_mean_squared_error: 60920.6914 - val_loss: 50407321600.0000 - val_root_mean_squared_error: 224515.7500\n",
            "Epoch 7/100\n",
            "1/1 [==============================] - 0s 36ms/step - loss: 49009852416.0000 - root_mean_squared_error: 221381.6875 - val_loss: 50398420992.0000 - val_root_mean_squared_error: 224495.9219\n",
            "Epoch 8/100\n",
            "1/1 [==============================] - 0s 41ms/step - loss: 49001259008.0000 - root_mean_squared_error: 221362.2812 - val_loss: 50382168064.0000 - val_root_mean_squared_error: 224459.7188\n",
            "Epoch 9/100\n",
            "1/1 [==============================] - 0s 40ms/step - loss: 48985587712.0000 - root_mean_squared_error: 221326.8750 - val_loss: 50355699712.0000 - val_root_mean_squared_error: 224400.7500\n",
            "Epoch 10/100\n",
            "1/1 [==============================] - 0s 34ms/step - loss: 48960049152.0000 - root_mean_squared_error: 221269.1719 - val_loss: 50316107776.0000 - val_root_mean_squared_error: 224312.5156\n",
            "Epoch 11/100\n",
            "1/1 [==============================] - 0s 34ms/step - loss: 48921853952.0000 - root_mean_squared_error: 221182.8594 - val_loss: 50260451328.0000 - val_root_mean_squared_error: 224188.4219\n",
            "Epoch 12/100\n",
            "1/1 [==============================] - 0s 40ms/step - loss: 48868151296.0000 - root_mean_squared_error: 221061.4219 - val_loss: 50185719808.0000 - val_root_mean_squared_error: 224021.6875\n",
            "Epoch 13/100\n",
            "1/1 [==============================] - 0s 36ms/step - loss: 48796057600.0000 - root_mean_squared_error: 220898.2969 - val_loss: 50088804352.0000 - val_root_mean_squared_error: 223805.2812\n",
            "Epoch 14/100\n",
            "1/1 [==============================] - 0s 43ms/step - loss: 48702570496.0000 - root_mean_squared_error: 220686.5938 - val_loss: 49966452736.0000 - val_root_mean_squared_error: 223531.7656\n",
            "Epoch 15/100\n",
            "1/1 [==============================] - 0s 35ms/step - loss: 48584552448.0000 - root_mean_squared_error: 220419.0312 - val_loss: 49815150592.0000 - val_root_mean_squared_error: 223193.0781\n",
            "Epoch 16/100\n",
            "1/1 [==============================] - 0s 34ms/step - loss: 48438620160.0000 - root_mean_squared_error: 220087.7500 - val_loss: 49630781440.0000 - val_root_mean_squared_error: 222779.6719\n",
            "Epoch 17/100\n",
            "1/1 [==============================] - 0s 37ms/step - loss: 48260796416.0000 - root_mean_squared_error: 219683.4062 - val_loss: 49408696320.0000 - val_root_mean_squared_error: 222280.6719\n",
            "Epoch 18/100\n",
            "1/1 [==============================] - 0s 37ms/step - loss: 48046637056.0000 - root_mean_squared_error: 219195.4375 - val_loss: 49143590912.0000 - val_root_mean_squared_error: 221683.5312\n",
            "Epoch 19/100\n",
            "1/1 [==============================] - 0s 34ms/step - loss: 47791022080.0000 - root_mean_squared_error: 218611.5781 - val_loss: 48829210624.0000 - val_root_mean_squared_error: 220973.3281\n",
            "Epoch 20/100\n",
            "1/1 [==============================] - 0s 39ms/step - loss: 47487946752.0000 - root_mean_squared_error: 217917.2969 - val_loss: 48458584064.0000 - val_root_mean_squared_error: 220133.1094\n",
            "Epoch 21/100\n",
            "1/1 [==============================] - 0s 39ms/step - loss: 47130710016.0000 - root_mean_squared_error: 217096.0781 - val_loss: 48024178688.0000 - val_root_mean_squared_error: 219144.2031\n",
            "Epoch 22/100\n",
            "1/1 [==============================] - 0s 36ms/step - loss: 46712094720.0000 - root_mean_squared_error: 216129.8125 - val_loss: 47516782592.0000 - val_root_mean_squared_error: 217983.4531\n",
            "Epoch 23/100\n",
            "1/1 [==============================] - 0s 39ms/step - loss: 46223278080.0000 - root_mean_squared_error: 214996.0000 - val_loss: 46926016512.0000 - val_root_mean_squared_error: 216624.1406\n",
            "Epoch 24/100\n",
            "1/1 [==============================] - 0s 44ms/step - loss: 45654343680.0000 - root_mean_squared_error: 213668.7656 - val_loss: 46239944704.0000 - val_root_mean_squared_error: 215034.7500\n",
            "Epoch 25/100\n",
            "1/1 [==============================] - 0s 44ms/step - loss: 44993880064.0000 - root_mean_squared_error: 212117.6094 - val_loss: 45444816896.0000 - val_root_mean_squared_error: 213177.9062\n",
            "Epoch 26/100\n",
            "1/1 [==============================] - 0s 38ms/step - loss: 44228792320.0000 - root_mean_squared_error: 210306.4219 - val_loss: 44524859392.0000 - val_root_mean_squared_error: 211009.1406\n",
            "Epoch 27/100\n",
            "1/1 [==============================] - 0s 37ms/step - loss: 43344093184.0000 - root_mean_squared_error: 208192.4375 - val_loss: 43462598656.0000 - val_root_mean_squared_error: 208476.8594\n",
            "Epoch 28/100\n",
            "1/1 [==============================] - 0s 37ms/step - loss: 42323251200.0000 - root_mean_squared_error: 205726.1562 - val_loss: 42235109376.0000 - val_root_mean_squared_error: 205511.8281\n",
            "Epoch 29/100\n",
            "1/1 [==============================] - 0s 48ms/step - loss: 41144635392.0000 - root_mean_squared_error: 202841.4062 - val_loss: 40822140928.0000 - val_root_mean_squared_error: 202044.8906\n",
            "Epoch 30/100\n",
            "1/1 [==============================] - 0s 37ms/step - loss: 39789338624.0000 - root_mean_squared_error: 199472.6562 - val_loss: 39198466048.0000 - val_root_mean_squared_error: 197986.0312\n",
            "Epoch 31/100\n",
            "1/1 [==============================] - 0s 36ms/step - loss: 38233976832.0000 - root_mean_squared_error: 195535.1094 - val_loss: 37339684864.0000 - val_root_mean_squared_error: 193234.7969\n",
            "Epoch 32/100\n",
            "1/1 [==============================] - 0s 45ms/step - loss: 36456370176.0000 - root_mean_squared_error: 190935.5156 - val_loss: 35223961600.0000 - val_root_mean_squared_error: 187680.4844\n",
            "Epoch 33/100\n",
            "1/1 [==============================] - 0s 42ms/step - loss: 34437419008.0000 - root_mean_squared_error: 185573.2188 - val_loss: 32838424576.0000 - val_root_mean_squared_error: 181213.7500\n",
            "Epoch 34/100\n",
            "1/1 [==============================] - 0s 37ms/step - loss: 32167516160.0000 - root_mean_squared_error: 179353.0469 - val_loss: 30187188224.0000 - val_root_mean_squared_error: 173744.6094\n",
            "Epoch 35/100\n",
            "1/1 [==============================] - 0s 42ms/step - loss: 29654706176.0000 - root_mean_squared_error: 172205.4219 - val_loss: 27306086400.0000 - val_root_mean_squared_error: 165245.5312\n",
            "Epoch 36/100\n",
            "1/1 [==============================] - 0s 37ms/step - loss: 26939338752.0000 - root_mean_squared_error: 164132.0781 - val_loss: 24283267072.0000 - val_root_mean_squared_error: 155830.8906\n",
            "Epoch 37/100\n",
            "1/1 [==============================] - 0s 48ms/step - loss: 24114481152.0000 - root_mean_squared_error: 155288.3750 - val_loss: 21286250496.0000 - val_root_mean_squared_error: 145898.0781\n",
            "Epoch 38/100\n",
            "1/1 [==============================] - 0s 35ms/step - loss: 21352472576.0000 - root_mean_squared_error: 146124.8594 - val_loss: 18589835264.0000 - val_root_mean_squared_error: 136344.5469\n",
            "Epoch 39/100\n",
            "1/1 [==============================] - 0s 37ms/step - loss: 18931646464.0000 - root_mean_squared_error: 137592.3125 - val_loss: 16585610240.0000 - val_root_mean_squared_error: 128785.1328\n",
            "Epoch 40/100\n",
            "1/1 [==============================] - 0s 41ms/step - loss: 17243242496.0000 - root_mean_squared_error: 131313.5312 - val_loss: 15720644608.0000 - val_root_mean_squared_error: 125381.9922\n",
            "Epoch 41/100\n",
            "1/1 [==============================] - 0s 44ms/step - loss: 16725120000.0000 - root_mean_squared_error: 129325.6328 - val_loss: 16268112896.0000 - val_root_mean_squared_error: 127546.5156\n",
            "Epoch 42/100\n",
            "1/1 [==============================] - 0s 44ms/step - loss: 17623261184.0000 - root_mean_squared_error: 132752.6250 - val_loss: 17856018432.0000 - val_root_mean_squared_error: 133626.4062\n",
            "Epoch 43/100\n",
            "1/1 [==============================] - 0s 35ms/step - loss: 19509014528.0000 - root_mean_squared_error: 139674.6719 - val_loss: 19379623936.0000 - val_root_mean_squared_error: 139210.7188\n",
            "Epoch 44/100\n",
            "1/1 [==============================] - 0s 36ms/step - loss: 21219571712.0000 - root_mean_squared_error: 145669.3906 - val_loss: 19827605504.0000 - val_root_mean_squared_error: 140810.5312\n",
            "Epoch 45/100\n",
            "1/1 [==============================] - 0s 39ms/step - loss: 21714657280.0000 - root_mean_squared_error: 147358.9375 - val_loss: 19079956480.0000 - val_root_mean_squared_error: 138130.2188\n",
            "Epoch 46/100\n",
            "1/1 [==============================] - 0s 42ms/step - loss: 20886767616.0000 - root_mean_squared_error: 144522.5469 - val_loss: 17727049728.0000 - val_root_mean_squared_error: 133142.9688\n",
            "Epoch 47/100\n",
            "1/1 [==============================] - 0s 44ms/step - loss: 19361505280.0000 - root_mean_squared_error: 139145.6250 - val_loss: 16484212736.0000 - val_root_mean_squared_error: 128390.8594\n",
            "Epoch 48/100\n",
            "1/1 [==============================] - 0s 37ms/step - loss: 17894488064.0000 - root_mean_squared_error: 133770.2812 - val_loss: 15801021440.0000 - val_root_mean_squared_error: 125702.1172\n",
            "Epoch 49/100\n",
            "1/1 [==============================] - 0s 38ms/step - loss: 16971106304.0000 - root_mean_squared_error: 130273.1953 - val_loss: 15773779968.0000 - val_root_mean_squared_error: 125593.7109\n",
            "Epoch 50/100\n",
            "1/1 [==============================] - 0s 46ms/step - loss: 16715272192.0000 - root_mean_squared_error: 129287.5547 - val_loss: 16238630912.0000 - val_root_mean_squared_error: 127430.8906\n",
            "Epoch 51/100\n",
            "1/1 [==============================] - 0s 44ms/step - loss: 16982860800.0000 - root_mean_squared_error: 130318.3047 - val_loss: 16908312576.0000 - val_root_mean_squared_error: 130031.9688\n",
            "Epoch 52/100\n",
            "1/1 [==============================] - 0s 41ms/step - loss: 17499998208.0000 - root_mean_squared_error: 132287.5625 - val_loss: 17506424832.0000 - val_root_mean_squared_error: 132311.8438\n",
            "Epoch 53/100\n",
            "1/1 [==============================] - 0s 38ms/step - loss: 17996206080.0000 - root_mean_squared_error: 134149.9375 - val_loss: 17866237952.0000 - val_root_mean_squared_error: 133664.6406\n",
            "Epoch 54/100\n",
            "1/1 [==============================] - 0s 39ms/step - loss: 18302875648.0000 - root_mean_squared_error: 135288.1250 - val_loss: 17938952192.0000 - val_root_mean_squared_error: 133936.3750\n",
            "Epoch 55/100\n",
            "1/1 [==============================] - 0s 36ms/step - loss: 18365405184.0000 - root_mean_squared_error: 135519.0156 - val_loss: 17753395200.0000 - val_root_mean_squared_error: 133241.8750\n",
            "Epoch 56/100\n",
            "1/1 [==============================] - 0s 40ms/step - loss: 18206187520.0000 - root_mean_squared_error: 134930.3125 - val_loss: 17380618240.0000 - val_root_mean_squared_error: 131835.5781\n",
            "Epoch 57/100\n",
            "1/1 [==============================] - 0s 42ms/step - loss: 17890220032.0000 - root_mean_squared_error: 133754.3281 - val_loss: 16911589376.0000 - val_root_mean_squared_error: 130044.5703\n",
            "Epoch 58/100\n",
            "1/1 [==============================] - 0s 45ms/step - loss: 17502656512.0000 - root_mean_squared_error: 132297.6094 - val_loss: 16441330688.0000 - val_root_mean_squared_error: 128223.7500\n",
            "Epoch 59/100\n",
            "1/1 [==============================] - 0s 56ms/step - loss: 17132390400.0000 - root_mean_squared_error: 130890.7578 - val_loss: 16053725184.0000 - val_root_mean_squared_error: 126703.2969\n",
            "Epoch 60/100\n",
            "1/1 [==============================] - 0s 43ms/step - loss: 16856404992.0000 - root_mean_squared_error: 129832.2188 - val_loss: 15805530112.0000 - val_root_mean_squared_error: 125720.0469\n",
            "Epoch 61/100\n",
            "1/1 [==============================] - 0s 34ms/step - loss: 16723447808.0000 - root_mean_squared_error: 129319.1719 - val_loss: 15712679936.0000 - val_root_mean_squared_error: 125350.2266\n",
            "Epoch 62/100\n",
            "1/1 [==============================] - 0s 39ms/step - loss: 16740446208.0000 - root_mean_squared_error: 129384.8750 - val_loss: 15745635328.0000 - val_root_mean_squared_error: 125481.6172\n",
            "Epoch 63/100\n",
            "1/1 [==============================] - 0s 62ms/step - loss: 16868536320.0000 - root_mean_squared_error: 129878.9297 - val_loss: 15840499712.0000 - val_root_mean_squared_error: 125859.0469\n",
            "Epoch 64/100\n",
            "1/1 [==============================] - 0s 38ms/step - loss: 17035378688.0000 - root_mean_squared_error: 130519.6484 - val_loss: 15925488640.0000 - val_root_mean_squared_error: 126196.2344\n",
            "Epoch 65/100\n",
            "1/1 [==============================] - 0s 41ms/step - loss: 17163179008.0000 - root_mean_squared_error: 131008.3203 - val_loss: 15951513600.0000 - val_root_mean_squared_error: 126299.3047\n",
            "Epoch 66/100\n",
            "1/1 [==============================] - 0s 46ms/step - loss: 17200519168.0000 - root_mean_squared_error: 131150.7500 - val_loss: 15909972992.0000 - val_root_mean_squared_error: 126134.7422\n",
            "Epoch 67/100\n",
            "1/1 [==============================] - 0s 36ms/step - loss: 17140587520.0000 - root_mean_squared_error: 130922.0703 - val_loss: 15828560896.0000 - val_root_mean_squared_error: 125811.6094\n",
            "Epoch 68/100\n",
            "1/1 [==============================] - 0s 40ms/step - loss: 17016400896.0000 - root_mean_squared_error: 130446.9297 - val_loss: 15750564864.0000 - val_root_mean_squared_error: 125501.2578\n",
            "Epoch 69/100\n",
            "1/1 [==============================] - 0s 37ms/step - loss: 16878764032.0000 - root_mean_squared_error: 129918.2969 - val_loss: 15712045056.0000 - val_root_mean_squared_error: 125347.6953\n",
            "Epoch 70/100\n",
            "1/1 [==============================] - 0s 41ms/step - loss: 16771951616.0000 - root_mean_squared_error: 129506.5703 - val_loss: 15728384000.0000 - val_root_mean_squared_error: 125412.8516\n",
            "Epoch 71/100\n",
            "1/1 [==============================] - 0s 61ms/step - loss: 16718991360.0000 - root_mean_squared_error: 129301.9375 - val_loss: 15793127424.0000 - val_root_mean_squared_error: 125670.7109\n",
            "Epoch 72/100\n",
            "1/1 [==============================] - 0s 40ms/step - loss: 16719695872.0000 - root_mean_squared_error: 129304.6641 - val_loss: 15885134848.0000 - val_root_mean_squared_error: 126036.2422\n",
            "Epoch 73/100\n",
            "1/1 [==============================] - 0s 42ms/step - loss: 16757524480.0000 - root_mean_squared_error: 129450.8594 - val_loss: 15978386432.0000 - val_root_mean_squared_error: 126405.6406\n",
            "Epoch 74/100\n",
            "1/1 [==============================] - 0s 39ms/step - loss: 16809398272.0000 - root_mean_squared_error: 129651.0625 - val_loss: 16050176000.0000 - val_root_mean_squared_error: 126689.2891\n",
            "Epoch 75/100\n",
            "1/1 [==============================] - 0s 35ms/step - loss: 16854115328.0000 - root_mean_squared_error: 129823.3984 - val_loss: 16086024192.0000 - val_root_mean_squared_error: 126830.6875\n",
            "Epoch 76/100\n",
            "1/1 [==============================] - 0s 39ms/step - loss: 16877520896.0000 - root_mean_squared_error: 129913.5156 - val_loss: 16081387520.0000 - val_root_mean_squared_error: 126812.4141\n",
            "Epoch 77/100\n",
            "1/1 [==============================] - 0s 40ms/step - loss: 16874460160.0000 - root_mean_squared_error: 129901.7344 - val_loss: 16040847360.0000 - val_root_mean_squared_error: 126652.4688\n",
            "Epoch 78/100\n",
            "1/1 [==============================] - 0s 40ms/step - loss: 16848130048.0000 - root_mean_squared_error: 129800.3438 - val_loss: 15975669760.0000 - val_root_mean_squared_error: 126394.8984\n",
            "Epoch 79/100\n",
            "1/1 [==============================] - 0s 56ms/step - loss: 16807774208.0000 - root_mean_squared_error: 129644.7969 - val_loss: 15900412928.0000 - val_root_mean_squared_error: 126096.8359\n",
            "Epoch 80/100\n",
            "1/1 [==============================] - 0s 40ms/step - loss: 16765372416.0000 - root_mean_squared_error: 129481.1641 - val_loss: 15829272576.0000 - val_root_mean_squared_error: 125814.4375\n",
            "Epoch 81/100\n",
            "1/1 [==============================] - 0s 60ms/step - loss: 16732082176.0000 - root_mean_squared_error: 129352.5469 - val_loss: 15772800000.0000 - val_root_mean_squared_error: 125589.8047\n",
            "Epoch 82/100\n",
            "1/1 [==============================] - 0s 39ms/step - loss: 16715104256.0000 - root_mean_squared_error: 129286.9062 - val_loss: 15735818240.0000 - val_root_mean_squared_error: 125442.4922\n",
            "Epoch 83/100\n",
            "1/1 [==============================] - 0s 44ms/step - loss: 16715812864.0000 - root_mean_squared_error: 129289.6484 - val_loss: 15717135360.0000 - val_root_mean_squared_error: 125368.0000\n",
            "Epoch 84/100\n",
            "1/1 [==============================] - 0s 39ms/step - loss: 16729773056.0000 - root_mean_squared_error: 129343.6250 - val_loss: 15711217664.0000 - val_root_mean_squared_error: 125344.3984\n",
            "Epoch 85/100\n",
            "1/1 [==============================] - 0s 37ms/step - loss: 16748740608.0000 - root_mean_squared_error: 129416.9219 - val_loss: 15711150080.0000 - val_root_mean_squared_error: 125344.1250\n",
            "Epoch 86/100\n",
            "1/1 [==============================] - 0s 39ms/step - loss: 16763963392.0000 - root_mean_squared_error: 129475.7266 - val_loss: 15711710208.0000 - val_root_mean_squared_error: 125346.3594\n",
            "Epoch 87/100\n",
            "1/1 [==============================] - 0s 43ms/step - loss: 16769470464.0000 - root_mean_squared_error: 129496.9922 - val_loss: 15711144960.0000 - val_root_mean_squared_error: 125344.1094\n",
            "Epoch 88/100\n",
            "1/1 [==============================] - 0s 42ms/step - loss: 16763914240.0000 - root_mean_squared_error: 129475.5391 - val_loss: 15711071232.0000 - val_root_mean_squared_error: 125343.8125\n",
            "Epoch 89/100\n",
            "1/1 [==============================] - 0s 38ms/step - loss: 16750344192.0000 - root_mean_squared_error: 129423.1172 - val_loss: 15714792448.0000 - val_root_mean_squared_error: 125358.6562\n",
            "Epoch 90/100\n",
            "1/1 [==============================] - 0s 39ms/step - loss: 16734266368.0000 - root_mean_squared_error: 129360.9922 - val_loss: 15725125632.0000 - val_root_mean_squared_error: 125399.8594\n",
            "Epoch 91/100\n",
            "1/1 [==============================] - 0s 42ms/step - loss: 16721100800.0000 - root_mean_squared_error: 129310.0938 - val_loss: 15742757888.0000 - val_root_mean_squared_error: 125470.1484\n",
            "Epoch 92/100\n",
            "1/1 [==============================] - 0s 48ms/step - loss: 16714201088.0000 - root_mean_squared_error: 129283.4141 - val_loss: 15765801984.0000 - val_root_mean_squared_error: 125561.9453\n",
            "Epoch 93/100\n",
            "1/1 [==============================] - 0s 38ms/step - loss: 16714109952.0000 - root_mean_squared_error: 129283.0625 - val_loss: 15790391296.0000 - val_root_mean_squared_error: 125659.8203\n",
            "Epoch 94/100\n",
            "1/1 [==============================] - 0s 43ms/step - loss: 16718954496.0000 - root_mean_squared_error: 129301.7969 - val_loss: 15811990528.0000 - val_root_mean_squared_error: 125745.7344\n",
            "Epoch 95/100\n",
            "1/1 [==============================] - 0s 39ms/step - loss: 16725624832.0000 - root_mean_squared_error: 129327.5859 - val_loss: 15826690048.0000 - val_root_mean_squared_error: 125804.1719\n",
            "Epoch 96/100\n",
            "1/1 [==============================] - 0s 45ms/step - loss: 16731064320.0000 - root_mean_squared_error: 129348.6172 - val_loss: 15832211456.0000 - val_root_mean_squared_error: 125826.1172\n",
            "Epoch 97/100\n",
            "1/1 [==============================] - 0s 39ms/step - loss: 16733261824.0000 - root_mean_squared_error: 129357.1094 - val_loss: 15828287488.0000 - val_root_mean_squared_error: 125810.5234\n",
            "Epoch 98/100\n",
            "1/1 [==============================] - 0s 45ms/step - loss: 16731692032.0000 - root_mean_squared_error: 129351.0391 - val_loss: 15816510464.0000 - val_root_mean_squared_error: 125763.7109\n",
            "Epoch 99/100\n",
            "1/1 [==============================] - 0s 38ms/step - loss: 16727230464.0000 - root_mean_squared_error: 129333.7969 - val_loss: 15799692288.0000 - val_root_mean_squared_error: 125696.8281\n",
            "Epoch 100/100\n",
            "1/1 [==============================] - 0s 41ms/step - loss: 16721604608.0000 - root_mean_squared_error: 129312.0469 - val_loss: 15781058560.0000 - val_root_mean_squared_error: 125622.6797\n"
          ]
        },
        {
          "output_type": "execute_result",
          "data": {
            "text/plain": [
              "<keras.callbacks.History at 0x7f28d58e2350>"
            ]
          },
          "metadata": {},
          "execution_count": 865
        }
      ]
    },
    {
      "cell_type": "code",
      "source": [
        "# Precisiónx\n",
        "results = network.evaluate(X_test, y_test)\n",
        "print('results loss:', results[0])\n",
        "print('results accuracy:', results[1])"
      ],
      "metadata": {
        "id": "Yj5FPtNwVGcK",
        "colab": {
          "base_uri": "https://localhost:8080/"
        },
        "outputId": "356bea9e-c42b-4dab-bcb4-be241bd2382b"
      },
      "execution_count": 866,
      "outputs": [
        {
          "output_type": "stream",
          "name": "stdout",
          "text": [
            "1/1 [==============================] - 0s 24ms/step - loss: 7360326144.0000 - root_mean_squared_error: 85792.3438\n",
            "results loss: 7360326144.0\n",
            "results accuracy: 85792.34375\n"
          ]
        }
      ]
    },
    {
      "cell_type": "code",
      "source": [
        "# Salida de la red entrenada\n",
        "y_output = network.predict(X_test)\n",
        "print(\"Salida de la red neuronal: \")\n",
        "print(y_output.round().transpose())"
      ],
      "metadata": {
        "id": "bDLRRGBEVHcb",
        "colab": {
          "base_uri": "https://localhost:8080/"
        },
        "outputId": "4864e346-34a0-4060-f2cd-6a6db49c0f85"
      },
      "execution_count": 867,
      "outputs": [
        {
          "output_type": "stream",
          "name": "stdout",
          "text": [
            "1/1 [==============================] - 0s 77ms/step\n",
            "Salida de la red neuronal: \n",
            "[[177908. 177908.]]\n"
          ]
        }
      ]
    },
    {
      "cell_type": "code",
      "source": [
        "mean_squared_error(network.predict(X_test),y_test,squared=False)"
      ],
      "metadata": {
        "id": "IjWPyAInl_63",
        "colab": {
          "base_uri": "https://localhost:8080/"
        },
        "outputId": "145306d0-eef9-4ae8-9fe3-2214dc194e57"
      },
      "execution_count": 868,
      "outputs": [
        {
          "output_type": "stream",
          "name": "stdout",
          "text": [
            "1/1 [==============================] - 0s 19ms/step\n"
          ]
        },
        {
          "output_type": "execute_result",
          "data": {
            "text/plain": [
              "85792.34249756207"
            ]
          },
          "metadata": {},
          "execution_count": 868
        }
      ]
    },
    {
      "cell_type": "markdown",
      "source": [
        "# Fase de pruebas\n"
      ],
      "metadata": {
        "id": "ncA9Vciz95ti"
      }
    },
    {
      "cell_type": "code",
      "source": [
        "path = '/content/drive/MyDrive/BBVA_Hackaton/Test2_Data_BBVA.csv'\n",
        "df_test = pd.read_csv(path)\n",
        "df_test.head()"
      ],
      "metadata": {
        "id": "ASkewzxxu8ZC",
        "colab": {
          "base_uri": "https://localhost:8080/",
          "height": 496
        },
        "outputId": "d59fc9ea-58af-4dec-f4bf-969238def5c0"
      },
      "execution_count": 876,
      "outputs": [
        {
          "output_type": "execute_result",
          "data": {
            "text/plain": [
              "   Fecha entrega del Informe  Tipo de via  Piso Departamento  \\\n",
              "0                       2021            1    -1         Lima   \n",
              "1                       2017            2    -1         Lima   \n",
              "2                       2019            3    -1      Apurmac   \n",
              "3                       2019            2    -1      Ucayali   \n",
              "4                       2020            1    -1         Lima   \n",
              "\n",
              "          Provincia           Distrito  Numero de estacionamiento  Depositos  \\\n",
              "0              Lima          Surquillo                          0          1   \n",
              "1              Lima  Santiago de Surco                          1          1   \n",
              "2        Chincheros         Chincheros                          1          1   \n",
              "3  Coronel Portillo           Calleria                         -1         -1   \n",
              "4              Lima  Magdalena del Mar                          1          2   \n",
              "\n",
              "     Latitud   Longitud Categoria del bien     Posicion  Numero de frentes  \\\n",
              "0 -12.105644 -77.025705       Departamento  No definido                 -1   \n",
              "1 -12.138068 -76.985660       Departamento  No definido                 -1   \n",
              "2   0.000000 -77.090878            Oficina  No definido                 -1   \n",
              "3  -8.381362 -74.537930     Terreno Urbano  No definido                 -1   \n",
              "4 -12.091392 -77.055850        No definido  No definido                 -1   \n",
              "\n",
              "   Edad  Elevador Estado de conservacion               Metodo Representado  \\\n",
              "0     1        -1                  Bueno  Comparacion de mercado (directo)   \n",
              "1     1        -1              Muy bueno  Comparacion de mercado (directo)   \n",
              "2     1        -1                  Bueno  Comparacion de mercado (directo)   \n",
              "3    -1        -1            No definido     Costos o reposicion (directo)   \n",
              "4     2        -1            En proyecto  Comparacion de mercado (directo)   \n",
              "\n",
              "   Area Terreno  Area Construccion  Valor comercial  \n",
              "0         11.00              64.92                0  \n",
              "1         50.32             134.20                0  \n",
              "2      44778.00             111.11                0  \n",
              "3         31.00               0.00                0  \n",
              "4          3.22             111.11                0  "
            ],
            "text/html": [
              "\n",
              "  <div id=\"df-e46e6f7a-5e67-4256-ba64-f0139ffe3b03\">\n",
              "    <div class=\"colab-df-container\">\n",
              "      <div>\n",
              "<style scoped>\n",
              "    .dataframe tbody tr th:only-of-type {\n",
              "        vertical-align: middle;\n",
              "    }\n",
              "\n",
              "    .dataframe tbody tr th {\n",
              "        vertical-align: top;\n",
              "    }\n",
              "\n",
              "    .dataframe thead th {\n",
              "        text-align: right;\n",
              "    }\n",
              "</style>\n",
              "<table border=\"1\" class=\"dataframe\">\n",
              "  <thead>\n",
              "    <tr style=\"text-align: right;\">\n",
              "      <th></th>\n",
              "      <th>Fecha entrega del Informe</th>\n",
              "      <th>Tipo de via</th>\n",
              "      <th>Piso</th>\n",
              "      <th>Departamento</th>\n",
              "      <th>Provincia</th>\n",
              "      <th>Distrito</th>\n",
              "      <th>Numero de estacionamiento</th>\n",
              "      <th>Depositos</th>\n",
              "      <th>Latitud</th>\n",
              "      <th>Longitud</th>\n",
              "      <th>Categoria del bien</th>\n",
              "      <th>Posicion</th>\n",
              "      <th>Numero de frentes</th>\n",
              "      <th>Edad</th>\n",
              "      <th>Elevador</th>\n",
              "      <th>Estado de conservacion</th>\n",
              "      <th>Metodo Representado</th>\n",
              "      <th>Area Terreno</th>\n",
              "      <th>Area Construccion</th>\n",
              "      <th>Valor comercial</th>\n",
              "    </tr>\n",
              "  </thead>\n",
              "  <tbody>\n",
              "    <tr>\n",
              "      <th>0</th>\n",
              "      <td>2021</td>\n",
              "      <td>1</td>\n",
              "      <td>-1</td>\n",
              "      <td>Lima</td>\n",
              "      <td>Lima</td>\n",
              "      <td>Surquillo</td>\n",
              "      <td>0</td>\n",
              "      <td>1</td>\n",
              "      <td>-12.105644</td>\n",
              "      <td>-77.025705</td>\n",
              "      <td>Departamento</td>\n",
              "      <td>No definido</td>\n",
              "      <td>-1</td>\n",
              "      <td>1</td>\n",
              "      <td>-1</td>\n",
              "      <td>Bueno</td>\n",
              "      <td>Comparacion de mercado (directo)</td>\n",
              "      <td>11.00</td>\n",
              "      <td>64.92</td>\n",
              "      <td>0</td>\n",
              "    </tr>\n",
              "    <tr>\n",
              "      <th>1</th>\n",
              "      <td>2017</td>\n",
              "      <td>2</td>\n",
              "      <td>-1</td>\n",
              "      <td>Lima</td>\n",
              "      <td>Lima</td>\n",
              "      <td>Santiago de Surco</td>\n",
              "      <td>1</td>\n",
              "      <td>1</td>\n",
              "      <td>-12.138068</td>\n",
              "      <td>-76.985660</td>\n",
              "      <td>Departamento</td>\n",
              "      <td>No definido</td>\n",
              "      <td>-1</td>\n",
              "      <td>1</td>\n",
              "      <td>-1</td>\n",
              "      <td>Muy bueno</td>\n",
              "      <td>Comparacion de mercado (directo)</td>\n",
              "      <td>50.32</td>\n",
              "      <td>134.20</td>\n",
              "      <td>0</td>\n",
              "    </tr>\n",
              "    <tr>\n",
              "      <th>2</th>\n",
              "      <td>2019</td>\n",
              "      <td>3</td>\n",
              "      <td>-1</td>\n",
              "      <td>Apurmac</td>\n",
              "      <td>Chincheros</td>\n",
              "      <td>Chincheros</td>\n",
              "      <td>1</td>\n",
              "      <td>1</td>\n",
              "      <td>0.000000</td>\n",
              "      <td>-77.090878</td>\n",
              "      <td>Oficina</td>\n",
              "      <td>No definido</td>\n",
              "      <td>-1</td>\n",
              "      <td>1</td>\n",
              "      <td>-1</td>\n",
              "      <td>Bueno</td>\n",
              "      <td>Comparacion de mercado (directo)</td>\n",
              "      <td>44778.00</td>\n",
              "      <td>111.11</td>\n",
              "      <td>0</td>\n",
              "    </tr>\n",
              "    <tr>\n",
              "      <th>3</th>\n",
              "      <td>2019</td>\n",
              "      <td>2</td>\n",
              "      <td>-1</td>\n",
              "      <td>Ucayali</td>\n",
              "      <td>Coronel Portillo</td>\n",
              "      <td>Calleria</td>\n",
              "      <td>-1</td>\n",
              "      <td>-1</td>\n",
              "      <td>-8.381362</td>\n",
              "      <td>-74.537930</td>\n",
              "      <td>Terreno Urbano</td>\n",
              "      <td>No definido</td>\n",
              "      <td>-1</td>\n",
              "      <td>-1</td>\n",
              "      <td>-1</td>\n",
              "      <td>No definido</td>\n",
              "      <td>Costos o reposicion (directo)</td>\n",
              "      <td>31.00</td>\n",
              "      <td>0.00</td>\n",
              "      <td>0</td>\n",
              "    </tr>\n",
              "    <tr>\n",
              "      <th>4</th>\n",
              "      <td>2020</td>\n",
              "      <td>1</td>\n",
              "      <td>-1</td>\n",
              "      <td>Lima</td>\n",
              "      <td>Lima</td>\n",
              "      <td>Magdalena del Mar</td>\n",
              "      <td>1</td>\n",
              "      <td>2</td>\n",
              "      <td>-12.091392</td>\n",
              "      <td>-77.055850</td>\n",
              "      <td>No definido</td>\n",
              "      <td>No definido</td>\n",
              "      <td>-1</td>\n",
              "      <td>2</td>\n",
              "      <td>-1</td>\n",
              "      <td>En proyecto</td>\n",
              "      <td>Comparacion de mercado (directo)</td>\n",
              "      <td>3.22</td>\n",
              "      <td>111.11</td>\n",
              "      <td>0</td>\n",
              "    </tr>\n",
              "  </tbody>\n",
              "</table>\n",
              "</div>\n",
              "      <button class=\"colab-df-convert\" onclick=\"convertToInteractive('df-e46e6f7a-5e67-4256-ba64-f0139ffe3b03')\"\n",
              "              title=\"Convert this dataframe to an interactive table.\"\n",
              "              style=\"display:none;\">\n",
              "        \n",
              "  <svg xmlns=\"http://www.w3.org/2000/svg\" height=\"24px\"viewBox=\"0 0 24 24\"\n",
              "       width=\"24px\">\n",
              "    <path d=\"M0 0h24v24H0V0z\" fill=\"none\"/>\n",
              "    <path d=\"M18.56 5.44l.94 2.06.94-2.06 2.06-.94-2.06-.94-.94-2.06-.94 2.06-2.06.94zm-11 1L8.5 8.5l.94-2.06 2.06-.94-2.06-.94L8.5 2.5l-.94 2.06-2.06.94zm10 10l.94 2.06.94-2.06 2.06-.94-2.06-.94-.94-2.06-.94 2.06-2.06.94z\"/><path d=\"M17.41 7.96l-1.37-1.37c-.4-.4-.92-.59-1.43-.59-.52 0-1.04.2-1.43.59L10.3 9.45l-7.72 7.72c-.78.78-.78 2.05 0 2.83L4 21.41c.39.39.9.59 1.41.59.51 0 1.02-.2 1.41-.59l7.78-7.78 2.81-2.81c.8-.78.8-2.07 0-2.86zM5.41 20L4 18.59l7.72-7.72 1.47 1.35L5.41 20z\"/>\n",
              "  </svg>\n",
              "      </button>\n",
              "      \n",
              "  <style>\n",
              "    .colab-df-container {\n",
              "      display:flex;\n",
              "      flex-wrap:wrap;\n",
              "      gap: 12px;\n",
              "    }\n",
              "\n",
              "    .colab-df-convert {\n",
              "      background-color: #E8F0FE;\n",
              "      border: none;\n",
              "      border-radius: 50%;\n",
              "      cursor: pointer;\n",
              "      display: none;\n",
              "      fill: #1967D2;\n",
              "      height: 32px;\n",
              "      padding: 0 0 0 0;\n",
              "      width: 32px;\n",
              "    }\n",
              "\n",
              "    .colab-df-convert:hover {\n",
              "      background-color: #E2EBFA;\n",
              "      box-shadow: 0px 1px 2px rgba(60, 64, 67, 0.3), 0px 1px 3px 1px rgba(60, 64, 67, 0.15);\n",
              "      fill: #174EA6;\n",
              "    }\n",
              "\n",
              "    [theme=dark] .colab-df-convert {\n",
              "      background-color: #3B4455;\n",
              "      fill: #D2E3FC;\n",
              "    }\n",
              "\n",
              "    [theme=dark] .colab-df-convert:hover {\n",
              "      background-color: #434B5C;\n",
              "      box-shadow: 0px 1px 3px 1px rgba(0, 0, 0, 0.15);\n",
              "      filter: drop-shadow(0px 1px 2px rgba(0, 0, 0, 0.3));\n",
              "      fill: #FFFFFF;\n",
              "    }\n",
              "  </style>\n",
              "\n",
              "      <script>\n",
              "        const buttonEl =\n",
              "          document.querySelector('#df-e46e6f7a-5e67-4256-ba64-f0139ffe3b03 button.colab-df-convert');\n",
              "        buttonEl.style.display =\n",
              "          google.colab.kernel.accessAllowed ? 'block' : 'none';\n",
              "\n",
              "        async function convertToInteractive(key) {\n",
              "          const element = document.querySelector('#df-e46e6f7a-5e67-4256-ba64-f0139ffe3b03');\n",
              "          const dataTable =\n",
              "            await google.colab.kernel.invokeFunction('convertToInteractive',\n",
              "                                                     [key], {});\n",
              "          if (!dataTable) return;\n",
              "\n",
              "          const docLinkHtml = 'Like what you see? Visit the ' +\n",
              "            '<a target=\"_blank\" href=https://colab.research.google.com/notebooks/data_table.ipynb>data table notebook</a>'\n",
              "            + ' to learn more about interactive tables.';\n",
              "          element.innerHTML = '';\n",
              "          dataTable['output_type'] = 'display_data';\n",
              "          await google.colab.output.renderOutput(dataTable, element);\n",
              "          const docLink = document.createElement('div');\n",
              "          docLink.innerHTML = docLinkHtml;\n",
              "          element.appendChild(docLink);\n",
              "        }\n",
              "      </script>\n",
              "    </div>\n",
              "  </div>\n",
              "  "
            ]
          },
          "metadata": {},
          "execution_count": 876
        }
      ]
    },
    {
      "cell_type": "code",
      "source": [
        "# X_raw_nnn -> raw no numeric data\n",
        "X_raw_nnd_test= df_test.drop(columns=numeric_list, axis=1)\n",
        "\n",
        "#Convert data to numeric data \n",
        "enc = OrdinalEncoder()\n",
        "enc.fit(X_raw_nnd_test)\n",
        "\n",
        "# X_nnn -> no numeric data decode to numeric\n",
        "X_nnd_decode_test =  np.array(enc.transform(X_raw_nnd_test))"
      ],
      "metadata": {
        "id": "KTTvIr6F75CY"
      },
      "execution_count": 870,
      "outputs": []
    },
    {
      "cell_type": "code",
      "source": [
        "X_nnd_decode_test.shape"
      ],
      "metadata": {
        "colab": {
          "base_uri": "https://localhost:8080/"
        },
        "id": "zbCTXMsf89lO",
        "outputId": "e6cea314-0762-4f45-b98e-799783f09c89"
      },
      "execution_count": 871,
      "outputs": [
        {
          "output_type": "execute_result",
          "data": {
            "text/plain": [
              "(10, 8)"
            ]
          },
          "metadata": {},
          "execution_count": 871
        }
      ]
    },
    {
      "cell_type": "code",
      "source": [
        "#X need to contain numeric and categorical data\n",
        "X_nd_test = np.array(df_test.drop(columns=categorical_list, axis=1))\n",
        "X_nd_test.shape"
      ],
      "metadata": {
        "colab": {
          "base_uri": "https://localhost:8080/"
        },
        "id": "8fO8rWyw8Q0s",
        "outputId": "a3723900-6b5a-480d-aa8f-9feb303ba333"
      },
      "execution_count": 872,
      "outputs": [
        {
          "output_type": "execute_result",
          "data": {
            "text/plain": [
              "(10, 13)"
            ]
          },
          "metadata": {},
          "execution_count": 872
        }
      ]
    },
    {
      "cell_type": "code",
      "source": [
        "#Union de X no numericas y X numericas \n",
        "X_real_test= np.concatenate((X_nnd_decode_test, X_nd_test), axis=1)\n",
        "X_real_test"
      ],
      "metadata": {
        "colab": {
          "base_uri": "https://localhost:8080/"
        },
        "id": "lFV6Ooeq8Vkx",
        "outputId": "eb50338a-4a8f-4a4c-f5fb-964fc4555f13"
      },
      "execution_count": 873,
      "outputs": [
        {
          "output_type": "execute_result",
          "data": {
            "text/plain": [
              "array([[ 4.0000000e+00,  5.0000000e+00,  8.0000000e+00,  0.0000000e+00,\n",
              "         0.0000000e+00,  0.0000000e+00,  0.0000000e+00,  0.0000000e+00,\n",
              "         2.0210000e+03,  1.0000000e+00, -1.0000000e+00,  0.0000000e+00,\n",
              "         1.0000000e+00, -1.2105644e+01, -7.7025705e+01, -1.0000000e+00,\n",
              "         1.0000000e+00, -1.0000000e+00,  1.1000000e+01,  6.4920000e+01,\n",
              "         0.0000000e+00],\n",
              "       [ 4.0000000e+00,  5.0000000e+00,  7.0000000e+00,  0.0000000e+00,\n",
              "         0.0000000e+00,  3.0000000e+00,  0.0000000e+00,  0.0000000e+00,\n",
              "         2.0170000e+03,  2.0000000e+00, -1.0000000e+00,  1.0000000e+00,\n",
              "         1.0000000e+00, -1.2138068e+01, -7.6985660e+01, -1.0000000e+00,\n",
              "         1.0000000e+00, -1.0000000e+00,  5.0320000e+01,  1.3420000e+02,\n",
              "         0.0000000e+00],\n",
              "       [ 0.0000000e+00,  1.0000000e+00,  1.0000000e+00,  3.0000000e+00,\n",
              "         0.0000000e+00,  0.0000000e+00,  0.0000000e+00,  0.0000000e+00,\n",
              "         2.0190000e+03,  3.0000000e+00, -1.0000000e+00,  1.0000000e+00,\n",
              "         1.0000000e+00, -1.0000000e+00, -7.7090878e+01, -1.0000000e+00,\n",
              "         1.0000000e+00, -1.0000000e+00,  4.4778000e+04,  1.1111000e+02,\n",
              "         0.0000000e+00],\n",
              "       [ 5.0000000e+00,  3.0000000e+00,  0.0000000e+00,  4.0000000e+00,\n",
              "         0.0000000e+00,  4.0000000e+00,  1.0000000e+00,  0.0000000e+00,\n",
              "         2.0190000e+03,  2.0000000e+00, -1.0000000e+00, -1.0000000e+00,\n",
              "        -1.0000000e+00, -8.3813620e+00, -7.4537930e+01, -1.0000000e+00,\n",
              "        -1.0000000e+00, -1.0000000e+00,  3.1000000e+01,  0.0000000e+00,\n",
              "         0.0000000e+00],\n",
              "       [ 4.0000000e+00,  5.0000000e+00,  5.0000000e+00,  2.0000000e+00,\n",
              "         0.0000000e+00,  2.0000000e+00,  0.0000000e+00,  0.0000000e+00,\n",
              "         2.0200000e+03,  1.0000000e+00, -1.0000000e+00,  1.0000000e+00,\n",
              "         2.0000000e+00, -1.2091392e+01, -7.7055850e+01, -1.0000000e+00,\n",
              "         2.0000000e+00, -1.0000000e+00,  3.2200000e+00,  1.1111000e+02,\n",
              "         0.0000000e+00],\n",
              "       [ 1.0000000e+00,  0.0000000e+00,  6.0000000e+00,  4.0000000e+00,\n",
              "         0.0000000e+00,  0.0000000e+00,  1.0000000e+00,  0.0000000e+00,\n",
              "         2.0210000e+03, -1.0000000e+00, -1.0000000e+00,  1.0000000e+00,\n",
              "         2.0000000e+00, -1.6427006e+01, -7.1573633e+01, -1.0000000e+00,\n",
              "        -1.0000000e+00, -1.0000000e+00,  1.4394000e+02,  0.0000000e+00,\n",
              "         0.0000000e+00],\n",
              "       [ 3.0000000e+00,  4.0000000e+00,  2.0000000e+00,  1.0000000e+00,\n",
              "         0.0000000e+00,  0.0000000e+00,  1.0000000e+00,  0.0000000e+00,\n",
              "         2.0170000e+03, -1.0000000e+00, -1.0000000e+00,  1.0000000e+00,\n",
              "         2.0000000e+00, -1.4074475e+01, -1.0000000e+00, -1.0000000e+00,\n",
              "         3.0000000e+00, -1.0000000e+00,  0.0000000e+00,  9.0880000e+01,\n",
              "         0.0000000e+00],\n",
              "       [ 4.0000000e+00,  5.0000000e+00,  8.0000000e+00,  0.0000000e+00,\n",
              "         0.0000000e+00,  1.0000000e+00,  0.0000000e+00,  0.0000000e+00,\n",
              "         2.0200000e+03,  1.0000000e+00,  1.0000000e+00, -1.0000000e+00,\n",
              "        -1.0000000e+00, -1.2117501e+01, -7.7004499e+01, -1.0000000e+00,\n",
              "         2.0000000e+00, -1.0000000e+00,  1.6020000e+01,  1.1725000e+02,\n",
              "         0.0000000e+00],\n",
              "       [ 2.0000000e+00,  2.0000000e+00,  4.0000000e+00,  4.0000000e+00,\n",
              "         0.0000000e+00,  0.0000000e+00,  1.0000000e+00,  0.0000000e+00,\n",
              "         2.0190000e+03,  2.0000000e+00, -1.0000000e+00,  1.0000000e+00,\n",
              "         2.0000000e+00, -9.9578660e+00, -7.6243089e+01, -1.0000000e+00,\n",
              "        -1.0000000e+00, -1.0000000e+00,  3.0000000e+02,  0.0000000e+00,\n",
              "         0.0000000e+00],\n",
              "       [ 4.0000000e+00,  5.0000000e+00,  3.0000000e+00,  5.0000000e+00,\n",
              "         0.0000000e+00,  0.0000000e+00,  0.0000000e+00,  0.0000000e+00,\n",
              "         2.0170000e+03,  1.0000000e+00, -1.0000000e+00,  7.0000000e+00,\n",
              "         0.0000000e+00, -1.2076824e+01, -7.6931810e+01, -1.0000000e+00,\n",
              "         1.9000000e+01, -1.0000000e+00,  9.0011000e+02,  1.2009800e+03,\n",
              "         0.0000000e+00]])"
            ]
          },
          "metadata": {},
          "execution_count": 873
        }
      ]
    },
    {
      "cell_type": "code",
      "source": [
        "# Salida de la red entrenada\n",
        "y_output_test = network.predict(X_real_test)\n",
        "print(\"Salida de la red neuronal: \")\n",
        "print(y_output_test)"
      ],
      "metadata": {
        "colab": {
          "base_uri": "https://localhost:8080/"
        },
        "id": "sNJ41gwQ8krR",
        "outputId": "c4644e34-2341-4781-c4da-5414997bb3ad"
      },
      "execution_count": 874,
      "outputs": [
        {
          "output_type": "stream",
          "name": "stdout",
          "text": [
            "1/1 [==============================] - 0s 19ms/step\n",
            "Salida de la red neuronal: \n",
            "[[ 1417720.8]\n",
            " [ 1397341. ]\n",
            " [34780256. ]\n",
            " [ 1408684.6]\n",
            " [ 1415020.8]\n",
            " [ 1394961.5]\n",
            " [ 1418539.2]\n",
            " [ 1411677. ]\n",
            " [ 1413639.5]\n",
            " [ 1725560.1]]\n"
          ]
        }
      ]
    }
  ],
  "metadata": {
    "colab": {
      "collapsed_sections": [
        "EiEW5j9oVbql",
        "Iifjn1z7ZoHg",
        "FrrLXNsf4zYX",
        "cV1f9_C8-EjQ",
        "54VNzzNX_UBf",
        "g-b-T_LpAkYe",
        "wIa-rCrnTXMR",
        "VkRrvgyNuOQQ",
        "f8Avo3kPzX28",
        "2bdb8nXkHaov",
        "3VgvOTVMQKtq",
        "AcyxnGrgR0EZ",
        "m9YXwQyIcGZN",
        "_d-OClwHSx0i"
      ],
      "provenance": [],
      "include_colab_link": true
    },
    "kernelspec": {
      "display_name": "Python 3",
      "name": "python3"
    },
    "language_info": {
      "name": "python"
    }
  },
  "nbformat": 4,
  "nbformat_minor": 0
}