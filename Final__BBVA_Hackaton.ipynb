{
  "cells": [
    {
      "cell_type": "markdown",
      "metadata": {
        "id": "view-in-github",
        "colab_type": "text"
      },
      "source": [
        "<a href=\"https://colab.research.google.com/github/Devsthink/BBVA-DATA-DRIVEN/blob/main/Final__BBVA_Hackaton.ipynb\" target=\"_parent\"><img src=\"https://colab.research.google.com/assets/colab-badge.svg\" alt=\"Open In Colab\"/></a>"
      ]
    },
    {
      "cell_type": "markdown",
      "metadata": {
        "id": "EiEW5j9oVbql"
      },
      "source": [
        "#Hackaton BBVA\n"
      ]
    },
    {
      "cell_type": "markdown",
      "metadata": {
        "id": "Iifjn1z7ZoHg"
      },
      "source": [
        "# Modelo de prediccion de valorizacion de inmuebles"
      ]
    },
    {
      "cell_type": "markdown",
      "metadata": {
        "id": "0dONvh494CCI"
      },
      "source": [
        "Librerias necesarias para creacion de modelo\n",
        "\n",
        "\n",
        "\n",
        "*   Manejo de arreglos en diferentes dimensiones\n",
        "*   Cargar y exportar datos\n",
        "*   Redes Neuronales\n",
        "*   Ubicaciones geograficas\n",
        "\n",
        "\n",
        "\n"
      ]
    },
    {
      "cell_type": "markdown",
      "metadata": {
        "id": "14VSLnSL4on-"
      },
      "source": [
        "# Obtención de datos\n",
        "\n",
        "*   Carga de datos a variable local\n",
        "\n"
      ]
    },
    {
      "cell_type": "code",
      "source": [
        "!pip install folium\n",
        "!pip install -U scikit-learn\n",
        "!pip install geopy"
      ],
      "metadata": {
        "colab": {
          "base_uri": "https://localhost:8080/"
        },
        "id": "vnfTuIjroTKZ",
        "outputId": "f900dc45-35e1-4c92-9fca-f5d67b7fc412"
      },
      "execution_count": 968,
      "outputs": [
        {
          "output_type": "stream",
          "name": "stdout",
          "text": [
            "Looking in indexes: https://pypi.org/simple, https://us-python.pkg.dev/colab-wheels/public/simple/\n",
            "Requirement already satisfied: folium in /usr/local/lib/python3.7/dist-packages (0.13.0)\n",
            "Requirement already satisfied: requests in /usr/local/lib/python3.7/dist-packages (from folium) (2.23.0)\n",
            "Requirement already satisfied: branca>=0.3.0 in /usr/local/lib/python3.7/dist-packages (from folium) (0.5.0)\n",
            "Requirement already satisfied: jinja2>=2.9 in /usr/local/lib/python3.7/dist-packages (from folium) (2.11.3)\n",
            "Requirement already satisfied: numpy in /usr/local/lib/python3.7/dist-packages (from folium) (1.21.6)\n",
            "Requirement already satisfied: MarkupSafe>=0.23 in /usr/local/lib/python3.7/dist-packages (from jinja2>=2.9->folium) (2.0.1)\n",
            "Requirement already satisfied: certifi>=2017.4.17 in /usr/local/lib/python3.7/dist-packages (from requests->folium) (2022.9.24)\n",
            "Requirement already satisfied: chardet<4,>=3.0.2 in /usr/local/lib/python3.7/dist-packages (from requests->folium) (3.0.4)\n",
            "Requirement already satisfied: urllib3!=1.25.0,!=1.25.1,<1.26,>=1.21.1 in /usr/local/lib/python3.7/dist-packages (from requests->folium) (1.24.3)\n",
            "Requirement already satisfied: idna<3,>=2.5 in /usr/local/lib/python3.7/dist-packages (from requests->folium) (2.10)\n",
            "Looking in indexes: https://pypi.org/simple, https://us-python.pkg.dev/colab-wheels/public/simple/\n",
            "Requirement already satisfied: scikit-learn in /usr/local/lib/python3.7/dist-packages (1.0.2)\n",
            "Requirement already satisfied: joblib>=0.11 in /usr/local/lib/python3.7/dist-packages (from scikit-learn) (1.2.0)\n",
            "Requirement already satisfied: scipy>=1.1.0 in /usr/local/lib/python3.7/dist-packages (from scikit-learn) (1.7.3)\n",
            "Requirement already satisfied: threadpoolctl>=2.0.0 in /usr/local/lib/python3.7/dist-packages (from scikit-learn) (3.1.0)\n",
            "Requirement already satisfied: numpy>=1.14.6 in /usr/local/lib/python3.7/dist-packages (from scikit-learn) (1.21.6)\n",
            "Looking in indexes: https://pypi.org/simple, https://us-python.pkg.dev/colab-wheels/public/simple/\n",
            "Requirement already satisfied: geopy in /usr/local/lib/python3.7/dist-packages (2.2.0)\n",
            "Requirement already satisfied: geographiclib<2,>=1.49 in /usr/local/lib/python3.7/dist-packages (from geopy) (1.52)\n"
          ]
        }
      ]
    },
    {
      "cell_type": "code",
      "execution_count": 969,
      "metadata": {
        "id": "b1XzvHg4VWug"
      },
      "outputs": [],
      "source": [
        "import pandas as pd\n",
        "import tensorflow as tf\n",
        "import numpy as np\n",
        "import csv\n",
        "import matplotlib.pyplot as plt\n",
        "import geopy\n",
        "from geopy.geocoders import Nominatim\n",
        "import keras\n",
        "from time import time\n",
        "\n",
        "# Arquitectura de la red\n",
        "from keras import models\n",
        "from keras import layers\n",
        "from keras import optimizers\n",
        "from sklearn.preprocessing import OrdinalEncoder\n",
        "from sklearn import preprocessing\n",
        "from sklearn.metrics import mean_squared_error"
      ]
    },
    {
      "cell_type": "markdown",
      "metadata": {
        "id": "RstA8YCXIyCJ"
      },
      "source": [
        "Carga de los archivos desde un repositorio remoto:"
      ]
    },
    {
      "cell_type": "code",
      "execution_count": 1038,
      "metadata": {
        "id": "IpN484kQWyxY",
        "colab": {
          "base_uri": "https://localhost:8080/"
        },
        "outputId": "99167ea5-6017-4a68-a806-77efa741e6f5"
      },
      "outputs": [
        {
          "output_type": "stream",
          "name": "stdout",
          "text": [
            "Drive already mounted at /content/drive; to attempt to forcibly remount, call drive.mount(\"/content/drive\", force_remount=True).\n"
          ]
        }
      ],
      "source": [
        "from google.colab import drive\n",
        "drive.mount('/content/drive') "
      ]
    },
    {
      "cell_type": "code",
      "execution_count": 1040,
      "metadata": {
        "id": "_wwLIWIkW6XV"
      },
      "outputs": [],
      "source": [
        "#path = '/content/drive/MyDrive/BBVA_Hackaton/Train_Data_BBVA.csv'\n",
        "path_new = '/content/drive/MyDrive/BBVA_Hackaton/FinalTrain_Sinpiso_Dataset_Real_BBVA.csv'"
      ]
    },
    {
      "cell_type": "markdown",
      "source": [],
      "metadata": {
        "id": "3OMqTLvgNZIA"
      }
    },
    {
      "cell_type": "code",
      "execution_count": 1041,
      "metadata": {
        "id": "6VbtV0ekYpNO",
        "colab": {
          "base_uri": "https://localhost:8080/",
          "height": 1000
        },
        "outputId": "85052484-463e-4ee1-c4e7-b24712ddc452"
      },
      "outputs": [
        {
          "output_type": "execute_result",
          "data": {
            "text/plain": [
              "    Fecha entrega del Informe  Tipo de via  Departamento  \\\n",
              "0                        2021            1          Lima   \n",
              "1                        2017            1          Lima   \n",
              "2                        2019            1          Lima   \n",
              "3                        2019            3       Ucayali   \n",
              "4                        2020            3          Lima   \n",
              "5                        2021           -1      Arequipa   \n",
              "6                        2017           -1  Huancavelica   \n",
              "7                        2020            1          Lima   \n",
              "8                        2019            2       Huanuco   \n",
              "9                        2017            3          Lima   \n",
              "10                       2017            5      Arequipa   \n",
              "11                       2021            1          Lima   \n",
              "12                       2019            3          Lima   \n",
              "13                       2018            1          Lima   \n",
              "14                       2021            1  Huancavelica   \n",
              "15                       2018            2          Lima   \n",
              "16                       2021            1          Lima   \n",
              "17                       2018            1     Cajamarca   \n",
              "18                       2021            1         Junin   \n",
              "19                       2018            2    San Martin   \n",
              "20                       2021            2          Lima   \n",
              "21                       2016            3          Lima   \n",
              "22                       2020            1         Cusco   \n",
              "23                       2016            2          Lima   \n",
              "24                       2017            2          Lima   \n",
              "25                       2020            4          Lima   \n",
              "26                       2019            4          Puno   \n",
              "27                       2018            1          Lima   \n",
              "28                       2016            2      Ayacucho   \n",
              "29                       2019            2         Junin   \n",
              "30                       2017            2          Lima   \n",
              "31                       2018            1          Lima   \n",
              "32                       2018            2          Lima   \n",
              "33                       2021            3        Callao   \n",
              "34                       2018            3          Lima   \n",
              "35                       2019            3         Piura   \n",
              "36                       2020            2          Lima   \n",
              "37                       2020            1          Lima   \n",
              "38                       2019            1      Arequipa   \n",
              "39                       2017            2       Huanuco   \n",
              "\n",
              "                Provincia              Distrito  Numero de estacionamiento  \\\n",
              "0                    Lima             Surquillo                          0   \n",
              "1                    Lima     Santiago de Surco                          1   \n",
              "2                    Lima            San Miguel                          1   \n",
              "3        Coronel Portillo              Calleria                         -1   \n",
              "4                    Lima     Magdalena del Mar                          0   \n",
              "5                Arequipa               Sachaca                          0   \n",
              "6            Huancavelica          Huancavelica                          0   \n",
              "7                    Lima             Surquillo                         -1   \n",
              "8                 Huanuco          Pillco Marca                          0   \n",
              "9                    Lima             La Molina                          0   \n",
              "10               Caraveli                 Chala                          0   \n",
              "11                   Lima            San Miguel                          0   \n",
              "12                   Lima             Surquillo                          1   \n",
              "13                   Lima             San Borja                          0   \n",
              "14           Huancavelica                   ICA                          0   \n",
              "15                   Lima     Santiago de Surco                          0   \n",
              "16                   Lima            San Isidro                          1   \n",
              "17              Cajamarca             Cajamarca                          0   \n",
              "18               Huancayo              Huancayo                          1   \n",
              "19              Moyobamba             Moyobamba                          0   \n",
              "20                   Lima  San Martin de Porres                          0   \n",
              "21                   Lima             La Molina                          1   \n",
              "22               Urubamba              Urubamba                          1   \n",
              "23                   Lima           Jesus Maria                          1   \n",
              "24                   Lima             San Borja                          0   \n",
              "25                   Lima           La Victoria                          1   \n",
              "26                   Puno                  Puno                          1   \n",
              "27                   Lima     Magdalena del Mar                          1   \n",
              "28               Huamanga              Ayacucho                          0   \n",
              "29                 Satipo                Satipo                          0   \n",
              "30                   Lima  San Martin de Porres                          0   \n",
              "31                   Lima                   Ate                          0   \n",
              "32                   Lima     Santiago de Surco                          1   \n",
              "33  Prov Const del Callao                Callao                          0   \n",
              "34                   Lima             San Borja                          0   \n",
              "35                  Piura                 Piura                          0   \n",
              "36                   Lima             San Borja                          1   \n",
              "37                   Lima             La Molina                          0   \n",
              "38                  Islay              Mollendo                          0   \n",
              "39                Huanuco               Huanuco                          0   \n",
              "\n",
              "    Depositos  Latitud  Longitud    Categoria del bien Posicion  \\\n",
              "0           0 -12.1056  -77.0257          Departamento       -1   \n",
              "1           0 -12.1381  -76.9857          Departamento       -1   \n",
              "2           1 -12.0763  -77.0909               Oficina       -1   \n",
              "3          -1  -8.3814  -74.5379        Terreno Urbano       -1   \n",
              "4           0 -12.0914  -77.0559               Oficina       -1   \n",
              "5           0 -16.4270  -71.5736        Terreno Urbano       -1   \n",
              "6           2 -14.0745  -75.7377       Local Comercial       -1   \n",
              "7          -1 -12.1175  -77.0045          Departamento       -1   \n",
              "8           0  -9.9579  -76.2431        Terreno Urbano       -1   \n",
              "9           0 -12.0768  -76.9318  Vivienda Unifamiliar       -1   \n",
              "10          0 -15.8296  -74.2477        Terreno Urbano       -1   \n",
              "11          0 -12.0823  -77.0943          Departamento       -1   \n",
              "12          0 -12.1188  -77.0180          Departamento       -1   \n",
              "13          0 -12.1044  -77.0056          Departamento       -1   \n",
              "14          0 -13.9624  -75.7593        Terreno Urbano       -1   \n",
              "15          0 -12.1302  -77.0024          Departamento       -1   \n",
              "16          0 -12.1003  -77.0549          Departamento       -1   \n",
              "17          0  -7.1471  -78.5241       Local Comercial       -1   \n",
              "18          1 -12.0790  -75.2280  Vivienda Unifamiliar       -1   \n",
              "19          0  -6.0306  -76.9620        Terreno Urbano       -1   \n",
              "20          0 -12.0031  -77.0604          Departamento       -1   \n",
              "21          1 -12.0639  -76.9622          Departamento       -1   \n",
              "22          1 -13.2762  -72.2115        Terreno Urbano       -1   \n",
              "23          0 -12.0843  -77.0536  Vivienda Unifamiliar       -1   \n",
              "24          1 -12.0988  -76.9924          Departamento       -1   \n",
              "25          1 -12.0682  -77.0089  Vivienda Unifamiliar       -1   \n",
              "26          1 -15.8383  -70.0286       Local Comercial       -1   \n",
              "27          1 -12.1022  -77.0602  Vivienda Unifamiliar       -1   \n",
              "28          0 -13.1626  -74.2337  Vivienda Unifamiliar       -1   \n",
              "29          0 -11.2515  -74.6385       Local Comercial       -1   \n",
              "30          0 -11.9511  -77.0923          Departamento       -1   \n",
              "31          0 -12.0831  -76.9826          Departamento       -1   \n",
              "32          0 -12.1273  -76.9865          Departamento       -1   \n",
              "33          0 -12.0522  -77.0963          Departamento       -1   \n",
              "34          0 -12.0899  -76.9892  Vivienda Unifamiliar       -1   \n",
              "35          0  -5.1604  -80.6345  Vivienda Unifamiliar       -1   \n",
              "36          0 -12.1026  -76.9920          Departamento       -1   \n",
              "37          0 -12.1000  -76.9446  Vivienda Unifamiliar       -1   \n",
              "38          0 -17.0582  -71.9598  Vivienda Unifamiliar       -1   \n",
              "39          0  -9.9265  -76.2356  Vivienda Unifamiliar       -1   \n",
              "\n",
              "    Numero de frentes  Edad  Elevador Estado de conservacion  \\\n",
              "0                  -1     5        -1                  Bueno   \n",
              "1                  -1     4        -1              Muy bueno   \n",
              "2                  -1     5        -1                  Bueno   \n",
              "3                  -1    -1        -1        No especificado   \n",
              "4                  -1     0        -1            En proyecto   \n",
              "5                  -1    -1        -1                  Bueno   \n",
              "6                  -1     6        -1                  Bueno   \n",
              "7                  -1     1        -1        En construccion   \n",
              "8                  -1    -1        -1                  Bueno   \n",
              "9                  -1     5        -1                  Bueno   \n",
              "10                 -1    -1        -1        No especificado   \n",
              "11                 -1     7        -1                  Bueno   \n",
              "12                 -1     9        -1                Regular   \n",
              "13                 -1     0        -1        En construccion   \n",
              "14                 -1    -1        -1        No especificado   \n",
              "15                 -1     0        -1            En proyecto   \n",
              "16                 -1    65        -1                Regular   \n",
              "17                 -1     2        -1                  Bueno   \n",
              "18                 -1    16        -1                  Bueno   \n",
              "19                 -1    -1        -1        No especificado   \n",
              "20                 -1    32        -1                  Bueno   \n",
              "21                 -1     1        -1        No especificado   \n",
              "22                 -1    -1        -1        No especificado   \n",
              "23                 -1    68        -1        No especificado   \n",
              "24                 -1     7        -1                  Bueno   \n",
              "25                 -1    62        -1                   Malo   \n",
              "26                 -1    10        -1                  Bueno   \n",
              "27                 -1    39        -1                  Bueno   \n",
              "28                 -1    15        -1        No especificado   \n",
              "29                 -1    21        -1        No especificado   \n",
              "30                 -1     3        -1                  Bueno   \n",
              "31                 -1     1        -1              Muy bueno   \n",
              "32                 -1     8        -1              Muy bueno   \n",
              "33                 -1     6        -1                  Bueno   \n",
              "34                 -1    44        -1                  Bueno   \n",
              "35                 -1     0        -1        No especificado   \n",
              "36                 -1     0        -1            En proyecto   \n",
              "37                 -1    33        -1                  Bueno   \n",
              "38                 -1     0        -1        No especificado   \n",
              "39                 -1    70        -1                   Malo   \n",
              "\n",
              "                 Metodo Representado Moneda principal para calculos  \\\n",
              "0   Comparacion de mercado (directo)                    No definido   \n",
              "1   Comparacion de mercado (directo)                    No definido   \n",
              "2   Comparacion de mercado (directo)                    No definido   \n",
              "3      Costos o reposicion (directo)                    No definido   \n",
              "4   Comparacion de mercado (directo)                    No definido   \n",
              "5      Costos o reposicion (directo)                    No definido   \n",
              "6      Costos o reposicion (directo)                    No definido   \n",
              "7   Comparacion de mercado (directo)                    No definido   \n",
              "8      Costos o reposicion (directo)                    No definido   \n",
              "9   Comparacion de mercado (directo)                    No definido   \n",
              "10     Costos o reposicion (directo)                    No definido   \n",
              "11  Comparacion de mercado (directo)                    No definido   \n",
              "12  Comparacion de mercado (directo)                    No definido   \n",
              "13  Comparacion de mercado (directo)                    No definido   \n",
              "14     Costos o reposicion (directo)                    No definido   \n",
              "15  Comparacion de mercado (directo)                    No definido   \n",
              "16  Comparacion de mercado (directo)                    No definido   \n",
              "17     Costos o reposicion (directo)                    No definido   \n",
              "18     Costos o reposicion (directo)                    No definido   \n",
              "19     Costos o reposicion (directo)                    No definido   \n",
              "20  Comparacion de mercado (directo)                    No definido   \n",
              "21  Comparacion de mercado (directo)                    No definido   \n",
              "22     Costos o reposicion (directo)                    No definido   \n",
              "23  Comparacion de mercado (directo)                    No definido   \n",
              "24  Comparacion de mercado (directo)                    No definido   \n",
              "25     Costos o reposicion (directo)                    No definido   \n",
              "26     Costos o reposicion (directo)                    No definido   \n",
              "27     Costos o reposicion (directo)                    No definido   \n",
              "28     Costos o reposicion (directo)                    No definido   \n",
              "29     Costos o reposicion (directo)                    No definido   \n",
              "30  Comparacion de mercado (directo)                    No definido   \n",
              "31  Comparacion de mercado (directo)                    No definido   \n",
              "32  Comparacion de mercado (directo)                    No definido   \n",
              "33  Comparacion de mercado (directo)                    No definido   \n",
              "34     Costos o reposicion (directo)                    No definido   \n",
              "35     Costos o reposicion (directo)                    No definido   \n",
              "36  Comparacion de mercado (directo)                    No definido   \n",
              "37     Costos o reposicion (directo)                    No definido   \n",
              "38     Costos o reposicion (directo)                    No definido   \n",
              "39     Costos o reposicion (directo)                    No definido   \n",
              "\n",
              "    Area Terreno  Area Construccion  Valor comercial  \n",
              "0          13.72              63.92           138169  \n",
              "1          32.93             111.12           203712  \n",
              "2           5.09             106.22           145911  \n",
              "3         329.50               0.00           180275  \n",
              "4           3.16              57.77           105719  \n",
              "5         143.33              -1.00           103197  \n",
              "6         130.55             424.65           258539  \n",
              "7          16.02             117.25           196216  \n",
              "8         300.00              -1.00            91894  \n",
              "9         600.00             356.70           888183  \n",
              "10      43316.00              -1.00           134279  \n",
              "11         12.82              78.76            92149  \n",
              "12          4.77              71.99           106943  \n",
              "13         36.76              91.71           211931  \n",
              "14     132726.00              -1.00           622529  \n",
              "15         47.00             132.13           322680  \n",
              "16         64.63             149.85           340679  \n",
              "17        211.02             341.00           338523  \n",
              "18        327.10             354.95           253799  \n",
              "19        300.00              -1.00            86850  \n",
              "20         28.50             123.93            96665  \n",
              "21         19.17             100.00           178650  \n",
              "22       1091.00              95.52           236253  \n",
              "23        940.00             926.18          1881932  \n",
              "24         26.59             103.00           190100  \n",
              "25        204.99             210.00           241636  \n",
              "26        176.25             186.25           264904  \n",
              "27        242.70             208.78           533337  \n",
              "28        262.80             127.00            85914  \n",
              "29        133.75             626.50           387646  \n",
              "30         14.63              72.47            54489  \n",
              "31         26.75              94.14           115792  \n",
              "32         24.23             108.28           183371  \n",
              "33         20.44              65.20            64548  \n",
              "34        351.60             396.20           784034  \n",
              "35        148.00             185.59           112410  \n",
              "36         51.69             166.31           459246  \n",
              "37        204.50             237.00           337272  \n",
              "38        144.00             108.78            93702  \n",
              "39        214.74             150.00           256243  "
            ],
            "text/html": [
              "\n",
              "  <div id=\"df-3146e244-36a6-41c5-8d43-3a2e759e81b6\">\n",
              "    <div class=\"colab-df-container\">\n",
              "      <div>\n",
              "<style scoped>\n",
              "    .dataframe tbody tr th:only-of-type {\n",
              "        vertical-align: middle;\n",
              "    }\n",
              "\n",
              "    .dataframe tbody tr th {\n",
              "        vertical-align: top;\n",
              "    }\n",
              "\n",
              "    .dataframe thead th {\n",
              "        text-align: right;\n",
              "    }\n",
              "</style>\n",
              "<table border=\"1\" class=\"dataframe\">\n",
              "  <thead>\n",
              "    <tr style=\"text-align: right;\">\n",
              "      <th></th>\n",
              "      <th>Fecha entrega del Informe</th>\n",
              "      <th>Tipo de via</th>\n",
              "      <th>Departamento</th>\n",
              "      <th>Provincia</th>\n",
              "      <th>Distrito</th>\n",
              "      <th>Numero de estacionamiento</th>\n",
              "      <th>Depositos</th>\n",
              "      <th>Latitud</th>\n",
              "      <th>Longitud</th>\n",
              "      <th>Categoria del bien</th>\n",
              "      <th>Posicion</th>\n",
              "      <th>Numero de frentes</th>\n",
              "      <th>Edad</th>\n",
              "      <th>Elevador</th>\n",
              "      <th>Estado de conservacion</th>\n",
              "      <th>Metodo Representado</th>\n",
              "      <th>Moneda principal para calculos</th>\n",
              "      <th>Area Terreno</th>\n",
              "      <th>Area Construccion</th>\n",
              "      <th>Valor comercial</th>\n",
              "    </tr>\n",
              "  </thead>\n",
              "  <tbody>\n",
              "    <tr>\n",
              "      <th>0</th>\n",
              "      <td>2021</td>\n",
              "      <td>1</td>\n",
              "      <td>Lima</td>\n",
              "      <td>Lima</td>\n",
              "      <td>Surquillo</td>\n",
              "      <td>0</td>\n",
              "      <td>0</td>\n",
              "      <td>-12.1056</td>\n",
              "      <td>-77.0257</td>\n",
              "      <td>Departamento</td>\n",
              "      <td>-1</td>\n",
              "      <td>-1</td>\n",
              "      <td>5</td>\n",
              "      <td>-1</td>\n",
              "      <td>Bueno</td>\n",
              "      <td>Comparacion de mercado (directo)</td>\n",
              "      <td>No definido</td>\n",
              "      <td>13.72</td>\n",
              "      <td>63.92</td>\n",
              "      <td>138169</td>\n",
              "    </tr>\n",
              "    <tr>\n",
              "      <th>1</th>\n",
              "      <td>2017</td>\n",
              "      <td>1</td>\n",
              "      <td>Lima</td>\n",
              "      <td>Lima</td>\n",
              "      <td>Santiago de Surco</td>\n",
              "      <td>1</td>\n",
              "      <td>0</td>\n",
              "      <td>-12.1381</td>\n",
              "      <td>-76.9857</td>\n",
              "      <td>Departamento</td>\n",
              "      <td>-1</td>\n",
              "      <td>-1</td>\n",
              "      <td>4</td>\n",
              "      <td>-1</td>\n",
              "      <td>Muy bueno</td>\n",
              "      <td>Comparacion de mercado (directo)</td>\n",
              "      <td>No definido</td>\n",
              "      <td>32.93</td>\n",
              "      <td>111.12</td>\n",
              "      <td>203712</td>\n",
              "    </tr>\n",
              "    <tr>\n",
              "      <th>2</th>\n",
              "      <td>2019</td>\n",
              "      <td>1</td>\n",
              "      <td>Lima</td>\n",
              "      <td>Lima</td>\n",
              "      <td>San Miguel</td>\n",
              "      <td>1</td>\n",
              "      <td>1</td>\n",
              "      <td>-12.0763</td>\n",
              "      <td>-77.0909</td>\n",
              "      <td>Oficina</td>\n",
              "      <td>-1</td>\n",
              "      <td>-1</td>\n",
              "      <td>5</td>\n",
              "      <td>-1</td>\n",
              "      <td>Bueno</td>\n",
              "      <td>Comparacion de mercado (directo)</td>\n",
              "      <td>No definido</td>\n",
              "      <td>5.09</td>\n",
              "      <td>106.22</td>\n",
              "      <td>145911</td>\n",
              "    </tr>\n",
              "    <tr>\n",
              "      <th>3</th>\n",
              "      <td>2019</td>\n",
              "      <td>3</td>\n",
              "      <td>Ucayali</td>\n",
              "      <td>Coronel Portillo</td>\n",
              "      <td>Calleria</td>\n",
              "      <td>-1</td>\n",
              "      <td>-1</td>\n",
              "      <td>-8.3814</td>\n",
              "      <td>-74.5379</td>\n",
              "      <td>Terreno Urbano</td>\n",
              "      <td>-1</td>\n",
              "      <td>-1</td>\n",
              "      <td>-1</td>\n",
              "      <td>-1</td>\n",
              "      <td>No especificado</td>\n",
              "      <td>Costos o reposicion (directo)</td>\n",
              "      <td>No definido</td>\n",
              "      <td>329.50</td>\n",
              "      <td>0.00</td>\n",
              "      <td>180275</td>\n",
              "    </tr>\n",
              "    <tr>\n",
              "      <th>4</th>\n",
              "      <td>2020</td>\n",
              "      <td>3</td>\n",
              "      <td>Lima</td>\n",
              "      <td>Lima</td>\n",
              "      <td>Magdalena del Mar</td>\n",
              "      <td>0</td>\n",
              "      <td>0</td>\n",
              "      <td>-12.0914</td>\n",
              "      <td>-77.0559</td>\n",
              "      <td>Oficina</td>\n",
              "      <td>-1</td>\n",
              "      <td>-1</td>\n",
              "      <td>0</td>\n",
              "      <td>-1</td>\n",
              "      <td>En proyecto</td>\n",
              "      <td>Comparacion de mercado (directo)</td>\n",
              "      <td>No definido</td>\n",
              "      <td>3.16</td>\n",
              "      <td>57.77</td>\n",
              "      <td>105719</td>\n",
              "    </tr>\n",
              "    <tr>\n",
              "      <th>5</th>\n",
              "      <td>2021</td>\n",
              "      <td>-1</td>\n",
              "      <td>Arequipa</td>\n",
              "      <td>Arequipa</td>\n",
              "      <td>Sachaca</td>\n",
              "      <td>0</td>\n",
              "      <td>0</td>\n",
              "      <td>-16.4270</td>\n",
              "      <td>-71.5736</td>\n",
              "      <td>Terreno Urbano</td>\n",
              "      <td>-1</td>\n",
              "      <td>-1</td>\n",
              "      <td>-1</td>\n",
              "      <td>-1</td>\n",
              "      <td>Bueno</td>\n",
              "      <td>Costos o reposicion (directo)</td>\n",
              "      <td>No definido</td>\n",
              "      <td>143.33</td>\n",
              "      <td>-1.00</td>\n",
              "      <td>103197</td>\n",
              "    </tr>\n",
              "    <tr>\n",
              "      <th>6</th>\n",
              "      <td>2017</td>\n",
              "      <td>-1</td>\n",
              "      <td>Huancavelica</td>\n",
              "      <td>Huancavelica</td>\n",
              "      <td>Huancavelica</td>\n",
              "      <td>0</td>\n",
              "      <td>2</td>\n",
              "      <td>-14.0745</td>\n",
              "      <td>-75.7377</td>\n",
              "      <td>Local Comercial</td>\n",
              "      <td>-1</td>\n",
              "      <td>-1</td>\n",
              "      <td>6</td>\n",
              "      <td>-1</td>\n",
              "      <td>Bueno</td>\n",
              "      <td>Costos o reposicion (directo)</td>\n",
              "      <td>No definido</td>\n",
              "      <td>130.55</td>\n",
              "      <td>424.65</td>\n",
              "      <td>258539</td>\n",
              "    </tr>\n",
              "    <tr>\n",
              "      <th>7</th>\n",
              "      <td>2020</td>\n",
              "      <td>1</td>\n",
              "      <td>Lima</td>\n",
              "      <td>Lima</td>\n",
              "      <td>Surquillo</td>\n",
              "      <td>-1</td>\n",
              "      <td>-1</td>\n",
              "      <td>-12.1175</td>\n",
              "      <td>-77.0045</td>\n",
              "      <td>Departamento</td>\n",
              "      <td>-1</td>\n",
              "      <td>-1</td>\n",
              "      <td>1</td>\n",
              "      <td>-1</td>\n",
              "      <td>En construccion</td>\n",
              "      <td>Comparacion de mercado (directo)</td>\n",
              "      <td>No definido</td>\n",
              "      <td>16.02</td>\n",
              "      <td>117.25</td>\n",
              "      <td>196216</td>\n",
              "    </tr>\n",
              "    <tr>\n",
              "      <th>8</th>\n",
              "      <td>2019</td>\n",
              "      <td>2</td>\n",
              "      <td>Huanuco</td>\n",
              "      <td>Huanuco</td>\n",
              "      <td>Pillco Marca</td>\n",
              "      <td>0</td>\n",
              "      <td>0</td>\n",
              "      <td>-9.9579</td>\n",
              "      <td>-76.2431</td>\n",
              "      <td>Terreno Urbano</td>\n",
              "      <td>-1</td>\n",
              "      <td>-1</td>\n",
              "      <td>-1</td>\n",
              "      <td>-1</td>\n",
              "      <td>Bueno</td>\n",
              "      <td>Costos o reposicion (directo)</td>\n",
              "      <td>No definido</td>\n",
              "      <td>300.00</td>\n",
              "      <td>-1.00</td>\n",
              "      <td>91894</td>\n",
              "    </tr>\n",
              "    <tr>\n",
              "      <th>9</th>\n",
              "      <td>2017</td>\n",
              "      <td>3</td>\n",
              "      <td>Lima</td>\n",
              "      <td>Lima</td>\n",
              "      <td>La Molina</td>\n",
              "      <td>0</td>\n",
              "      <td>0</td>\n",
              "      <td>-12.0768</td>\n",
              "      <td>-76.9318</td>\n",
              "      <td>Vivienda Unifamiliar</td>\n",
              "      <td>-1</td>\n",
              "      <td>-1</td>\n",
              "      <td>5</td>\n",
              "      <td>-1</td>\n",
              "      <td>Bueno</td>\n",
              "      <td>Comparacion de mercado (directo)</td>\n",
              "      <td>No definido</td>\n",
              "      <td>600.00</td>\n",
              "      <td>356.70</td>\n",
              "      <td>888183</td>\n",
              "    </tr>\n",
              "    <tr>\n",
              "      <th>10</th>\n",
              "      <td>2017</td>\n",
              "      <td>5</td>\n",
              "      <td>Arequipa</td>\n",
              "      <td>Caraveli</td>\n",
              "      <td>Chala</td>\n",
              "      <td>0</td>\n",
              "      <td>0</td>\n",
              "      <td>-15.8296</td>\n",
              "      <td>-74.2477</td>\n",
              "      <td>Terreno Urbano</td>\n",
              "      <td>-1</td>\n",
              "      <td>-1</td>\n",
              "      <td>-1</td>\n",
              "      <td>-1</td>\n",
              "      <td>No especificado</td>\n",
              "      <td>Costos o reposicion (directo)</td>\n",
              "      <td>No definido</td>\n",
              "      <td>43316.00</td>\n",
              "      <td>-1.00</td>\n",
              "      <td>134279</td>\n",
              "    </tr>\n",
              "    <tr>\n",
              "      <th>11</th>\n",
              "      <td>2021</td>\n",
              "      <td>1</td>\n",
              "      <td>Lima</td>\n",
              "      <td>Lima</td>\n",
              "      <td>San Miguel</td>\n",
              "      <td>0</td>\n",
              "      <td>0</td>\n",
              "      <td>-12.0823</td>\n",
              "      <td>-77.0943</td>\n",
              "      <td>Departamento</td>\n",
              "      <td>-1</td>\n",
              "      <td>-1</td>\n",
              "      <td>7</td>\n",
              "      <td>-1</td>\n",
              "      <td>Bueno</td>\n",
              "      <td>Comparacion de mercado (directo)</td>\n",
              "      <td>No definido</td>\n",
              "      <td>12.82</td>\n",
              "      <td>78.76</td>\n",
              "      <td>92149</td>\n",
              "    </tr>\n",
              "    <tr>\n",
              "      <th>12</th>\n",
              "      <td>2019</td>\n",
              "      <td>3</td>\n",
              "      <td>Lima</td>\n",
              "      <td>Lima</td>\n",
              "      <td>Surquillo</td>\n",
              "      <td>1</td>\n",
              "      <td>0</td>\n",
              "      <td>-12.1188</td>\n",
              "      <td>-77.0180</td>\n",
              "      <td>Departamento</td>\n",
              "      <td>-1</td>\n",
              "      <td>-1</td>\n",
              "      <td>9</td>\n",
              "      <td>-1</td>\n",
              "      <td>Regular</td>\n",
              "      <td>Comparacion de mercado (directo)</td>\n",
              "      <td>No definido</td>\n",
              "      <td>4.77</td>\n",
              "      <td>71.99</td>\n",
              "      <td>106943</td>\n",
              "    </tr>\n",
              "    <tr>\n",
              "      <th>13</th>\n",
              "      <td>2018</td>\n",
              "      <td>1</td>\n",
              "      <td>Lima</td>\n",
              "      <td>Lima</td>\n",
              "      <td>San Borja</td>\n",
              "      <td>0</td>\n",
              "      <td>0</td>\n",
              "      <td>-12.1044</td>\n",
              "      <td>-77.0056</td>\n",
              "      <td>Departamento</td>\n",
              "      <td>-1</td>\n",
              "      <td>-1</td>\n",
              "      <td>0</td>\n",
              "      <td>-1</td>\n",
              "      <td>En construccion</td>\n",
              "      <td>Comparacion de mercado (directo)</td>\n",
              "      <td>No definido</td>\n",
              "      <td>36.76</td>\n",
              "      <td>91.71</td>\n",
              "      <td>211931</td>\n",
              "    </tr>\n",
              "    <tr>\n",
              "      <th>14</th>\n",
              "      <td>2021</td>\n",
              "      <td>1</td>\n",
              "      <td>Huancavelica</td>\n",
              "      <td>Huancavelica</td>\n",
              "      <td>ICA</td>\n",
              "      <td>0</td>\n",
              "      <td>0</td>\n",
              "      <td>-13.9624</td>\n",
              "      <td>-75.7593</td>\n",
              "      <td>Terreno Urbano</td>\n",
              "      <td>-1</td>\n",
              "      <td>-1</td>\n",
              "      <td>-1</td>\n",
              "      <td>-1</td>\n",
              "      <td>No especificado</td>\n",
              "      <td>Costos o reposicion (directo)</td>\n",
              "      <td>No definido</td>\n",
              "      <td>132726.00</td>\n",
              "      <td>-1.00</td>\n",
              "      <td>622529</td>\n",
              "    </tr>\n",
              "    <tr>\n",
              "      <th>15</th>\n",
              "      <td>2018</td>\n",
              "      <td>2</td>\n",
              "      <td>Lima</td>\n",
              "      <td>Lima</td>\n",
              "      <td>Santiago de Surco</td>\n",
              "      <td>0</td>\n",
              "      <td>0</td>\n",
              "      <td>-12.1302</td>\n",
              "      <td>-77.0024</td>\n",
              "      <td>Departamento</td>\n",
              "      <td>-1</td>\n",
              "      <td>-1</td>\n",
              "      <td>0</td>\n",
              "      <td>-1</td>\n",
              "      <td>En proyecto</td>\n",
              "      <td>Comparacion de mercado (directo)</td>\n",
              "      <td>No definido</td>\n",
              "      <td>47.00</td>\n",
              "      <td>132.13</td>\n",
              "      <td>322680</td>\n",
              "    </tr>\n",
              "    <tr>\n",
              "      <th>16</th>\n",
              "      <td>2021</td>\n",
              "      <td>1</td>\n",
              "      <td>Lima</td>\n",
              "      <td>Lima</td>\n",
              "      <td>San Isidro</td>\n",
              "      <td>1</td>\n",
              "      <td>0</td>\n",
              "      <td>-12.1003</td>\n",
              "      <td>-77.0549</td>\n",
              "      <td>Departamento</td>\n",
              "      <td>-1</td>\n",
              "      <td>-1</td>\n",
              "      <td>65</td>\n",
              "      <td>-1</td>\n",
              "      <td>Regular</td>\n",
              "      <td>Comparacion de mercado (directo)</td>\n",
              "      <td>No definido</td>\n",
              "      <td>64.63</td>\n",
              "      <td>149.85</td>\n",
              "      <td>340679</td>\n",
              "    </tr>\n",
              "    <tr>\n",
              "      <th>17</th>\n",
              "      <td>2018</td>\n",
              "      <td>1</td>\n",
              "      <td>Cajamarca</td>\n",
              "      <td>Cajamarca</td>\n",
              "      <td>Cajamarca</td>\n",
              "      <td>0</td>\n",
              "      <td>0</td>\n",
              "      <td>-7.1471</td>\n",
              "      <td>-78.5241</td>\n",
              "      <td>Local Comercial</td>\n",
              "      <td>-1</td>\n",
              "      <td>-1</td>\n",
              "      <td>2</td>\n",
              "      <td>-1</td>\n",
              "      <td>Bueno</td>\n",
              "      <td>Costos o reposicion (directo)</td>\n",
              "      <td>No definido</td>\n",
              "      <td>211.02</td>\n",
              "      <td>341.00</td>\n",
              "      <td>338523</td>\n",
              "    </tr>\n",
              "    <tr>\n",
              "      <th>18</th>\n",
              "      <td>2021</td>\n",
              "      <td>1</td>\n",
              "      <td>Junin</td>\n",
              "      <td>Huancayo</td>\n",
              "      <td>Huancayo</td>\n",
              "      <td>1</td>\n",
              "      <td>1</td>\n",
              "      <td>-12.0790</td>\n",
              "      <td>-75.2280</td>\n",
              "      <td>Vivienda Unifamiliar</td>\n",
              "      <td>-1</td>\n",
              "      <td>-1</td>\n",
              "      <td>16</td>\n",
              "      <td>-1</td>\n",
              "      <td>Bueno</td>\n",
              "      <td>Costos o reposicion (directo)</td>\n",
              "      <td>No definido</td>\n",
              "      <td>327.10</td>\n",
              "      <td>354.95</td>\n",
              "      <td>253799</td>\n",
              "    </tr>\n",
              "    <tr>\n",
              "      <th>19</th>\n",
              "      <td>2018</td>\n",
              "      <td>2</td>\n",
              "      <td>San Martin</td>\n",
              "      <td>Moyobamba</td>\n",
              "      <td>Moyobamba</td>\n",
              "      <td>0</td>\n",
              "      <td>0</td>\n",
              "      <td>-6.0306</td>\n",
              "      <td>-76.9620</td>\n",
              "      <td>Terreno Urbano</td>\n",
              "      <td>-1</td>\n",
              "      <td>-1</td>\n",
              "      <td>-1</td>\n",
              "      <td>-1</td>\n",
              "      <td>No especificado</td>\n",
              "      <td>Costos o reposicion (directo)</td>\n",
              "      <td>No definido</td>\n",
              "      <td>300.00</td>\n",
              "      <td>-1.00</td>\n",
              "      <td>86850</td>\n",
              "    </tr>\n",
              "    <tr>\n",
              "      <th>20</th>\n",
              "      <td>2021</td>\n",
              "      <td>2</td>\n",
              "      <td>Lima</td>\n",
              "      <td>Lima</td>\n",
              "      <td>San Martin de Porres</td>\n",
              "      <td>0</td>\n",
              "      <td>0</td>\n",
              "      <td>-12.0031</td>\n",
              "      <td>-77.0604</td>\n",
              "      <td>Departamento</td>\n",
              "      <td>-1</td>\n",
              "      <td>-1</td>\n",
              "      <td>32</td>\n",
              "      <td>-1</td>\n",
              "      <td>Bueno</td>\n",
              "      <td>Comparacion de mercado (directo)</td>\n",
              "      <td>No definido</td>\n",
              "      <td>28.50</td>\n",
              "      <td>123.93</td>\n",
              "      <td>96665</td>\n",
              "    </tr>\n",
              "    <tr>\n",
              "      <th>21</th>\n",
              "      <td>2016</td>\n",
              "      <td>3</td>\n",
              "      <td>Lima</td>\n",
              "      <td>Lima</td>\n",
              "      <td>La Molina</td>\n",
              "      <td>1</td>\n",
              "      <td>1</td>\n",
              "      <td>-12.0639</td>\n",
              "      <td>-76.9622</td>\n",
              "      <td>Departamento</td>\n",
              "      <td>-1</td>\n",
              "      <td>-1</td>\n",
              "      <td>1</td>\n",
              "      <td>-1</td>\n",
              "      <td>No especificado</td>\n",
              "      <td>Comparacion de mercado (directo)</td>\n",
              "      <td>No definido</td>\n",
              "      <td>19.17</td>\n",
              "      <td>100.00</td>\n",
              "      <td>178650</td>\n",
              "    </tr>\n",
              "    <tr>\n",
              "      <th>22</th>\n",
              "      <td>2020</td>\n",
              "      <td>1</td>\n",
              "      <td>Cusco</td>\n",
              "      <td>Urubamba</td>\n",
              "      <td>Urubamba</td>\n",
              "      <td>1</td>\n",
              "      <td>1</td>\n",
              "      <td>-13.2762</td>\n",
              "      <td>-72.2115</td>\n",
              "      <td>Terreno Urbano</td>\n",
              "      <td>-1</td>\n",
              "      <td>-1</td>\n",
              "      <td>-1</td>\n",
              "      <td>-1</td>\n",
              "      <td>No especificado</td>\n",
              "      <td>Costos o reposicion (directo)</td>\n",
              "      <td>No definido</td>\n",
              "      <td>1091.00</td>\n",
              "      <td>95.52</td>\n",
              "      <td>236253</td>\n",
              "    </tr>\n",
              "    <tr>\n",
              "      <th>23</th>\n",
              "      <td>2016</td>\n",
              "      <td>2</td>\n",
              "      <td>Lima</td>\n",
              "      <td>Lima</td>\n",
              "      <td>Jesus Maria</td>\n",
              "      <td>1</td>\n",
              "      <td>0</td>\n",
              "      <td>-12.0843</td>\n",
              "      <td>-77.0536</td>\n",
              "      <td>Vivienda Unifamiliar</td>\n",
              "      <td>-1</td>\n",
              "      <td>-1</td>\n",
              "      <td>68</td>\n",
              "      <td>-1</td>\n",
              "      <td>No especificado</td>\n",
              "      <td>Comparacion de mercado (directo)</td>\n",
              "      <td>No definido</td>\n",
              "      <td>940.00</td>\n",
              "      <td>926.18</td>\n",
              "      <td>1881932</td>\n",
              "    </tr>\n",
              "    <tr>\n",
              "      <th>24</th>\n",
              "      <td>2017</td>\n",
              "      <td>2</td>\n",
              "      <td>Lima</td>\n",
              "      <td>Lima</td>\n",
              "      <td>San Borja</td>\n",
              "      <td>0</td>\n",
              "      <td>1</td>\n",
              "      <td>-12.0988</td>\n",
              "      <td>-76.9924</td>\n",
              "      <td>Departamento</td>\n",
              "      <td>-1</td>\n",
              "      <td>-1</td>\n",
              "      <td>7</td>\n",
              "      <td>-1</td>\n",
              "      <td>Bueno</td>\n",
              "      <td>Comparacion de mercado (directo)</td>\n",
              "      <td>No definido</td>\n",
              "      <td>26.59</td>\n",
              "      <td>103.00</td>\n",
              "      <td>190100</td>\n",
              "    </tr>\n",
              "    <tr>\n",
              "      <th>25</th>\n",
              "      <td>2020</td>\n",
              "      <td>4</td>\n",
              "      <td>Lima</td>\n",
              "      <td>Lima</td>\n",
              "      <td>La Victoria</td>\n",
              "      <td>1</td>\n",
              "      <td>1</td>\n",
              "      <td>-12.0682</td>\n",
              "      <td>-77.0089</td>\n",
              "      <td>Vivienda Unifamiliar</td>\n",
              "      <td>-1</td>\n",
              "      <td>-1</td>\n",
              "      <td>62</td>\n",
              "      <td>-1</td>\n",
              "      <td>Malo</td>\n",
              "      <td>Costos o reposicion (directo)</td>\n",
              "      <td>No definido</td>\n",
              "      <td>204.99</td>\n",
              "      <td>210.00</td>\n",
              "      <td>241636</td>\n",
              "    </tr>\n",
              "    <tr>\n",
              "      <th>26</th>\n",
              "      <td>2019</td>\n",
              "      <td>4</td>\n",
              "      <td>Puno</td>\n",
              "      <td>Puno</td>\n",
              "      <td>Puno</td>\n",
              "      <td>1</td>\n",
              "      <td>1</td>\n",
              "      <td>-15.8383</td>\n",
              "      <td>-70.0286</td>\n",
              "      <td>Local Comercial</td>\n",
              "      <td>-1</td>\n",
              "      <td>-1</td>\n",
              "      <td>10</td>\n",
              "      <td>-1</td>\n",
              "      <td>Bueno</td>\n",
              "      <td>Costos o reposicion (directo)</td>\n",
              "      <td>No definido</td>\n",
              "      <td>176.25</td>\n",
              "      <td>186.25</td>\n",
              "      <td>264904</td>\n",
              "    </tr>\n",
              "    <tr>\n",
              "      <th>27</th>\n",
              "      <td>2018</td>\n",
              "      <td>1</td>\n",
              "      <td>Lima</td>\n",
              "      <td>Lima</td>\n",
              "      <td>Magdalena del Mar</td>\n",
              "      <td>1</td>\n",
              "      <td>1</td>\n",
              "      <td>-12.1022</td>\n",
              "      <td>-77.0602</td>\n",
              "      <td>Vivienda Unifamiliar</td>\n",
              "      <td>-1</td>\n",
              "      <td>-1</td>\n",
              "      <td>39</td>\n",
              "      <td>-1</td>\n",
              "      <td>Bueno</td>\n",
              "      <td>Costos o reposicion (directo)</td>\n",
              "      <td>No definido</td>\n",
              "      <td>242.70</td>\n",
              "      <td>208.78</td>\n",
              "      <td>533337</td>\n",
              "    </tr>\n",
              "    <tr>\n",
              "      <th>28</th>\n",
              "      <td>2016</td>\n",
              "      <td>2</td>\n",
              "      <td>Ayacucho</td>\n",
              "      <td>Huamanga</td>\n",
              "      <td>Ayacucho</td>\n",
              "      <td>0</td>\n",
              "      <td>0</td>\n",
              "      <td>-13.1626</td>\n",
              "      <td>-74.2337</td>\n",
              "      <td>Vivienda Unifamiliar</td>\n",
              "      <td>-1</td>\n",
              "      <td>-1</td>\n",
              "      <td>15</td>\n",
              "      <td>-1</td>\n",
              "      <td>No especificado</td>\n",
              "      <td>Costos o reposicion (directo)</td>\n",
              "      <td>No definido</td>\n",
              "      <td>262.80</td>\n",
              "      <td>127.00</td>\n",
              "      <td>85914</td>\n",
              "    </tr>\n",
              "    <tr>\n",
              "      <th>29</th>\n",
              "      <td>2019</td>\n",
              "      <td>2</td>\n",
              "      <td>Junin</td>\n",
              "      <td>Satipo</td>\n",
              "      <td>Satipo</td>\n",
              "      <td>0</td>\n",
              "      <td>0</td>\n",
              "      <td>-11.2515</td>\n",
              "      <td>-74.6385</td>\n",
              "      <td>Local Comercial</td>\n",
              "      <td>-1</td>\n",
              "      <td>-1</td>\n",
              "      <td>21</td>\n",
              "      <td>-1</td>\n",
              "      <td>No especificado</td>\n",
              "      <td>Costos o reposicion (directo)</td>\n",
              "      <td>No definido</td>\n",
              "      <td>133.75</td>\n",
              "      <td>626.50</td>\n",
              "      <td>387646</td>\n",
              "    </tr>\n",
              "    <tr>\n",
              "      <th>30</th>\n",
              "      <td>2017</td>\n",
              "      <td>2</td>\n",
              "      <td>Lima</td>\n",
              "      <td>Lima</td>\n",
              "      <td>San Martin de Porres</td>\n",
              "      <td>0</td>\n",
              "      <td>0</td>\n",
              "      <td>-11.9511</td>\n",
              "      <td>-77.0923</td>\n",
              "      <td>Departamento</td>\n",
              "      <td>-1</td>\n",
              "      <td>-1</td>\n",
              "      <td>3</td>\n",
              "      <td>-1</td>\n",
              "      <td>Bueno</td>\n",
              "      <td>Comparacion de mercado (directo)</td>\n",
              "      <td>No definido</td>\n",
              "      <td>14.63</td>\n",
              "      <td>72.47</td>\n",
              "      <td>54489</td>\n",
              "    </tr>\n",
              "    <tr>\n",
              "      <th>31</th>\n",
              "      <td>2018</td>\n",
              "      <td>1</td>\n",
              "      <td>Lima</td>\n",
              "      <td>Lima</td>\n",
              "      <td>Ate</td>\n",
              "      <td>0</td>\n",
              "      <td>0</td>\n",
              "      <td>-12.0831</td>\n",
              "      <td>-76.9826</td>\n",
              "      <td>Departamento</td>\n",
              "      <td>-1</td>\n",
              "      <td>-1</td>\n",
              "      <td>1</td>\n",
              "      <td>-1</td>\n",
              "      <td>Muy bueno</td>\n",
              "      <td>Comparacion de mercado (directo)</td>\n",
              "      <td>No definido</td>\n",
              "      <td>26.75</td>\n",
              "      <td>94.14</td>\n",
              "      <td>115792</td>\n",
              "    </tr>\n",
              "    <tr>\n",
              "      <th>32</th>\n",
              "      <td>2018</td>\n",
              "      <td>2</td>\n",
              "      <td>Lima</td>\n",
              "      <td>Lima</td>\n",
              "      <td>Santiago de Surco</td>\n",
              "      <td>1</td>\n",
              "      <td>0</td>\n",
              "      <td>-12.1273</td>\n",
              "      <td>-76.9865</td>\n",
              "      <td>Departamento</td>\n",
              "      <td>-1</td>\n",
              "      <td>-1</td>\n",
              "      <td>8</td>\n",
              "      <td>-1</td>\n",
              "      <td>Muy bueno</td>\n",
              "      <td>Comparacion de mercado (directo)</td>\n",
              "      <td>No definido</td>\n",
              "      <td>24.23</td>\n",
              "      <td>108.28</td>\n",
              "      <td>183371</td>\n",
              "    </tr>\n",
              "    <tr>\n",
              "      <th>33</th>\n",
              "      <td>2021</td>\n",
              "      <td>3</td>\n",
              "      <td>Callao</td>\n",
              "      <td>Prov Const del Callao</td>\n",
              "      <td>Callao</td>\n",
              "      <td>0</td>\n",
              "      <td>0</td>\n",
              "      <td>-12.0522</td>\n",
              "      <td>-77.0963</td>\n",
              "      <td>Departamento</td>\n",
              "      <td>-1</td>\n",
              "      <td>-1</td>\n",
              "      <td>6</td>\n",
              "      <td>-1</td>\n",
              "      <td>Bueno</td>\n",
              "      <td>Comparacion de mercado (directo)</td>\n",
              "      <td>No definido</td>\n",
              "      <td>20.44</td>\n",
              "      <td>65.20</td>\n",
              "      <td>64548</td>\n",
              "    </tr>\n",
              "    <tr>\n",
              "      <th>34</th>\n",
              "      <td>2018</td>\n",
              "      <td>3</td>\n",
              "      <td>Lima</td>\n",
              "      <td>Lima</td>\n",
              "      <td>San Borja</td>\n",
              "      <td>0</td>\n",
              "      <td>0</td>\n",
              "      <td>-12.0899</td>\n",
              "      <td>-76.9892</td>\n",
              "      <td>Vivienda Unifamiliar</td>\n",
              "      <td>-1</td>\n",
              "      <td>-1</td>\n",
              "      <td>44</td>\n",
              "      <td>-1</td>\n",
              "      <td>Bueno</td>\n",
              "      <td>Costos o reposicion (directo)</td>\n",
              "      <td>No definido</td>\n",
              "      <td>351.60</td>\n",
              "      <td>396.20</td>\n",
              "      <td>784034</td>\n",
              "    </tr>\n",
              "    <tr>\n",
              "      <th>35</th>\n",
              "      <td>2019</td>\n",
              "      <td>3</td>\n",
              "      <td>Piura</td>\n",
              "      <td>Piura</td>\n",
              "      <td>Piura</td>\n",
              "      <td>0</td>\n",
              "      <td>0</td>\n",
              "      <td>-5.1604</td>\n",
              "      <td>-80.6345</td>\n",
              "      <td>Vivienda Unifamiliar</td>\n",
              "      <td>-1</td>\n",
              "      <td>-1</td>\n",
              "      <td>0</td>\n",
              "      <td>-1</td>\n",
              "      <td>No especificado</td>\n",
              "      <td>Costos o reposicion (directo)</td>\n",
              "      <td>No definido</td>\n",
              "      <td>148.00</td>\n",
              "      <td>185.59</td>\n",
              "      <td>112410</td>\n",
              "    </tr>\n",
              "    <tr>\n",
              "      <th>36</th>\n",
              "      <td>2020</td>\n",
              "      <td>2</td>\n",
              "      <td>Lima</td>\n",
              "      <td>Lima</td>\n",
              "      <td>San Borja</td>\n",
              "      <td>1</td>\n",
              "      <td>0</td>\n",
              "      <td>-12.1026</td>\n",
              "      <td>-76.9920</td>\n",
              "      <td>Departamento</td>\n",
              "      <td>-1</td>\n",
              "      <td>-1</td>\n",
              "      <td>0</td>\n",
              "      <td>-1</td>\n",
              "      <td>En proyecto</td>\n",
              "      <td>Comparacion de mercado (directo)</td>\n",
              "      <td>No definido</td>\n",
              "      <td>51.69</td>\n",
              "      <td>166.31</td>\n",
              "      <td>459246</td>\n",
              "    </tr>\n",
              "    <tr>\n",
              "      <th>37</th>\n",
              "      <td>2020</td>\n",
              "      <td>1</td>\n",
              "      <td>Lima</td>\n",
              "      <td>Lima</td>\n",
              "      <td>La Molina</td>\n",
              "      <td>0</td>\n",
              "      <td>0</td>\n",
              "      <td>-12.1000</td>\n",
              "      <td>-76.9446</td>\n",
              "      <td>Vivienda Unifamiliar</td>\n",
              "      <td>-1</td>\n",
              "      <td>-1</td>\n",
              "      <td>33</td>\n",
              "      <td>-1</td>\n",
              "      <td>Bueno</td>\n",
              "      <td>Costos o reposicion (directo)</td>\n",
              "      <td>No definido</td>\n",
              "      <td>204.50</td>\n",
              "      <td>237.00</td>\n",
              "      <td>337272</td>\n",
              "    </tr>\n",
              "    <tr>\n",
              "      <th>38</th>\n",
              "      <td>2019</td>\n",
              "      <td>1</td>\n",
              "      <td>Arequipa</td>\n",
              "      <td>Islay</td>\n",
              "      <td>Mollendo</td>\n",
              "      <td>0</td>\n",
              "      <td>0</td>\n",
              "      <td>-17.0582</td>\n",
              "      <td>-71.9598</td>\n",
              "      <td>Vivienda Unifamiliar</td>\n",
              "      <td>-1</td>\n",
              "      <td>-1</td>\n",
              "      <td>0</td>\n",
              "      <td>-1</td>\n",
              "      <td>No especificado</td>\n",
              "      <td>Costos o reposicion (directo)</td>\n",
              "      <td>No definido</td>\n",
              "      <td>144.00</td>\n",
              "      <td>108.78</td>\n",
              "      <td>93702</td>\n",
              "    </tr>\n",
              "    <tr>\n",
              "      <th>39</th>\n",
              "      <td>2017</td>\n",
              "      <td>2</td>\n",
              "      <td>Huanuco</td>\n",
              "      <td>Huanuco</td>\n",
              "      <td>Huanuco</td>\n",
              "      <td>0</td>\n",
              "      <td>0</td>\n",
              "      <td>-9.9265</td>\n",
              "      <td>-76.2356</td>\n",
              "      <td>Vivienda Unifamiliar</td>\n",
              "      <td>-1</td>\n",
              "      <td>-1</td>\n",
              "      <td>70</td>\n",
              "      <td>-1</td>\n",
              "      <td>Malo</td>\n",
              "      <td>Costos o reposicion (directo)</td>\n",
              "      <td>No definido</td>\n",
              "      <td>214.74</td>\n",
              "      <td>150.00</td>\n",
              "      <td>256243</td>\n",
              "    </tr>\n",
              "  </tbody>\n",
              "</table>\n",
              "</div>\n",
              "      <button class=\"colab-df-convert\" onclick=\"convertToInteractive('df-3146e244-36a6-41c5-8d43-3a2e759e81b6')\"\n",
              "              title=\"Convert this dataframe to an interactive table.\"\n",
              "              style=\"display:none;\">\n",
              "        \n",
              "  <svg xmlns=\"http://www.w3.org/2000/svg\" height=\"24px\"viewBox=\"0 0 24 24\"\n",
              "       width=\"24px\">\n",
              "    <path d=\"M0 0h24v24H0V0z\" fill=\"none\"/>\n",
              "    <path d=\"M18.56 5.44l.94 2.06.94-2.06 2.06-.94-2.06-.94-.94-2.06-.94 2.06-2.06.94zm-11 1L8.5 8.5l.94-2.06 2.06-.94-2.06-.94L8.5 2.5l-.94 2.06-2.06.94zm10 10l.94 2.06.94-2.06 2.06-.94-2.06-.94-.94-2.06-.94 2.06-2.06.94z\"/><path d=\"M17.41 7.96l-1.37-1.37c-.4-.4-.92-.59-1.43-.59-.52 0-1.04.2-1.43.59L10.3 9.45l-7.72 7.72c-.78.78-.78 2.05 0 2.83L4 21.41c.39.39.9.59 1.41.59.51 0 1.02-.2 1.41-.59l7.78-7.78 2.81-2.81c.8-.78.8-2.07 0-2.86zM5.41 20L4 18.59l7.72-7.72 1.47 1.35L5.41 20z\"/>\n",
              "  </svg>\n",
              "      </button>\n",
              "      \n",
              "  <style>\n",
              "    .colab-df-container {\n",
              "      display:flex;\n",
              "      flex-wrap:wrap;\n",
              "      gap: 12px;\n",
              "    }\n",
              "\n",
              "    .colab-df-convert {\n",
              "      background-color: #E8F0FE;\n",
              "      border: none;\n",
              "      border-radius: 50%;\n",
              "      cursor: pointer;\n",
              "      display: none;\n",
              "      fill: #1967D2;\n",
              "      height: 32px;\n",
              "      padding: 0 0 0 0;\n",
              "      width: 32px;\n",
              "    }\n",
              "\n",
              "    .colab-df-convert:hover {\n",
              "      background-color: #E2EBFA;\n",
              "      box-shadow: 0px 1px 2px rgba(60, 64, 67, 0.3), 0px 1px 3px 1px rgba(60, 64, 67, 0.15);\n",
              "      fill: #174EA6;\n",
              "    }\n",
              "\n",
              "    [theme=dark] .colab-df-convert {\n",
              "      background-color: #3B4455;\n",
              "      fill: #D2E3FC;\n",
              "    }\n",
              "\n",
              "    [theme=dark] .colab-df-convert:hover {\n",
              "      background-color: #434B5C;\n",
              "      box-shadow: 0px 1px 3px 1px rgba(0, 0, 0, 0.15);\n",
              "      filter: drop-shadow(0px 1px 2px rgba(0, 0, 0, 0.3));\n",
              "      fill: #FFFFFF;\n",
              "    }\n",
              "  </style>\n",
              "\n",
              "      <script>\n",
              "        const buttonEl =\n",
              "          document.querySelector('#df-3146e244-36a6-41c5-8d43-3a2e759e81b6 button.colab-df-convert');\n",
              "        buttonEl.style.display =\n",
              "          google.colab.kernel.accessAllowed ? 'block' : 'none';\n",
              "\n",
              "        async function convertToInteractive(key) {\n",
              "          const element = document.querySelector('#df-3146e244-36a6-41c5-8d43-3a2e759e81b6');\n",
              "          const dataTable =\n",
              "            await google.colab.kernel.invokeFunction('convertToInteractive',\n",
              "                                                     [key], {});\n",
              "          if (!dataTable) return;\n",
              "\n",
              "          const docLinkHtml = 'Like what you see? Visit the ' +\n",
              "            '<a target=\"_blank\" href=https://colab.research.google.com/notebooks/data_table.ipynb>data table notebook</a>'\n",
              "            + ' to learn more about interactive tables.';\n",
              "          element.innerHTML = '';\n",
              "          dataTable['output_type'] = 'display_data';\n",
              "          await google.colab.output.renderOutput(dataTable, element);\n",
              "          const docLink = document.createElement('div');\n",
              "          docLink.innerHTML = docLinkHtml;\n",
              "          element.appendChild(docLink);\n",
              "        }\n",
              "      </script>\n",
              "    </div>\n",
              "  </div>\n",
              "  "
            ]
          },
          "metadata": {},
          "execution_count": 1041
        }
      ],
      "source": [
        "df = pd.read_csv(path_new)\n",
        "df.head(40)"
      ]
    },
    {
      "cell_type": "markdown",
      "metadata": {
        "id": "FrrLXNsf4zYX"
      },
      "source": [
        "# *Descripción de datos*\n",
        "\n",
        "*   Distinción de valores numericos y no numericos\n",
        "*   Rangos entre cada variable\n",
        "\n",
        "\n"
      ]
    },
    {
      "cell_type": "code",
      "execution_count": 1042,
      "metadata": {
        "id": "V6fWYUE9452-",
        "colab": {
          "base_uri": "https://localhost:8080/",
          "height": 399
        },
        "outputId": "2fe79936-8b16-4817-d0c9-2815eec58e98"
      },
      "outputs": [
        {
          "output_type": "execute_result",
          "data": {
            "text/plain": [
              "       Fecha entrega del Informe   Tipo de via  Numero de estacionamiento  \\\n",
              "count               19359.000000  19359.000000               19359.000000   \n",
              "mean                 2018.594452      1.948035                   0.691926   \n",
              "std                     1.526584      1.050185                  24.852638   \n",
              "min                  2014.000000     -1.000000                  -1.000000   \n",
              "25%                  2018.000000      1.000000                   0.000000   \n",
              "50%                  2019.000000      2.000000                   0.000000   \n",
              "75%                  2020.000000      3.000000                   1.000000   \n",
              "max                  2022.000000     10.000000                2424.000000   \n",
              "\n",
              "          Depositos       Latitud      Longitud  Numero de frentes  \\\n",
              "count  19359.000000  19359.000000  19359.000000       19359.000000   \n",
              "mean       0.199545    -11.403929    -76.868540           0.730926   \n",
              "std        2.323378      2.405346      7.173456           0.601742   \n",
              "min       -1.000000    -18.209200   -760.857900          -1.000000   \n",
              "25%        0.000000    -12.118300    -77.063000           0.000000   \n",
              "50%        0.000000    -12.081400    -77.019000           1.000000   \n",
              "75%        0.000000    -11.951200    -76.946900           1.000000   \n",
              "max      200.000000     -3.437000    -12.061300           3.000000   \n",
              "\n",
              "               Edad      Elevador  Area Terreno  Area Construccion  \\\n",
              "count  19359.000000  19359.000000  1.935900e+04       19359.000000   \n",
              "mean      14.781342     -0.995093  7.034578e+03         205.114399   \n",
              "std       39.362099      0.105273  1.078874e+05         543.558550   \n",
              "min       -1.000000     -1.000000 -1.000000e+00          -1.000000   \n",
              "25%        1.000000     -1.000000  1.612500e+01          72.025000   \n",
              "50%        6.000000     -1.000000  5.764000e+01         111.350000   \n",
              "75%       21.000000     -1.000000  2.000000e+02         217.890000   \n",
              "max     2018.000000      2.000000  7.571536e+06       42171.800000   \n",
              "\n",
              "       Valor comercial  \n",
              "count     1.935900e+04  \n",
              "mean      3.205846e+05  \n",
              "std       7.125359e+05  \n",
              "min       2.389000e+03  \n",
              "25%       1.025665e+05  \n",
              "50%       1.711750e+05  \n",
              "75%       3.115530e+05  \n",
              "max       3.350381e+07  "
            ],
            "text/html": [
              "\n",
              "  <div id=\"df-28c273f2-d981-465c-937e-4ead48b4ea83\">\n",
              "    <div class=\"colab-df-container\">\n",
              "      <div>\n",
              "<style scoped>\n",
              "    .dataframe tbody tr th:only-of-type {\n",
              "        vertical-align: middle;\n",
              "    }\n",
              "\n",
              "    .dataframe tbody tr th {\n",
              "        vertical-align: top;\n",
              "    }\n",
              "\n",
              "    .dataframe thead th {\n",
              "        text-align: right;\n",
              "    }\n",
              "</style>\n",
              "<table border=\"1\" class=\"dataframe\">\n",
              "  <thead>\n",
              "    <tr style=\"text-align: right;\">\n",
              "      <th></th>\n",
              "      <th>Fecha entrega del Informe</th>\n",
              "      <th>Tipo de via</th>\n",
              "      <th>Numero de estacionamiento</th>\n",
              "      <th>Depositos</th>\n",
              "      <th>Latitud</th>\n",
              "      <th>Longitud</th>\n",
              "      <th>Numero de frentes</th>\n",
              "      <th>Edad</th>\n",
              "      <th>Elevador</th>\n",
              "      <th>Area Terreno</th>\n",
              "      <th>Area Construccion</th>\n",
              "      <th>Valor comercial</th>\n",
              "    </tr>\n",
              "  </thead>\n",
              "  <tbody>\n",
              "    <tr>\n",
              "      <th>count</th>\n",
              "      <td>19359.000000</td>\n",
              "      <td>19359.000000</td>\n",
              "      <td>19359.000000</td>\n",
              "      <td>19359.000000</td>\n",
              "      <td>19359.000000</td>\n",
              "      <td>19359.000000</td>\n",
              "      <td>19359.000000</td>\n",
              "      <td>19359.000000</td>\n",
              "      <td>19359.000000</td>\n",
              "      <td>1.935900e+04</td>\n",
              "      <td>19359.000000</td>\n",
              "      <td>1.935900e+04</td>\n",
              "    </tr>\n",
              "    <tr>\n",
              "      <th>mean</th>\n",
              "      <td>2018.594452</td>\n",
              "      <td>1.948035</td>\n",
              "      <td>0.691926</td>\n",
              "      <td>0.199545</td>\n",
              "      <td>-11.403929</td>\n",
              "      <td>-76.868540</td>\n",
              "      <td>0.730926</td>\n",
              "      <td>14.781342</td>\n",
              "      <td>-0.995093</td>\n",
              "      <td>7.034578e+03</td>\n",
              "      <td>205.114399</td>\n",
              "      <td>3.205846e+05</td>\n",
              "    </tr>\n",
              "    <tr>\n",
              "      <th>std</th>\n",
              "      <td>1.526584</td>\n",
              "      <td>1.050185</td>\n",
              "      <td>24.852638</td>\n",
              "      <td>2.323378</td>\n",
              "      <td>2.405346</td>\n",
              "      <td>7.173456</td>\n",
              "      <td>0.601742</td>\n",
              "      <td>39.362099</td>\n",
              "      <td>0.105273</td>\n",
              "      <td>1.078874e+05</td>\n",
              "      <td>543.558550</td>\n",
              "      <td>7.125359e+05</td>\n",
              "    </tr>\n",
              "    <tr>\n",
              "      <th>min</th>\n",
              "      <td>2014.000000</td>\n",
              "      <td>-1.000000</td>\n",
              "      <td>-1.000000</td>\n",
              "      <td>-1.000000</td>\n",
              "      <td>-18.209200</td>\n",
              "      <td>-760.857900</td>\n",
              "      <td>-1.000000</td>\n",
              "      <td>-1.000000</td>\n",
              "      <td>-1.000000</td>\n",
              "      <td>-1.000000e+00</td>\n",
              "      <td>-1.000000</td>\n",
              "      <td>2.389000e+03</td>\n",
              "    </tr>\n",
              "    <tr>\n",
              "      <th>25%</th>\n",
              "      <td>2018.000000</td>\n",
              "      <td>1.000000</td>\n",
              "      <td>0.000000</td>\n",
              "      <td>0.000000</td>\n",
              "      <td>-12.118300</td>\n",
              "      <td>-77.063000</td>\n",
              "      <td>0.000000</td>\n",
              "      <td>1.000000</td>\n",
              "      <td>-1.000000</td>\n",
              "      <td>1.612500e+01</td>\n",
              "      <td>72.025000</td>\n",
              "      <td>1.025665e+05</td>\n",
              "    </tr>\n",
              "    <tr>\n",
              "      <th>50%</th>\n",
              "      <td>2019.000000</td>\n",
              "      <td>2.000000</td>\n",
              "      <td>0.000000</td>\n",
              "      <td>0.000000</td>\n",
              "      <td>-12.081400</td>\n",
              "      <td>-77.019000</td>\n",
              "      <td>1.000000</td>\n",
              "      <td>6.000000</td>\n",
              "      <td>-1.000000</td>\n",
              "      <td>5.764000e+01</td>\n",
              "      <td>111.350000</td>\n",
              "      <td>1.711750e+05</td>\n",
              "    </tr>\n",
              "    <tr>\n",
              "      <th>75%</th>\n",
              "      <td>2020.000000</td>\n",
              "      <td>3.000000</td>\n",
              "      <td>1.000000</td>\n",
              "      <td>0.000000</td>\n",
              "      <td>-11.951200</td>\n",
              "      <td>-76.946900</td>\n",
              "      <td>1.000000</td>\n",
              "      <td>21.000000</td>\n",
              "      <td>-1.000000</td>\n",
              "      <td>2.000000e+02</td>\n",
              "      <td>217.890000</td>\n",
              "      <td>3.115530e+05</td>\n",
              "    </tr>\n",
              "    <tr>\n",
              "      <th>max</th>\n",
              "      <td>2022.000000</td>\n",
              "      <td>10.000000</td>\n",
              "      <td>2424.000000</td>\n",
              "      <td>200.000000</td>\n",
              "      <td>-3.437000</td>\n",
              "      <td>-12.061300</td>\n",
              "      <td>3.000000</td>\n",
              "      <td>2018.000000</td>\n",
              "      <td>2.000000</td>\n",
              "      <td>7.571536e+06</td>\n",
              "      <td>42171.800000</td>\n",
              "      <td>3.350381e+07</td>\n",
              "    </tr>\n",
              "  </tbody>\n",
              "</table>\n",
              "</div>\n",
              "      <button class=\"colab-df-convert\" onclick=\"convertToInteractive('df-28c273f2-d981-465c-937e-4ead48b4ea83')\"\n",
              "              title=\"Convert this dataframe to an interactive table.\"\n",
              "              style=\"display:none;\">\n",
              "        \n",
              "  <svg xmlns=\"http://www.w3.org/2000/svg\" height=\"24px\"viewBox=\"0 0 24 24\"\n",
              "       width=\"24px\">\n",
              "    <path d=\"M0 0h24v24H0V0z\" fill=\"none\"/>\n",
              "    <path d=\"M18.56 5.44l.94 2.06.94-2.06 2.06-.94-2.06-.94-.94-2.06-.94 2.06-2.06.94zm-11 1L8.5 8.5l.94-2.06 2.06-.94-2.06-.94L8.5 2.5l-.94 2.06-2.06.94zm10 10l.94 2.06.94-2.06 2.06-.94-2.06-.94-.94-2.06-.94 2.06-2.06.94z\"/><path d=\"M17.41 7.96l-1.37-1.37c-.4-.4-.92-.59-1.43-.59-.52 0-1.04.2-1.43.59L10.3 9.45l-7.72 7.72c-.78.78-.78 2.05 0 2.83L4 21.41c.39.39.9.59 1.41.59.51 0 1.02-.2 1.41-.59l7.78-7.78 2.81-2.81c.8-.78.8-2.07 0-2.86zM5.41 20L4 18.59l7.72-7.72 1.47 1.35L5.41 20z\"/>\n",
              "  </svg>\n",
              "      </button>\n",
              "      \n",
              "  <style>\n",
              "    .colab-df-container {\n",
              "      display:flex;\n",
              "      flex-wrap:wrap;\n",
              "      gap: 12px;\n",
              "    }\n",
              "\n",
              "    .colab-df-convert {\n",
              "      background-color: #E8F0FE;\n",
              "      border: none;\n",
              "      border-radius: 50%;\n",
              "      cursor: pointer;\n",
              "      display: none;\n",
              "      fill: #1967D2;\n",
              "      height: 32px;\n",
              "      padding: 0 0 0 0;\n",
              "      width: 32px;\n",
              "    }\n",
              "\n",
              "    .colab-df-convert:hover {\n",
              "      background-color: #E2EBFA;\n",
              "      box-shadow: 0px 1px 2px rgba(60, 64, 67, 0.3), 0px 1px 3px 1px rgba(60, 64, 67, 0.15);\n",
              "      fill: #174EA6;\n",
              "    }\n",
              "\n",
              "    [theme=dark] .colab-df-convert {\n",
              "      background-color: #3B4455;\n",
              "      fill: #D2E3FC;\n",
              "    }\n",
              "\n",
              "    [theme=dark] .colab-df-convert:hover {\n",
              "      background-color: #434B5C;\n",
              "      box-shadow: 0px 1px 3px 1px rgba(0, 0, 0, 0.15);\n",
              "      filter: drop-shadow(0px 1px 2px rgba(0, 0, 0, 0.3));\n",
              "      fill: #FFFFFF;\n",
              "    }\n",
              "  </style>\n",
              "\n",
              "      <script>\n",
              "        const buttonEl =\n",
              "          document.querySelector('#df-28c273f2-d981-465c-937e-4ead48b4ea83 button.colab-df-convert');\n",
              "        buttonEl.style.display =\n",
              "          google.colab.kernel.accessAllowed ? 'block' : 'none';\n",
              "\n",
              "        async function convertToInteractive(key) {\n",
              "          const element = document.querySelector('#df-28c273f2-d981-465c-937e-4ead48b4ea83');\n",
              "          const dataTable =\n",
              "            await google.colab.kernel.invokeFunction('convertToInteractive',\n",
              "                                                     [key], {});\n",
              "          if (!dataTable) return;\n",
              "\n",
              "          const docLinkHtml = 'Like what you see? Visit the ' +\n",
              "            '<a target=\"_blank\" href=https://colab.research.google.com/notebooks/data_table.ipynb>data table notebook</a>'\n",
              "            + ' to learn more about interactive tables.';\n",
              "          element.innerHTML = '';\n",
              "          dataTable['output_type'] = 'display_data';\n",
              "          await google.colab.output.renderOutput(dataTable, element);\n",
              "          const docLink = document.createElement('div');\n",
              "          docLink.innerHTML = docLinkHtml;\n",
              "          element.appendChild(docLink);\n",
              "        }\n",
              "      </script>\n",
              "    </div>\n",
              "  </div>\n",
              "  "
            ]
          },
          "metadata": {},
          "execution_count": 1042
        }
      ],
      "source": [
        "#Valores descriptivos de dataset\n",
        "df.describe()"
      ]
    },
    {
      "cell_type": "code",
      "execution_count": 1043,
      "metadata": {
        "id": "3s4YJYHB5JNu",
        "colab": {
          "base_uri": "https://localhost:8080/"
        },
        "outputId": "37677f2f-4cdc-4e12-a171-e23b9546140f"
      },
      "outputs": [
        {
          "output_type": "execute_result",
          "data": {
            "text/plain": [
              "(19359, 20)"
            ]
          },
          "metadata": {},
          "execution_count": 1043
        }
      ],
      "source": [
        "#Numero de registros y valores a tomar en cuenta\n",
        "df.shape"
      ]
    },
    {
      "cell_type": "code",
      "execution_count": 1044,
      "metadata": {
        "id": "NfA8uzia5aPY",
        "colab": {
          "base_uri": "https://localhost:8080/"
        },
        "outputId": "fbf82034-c53a-4836-fae2-3d1f4a09cfce"
      },
      "outputs": [
        {
          "output_type": "execute_result",
          "data": {
            "text/plain": [
              "Fecha entrega del Informe           int64\n",
              "Tipo de via                         int64\n",
              "Departamento                       object\n",
              "Provincia                          object\n",
              "Distrito                           object\n",
              "Numero de estacionamiento           int64\n",
              "Depositos                           int64\n",
              "Latitud                           float64\n",
              "Longitud                          float64\n",
              "Categoria del bien                 object\n",
              "Posicion                           object\n",
              "Numero de frentes                   int64\n",
              "Edad                                int64\n",
              "Elevador                            int64\n",
              "Estado de conservacion             object\n",
              "Metodo Representado                object\n",
              "Moneda principal para calculos     object\n",
              "Area Terreno                      float64\n",
              "Area Construccion                 float64\n",
              "Valor comercial                     int64\n",
              "dtype: object"
            ]
          },
          "metadata": {},
          "execution_count": 1044
        }
      ],
      "source": [
        "df.dtypes"
      ]
    },
    {
      "cell_type": "markdown",
      "metadata": {
        "id": "cV1f9_C8-EjQ"
      },
      "source": [
        "## Conteo de valores \n",
        "Numero de itereaciones por cada valor distinto en variables"
      ]
    },
    {
      "cell_type": "code",
      "execution_count": 1047,
      "metadata": {
        "id": "6OOn0nx_6ptd",
        "colab": {
          "base_uri": "https://localhost:8080/"
        },
        "outputId": "8ea051a8-087d-471b-8e6b-0db61a3af7df"
      },
      "outputs": [
        {
          "output_type": "execute_result",
          "data": {
            "text/plain": [
              " 1     8884\n",
              " 3     5392\n",
              " 2     4108\n",
              " 4      526\n",
              " 5      420\n",
              " 9       20\n",
              " 7        4\n",
              "-1        2\n",
              " 10       2\n",
              " 6        1\n",
              "Name: Tipo de via, dtype: int64"
            ]
          },
          "metadata": {},
          "execution_count": 1047
        }
      ],
      "source": [
        "df['Tipo de via'].value_counts()"
      ]
    },
    {
      "cell_type": "code",
      "execution_count": 1048,
      "metadata": {
        "id": "PbDchqbY98qf",
        "colab": {
          "base_uri": "https://localhost:8080/"
        },
        "outputId": "aa416d62-41df-48b1-f3e6-ca6b20ee28e4"
      },
      "outputs": [
        {
          "output_type": "execute_result",
          "data": {
            "text/plain": [
              "Lima             13420\n",
              "La Libertad        787\n",
              "Arequipa           644\n",
              "Piura              504\n",
              "Lambayeque         479\n",
              "Junin              473\n",
              "San Martin         445\n",
              "Huancavelica       441\n",
              "Callao             394\n",
              "Loreto             383\n",
              "ancash             282\n",
              "Cusco              254\n",
              "Ucayali            218\n",
              "Huanuco            157\n",
              "Cajamarca          132\n",
              "Tacna               88\n",
              "Puno                67\n",
              "Pasco               51\n",
              "Tumbes              50\n",
              "Ayacucho            46\n",
              "Apurimac            22\n",
              "Moquegua            11\n",
              "Madre de Dios        6\n",
              "Amazonas             5\n",
              "Name: Departamento, dtype: int64"
            ]
          },
          "metadata": {},
          "execution_count": 1048
        }
      ],
      "source": [
        "df['Departamento'].value_counts()"
      ]
    },
    {
      "cell_type": "code",
      "execution_count": 1049,
      "metadata": {
        "id": "YNVYjiUv9984",
        "colab": {
          "base_uri": "https://localhost:8080/"
        },
        "outputId": "668d90c8-14e4-471a-e15a-621902168776"
      },
      "outputs": [
        {
          "output_type": "execute_result",
          "data": {
            "text/plain": [
              "Bueno              8397\n",
              "No especificado    5227\n",
              "Regular            2146\n",
              "Muy bueno          1511\n",
              "En construccion    1453\n",
              "En proyecto         512\n",
              "Malo                113\n",
              "Name: Estado de conservacion, dtype: int64"
            ]
          },
          "metadata": {},
          "execution_count": 1049
        }
      ],
      "source": [
        "df['Estado de conservacion'].value_counts()"
      ]
    },
    {
      "cell_type": "code",
      "execution_count": 1050,
      "metadata": {
        "id": "noYnJyTN-ARI",
        "colab": {
          "base_uri": "https://localhost:8080/"
        },
        "outputId": "8717d14a-1899-4b3c-c43b-c1f6a3867e22"
      },
      "outputs": [
        {
          "output_type": "execute_result",
          "data": {
            "text/plain": [
              "Lima                     12828\n",
              "Trujillo                   694\n",
              "Arequipa                   619\n",
              "Chiclayo                   425\n",
              "Prov Const del Callao      394\n",
              "                         ...  \n",
              "Camana                       1\n",
              "Tayacaja                     1\n",
              "Bagua                        1\n",
              "Jauja                        1\n",
              "Huari                        1\n",
              "Name: Provincia, Length: 113, dtype: int64"
            ]
          },
          "metadata": {},
          "execution_count": 1050
        }
      ],
      "source": [
        "df['Provincia'].value_counts()"
      ]
    },
    {
      "cell_type": "code",
      "execution_count": 1051,
      "metadata": {
        "id": "I45vcC5J-Br-",
        "colab": {
          "base_uri": "https://localhost:8080/"
        },
        "outputId": "73882a9a-fd56-4fae-ef49-ffd63a87be43"
      },
      "outputs": [
        {
          "output_type": "execute_result",
          "data": {
            "text/plain": [
              "Departamento            9483\n",
              "Vivienda Unifamiliar    4835\n",
              "Local Comercial         2311\n",
              "Terreno Urbano          2221\n",
              "Oficina                  509\n",
              "Name: Categoria del bien, dtype: int64"
            ]
          },
          "metadata": {},
          "execution_count": 1051
        }
      ],
      "source": [
        "df['Categoria del bien'].value_counts()"
      ]
    },
    {
      "cell_type": "code",
      "execution_count": 1052,
      "metadata": {
        "id": "0WVkznLO-C-A",
        "colab": {
          "base_uri": "https://localhost:8080/"
        },
        "outputId": "a5620598-2a1b-49a6-ee3e-8870300ab2ec"
      },
      "outputs": [
        {
          "output_type": "execute_result",
          "data": {
            "text/plain": [
              "Comparacion de mercado (directo)      11631\n",
              "Costos o reposicion (directo)          7707\n",
              "Renta o capitalizacion (indirecto)       20\n",
              "No Espeficidado                           1\n",
              "Name: Metodo Representado, dtype: int64"
            ]
          },
          "metadata": {},
          "execution_count": 1052
        }
      ],
      "source": [
        "df['Metodo Representado'].value_counts()"
      ]
    },
    {
      "cell_type": "code",
      "execution_count": 1053,
      "metadata": {
        "id": "0_Gcb8ULQH7f",
        "colab": {
          "base_uri": "https://localhost:8080/"
        },
        "outputId": "f074c094-bcf8-414c-cdf9-f3e9842cf525"
      },
      "outputs": [
        {
          "output_type": "execute_result",
          "data": {
            "text/plain": [
              "-11.9278    152\n",
              "-11.9338     57\n",
              "-12.0792     54\n",
              "-12.0750     46\n",
              "-12.0895     46\n",
              "           ... \n",
              "-11.9812      1\n",
              "-3.7484       1\n",
              "-9.0924       1\n",
              "-14.0677      1\n",
              "-3.5571       1\n",
              "Name: Latitud, Length: 6953, dtype: int64"
            ]
          },
          "metadata": {},
          "execution_count": 1053
        }
      ],
      "source": [
        "df['Latitud'].value_counts()"
      ]
    },
    {
      "cell_type": "code",
      "execution_count": 1054,
      "metadata": {
        "id": "QjxlTsXoQrDb",
        "colab": {
          "base_uri": "https://localhost:8080/"
        },
        "outputId": "24d29141-accd-4db3-fc4b-ded31636b18b"
      },
      "outputs": [
        {
          "output_type": "execute_result",
          "data": {
            "text/plain": [
              "-77.0572    156\n",
              "-77.0607     59\n",
              "-77.0290     51\n",
              "-77.0385     48\n",
              "-77.0600     45\n",
              "           ... \n",
              "-79.3385      1\n",
              "-77.1176      1\n",
              "-74.2189      1\n",
              "-71.5721      1\n",
              "-80.4424      1\n",
              "Name: Longitud, Length: 6753, dtype: int64"
            ]
          },
          "metadata": {},
          "execution_count": 1054
        }
      ],
      "source": [
        "df['Longitud'].value_counts()"
      ]
    },
    {
      "cell_type": "markdown",
      "metadata": {
        "id": "54VNzzNX_UBf"
      },
      "source": [
        "#Direcciones especificas\n",
        "\n",
        "Se pretende utilizar la localización para agregar peso y valor a la funcion de calculo"
      ]
    },
    {
      "cell_type": "code",
      "execution_count": null,
      "metadata": {
        "id": "WOS6MG67kSa-",
        "colab": {
          "base_uri": "https://localhost:8080/",
          "height": 433
        },
        "outputId": "e8a3f087-a66f-4223-efd5-4a3515f03dcc"
      },
      "outputs": [
        {
          "output_type": "error",
          "ename": "KeyboardInterrupt",
          "evalue": "ignored",
          "traceback": [
            "\u001b[0;31m---------------------------------------------------------------------------\u001b[0m",
            "\u001b[0;31mTypeError\u001b[0m                                 Traceback (most recent call last)",
            "\u001b[0;32m/usr/local/lib/python3.7/dist-packages/urllib3/connectionpool.py\u001b[0m in \u001b[0;36m_make_request\u001b[0;34m(self, conn, method, url, timeout, chunked, **httplib_request_kw)\u001b[0m\n\u001b[1;32m    376\u001b[0m             \u001b[0;32mtry\u001b[0m\u001b[0;34m:\u001b[0m  \u001b[0;31m# Python 2.7, use buffering of HTTP responses\u001b[0m\u001b[0;34m\u001b[0m\u001b[0;34m\u001b[0m\u001b[0m\n\u001b[0;32m--> 377\u001b[0;31m                 \u001b[0mhttplib_response\u001b[0m \u001b[0;34m=\u001b[0m \u001b[0mconn\u001b[0m\u001b[0;34m.\u001b[0m\u001b[0mgetresponse\u001b[0m\u001b[0;34m(\u001b[0m\u001b[0mbuffering\u001b[0m\u001b[0;34m=\u001b[0m\u001b[0;32mTrue\u001b[0m\u001b[0;34m)\u001b[0m\u001b[0;34m\u001b[0m\u001b[0;34m\u001b[0m\u001b[0m\n\u001b[0m\u001b[1;32m    378\u001b[0m             \u001b[0;32mexcept\u001b[0m \u001b[0mTypeError\u001b[0m\u001b[0;34m:\u001b[0m  \u001b[0;31m# Python 3\u001b[0m\u001b[0;34m\u001b[0m\u001b[0;34m\u001b[0m\u001b[0m\n",
            "\u001b[0;31mTypeError\u001b[0m: getresponse() got an unexpected keyword argument 'buffering'",
            "\nDuring handling of the above exception, another exception occurred:\n",
            "\u001b[0;31mKeyboardInterrupt\u001b[0m                         Traceback (most recent call last)",
            "\u001b[0;32m<ipython-input-926-09d675568771>\u001b[0m in \u001b[0;36m<module>\u001b[0;34m\u001b[0m\n\u001b[1;32m      3\u001b[0m \u001b[0;31m#Se recorren todos los valores para obtener su direccion\u001b[0m\u001b[0;34m\u001b[0m\u001b[0;34m\u001b[0m\u001b[0;34m\u001b[0m\u001b[0m\n\u001b[1;32m      4\u001b[0m \u001b[0;32mfor\u001b[0m \u001b[0mi\u001b[0m \u001b[0;32min\u001b[0m \u001b[0mrange\u001b[0m\u001b[0;34m(\u001b[0m\u001b[0mlen\u001b[0m\u001b[0;34m(\u001b[0m\u001b[0mdf\u001b[0m\u001b[0;34m)\u001b[0m\u001b[0;34m)\u001b[0m\u001b[0;34m:\u001b[0m\u001b[0;34m\u001b[0m\u001b[0;34m\u001b[0m\u001b[0m\n\u001b[0;32m----> 5\u001b[0;31m     \u001b[0mdirection\u001b[0m \u001b[0;34m=\u001b[0m \u001b[0mgeolocalizador\u001b[0m\u001b[0;34m.\u001b[0m\u001b[0mreverse\u001b[0m\u001b[0;34m(\u001b[0m\u001b[0mstr\u001b[0m\u001b[0;34m(\u001b[0m\u001b[0mdf\u001b[0m\u001b[0;34m.\u001b[0m\u001b[0mat\u001b[0m\u001b[0;34m[\u001b[0m\u001b[0mi\u001b[0m\u001b[0;34m,\u001b[0m\u001b[0;34m\"Latitud\"\u001b[0m\u001b[0;34m]\u001b[0m\u001b[0;34m)\u001b[0m \u001b[0;34m+\u001b[0m \u001b[0;34m','\u001b[0m \u001b[0;34m+\u001b[0m \u001b[0mstr\u001b[0m\u001b[0;34m(\u001b[0m\u001b[0mdf\u001b[0m\u001b[0;34m.\u001b[0m\u001b[0mat\u001b[0m\u001b[0;34m[\u001b[0m\u001b[0mi\u001b[0m\u001b[0;34m,\u001b[0m\u001b[0;34m\"Longitud\"\u001b[0m\u001b[0;34m]\u001b[0m\u001b[0;34m)\u001b[0m\u001b[0;34m)\u001b[0m\u001b[0;34m\u001b[0m\u001b[0;34m\u001b[0m\u001b[0m\n\u001b[0m\u001b[1;32m      6\u001b[0m \u001b[0;34m\u001b[0m\u001b[0m\n\u001b[1;32m      7\u001b[0m \u001b[0;34m\u001b[0m\u001b[0m\n",
            "\u001b[0;32m/usr/local/lib/python3.7/dist-packages/geopy/geocoders/nominatim.py\u001b[0m in \u001b[0;36mreverse\u001b[0;34m(self, query, exactly_one, timeout, language, addressdetails, zoom)\u001b[0m\n\u001b[1;32m    360\u001b[0m         \u001b[0mlogger\u001b[0m\u001b[0;34m.\u001b[0m\u001b[0mdebug\u001b[0m\u001b[0;34m(\u001b[0m\u001b[0;34m\"%s.reverse: %s\"\u001b[0m\u001b[0;34m,\u001b[0m \u001b[0mself\u001b[0m\u001b[0;34m.\u001b[0m\u001b[0m__class__\u001b[0m\u001b[0;34m.\u001b[0m\u001b[0m__name__\u001b[0m\u001b[0;34m,\u001b[0m \u001b[0murl\u001b[0m\u001b[0;34m)\u001b[0m\u001b[0;34m\u001b[0m\u001b[0;34m\u001b[0m\u001b[0m\n\u001b[1;32m    361\u001b[0m         \u001b[0mcallback\u001b[0m \u001b[0;34m=\u001b[0m \u001b[0mpartial\u001b[0m\u001b[0;34m(\u001b[0m\u001b[0mself\u001b[0m\u001b[0;34m.\u001b[0m\u001b[0m_parse_json\u001b[0m\u001b[0;34m,\u001b[0m \u001b[0mexactly_one\u001b[0m\u001b[0;34m=\u001b[0m\u001b[0mexactly_one\u001b[0m\u001b[0;34m)\u001b[0m\u001b[0;34m\u001b[0m\u001b[0;34m\u001b[0m\u001b[0m\n\u001b[0;32m--> 362\u001b[0;31m         \u001b[0;32mreturn\u001b[0m \u001b[0mself\u001b[0m\u001b[0;34m.\u001b[0m\u001b[0m_call_geocoder\u001b[0m\u001b[0;34m(\u001b[0m\u001b[0murl\u001b[0m\u001b[0;34m,\u001b[0m \u001b[0mcallback\u001b[0m\u001b[0;34m,\u001b[0m \u001b[0mtimeout\u001b[0m\u001b[0;34m=\u001b[0m\u001b[0mtimeout\u001b[0m\u001b[0;34m)\u001b[0m\u001b[0;34m\u001b[0m\u001b[0;34m\u001b[0m\u001b[0m\n\u001b[0m\u001b[1;32m    363\u001b[0m \u001b[0;34m\u001b[0m\u001b[0m\n\u001b[1;32m    364\u001b[0m     \u001b[0;32mdef\u001b[0m \u001b[0m_parse_code\u001b[0m\u001b[0;34m(\u001b[0m\u001b[0mself\u001b[0m\u001b[0;34m,\u001b[0m \u001b[0mplace\u001b[0m\u001b[0;34m)\u001b[0m\u001b[0;34m:\u001b[0m\u001b[0;34m\u001b[0m\u001b[0;34m\u001b[0m\u001b[0m\n",
            "\u001b[0;32m/usr/local/lib/python3.7/dist-packages/geopy/geocoders/base.py\u001b[0m in \u001b[0;36m_call_geocoder\u001b[0;34m(self, url, callback, timeout, is_json, headers)\u001b[0m\n\u001b[1;32m    366\u001b[0m         \u001b[0;32mtry\u001b[0m\u001b[0;34m:\u001b[0m\u001b[0;34m\u001b[0m\u001b[0;34m\u001b[0m\u001b[0m\n\u001b[1;32m    367\u001b[0m             \u001b[0;32mif\u001b[0m \u001b[0mis_json\u001b[0m\u001b[0;34m:\u001b[0m\u001b[0;34m\u001b[0m\u001b[0;34m\u001b[0m\u001b[0m\n\u001b[0;32m--> 368\u001b[0;31m                 \u001b[0mresult\u001b[0m \u001b[0;34m=\u001b[0m \u001b[0mself\u001b[0m\u001b[0;34m.\u001b[0m\u001b[0madapter\u001b[0m\u001b[0;34m.\u001b[0m\u001b[0mget_json\u001b[0m\u001b[0;34m(\u001b[0m\u001b[0murl\u001b[0m\u001b[0;34m,\u001b[0m \u001b[0mtimeout\u001b[0m\u001b[0;34m=\u001b[0m\u001b[0mtimeout\u001b[0m\u001b[0;34m,\u001b[0m \u001b[0mheaders\u001b[0m\u001b[0;34m=\u001b[0m\u001b[0mreq_headers\u001b[0m\u001b[0;34m)\u001b[0m\u001b[0;34m\u001b[0m\u001b[0;34m\u001b[0m\u001b[0m\n\u001b[0m\u001b[1;32m    369\u001b[0m             \u001b[0;32melse\u001b[0m\u001b[0;34m:\u001b[0m\u001b[0;34m\u001b[0m\u001b[0;34m\u001b[0m\u001b[0m\n\u001b[1;32m    370\u001b[0m                 \u001b[0mresult\u001b[0m \u001b[0;34m=\u001b[0m \u001b[0mself\u001b[0m\u001b[0;34m.\u001b[0m\u001b[0madapter\u001b[0m\u001b[0;34m.\u001b[0m\u001b[0mget_text\u001b[0m\u001b[0;34m(\u001b[0m\u001b[0murl\u001b[0m\u001b[0;34m,\u001b[0m \u001b[0mtimeout\u001b[0m\u001b[0;34m=\u001b[0m\u001b[0mtimeout\u001b[0m\u001b[0;34m,\u001b[0m \u001b[0mheaders\u001b[0m\u001b[0;34m=\u001b[0m\u001b[0mreq_headers\u001b[0m\u001b[0;34m)\u001b[0m\u001b[0;34m\u001b[0m\u001b[0;34m\u001b[0m\u001b[0m\n",
            "\u001b[0;32m/usr/local/lib/python3.7/dist-packages/geopy/adapters.py\u001b[0m in \u001b[0;36mget_json\u001b[0;34m(self, url, timeout, headers)\u001b[0m\n\u001b[1;32m    436\u001b[0m \u001b[0;34m\u001b[0m\u001b[0m\n\u001b[1;32m    437\u001b[0m     \u001b[0;32mdef\u001b[0m \u001b[0mget_json\u001b[0m\u001b[0;34m(\u001b[0m\u001b[0mself\u001b[0m\u001b[0;34m,\u001b[0m \u001b[0murl\u001b[0m\u001b[0;34m,\u001b[0m \u001b[0;34m*\u001b[0m\u001b[0;34m,\u001b[0m \u001b[0mtimeout\u001b[0m\u001b[0;34m,\u001b[0m \u001b[0mheaders\u001b[0m\u001b[0;34m)\u001b[0m\u001b[0;34m:\u001b[0m\u001b[0;34m\u001b[0m\u001b[0;34m\u001b[0m\u001b[0m\n\u001b[0;32m--> 438\u001b[0;31m         \u001b[0mresp\u001b[0m \u001b[0;34m=\u001b[0m \u001b[0mself\u001b[0m\u001b[0;34m.\u001b[0m\u001b[0m_request\u001b[0m\u001b[0;34m(\u001b[0m\u001b[0murl\u001b[0m\u001b[0;34m,\u001b[0m \u001b[0mtimeout\u001b[0m\u001b[0;34m=\u001b[0m\u001b[0mtimeout\u001b[0m\u001b[0;34m,\u001b[0m \u001b[0mheaders\u001b[0m\u001b[0;34m=\u001b[0m\u001b[0mheaders\u001b[0m\u001b[0;34m)\u001b[0m\u001b[0;34m\u001b[0m\u001b[0;34m\u001b[0m\u001b[0m\n\u001b[0m\u001b[1;32m    439\u001b[0m         \u001b[0;32mtry\u001b[0m\u001b[0;34m:\u001b[0m\u001b[0;34m\u001b[0m\u001b[0;34m\u001b[0m\u001b[0m\n\u001b[1;32m    440\u001b[0m             \u001b[0;32mreturn\u001b[0m \u001b[0mresp\u001b[0m\u001b[0;34m.\u001b[0m\u001b[0mjson\u001b[0m\u001b[0;34m(\u001b[0m\u001b[0;34m)\u001b[0m\u001b[0;34m\u001b[0m\u001b[0;34m\u001b[0m\u001b[0m\n",
            "\u001b[0;32m/usr/local/lib/python3.7/dist-packages/geopy/adapters.py\u001b[0m in \u001b[0;36m_request\u001b[0;34m(self, url, timeout, headers)\u001b[0m\n\u001b[1;32m    446\u001b[0m     \u001b[0;32mdef\u001b[0m \u001b[0m_request\u001b[0m\u001b[0;34m(\u001b[0m\u001b[0mself\u001b[0m\u001b[0;34m,\u001b[0m \u001b[0murl\u001b[0m\u001b[0;34m,\u001b[0m \u001b[0;34m*\u001b[0m\u001b[0;34m,\u001b[0m \u001b[0mtimeout\u001b[0m\u001b[0;34m,\u001b[0m \u001b[0mheaders\u001b[0m\u001b[0;34m)\u001b[0m\u001b[0;34m:\u001b[0m\u001b[0;34m\u001b[0m\u001b[0;34m\u001b[0m\u001b[0m\n\u001b[1;32m    447\u001b[0m         \u001b[0;32mtry\u001b[0m\u001b[0;34m:\u001b[0m\u001b[0;34m\u001b[0m\u001b[0;34m\u001b[0m\u001b[0m\n\u001b[0;32m--> 448\u001b[0;31m             \u001b[0mresp\u001b[0m \u001b[0;34m=\u001b[0m \u001b[0mself\u001b[0m\u001b[0;34m.\u001b[0m\u001b[0msession\u001b[0m\u001b[0;34m.\u001b[0m\u001b[0mget\u001b[0m\u001b[0;34m(\u001b[0m\u001b[0murl\u001b[0m\u001b[0;34m,\u001b[0m \u001b[0mtimeout\u001b[0m\u001b[0;34m=\u001b[0m\u001b[0mtimeout\u001b[0m\u001b[0;34m,\u001b[0m \u001b[0mheaders\u001b[0m\u001b[0;34m=\u001b[0m\u001b[0mheaders\u001b[0m\u001b[0;34m)\u001b[0m\u001b[0;34m\u001b[0m\u001b[0;34m\u001b[0m\u001b[0m\n\u001b[0m\u001b[1;32m    449\u001b[0m         \u001b[0;32mexcept\u001b[0m \u001b[0mException\u001b[0m \u001b[0;32mas\u001b[0m \u001b[0merror\u001b[0m\u001b[0;34m:\u001b[0m\u001b[0;34m\u001b[0m\u001b[0;34m\u001b[0m\u001b[0m\n\u001b[1;32m    450\u001b[0m             \u001b[0mmessage\u001b[0m \u001b[0;34m=\u001b[0m \u001b[0mstr\u001b[0m\u001b[0;34m(\u001b[0m\u001b[0merror\u001b[0m\u001b[0;34m)\u001b[0m\u001b[0;34m\u001b[0m\u001b[0;34m\u001b[0m\u001b[0m\n",
            "\u001b[0;32m/usr/local/lib/python3.7/dist-packages/requests/sessions.py\u001b[0m in \u001b[0;36mget\u001b[0;34m(self, url, **kwargs)\u001b[0m\n\u001b[1;32m    541\u001b[0m \u001b[0;34m\u001b[0m\u001b[0m\n\u001b[1;32m    542\u001b[0m         \u001b[0mkwargs\u001b[0m\u001b[0;34m.\u001b[0m\u001b[0msetdefault\u001b[0m\u001b[0;34m(\u001b[0m\u001b[0;34m'allow_redirects'\u001b[0m\u001b[0;34m,\u001b[0m \u001b[0;32mTrue\u001b[0m\u001b[0;34m)\u001b[0m\u001b[0;34m\u001b[0m\u001b[0;34m\u001b[0m\u001b[0m\n\u001b[0;32m--> 543\u001b[0;31m         \u001b[0;32mreturn\u001b[0m \u001b[0mself\u001b[0m\u001b[0;34m.\u001b[0m\u001b[0mrequest\u001b[0m\u001b[0;34m(\u001b[0m\u001b[0;34m'GET'\u001b[0m\u001b[0;34m,\u001b[0m \u001b[0murl\u001b[0m\u001b[0;34m,\u001b[0m \u001b[0;34m**\u001b[0m\u001b[0mkwargs\u001b[0m\u001b[0;34m)\u001b[0m\u001b[0;34m\u001b[0m\u001b[0;34m\u001b[0m\u001b[0m\n\u001b[0m\u001b[1;32m    544\u001b[0m \u001b[0;34m\u001b[0m\u001b[0m\n\u001b[1;32m    545\u001b[0m     \u001b[0;32mdef\u001b[0m \u001b[0moptions\u001b[0m\u001b[0;34m(\u001b[0m\u001b[0mself\u001b[0m\u001b[0;34m,\u001b[0m \u001b[0murl\u001b[0m\u001b[0;34m,\u001b[0m \u001b[0;34m**\u001b[0m\u001b[0mkwargs\u001b[0m\u001b[0;34m)\u001b[0m\u001b[0;34m:\u001b[0m\u001b[0;34m\u001b[0m\u001b[0;34m\u001b[0m\u001b[0m\n",
            "\u001b[0;32m/usr/local/lib/python3.7/dist-packages/requests/sessions.py\u001b[0m in \u001b[0;36mrequest\u001b[0;34m(self, method, url, params, data, headers, cookies, files, auth, timeout, allow_redirects, proxies, hooks, stream, verify, cert, json)\u001b[0m\n\u001b[1;32m    528\u001b[0m         }\n\u001b[1;32m    529\u001b[0m         \u001b[0msend_kwargs\u001b[0m\u001b[0;34m.\u001b[0m\u001b[0mupdate\u001b[0m\u001b[0;34m(\u001b[0m\u001b[0msettings\u001b[0m\u001b[0;34m)\u001b[0m\u001b[0;34m\u001b[0m\u001b[0;34m\u001b[0m\u001b[0m\n\u001b[0;32m--> 530\u001b[0;31m         \u001b[0mresp\u001b[0m \u001b[0;34m=\u001b[0m \u001b[0mself\u001b[0m\u001b[0;34m.\u001b[0m\u001b[0msend\u001b[0m\u001b[0;34m(\u001b[0m\u001b[0mprep\u001b[0m\u001b[0;34m,\u001b[0m \u001b[0;34m**\u001b[0m\u001b[0msend_kwargs\u001b[0m\u001b[0;34m)\u001b[0m\u001b[0;34m\u001b[0m\u001b[0;34m\u001b[0m\u001b[0m\n\u001b[0m\u001b[1;32m    531\u001b[0m \u001b[0;34m\u001b[0m\u001b[0m\n\u001b[1;32m    532\u001b[0m         \u001b[0;32mreturn\u001b[0m \u001b[0mresp\u001b[0m\u001b[0;34m\u001b[0m\u001b[0;34m\u001b[0m\u001b[0m\n",
            "\u001b[0;32m/usr/local/lib/python3.7/dist-packages/requests/sessions.py\u001b[0m in \u001b[0;36msend\u001b[0;34m(self, request, **kwargs)\u001b[0m\n\u001b[1;32m    641\u001b[0m \u001b[0;34m\u001b[0m\u001b[0m\n\u001b[1;32m    642\u001b[0m         \u001b[0;31m# Send the request\u001b[0m\u001b[0;34m\u001b[0m\u001b[0;34m\u001b[0m\u001b[0;34m\u001b[0m\u001b[0m\n\u001b[0;32m--> 643\u001b[0;31m         \u001b[0mr\u001b[0m \u001b[0;34m=\u001b[0m \u001b[0madapter\u001b[0m\u001b[0;34m.\u001b[0m\u001b[0msend\u001b[0m\u001b[0;34m(\u001b[0m\u001b[0mrequest\u001b[0m\u001b[0;34m,\u001b[0m \u001b[0;34m**\u001b[0m\u001b[0mkwargs\u001b[0m\u001b[0;34m)\u001b[0m\u001b[0;34m\u001b[0m\u001b[0;34m\u001b[0m\u001b[0m\n\u001b[0m\u001b[1;32m    644\u001b[0m \u001b[0;34m\u001b[0m\u001b[0m\n\u001b[1;32m    645\u001b[0m         \u001b[0;31m# Total elapsed time of the request (approximately)\u001b[0m\u001b[0;34m\u001b[0m\u001b[0;34m\u001b[0m\u001b[0;34m\u001b[0m\u001b[0m\n",
            "\u001b[0;32m/usr/local/lib/python3.7/dist-packages/requests/adapters.py\u001b[0m in \u001b[0;36msend\u001b[0;34m(self, request, stream, timeout, verify, cert, proxies)\u001b[0m\n\u001b[1;32m    447\u001b[0m                     \u001b[0mdecode_content\u001b[0m\u001b[0;34m=\u001b[0m\u001b[0;32mFalse\u001b[0m\u001b[0;34m,\u001b[0m\u001b[0;34m\u001b[0m\u001b[0;34m\u001b[0m\u001b[0m\n\u001b[1;32m    448\u001b[0m                     \u001b[0mretries\u001b[0m\u001b[0;34m=\u001b[0m\u001b[0mself\u001b[0m\u001b[0;34m.\u001b[0m\u001b[0mmax_retries\u001b[0m\u001b[0;34m,\u001b[0m\u001b[0;34m\u001b[0m\u001b[0;34m\u001b[0m\u001b[0m\n\u001b[0;32m--> 449\u001b[0;31m                     \u001b[0mtimeout\u001b[0m\u001b[0;34m=\u001b[0m\u001b[0mtimeout\u001b[0m\u001b[0;34m\u001b[0m\u001b[0;34m\u001b[0m\u001b[0m\n\u001b[0m\u001b[1;32m    450\u001b[0m                 )\n\u001b[1;32m    451\u001b[0m \u001b[0;34m\u001b[0m\u001b[0m\n",
            "\u001b[0;32m/usr/local/lib/python3.7/dist-packages/urllib3/connectionpool.py\u001b[0m in \u001b[0;36murlopen\u001b[0;34m(self, method, url, body, headers, retries, redirect, assert_same_host, timeout, pool_timeout, release_conn, chunked, body_pos, **response_kw)\u001b[0m\n\u001b[1;32m    598\u001b[0m                                                   \u001b[0mtimeout\u001b[0m\u001b[0;34m=\u001b[0m\u001b[0mtimeout_obj\u001b[0m\u001b[0;34m,\u001b[0m\u001b[0;34m\u001b[0m\u001b[0;34m\u001b[0m\u001b[0m\n\u001b[1;32m    599\u001b[0m                                                   \u001b[0mbody\u001b[0m\u001b[0;34m=\u001b[0m\u001b[0mbody\u001b[0m\u001b[0;34m,\u001b[0m \u001b[0mheaders\u001b[0m\u001b[0;34m=\u001b[0m\u001b[0mheaders\u001b[0m\u001b[0;34m,\u001b[0m\u001b[0;34m\u001b[0m\u001b[0;34m\u001b[0m\u001b[0m\n\u001b[0;32m--> 600\u001b[0;31m                                                   chunked=chunked)\n\u001b[0m\u001b[1;32m    601\u001b[0m \u001b[0;34m\u001b[0m\u001b[0m\n\u001b[1;32m    602\u001b[0m             \u001b[0;31m# If we're going to release the connection in ``finally:``, then\u001b[0m\u001b[0;34m\u001b[0m\u001b[0;34m\u001b[0m\u001b[0;34m\u001b[0m\u001b[0m\n",
            "\u001b[0;32m/usr/local/lib/python3.7/dist-packages/urllib3/connectionpool.py\u001b[0m in \u001b[0;36m_make_request\u001b[0;34m(self, conn, method, url, timeout, chunked, **httplib_request_kw)\u001b[0m\n\u001b[1;32m    378\u001b[0m             \u001b[0;32mexcept\u001b[0m \u001b[0mTypeError\u001b[0m\u001b[0;34m:\u001b[0m  \u001b[0;31m# Python 3\u001b[0m\u001b[0;34m\u001b[0m\u001b[0;34m\u001b[0m\u001b[0m\n\u001b[1;32m    379\u001b[0m                 \u001b[0;32mtry\u001b[0m\u001b[0;34m:\u001b[0m\u001b[0;34m\u001b[0m\u001b[0;34m\u001b[0m\u001b[0m\n\u001b[0;32m--> 380\u001b[0;31m                     \u001b[0mhttplib_response\u001b[0m \u001b[0;34m=\u001b[0m \u001b[0mconn\u001b[0m\u001b[0;34m.\u001b[0m\u001b[0mgetresponse\u001b[0m\u001b[0;34m(\u001b[0m\u001b[0;34m)\u001b[0m\u001b[0;34m\u001b[0m\u001b[0;34m\u001b[0m\u001b[0m\n\u001b[0m\u001b[1;32m    381\u001b[0m                 \u001b[0;32mexcept\u001b[0m \u001b[0mException\u001b[0m \u001b[0;32mas\u001b[0m \u001b[0me\u001b[0m\u001b[0;34m:\u001b[0m\u001b[0;34m\u001b[0m\u001b[0;34m\u001b[0m\u001b[0m\n\u001b[1;32m    382\u001b[0m                     \u001b[0;31m# Remove the TypeError from the exception chain in Python 3;\u001b[0m\u001b[0;34m\u001b[0m\u001b[0;34m\u001b[0m\u001b[0;34m\u001b[0m\u001b[0m\n",
            "\u001b[0;32m/usr/lib/python3.7/http/client.py\u001b[0m in \u001b[0;36mgetresponse\u001b[0;34m(self)\u001b[0m\n\u001b[1;32m   1371\u001b[0m         \u001b[0;32mtry\u001b[0m\u001b[0;34m:\u001b[0m\u001b[0;34m\u001b[0m\u001b[0;34m\u001b[0m\u001b[0m\n\u001b[1;32m   1372\u001b[0m             \u001b[0;32mtry\u001b[0m\u001b[0;34m:\u001b[0m\u001b[0;34m\u001b[0m\u001b[0;34m\u001b[0m\u001b[0m\n\u001b[0;32m-> 1373\u001b[0;31m                 \u001b[0mresponse\u001b[0m\u001b[0;34m.\u001b[0m\u001b[0mbegin\u001b[0m\u001b[0;34m(\u001b[0m\u001b[0;34m)\u001b[0m\u001b[0;34m\u001b[0m\u001b[0;34m\u001b[0m\u001b[0m\n\u001b[0m\u001b[1;32m   1374\u001b[0m             \u001b[0;32mexcept\u001b[0m \u001b[0mConnectionError\u001b[0m\u001b[0;34m:\u001b[0m\u001b[0;34m\u001b[0m\u001b[0;34m\u001b[0m\u001b[0m\n\u001b[1;32m   1375\u001b[0m                 \u001b[0mself\u001b[0m\u001b[0;34m.\u001b[0m\u001b[0mclose\u001b[0m\u001b[0;34m(\u001b[0m\u001b[0;34m)\u001b[0m\u001b[0;34m\u001b[0m\u001b[0;34m\u001b[0m\u001b[0m\n",
            "\u001b[0;32m/usr/lib/python3.7/http/client.py\u001b[0m in \u001b[0;36mbegin\u001b[0;34m(self)\u001b[0m\n\u001b[1;32m    317\u001b[0m         \u001b[0;31m# read until we get a non-100 response\u001b[0m\u001b[0;34m\u001b[0m\u001b[0;34m\u001b[0m\u001b[0;34m\u001b[0m\u001b[0m\n\u001b[1;32m    318\u001b[0m         \u001b[0;32mwhile\u001b[0m \u001b[0;32mTrue\u001b[0m\u001b[0;34m:\u001b[0m\u001b[0;34m\u001b[0m\u001b[0;34m\u001b[0m\u001b[0m\n\u001b[0;32m--> 319\u001b[0;31m             \u001b[0mversion\u001b[0m\u001b[0;34m,\u001b[0m \u001b[0mstatus\u001b[0m\u001b[0;34m,\u001b[0m \u001b[0mreason\u001b[0m \u001b[0;34m=\u001b[0m \u001b[0mself\u001b[0m\u001b[0;34m.\u001b[0m\u001b[0m_read_status\u001b[0m\u001b[0;34m(\u001b[0m\u001b[0;34m)\u001b[0m\u001b[0;34m\u001b[0m\u001b[0;34m\u001b[0m\u001b[0m\n\u001b[0m\u001b[1;32m    320\u001b[0m             \u001b[0;32mif\u001b[0m \u001b[0mstatus\u001b[0m \u001b[0;34m!=\u001b[0m \u001b[0mCONTINUE\u001b[0m\u001b[0;34m:\u001b[0m\u001b[0;34m\u001b[0m\u001b[0;34m\u001b[0m\u001b[0m\n\u001b[1;32m    321\u001b[0m                 \u001b[0;32mbreak\u001b[0m\u001b[0;34m\u001b[0m\u001b[0;34m\u001b[0m\u001b[0m\n",
            "\u001b[0;32m/usr/lib/python3.7/http/client.py\u001b[0m in \u001b[0;36m_read_status\u001b[0;34m(self)\u001b[0m\n\u001b[1;32m    278\u001b[0m \u001b[0;34m\u001b[0m\u001b[0m\n\u001b[1;32m    279\u001b[0m     \u001b[0;32mdef\u001b[0m \u001b[0m_read_status\u001b[0m\u001b[0;34m(\u001b[0m\u001b[0mself\u001b[0m\u001b[0;34m)\u001b[0m\u001b[0;34m:\u001b[0m\u001b[0;34m\u001b[0m\u001b[0;34m\u001b[0m\u001b[0m\n\u001b[0;32m--> 280\u001b[0;31m         \u001b[0mline\u001b[0m \u001b[0;34m=\u001b[0m \u001b[0mstr\u001b[0m\u001b[0;34m(\u001b[0m\u001b[0mself\u001b[0m\u001b[0;34m.\u001b[0m\u001b[0mfp\u001b[0m\u001b[0;34m.\u001b[0m\u001b[0mreadline\u001b[0m\u001b[0;34m(\u001b[0m\u001b[0m_MAXLINE\u001b[0m \u001b[0;34m+\u001b[0m \u001b[0;36m1\u001b[0m\u001b[0;34m)\u001b[0m\u001b[0;34m,\u001b[0m \u001b[0;34m\"iso-8859-1\"\u001b[0m\u001b[0;34m)\u001b[0m\u001b[0;34m\u001b[0m\u001b[0;34m\u001b[0m\u001b[0m\n\u001b[0m\u001b[1;32m    281\u001b[0m         \u001b[0;32mif\u001b[0m \u001b[0mlen\u001b[0m\u001b[0;34m(\u001b[0m\u001b[0mline\u001b[0m\u001b[0;34m)\u001b[0m \u001b[0;34m>\u001b[0m \u001b[0m_MAXLINE\u001b[0m\u001b[0;34m:\u001b[0m\u001b[0;34m\u001b[0m\u001b[0;34m\u001b[0m\u001b[0m\n\u001b[1;32m    282\u001b[0m             \u001b[0;32mraise\u001b[0m \u001b[0mLineTooLong\u001b[0m\u001b[0;34m(\u001b[0m\u001b[0;34m\"status line\"\u001b[0m\u001b[0;34m)\u001b[0m\u001b[0;34m\u001b[0m\u001b[0;34m\u001b[0m\u001b[0m\n",
            "\u001b[0;32m/usr/lib/python3.7/socket.py\u001b[0m in \u001b[0;36mreadinto\u001b[0;34m(self, b)\u001b[0m\n\u001b[1;32m    587\u001b[0m         \u001b[0;32mwhile\u001b[0m \u001b[0;32mTrue\u001b[0m\u001b[0;34m:\u001b[0m\u001b[0;34m\u001b[0m\u001b[0;34m\u001b[0m\u001b[0m\n\u001b[1;32m    588\u001b[0m             \u001b[0;32mtry\u001b[0m\u001b[0;34m:\u001b[0m\u001b[0;34m\u001b[0m\u001b[0;34m\u001b[0m\u001b[0m\n\u001b[0;32m--> 589\u001b[0;31m                 \u001b[0;32mreturn\u001b[0m \u001b[0mself\u001b[0m\u001b[0;34m.\u001b[0m\u001b[0m_sock\u001b[0m\u001b[0;34m.\u001b[0m\u001b[0mrecv_into\u001b[0m\u001b[0;34m(\u001b[0m\u001b[0mb\u001b[0m\u001b[0;34m)\u001b[0m\u001b[0;34m\u001b[0m\u001b[0;34m\u001b[0m\u001b[0m\n\u001b[0m\u001b[1;32m    590\u001b[0m             \u001b[0;32mexcept\u001b[0m \u001b[0mtimeout\u001b[0m\u001b[0;34m:\u001b[0m\u001b[0;34m\u001b[0m\u001b[0;34m\u001b[0m\u001b[0m\n\u001b[1;32m    591\u001b[0m                 \u001b[0mself\u001b[0m\u001b[0;34m.\u001b[0m\u001b[0m_timeout_occurred\u001b[0m \u001b[0;34m=\u001b[0m \u001b[0;32mTrue\u001b[0m\u001b[0;34m\u001b[0m\u001b[0;34m\u001b[0m\u001b[0m\n",
            "\u001b[0;32m/usr/lib/python3.7/ssl.py\u001b[0m in \u001b[0;36mrecv_into\u001b[0;34m(self, buffer, nbytes, flags)\u001b[0m\n\u001b[1;32m   1069\u001b[0m                   \u001b[0;34m\"non-zero flags not allowed in calls to recv_into() on %s\"\u001b[0m \u001b[0;34m%\u001b[0m\u001b[0;34m\u001b[0m\u001b[0;34m\u001b[0m\u001b[0m\n\u001b[1;32m   1070\u001b[0m                   self.__class__)\n\u001b[0;32m-> 1071\u001b[0;31m             \u001b[0;32mreturn\u001b[0m \u001b[0mself\u001b[0m\u001b[0;34m.\u001b[0m\u001b[0mread\u001b[0m\u001b[0;34m(\u001b[0m\u001b[0mnbytes\u001b[0m\u001b[0;34m,\u001b[0m \u001b[0mbuffer\u001b[0m\u001b[0;34m)\u001b[0m\u001b[0;34m\u001b[0m\u001b[0;34m\u001b[0m\u001b[0m\n\u001b[0m\u001b[1;32m   1072\u001b[0m         \u001b[0;32melse\u001b[0m\u001b[0;34m:\u001b[0m\u001b[0;34m\u001b[0m\u001b[0;34m\u001b[0m\u001b[0m\n\u001b[1;32m   1073\u001b[0m             \u001b[0;32mreturn\u001b[0m \u001b[0msuper\u001b[0m\u001b[0;34m(\u001b[0m\u001b[0;34m)\u001b[0m\u001b[0;34m.\u001b[0m\u001b[0mrecv_into\u001b[0m\u001b[0;34m(\u001b[0m\u001b[0mbuffer\u001b[0m\u001b[0;34m,\u001b[0m \u001b[0mnbytes\u001b[0m\u001b[0;34m,\u001b[0m \u001b[0mflags\u001b[0m\u001b[0;34m)\u001b[0m\u001b[0;34m\u001b[0m\u001b[0;34m\u001b[0m\u001b[0m\n",
            "\u001b[0;32m/usr/lib/python3.7/ssl.py\u001b[0m in \u001b[0;36mread\u001b[0;34m(self, len, buffer)\u001b[0m\n\u001b[1;32m    927\u001b[0m         \u001b[0;32mtry\u001b[0m\u001b[0;34m:\u001b[0m\u001b[0;34m\u001b[0m\u001b[0;34m\u001b[0m\u001b[0m\n\u001b[1;32m    928\u001b[0m             \u001b[0;32mif\u001b[0m \u001b[0mbuffer\u001b[0m \u001b[0;32mis\u001b[0m \u001b[0;32mnot\u001b[0m \u001b[0;32mNone\u001b[0m\u001b[0;34m:\u001b[0m\u001b[0;34m\u001b[0m\u001b[0;34m\u001b[0m\u001b[0m\n\u001b[0;32m--> 929\u001b[0;31m                 \u001b[0;32mreturn\u001b[0m \u001b[0mself\u001b[0m\u001b[0;34m.\u001b[0m\u001b[0m_sslobj\u001b[0m\u001b[0;34m.\u001b[0m\u001b[0mread\u001b[0m\u001b[0;34m(\u001b[0m\u001b[0mlen\u001b[0m\u001b[0;34m,\u001b[0m \u001b[0mbuffer\u001b[0m\u001b[0;34m)\u001b[0m\u001b[0;34m\u001b[0m\u001b[0;34m\u001b[0m\u001b[0m\n\u001b[0m\u001b[1;32m    930\u001b[0m             \u001b[0;32melse\u001b[0m\u001b[0;34m:\u001b[0m\u001b[0;34m\u001b[0m\u001b[0;34m\u001b[0m\u001b[0m\n\u001b[1;32m    931\u001b[0m                 \u001b[0;32mreturn\u001b[0m \u001b[0mself\u001b[0m\u001b[0;34m.\u001b[0m\u001b[0m_sslobj\u001b[0m\u001b[0;34m.\u001b[0m\u001b[0mread\u001b[0m\u001b[0;34m(\u001b[0m\u001b[0mlen\u001b[0m\u001b[0;34m)\u001b[0m\u001b[0;34m\u001b[0m\u001b[0;34m\u001b[0m\u001b[0m\n",
            "\u001b[0;31mKeyboardInterrupt\u001b[0m: "
          ]
        }
      ],
      "source": [
        "directions = []\n",
        "geolocalizador = Nominatim(user_agent=\"GetLoc\");\n",
        "#Se recorren todos los valores para obtener su direccion\n",
        "for i in range(len(df)):\n",
        "    direction = geolocalizador.reverse(str(df.at[i,\"Latitud\"]) + ',' + str(df.at[i,\"Longitud\"]))\n",
        "\n",
        "\n",
        "\n",
        "    directions.append(direction) #Se agrega a la lista\n",
        "\n",
        "    "
      ]
    },
    {
      "cell_type": "code",
      "execution_count": null,
      "metadata": {
        "id": "TJtJVx0G_oyf"
      },
      "outputs": [],
      "source": [
        "#Se muestra la lista de direcciones\n",
        "arr_directions = np.array(directions)\n",
        "print(arr_directions)"
      ]
    },
    {
      "cell_type": "markdown",
      "metadata": {
        "id": "g-b-T_LpAkYe"
      },
      "source": [
        "#Rango de datos"
      ]
    },
    {
      "cell_type": "code",
      "execution_count": 997,
      "metadata": {
        "id": "sJNWOqAMswU_",
        "colab": {
          "base_uri": "https://localhost:8080/",
          "height": 0
        },
        "outputId": "d2e2a7f4-af3f-449d-acec-4ed77a669121"
      },
      "outputs": [
        {
          "output_type": "execute_result",
          "data": {
            "text/plain": [
              "array([[<matplotlib.axes._subplots.AxesSubplot object at 0x7f28d1b393d0>,\n",
              "        <matplotlib.axes._subplots.AxesSubplot object at 0x7f28d0f5c2d0>,\n",
              "        <matplotlib.axes._subplots.AxesSubplot object at 0x7f28d0f846d0>,\n",
              "        <matplotlib.axes._subplots.AxesSubplot object at 0x7f28d0f38bd0>],\n",
              "       [<matplotlib.axes._subplots.AxesSubplot object at 0x7f28d0ef6110>,\n",
              "        <matplotlib.axes._subplots.AxesSubplot object at 0x7f28d0ea7610>,\n",
              "        <matplotlib.axes._subplots.AxesSubplot object at 0x7f28d0e5bb90>,\n",
              "        <matplotlib.axes._subplots.AxesSubplot object at 0x7f28d0e8ffd0>],\n",
              "       [<matplotlib.axes._subplots.AxesSubplot object at 0x7f28d0e1b050>,\n",
              "        <matplotlib.axes._subplots.AxesSubplot object at 0x7f28d0e4d650>,\n",
              "        <matplotlib.axes._subplots.AxesSubplot object at 0x7f28d0db2f50>,\n",
              "        <matplotlib.axes._subplots.AxesSubplot object at 0x7f28d0d79450>],\n",
              "       [<matplotlib.axes._subplots.AxesSubplot object at 0x7f28d0d32950>,\n",
              "        <matplotlib.axes._subplots.AxesSubplot object at 0x7f28d0ce9e90>,\n",
              "        <matplotlib.axes._subplots.AxesSubplot object at 0x7f28d0cab3d0>,\n",
              "        <matplotlib.axes._subplots.AxesSubplot object at 0x7f28d0c608d0>]],\n",
              "      dtype=object)"
            ]
          },
          "metadata": {},
          "execution_count": 997
        },
        {
          "output_type": "display_data",
          "data": {
            "text/plain": [
              "<Figure size 1440x1080 with 16 Axes>"
            ],
            "image/png": "[encoded data removed]"
          },
          "metadata": {
            "needs_background": "light"
          }
        }
      ],
      "source": [
        "df.hist(bins=50, figsize=(20,15))"
      ]
    },
    {
      "cell_type": "markdown",
      "metadata": {
        "id": "wIa-rCrnTXMR"
      },
      "source": [
        "# Mapeo de las propiedades (no cul, sin mapa, no jala chido)"
      ]
    },
    {
      "cell_type": "code",
      "execution_count": null,
      "metadata": {
        "id": "wgL064XgTR_y",
        "colab": {
          "base_uri": "https://localhost:8080/"
        },
        "outputId": "49420030-5ef6-46ce-d9e2-9fd78d1813e8"
      },
      "outputs": [
        {
          "output_type": "execute_result",
          "data": {
            "text/plain": [
              "<matplotlib.axes._subplots.AxesSubplot at 0x7f28d8eb6bd0>"
            ]
          },
          "metadata": {},
          "execution_count": 813
        },
        {
          "output_type": "display_data",
          "data": {
            "text/plain": [
              "<Figure size 720x504 with 1 Axes>"
            ],
            "image/png": "[encoded data removed]"
          },
          "metadata": {
            "needs_background": "light"
          }
        }
      ],
      "source": [
        "#grafica de dispersion en X, Y\n",
        "df.plot(kind=\"scatter\", x=\"Latitud\", y=\"Longitud\", figsize=(10,7))"
      ]
    },
    {
      "cell_type": "code",
      "execution_count": null,
      "metadata": {
        "id": "UW_ZKcyPUfUL",
        "colab": {
          "base_uri": "https://localhost:8080/"
        },
        "outputId": "876d25db-cd43-4296-d9c5-fce69e4838db"
      },
      "outputs": [
        {
          "output_type": "execute_result",
          "data": {
            "text/plain": [
              "<matplotlib.axes._subplots.AxesSubplot at 0x7f28d6aea1d0>"
            ]
          },
          "metadata": {},
          "execution_count": 814
        },
        {
          "output_type": "display_data",
          "data": {
            "text/plain": [
              "<Figure size 720x504 with 1 Axes>"
            ],
            "image/png": "[encoded data removed]"
          },
          "metadata": {
            "needs_background": "light"
          }
        }
      ],
      "source": [
        "#grafica de dispersion en X, Y con alfa para ver donde hay mayor densidad\n",
        "df.plot(kind=\"scatter\", x=\"Latitud\", alpha=0.1, y=\"Longitud\", figsize=(10,7))"
      ]
    },
    {
      "cell_type": "code",
      "execution_count": null,
      "metadata": {
        "id": "8is69zOjU8pl"
      },
      "outputs": [],
      "source": [
        "#cambiamos el tamaño del punto y agregamos una escala de medicion\n",
        "#s tamaño de cada punto\n",
        "#c etiqueta\n",
        "\n",
        "\n",
        "#df.plot(kind=\"scatter\", x=\"Latitud\", alpha=0.1, y=\"Longitud\", figsize=(10,7),\n",
        " #       s=df['Valor comercial'], c='median_house_value')"
      ]
    },
    {
      "cell_type": "markdown",
      "metadata": {
        "id": "VkRrvgyNuOQQ"
      },
      "source": [
        "# Mapeo con follium"
      ]
    },
    {
      "cell_type": "code",
      "execution_count": null,
      "metadata": {
        "id": "XjAIQ2ABuJQy",
        "colab": {
          "base_uri": "https://localhost:8080/"
        },
        "outputId": "da8e6205-821b-4780-c810-6eb540d7a680"
      },
      "outputs": [
        {
          "output_type": "execute_result",
          "data": {
            "text/plain": [
              "<folium.folium.Map at 0x7f28d655e8d0>"
            ],
            "text/html": [
              "<div style=\"width:100%;\"><div style=\"position:relative;width:100%;height:0;padding-bottom:60%;\"><span style=\"color:#565656\">Make this Notebook Trusted to load map: File -> Trust Notebook</span><iframe srcdoc=\"&lt;!DOCTYPE html&gt;\n",
              "&lt;head&gt;    \n",
              "    &lt;meta http-equiv=&quot;content-type&quot; content=&quot;text/html; charset=UTF-8&quot; /&gt;\n",
              "    \n",
              "        &lt;script&gt;\n",
              "            L_NO_TOUCH = false;\n",
              "            L_DISABLE_3D = false;\n",
              "        &lt;/script&gt;\n",
              "    \n",
              "    &lt;style&gt;html, body {width: 100%;height: 100%;margin: 0;padding: 0;}&lt;/style&gt;\n",
              "    &lt;style&gt;#map {position:absolute;top:0;bottom:0;right:0;left:0;}&lt;/style&gt;\n",
              "    &lt;script src=&quot;https://cdn.jsdelivr.net/npm/leaflet@1.6.0/dist/leaflet.js&quot;&gt;&lt;/script&gt;\n",
              "    &lt;script src=&quot;https://code.jquery.com/jquery-1.12.4.min.js&quot;&gt;&lt;/script&gt;\n",
              "    &lt;script src=&quot;https://maxcdn.bootstrapcdn.com/bootstrap/3.2.0/js/bootstrap.min.js&quot;&gt;&lt;/script&gt;\n",
              "    &lt;script src=&quot;https://cdnjs.cloudflare.com/ajax/libs/Leaflet.awesome-markers/2.0.2/leaflet.awesome-markers.js&quot;&gt;&lt;/script&gt;\n",
              "    &lt;link rel=&quot;stylesheet&quot; href=&quot;https://cdn.jsdelivr.net/npm/leaflet@1.6.0/dist/leaflet.css&quot;/&gt;\n",
              "    &lt;link rel=&quot;stylesheet&quot; href=&quot;https://maxcdn.bootstrapcdn.com/bootstrap/3.2.0/css/bootstrap.min.css&quot;/&gt;\n",
              "    &lt;link rel=&quot;stylesheet&quot; href=&quot;https://maxcdn.bootstrapcdn.com/bootstrap/3.2.0/css/bootstrap-theme.min.css&quot;/&gt;\n",
              "    &lt;link rel=&quot;stylesheet&quot; href=&quot;https://maxcdn.bootstrapcdn.com/font-awesome/4.6.3/css/font-awesome.min.css&quot;/&gt;\n",
              "    &lt;link rel=&quot;stylesheet&quot; href=&quot;https://cdnjs.cloudflare.com/ajax/libs/Leaflet.awesome-markers/2.0.2/leaflet.awesome-markers.css&quot;/&gt;\n",
              "    &lt;link rel=&quot;stylesheet&quot; href=&quot;https://cdn.jsdelivr.net/gh/python-visualization/folium/folium/templates/leaflet.awesome.rotate.min.css&quot;/&gt;\n",
              "    \n",
              "            &lt;meta name=&quot;viewport&quot; content=&quot;width=device-width,\n",
              "                initial-scale=1.0, maximum-scale=1.0, user-scalable=no&quot; /&gt;\n",
              "            &lt;style&gt;\n",
              "                #map_b52564c85ab1cc3d593ecd96cec54ecb {\n",
              "                    position: relative;\n",
              "                    width: 100.0%;\n",
              "                    height: 100.0%;\n",
              "                    left: 0.0%;\n",
              "                    top: 0.0%;\n",
              "                }\n",
              "            &lt;/style&gt;\n",
              "        \n",
              "&lt;/head&gt;\n",
              "&lt;body&gt;    \n",
              "    \n",
              "            &lt;div class=&quot;folium-map&quot; id=&quot;map_b52564c85ab1cc3d593ecd96cec54ecb&quot; &gt;&lt;/div&gt;\n",
              "        \n",
              "&lt;/body&gt;\n",
              "&lt;script&gt;    \n",
              "    \n",
              "            var map_b52564c85ab1cc3d593ecd96cec54ecb = L.map(\n",
              "                &quot;map_b52564c85ab1cc3d593ecd96cec54ecb&quot;,\n",
              "                {\n",
              "                    center: [-12.057158, -77.048902],\n",
              "                    crs: L.CRS.EPSG3857,\n",
              "                    zoom: 6,\n",
              "                    zoomControl: true,\n",
              "                    preferCanvas: false,\n",
              "                }\n",
              "            );\n",
              "\n",
              "            \n",
              "\n",
              "        \n",
              "    \n",
              "            var tile_layer_73427f04f48be8490483539d8d135c34 = L.tileLayer(\n",
              "                &quot;https://{s}.tile.openstreetmap.org/{z}/{x}/{y}.png&quot;,\n",
              "                {&quot;attribution&quot;: &quot;Data by \\u0026copy; \\u003ca href=\\&quot;http://openstreetmap.org\\&quot;\\u003eOpenStreetMap\\u003c/a\\u003e, under \\u003ca href=\\&quot;http://www.openstreetmap.org/copyright\\&quot;\\u003eODbL\\u003c/a\\u003e.&quot;, &quot;detectRetina&quot;: false, &quot;maxNativeZoom&quot;: 18, &quot;maxZoom&quot;: 18, &quot;minZoom&quot;: 0, &quot;noWrap&quot;: false, &quot;opacity&quot;: 1, &quot;subdomains&quot;: &quot;abc&quot;, &quot;tms&quot;: false}\n",
              "            ).addTo(map_b52564c85ab1cc3d593ecd96cec54ecb);\n",
              "        \n",
              "&lt;/script&gt;\" style=\"position:absolute;width:100%;height:100%;left:0;top:0;border:none !important;\" allowfullscreen webkitallowfullscreen mozallowfullscreen></iframe></div></div>"
            ]
          },
          "metadata": {},
          "execution_count": 816
        }
      ],
      "source": [
        "import folium\n",
        "#x=\"Latitud (Decimal)\", y=\"Longitud (Decimal)\"\n",
        "mapa=folium.Map(location=[-12.057158, -77.048902], zoom_start=6 )\n",
        "mapa"
      ]
    },
    {
      "cell_type": "code",
      "execution_count": null,
      "metadata": {
        "id": "6rNWaZK1wPEa",
        "colab": {
          "base_uri": "https://localhost:8080/"
        },
        "outputId": "4187120e-4e81-4a3b-88f5-c06e478821a4"
      },
      "outputs": [
        {
          "output_type": "execute_result",
          "data": {
            "text/plain": [
              "array([[-12.1201435, -77.0239598],\n",
              "       [-12.0225094, -76.833715 ],\n",
              "       [-12.0896856, -77.0684536],\n",
              "       [-12.0957584, -76.9813229],\n",
              "       [-12.0153092, -76.874213 ],\n",
              "       [-12.0957639, -77.02336  ],\n",
              "       [-12.0297405, -76.9455815],\n",
              "       [-11.899533 , -77.0576157],\n",
              "       [-12.0766427, -77.0506477],\n",
              "       [ -5.1856924, -80.6545414],\n",
              "       [-12.1196524, -77.0057059],\n",
              "       [-12.1363533, -77.0023247],\n",
              "       [-12.05287  , -77.006517 ],\n",
              "       [ -8.1114492, -79.0260459],\n",
              "       [-12.090449 , -77.018342 ],\n",
              "       [-12.112711 , -76.9643341],\n",
              "       [-12.0384343, -76.9570281],\n",
              "       [-12.064683 , -77.01366  ],\n",
              "       [-12.0621164, -76.9497108],\n",
              "       [-12.1213057, -76.9997372]])"
            ]
          },
          "metadata": {},
          "execution_count": 817
        }
      ],
      "source": [
        "distritos= df[ ['Latitud','Longitud']].to_numpy()\n",
        "distritos"
      ]
    },
    {
      "cell_type": "code",
      "execution_count": null,
      "metadata": {
        "id": "Bu5lUvZwwt5k",
        "colab": {
          "base_uri": "https://localhost:8080/"
        },
        "outputId": "0c8d6e2a-04d3-48e4-dbf1-796b42687da1"
      },
      "outputs": [
        {
          "output_type": "stream",
          "name": "stderr",
          "text": [
            "/usr/local/lib/python3.7/dist-packages/ipykernel_launcher.py:4: UserWarning: The `max_val` parameter is no longer necessary. The largest intensity is calculated automatically.\n",
            "  after removing the cwd from sys.path.\n"
          ]
        },
        {
          "output_type": "execute_result",
          "data": {
            "text/plain": [
              "<folium.folium.Map at 0x7f28d655e8d0>"
            ],
            "text/html": [
              "<div style=\"width:100%;\"><div style=\"position:relative;width:100%;height:0;padding-bottom:60%;\"><span style=\"color:#565656\">Make this Notebook Trusted to load map: File -> Trust Notebook</span><iframe srcdoc=\"&lt;!DOCTYPE html&gt;\n",
              "&lt;head&gt;    \n",
              "    &lt;meta http-equiv=&quot;content-type&quot; content=&quot;text/html; charset=UTF-8&quot; /&gt;\n",
              "    \n",
              "        &lt;script&gt;\n",
              "            L_NO_TOUCH = false;\n",
              "            L_DISABLE_3D = false;\n",
              "        &lt;/script&gt;\n",
              "    \n",
              "    &lt;style&gt;html, body {width: 100%;height: 100%;margin: 0;padding: 0;}&lt;/style&gt;\n",
              "    &lt;style&gt;#map {position:absolute;top:0;bottom:0;right:0;left:0;}&lt;/style&gt;\n",
              "    &lt;script src=&quot;https://cdn.jsdelivr.net/npm/leaflet@1.6.0/dist/leaflet.js&quot;&gt;&lt;/script&gt;\n",
              "    &lt;script src=&quot;https://code.jquery.com/jquery-1.12.4.min.js&quot;&gt;&lt;/script&gt;\n",
              "    &lt;script src=&quot;https://maxcdn.bootstrapcdn.com/bootstrap/3.2.0/js/bootstrap.min.js&quot;&gt;&lt;/script&gt;\n",
              "    &lt;script src=&quot;https://cdnjs.cloudflare.com/ajax/libs/Leaflet.awesome-markers/2.0.2/leaflet.awesome-markers.js&quot;&gt;&lt;/script&gt;\n",
              "    &lt;link rel=&quot;stylesheet&quot; href=&quot;https://cdn.jsdelivr.net/npm/leaflet@1.6.0/dist/leaflet.css&quot;/&gt;\n",
              "    &lt;link rel=&quot;stylesheet&quot; href=&quot;https://maxcdn.bootstrapcdn.com/bootstrap/3.2.0/css/bootstrap.min.css&quot;/&gt;\n",
              "    &lt;link rel=&quot;stylesheet&quot; href=&quot;https://maxcdn.bootstrapcdn.com/bootstrap/3.2.0/css/bootstrap-theme.min.css&quot;/&gt;\n",
              "    &lt;link rel=&quot;stylesheet&quot; href=&quot;https://maxcdn.bootstrapcdn.com/font-awesome/4.6.3/css/font-awesome.min.css&quot;/&gt;\n",
              "    &lt;link rel=&quot;stylesheet&quot; href=&quot;https://cdnjs.cloudflare.com/ajax/libs/Leaflet.awesome-markers/2.0.2/leaflet.awesome-markers.css&quot;/&gt;\n",
              "    &lt;link rel=&quot;stylesheet&quot; href=&quot;https://cdn.jsdelivr.net/gh/python-visualization/folium/folium/templates/leaflet.awesome.rotate.min.css&quot;/&gt;\n",
              "    \n",
              "            &lt;meta name=&quot;viewport&quot; content=&quot;width=device-width,\n",
              "                initial-scale=1.0, maximum-scale=1.0, user-scalable=no&quot; /&gt;\n",
              "            &lt;style&gt;\n",
              "                #map_b52564c85ab1cc3d593ecd96cec54ecb {\n",
              "                    position: relative;\n",
              "                    width: 100.0%;\n",
              "                    height: 100.0%;\n",
              "                    left: 0.0%;\n",
              "                    top: 0.0%;\n",
              "                }\n",
              "            &lt;/style&gt;\n",
              "        \n",
              "    &lt;script src=&quot;https://cdn.jsdelivr.net/gh/python-visualization/folium@main/folium/templates/leaflet_heat.min.js&quot;&gt;&lt;/script&gt;\n",
              "&lt;/head&gt;\n",
              "&lt;body&gt;    \n",
              "    \n",
              "            &lt;div class=&quot;folium-map&quot; id=&quot;map_b52564c85ab1cc3d593ecd96cec54ecb&quot; &gt;&lt;/div&gt;\n",
              "        \n",
              "&lt;/body&gt;\n",
              "&lt;script&gt;    \n",
              "    \n",
              "            var map_b52564c85ab1cc3d593ecd96cec54ecb = L.map(\n",
              "                &quot;map_b52564c85ab1cc3d593ecd96cec54ecb&quot;,\n",
              "                {\n",
              "                    center: [-12.057158, -77.048902],\n",
              "                    crs: L.CRS.EPSG3857,\n",
              "                    zoom: 6,\n",
              "                    zoomControl: true,\n",
              "                    preferCanvas: false,\n",
              "                }\n",
              "            );\n",
              "\n",
              "            \n",
              "\n",
              "        \n",
              "    \n",
              "            var tile_layer_73427f04f48be8490483539d8d135c34 = L.tileLayer(\n",
              "                &quot;https://{s}.tile.openstreetmap.org/{z}/{x}/{y}.png&quot;,\n",
              "                {&quot;attribution&quot;: &quot;Data by \\u0026copy; \\u003ca href=\\&quot;http://openstreetmap.org\\&quot;\\u003eOpenStreetMap\\u003c/a\\u003e, under \\u003ca href=\\&quot;http://www.openstreetmap.org/copyright\\&quot;\\u003eODbL\\u003c/a\\u003e.&quot;, &quot;detectRetina&quot;: false, &quot;maxNativeZoom&quot;: 18, &quot;maxZoom&quot;: 18, &quot;minZoom&quot;: 0, &quot;noWrap&quot;: false, &quot;opacity&quot;: 1, &quot;subdomains&quot;: &quot;abc&quot;, &quot;tms&quot;: false}\n",
              "            ).addTo(map_b52564c85ab1cc3d593ecd96cec54ecb);\n",
              "        \n",
              "    \n",
              "            var heat_map_0ca5544f0b0beff1765c5fc68b02f555 = L.heatLayer(\n",
              "                [[-12.1201435, -77.0239598], [-12.0225094, -76.833715], [-12.0896856, -77.0684536], [-12.0957584, -76.9813229], [-12.0153092, -76.874213], [-12.0957639, -77.02336], [-12.0297405, -76.9455815], [-11.899533, -77.0576157], [-12.0766427, -77.0506477], [-5.1856924, -80.6545414], [-12.1196524, -77.0057059], [-12.1363533, -77.0023247], [-12.05287, -77.006517], [-8.1114492, -79.0260459], [-12.090449, -77.018342], [-12.112711, -76.9643341], [-12.0384343, -76.9570281], [-12.064683, -77.01366], [-12.0621164, -76.9497108], [-12.1213057, -76.9997372]],\n",
              "                {&quot;blur&quot;: 15, &quot;maxZoom&quot;: 18, &quot;minOpacity&quot;: 0.4, &quot;radius&quot;: 15}\n",
              "            ).addTo(map_b52564c85ab1cc3d593ecd96cec54ecb);\n",
              "        \n",
              "&lt;/script&gt;\" style=\"position:absolute;width:100%;height:100%;left:0;top:0;border:none !important;\" allowfullscreen webkitallowfullscreen mozallowfullscreen></iframe></div></div>"
            ]
          },
          "metadata": {},
          "execution_count": 818
        }
      ],
      "source": [
        "from folium import plugins\n",
        "from folium.plugins import HeatMap\n",
        "\n",
        "HeatMap (distritos,radius=15, max_val=0.1, min_opacity=0.4).add_to(mapa)\n",
        "mapa"
      ]
    },
    {
      "cell_type": "markdown",
      "metadata": {
        "id": "f8Avo3kPzX28"
      },
      "source": [
        "# Correlacion de variables"
      ]
    },
    {
      "cell_type": "code",
      "execution_count": 1056,
      "metadata": {
        "id": "1NofJttpzVvC",
        "colab": {
          "base_uri": "https://localhost:8080/",
          "height": 0
        },
        "outputId": "7bac910b-5440-402a-c332-17f80432b11f"
      },
      "outputs": [
        {
          "output_type": "execute_result",
          "data": {
            "text/plain": [
              "array([[<matplotlib.axes._subplots.AxesSubplot object at 0x7f28d36e7b90>,\n",
              "        <matplotlib.axes._subplots.AxesSubplot object at 0x7f28d3704d10>,\n",
              "        <matplotlib.axes._subplots.AxesSubplot object at 0x7f28ce49e510>,\n",
              "        <matplotlib.axes._subplots.AxesSubplot object at 0x7f28ccc73050>,\n",
              "        <matplotlib.axes._subplots.AxesSubplot object at 0x7f28d36d0750>],\n",
              "       [<matplotlib.axes._subplots.AxesSubplot object at 0x7f28d3681c50>,\n",
              "        <matplotlib.axes._subplots.AxesSubplot object at 0x7f28d363d210>,\n",
              "        <matplotlib.axes._subplots.AxesSubplot object at 0x7f28d35ef650>,\n",
              "        <matplotlib.axes._subplots.AxesSubplot object at 0x7f28d35ef690>,\n",
              "        <matplotlib.axes._subplots.AxesSubplot object at 0x7f28d35a0c90>],\n",
              "       [<matplotlib.axes._subplots.AxesSubplot object at 0x7f28d35935d0>,\n",
              "        <matplotlib.axes._subplots.AxesSubplot object at 0x7f28d3546ad0>,\n",
              "        <matplotlib.axes._subplots.AxesSubplot object at 0x7f28d34f4b10>,\n",
              "        <matplotlib.axes._subplots.AxesSubplot object at 0x7f28d34c1510>,\n",
              "        <matplotlib.axes._subplots.AxesSubplot object at 0x7f28d3478a10>],\n",
              "       [<matplotlib.axes._subplots.AxesSubplot object at 0x7f28d342ef10>,\n",
              "        <matplotlib.axes._subplots.AxesSubplot object at 0x7f28d33f1450>,\n",
              "        <matplotlib.axes._subplots.AxesSubplot object at 0x7f28d33a8950>,\n",
              "        <matplotlib.axes._subplots.AxesSubplot object at 0x7f28d335de50>,\n",
              "        <matplotlib.axes._subplots.AxesSubplot object at 0x7f28d3321390>],\n",
              "       [<matplotlib.axes._subplots.AxesSubplot object at 0x7f28d3355890>,\n",
              "        <matplotlib.axes._subplots.AxesSubplot object at 0x7f28d330cd90>,\n",
              "        <matplotlib.axes._subplots.AxesSubplot object at 0x7f28d32d02d0>,\n",
              "        <matplotlib.axes._subplots.AxesSubplot object at 0x7f28d32877d0>,\n",
              "        <matplotlib.axes._subplots.AxesSubplot object at 0x7f28d323ecd0>]],\n",
              "      dtype=object)"
            ]
          },
          "metadata": {},
          "execution_count": 1056
        },
        {
          "output_type": "display_data",
          "data": {
            "text/plain": [
              "<Figure size 864x576 with 25 Axes>"
            ],
            "image/png": "[encoded data removed]"
          },
          "metadata": {
            "needs_background": "light"
          }
        }
      ],
      "source": [
        "#diagramas de coorelacion, se me ocurre que sea de todas las variables contra todas\n",
        "from pandas.plotting import scatter_matrix\n",
        "atributos=[\"Valor comercial\",\"Provincia\",\"Numero de frentes\",\"Numero de estacionamiento\",\"Edad\",\"Tipo de via\",\"Categoria del bien\",\"Estado de conservacion\"]\n",
        "\n",
        "scatter_matrix(df[atributos], figsize=(12,8))"
      ]
    },
    {
      "cell_type": "code",
      "execution_count": 1057,
      "metadata": {
        "id": "6VhykUo-_Obn",
        "colab": {
          "base_uri": "https://localhost:8080/",
          "height": 0
        },
        "outputId": "c4cdec3d-2e04-479a-a9f3-0263562269e7"
      },
      "outputs": [
        {
          "output_type": "display_data",
          "data": {
            "text/plain": [
              "<Figure size 432x288 with 2 Axes>"
            ],
            "image/png": "[encoded data removed]"
          },
          "metadata": {
            "needs_background": "light"
          }
        }
      ],
      "source": [
        "import seaborn as sn\n",
        "\n",
        "corrMatrix=df[atributos].corr().round(2)\n",
        "sn.heatmap(corrMatrix, annot=True,cmap='coolwarm')\n",
        "plt.show()"
      ]
    },
    {
      "cell_type": "markdown",
      "metadata": {
        "id": "2bdb8nXkHaov"
      },
      "source": [
        "# Preparar los datos y sus transformaciones"
      ]
    },
    {
      "cell_type": "code",
      "execution_count": 1060,
      "metadata": {
        "id": "bIVUMSX-HYex",
        "colab": {
          "base_uri": "https://localhost:8080/"
        },
        "outputId": "9d73acdb-dfaf-47ec-b979-ba3b3c49e3c3"
      },
      "outputs": [
        {
          "output_type": "execute_result",
          "data": {
            "text/plain": [
              "False"
            ]
          },
          "metadata": {},
          "execution_count": 1060
        }
      ],
      "source": [
        "#revisar y eliminar los datos nulos\n",
        "df.isnull().values.any()"
      ]
    },
    {
      "cell_type": "code",
      "execution_count": 1061,
      "metadata": {
        "id": "AOSKc8KTH4QE",
        "colab": {
          "base_uri": "https://localhost:8080/"
        },
        "outputId": "d7e70294-9b71-4fa4-b1c3-6ef1c9550fa8"
      },
      "outputs": [
        {
          "output_type": "execute_result",
          "data": {
            "text/plain": [
              "19359"
            ]
          },
          "metadata": {},
          "execution_count": 1061
        }
      ],
      "source": [
        "#numero de datos\n",
        "len(df)"
      ]
    },
    {
      "cell_type": "markdown",
      "source": [
        "# Categorizar(lo haremos nominal)"
      ],
      "metadata": {
        "id": "3VgvOTVMQKtq"
      }
    },
    {
      "cell_type": "code",
      "source": [
        "df['Provincia'].value_counts()"
      ],
      "metadata": {
        "id": "bXU5jphLNvfp",
        "colab": {
          "base_uri": "https://localhost:8080/"
        },
        "outputId": "c8d573e4-b26b-4bda-d2d0-ca1db703b5cc"
      },
      "execution_count": 1062,
      "outputs": [
        {
          "output_type": "execute_result",
          "data": {
            "text/plain": [
              "Lima                     12828\n",
              "Trujillo                   694\n",
              "Arequipa                   619\n",
              "Chiclayo                   425\n",
              "Prov Const del Callao      394\n",
              "                         ...  \n",
              "Camana                       1\n",
              "Tayacaja                     1\n",
              "Bagua                        1\n",
              "Jauja                        1\n",
              "Huari                        1\n",
              "Name: Provincia, Length: 113, dtype: int64"
            ]
          },
          "metadata": {},
          "execution_count": 1062
        }
      ]
    },
    {
      "cell_type": "code",
      "source": [
        "from sklearn.preprocessing import OneHotEncoder\n",
        "Nominal_codificador=OneHotEncoder(sparse=False)\n",
        "Nominal_codificador.fit_transform(df[['Provincia']])"
      ],
      "metadata": {
        "id": "okzzUkJKQmU5",
        "colab": {
          "base_uri": "https://localhost:8080/"
        },
        "outputId": "c886dfee-4750-4536-e49d-805c5ac47c54"
      },
      "execution_count": 1063,
      "outputs": [
        {
          "output_type": "execute_result",
          "data": {
            "text/plain": [
              "array([[0., 0., 0., ..., 0., 0., 0.],\n",
              "       [0., 0., 0., ..., 0., 0., 0.],\n",
              "       [0., 0., 0., ..., 0., 0., 0.],\n",
              "       ...,\n",
              "       [0., 0., 0., ..., 0., 0., 0.],\n",
              "       [0., 0., 0., ..., 0., 0., 0.],\n",
              "       [0., 0., 0., ..., 0., 0., 0.]])"
            ]
          },
          "metadata": {},
          "execution_count": 1063
        }
      ]
    },
    {
      "cell_type": "code",
      "source": [
        "#nominal\n",
        "Nominal_codificador.categories_"
      ],
      "metadata": {
        "id": "iKINII9RRiI6",
        "colab": {
          "base_uri": "https://localhost:8080/"
        },
        "outputId": "1da9be6c-ffc0-431d-c67b-e9a32e571aa0"
      },
      "execution_count": 1064,
      "outputs": [
        {
          "output_type": "execute_result",
          "data": {
            "text/plain": [
              "[array(['Abancay', 'Alto Amazonas', 'Ambo', 'Andahuaylas', 'Anta',\n",
              "        'Arequipa', 'Ascope', 'Bagua', 'Barranca', 'Bellavista', 'CALLAO',\n",
              "        'CHICLAYO', 'CHINCHA', 'Cajabamba', 'Cajamarca', 'Calca', 'Camana',\n",
              "        'Canchis', 'Canete', 'Canta', 'Caraveli', 'Carhuaz', 'Casma',\n",
              "        'Caylloma', 'Celendin', 'Chachapoyas', 'Chanchamayo', 'Chepen',\n",
              "        'Chiclayo', 'Chincheros', 'Chota', 'Chucuito', 'Chumbivilcas',\n",
              "        'Chupaca', 'Concepcion', 'Contralmirante Villar',\n",
              "        'Coronel Portillo', 'Cusco', 'Datem del Maranon', 'El Dorado',\n",
              "        'Espinar', 'Ferrenafe', 'Huallaga', 'Huamanga', 'Huancavelica',\n",
              "        'Huancayo', 'Huanta', 'Huanuco', 'Huaral', 'Huaraz', 'Huari',\n",
              "        'Huarmey', 'Huarochiri', 'Huaura', 'Huaylas', 'Ilo', 'Islay',\n",
              "        'Jaen', 'Jauja', 'Junin', 'La Convencion', 'Lamas', 'Lambayeque',\n",
              "        'Leoncio Prado', 'Lima', 'Loreto', 'Mariscal Caceres',\n",
              "        'Mariscal Nieto', 'Mariscal Ramon Castilla', 'Maynas', 'Melgar',\n",
              "        'Morropon', 'Moyobamba', 'NAZCA', 'Ocros', 'Otuzco', 'Oxapampa',\n",
              "        'PALPA', 'PISCO', 'Pacasmayo', 'Padre Abad', 'Paita', 'Pasco',\n",
              "        'Picota', 'Piura', 'Prov Const del Callao', 'Puerto Inca', 'Puno',\n",
              "        'Quispicanchi', 'Requena', 'Rioja', 'San Marcos', 'San Martin',\n",
              "        'San Roman', 'Sanchez Carrion', 'Santa', 'Satipo', 'Sechura',\n",
              "        'Sullana', 'Tacna', 'Talara', 'Tambopata', 'Tarma', 'Tayacaja',\n",
              "        'Tocache', 'Trujillo', 'Tumbes', 'Urubamba', 'Utcubamba', 'Viru',\n",
              "        'Yauli', 'Yungay', 'Zarumilla'], dtype=object)]"
            ]
          },
          "metadata": {},
          "execution_count": 1064
        }
      ]
    },
    {
      "cell_type": "markdown",
      "source": [
        "# PIPELINE"
      ],
      "metadata": {
        "id": "AcyxnGrgR0EZ"
      }
    },
    {
      "cell_type": "code",
      "source": [
        "from sklearn.utils.fixes import sklearn\n",
        "#MODULOS IMPORTANTES\n",
        "from sklearn.pipeline import Pipeline\n",
        "from sklearn.compose import ColumnTransformer\n",
        "from sklearn.preprocessing import StandardScaler, OrdinalEncoder, OneHotEncoder\n",
        "\n",
        "#lista de variables numericas y categoricas\n",
        "numeric_list=['Fecha entrega del Informe', \"Tipo de via\", \"Numero de estacionamiento\", \"Depositos\", \"Latitud\", \"Longitud\",\"Numero de frentes\", \"Edad\", \"Elevador\", \"Area Terreno\", \"Area Construccion\",\"Valor comercial\" ]\n",
        "categorical_list=['Moneda principal para calculos',\"Departamento\",\"Provincia\", \"Distrito\",\"Categoria del bien\", \"Posicion\", \"Estado de conservacion\", \"Metodo Representado\"]"
      ],
      "metadata": {
        "id": "X0V2FuT5R33F"
      },
      "execution_count": 1125,
      "outputs": []
    },
    {
      "cell_type": "code",
      "source": [
        "from pandas.core.arrays import categorical\n",
        "#pipeline de procesamiento para los datos numericos y categoricos\n",
        "numeric_transformer= Pipeline(steps=[(\"scaler\", StandardScaler())]) #Reescalar los numeros\n",
        "categorical_transformer=Pipeline(steps=[(\"onehot\", OneHotEncoder())]) #Casterar a numeros"
      ],
      "metadata": {
        "id": "vNIu27gDYdq7"
      },
      "execution_count": 1066,
      "outputs": []
    },
    {
      "cell_type": "markdown",
      "source": [
        "\n",
        "\n",
        "ColumnTransformer function"
      ],
      "metadata": {
        "id": "OO0IzuEBamYd"
      }
    },
    {
      "cell_type": "code",
      "source": [
        "from matplotlib.transforms import Transform\n",
        "#definir transformaciones\n",
        "transformer= ColumnTransformer ([\n",
        "    (\"num\", numeric_transformer,numeric_list) , (\"cat\", categorical_transformer, categorical_list)\n",
        "]);"
      ],
      "metadata": {
        "id": "mZ9ZlbUNaxSB"
      },
      "execution_count": 1067,
      "outputs": []
    },
    {
      "cell_type": "markdown",
      "source": [
        "# Preparacion de los datos 2.0"
      ],
      "metadata": {
        "id": "m9YXwQyIcGZN"
      }
    },
    {
      "cell_type": "code",
      "source": [
        "X_ejemplo = df.drop(columns=numeric_list, axis=1)\n",
        "X_ejemplo"
      ],
      "metadata": {
        "id": "11zCsOE_yXMH",
        "colab": {
          "base_uri": "https://localhost:8080/",
          "height": 0
        },
        "outputId": "5a41f9a4-73ba-4b62-c66f-ad532c1bc41a"
      },
      "execution_count": 1068,
      "outputs": [
        {
          "output_type": "execute_result",
          "data": {
            "text/plain": [
              "      Departamento         Provincia           Distrito    Categoria del bien  \\\n",
              "0             Lima              Lima          Surquillo          Departamento   \n",
              "1             Lima              Lima  Santiago de Surco          Departamento   \n",
              "2             Lima              Lima         San Miguel               Oficina   \n",
              "3          Ucayali  Coronel Portillo           Calleria        Terreno Urbano   \n",
              "4             Lima              Lima  Magdalena del Mar               Oficina   \n",
              "...            ...               ...                ...                   ...   \n",
              "19354         Lima              Lima                Ate          Departamento   \n",
              "19355       Tumbes            Tumbes             Tumbes  Vivienda Unifamiliar   \n",
              "19356         Lima              Lima         San Miguel          Departamento   \n",
              "19357   Lambayeque          Chiclayo           Chiclayo  Vivienda Unifamiliar   \n",
              "19358         Lima              Lima  Santiago de Surco          Departamento   \n",
              "\n",
              "       Posicion Estado de conservacion               Metodo Representado  \\\n",
              "0            -1                  Bueno  Comparacion de mercado (directo)   \n",
              "1            -1              Muy bueno  Comparacion de mercado (directo)   \n",
              "2            -1                  Bueno  Comparacion de mercado (directo)   \n",
              "3            -1        No especificado     Costos o reposicion (directo)   \n",
              "4            -1            En proyecto  Comparacion de mercado (directo)   \n",
              "...         ...                    ...                               ...   \n",
              "19354  Exterior                  Bueno     Costos o reposicion (directo)   \n",
              "19355  Exterior        No especificado     Costos o reposicion (directo)   \n",
              "19356  Exterior        En construccion  Comparacion de mercado (directo)   \n",
              "19357  Exterior                Regular     Costos o reposicion (directo)   \n",
              "19358  Exterior        En construccion  Comparacion de mercado (directo)   \n",
              "\n",
              "      Moneda principal para calculos  \n",
              "0                        No definido  \n",
              "1                        No definido  \n",
              "2                        No definido  \n",
              "3                        No definido  \n",
              "4                        No definido  \n",
              "...                              ...  \n",
              "19354                    No definido  \n",
              "19355                    No definido  \n",
              "19356                    No definido  \n",
              "19357                    No definido  \n",
              "19358                    No definido  \n",
              "\n",
              "[19359 rows x 8 columns]"
            ],
            "text/html": [
              "\n",
              "  <div id=\"df-6d5f20c2-76d6-4b90-be58-e1806edc1d06\">\n",
              "    <div class=\"colab-df-container\">\n",
              "      <div>\n",
              "<style scoped>\n",
              "    .dataframe tbody tr th:only-of-type {\n",
              "        vertical-align: middle;\n",
              "    }\n",
              "\n",
              "    .dataframe tbody tr th {\n",
              "        vertical-align: top;\n",
              "    }\n",
              "\n",
              "    .dataframe thead th {\n",
              "        text-align: right;\n",
              "    }\n",
              "</style>\n",
              "<table border=\"1\" class=\"dataframe\">\n",
              "  <thead>\n",
              "    <tr style=\"text-align: right;\">\n",
              "      <th></th>\n",
              "      <th>Departamento</th>\n",
              "      <th>Provincia</th>\n",
              "      <th>Distrito</th>\n",
              "      <th>Categoria del bien</th>\n",
              "      <th>Posicion</th>\n",
              "      <th>Estado de conservacion</th>\n",
              "      <th>Metodo Representado</th>\n",
              "      <th>Moneda principal para calculos</th>\n",
              "    </tr>\n",
              "  </thead>\n",
              "  <tbody>\n",
              "    <tr>\n",
              "      <th>0</th>\n",
              "      <td>Lima</td>\n",
              "      <td>Lima</td>\n",
              "      <td>Surquillo</td>\n",
              "      <td>Departamento</td>\n",
              "      <td>-1</td>\n",
              "      <td>Bueno</td>\n",
              "      <td>Comparacion de mercado (directo)</td>\n",
              "      <td>No definido</td>\n",
              "    </tr>\n",
              "    <tr>\n",
              "      <th>1</th>\n",
              "      <td>Lima</td>\n",
              "      <td>Lima</td>\n",
              "      <td>Santiago de Surco</td>\n",
              "      <td>Departamento</td>\n",
              "      <td>-1</td>\n",
              "      <td>Muy bueno</td>\n",
              "      <td>Comparacion de mercado (directo)</td>\n",
              "      <td>No definido</td>\n",
              "    </tr>\n",
              "    <tr>\n",
              "      <th>2</th>\n",
              "      <td>Lima</td>\n",
              "      <td>Lima</td>\n",
              "      <td>San Miguel</td>\n",
              "      <td>Oficina</td>\n",
              "      <td>-1</td>\n",
              "      <td>Bueno</td>\n",
              "      <td>Comparacion de mercado (directo)</td>\n",
              "      <td>No definido</td>\n",
              "    </tr>\n",
              "    <tr>\n",
              "      <th>3</th>\n",
              "      <td>Ucayali</td>\n",
              "      <td>Coronel Portillo</td>\n",
              "      <td>Calleria</td>\n",
              "      <td>Terreno Urbano</td>\n",
              "      <td>-1</td>\n",
              "      <td>No especificado</td>\n",
              "      <td>Costos o reposicion (directo)</td>\n",
              "      <td>No definido</td>\n",
              "    </tr>\n",
              "    <tr>\n",
              "      <th>4</th>\n",
              "      <td>Lima</td>\n",
              "      <td>Lima</td>\n",
              "      <td>Magdalena del Mar</td>\n",
              "      <td>Oficina</td>\n",
              "      <td>-1</td>\n",
              "      <td>En proyecto</td>\n",
              "      <td>Comparacion de mercado (directo)</td>\n",
              "      <td>No definido</td>\n",
              "    </tr>\n",
              "    <tr>\n",
              "      <th>...</th>\n",
              "      <td>...</td>\n",
              "      <td>...</td>\n",
              "      <td>...</td>\n",
              "      <td>...</td>\n",
              "      <td>...</td>\n",
              "      <td>...</td>\n",
              "      <td>...</td>\n",
              "      <td>...</td>\n",
              "    </tr>\n",
              "    <tr>\n",
              "      <th>19354</th>\n",
              "      <td>Lima</td>\n",
              "      <td>Lima</td>\n",
              "      <td>Ate</td>\n",
              "      <td>Departamento</td>\n",
              "      <td>Exterior</td>\n",
              "      <td>Bueno</td>\n",
              "      <td>Costos o reposicion (directo)</td>\n",
              "      <td>No definido</td>\n",
              "    </tr>\n",
              "    <tr>\n",
              "      <th>19355</th>\n",
              "      <td>Tumbes</td>\n",
              "      <td>Tumbes</td>\n",
              "      <td>Tumbes</td>\n",
              "      <td>Vivienda Unifamiliar</td>\n",
              "      <td>Exterior</td>\n",
              "      <td>No especificado</td>\n",
              "      <td>Costos o reposicion (directo)</td>\n",
              "      <td>No definido</td>\n",
              "    </tr>\n",
              "    <tr>\n",
              "      <th>19356</th>\n",
              "      <td>Lima</td>\n",
              "      <td>Lima</td>\n",
              "      <td>San Miguel</td>\n",
              "      <td>Departamento</td>\n",
              "      <td>Exterior</td>\n",
              "      <td>En construccion</td>\n",
              "      <td>Comparacion de mercado (directo)</td>\n",
              "      <td>No definido</td>\n",
              "    </tr>\n",
              "    <tr>\n",
              "      <th>19357</th>\n",
              "      <td>Lambayeque</td>\n",
              "      <td>Chiclayo</td>\n",
              "      <td>Chiclayo</td>\n",
              "      <td>Vivienda Unifamiliar</td>\n",
              "      <td>Exterior</td>\n",
              "      <td>Regular</td>\n",
              "      <td>Costos o reposicion (directo)</td>\n",
              "      <td>No definido</td>\n",
              "    </tr>\n",
              "    <tr>\n",
              "      <th>19358</th>\n",
              "      <td>Lima</td>\n",
              "      <td>Lima</td>\n",
              "      <td>Santiago de Surco</td>\n",
              "      <td>Departamento</td>\n",
              "      <td>Exterior</td>\n",
              "      <td>En construccion</td>\n",
              "      <td>Comparacion de mercado (directo)</td>\n",
              "      <td>No definido</td>\n",
              "    </tr>\n",
              "  </tbody>\n",
              "</table>\n",
              "<p>19359 rows × 8 columns</p>\n",
              "</div>\n",
              "      <button class=\"colab-df-convert\" onclick=\"convertToInteractive('df-6d5f20c2-76d6-4b90-be58-e1806edc1d06')\"\n",
              "              title=\"Convert this dataframe to an interactive table.\"\n",
              "              style=\"display:none;\">\n",
              "        \n",
              "  <svg xmlns=\"http://www.w3.org/2000/svg\" height=\"24px\"viewBox=\"0 0 24 24\"\n",
              "       width=\"24px\">\n",
              "    <path d=\"M0 0h24v24H0V0z\" fill=\"none\"/>\n",
              "    <path d=\"M18.56 5.44l.94 2.06.94-2.06 2.06-.94-2.06-.94-.94-2.06-.94 2.06-2.06.94zm-11 1L8.5 8.5l.94-2.06 2.06-.94-2.06-.94L8.5 2.5l-.94 2.06-2.06.94zm10 10l.94 2.06.94-2.06 2.06-.94-2.06-.94-.94-2.06-.94 2.06-2.06.94z\"/><path d=\"M17.41 7.96l-1.37-1.37c-.4-.4-.92-.59-1.43-.59-.52 0-1.04.2-1.43.59L10.3 9.45l-7.72 7.72c-.78.78-.78 2.05 0 2.83L4 21.41c.39.39.9.59 1.41.59.51 0 1.02-.2 1.41-.59l7.78-7.78 2.81-2.81c.8-.78.8-2.07 0-2.86zM5.41 20L4 18.59l7.72-7.72 1.47 1.35L5.41 20z\"/>\n",
              "  </svg>\n",
              "      </button>\n",
              "      \n",
              "  <style>\n",
              "    .colab-df-container {\n",
              "      display:flex;\n",
              "      flex-wrap:wrap;\n",
              "      gap: 12px;\n",
              "    }\n",
              "\n",
              "    .colab-df-convert {\n",
              "      background-color: #E8F0FE;\n",
              "      border: none;\n",
              "      border-radius: 50%;\n",
              "      cursor: pointer;\n",
              "      display: none;\n",
              "      fill: #1967D2;\n",
              "      height: 32px;\n",
              "      padding: 0 0 0 0;\n",
              "      width: 32px;\n",
              "    }\n",
              "\n",
              "    .colab-df-convert:hover {\n",
              "      background-color: #E2EBFA;\n",
              "      box-shadow: 0px 1px 2px rgba(60, 64, 67, 0.3), 0px 1px 3px 1px rgba(60, 64, 67, 0.15);\n",
              "      fill: #174EA6;\n",
              "    }\n",
              "\n",
              "    [theme=dark] .colab-df-convert {\n",
              "      background-color: #3B4455;\n",
              "      fill: #D2E3FC;\n",
              "    }\n",
              "\n",
              "    [theme=dark] .colab-df-convert:hover {\n",
              "      background-color: #434B5C;\n",
              "      box-shadow: 0px 1px 3px 1px rgba(0, 0, 0, 0.15);\n",
              "      filter: drop-shadow(0px 1px 2px rgba(0, 0, 0, 0.3));\n",
              "      fill: #FFFFFF;\n",
              "    }\n",
              "  </style>\n",
              "\n",
              "      <script>\n",
              "        const buttonEl =\n",
              "          document.querySelector('#df-6d5f20c2-76d6-4b90-be58-e1806edc1d06 button.colab-df-convert');\n",
              "        buttonEl.style.display =\n",
              "          google.colab.kernel.accessAllowed ? 'block' : 'none';\n",
              "\n",
              "        async function convertToInteractive(key) {\n",
              "          const element = document.querySelector('#df-6d5f20c2-76d6-4b90-be58-e1806edc1d06');\n",
              "          const dataTable =\n",
              "            await google.colab.kernel.invokeFunction('convertToInteractive',\n",
              "                                                     [key], {});\n",
              "          if (!dataTable) return;\n",
              "\n",
              "          const docLinkHtml = 'Like what you see? Visit the ' +\n",
              "            '<a target=\"_blank\" href=https://colab.research.google.com/notebooks/data_table.ipynb>data table notebook</a>'\n",
              "            + ' to learn more about interactive tables.';\n",
              "          element.innerHTML = '';\n",
              "          dataTable['output_type'] = 'display_data';\n",
              "          await google.colab.output.renderOutput(dataTable, element);\n",
              "          const docLink = document.createElement('div');\n",
              "          docLink.innerHTML = docLinkHtml;\n",
              "          element.appendChild(docLink);\n",
              "        }\n",
              "      </script>\n",
              "    </div>\n",
              "  </div>\n",
              "  "
            ]
          },
          "metadata": {},
          "execution_count": 1068
        }
      ]
    },
    {
      "cell_type": "code",
      "source": [
        "#crear x (quitar la columna o el campo valor comercial\n",
        "# X_raw_nnn -> raw no numeric data\n",
        "X_raw_nnd = df.drop(columns=numeric_list, axis=1)\n",
        "\n",
        "#Convert data to numeric data \n",
        "enc = OrdinalEncoder()\n",
        "enc.fit(X_raw_nnd)\n",
        "\n",
        "# X_nnn -> no numeric data decode to numeric\n",
        "X_nnd_decode =  np.array(enc.transform(X_raw_nnd))"
      ],
      "metadata": {
        "id": "2pTT8CQe3cqn"
      },
      "execution_count": 1069,
      "outputs": []
    },
    {
      "cell_type": "code",
      "source": [
        "X_nnd_decode[10]"
      ],
      "metadata": {
        "id": "-ehY28BoViXt",
        "colab": {
          "base_uri": "https://localhost:8080/"
        },
        "outputId": "b2e2000e-3869-4c4b-fbd1-bdf5f63c500a"
      },
      "execution_count": 1070,
      "outputs": [
        {
          "output_type": "execute_result",
          "data": {
            "text/plain": [
              "array([ 2., 20., 64.,  3.,  0.,  5.,  1.,  0.])"
            ]
          },
          "metadata": {},
          "execution_count": 1070
        }
      ]
    },
    {
      "cell_type": "code",
      "source": [
        "#X need to contain numeric and categorical data\n",
        "X_nd = np.array(df.drop(columns=categorical_list, axis=1))\n",
        "X_nd"
      ],
      "metadata": {
        "id": "jm_6_D1l3KVu",
        "colab": {
          "base_uri": "https://localhost:8080/"
        },
        "outputId": "7dcbdebb-b083-4a9d-f9e1-c76dbd8807b0"
      },
      "execution_count": 1071,
      "outputs": [
        {
          "output_type": "execute_result",
          "data": {
            "text/plain": [
              "array([[2.02100e+03, 1.00000e+00, 0.00000e+00, ..., 1.37200e+01,\n",
              "        6.39200e+01, 1.38169e+05],\n",
              "       [2.01700e+03, 1.00000e+00, 1.00000e+00, ..., 3.29300e+01,\n",
              "        1.11120e+02, 2.03712e+05],\n",
              "       [2.01900e+03, 1.00000e+00, 1.00000e+00, ..., 5.09000e+00,\n",
              "        1.06220e+02, 1.45911e+05],\n",
              "       ...,\n",
              "       [2.02100e+03, 1.00000e+00, 0.00000e+00, ..., 5.65000e+00,\n",
              "        7.17000e+01, 1.23510e+05],\n",
              "       [2.01900e+03, 4.00000e+00, 0.00000e+00, ..., 1.62000e+02,\n",
              "        8.95900e+01, 9.96310e+04],\n",
              "       [2.01900e+03, 1.00000e+00, 0.00000e+00, ..., 1.28200e+01,\n",
              "        5.25800e+01, 1.47769e+05]])"
            ]
          },
          "metadata": {},
          "execution_count": 1071
        }
      ]
    },
    {
      "cell_type": "code",
      "source": [
        "#Union de X no numericas y X numericas \n",
        "X = np.concatenate((X_nnd_decode, X_nd), axis=1)\n",
        "X"
      ],
      "metadata": {
        "id": "xqgxVu7R7frW",
        "colab": {
          "base_uri": "https://localhost:8080/"
        },
        "outputId": "4136883b-cc3c-4b1f-b363-63cf244ece02"
      },
      "execution_count": 1072,
      "outputs": [
        {
          "output_type": "execute_result",
          "data": {
            "text/plain": [
              "array([[1.20000e+01, 6.40000e+01, 3.16000e+02, ..., 1.37200e+01,\n",
              "        6.39200e+01, 1.38169e+05],\n",
              "       [1.20000e+01, 6.40000e+01, 3.02000e+02, ..., 3.29300e+01,\n",
              "        1.11120e+02, 2.03712e+05],\n",
              "       [1.20000e+01, 6.40000e+01, 2.83000e+02, ..., 5.09000e+00,\n",
              "        1.06220e+02, 1.45911e+05],\n",
              "       ...,\n",
              "       [1.20000e+01, 6.40000e+01, 2.83000e+02, ..., 5.65000e+00,\n",
              "        7.17000e+01, 1.23510e+05],\n",
              "       [1.10000e+01, 2.80000e+01, 7.40000e+01, ..., 1.62000e+02,\n",
              "        8.95900e+01, 9.96310e+04],\n",
              "       [1.20000e+01, 6.40000e+01, 3.02000e+02, ..., 1.28200e+01,\n",
              "        5.25800e+01, 1.47769e+05]])"
            ]
          },
          "metadata": {},
          "execution_count": 1072
        }
      ]
    },
    {
      "cell_type": "code",
      "source": [
        "#crear y (valor de la columna valor comercial)\n",
        "y =  np.array(df[\"Valor comercial\"])\n",
        "y"
      ],
      "metadata": {
        "id": "cHwLONYAcV6F",
        "colab": {
          "base_uri": "https://localhost:8080/"
        },
        "outputId": "2c669019-ace8-451a-ed97-e5244d027384"
      },
      "execution_count": 1073,
      "outputs": [
        {
          "output_type": "execute_result",
          "data": {
            "text/plain": [
              "array([138169, 203712, 145911, ..., 123510,  99631, 147769])"
            ]
          },
          "metadata": {},
          "execution_count": 1073
        }
      ]
    },
    {
      "cell_type": "code",
      "source": [
        "#Forma 1\n",
        "from sklearn.model_selection import train_test_split\n",
        "#X_main, X_test, y_main, y_test = train_test_split(X,y,test_size=0.8) # Puedes usar desde esta linea\n",
        "#X_train, X_val, y_train, y_val = train_test_split(X_main,y_main, train_size=0.2) # \n",
        "X_train, X_test, y_train, y_test = train_test_split(X,y, train_size=0.9) "
      ],
      "metadata": {
        "id": "O129luAv1wS3"
      },
      "execution_count": 1074,
      "outputs": []
    },
    {
      "cell_type": "markdown",
      "source": [],
      "metadata": {
        "id": "uzjdkG2Lr4_r"
      }
    },
    {
      "cell_type": "code",
      "source": [
        "#revisa el tamaño de cada muesta\n",
        "X_train.shape, X_test.shape, y_train.shape, y_test.shape"
      ],
      "metadata": {
        "id": "9tA_VHSXAJyL",
        "colab": {
          "base_uri": "https://localhost:8080/"
        },
        "outputId": "7898b3e0-7e68-4d97-8661-194344e6cf28"
      },
      "execution_count": 1075,
      "outputs": [
        {
          "output_type": "execute_result",
          "data": {
            "text/plain": [
              "((17423, 20), (1936, 20), (17423,), (1936,))"
            ]
          },
          "metadata": {},
          "execution_count": 1075
        }
      ]
    },
    {
      "cell_type": "markdown",
      "source": [
        "# Red Neuronal"
      ],
      "metadata": {
        "id": "_d-OClwHSx0i"
      }
    },
    {
      "cell_type": "code",
      "source": [
        "data_shape = df.shape[1:]\n",
        "data_shape[0]"
      ],
      "metadata": {
        "id": "NVeGysh5YMyx",
        "colab": {
          "base_uri": "https://localhost:8080/"
        },
        "outputId": "8263a3a9-eead-45de-8988-df87cdcef214"
      },
      "execution_count": 1076,
      "outputs": [
        {
          "output_type": "execute_result",
          "data": {
            "text/plain": [
              "20"
            ]
          },
          "metadata": {},
          "execution_count": 1076
        }
      ]
    },
    {
      "cell_type": "code",
      "source": [
        "# Inicialización de red neuronal\n",
        "network = models.Sequential()  \n",
        "#network.add(layers.Dense(units=data_shape[0], activation='sigmoid', input_dim=data_shape[0], name='hidden-layer_1'))\n",
        "#network.add(layers.Dense(units=data_shape[0], activation='sigmoid', input_dim=data_shape[0], name='hidden-layer_2'))\n",
        "#network.add(layers.Dense(units=data_shape[0], activation='sigmoid', input_dim=data_shape[0], name='hidden-layer_3'))\n",
        "#network.add(layers.Dense(units=1, activation='sigmoid', name='output'))\n",
        "network.add(layers.InputLayer(data_shape))\n",
        "network.add(layers.Dense(256,'relu'))\n",
        "network.add(layers.Dense(128,'relu'))\n",
        "network.add(layers.Dense(64,'relu'))\n",
        "network.add(layers.Dense(32,'relu'))\n",
        "network.add(layers.Dense(16,'relu'))\n",
        "network.add(layers.Dense(1,'linear'))\n"
      ],
      "metadata": {
        "id": "gs6mM8b4S0Xn"
      },
      "execution_count": 1077,
      "outputs": []
    },
    {
      "cell_type": "code",
      "source": [
        "# optimizador\n",
        "opt = tf.keras.optimizers.Adam(learning_rate=.1) \n",
        "# compilador\n",
        "network.compile(optimizer=opt, loss='mse', metrics=[keras.metrics.RootMeanSquaredError()])\n",
        "# Muestra arquitectura de la red\n",
        "network.summary()"
      ],
      "metadata": {
        "id": "xLNOtBrIUU1g",
        "colab": {
          "base_uri": "https://localhost:8080/"
        },
        "outputId": "29a37684-8a3f-481f-8c01-cdc109bc2a2c"
      },
      "execution_count": 1078,
      "outputs": [
        {
          "output_type": "stream",
          "name": "stdout",
          "text": [
            "Model: \"sequential_30\"\n",
            "_________________________________________________________________\n",
            " Layer (type)                Output Shape              Param #   \n",
            "=================================================================\n",
            " dense_140 (Dense)           (None, 256)               5376      \n",
            "                                                                 \n",
            " dense_141 (Dense)           (None, 128)               32896     \n",
            "                                                                 \n",
            " dense_142 (Dense)           (None, 64)                8256      \n",
            "                                                                 \n",
            " dense_143 (Dense)           (None, 32)                2080      \n",
            "                                                                 \n",
            " dense_144 (Dense)           (None, 16)                528       \n",
            "                                                                 \n",
            " dense_145 (Dense)           (None, 1)                 17        \n",
            "                                                                 \n",
            "=================================================================\n",
            "Total params: 49,153\n",
            "Trainable params: 49,153\n",
            "Non-trainable params: 0\n",
            "_________________________________________________________________\n"
          ]
        }
      ]
    },
    {
      "cell_type": "code",
      "source": [
        "y_train.shape"
      ],
      "metadata": {
        "id": "TiyxfLF-bw7H",
        "colab": {
          "base_uri": "https://localhost:8080/"
        },
        "outputId": "5b019309-de4c-42c7-ab83-927696215b23"
      },
      "execution_count": 1079,
      "outputs": [
        {
          "output_type": "execute_result",
          "data": {
            "text/plain": [
              "(17423,)"
            ]
          },
          "metadata": {},
          "execution_count": 1079
        }
      ]
    },
    {
      "cell_type": "code",
      "source": [
        "X_train.shape"
      ],
      "metadata": {
        "id": "pPY-KiKqb1t9",
        "colab": {
          "base_uri": "https://localhost:8080/"
        },
        "outputId": "88332378-6c4e-480f-af54-e8e498de1c24"
      },
      "execution_count": 1080,
      "outputs": [
        {
          "output_type": "execute_result",
          "data": {
            "text/plain": [
              "(17423, 20)"
            ]
          },
          "metadata": {},
          "execution_count": 1080
        }
      ]
    },
    {
      "cell_type": "markdown",
      "source": [
        "# Fase de entrenamiento"
      ],
      "metadata": {
        "id": "sI4ArQcFxsZO"
      }
    },
    {
      "cell_type": "code",
      "source": [
        "# Entrenamiento de la red\n",
        "#tic = time()\n",
        "history=network.fit(x=X_train, y=y_train,validation_data=(X,y), epochs=200)\n",
        "#print('total training time:', time()-tic, 'seconds')"
      ],
      "metadata": {
        "id": "-Uy8Q3cRUcNI",
        "colab": {
          "base_uri": "https://localhost:8080/"
        },
        "outputId": "1a4cb2a5-1691-42d4-bba8-cd98a4e61d0f"
      },
      "execution_count": 1081,
      "outputs": [
        {
          "output_type": "stream",
          "name": "stdout",
          "text": [
            "Epoch 1/200\n",
            "545/545 [==============================] - 4s 6ms/step - loss: 6756417142784.0000 - root_mean_squared_error: 2599311.0000 - val_loss: 643130720256.0000 - val_root_mean_squared_error: 801954.3125\n",
            "Epoch 2/200\n",
            "545/545 [==============================] - 3s 6ms/step - loss: 523610324992.0000 - root_mean_squared_error: 723609.2500 - val_loss: 509414211584.0000 - val_root_mean_squared_error: 713732.5625\n",
            "Epoch 3/200\n",
            "545/545 [==============================] - 5s 9ms/step - loss: 516450189312.0000 - root_mean_squared_error: 718644.6875 - val_loss: 508485894144.0000 - val_root_mean_squared_error: 713081.9375\n",
            "Epoch 4/200\n",
            "545/545 [==============================] - 3s 6ms/step - loss: 515810885632.0000 - root_mean_squared_error: 718199.7500 - val_loss: 507685928960.0000 - val_root_mean_squared_error: 712520.8125\n",
            "Epoch 5/200\n",
            "545/545 [==============================] - 3s 6ms/step - loss: 515805675520.0000 - root_mean_squared_error: 718196.1250 - val_loss: 510614798336.0000 - val_root_mean_squared_error: 714573.1875\n",
            "Epoch 6/200\n",
            "545/545 [==============================] - 3s 5ms/step - loss: 516379213824.0000 - root_mean_squared_error: 718595.3125 - val_loss: 508778807296.0000 - val_root_mean_squared_error: 713287.3125\n",
            "Epoch 7/200\n",
            "545/545 [==============================] - 3s 6ms/step - loss: 516297195520.0000 - root_mean_squared_error: 718538.2500 - val_loss: 507951939584.0000 - val_root_mean_squared_error: 712707.5000\n",
            "Epoch 8/200\n",
            "545/545 [==============================] - 3s 6ms/step - loss: 515352330240.0000 - root_mean_squared_error: 717880.4375 - val_loss: 507726462976.0000 - val_root_mean_squared_error: 712549.2500\n",
            "Epoch 9/200\n",
            "545/545 [==============================] - 3s 6ms/step - loss: 515478454272.0000 - root_mean_squared_error: 717968.3125 - val_loss: 508616572928.0000 - val_root_mean_squared_error: 713173.5625\n",
            "Epoch 10/200\n",
            "545/545 [==============================] - 3s 6ms/step - loss: 515354361856.0000 - root_mean_squared_error: 717881.8750 - val_loss: 507789410304.0000 - val_root_mean_squared_error: 712593.4375\n",
            "Epoch 11/200\n",
            "545/545 [==============================] - 3s 6ms/step - loss: 515071410176.0000 - root_mean_squared_error: 717684.7500 - val_loss: 507684519936.0000 - val_root_mean_squared_error: 712519.8125\n",
            "Epoch 12/200\n",
            "545/545 [==============================] - 3s 6ms/step - loss: 515218898944.0000 - root_mean_squared_error: 717787.5000 - val_loss: 507999027200.0000 - val_root_mean_squared_error: 712740.5000\n",
            "Epoch 13/200\n",
            "545/545 [==============================] - 3s 6ms/step - loss: 515065970688.0000 - root_mean_squared_error: 717680.9375 - val_loss: 508689055744.0000 - val_root_mean_squared_error: 713224.4375\n",
            "Epoch 14/200\n",
            "545/545 [==============================] - 3s 6ms/step - loss: 515610640384.0000 - root_mean_squared_error: 718060.3125 - val_loss: 507948040192.0000 - val_root_mean_squared_error: 712704.7500\n",
            "Epoch 15/200\n",
            "545/545 [==============================] - 3s 6ms/step - loss: 515080978432.0000 - root_mean_squared_error: 717691.4375 - val_loss: 509627203584.0000 - val_root_mean_squared_error: 713881.8125\n",
            "Epoch 16/200\n",
            "545/545 [==============================] - 3s 5ms/step - loss: 515490414592.0000 - root_mean_squared_error: 717976.6250 - val_loss: 507723874304.0000 - val_root_mean_squared_error: 712547.4375\n",
            "Epoch 17/200\n",
            "545/545 [==============================] - 3s 6ms/step - loss: 515145170944.0000 - root_mean_squared_error: 717736.1250 - val_loss: 507791147008.0000 - val_root_mean_squared_error: 712594.6875\n",
            "Epoch 18/200\n",
            "545/545 [==============================] - 3s 6ms/step - loss: 514927099904.0000 - root_mean_squared_error: 717584.1875 - val_loss: 507779481600.0000 - val_root_mean_squared_error: 712586.5000\n",
            "Epoch 19/200\n",
            "545/545 [==============================] - 3s 6ms/step - loss: 515325755392.0000 - root_mean_squared_error: 717861.9375 - val_loss: 508210282496.0000 - val_root_mean_squared_error: 712888.6875\n",
            "Epoch 20/200\n",
            "545/545 [==============================] - 3s 6ms/step - loss: 514632253440.0000 - root_mean_squared_error: 717378.7500 - val_loss: 509156294656.0000 - val_root_mean_squared_error: 713551.8750\n",
            "Epoch 21/200\n",
            "545/545 [==============================] - 3s 6ms/step - loss: 515121119232.0000 - root_mean_squared_error: 717719.3750 - val_loss: 508220768256.0000 - val_root_mean_squared_error: 712896.0625\n",
            "Epoch 22/200\n",
            "545/545 [==============================] - 3s 6ms/step - loss: 515230236672.0000 - root_mean_squared_error: 717795.3750 - val_loss: 508087205888.0000 - val_root_mean_squared_error: 712802.3750\n",
            "Epoch 23/200\n",
            "545/545 [==============================] - 3s 5ms/step - loss: 515729620992.0000 - root_mean_squared_error: 718143.1875 - val_loss: 508264185856.0000 - val_root_mean_squared_error: 712926.5000\n",
            "Epoch 24/200\n",
            "545/545 [==============================] - 3s 5ms/step - loss: 515500539904.0000 - root_mean_squared_error: 717983.6875 - val_loss: 507695071232.0000 - val_root_mean_squared_error: 712527.2500\n",
            "Epoch 25/200\n",
            "545/545 [==============================] - 5s 8ms/step - loss: 514673049600.0000 - root_mean_squared_error: 717407.1875 - val_loss: 507862089728.0000 - val_root_mean_squared_error: 712644.4375\n",
            "Epoch 26/200\n",
            "545/545 [==============================] - 3s 6ms/step - loss: 515144581120.0000 - root_mean_squared_error: 717735.7500 - val_loss: 507720925184.0000 - val_root_mean_squared_error: 712545.3750\n",
            "Epoch 27/200\n",
            "545/545 [==============================] - 3s 6ms/step - loss: 515356491776.0000 - root_mean_squared_error: 717883.3125 - val_loss: 512118620160.0000 - val_root_mean_squared_error: 715624.6250\n",
            "Epoch 28/200\n",
            "545/545 [==============================] - 3s 6ms/step - loss: 515176136704.0000 - root_mean_squared_error: 717757.6875 - val_loss: 510302486528.0000 - val_root_mean_squared_error: 714354.6250\n",
            "Epoch 29/200\n",
            "545/545 [==============================] - 3s 5ms/step - loss: 514773909504.0000 - root_mean_squared_error: 717477.4375 - val_loss: 507826536448.0000 - val_root_mean_squared_error: 712619.5000\n",
            "Epoch 30/200\n",
            "545/545 [==============================] - 3s 6ms/step - loss: 514989031424.0000 - root_mean_squared_error: 717627.3750 - val_loss: 508241608704.0000 - val_root_mean_squared_error: 712910.6875\n",
            "Epoch 31/200\n",
            "545/545 [==============================] - 3s 5ms/step - loss: 514962980864.0000 - root_mean_squared_error: 717609.1875 - val_loss: 507993096192.0000 - val_root_mean_squared_error: 712736.3750\n",
            "Epoch 32/200\n",
            "545/545 [==============================] - 3s 6ms/step - loss: 515568533504.0000 - root_mean_squared_error: 718031.0000 - val_loss: 507836891136.0000 - val_root_mean_squared_error: 712626.7500\n",
            "Epoch 33/200\n",
            "545/545 [==============================] - 3s 6ms/step - loss: 515167059968.0000 - root_mean_squared_error: 717751.3750 - val_loss: 510020943872.0000 - val_root_mean_squared_error: 714157.5000\n",
            "Epoch 34/200\n",
            "545/545 [==============================] - 3s 5ms/step - loss: 514856878080.0000 - root_mean_squared_error: 717535.2500 - val_loss: 507683700736.0000 - val_root_mean_squared_error: 712519.2500\n",
            "Epoch 35/200\n",
            "545/545 [==============================] - 3s 6ms/step - loss: 515341582336.0000 - root_mean_squared_error: 717872.9375 - val_loss: 508055322624.0000 - val_root_mean_squared_error: 712780.0000\n",
            "Epoch 36/200\n",
            "545/545 [==============================] - 5s 9ms/step - loss: 515247407104.0000 - root_mean_squared_error: 717807.3750 - val_loss: 507830173696.0000 - val_root_mean_squared_error: 712622.0625\n",
            "Epoch 37/200\n",
            "545/545 [==============================] - 3s 5ms/step - loss: 515154771968.0000 - root_mean_squared_error: 717742.8125 - val_loss: 508036612096.0000 - val_root_mean_squared_error: 712766.8750\n",
            "Epoch 38/200\n",
            "545/545 [==============================] - 3s 5ms/step - loss: 515015868416.0000 - root_mean_squared_error: 717646.0625 - val_loss: 508328411136.0000 - val_root_mean_squared_error: 712971.5625\n",
            "Epoch 39/200\n",
            "545/545 [==============================] - 3s 6ms/step - loss: 515034873856.0000 - root_mean_squared_error: 717659.3125 - val_loss: 508418490368.0000 - val_root_mean_squared_error: 713034.6875\n",
            "Epoch 40/200\n",
            "545/545 [==============================] - 3s 6ms/step - loss: 514783870976.0000 - root_mean_squared_error: 717484.3750 - val_loss: 508526657536.0000 - val_root_mean_squared_error: 713110.5625\n",
            "Epoch 41/200\n",
            "545/545 [==============================] - 3s 6ms/step - loss: 515184459776.0000 - root_mean_squared_error: 717763.5000 - val_loss: 507897970688.0000 - val_root_mean_squared_error: 712669.6250\n",
            "Epoch 42/200\n",
            "545/545 [==============================] - 3s 5ms/step - loss: 514705489920.0000 - root_mean_squared_error: 717429.7500 - val_loss: 508411969536.0000 - val_root_mean_squared_error: 713030.1250\n",
            "Epoch 43/200\n",
            "545/545 [==============================] - 3s 6ms/step - loss: 514911109120.0000 - root_mean_squared_error: 717573.0625 - val_loss: 508156444672.0000 - val_root_mean_squared_error: 712850.9375\n",
            "Epoch 44/200\n",
            "545/545 [==============================] - 3s 6ms/step - loss: 515051945984.0000 - root_mean_squared_error: 717671.1875 - val_loss: 508151988224.0000 - val_root_mean_squared_error: 712847.8125\n",
            "Epoch 45/200\n",
            "545/545 [==============================] - 3s 5ms/step - loss: 514985558016.0000 - root_mean_squared_error: 717624.9375 - val_loss: 508353380352.0000 - val_root_mean_squared_error: 712989.0625\n",
            "Epoch 46/200\n",
            "545/545 [==============================] - 3s 6ms/step - loss: 514874245120.0000 - root_mean_squared_error: 717547.3750 - val_loss: 508911124480.0000 - val_root_mean_squared_error: 713380.0625\n",
            "Epoch 47/200\n",
            "545/545 [==============================] - 3s 6ms/step - loss: 514727739392.0000 - root_mean_squared_error: 717445.3125 - val_loss: 507727577088.0000 - val_root_mean_squared_error: 712550.0625\n",
            "Epoch 48/200\n",
            "545/545 [==============================] - 3s 6ms/step - loss: 515147366400.0000 - root_mean_squared_error: 717737.6875 - val_loss: 507685306368.0000 - val_root_mean_squared_error: 712520.3750\n",
            "Epoch 49/200\n",
            "545/545 [==============================] - 3s 6ms/step - loss: 515160047616.0000 - root_mean_squared_error: 717746.5000 - val_loss: 508502081536.0000 - val_root_mean_squared_error: 713093.3125\n",
            "Epoch 50/200\n",
            "545/545 [==============================] - 3s 6ms/step - loss: 515405316096.0000 - root_mean_squared_error: 717917.3750 - val_loss: 508101459968.0000 - val_root_mean_squared_error: 712812.3750\n",
            "Epoch 51/200\n",
            "545/545 [==============================] - 3s 6ms/step - loss: 514792128512.0000 - root_mean_squared_error: 717490.1875 - val_loss: 507810283520.0000 - val_root_mean_squared_error: 712608.0625\n",
            "Epoch 52/200\n",
            "545/545 [==============================] - 3s 6ms/step - loss: 515055714304.0000 - root_mean_squared_error: 717673.8125 - val_loss: 508190195712.0000 - val_root_mean_squared_error: 712874.6250\n",
            "Epoch 53/200\n",
            "545/545 [==============================] - 3s 6ms/step - loss: 514824536064.0000 - root_mean_squared_error: 717512.7500 - val_loss: 509051895808.0000 - val_root_mean_squared_error: 713478.7500\n",
            "Epoch 54/200\n",
            "545/545 [==============================] - 3s 6ms/step - loss: 515299442688.0000 - root_mean_squared_error: 717843.6250 - val_loss: 508023635968.0000 - val_root_mean_squared_error: 712757.7500\n",
            "Epoch 55/200\n",
            "545/545 [==============================] - 3s 6ms/step - loss: 515029565440.0000 - root_mean_squared_error: 717655.6250 - val_loss: 507742453760.0000 - val_root_mean_squared_error: 712560.5000\n",
            "Epoch 56/200\n",
            "545/545 [==============================] - 3s 6ms/step - loss: 515156344832.0000 - root_mean_squared_error: 717743.9375 - val_loss: 508328804352.0000 - val_root_mean_squared_error: 712971.8125\n",
            "Epoch 57/200\n",
            "545/545 [==============================] - 3s 5ms/step - loss: 514751037440.0000 - root_mean_squared_error: 717461.5000 - val_loss: 507722432512.0000 - val_root_mean_squared_error: 712546.4375\n",
            "Epoch 58/200\n",
            "545/545 [==============================] - 3s 5ms/step - loss: 514681176064.0000 - root_mean_squared_error: 717412.8125 - val_loss: 507727970304.0000 - val_root_mean_squared_error: 712550.3125\n",
            "Epoch 59/200\n",
            "545/545 [==============================] - 3s 6ms/step - loss: 514873491456.0000 - root_mean_squared_error: 717546.8750 - val_loss: 508085108736.0000 - val_root_mean_squared_error: 712800.8750\n",
            "Epoch 60/200\n",
            "545/545 [==============================] - 3s 6ms/step - loss: 514694938624.0000 - root_mean_squared_error: 717422.4375 - val_loss: 511357681664.0000 - val_root_mean_squared_error: 715092.7500\n",
            "Epoch 61/200\n",
            "545/545 [==============================] - 3s 6ms/step - loss: 514884108288.0000 - root_mean_squared_error: 717554.2500 - val_loss: 508672933888.0000 - val_root_mean_squared_error: 713213.1250\n",
            "Epoch 62/200\n",
            "545/545 [==============================] - 3s 5ms/step - loss: 514851602432.0000 - root_mean_squared_error: 717531.6250 - val_loss: 507695071232.0000 - val_root_mean_squared_error: 712527.2500\n",
            "Epoch 63/200\n",
            "545/545 [==============================] - 3s 6ms/step - loss: 514636709888.0000 - root_mean_squared_error: 717381.8750 - val_loss: 507879391232.0000 - val_root_mean_squared_error: 712656.5625\n",
            "Epoch 64/200\n",
            "545/545 [==============================] - 3s 5ms/step - loss: 514971566080.0000 - root_mean_squared_error: 717615.1875 - val_loss: 508098347008.0000 - val_root_mean_squared_error: 712810.1875\n",
            "Epoch 65/200\n",
            "545/545 [==============================] - 3s 6ms/step - loss: 515102146560.0000 - root_mean_squared_error: 717706.1875 - val_loss: 508850798592.0000 - val_root_mean_squared_error: 713337.8125\n",
            "Epoch 66/200\n",
            "545/545 [==============================] - 3s 5ms/step - loss: 514845212672.0000 - root_mean_squared_error: 717527.1250 - val_loss: 507783053312.0000 - val_root_mean_squared_error: 712589.0000\n",
            "Epoch 67/200\n",
            "545/545 [==============================] - 3s 5ms/step - loss: 514984509440.0000 - root_mean_squared_error: 717624.1875 - val_loss: 508926230528.0000 - val_root_mean_squared_error: 713390.6875\n",
            "Epoch 68/200\n",
            "545/545 [==============================] - 3s 6ms/step - loss: 514701197312.0000 - root_mean_squared_error: 717426.8125 - val_loss: 507813265408.0000 - val_root_mean_squared_error: 712610.1875\n",
            "Epoch 69/200\n",
            "545/545 [==============================] - 3s 6ms/step - loss: 514958753792.0000 - root_mean_squared_error: 717606.2500 - val_loss: 508394602496.0000 - val_root_mean_squared_error: 713017.9375\n",
            "Epoch 70/200\n",
            "545/545 [==============================] - 3s 6ms/step - loss: 514670329856.0000 - root_mean_squared_error: 717405.2500 - val_loss: 510727782400.0000 - val_root_mean_squared_error: 714652.1875\n",
            "Epoch 71/200\n",
            "545/545 [==============================] - 3s 6ms/step - loss: 515207004160.0000 - root_mean_squared_error: 717779.1875 - val_loss: 510264082432.0000 - val_root_mean_squared_error: 714327.6875\n",
            "Epoch 72/200\n",
            "545/545 [==============================] - 3s 5ms/step - loss: 515078291456.0000 - root_mean_squared_error: 717689.5625 - val_loss: 507739209728.0000 - val_root_mean_squared_error: 712558.1875\n",
            "Epoch 73/200\n",
            "545/545 [==============================] - 3s 5ms/step - loss: 515040673792.0000 - root_mean_squared_error: 717663.3125 - val_loss: 507811594240.0000 - val_root_mean_squared_error: 712609.0000\n",
            "Epoch 74/200\n",
            "545/545 [==============================] - 3s 6ms/step - loss: 514944237568.0000 - root_mean_squared_error: 717596.1250 - val_loss: 507694088192.0000 - val_root_mean_squared_error: 712526.5625\n",
            "Epoch 75/200\n",
            "545/545 [==============================] - 3s 5ms/step - loss: 514889940992.0000 - root_mean_squared_error: 717558.3125 - val_loss: 508347383808.0000 - val_root_mean_squared_error: 712984.8125\n",
            "Epoch 76/200\n",
            "545/545 [==============================] - 3s 5ms/step - loss: 515046309888.0000 - root_mean_squared_error: 717667.2500 - val_loss: 507747368960.0000 - val_root_mean_squared_error: 712563.9375\n",
            "Epoch 77/200\n",
            "545/545 [==============================] - 3s 6ms/step - loss: 515013705728.0000 - root_mean_squared_error: 717644.5625 - val_loss: 508192030720.0000 - val_root_mean_squared_error: 712875.8750\n",
            "Epoch 78/200\n",
            "545/545 [==============================] - 3s 6ms/step - loss: 514793308160.0000 - root_mean_squared_error: 717491.0000 - val_loss: 507681439744.0000 - val_root_mean_squared_error: 712517.6875\n",
            "Epoch 79/200\n",
            "545/545 [==============================] - 3s 6ms/step - loss: 514958163968.0000 - root_mean_squared_error: 717605.8750 - val_loss: 508186034176.0000 - val_root_mean_squared_error: 712871.6875\n",
            "Epoch 80/200\n",
            "545/545 [==============================] - 3s 6ms/step - loss: 515342008320.0000 - root_mean_squared_error: 717873.2500 - val_loss: 507739111424.0000 - val_root_mean_squared_error: 712558.1250\n",
            "Epoch 81/200\n",
            "545/545 [==============================] - 3s 6ms/step - loss: 515134455808.0000 - root_mean_squared_error: 717728.6875 - val_loss: 507681144832.0000 - val_root_mean_squared_error: 712517.5000\n",
            "Epoch 82/200\n",
            "545/545 [==============================] - 3s 6ms/step - loss: 514588868608.0000 - root_mean_squared_error: 717348.5000 - val_loss: 508226109440.0000 - val_root_mean_squared_error: 712899.8125\n",
            "Epoch 83/200\n",
            "545/545 [==============================] - 3s 6ms/step - loss: 514984050688.0000 - root_mean_squared_error: 717623.8750 - val_loss: 508577972224.0000 - val_root_mean_squared_error: 713146.5000\n",
            "Epoch 84/200\n",
            "545/545 [==============================] - 3s 5ms/step - loss: 514694250496.0000 - root_mean_squared_error: 717421.9375 - val_loss: 508520890368.0000 - val_root_mean_squared_error: 713106.5000\n",
            "Epoch 85/200\n",
            "545/545 [==============================] - 3s 6ms/step - loss: 515248160768.0000 - root_mean_squared_error: 717807.8750 - val_loss: 507878440960.0000 - val_root_mean_squared_error: 712655.9375\n",
            "Epoch 86/200\n",
            "545/545 [==============================] - 3s 5ms/step - loss: 514839576576.0000 - root_mean_squared_error: 717523.2500 - val_loss: 507717812224.0000 - val_root_mean_squared_error: 712543.1875\n",
            "Epoch 87/200\n",
            "545/545 [==============================] - 3s 6ms/step - loss: 514776367104.0000 - root_mean_squared_error: 717479.1875 - val_loss: 507709423616.0000 - val_root_mean_squared_error: 712537.3125\n",
            "Epoch 88/200\n",
            "545/545 [==============================] - 3s 5ms/step - loss: 514955575296.0000 - root_mean_squared_error: 717604.0625 - val_loss: 507699232768.0000 - val_root_mean_squared_error: 712530.1875\n",
            "Epoch 89/200\n",
            "545/545 [==============================] - 3s 6ms/step - loss: 514294906880.0000 - root_mean_squared_error: 717143.5625 - val_loss: 514994962432.0000 - val_root_mean_squared_error: 717631.5000\n",
            "Epoch 90/200\n",
            "545/545 [==============================] - 3s 6ms/step - loss: 514938896384.0000 - root_mean_squared_error: 717592.4375 - val_loss: 507723153408.0000 - val_root_mean_squared_error: 712546.9375\n",
            "Epoch 91/200\n",
            "545/545 [==============================] - 3s 6ms/step - loss: 514959179776.0000 - root_mean_squared_error: 717606.5625 - val_loss: 507703853056.0000 - val_root_mean_squared_error: 712533.3750\n",
            "Epoch 92/200\n",
            "545/545 [==============================] - 3s 6ms/step - loss: 514910093312.0000 - root_mean_squared_error: 717572.3750 - val_loss: 508181839872.0000 - val_root_mean_squared_error: 712868.7500\n",
            "Epoch 93/200\n",
            "545/545 [==============================] - 3s 6ms/step - loss: 514843738112.0000 - root_mean_squared_error: 717526.1250 - val_loss: 507732557824.0000 - val_root_mean_squared_error: 712553.5625\n",
            "Epoch 94/200\n",
            "545/545 [==============================] - 3s 5ms/step - loss: 515203104768.0000 - root_mean_squared_error: 717776.5000 - val_loss: 509668556800.0000 - val_root_mean_squared_error: 713910.7500\n",
            "Epoch 95/200\n",
            "545/545 [==============================] - 3s 6ms/step - loss: 515085959168.0000 - root_mean_squared_error: 717694.8750 - val_loss: 507693465600.0000 - val_root_mean_squared_error: 712526.1250\n",
            "Epoch 96/200\n",
            "545/545 [==============================] - 3s 6ms/step - loss: 514775842816.0000 - root_mean_squared_error: 717478.8125 - val_loss: 507945484288.0000 - val_root_mean_squared_error: 712702.9375\n",
            "Epoch 97/200\n",
            "545/545 [==============================] - 3s 6ms/step - loss: 514932539392.0000 - root_mean_squared_error: 717588.0000 - val_loss: 507697725440.0000 - val_root_mean_squared_error: 712529.1250\n",
            "Epoch 98/200\n",
            "545/545 [==============================] - 3s 5ms/step - loss: 514858975232.0000 - root_mean_squared_error: 717536.7500 - val_loss: 508972302336.0000 - val_root_mean_squared_error: 713422.9375\n",
            "Epoch 99/200\n",
            "545/545 [==============================] - 3s 6ms/step - loss: 515011018752.0000 - root_mean_squared_error: 717642.6875 - val_loss: 507692974080.0000 - val_root_mean_squared_error: 712525.7500\n",
            "Epoch 100/200\n",
            "545/545 [==============================] - 3s 6ms/step - loss: 514899181568.0000 - root_mean_squared_error: 717564.7500 - val_loss: 509981655040.0000 - val_root_mean_squared_error: 714130.0000\n",
            "Epoch 101/200\n",
            "545/545 [==============================] - 3s 5ms/step - loss: 514663317504.0000 - root_mean_squared_error: 717400.3750 - val_loss: 517176262656.0000 - val_root_mean_squared_error: 719149.6875\n",
            "Epoch 102/200\n",
            "545/545 [==============================] - 3s 5ms/step - loss: 515227844608.0000 - root_mean_squared_error: 717793.7500 - val_loss: 509481648128.0000 - val_root_mean_squared_error: 713779.8125\n",
            "Epoch 103/200\n",
            "545/545 [==============================] - 3s 5ms/step - loss: 514702114816.0000 - root_mean_squared_error: 717427.4375 - val_loss: 508209332224.0000 - val_root_mean_squared_error: 712888.0000\n",
            "Epoch 104/200\n",
            "545/545 [==============================] - 3s 5ms/step - loss: 514915467264.0000 - root_mean_squared_error: 717576.1250 - val_loss: 507961966592.0000 - val_root_mean_squared_error: 712714.5000\n",
            "Epoch 105/200\n",
            "545/545 [==============================] - 3s 5ms/step - loss: 514870345728.0000 - root_mean_squared_error: 717544.6875 - val_loss: 507744714752.0000 - val_root_mean_squared_error: 712562.0625\n",
            "Epoch 106/200\n",
            "545/545 [==============================] - 3s 5ms/step - loss: 515102474240.0000 - root_mean_squared_error: 717706.3750 - val_loss: 507956822016.0000 - val_root_mean_squared_error: 712710.8750\n",
            "Epoch 107/200\n",
            "545/545 [==============================] - 3s 5ms/step - loss: 514803793920.0000 - root_mean_squared_error: 717498.3125 - val_loss: 507701559296.0000 - val_root_mean_squared_error: 712531.8125\n",
            "Epoch 108/200\n",
            "545/545 [==============================] - 3s 6ms/step - loss: 515046408192.0000 - root_mean_squared_error: 717667.3125 - val_loss: 507698282496.0000 - val_root_mean_squared_error: 712529.5000\n",
            "Epoch 109/200\n",
            "545/545 [==============================] - 3s 6ms/step - loss: 514387181568.0000 - root_mean_squared_error: 717207.9375 - val_loss: 509635067904.0000 - val_root_mean_squared_error: 713887.3125\n",
            "Epoch 110/200\n",
            "545/545 [==============================] - 3s 6ms/step - loss: 514632482816.0000 - root_mean_squared_error: 717378.8750 - val_loss: 507893317632.0000 - val_root_mean_squared_error: 712666.3750\n",
            "Epoch 111/200\n",
            "545/545 [==============================] - 3s 5ms/step - loss: 514465333248.0000 - root_mean_squared_error: 717262.3750 - val_loss: 509471096832.0000 - val_root_mean_squared_error: 713772.4375\n",
            "Epoch 112/200\n",
            "545/545 [==============================] - 3s 5ms/step - loss: 514821324800.0000 - root_mean_squared_error: 717510.5000 - val_loss: 508905422848.0000 - val_root_mean_squared_error: 713376.0625\n",
            "Epoch 113/200\n",
            "545/545 [==============================] - 3s 5ms/step - loss: 514723545088.0000 - root_mean_squared_error: 717442.3750 - val_loss: 507756085248.0000 - val_root_mean_squared_error: 712570.0625\n",
            "Epoch 114/200\n",
            "545/545 [==============================] - 3s 6ms/step - loss: 514516123648.0000 - root_mean_squared_error: 717297.8125 - val_loss: 507695529984.0000 - val_root_mean_squared_error: 712527.5625\n",
            "Epoch 115/200\n",
            "545/545 [==============================] - 3s 6ms/step - loss: 514709585920.0000 - root_mean_squared_error: 717432.6250 - val_loss: 510402428928.0000 - val_root_mean_squared_error: 714424.5625\n",
            "Epoch 116/200\n",
            "545/545 [==============================] - 3s 6ms/step - loss: 514942009344.0000 - root_mean_squared_error: 717594.6250 - val_loss: 507846328320.0000 - val_root_mean_squared_error: 712633.3750\n",
            "Epoch 117/200\n",
            "545/545 [==============================] - 3s 6ms/step - loss: 514988670976.0000 - root_mean_squared_error: 717627.1250 - val_loss: 508160540672.0000 - val_root_mean_squared_error: 712853.8125\n",
            "Epoch 118/200\n",
            "545/545 [==============================] - 3s 6ms/step - loss: 514745827328.0000 - root_mean_squared_error: 717457.8750 - val_loss: 509796581376.0000 - val_root_mean_squared_error: 714000.4375\n",
            "Epoch 119/200\n",
            "545/545 [==============================] - 3s 5ms/step - loss: 514598076416.0000 - root_mean_squared_error: 717354.9375 - val_loss: 507990212608.0000 - val_root_mean_squared_error: 712734.3125\n",
            "Epoch 120/200\n",
            "545/545 [==============================] - 3s 5ms/step - loss: 514753265664.0000 - root_mean_squared_error: 717463.0625 - val_loss: 510328635392.0000 - val_root_mean_squared_error: 714372.8750\n",
            "Epoch 121/200\n",
            "545/545 [==============================] - 3s 5ms/step - loss: 514939027456.0000 - root_mean_squared_error: 717592.5000 - val_loss: 509697916928.0000 - val_root_mean_squared_error: 713931.3125\n",
            "Epoch 122/200\n",
            "545/545 [==============================] - 3s 6ms/step - loss: 514900426752.0000 - root_mean_squared_error: 717565.6250 - val_loss: 509474045952.0000 - val_root_mean_squared_error: 713774.5000\n",
            "Epoch 123/200\n",
            "545/545 [==============================] - 3s 5ms/step - loss: 514775646208.0000 - root_mean_squared_error: 717478.6875 - val_loss: 507769552896.0000 - val_root_mean_squared_error: 712579.5000\n",
            "Epoch 124/200\n",
            "545/545 [==============================] - 3s 5ms/step - loss: 514528477184.0000 - root_mean_squared_error: 717306.3750 - val_loss: 508281454592.0000 - val_root_mean_squared_error: 712938.6250\n",
            "Epoch 125/200\n",
            "545/545 [==============================] - 3s 5ms/step - loss: 514674262016.0000 - root_mean_squared_error: 717408.0000 - val_loss: 509931520000.0000 - val_root_mean_squared_error: 714094.8750\n",
            "Epoch 126/200\n",
            "545/545 [==============================] - 3s 5ms/step - loss: 515038773248.0000 - root_mean_squared_error: 717662.0000 - val_loss: 510776541184.0000 - val_root_mean_squared_error: 714686.3125\n",
            "Epoch 127/200\n",
            "545/545 [==============================] - 3s 5ms/step - loss: 514411757568.0000 - root_mean_squared_error: 717225.0625 - val_loss: 509249814528.0000 - val_root_mean_squared_error: 713617.4375\n",
            "Epoch 128/200\n",
            "545/545 [==============================] - 3s 6ms/step - loss: 514570223616.0000 - root_mean_squared_error: 717335.5000 - val_loss: 513590362112.0000 - val_root_mean_squared_error: 716652.1875\n",
            "Epoch 129/200\n",
            "545/545 [==============================] - 3s 5ms/step - loss: 514837807104.0000 - root_mean_squared_error: 717522.0000 - val_loss: 507969110016.0000 - val_root_mean_squared_error: 712719.5000\n",
            "Epoch 130/200\n",
            "545/545 [==============================] - 3s 6ms/step - loss: 514719973376.0000 - root_mean_squared_error: 717439.8750 - val_loss: 507808219136.0000 - val_root_mean_squared_error: 712606.6250\n",
            "Epoch 131/200\n",
            "545/545 [==============================] - 5s 9ms/step - loss: 514826895360.0000 - root_mean_squared_error: 717514.3750 - val_loss: 507735506944.0000 - val_root_mean_squared_error: 712555.6250\n",
            "Epoch 132/200\n",
            "545/545 [==============================] - 5s 9ms/step - loss: 514881355776.0000 - root_mean_squared_error: 717552.3125 - val_loss: 507879227392.0000 - val_root_mean_squared_error: 712656.4375\n",
            "Epoch 133/200\n",
            "545/545 [==============================] - 6s 11ms/step - loss: 514680422400.0000 - root_mean_squared_error: 717412.3125 - val_loss: 507959902208.0000 - val_root_mean_squared_error: 712713.0625\n",
            "Epoch 134/200\n",
            "545/545 [==============================] - 4s 8ms/step - loss: 514769190912.0000 - root_mean_squared_error: 717474.1875 - val_loss: 508538912768.0000 - val_root_mean_squared_error: 713119.1250\n",
            "Epoch 135/200\n",
            "545/545 [==============================] - 3s 5ms/step - loss: 514785083392.0000 - root_mean_squared_error: 717485.2500 - val_loss: 507990540288.0000 - val_root_mean_squared_error: 712734.5625\n",
            "Epoch 136/200\n",
            "545/545 [==============================] - 5s 8ms/step - loss: 514518941696.0000 - root_mean_squared_error: 717299.7500 - val_loss: 507844952064.0000 - val_root_mean_squared_error: 712632.4375\n",
            "Epoch 137/200\n",
            "545/545 [==============================] - 3s 6ms/step - loss: 514481356800.0000 - root_mean_squared_error: 717273.5625 - val_loss: 508004007936.0000 - val_root_mean_squared_error: 712744.0000\n",
            "Epoch 138/200\n",
            "545/545 [==============================] - 3s 6ms/step - loss: 514812116992.0000 - root_mean_squared_error: 717504.0625 - val_loss: 507695235072.0000 - val_root_mean_squared_error: 712527.3750\n",
            "Epoch 139/200\n",
            "545/545 [==============================] - 3s 5ms/step - loss: 514647588864.0000 - root_mean_squared_error: 717389.4375 - val_loss: 509820272640.0000 - val_root_mean_squared_error: 714017.0000\n",
            "Epoch 140/200\n",
            "545/545 [==============================] - 3s 6ms/step - loss: 514756902912.0000 - root_mean_squared_error: 717465.6250 - val_loss: 507950661632.0000 - val_root_mean_squared_error: 712706.5625\n",
            "Epoch 141/200\n",
            "545/545 [==============================] - 3s 6ms/step - loss: 514429485056.0000 - root_mean_squared_error: 717237.3750 - val_loss: 512745013248.0000 - val_root_mean_squared_error: 716062.1875\n",
            "Epoch 142/200\n",
            "545/545 [==============================] - 3s 6ms/step - loss: 514608037888.0000 - root_mean_squared_error: 717361.8750 - val_loss: 507719417856.0000 - val_root_mean_squared_error: 712544.3125\n",
            "Epoch 143/200\n",
            "545/545 [==============================] - 3s 6ms/step - loss: 514862186496.0000 - root_mean_squared_error: 717539.0000 - val_loss: 507810840576.0000 - val_root_mean_squared_error: 712608.5000\n",
            "Epoch 144/200\n",
            "545/545 [==============================] - 5s 9ms/step - loss: 514617999360.0000 - root_mean_squared_error: 717368.8125 - val_loss: 510165319680.0000 - val_root_mean_squared_error: 714258.5625\n",
            "Epoch 145/200\n",
            "545/545 [==============================] - 5s 9ms/step - loss: 514870411264.0000 - root_mean_squared_error: 717544.6875 - val_loss: 508141109248.0000 - val_root_mean_squared_error: 712840.1875\n",
            "Epoch 146/200\n",
            "545/545 [==============================] - 5s 10ms/step - loss: 514532212736.0000 - root_mean_squared_error: 717309.0000 - val_loss: 507681275904.0000 - val_root_mean_squared_error: 712517.5625\n",
            "Epoch 147/200\n",
            "545/545 [==============================] - 3s 6ms/step - loss: 514753003520.0000 - root_mean_squared_error: 717462.8750 - val_loss: 507811037184.0000 - val_root_mean_squared_error: 712608.6250\n",
            "Epoch 148/200\n",
            "545/545 [==============================] - 3s 6ms/step - loss: 514976677888.0000 - root_mean_squared_error: 717618.7500 - val_loss: 508409905152.0000 - val_root_mean_squared_error: 713028.6875\n",
            "Epoch 149/200\n",
            "545/545 [==============================] - 3s 6ms/step - loss: 514687139840.0000 - root_mean_squared_error: 717417.0000 - val_loss: 508415115264.0000 - val_root_mean_squared_error: 713032.3125\n",
            "Epoch 150/200\n",
            "545/545 [==============================] - 7s 13ms/step - loss: 514521137152.0000 - root_mean_squared_error: 717301.3125 - val_loss: 507692974080.0000 - val_root_mean_squared_error: 712525.7500\n",
            "Epoch 151/200\n",
            "545/545 [==============================] - 5s 10ms/step - loss: 514495676416.0000 - root_mean_squared_error: 717283.5625 - val_loss: 508059516928.0000 - val_root_mean_squared_error: 712782.9375\n",
            "Epoch 152/200\n",
            "545/545 [==============================] - 5s 8ms/step - loss: 514506915840.0000 - root_mean_squared_error: 717291.3750 - val_loss: 508375629824.0000 - val_root_mean_squared_error: 713004.6250\n",
            "Epoch 153/200\n",
            "545/545 [==============================] - 3s 6ms/step - loss: 514593259520.0000 - root_mean_squared_error: 717351.5625 - val_loss: 507996897280.0000 - val_root_mean_squared_error: 712739.0000\n",
            "Epoch 154/200\n",
            "545/545 [==============================] - 3s 6ms/step - loss: 514759688192.0000 - root_mean_squared_error: 717467.5625 - val_loss: 507855306752.0000 - val_root_mean_squared_error: 712639.6875\n",
            "Epoch 155/200\n",
            "545/545 [==============================] - 3s 6ms/step - loss: 514773024768.0000 - root_mean_squared_error: 717476.8750 - val_loss: 508923838464.0000 - val_root_mean_squared_error: 713389.0000\n",
            "Epoch 156/200\n",
            "545/545 [==============================] - 3s 6ms/step - loss: 514387804160.0000 - root_mean_squared_error: 717208.3125 - val_loss: 507852259328.0000 - val_root_mean_squared_error: 712637.5625\n",
            "Epoch 157/200\n",
            "545/545 [==============================] - 4s 8ms/step - loss: 514480275456.0000 - root_mean_squared_error: 717272.8125 - val_loss: 507929198592.0000 - val_root_mean_squared_error: 712691.5000\n",
            "Epoch 158/200\n",
            "545/545 [==============================] - 3s 6ms/step - loss: 514522284032.0000 - root_mean_squared_error: 717302.0625 - val_loss: 507932475392.0000 - val_root_mean_squared_error: 712693.8125\n",
            "Epoch 159/200\n",
            "545/545 [==============================] - 6s 11ms/step - loss: 514588704768.0000 - root_mean_squared_error: 717348.3750 - val_loss: 507805958144.0000 - val_root_mean_squared_error: 712605.0625\n",
            "Epoch 160/200\n",
            "545/545 [==============================] - 5s 10ms/step - loss: 514569830400.0000 - root_mean_squared_error: 717335.2500 - val_loss: 509514776576.0000 - val_root_mean_squared_error: 713803.0625\n",
            "Epoch 161/200\n",
            "545/545 [==============================] - 3s 6ms/step - loss: 514659975168.0000 - root_mean_squared_error: 717398.0625 - val_loss: 508228993024.0000 - val_root_mean_squared_error: 712901.8125\n",
            "Epoch 162/200\n",
            "545/545 [==============================] - 3s 6ms/step - loss: 514428076032.0000 - root_mean_squared_error: 717236.4375 - val_loss: 507731017728.0000 - val_root_mean_squared_error: 712552.4375\n",
            "Epoch 163/200\n",
            "545/545 [==============================] - 3s 6ms/step - loss: 514527166464.0000 - root_mean_squared_error: 717305.5000 - val_loss: 509310304256.0000 - val_root_mean_squared_error: 713659.8125\n",
            "Epoch 164/200\n",
            "545/545 [==============================] - 3s 6ms/step - loss: 515074097152.0000 - root_mean_squared_error: 717686.6250 - val_loss: 508364587008.0000 - val_root_mean_squared_error: 712996.8750\n",
            "Epoch 165/200\n",
            "545/545 [==============================] - 3s 6ms/step - loss: 514541617152.0000 - root_mean_squared_error: 717315.5625 - val_loss: 507726692352.0000 - val_root_mean_squared_error: 712549.4375\n",
            "Epoch 166/200\n",
            "545/545 [==============================] - 6s 12ms/step - loss: 514399666176.0000 - root_mean_squared_error: 717216.6250 - val_loss: 507888992256.0000 - val_root_mean_squared_error: 712663.3125\n",
            "Epoch 167/200\n",
            "545/545 [==============================] - 5s 10ms/step - loss: 514392817664.0000 - root_mean_squared_error: 717211.8125 - val_loss: 507703623680.0000 - val_root_mean_squared_error: 712533.2500\n",
            "Epoch 168/200\n",
            "545/545 [==============================] - 4s 8ms/step - loss: 514760212480.0000 - root_mean_squared_error: 717467.9375 - val_loss: 507683274752.0000 - val_root_mean_squared_error: 712518.9375\n",
            "Epoch 169/200\n",
            "545/545 [==============================] - 3s 6ms/step - loss: 514503442432.0000 - root_mean_squared_error: 717288.9375 - val_loss: 507841380352.0000 - val_root_mean_squared_error: 712629.8750\n",
            "Epoch 170/200\n",
            "545/545 [==============================] - 3s 6ms/step - loss: 514617376768.0000 - root_mean_squared_error: 717368.3750 - val_loss: 507784429568.0000 - val_root_mean_squared_error: 712589.9375\n",
            "Epoch 171/200\n",
            "545/545 [==============================] - 3s 6ms/step - loss: 514658304000.0000 - root_mean_squared_error: 717396.8750 - val_loss: 508519153664.0000 - val_root_mean_squared_error: 713105.3125\n",
            "Epoch 172/200\n",
            "545/545 [==============================] - 3s 6ms/step - loss: 514697363456.0000 - root_mean_squared_error: 717424.1250 - val_loss: 507686486016.0000 - val_root_mean_squared_error: 712521.1875\n",
            "Epoch 173/200\n",
            "545/545 [==============================] - 3s 6ms/step - loss: 514772467712.0000 - root_mean_squared_error: 717476.4375 - val_loss: 507744092160.0000 - val_root_mean_squared_error: 712561.6250\n",
            "Epoch 174/200\n",
            "545/545 [==============================] - 3s 6ms/step - loss: 514701557760.0000 - root_mean_squared_error: 717427.0625 - val_loss: 507690352640.0000 - val_root_mean_squared_error: 712523.9375\n",
            "Epoch 175/200\n",
            "545/545 [==============================] - 3s 6ms/step - loss: 514747236352.0000 - root_mean_squared_error: 717458.8750 - val_loss: 508953788416.0000 - val_root_mean_squared_error: 713410.0000\n",
            "Epoch 176/200\n",
            "545/545 [==============================] - 5s 8ms/step - loss: 514750742528.0000 - root_mean_squared_error: 717461.3125 - val_loss: 507682095104.0000 - val_root_mean_squared_error: 712518.1250\n",
            "Epoch 177/200\n",
            "545/545 [==============================] - 3s 6ms/step - loss: 514333179904.0000 - root_mean_squared_error: 717170.2500 - val_loss: 508938813440.0000 - val_root_mean_squared_error: 713399.5000\n",
            "Epoch 178/200\n",
            "545/545 [==============================] - 4s 7ms/step - loss: 514343960576.0000 - root_mean_squared_error: 717177.7500 - val_loss: 508196421632.0000 - val_root_mean_squared_error: 712878.9375\n",
            "Epoch 179/200\n",
            "545/545 [==============================] - 3s 6ms/step - loss: 514403860480.0000 - root_mean_squared_error: 717219.5625 - val_loss: 508293480448.0000 - val_root_mean_squared_error: 712947.0625\n",
            "Epoch 180/200\n",
            "545/545 [==============================] - 3s 6ms/step - loss: 514481782784.0000 - root_mean_squared_error: 717273.8750 - val_loss: 507681112064.0000 - val_root_mean_squared_error: 712517.4375\n",
            "Epoch 181/200\n",
            "545/545 [==============================] - 3s 6ms/step - loss: 514332950528.0000 - root_mean_squared_error: 717170.1250 - val_loss: 507702214656.0000 - val_root_mean_squared_error: 712532.2500\n",
            "Epoch 182/200\n",
            "545/545 [==============================] - 3s 6ms/step - loss: 514300379136.0000 - root_mean_squared_error: 717147.3750 - val_loss: 507685437440.0000 - val_root_mean_squared_error: 712520.5000\n",
            "Epoch 183/200\n",
            "545/545 [==============================] - 5s 9ms/step - loss: 514120450048.0000 - root_mean_squared_error: 717021.9375 - val_loss: 508491595776.0000 - val_root_mean_squared_error: 713085.9375\n",
            "Epoch 184/200\n",
            "545/545 [==============================] - 8s 14ms/step - loss: 514478473216.0000 - root_mean_squared_error: 717271.5625 - val_loss: 507768406016.0000 - val_root_mean_squared_error: 712578.6875\n",
            "Epoch 185/200\n",
            "545/545 [==============================] - 4s 7ms/step - loss: 514656862208.0000 - root_mean_squared_error: 717395.8750 - val_loss: 507703787520.0000 - val_root_mean_squared_error: 712533.3750\n",
            "Epoch 186/200\n",
            "545/545 [==============================] - 6s 10ms/step - loss: 514374795264.0000 - root_mean_squared_error: 717199.2500 - val_loss: 508450439168.0000 - val_root_mean_squared_error: 713057.1250\n",
            "Epoch 187/200\n",
            "545/545 [==============================] - 7s 13ms/step - loss: 514330591232.0000 - root_mean_squared_error: 717168.4375 - val_loss: 507905736704.0000 - val_root_mean_squared_error: 712675.0625\n",
            "Epoch 188/200\n",
            "545/545 [==============================] - 4s 6ms/step - loss: 514421751808.0000 - root_mean_squared_error: 717232.0000 - val_loss: 508352397312.0000 - val_root_mean_squared_error: 712988.3750\n",
            "Epoch 189/200\n",
            "545/545 [==============================] - 4s 6ms/step - loss: 514376794112.0000 - root_mean_squared_error: 717200.6875 - val_loss: 507738718208.0000 - val_root_mean_squared_error: 712557.8750\n",
            "Epoch 190/200\n",
            "545/545 [==============================] - 3s 6ms/step - loss: 514212429824.0000 - root_mean_squared_error: 717086.0625 - val_loss: 508901392384.0000 - val_root_mean_squared_error: 713373.2500\n",
            "Epoch 191/200\n",
            "545/545 [==============================] - 3s 6ms/step - loss: 514320007168.0000 - root_mean_squared_error: 717161.0625 - val_loss: 507734327296.0000 - val_root_mean_squared_error: 712554.8125\n",
            "Epoch 192/200\n",
            "545/545 [==============================] - 5s 9ms/step - loss: 514382200832.0000 - root_mean_squared_error: 717204.4375 - val_loss: 507757297664.0000 - val_root_mean_squared_error: 712570.9375\n",
            "Epoch 193/200\n",
            "545/545 [==============================] - 3s 5ms/step - loss: 514122317824.0000 - root_mean_squared_error: 717023.2500 - val_loss: 508088713216.0000 - val_root_mean_squared_error: 712803.4375\n",
            "Epoch 194/200\n",
            "545/545 [==============================] - 3s 6ms/step - loss: 514396651520.0000 - root_mean_squared_error: 717214.5000 - val_loss: 508219162624.0000 - val_root_mean_squared_error: 712894.9375\n",
            "Epoch 195/200\n",
            "545/545 [==============================] - 3s 6ms/step - loss: 514503376896.0000 - root_mean_squared_error: 717288.9375 - val_loss: 507818213376.0000 - val_root_mean_squared_error: 712613.6250\n",
            "Epoch 196/200\n",
            "545/545 [==============================] - 3s 6ms/step - loss: 514413985792.0000 - root_mean_squared_error: 717226.5625 - val_loss: 507897184256.0000 - val_root_mean_squared_error: 712669.0625\n",
            "Epoch 197/200\n",
            "545/545 [==============================] - 5s 10ms/step - loss: 514403401728.0000 - root_mean_squared_error: 717219.1875 - val_loss: 507706048512.0000 - val_root_mean_squared_error: 712534.9375\n",
            "Epoch 198/200\n",
            "545/545 [==============================] - 3s 6ms/step - loss: 514375352320.0000 - root_mean_squared_error: 717199.6875 - val_loss: 507681210368.0000 - val_root_mean_squared_error: 712517.5000\n",
            "Epoch 199/200\n",
            "545/545 [==============================] - 3s 6ms/step - loss: 514383446016.0000 - root_mean_squared_error: 717205.3125 - val_loss: 507869855744.0000 - val_root_mean_squared_error: 712649.8750\n",
            "Epoch 200/200\n",
            "545/545 [==============================] - 5s 9ms/step - loss: 514268332032.0000 - root_mean_squared_error: 717125.0625 - val_loss: 508456337408.0000 - val_root_mean_squared_error: 713061.2500\n"
          ]
        }
      ]
    },
    {
      "cell_type": "code",
      "source": [
        "# Precisiónx\n",
        "results = network.evaluate(X_test, y_test)\n",
        "print('results loss:', results[0])\n",
        "print('results accuracy:', results[1])"
      ],
      "metadata": {
        "id": "Yj5FPtNwVGcK",
        "colab": {
          "base_uri": "https://localhost:8080/"
        },
        "outputId": "e73cbc96-c401-44aa-e145-7f212038b5ec"
      },
      "execution_count": 1082,
      "outputs": [
        {
          "output_type": "stream",
          "name": "stdout",
          "text": [
            "61/61 [==============================] - 0s 2ms/step - loss: 452128538624.0000 - root_mean_squared_error: 672405.0625\n",
            "results loss: 452128538624.0\n",
            "results accuracy: 672405.0625\n"
          ]
        }
      ]
    },
    {
      "cell_type": "code",
      "source": [
        "# Salida de la red entrenada\n",
        "y_output = network.predict(X_test)\n",
        "print(\"Salida de la red neuronal: \")\n",
        "print(y_output.round().transpose())"
      ],
      "metadata": {
        "id": "bDLRRGBEVHcb",
        "colab": {
          "base_uri": "https://localhost:8080/"
        },
        "outputId": "d49e7daf-0027-4c3e-900e-3344e14150db"
      },
      "execution_count": 1083,
      "outputs": [
        {
          "output_type": "stream",
          "name": "stdout",
          "text": [
            "61/61 [==============================] - 0s 2ms/step\n",
            "Salida de la red neuronal: \n",
            "[[348423. 348423. 348423. ... 348423. 348423. 348423.]]\n"
          ]
        }
      ]
    },
    {
      "cell_type": "code",
      "source": [
        "mean_squared_error(network.predict(X_test),y_test,squared=False)"
      ],
      "metadata": {
        "id": "IjWPyAInl_63",
        "colab": {
          "base_uri": "https://localhost:8080/"
        },
        "outputId": "46f7ce87-081a-4eb1-f6bb-23ae04b32193"
      },
      "execution_count": 1084,
      "outputs": [
        {
          "output_type": "stream",
          "name": "stdout",
          "text": [
            "61/61 [==============================] - 0s 2ms/step\n"
          ]
        },
        {
          "output_type": "execute_result",
          "data": {
            "text/plain": [
              "672404.9182962053"
            ]
          },
          "metadata": {},
          "execution_count": 1084
        }
      ]
    },
    {
      "cell_type": "markdown",
      "source": [
        "# Fase de pruebas\n"
      ],
      "metadata": {
        "id": "ncA9Vciz95ti"
      }
    },
    {
      "cell_type": "code",
      "source": [
        "path = '/content/drive/MyDrive/BBVA_Hackaton/pruebaFinal.csv'\n",
        "df_test = pd.read_csv(path)\n",
        "df_test.head()"
      ],
      "metadata": {
        "id": "ASkewzxxu8ZC",
        "colab": {
          "base_uri": "https://localhost:8080/",
          "height": 496
        },
        "outputId": "5c0dbef1-a4b0-4a2e-b190-67731b993153"
      },
      "execution_count": 1126,
      "outputs": [
        {
          "output_type": "execute_result",
          "data": {
            "text/plain": [
              "   Fecha entrega del Informe  Tipo de via Departamento Provincia  \\\n",
              "0                       2014           -1         Lima      Lima   \n",
              "1                       2015           -1         Lima      Lima   \n",
              "2                       2015           -1         Lima      Lima   \n",
              "3                       2015           -1         Lima      Lima   \n",
              "4                       2015           -1         Lima      Lima   \n",
              "\n",
              "                 Distrito  Numero de estacionamiento  Depositos    Latitud  \\\n",
              "0               Surquillo                          0          0 -12.115050   \n",
              "1               La Molina                          1          0 -12.067776   \n",
              "2               La Molina                          1          0 -12.068426   \n",
              "3       Santiago de Surco                          0          2 -12.135344   \n",
              "4  San Juan de Miraflores                          0          1 -12.149818   \n",
              "\n",
              "    Longitud Categoria del bien  Posicion  Numero de frentes  Edad  Elevador  \\\n",
              "0 -77.008261       Departamento        -1                 -1     1        -1   \n",
              "1 -76.965110       Departamento        -1                 -1    15        -1   \n",
              "2 -76.963140     Terreno Urbano        -1                 -1    13        -1   \n",
              "3 -76.983677       Departamento        -1                 -1    22        -1   \n",
              "4 -76.974677       Departamento        -1                 -1    47        -1   \n",
              "\n",
              "  Estado de conservacion               Metodo Representado  \\\n",
              "0              Muy bueno  Comparacion de mercado (directo)   \n",
              "1                  Bueno  Comparacion de mercado (directo)   \n",
              "2                  Bueno  Comparacion de mercado (directo)   \n",
              "3        No Especificado  Comparacion de mercado (directo)   \n",
              "4        No Especificado  Comparacion de mercado (directo)   \n",
              "\n",
              "  Moneda principal para calculos  Area Terreno  Area Construccion  \\\n",
              "0                    No definido          9.03              78.48   \n",
              "1                    No definido         49.89             119.55   \n",
              "2                    No definido         45.11              83.69   \n",
              "3                    No definido         84.81             165.40   \n",
              "4                    No definido         38.28             113.57   \n",
              "\n",
              "   Valor comercial  \n",
              "0               -1  \n",
              "1               -1  \n",
              "2               -1  \n",
              "3               -1  \n",
              "4               -1  "
            ],
            "text/html": [
              "\n",
              "  <div id=\"df-582ad46d-467a-4bce-84aa-e301ce12291b\">\n",
              "    <div class=\"colab-df-container\">\n",
              "      <div>\n",
              "<style scoped>\n",
              "    .dataframe tbody tr th:only-of-type {\n",
              "        vertical-align: middle;\n",
              "    }\n",
              "\n",
              "    .dataframe tbody tr th {\n",
              "        vertical-align: top;\n",
              "    }\n",
              "\n",
              "    .dataframe thead th {\n",
              "        text-align: right;\n",
              "    }\n",
              "</style>\n",
              "<table border=\"1\" class=\"dataframe\">\n",
              "  <thead>\n",
              "    <tr style=\"text-align: right;\">\n",
              "      <th></th>\n",
              "      <th>Fecha entrega del Informe</th>\n",
              "      <th>Tipo de via</th>\n",
              "      <th>Departamento</th>\n",
              "      <th>Provincia</th>\n",
              "      <th>Distrito</th>\n",
              "      <th>Numero de estacionamiento</th>\n",
              "      <th>Depositos</th>\n",
              "      <th>Latitud</th>\n",
              "      <th>Longitud</th>\n",
              "      <th>Categoria del bien</th>\n",
              "      <th>Posicion</th>\n",
              "      <th>Numero de frentes</th>\n",
              "      <th>Edad</th>\n",
              "      <th>Elevador</th>\n",
              "      <th>Estado de conservacion</th>\n",
              "      <th>Metodo Representado</th>\n",
              "      <th>Moneda principal para calculos</th>\n",
              "      <th>Area Terreno</th>\n",
              "      <th>Area Construccion</th>\n",
              "      <th>Valor comercial</th>\n",
              "    </tr>\n",
              "  </thead>\n",
              "  <tbody>\n",
              "    <tr>\n",
              "      <th>0</th>\n",
              "      <td>2014</td>\n",
              "      <td>-1</td>\n",
              "      <td>Lima</td>\n",
              "      <td>Lima</td>\n",
              "      <td>Surquillo</td>\n",
              "      <td>0</td>\n",
              "      <td>0</td>\n",
              "      <td>-12.115050</td>\n",
              "      <td>-77.008261</td>\n",
              "      <td>Departamento</td>\n",
              "      <td>-1</td>\n",
              "      <td>-1</td>\n",
              "      <td>1</td>\n",
              "      <td>-1</td>\n",
              "      <td>Muy bueno</td>\n",
              "      <td>Comparacion de mercado (directo)</td>\n",
              "      <td>No definido</td>\n",
              "      <td>9.03</td>\n",
              "      <td>78.48</td>\n",
              "      <td>-1</td>\n",
              "    </tr>\n",
              "    <tr>\n",
              "      <th>1</th>\n",
              "      <td>2015</td>\n",
              "      <td>-1</td>\n",
              "      <td>Lima</td>\n",
              "      <td>Lima</td>\n",
              "      <td>La Molina</td>\n",
              "      <td>1</td>\n",
              "      <td>0</td>\n",
              "      <td>-12.067776</td>\n",
              "      <td>-76.965110</td>\n",
              "      <td>Departamento</td>\n",
              "      <td>-1</td>\n",
              "      <td>-1</td>\n",
              "      <td>15</td>\n",
              "      <td>-1</td>\n",
              "      <td>Bueno</td>\n",
              "      <td>Comparacion de mercado (directo)</td>\n",
              "      <td>No definido</td>\n",
              "      <td>49.89</td>\n",
              "      <td>119.55</td>\n",
              "      <td>-1</td>\n",
              "    </tr>\n",
              "    <tr>\n",
              "      <th>2</th>\n",
              "      <td>2015</td>\n",
              "      <td>-1</td>\n",
              "      <td>Lima</td>\n",
              "      <td>Lima</td>\n",
              "      <td>La Molina</td>\n",
              "      <td>1</td>\n",
              "      <td>0</td>\n",
              "      <td>-12.068426</td>\n",
              "      <td>-76.963140</td>\n",
              "      <td>Terreno Urbano</td>\n",
              "      <td>-1</td>\n",
              "      <td>-1</td>\n",
              "      <td>13</td>\n",
              "      <td>-1</td>\n",
              "      <td>Bueno</td>\n",
              "      <td>Comparacion de mercado (directo)</td>\n",
              "      <td>No definido</td>\n",
              "      <td>45.11</td>\n",
              "      <td>83.69</td>\n",
              "      <td>-1</td>\n",
              "    </tr>\n",
              "    <tr>\n",
              "      <th>3</th>\n",
              "      <td>2015</td>\n",
              "      <td>-1</td>\n",
              "      <td>Lima</td>\n",
              "      <td>Lima</td>\n",
              "      <td>Santiago de Surco</td>\n",
              "      <td>0</td>\n",
              "      <td>2</td>\n",
              "      <td>-12.135344</td>\n",
              "      <td>-76.983677</td>\n",
              "      <td>Departamento</td>\n",
              "      <td>-1</td>\n",
              "      <td>-1</td>\n",
              "      <td>22</td>\n",
              "      <td>-1</td>\n",
              "      <td>No Especificado</td>\n",
              "      <td>Comparacion de mercado (directo)</td>\n",
              "      <td>No definido</td>\n",
              "      <td>84.81</td>\n",
              "      <td>165.40</td>\n",
              "      <td>-1</td>\n",
              "    </tr>\n",
              "    <tr>\n",
              "      <th>4</th>\n",
              "      <td>2015</td>\n",
              "      <td>-1</td>\n",
              "      <td>Lima</td>\n",
              "      <td>Lima</td>\n",
              "      <td>San Juan de Miraflores</td>\n",
              "      <td>0</td>\n",
              "      <td>1</td>\n",
              "      <td>-12.149818</td>\n",
              "      <td>-76.974677</td>\n",
              "      <td>Departamento</td>\n",
              "      <td>-1</td>\n",
              "      <td>-1</td>\n",
              "      <td>47</td>\n",
              "      <td>-1</td>\n",
              "      <td>No Especificado</td>\n",
              "      <td>Comparacion de mercado (directo)</td>\n",
              "      <td>No definido</td>\n",
              "      <td>38.28</td>\n",
              "      <td>113.57</td>\n",
              "      <td>-1</td>\n",
              "    </tr>\n",
              "  </tbody>\n",
              "</table>\n",
              "</div>\n",
              "      <button class=\"colab-df-convert\" onclick=\"convertToInteractive('df-582ad46d-467a-4bce-84aa-e301ce12291b')\"\n",
              "              title=\"Convert this dataframe to an interactive table.\"\n",
              "              style=\"display:none;\">\n",
              "        \n",
              "  <svg xmlns=\"http://www.w3.org/2000/svg\" height=\"24px\"viewBox=\"0 0 24 24\"\n",
              "       width=\"24px\">\n",
              "    <path d=\"M0 0h24v24H0V0z\" fill=\"none\"/>\n",
              "    <path d=\"M18.56 5.44l.94 2.06.94-2.06 2.06-.94-2.06-.94-.94-2.06-.94 2.06-2.06.94zm-11 1L8.5 8.5l.94-2.06 2.06-.94-2.06-.94L8.5 2.5l-.94 2.06-2.06.94zm10 10l.94 2.06.94-2.06 2.06-.94-2.06-.94-.94-2.06-.94 2.06-2.06.94z\"/><path d=\"M17.41 7.96l-1.37-1.37c-.4-.4-.92-.59-1.43-.59-.52 0-1.04.2-1.43.59L10.3 9.45l-7.72 7.72c-.78.78-.78 2.05 0 2.83L4 21.41c.39.39.9.59 1.41.59.51 0 1.02-.2 1.41-.59l7.78-7.78 2.81-2.81c.8-.78.8-2.07 0-2.86zM5.41 20L4 18.59l7.72-7.72 1.47 1.35L5.41 20z\"/>\n",
              "  </svg>\n",
              "      </button>\n",
              "      \n",
              "  <style>\n",
              "    .colab-df-container {\n",
              "      display:flex;\n",
              "      flex-wrap:wrap;\n",
              "      gap: 12px;\n",
              "    }\n",
              "\n",
              "    .colab-df-convert {\n",
              "      background-color: #E8F0FE;\n",
              "      border: none;\n",
              "      border-radius: 50%;\n",
              "      cursor: pointer;\n",
              "      display: none;\n",
              "      fill: #1967D2;\n",
              "      height: 32px;\n",
              "      padding: 0 0 0 0;\n",
              "      width: 32px;\n",
              "    }\n",
              "\n",
              "    .colab-df-convert:hover {\n",
              "      background-color: #E2EBFA;\n",
              "      box-shadow: 0px 1px 2px rgba(60, 64, 67, 0.3), 0px 1px 3px 1px rgba(60, 64, 67, 0.15);\n",
              "      fill: #174EA6;\n",
              "    }\n",
              "\n",
              "    [theme=dark] .colab-df-convert {\n",
              "      background-color: #3B4455;\n",
              "      fill: #D2E3FC;\n",
              "    }\n",
              "\n",
              "    [theme=dark] .colab-df-convert:hover {\n",
              "      background-color: #434B5C;\n",
              "      box-shadow: 0px 1px 3px 1px rgba(0, 0, 0, 0.15);\n",
              "      filter: drop-shadow(0px 1px 2px rgba(0, 0, 0, 0.3));\n",
              "      fill: #FFFFFF;\n",
              "    }\n",
              "  </style>\n",
              "\n",
              "      <script>\n",
              "        const buttonEl =\n",
              "          document.querySelector('#df-582ad46d-467a-4bce-84aa-e301ce12291b button.colab-df-convert');\n",
              "        buttonEl.style.display =\n",
              "          google.colab.kernel.accessAllowed ? 'block' : 'none';\n",
              "\n",
              "        async function convertToInteractive(key) {\n",
              "          const element = document.querySelector('#df-582ad46d-467a-4bce-84aa-e301ce12291b');\n",
              "          const dataTable =\n",
              "            await google.colab.kernel.invokeFunction('convertToInteractive',\n",
              "                                                     [key], {});\n",
              "          if (!dataTable) return;\n",
              "\n",
              "          const docLinkHtml = 'Like what you see? Visit the ' +\n",
              "            '<a target=\"_blank\" href=https://colab.research.google.com/notebooks/data_table.ipynb>data table notebook</a>'\n",
              "            + ' to learn more about interactive tables.';\n",
              "          element.innerHTML = '';\n",
              "          dataTable['output_type'] = 'display_data';\n",
              "          await google.colab.output.renderOutput(dataTable, element);\n",
              "          const docLink = document.createElement('div');\n",
              "          docLink.innerHTML = docLinkHtml;\n",
              "          element.appendChild(docLink);\n",
              "        }\n",
              "      </script>\n",
              "    </div>\n",
              "  </div>\n",
              "  "
            ]
          },
          "metadata": {},
          "execution_count": 1126
        }
      ]
    },
    {
      "cell_type": "code",
      "source": [
        "# X_raw_nnn -> raw no numeric data\n",
        "X_raw_nnd_test= df_test.drop(columns=numeric_list, axis=1)\n",
        "\n",
        "#Convert data to numeric data \n",
        "enc = OrdinalEncoder()\n",
        "enc.fit(X_raw_nnd_test)\n",
        "\n",
        "# X_nnn -> no numeric data decode to numeric\n",
        "X_nnd_decode_test =  np.array(enc.transform(X_raw_nnd_test))"
      ],
      "metadata": {
        "id": "KTTvIr6F75CY"
      },
      "execution_count": 1127,
      "outputs": []
    },
    {
      "cell_type": "code",
      "source": [
        "X_nnd_decode_test.shape"
      ],
      "metadata": {
        "colab": {
          "base_uri": "https://localhost:8080/"
        },
        "id": "zbCTXMsf89lO",
        "outputId": "f1b8cbd8-98a8-48f2-b5bb-929d98c3b2b5"
      },
      "execution_count": 1128,
      "outputs": [
        {
          "output_type": "execute_result",
          "data": {
            "text/plain": [
              "(9999, 8)"
            ]
          },
          "metadata": {},
          "execution_count": 1128
        }
      ]
    },
    {
      "cell_type": "code",
      "source": [
        "#X need to contain numeric and categorical data\n",
        "X_nd_test = np.array(df_test.drop(columns=categorical_list, axis=1))\n",
        "X_nd_test.shape"
      ],
      "metadata": {
        "colab": {
          "base_uri": "https://localhost:8080/"
        },
        "id": "8fO8rWyw8Q0s",
        "outputId": "0b06b61a-eae9-44b6-ac4f-dc20f85406aa"
      },
      "execution_count": 1129,
      "outputs": [
        {
          "output_type": "execute_result",
          "data": {
            "text/plain": [
              "(9999, 12)"
            ]
          },
          "metadata": {},
          "execution_count": 1129
        }
      ]
    },
    {
      "cell_type": "code",
      "source": [
        "#Union de X no numericas y X numericas \n",
        "X_real_test= np.concatenate((X_nnd_decode_test, X_nd_test), axis=1)\n",
        "X_real_test"
      ],
      "metadata": {
        "colab": {
          "base_uri": "https://localhost:8080/"
        },
        "id": "lFV6Ooeq8Vkx",
        "outputId": "ba1d735e-8713-4e9f-fa10-202adf6dcb10"
      },
      "execution_count": 1130,
      "outputs": [
        {
          "output_type": "execute_result",
          "data": {
            "text/plain": [
              "array([[ 12.  ,  56.  , 264.  , ...,   9.03,  78.48,  -1.  ],\n",
              "       [ 12.  ,  56.  , 124.  , ...,  49.89, 119.55,  -1.  ],\n",
              "       [ 12.  ,  56.  , 124.  , ...,  45.11,  83.69,  -1.  ],\n",
              "       ...,\n",
              "       [ 12.  ,  56.  , 134.  , ...,   4.37,  65.05,  -1.  ],\n",
              "       [ 12.  ,  56.  , 251.  , ...,  17.74, 108.  ,  -1.  ],\n",
              "       [ 12.  ,  56.  ,  21.  , ..., 418.11,  -1.  ,  -1.  ]])"
            ]
          },
          "metadata": {},
          "execution_count": 1130
        }
      ]
    },
    {
      "cell_type": "code",
      "source": [
        "# Salida de la red entrenada\n",
        "y_output_test = network.predict(X_real_test)\n",
        "print(\"Salida de la red neuronal: \")\n",
        "print(y_output_test)"
      ],
      "metadata": {
        "colab": {
          "base_uri": "https://localhost:8080/"
        },
        "id": "sNJ41gwQ8krR",
        "outputId": "5b90cd92-e8a9-4457-88fe-4c413448352c"
      },
      "execution_count": 1131,
      "outputs": [
        {
          "output_type": "stream",
          "name": "stdout",
          "text": [
            "313/313 [==============================] - 1s 2ms/step\n",
            "Salida de la red neuronal: \n",
            "[[2.1300734e+08]\n",
            " [1.9330202e+08]\n",
            " [1.9528728e+08]\n",
            " ...\n",
            " [2.0284698e+08]\n",
            " [2.1002725e+08]\n",
            " [1.2382176e+08]]\n"
          ]
        }
      ]
    },
    {
      "cell_type": "code",
      "source": [
        "y_output_test.size"
      ],
      "metadata": {
        "colab": {
          "base_uri": "https://localhost:8080/"
        },
        "id": "2Vo69-Ngw6n1",
        "outputId": "e67d444e-bd6b-45c9-fc0e-cf311140f906"
      },
      "execution_count": 1142,
      "outputs": [
        {
          "output_type": "execute_result",
          "data": {
            "text/plain": [
              "9999"
            ]
          },
          "metadata": {},
          "execution_count": 1142
        }
      ]
    },
    {
      "cell_type": "code",
      "source": [
        "df_test['Valor comercial'] = y_output_test"
      ],
      "metadata": {
        "id": "jHIhhAmjycex"
      },
      "execution_count": 1144,
      "outputs": []
    },
    {
      "cell_type": "code",
      "source": [
        "df_test['Valor comercial']"
      ],
      "metadata": {
        "colab": {
          "base_uri": "https://localhost:8080/"
        },
        "id": "KRrX0MylyhUQ",
        "outputId": "2a6d95f8-8577-453c-d643-a736cdbad216"
      },
      "execution_count": 1145,
      "outputs": [
        {
          "output_type": "execute_result",
          "data": {
            "text/plain": [
              "0       213007344.0\n",
              "1       193302016.0\n",
              "2       195287280.0\n",
              "3       197834464.0\n",
              "4       208525600.0\n",
              "           ...     \n",
              "9994    159211840.0\n",
              "9995    128037912.0\n",
              "9996    202846976.0\n",
              "9997    210027248.0\n",
              "9998    123821760.0\n",
              "Name: Valor comercial, Length: 9999, dtype: float32"
            ]
          },
          "metadata": {},
          "execution_count": 1145
        }
      ]
    },
    {
      "cell_type": "markdown",
      "source": [
        "# Export data"
      ],
      "metadata": {
        "id": "rpuzBBfArxeM"
      }
    },
    {
      "cell_type": "code",
      "source": [
        "# write DataFrame to excel\n",
        "df_test.to_excel(excel_writer=r'/content/drive/MyDrive/BBVA_Hackaton/resultadosfinales.xls')\n",
        "  \n",
        "# save the excel\n",
        "print('DataFrame is written to Excel File successfully.')"
      ],
      "metadata": {
        "colab": {
          "base_uri": "https://localhost:8080/"
        },
        "id": "jByqwV-3xiRu",
        "outputId": "78693591-a849-4b01-c528-0d6654a216d6"
      },
      "execution_count": 1149,
      "outputs": [
        {
          "output_type": "stream",
          "name": "stderr",
          "text": [
            "/usr/local/lib/python3.7/dist-packages/ipykernel_launcher.py:2: FutureWarning: As the xlwt package is no longer maintained, the xlwt engine will be removed in a future version of pandas. This is the only engine in pandas that supports writing in the xls format. Install openpyxl and write to an xlsx file instead. You can set the option io.excel.xls.writer to 'xlwt' to silence this warning. While this option is deprecated and will also raise a warning, it can be globally set and the warning suppressed.\n",
            "  \n"
          ]
        },
        {
          "output_type": "stream",
          "name": "stdout",
          "text": [
            "DataFrame is written to Excel File successfully.\n"
          ]
        }
      ]
    }
  ],
  "metadata": {
    "colab": {
      "collapsed_sections": [
        "EiEW5j9oVbql",
        "Iifjn1z7ZoHg",
        "54VNzzNX_UBf",
        "g-b-T_LpAkYe",
        "wIa-rCrnTXMR",
        "VkRrvgyNuOQQ",
        "f8Avo3kPzX28",
        "2bdb8nXkHaov",
        "3VgvOTVMQKtq",
        "m9YXwQyIcGZN"
      ],
      "provenance": [],
      "include_colab_link": true
    },
    "kernelspec": {
      "display_name": "Python 3",
      "name": "python3"
    },
    "language_info": {
      "name": "python"
    }
  },
  "nbformat": 4,
  "nbformat_minor": 0
}