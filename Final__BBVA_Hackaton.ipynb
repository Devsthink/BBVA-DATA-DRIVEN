{
  "cells": [
    {
      "cell_type": "markdown",
      "metadata": {
        "id": "view-in-github",
        "colab_type": "text"
      },
      "source": [
        "<a href=\"https://colab.research.google.com/github/Devsthink/BBVA-DATA-DRIVEN/blob/main/Final__BBVA_Hackaton.ipynb\" target=\"_parent\"><img src=\"https://colab.research.google.com/assets/colab-badge.svg\" alt=\"Open In Colab\"/></a>"
      ]
    },
    {
      "cell_type": "markdown",
      "metadata": {
        "id": "EiEW5j9oVbql"
      },
      "source": [
        "#Hackaton BBVA\n"
      ]
    },
    {
      "cell_type": "markdown",
      "metadata": {
        "id": "Iifjn1z7ZoHg"
      },
      "source": [
        "# Modelo de prediccion de valorizacion de inmuebles"
      ]
    },
    {
      "cell_type": "markdown",
      "metadata": {
        "id": "0dONvh494CCI"
      },
      "source": [
        "Librerias necesarias para creacion de modelo\n",
        "\n",
        "\n",
        "\n",
        "*   Manejo de arreglos en diferentes dimensiones\n",
        "*   Cargar y exportar datos\n",
        "*   Redes Neuronales\n",
        "*   Ubicaciones geograficas\n",
        "\n",
        "\n",
        "\n"
      ]
    },
    {
      "cell_type": "markdown",
      "metadata": {
        "id": "14VSLnSL4on-"
      },
      "source": [
        "# Obtención de datos\n",
        "\n",
        "*   Carga de datos a variable local\n",
        "\n"
      ]
    },
    {
      "cell_type": "code",
      "source": [
        "!pip install folium\n",
        "!pip install -U scikit-learn\n",
        "!pip install geopy"
      ],
      "metadata": {
        "colab": {
          "base_uri": "https://localhost:8080/"
        },
        "id": "vnfTuIjroTKZ",
        "outputId": "395b0fa8-f64d-4892-d527-706321880668"
      },
      "execution_count": 649,
      "outputs": [
        {
          "output_type": "stream",
          "name": "stdout",
          "text": [
            "Looking in indexes: https://pypi.org/simple, https://us-python.pkg.dev/colab-wheels/public/simple/\n",
            "Requirement already satisfied: folium in /usr/local/lib/python3.7/dist-packages (0.13.0)\n",
            "Requirement already satisfied: numpy in /usr/local/lib/python3.7/dist-packages (from folium) (1.21.6)\n",
            "Requirement already satisfied: branca>=0.3.0 in /usr/local/lib/python3.7/dist-packages (from folium) (0.5.0)\n",
            "Requirement already satisfied: requests in /usr/local/lib/python3.7/dist-packages (from folium) (2.23.0)\n",
            "Requirement already satisfied: jinja2>=2.9 in /usr/local/lib/python3.7/dist-packages (from folium) (2.11.3)\n",
            "Requirement already satisfied: MarkupSafe>=0.23 in /usr/local/lib/python3.7/dist-packages (from jinja2>=2.9->folium) (2.0.1)\n",
            "Requirement already satisfied: idna<3,>=2.5 in /usr/local/lib/python3.7/dist-packages (from requests->folium) (2.10)\n",
            "Requirement already satisfied: certifi>=2017.4.17 in /usr/local/lib/python3.7/dist-packages (from requests->folium) (2022.9.24)\n",
            "Requirement already satisfied: chardet<4,>=3.0.2 in /usr/local/lib/python3.7/dist-packages (from requests->folium) (3.0.4)\n",
            "Requirement already satisfied: urllib3!=1.25.0,!=1.25.1,<1.26,>=1.21.1 in /usr/local/lib/python3.7/dist-packages (from requests->folium) (1.24.3)\n",
            "Looking in indexes: https://pypi.org/simple, https://us-python.pkg.dev/colab-wheels/public/simple/\n",
            "Requirement already satisfied: scikit-learn in /usr/local/lib/python3.7/dist-packages (1.0.2)\n",
            "Requirement already satisfied: joblib>=0.11 in /usr/local/lib/python3.7/dist-packages (from scikit-learn) (1.2.0)\n",
            "Requirement already satisfied: scipy>=1.1.0 in /usr/local/lib/python3.7/dist-packages (from scikit-learn) (1.7.3)\n",
            "Requirement already satisfied: numpy>=1.14.6 in /usr/local/lib/python3.7/dist-packages (from scikit-learn) (1.21.6)\n",
            "Requirement already satisfied: threadpoolctl>=2.0.0 in /usr/local/lib/python3.7/dist-packages (from scikit-learn) (3.1.0)\n",
            "Looking in indexes: https://pypi.org/simple, https://us-python.pkg.dev/colab-wheels/public/simple/\n",
            "Requirement already satisfied: geopy in /usr/local/lib/python3.7/dist-packages (2.2.0)\n",
            "Requirement already satisfied: geographiclib<2,>=1.49 in /usr/local/lib/python3.7/dist-packages (from geopy) (1.52)\n"
          ]
        }
      ]
    },
    {
      "cell_type": "code",
      "execution_count": 650,
      "metadata": {
        "id": "b1XzvHg4VWug"
      },
      "outputs": [],
      "source": [
        "import pandas as pd\n",
        "import tensorflow as tf\n",
        "import numpy as np\n",
        "import csv\n",
        "import matplotlib.pyplot as plt\n",
        "import geopy\n",
        "from geopy.geocoders import Nominatim\n",
        "import keras\n",
        "from time import time\n",
        "\n",
        "# Arquitectura de la red\n",
        "from keras import models\n",
        "from keras import layers\n",
        "from keras import optimizers\n",
        "from sklearn.preprocessing import OrdinalEncoder\n",
        "from sklearn import preprocessing\n",
        "from sklearn.metrics import mean_squared_error"
      ]
    },
    {
      "cell_type": "markdown",
      "metadata": {
        "id": "RstA8YCXIyCJ"
      },
      "source": [
        "Carga de los archivos desde un repositorio remoto:"
      ]
    },
    {
      "cell_type": "code",
      "execution_count": 700,
      "metadata": {
        "id": "IpN484kQWyxY",
        "colab": {
          "base_uri": "https://localhost:8080/"
        },
        "outputId": "be28d940-fcb3-45bc-98f5-d291be83b1d4"
      },
      "outputs": [
        {
          "output_type": "stream",
          "name": "stdout",
          "text": [
            "Drive already mounted at /content/drive; to attempt to forcibly remount, call drive.mount(\"/content/drive\", force_remount=True).\n"
          ]
        }
      ],
      "source": [
        "from google.colab import drive\n",
        "drive.mount('/content/drive') "
      ]
    },
    {
      "cell_type": "code",
      "execution_count": 743,
      "metadata": {
        "id": "_wwLIWIkW6XV"
      },
      "outputs": [],
      "source": [
        "#path = '/content/drive/MyDrive/BBVA_Hackaton/Train_Data_BBVA.csv'\n",
        "path = '/content/drive/MyDrive/BBVA_Hackaton/Train_Data_BBVA.csv'"
      ]
    },
    {
      "cell_type": "markdown",
      "source": [],
      "metadata": {
        "id": "3OMqTLvgNZIA"
      }
    },
    {
      "cell_type": "code",
      "execution_count": 703,
      "metadata": {
        "id": "6VbtV0ekYpNO",
        "colab": {
          "base_uri": "https://localhost:8080/",
          "height": 496
        },
        "outputId": "f3779464-6f84-4c62-9a0a-6cc8d20225ff"
      },
      "outputs": [
        {
          "output_type": "execute_result",
          "data": {
            "text/plain": [
              "   Fecha entrega del Informe  Tipo de via Piso Departamento         Provincia  \\\n",
              "0                       2021            1   -1         Lima              Lima   \n",
              "1                       2017            1   -1         Lima              Lima   \n",
              "2                       2019            1   -1         Lima              Lima   \n",
              "3                       2019            3   -1      Ucayali  Coronel Portillo   \n",
              "4                       2020            3   -1         Lima              Lima   \n",
              "\n",
              "            Distrito  Numero de estacionamiento  Depositos  Latitud  Longitud  \\\n",
              "0          Surquillo                          0          0 -12.1056  -77.0257   \n",
              "1  Santiago de Surco                          1          0 -12.1381  -76.9857   \n",
              "2         San Miguel                          1          1 -12.0763  -77.0909   \n",
              "3           Calleria                         -1         -1  -8.3814  -74.5379   \n",
              "4  Magdalena del Mar                          0          0 -12.0914  -77.0559   \n",
              "\n",
              "  Categoria del bien Posicion  Numero de frentes  Edad  Elevador  \\\n",
              "0       Departamento       -1                 -1     5        -1   \n",
              "1       Departamento       -1                 -1     4        -1   \n",
              "2            Oficina       -1                 -1     5        -1   \n",
              "3     Terreno Urbano       -1                 -1    -1        -1   \n",
              "4            Oficina       -1                 -1     0        -1   \n",
              "\n",
              "  Estado de conservacion               Metodo Representado  Area Terreno  \\\n",
              "0                  Bueno  Comparacion de mercado (directo)         13.72   \n",
              "1              Muy bueno  Comparacion de mercado (directo)         32.93   \n",
              "2                  Bueno  Comparacion de mercado (directo)          5.09   \n",
              "3        No especificado     Costos o reposicion (directo)        329.50   \n",
              "4            En proyecto  Comparacion de mercado (directo)          3.16   \n",
              "\n",
              "   Area Construccion  Valor comercial  \n",
              "0              63.92         138169.0  \n",
              "1             111.12         203712.0  \n",
              "2             106.22         145911.0  \n",
              "3               0.00         180275.0  \n",
              "4              57.77         105719.0  "
            ],
            "text/html": [
              "\n",
              "  <div id=\"df-b552a75b-27e9-44bb-a4ac-7a33b6f90263\">\n",
              "    <div class=\"colab-df-container\">\n",
              "      <div>\n",
              "<style scoped>\n",
              "    .dataframe tbody tr th:only-of-type {\n",
              "        vertical-align: middle;\n",
              "    }\n",
              "\n",
              "    .dataframe tbody tr th {\n",
              "        vertical-align: top;\n",
              "    }\n",
              "\n",
              "    .dataframe thead th {\n",
              "        text-align: right;\n",
              "    }\n",
              "</style>\n",
              "<table border=\"1\" class=\"dataframe\">\n",
              "  <thead>\n",
              "    <tr style=\"text-align: right;\">\n",
              "      <th></th>\n",
              "      <th>Fecha entrega del Informe</th>\n",
              "      <th>Tipo de via</th>\n",
              "      <th>Piso</th>\n",
              "      <th>Departamento</th>\n",
              "      <th>Provincia</th>\n",
              "      <th>Distrito</th>\n",
              "      <th>Numero de estacionamiento</th>\n",
              "      <th>Depositos</th>\n",
              "      <th>Latitud</th>\n",
              "      <th>Longitud</th>\n",
              "      <th>Categoria del bien</th>\n",
              "      <th>Posicion</th>\n",
              "      <th>Numero de frentes</th>\n",
              "      <th>Edad</th>\n",
              "      <th>Elevador</th>\n",
              "      <th>Estado de conservacion</th>\n",
              "      <th>Metodo Representado</th>\n",
              "      <th>Area Terreno</th>\n",
              "      <th>Area Construccion</th>\n",
              "      <th>Valor comercial</th>\n",
              "    </tr>\n",
              "  </thead>\n",
              "  <tbody>\n",
              "    <tr>\n",
              "      <th>0</th>\n",
              "      <td>2021</td>\n",
              "      <td>1</td>\n",
              "      <td>-1</td>\n",
              "      <td>Lima</td>\n",
              "      <td>Lima</td>\n",
              "      <td>Surquillo</td>\n",
              "      <td>0</td>\n",
              "      <td>0</td>\n",
              "      <td>-12.1056</td>\n",
              "      <td>-77.0257</td>\n",
              "      <td>Departamento</td>\n",
              "      <td>-1</td>\n",
              "      <td>-1</td>\n",
              "      <td>5</td>\n",
              "      <td>-1</td>\n",
              "      <td>Bueno</td>\n",
              "      <td>Comparacion de mercado (directo)</td>\n",
              "      <td>13.72</td>\n",
              "      <td>63.92</td>\n",
              "      <td>138169.0</td>\n",
              "    </tr>\n",
              "    <tr>\n",
              "      <th>1</th>\n",
              "      <td>2017</td>\n",
              "      <td>1</td>\n",
              "      <td>-1</td>\n",
              "      <td>Lima</td>\n",
              "      <td>Lima</td>\n",
              "      <td>Santiago de Surco</td>\n",
              "      <td>1</td>\n",
              "      <td>0</td>\n",
              "      <td>-12.1381</td>\n",
              "      <td>-76.9857</td>\n",
              "      <td>Departamento</td>\n",
              "      <td>-1</td>\n",
              "      <td>-1</td>\n",
              "      <td>4</td>\n",
              "      <td>-1</td>\n",
              "      <td>Muy bueno</td>\n",
              "      <td>Comparacion de mercado (directo)</td>\n",
              "      <td>32.93</td>\n",
              "      <td>111.12</td>\n",
              "      <td>203712.0</td>\n",
              "    </tr>\n",
              "    <tr>\n",
              "      <th>2</th>\n",
              "      <td>2019</td>\n",
              "      <td>1</td>\n",
              "      <td>-1</td>\n",
              "      <td>Lima</td>\n",
              "      <td>Lima</td>\n",
              "      <td>San Miguel</td>\n",
              "      <td>1</td>\n",
              "      <td>1</td>\n",
              "      <td>-12.0763</td>\n",
              "      <td>-77.0909</td>\n",
              "      <td>Oficina</td>\n",
              "      <td>-1</td>\n",
              "      <td>-1</td>\n",
              "      <td>5</td>\n",
              "      <td>-1</td>\n",
              "      <td>Bueno</td>\n",
              "      <td>Comparacion de mercado (directo)</td>\n",
              "      <td>5.09</td>\n",
              "      <td>106.22</td>\n",
              "      <td>145911.0</td>\n",
              "    </tr>\n",
              "    <tr>\n",
              "      <th>3</th>\n",
              "      <td>2019</td>\n",
              "      <td>3</td>\n",
              "      <td>-1</td>\n",
              "      <td>Ucayali</td>\n",
              "      <td>Coronel Portillo</td>\n",
              "      <td>Calleria</td>\n",
              "      <td>-1</td>\n",
              "      <td>-1</td>\n",
              "      <td>-8.3814</td>\n",
              "      <td>-74.5379</td>\n",
              "      <td>Terreno Urbano</td>\n",
              "      <td>-1</td>\n",
              "      <td>-1</td>\n",
              "      <td>-1</td>\n",
              "      <td>-1</td>\n",
              "      <td>No especificado</td>\n",
              "      <td>Costos o reposicion (directo)</td>\n",
              "      <td>329.50</td>\n",
              "      <td>0.00</td>\n",
              "      <td>180275.0</td>\n",
              "    </tr>\n",
              "    <tr>\n",
              "      <th>4</th>\n",
              "      <td>2020</td>\n",
              "      <td>3</td>\n",
              "      <td>-1</td>\n",
              "      <td>Lima</td>\n",
              "      <td>Lima</td>\n",
              "      <td>Magdalena del Mar</td>\n",
              "      <td>0</td>\n",
              "      <td>0</td>\n",
              "      <td>-12.0914</td>\n",
              "      <td>-77.0559</td>\n",
              "      <td>Oficina</td>\n",
              "      <td>-1</td>\n",
              "      <td>-1</td>\n",
              "      <td>0</td>\n",
              "      <td>-1</td>\n",
              "      <td>En proyecto</td>\n",
              "      <td>Comparacion de mercado (directo)</td>\n",
              "      <td>3.16</td>\n",
              "      <td>57.77</td>\n",
              "      <td>105719.0</td>\n",
              "    </tr>\n",
              "  </tbody>\n",
              "</table>\n",
              "</div>\n",
              "      <button class=\"colab-df-convert\" onclick=\"convertToInteractive('df-b552a75b-27e9-44bb-a4ac-7a33b6f90263')\"\n",
              "              title=\"Convert this dataframe to an interactive table.\"\n",
              "              style=\"display:none;\">\n",
              "        \n",
              "  <svg xmlns=\"http://www.w3.org/2000/svg\" height=\"24px\"viewBox=\"0 0 24 24\"\n",
              "       width=\"24px\">\n",
              "    <path d=\"M0 0h24v24H0V0z\" fill=\"none\"/>\n",
              "    <path d=\"M18.56 5.44l.94 2.06.94-2.06 2.06-.94-2.06-.94-.94-2.06-.94 2.06-2.06.94zm-11 1L8.5 8.5l.94-2.06 2.06-.94-2.06-.94L8.5 2.5l-.94 2.06-2.06.94zm10 10l.94 2.06.94-2.06 2.06-.94-2.06-.94-.94-2.06-.94 2.06-2.06.94z\"/><path d=\"M17.41 7.96l-1.37-1.37c-.4-.4-.92-.59-1.43-.59-.52 0-1.04.2-1.43.59L10.3 9.45l-7.72 7.72c-.78.78-.78 2.05 0 2.83L4 21.41c.39.39.9.59 1.41.59.51 0 1.02-.2 1.41-.59l7.78-7.78 2.81-2.81c.8-.78.8-2.07 0-2.86zM5.41 20L4 18.59l7.72-7.72 1.47 1.35L5.41 20z\"/>\n",
              "  </svg>\n",
              "      </button>\n",
              "      \n",
              "  <style>\n",
              "    .colab-df-container {\n",
              "      display:flex;\n",
              "      flex-wrap:wrap;\n",
              "      gap: 12px;\n",
              "    }\n",
              "\n",
              "    .colab-df-convert {\n",
              "      background-color: #E8F0FE;\n",
              "      border: none;\n",
              "      border-radius: 50%;\n",
              "      cursor: pointer;\n",
              "      display: none;\n",
              "      fill: #1967D2;\n",
              "      height: 32px;\n",
              "      padding: 0 0 0 0;\n",
              "      width: 32px;\n",
              "    }\n",
              "\n",
              "    .colab-df-convert:hover {\n",
              "      background-color: #E2EBFA;\n",
              "      box-shadow: 0px 1px 2px rgba(60, 64, 67, 0.3), 0px 1px 3px 1px rgba(60, 64, 67, 0.15);\n",
              "      fill: #174EA6;\n",
              "    }\n",
              "\n",
              "    [theme=dark] .colab-df-convert {\n",
              "      background-color: #3B4455;\n",
              "      fill: #D2E3FC;\n",
              "    }\n",
              "\n",
              "    [theme=dark] .colab-df-convert:hover {\n",
              "      background-color: #434B5C;\n",
              "      box-shadow: 0px 1px 3px 1px rgba(0, 0, 0, 0.15);\n",
              "      filter: drop-shadow(0px 1px 2px rgba(0, 0, 0, 0.3));\n",
              "      fill: #FFFFFF;\n",
              "    }\n",
              "  </style>\n",
              "\n",
              "      <script>\n",
              "        const buttonEl =\n",
              "          document.querySelector('#df-b552a75b-27e9-44bb-a4ac-7a33b6f90263 button.colab-df-convert');\n",
              "        buttonEl.style.display =\n",
              "          google.colab.kernel.accessAllowed ? 'block' : 'none';\n",
              "\n",
              "        async function convertToInteractive(key) {\n",
              "          const element = document.querySelector('#df-b552a75b-27e9-44bb-a4ac-7a33b6f90263');\n",
              "          const dataTable =\n",
              "            await google.colab.kernel.invokeFunction('convertToInteractive',\n",
              "                                                     [key], {});\n",
              "          if (!dataTable) return;\n",
              "\n",
              "          const docLinkHtml = 'Like what you see? Visit the ' +\n",
              "            '<a target=\"_blank\" href=https://colab.research.google.com/notebooks/data_table.ipynb>data table notebook</a>'\n",
              "            + ' to learn more about interactive tables.';\n",
              "          element.innerHTML = '';\n",
              "          dataTable['output_type'] = 'display_data';\n",
              "          await google.colab.output.renderOutput(dataTable, element);\n",
              "          const docLink = document.createElement('div');\n",
              "          docLink.innerHTML = docLinkHtml;\n",
              "          element.appendChild(docLink);\n",
              "        }\n",
              "      </script>\n",
              "    </div>\n",
              "  </div>\n",
              "  "
            ]
          },
          "metadata": {},
          "execution_count": 703
        }
      ],
      "source": [
        "df = pd.read_csv(path)\n",
        "df.head()"
      ]
    },
    {
      "cell_type": "markdown",
      "metadata": {
        "id": "FrrLXNsf4zYX"
      },
      "source": [
        "# *Descripción de datos*\n",
        "\n",
        "*   Distinción de valores numericos y no numericos\n",
        "*   Rangos entre cada variable\n",
        "\n",
        "\n"
      ]
    },
    {
      "cell_type": "code",
      "execution_count": 704,
      "metadata": {
        "id": "V6fWYUE9452-",
        "colab": {
          "base_uri": "https://localhost:8080/",
          "height": 0
        },
        "outputId": "6b902ee5-d62b-4a7a-a348-0a0a784dda64"
      },
      "outputs": [
        {
          "output_type": "execute_result",
          "data": {
            "text/plain": [
              "       Fecha entrega del Informe   Tipo de via  Numero de estacionamiento  \\\n",
              "count               19359.000000  19359.000000               19359.000000   \n",
              "mean                 2018.594452      1.948035                   0.691926   \n",
              "std                     1.526584      1.050185                  24.852638   \n",
              "min                  2014.000000     -1.000000                  -1.000000   \n",
              "25%                  2018.000000      1.000000                   0.000000   \n",
              "50%                  2019.000000      2.000000                   0.000000   \n",
              "75%                  2020.000000      3.000000                   1.000000   \n",
              "max                  2022.000000     10.000000                2424.000000   \n",
              "\n",
              "          Depositos       Latitud      Longitud  Numero de frentes  \\\n",
              "count  19359.000000  19359.000000  19359.000000       19359.000000   \n",
              "mean       0.199545    -11.403929    -76.868540           0.730926   \n",
              "std        2.323378      2.405346      7.173456           0.601742   \n",
              "min       -1.000000    -18.209200   -760.857900          -1.000000   \n",
              "25%        0.000000    -12.118300    -77.063000           0.000000   \n",
              "50%        0.000000    -12.081400    -77.019000           1.000000   \n",
              "75%        0.000000    -11.951200    -76.946900           1.000000   \n",
              "max      200.000000     -3.437000    -12.061300           3.000000   \n",
              "\n",
              "               Edad      Elevador  Area Terreno  Area Construccion  \\\n",
              "count  19359.000000  19359.000000  1.935900e+04       19359.000000   \n",
              "mean      14.781342     -0.995093  7.034578e+03         205.114399   \n",
              "std       39.362099      0.105273  1.078874e+05         543.558550   \n",
              "min       -1.000000     -1.000000 -1.000000e+00          -1.000000   \n",
              "25%        1.000000     -1.000000  1.612500e+01          72.025000   \n",
              "50%        6.000000     -1.000000  5.764000e+01         111.350000   \n",
              "75%       21.000000     -1.000000  2.000000e+02         217.890000   \n",
              "max     2018.000000      2.000000  7.571536e+06       42171.800000   \n",
              "\n",
              "       Valor comercial  \n",
              "count     1.935900e+04  \n",
              "mean      3.205846e+05  \n",
              "std       7.125359e+05  \n",
              "min       2.389000e+03  \n",
              "25%       1.025665e+05  \n",
              "50%       1.711750e+05  \n",
              "75%       3.115530e+05  \n",
              "max       3.350381e+07  "
            ],
            "text/html": [
              "\n",
              "  <div id=\"df-65aa9620-7c90-471e-9f5b-b1e20e5c00d1\">\n",
              "    <div class=\"colab-df-container\">\n",
              "      <div>\n",
              "<style scoped>\n",
              "    .dataframe tbody tr th:only-of-type {\n",
              "        vertical-align: middle;\n",
              "    }\n",
              "\n",
              "    .dataframe tbody tr th {\n",
              "        vertical-align: top;\n",
              "    }\n",
              "\n",
              "    .dataframe thead th {\n",
              "        text-align: right;\n",
              "    }\n",
              "</style>\n",
              "<table border=\"1\" class=\"dataframe\">\n",
              "  <thead>\n",
              "    <tr style=\"text-align: right;\">\n",
              "      <th></th>\n",
              "      <th>Fecha entrega del Informe</th>\n",
              "      <th>Tipo de via</th>\n",
              "      <th>Numero de estacionamiento</th>\n",
              "      <th>Depositos</th>\n",
              "      <th>Latitud</th>\n",
              "      <th>Longitud</th>\n",
              "      <th>Numero de frentes</th>\n",
              "      <th>Edad</th>\n",
              "      <th>Elevador</th>\n",
              "      <th>Area Terreno</th>\n",
              "      <th>Area Construccion</th>\n",
              "      <th>Valor comercial</th>\n",
              "    </tr>\n",
              "  </thead>\n",
              "  <tbody>\n",
              "    <tr>\n",
              "      <th>count</th>\n",
              "      <td>19359.000000</td>\n",
              "      <td>19359.000000</td>\n",
              "      <td>19359.000000</td>\n",
              "      <td>19359.000000</td>\n",
              "      <td>19359.000000</td>\n",
              "      <td>19359.000000</td>\n",
              "      <td>19359.000000</td>\n",
              "      <td>19359.000000</td>\n",
              "      <td>19359.000000</td>\n",
              "      <td>1.935900e+04</td>\n",
              "      <td>19359.000000</td>\n",
              "      <td>1.935900e+04</td>\n",
              "    </tr>\n",
              "    <tr>\n",
              "      <th>mean</th>\n",
              "      <td>2018.594452</td>\n",
              "      <td>1.948035</td>\n",
              "      <td>0.691926</td>\n",
              "      <td>0.199545</td>\n",
              "      <td>-11.403929</td>\n",
              "      <td>-76.868540</td>\n",
              "      <td>0.730926</td>\n",
              "      <td>14.781342</td>\n",
              "      <td>-0.995093</td>\n",
              "      <td>7.034578e+03</td>\n",
              "      <td>205.114399</td>\n",
              "      <td>3.205846e+05</td>\n",
              "    </tr>\n",
              "    <tr>\n",
              "      <th>std</th>\n",
              "      <td>1.526584</td>\n",
              "      <td>1.050185</td>\n",
              "      <td>24.852638</td>\n",
              "      <td>2.323378</td>\n",
              "      <td>2.405346</td>\n",
              "      <td>7.173456</td>\n",
              "      <td>0.601742</td>\n",
              "      <td>39.362099</td>\n",
              "      <td>0.105273</td>\n",
              "      <td>1.078874e+05</td>\n",
              "      <td>543.558550</td>\n",
              "      <td>7.125359e+05</td>\n",
              "    </tr>\n",
              "    <tr>\n",
              "      <th>min</th>\n",
              "      <td>2014.000000</td>\n",
              "      <td>-1.000000</td>\n",
              "      <td>-1.000000</td>\n",
              "      <td>-1.000000</td>\n",
              "      <td>-18.209200</td>\n",
              "      <td>-760.857900</td>\n",
              "      <td>-1.000000</td>\n",
              "      <td>-1.000000</td>\n",
              "      <td>-1.000000</td>\n",
              "      <td>-1.000000e+00</td>\n",
              "      <td>-1.000000</td>\n",
              "      <td>2.389000e+03</td>\n",
              "    </tr>\n",
              "    <tr>\n",
              "      <th>25%</th>\n",
              "      <td>2018.000000</td>\n",
              "      <td>1.000000</td>\n",
              "      <td>0.000000</td>\n",
              "      <td>0.000000</td>\n",
              "      <td>-12.118300</td>\n",
              "      <td>-77.063000</td>\n",
              "      <td>0.000000</td>\n",
              "      <td>1.000000</td>\n",
              "      <td>-1.000000</td>\n",
              "      <td>1.612500e+01</td>\n",
              "      <td>72.025000</td>\n",
              "      <td>1.025665e+05</td>\n",
              "    </tr>\n",
              "    <tr>\n",
              "      <th>50%</th>\n",
              "      <td>2019.000000</td>\n",
              "      <td>2.000000</td>\n",
              "      <td>0.000000</td>\n",
              "      <td>0.000000</td>\n",
              "      <td>-12.081400</td>\n",
              "      <td>-77.019000</td>\n",
              "      <td>1.000000</td>\n",
              "      <td>6.000000</td>\n",
              "      <td>-1.000000</td>\n",
              "      <td>5.764000e+01</td>\n",
              "      <td>111.350000</td>\n",
              "      <td>1.711750e+05</td>\n",
              "    </tr>\n",
              "    <tr>\n",
              "      <th>75%</th>\n",
              "      <td>2020.000000</td>\n",
              "      <td>3.000000</td>\n",
              "      <td>1.000000</td>\n",
              "      <td>0.000000</td>\n",
              "      <td>-11.951200</td>\n",
              "      <td>-76.946900</td>\n",
              "      <td>1.000000</td>\n",
              "      <td>21.000000</td>\n",
              "      <td>-1.000000</td>\n",
              "      <td>2.000000e+02</td>\n",
              "      <td>217.890000</td>\n",
              "      <td>3.115530e+05</td>\n",
              "    </tr>\n",
              "    <tr>\n",
              "      <th>max</th>\n",
              "      <td>2022.000000</td>\n",
              "      <td>10.000000</td>\n",
              "      <td>2424.000000</td>\n",
              "      <td>200.000000</td>\n",
              "      <td>-3.437000</td>\n",
              "      <td>-12.061300</td>\n",
              "      <td>3.000000</td>\n",
              "      <td>2018.000000</td>\n",
              "      <td>2.000000</td>\n",
              "      <td>7.571536e+06</td>\n",
              "      <td>42171.800000</td>\n",
              "      <td>3.350381e+07</td>\n",
              "    </tr>\n",
              "  </tbody>\n",
              "</table>\n",
              "</div>\n",
              "      <button class=\"colab-df-convert\" onclick=\"convertToInteractive('df-65aa9620-7c90-471e-9f5b-b1e20e5c00d1')\"\n",
              "              title=\"Convert this dataframe to an interactive table.\"\n",
              "              style=\"display:none;\">\n",
              "        \n",
              "  <svg xmlns=\"http://www.w3.org/2000/svg\" height=\"24px\"viewBox=\"0 0 24 24\"\n",
              "       width=\"24px\">\n",
              "    <path d=\"M0 0h24v24H0V0z\" fill=\"none\"/>\n",
              "    <path d=\"M18.56 5.44l.94 2.06.94-2.06 2.06-.94-2.06-.94-.94-2.06-.94 2.06-2.06.94zm-11 1L8.5 8.5l.94-2.06 2.06-.94-2.06-.94L8.5 2.5l-.94 2.06-2.06.94zm10 10l.94 2.06.94-2.06 2.06-.94-2.06-.94-.94-2.06-.94 2.06-2.06.94z\"/><path d=\"M17.41 7.96l-1.37-1.37c-.4-.4-.92-.59-1.43-.59-.52 0-1.04.2-1.43.59L10.3 9.45l-7.72 7.72c-.78.78-.78 2.05 0 2.83L4 21.41c.39.39.9.59 1.41.59.51 0 1.02-.2 1.41-.59l7.78-7.78 2.81-2.81c.8-.78.8-2.07 0-2.86zM5.41 20L4 18.59l7.72-7.72 1.47 1.35L5.41 20z\"/>\n",
              "  </svg>\n",
              "      </button>\n",
              "      \n",
              "  <style>\n",
              "    .colab-df-container {\n",
              "      display:flex;\n",
              "      flex-wrap:wrap;\n",
              "      gap: 12px;\n",
              "    }\n",
              "\n",
              "    .colab-df-convert {\n",
              "      background-color: #E8F0FE;\n",
              "      border: none;\n",
              "      border-radius: 50%;\n",
              "      cursor: pointer;\n",
              "      display: none;\n",
              "      fill: #1967D2;\n",
              "      height: 32px;\n",
              "      padding: 0 0 0 0;\n",
              "      width: 32px;\n",
              "    }\n",
              "\n",
              "    .colab-df-convert:hover {\n",
              "      background-color: #E2EBFA;\n",
              "      box-shadow: 0px 1px 2px rgba(60, 64, 67, 0.3), 0px 1px 3px 1px rgba(60, 64, 67, 0.15);\n",
              "      fill: #174EA6;\n",
              "    }\n",
              "\n",
              "    [theme=dark] .colab-df-convert {\n",
              "      background-color: #3B4455;\n",
              "      fill: #D2E3FC;\n",
              "    }\n",
              "\n",
              "    [theme=dark] .colab-df-convert:hover {\n",
              "      background-color: #434B5C;\n",
              "      box-shadow: 0px 1px 3px 1px rgba(0, 0, 0, 0.15);\n",
              "      filter: drop-shadow(0px 1px 2px rgba(0, 0, 0, 0.3));\n",
              "      fill: #FFFFFF;\n",
              "    }\n",
              "  </style>\n",
              "\n",
              "      <script>\n",
              "        const buttonEl =\n",
              "          document.querySelector('#df-65aa9620-7c90-471e-9f5b-b1e20e5c00d1 button.colab-df-convert');\n",
              "        buttonEl.style.display =\n",
              "          google.colab.kernel.accessAllowed ? 'block' : 'none';\n",
              "\n",
              "        async function convertToInteractive(key) {\n",
              "          const element = document.querySelector('#df-65aa9620-7c90-471e-9f5b-b1e20e5c00d1');\n",
              "          const dataTable =\n",
              "            await google.colab.kernel.invokeFunction('convertToInteractive',\n",
              "                                                     [key], {});\n",
              "          if (!dataTable) return;\n",
              "\n",
              "          const docLinkHtml = 'Like what you see? Visit the ' +\n",
              "            '<a target=\"_blank\" href=https://colab.research.google.com/notebooks/data_table.ipynb>data table notebook</a>'\n",
              "            + ' to learn more about interactive tables.';\n",
              "          element.innerHTML = '';\n",
              "          dataTable['output_type'] = 'display_data';\n",
              "          await google.colab.output.renderOutput(dataTable, element);\n",
              "          const docLink = document.createElement('div');\n",
              "          docLink.innerHTML = docLinkHtml;\n",
              "          element.appendChild(docLink);\n",
              "        }\n",
              "      </script>\n",
              "    </div>\n",
              "  </div>\n",
              "  "
            ]
          },
          "metadata": {},
          "execution_count": 704
        }
      ],
      "source": [
        "#Valores descriptivos de dataset\n",
        "df.describe()"
      ]
    },
    {
      "cell_type": "code",
      "execution_count": 705,
      "metadata": {
        "id": "3s4YJYHB5JNu",
        "colab": {
          "base_uri": "https://localhost:8080/"
        },
        "outputId": "31b75893-f981-4946-9bab-76c4c184107f"
      },
      "outputs": [
        {
          "output_type": "execute_result",
          "data": {
            "text/plain": [
              "(19359, 20)"
            ]
          },
          "metadata": {},
          "execution_count": 705
        }
      ],
      "source": [
        "#Numero de registros y valores a tomar en cuenta\n",
        "df.shape"
      ]
    },
    {
      "cell_type": "code",
      "execution_count": 706,
      "metadata": {
        "id": "NfA8uzia5aPY",
        "colab": {
          "base_uri": "https://localhost:8080/"
        },
        "outputId": "ea66e68d-b4a0-4d97-f6e2-d1f39b05bb51"
      },
      "outputs": [
        {
          "output_type": "execute_result",
          "data": {
            "text/plain": [
              "Fecha entrega del Informe      int64\n",
              "Tipo de via                    int64\n",
              "Piso                          object\n",
              "Departamento                  object\n",
              "Provincia                     object\n",
              "Distrito                      object\n",
              "Numero de estacionamiento      int64\n",
              "Depositos                      int64\n",
              "Latitud                      float64\n",
              "Longitud                     float64\n",
              "Categoria del bien            object\n",
              "Posicion                      object\n",
              "Numero de frentes              int64\n",
              "Edad                           int64\n",
              "Elevador                       int64\n",
              "Estado de conservacion        object\n",
              "Metodo Representado           object\n",
              "Area Terreno                 float64\n",
              "Area Construccion            float64\n",
              "Valor comercial              float64\n",
              "dtype: object"
            ]
          },
          "metadata": {},
          "execution_count": 706
        }
      ],
      "source": [
        "df.dtypes"
      ]
    },
    {
      "cell_type": "markdown",
      "metadata": {
        "id": "cV1f9_C8-EjQ"
      },
      "source": [
        "## Conteo de valores \n",
        "Numero de itereaciones por cada valor distinto en variables"
      ]
    },
    {
      "cell_type": "code",
      "execution_count": 707,
      "metadata": {
        "id": "6OOn0nx_6ptd",
        "colab": {
          "base_uri": "https://localhost:8080/"
        },
        "outputId": "330b05fa-657b-4c6f-dc67-b10a439b0c37"
      },
      "outputs": [
        {
          "output_type": "execute_result",
          "data": {
            "text/plain": [
              " 1     8884\n",
              " 3     5392\n",
              " 2     4108\n",
              " 4      526\n",
              " 5      420\n",
              " 9       20\n",
              " 7        4\n",
              "-1        2\n",
              " 10       2\n",
              " 6        1\n",
              "Name: Tipo de via, dtype: int64"
            ]
          },
          "metadata": {},
          "execution_count": 707
        }
      ],
      "source": [
        "df['Tipo de via'].value_counts()"
      ]
    },
    {
      "cell_type": "code",
      "execution_count": 708,
      "metadata": {
        "id": "lnsTcPX797Lp",
        "colab": {
          "base_uri": "https://localhost:8080/"
        },
        "outputId": "6b79b7d1-6aa5-453d-9844-a0de9d990b25"
      },
      "outputs": [
        {
          "output_type": "execute_result",
          "data": {
            "text/plain": [
              "1              5176\n",
              "9              3517\n",
              "6              3121\n",
              "5              1708\n",
              "3              1329\n",
              "EDIF 2         1025\n",
              "1ER PISO       1016\n",
              "tercer piso     895\n",
              "SEGUNDO         490\n",
              "4to             416\n",
              "7               390\n",
              "-1              276\n",
              "Name: Piso, dtype: int64"
            ]
          },
          "metadata": {},
          "execution_count": 708
        }
      ],
      "source": [
        "df['Piso'].value_counts()"
      ]
    },
    {
      "cell_type": "code",
      "execution_count": 709,
      "metadata": {
        "id": "PbDchqbY98qf",
        "colab": {
          "base_uri": "https://localhost:8080/"
        },
        "outputId": "94c6e922-8f81-40e0-9ccd-0db78aec16a4"
      },
      "outputs": [
        {
          "output_type": "execute_result",
          "data": {
            "text/plain": [
              "Lima             13420\n",
              "La Libertad        787\n",
              "Arequipa           644\n",
              "Piura              504\n",
              "Lambayeque         479\n",
              "Junin              473\n",
              "San Martin         445\n",
              "Huancavelica       441\n",
              "Callao             394\n",
              "Loreto             383\n",
              "ancash             282\n",
              "Cusco              254\n",
              "Ucayali            218\n",
              "Huanuco            157\n",
              "Cajamarca          132\n",
              "Tacna               88\n",
              "Puno                67\n",
              "Pasco               51\n",
              "Tumbes              50\n",
              "Ayacucho            46\n",
              "Apurimac            22\n",
              "Moquegua            11\n",
              "Madre de Dios        6\n",
              "Amazonas             5\n",
              "Name: Departamento, dtype: int64"
            ]
          },
          "metadata": {},
          "execution_count": 709
        }
      ],
      "source": [
        "df['Departamento'].value_counts()"
      ]
    },
    {
      "cell_type": "code",
      "execution_count": 710,
      "metadata": {
        "id": "YNVYjiUv9984",
        "colab": {
          "base_uri": "https://localhost:8080/"
        },
        "outputId": "1a4c18bf-5f78-4981-a5eb-b1e58ff1bcf1"
      },
      "outputs": [
        {
          "output_type": "execute_result",
          "data": {
            "text/plain": [
              "Bueno              8397\n",
              "No especificado    5227\n",
              "Regular            2146\n",
              "Muy bueno          1511\n",
              "En construccion    1453\n",
              "En proyecto         512\n",
              "Malo                113\n",
              "Name: Estado de conservacion, dtype: int64"
            ]
          },
          "metadata": {},
          "execution_count": 710
        }
      ],
      "source": [
        "df['Estado de conservacion'].value_counts()"
      ]
    },
    {
      "cell_type": "code",
      "execution_count": 711,
      "metadata": {
        "id": "noYnJyTN-ARI",
        "colab": {
          "base_uri": "https://localhost:8080/"
        },
        "outputId": "eefbf575-f9dc-452c-a943-30755c684646"
      },
      "outputs": [
        {
          "output_type": "execute_result",
          "data": {
            "text/plain": [
              "Lima                     12828\n",
              "Trujillo                   694\n",
              "Arequipa                   619\n",
              "Chiclayo                   425\n",
              "Prov Const del Callao      394\n",
              "                         ...  \n",
              "Camana                       1\n",
              "Tayacaja                     1\n",
              "Bagua                        1\n",
              "Jauja                        1\n",
              "Huari                        1\n",
              "Name: Provincia, Length: 113, dtype: int64"
            ]
          },
          "metadata": {},
          "execution_count": 711
        }
      ],
      "source": [
        "df['Provincia'].value_counts()"
      ]
    },
    {
      "cell_type": "code",
      "execution_count": 712,
      "metadata": {
        "id": "I45vcC5J-Br-",
        "colab": {
          "base_uri": "https://localhost:8080/"
        },
        "outputId": "a8f41de8-4b6b-417e-c97e-ddd38d40723c"
      },
      "outputs": [
        {
          "output_type": "execute_result",
          "data": {
            "text/plain": [
              "Departamento            9483\n",
              "Vivienda Unifamiliar    4835\n",
              "Local Comercial         2311\n",
              "Terreno Urbano          2221\n",
              "Oficina                  509\n",
              "Name: Categoria del bien, dtype: int64"
            ]
          },
          "metadata": {},
          "execution_count": 712
        }
      ],
      "source": [
        "df['Categoria del bien'].value_counts()"
      ]
    },
    {
      "cell_type": "code",
      "execution_count": 713,
      "metadata": {
        "id": "0WVkznLO-C-A",
        "colab": {
          "base_uri": "https://localhost:8080/"
        },
        "outputId": "4b5db23b-c968-47ac-fbe1-9b2238a11bce"
      },
      "outputs": [
        {
          "output_type": "execute_result",
          "data": {
            "text/plain": [
              "Comparacion de mercado (directo)      11631\n",
              "Costos o reposicion (directo)          7707\n",
              "Renta o capitalizacion (indirecto)       20\n",
              "No Espeficidado                           1\n",
              "Name: Metodo Representado, dtype: int64"
            ]
          },
          "metadata": {},
          "execution_count": 713
        }
      ],
      "source": [
        "df['Metodo Representado'].value_counts()"
      ]
    },
    {
      "cell_type": "code",
      "execution_count": 714,
      "metadata": {
        "id": "0_Gcb8ULQH7f",
        "colab": {
          "base_uri": "https://localhost:8080/"
        },
        "outputId": "31235904-e7cd-472d-de9a-621aa5ee6585"
      },
      "outputs": [
        {
          "output_type": "execute_result",
          "data": {
            "text/plain": [
              "-11.9278    152\n",
              "-11.9338     57\n",
              "-12.0792     54\n",
              "-12.0750     46\n",
              "-12.0895     46\n",
              "           ... \n",
              "-11.9812      1\n",
              "-3.7484       1\n",
              "-9.0924       1\n",
              "-14.0677      1\n",
              "-3.5571       1\n",
              "Name: Latitud, Length: 6953, dtype: int64"
            ]
          },
          "metadata": {},
          "execution_count": 714
        }
      ],
      "source": [
        "df['Latitud'].value_counts()"
      ]
    },
    {
      "cell_type": "code",
      "execution_count": 715,
      "metadata": {
        "id": "QjxlTsXoQrDb",
        "colab": {
          "base_uri": "https://localhost:8080/"
        },
        "outputId": "24d0749e-9450-4938-ca30-474a41eb6ab2"
      },
      "outputs": [
        {
          "output_type": "execute_result",
          "data": {
            "text/plain": [
              "-77.0572    156\n",
              "-77.0607     59\n",
              "-77.0290     51\n",
              "-77.0385     48\n",
              "-77.0600     45\n",
              "           ... \n",
              "-79.3385      1\n",
              "-77.1176      1\n",
              "-74.2189      1\n",
              "-71.5721      1\n",
              "-80.4424      1\n",
              "Name: Longitud, Length: 6753, dtype: int64"
            ]
          },
          "metadata": {},
          "execution_count": 715
        }
      ],
      "source": [
        "df['Longitud'].value_counts()"
      ]
    },
    {
      "cell_type": "markdown",
      "metadata": {
        "id": "54VNzzNX_UBf"
      },
      "source": [
        "#Direcciones especificas\n",
        "\n",
        "Se pretende utilizar la localización para agregar peso y valor a la funcion de calculo"
      ]
    },
    {
      "cell_type": "code",
      "execution_count": 716,
      "metadata": {
        "id": "WOS6MG67kSa-",
        "colab": {
          "base_uri": "https://localhost:8080/",
          "height": 450
        },
        "outputId": "44a1aa99-2a18-4cec-d9ab-14e6d35f9d80"
      },
      "outputs": [
        {
          "output_type": "error",
          "ename": "KeyboardInterrupt",
          "evalue": "ignored",
          "traceback": [
            "\u001b[0;31m---------------------------------------------------------------------------\u001b[0m",
            "\u001b[0;31mTypeError\u001b[0m                                 Traceback (most recent call last)",
            "\u001b[0;32m/usr/local/lib/python3.7/dist-packages/urllib3/connectionpool.py\u001b[0m in \u001b[0;36m_make_request\u001b[0;34m(self, conn, method, url, timeout, chunked, **httplib_request_kw)\u001b[0m\n\u001b[1;32m    376\u001b[0m             \u001b[0;32mtry\u001b[0m\u001b[0;34m:\u001b[0m  \u001b[0;31m# Python 2.7, use buffering of HTTP responses\u001b[0m\u001b[0;34m\u001b[0m\u001b[0;34m\u001b[0m\u001b[0m\n\u001b[0;32m--> 377\u001b[0;31m                 \u001b[0mhttplib_response\u001b[0m \u001b[0;34m=\u001b[0m \u001b[0mconn\u001b[0m\u001b[0;34m.\u001b[0m\u001b[0mgetresponse\u001b[0m\u001b[0;34m(\u001b[0m\u001b[0mbuffering\u001b[0m\u001b[0;34m=\u001b[0m\u001b[0;32mTrue\u001b[0m\u001b[0;34m)\u001b[0m\u001b[0;34m\u001b[0m\u001b[0;34m\u001b[0m\u001b[0m\n\u001b[0m\u001b[1;32m    378\u001b[0m             \u001b[0;32mexcept\u001b[0m \u001b[0mTypeError\u001b[0m\u001b[0;34m:\u001b[0m  \u001b[0;31m# Python 3\u001b[0m\u001b[0;34m\u001b[0m\u001b[0;34m\u001b[0m\u001b[0m\n",
            "\u001b[0;31mTypeError\u001b[0m: getresponse() got an unexpected keyword argument 'buffering'",
            "\nDuring handling of the above exception, another exception occurred:\n",
            "\u001b[0;31mKeyboardInterrupt\u001b[0m                         Traceback (most recent call last)",
            "\u001b[0;32m<ipython-input-716-09d675568771>\u001b[0m in \u001b[0;36m<module>\u001b[0;34m\u001b[0m\n\u001b[1;32m      3\u001b[0m \u001b[0;31m#Se recorren todos los valores para obtener su direccion\u001b[0m\u001b[0;34m\u001b[0m\u001b[0;34m\u001b[0m\u001b[0;34m\u001b[0m\u001b[0m\n\u001b[1;32m      4\u001b[0m \u001b[0;32mfor\u001b[0m \u001b[0mi\u001b[0m \u001b[0;32min\u001b[0m \u001b[0mrange\u001b[0m\u001b[0;34m(\u001b[0m\u001b[0mlen\u001b[0m\u001b[0;34m(\u001b[0m\u001b[0mdf\u001b[0m\u001b[0;34m)\u001b[0m\u001b[0;34m)\u001b[0m\u001b[0;34m:\u001b[0m\u001b[0;34m\u001b[0m\u001b[0;34m\u001b[0m\u001b[0m\n\u001b[0;32m----> 5\u001b[0;31m     \u001b[0mdirection\u001b[0m \u001b[0;34m=\u001b[0m \u001b[0mgeolocalizador\u001b[0m\u001b[0;34m.\u001b[0m\u001b[0mreverse\u001b[0m\u001b[0;34m(\u001b[0m\u001b[0mstr\u001b[0m\u001b[0;34m(\u001b[0m\u001b[0mdf\u001b[0m\u001b[0;34m.\u001b[0m\u001b[0mat\u001b[0m\u001b[0;34m[\u001b[0m\u001b[0mi\u001b[0m\u001b[0;34m,\u001b[0m\u001b[0;34m\"Latitud\"\u001b[0m\u001b[0;34m]\u001b[0m\u001b[0;34m)\u001b[0m \u001b[0;34m+\u001b[0m \u001b[0;34m','\u001b[0m \u001b[0;34m+\u001b[0m \u001b[0mstr\u001b[0m\u001b[0;34m(\u001b[0m\u001b[0mdf\u001b[0m\u001b[0;34m.\u001b[0m\u001b[0mat\u001b[0m\u001b[0;34m[\u001b[0m\u001b[0mi\u001b[0m\u001b[0;34m,\u001b[0m\u001b[0;34m\"Longitud\"\u001b[0m\u001b[0;34m]\u001b[0m\u001b[0;34m)\u001b[0m\u001b[0;34m)\u001b[0m\u001b[0;34m\u001b[0m\u001b[0;34m\u001b[0m\u001b[0m\n\u001b[0m\u001b[1;32m      6\u001b[0m \u001b[0;34m\u001b[0m\u001b[0m\n\u001b[1;32m      7\u001b[0m \u001b[0;34m\u001b[0m\u001b[0m\n",
            "\u001b[0;32m/usr/local/lib/python3.7/dist-packages/geopy/geocoders/nominatim.py\u001b[0m in \u001b[0;36mreverse\u001b[0;34m(self, query, exactly_one, timeout, language, addressdetails, zoom)\u001b[0m\n\u001b[1;32m    360\u001b[0m         \u001b[0mlogger\u001b[0m\u001b[0;34m.\u001b[0m\u001b[0mdebug\u001b[0m\u001b[0;34m(\u001b[0m\u001b[0;34m\"%s.reverse: %s\"\u001b[0m\u001b[0;34m,\u001b[0m \u001b[0mself\u001b[0m\u001b[0;34m.\u001b[0m\u001b[0m__class__\u001b[0m\u001b[0;34m.\u001b[0m\u001b[0m__name__\u001b[0m\u001b[0;34m,\u001b[0m \u001b[0murl\u001b[0m\u001b[0;34m)\u001b[0m\u001b[0;34m\u001b[0m\u001b[0;34m\u001b[0m\u001b[0m\n\u001b[1;32m    361\u001b[0m         \u001b[0mcallback\u001b[0m \u001b[0;34m=\u001b[0m \u001b[0mpartial\u001b[0m\u001b[0;34m(\u001b[0m\u001b[0mself\u001b[0m\u001b[0;34m.\u001b[0m\u001b[0m_parse_json\u001b[0m\u001b[0;34m,\u001b[0m \u001b[0mexactly_one\u001b[0m\u001b[0;34m=\u001b[0m\u001b[0mexactly_one\u001b[0m\u001b[0;34m)\u001b[0m\u001b[0;34m\u001b[0m\u001b[0;34m\u001b[0m\u001b[0m\n\u001b[0;32m--> 362\u001b[0;31m         \u001b[0;32mreturn\u001b[0m \u001b[0mself\u001b[0m\u001b[0;34m.\u001b[0m\u001b[0m_call_geocoder\u001b[0m\u001b[0;34m(\u001b[0m\u001b[0murl\u001b[0m\u001b[0;34m,\u001b[0m \u001b[0mcallback\u001b[0m\u001b[0;34m,\u001b[0m \u001b[0mtimeout\u001b[0m\u001b[0;34m=\u001b[0m\u001b[0mtimeout\u001b[0m\u001b[0;34m)\u001b[0m\u001b[0;34m\u001b[0m\u001b[0;34m\u001b[0m\u001b[0m\n\u001b[0m\u001b[1;32m    363\u001b[0m \u001b[0;34m\u001b[0m\u001b[0m\n\u001b[1;32m    364\u001b[0m     \u001b[0;32mdef\u001b[0m \u001b[0m_parse_code\u001b[0m\u001b[0;34m(\u001b[0m\u001b[0mself\u001b[0m\u001b[0;34m,\u001b[0m \u001b[0mplace\u001b[0m\u001b[0;34m)\u001b[0m\u001b[0;34m:\u001b[0m\u001b[0;34m\u001b[0m\u001b[0;34m\u001b[0m\u001b[0m\n",
            "\u001b[0;32m/usr/local/lib/python3.7/dist-packages/geopy/geocoders/base.py\u001b[0m in \u001b[0;36m_call_geocoder\u001b[0;34m(self, url, callback, timeout, is_json, headers)\u001b[0m\n\u001b[1;32m    366\u001b[0m         \u001b[0;32mtry\u001b[0m\u001b[0;34m:\u001b[0m\u001b[0;34m\u001b[0m\u001b[0;34m\u001b[0m\u001b[0m\n\u001b[1;32m    367\u001b[0m             \u001b[0;32mif\u001b[0m \u001b[0mis_json\u001b[0m\u001b[0;34m:\u001b[0m\u001b[0;34m\u001b[0m\u001b[0;34m\u001b[0m\u001b[0m\n\u001b[0;32m--> 368\u001b[0;31m                 \u001b[0mresult\u001b[0m \u001b[0;34m=\u001b[0m \u001b[0mself\u001b[0m\u001b[0;34m.\u001b[0m\u001b[0madapter\u001b[0m\u001b[0;34m.\u001b[0m\u001b[0mget_json\u001b[0m\u001b[0;34m(\u001b[0m\u001b[0murl\u001b[0m\u001b[0;34m,\u001b[0m \u001b[0mtimeout\u001b[0m\u001b[0;34m=\u001b[0m\u001b[0mtimeout\u001b[0m\u001b[0;34m,\u001b[0m \u001b[0mheaders\u001b[0m\u001b[0;34m=\u001b[0m\u001b[0mreq_headers\u001b[0m\u001b[0;34m)\u001b[0m\u001b[0;34m\u001b[0m\u001b[0;34m\u001b[0m\u001b[0m\n\u001b[0m\u001b[1;32m    369\u001b[0m             \u001b[0;32melse\u001b[0m\u001b[0;34m:\u001b[0m\u001b[0;34m\u001b[0m\u001b[0;34m\u001b[0m\u001b[0m\n\u001b[1;32m    370\u001b[0m                 \u001b[0mresult\u001b[0m \u001b[0;34m=\u001b[0m \u001b[0mself\u001b[0m\u001b[0;34m.\u001b[0m\u001b[0madapter\u001b[0m\u001b[0;34m.\u001b[0m\u001b[0mget_text\u001b[0m\u001b[0;34m(\u001b[0m\u001b[0murl\u001b[0m\u001b[0;34m,\u001b[0m \u001b[0mtimeout\u001b[0m\u001b[0;34m=\u001b[0m\u001b[0mtimeout\u001b[0m\u001b[0;34m,\u001b[0m \u001b[0mheaders\u001b[0m\u001b[0;34m=\u001b[0m\u001b[0mreq_headers\u001b[0m\u001b[0;34m)\u001b[0m\u001b[0;34m\u001b[0m\u001b[0;34m\u001b[0m\u001b[0m\n",
            "\u001b[0;32m/usr/local/lib/python3.7/dist-packages/geopy/adapters.py\u001b[0m in \u001b[0;36mget_json\u001b[0;34m(self, url, timeout, headers)\u001b[0m\n\u001b[1;32m    436\u001b[0m \u001b[0;34m\u001b[0m\u001b[0m\n\u001b[1;32m    437\u001b[0m     \u001b[0;32mdef\u001b[0m \u001b[0mget_json\u001b[0m\u001b[0;34m(\u001b[0m\u001b[0mself\u001b[0m\u001b[0;34m,\u001b[0m \u001b[0murl\u001b[0m\u001b[0;34m,\u001b[0m \u001b[0;34m*\u001b[0m\u001b[0;34m,\u001b[0m \u001b[0mtimeout\u001b[0m\u001b[0;34m,\u001b[0m \u001b[0mheaders\u001b[0m\u001b[0;34m)\u001b[0m\u001b[0;34m:\u001b[0m\u001b[0;34m\u001b[0m\u001b[0;34m\u001b[0m\u001b[0m\n\u001b[0;32m--> 438\u001b[0;31m         \u001b[0mresp\u001b[0m \u001b[0;34m=\u001b[0m \u001b[0mself\u001b[0m\u001b[0;34m.\u001b[0m\u001b[0m_request\u001b[0m\u001b[0;34m(\u001b[0m\u001b[0murl\u001b[0m\u001b[0;34m,\u001b[0m \u001b[0mtimeout\u001b[0m\u001b[0;34m=\u001b[0m\u001b[0mtimeout\u001b[0m\u001b[0;34m,\u001b[0m \u001b[0mheaders\u001b[0m\u001b[0;34m=\u001b[0m\u001b[0mheaders\u001b[0m\u001b[0;34m)\u001b[0m\u001b[0;34m\u001b[0m\u001b[0;34m\u001b[0m\u001b[0m\n\u001b[0m\u001b[1;32m    439\u001b[0m         \u001b[0;32mtry\u001b[0m\u001b[0;34m:\u001b[0m\u001b[0;34m\u001b[0m\u001b[0;34m\u001b[0m\u001b[0m\n\u001b[1;32m    440\u001b[0m             \u001b[0;32mreturn\u001b[0m \u001b[0mresp\u001b[0m\u001b[0;34m.\u001b[0m\u001b[0mjson\u001b[0m\u001b[0;34m(\u001b[0m\u001b[0;34m)\u001b[0m\u001b[0;34m\u001b[0m\u001b[0;34m\u001b[0m\u001b[0m\n",
            "\u001b[0;32m/usr/local/lib/python3.7/dist-packages/geopy/adapters.py\u001b[0m in \u001b[0;36m_request\u001b[0;34m(self, url, timeout, headers)\u001b[0m\n\u001b[1;32m    446\u001b[0m     \u001b[0;32mdef\u001b[0m \u001b[0m_request\u001b[0m\u001b[0;34m(\u001b[0m\u001b[0mself\u001b[0m\u001b[0;34m,\u001b[0m \u001b[0murl\u001b[0m\u001b[0;34m,\u001b[0m \u001b[0;34m*\u001b[0m\u001b[0;34m,\u001b[0m \u001b[0mtimeout\u001b[0m\u001b[0;34m,\u001b[0m \u001b[0mheaders\u001b[0m\u001b[0;34m)\u001b[0m\u001b[0;34m:\u001b[0m\u001b[0;34m\u001b[0m\u001b[0;34m\u001b[0m\u001b[0m\n\u001b[1;32m    447\u001b[0m         \u001b[0;32mtry\u001b[0m\u001b[0;34m:\u001b[0m\u001b[0;34m\u001b[0m\u001b[0;34m\u001b[0m\u001b[0m\n\u001b[0;32m--> 448\u001b[0;31m             \u001b[0mresp\u001b[0m \u001b[0;34m=\u001b[0m \u001b[0mself\u001b[0m\u001b[0;34m.\u001b[0m\u001b[0msession\u001b[0m\u001b[0;34m.\u001b[0m\u001b[0mget\u001b[0m\u001b[0;34m(\u001b[0m\u001b[0murl\u001b[0m\u001b[0;34m,\u001b[0m \u001b[0mtimeout\u001b[0m\u001b[0;34m=\u001b[0m\u001b[0mtimeout\u001b[0m\u001b[0;34m,\u001b[0m \u001b[0mheaders\u001b[0m\u001b[0;34m=\u001b[0m\u001b[0mheaders\u001b[0m\u001b[0;34m)\u001b[0m\u001b[0;34m\u001b[0m\u001b[0;34m\u001b[0m\u001b[0m\n\u001b[0m\u001b[1;32m    449\u001b[0m         \u001b[0;32mexcept\u001b[0m \u001b[0mException\u001b[0m \u001b[0;32mas\u001b[0m \u001b[0merror\u001b[0m\u001b[0;34m:\u001b[0m\u001b[0;34m\u001b[0m\u001b[0;34m\u001b[0m\u001b[0m\n\u001b[1;32m    450\u001b[0m             \u001b[0mmessage\u001b[0m \u001b[0;34m=\u001b[0m \u001b[0mstr\u001b[0m\u001b[0;34m(\u001b[0m\u001b[0merror\u001b[0m\u001b[0;34m)\u001b[0m\u001b[0;34m\u001b[0m\u001b[0;34m\u001b[0m\u001b[0m\n",
            "\u001b[0;32m/usr/local/lib/python3.7/dist-packages/requests/sessions.py\u001b[0m in \u001b[0;36mget\u001b[0;34m(self, url, **kwargs)\u001b[0m\n\u001b[1;32m    541\u001b[0m \u001b[0;34m\u001b[0m\u001b[0m\n\u001b[1;32m    542\u001b[0m         \u001b[0mkwargs\u001b[0m\u001b[0;34m.\u001b[0m\u001b[0msetdefault\u001b[0m\u001b[0;34m(\u001b[0m\u001b[0;34m'allow_redirects'\u001b[0m\u001b[0;34m,\u001b[0m \u001b[0;32mTrue\u001b[0m\u001b[0;34m)\u001b[0m\u001b[0;34m\u001b[0m\u001b[0;34m\u001b[0m\u001b[0m\n\u001b[0;32m--> 543\u001b[0;31m         \u001b[0;32mreturn\u001b[0m \u001b[0mself\u001b[0m\u001b[0;34m.\u001b[0m\u001b[0mrequest\u001b[0m\u001b[0;34m(\u001b[0m\u001b[0;34m'GET'\u001b[0m\u001b[0;34m,\u001b[0m \u001b[0murl\u001b[0m\u001b[0;34m,\u001b[0m \u001b[0;34m**\u001b[0m\u001b[0mkwargs\u001b[0m\u001b[0;34m)\u001b[0m\u001b[0;34m\u001b[0m\u001b[0;34m\u001b[0m\u001b[0m\n\u001b[0m\u001b[1;32m    544\u001b[0m \u001b[0;34m\u001b[0m\u001b[0m\n\u001b[1;32m    545\u001b[0m     \u001b[0;32mdef\u001b[0m \u001b[0moptions\u001b[0m\u001b[0;34m(\u001b[0m\u001b[0mself\u001b[0m\u001b[0;34m,\u001b[0m \u001b[0murl\u001b[0m\u001b[0;34m,\u001b[0m \u001b[0;34m**\u001b[0m\u001b[0mkwargs\u001b[0m\u001b[0;34m)\u001b[0m\u001b[0;34m:\u001b[0m\u001b[0;34m\u001b[0m\u001b[0;34m\u001b[0m\u001b[0m\n",
            "\u001b[0;32m/usr/local/lib/python3.7/dist-packages/requests/sessions.py\u001b[0m in \u001b[0;36mrequest\u001b[0;34m(self, method, url, params, data, headers, cookies, files, auth, timeout, allow_redirects, proxies, hooks, stream, verify, cert, json)\u001b[0m\n\u001b[1;32m    528\u001b[0m         }\n\u001b[1;32m    529\u001b[0m         \u001b[0msend_kwargs\u001b[0m\u001b[0;34m.\u001b[0m\u001b[0mupdate\u001b[0m\u001b[0;34m(\u001b[0m\u001b[0msettings\u001b[0m\u001b[0;34m)\u001b[0m\u001b[0;34m\u001b[0m\u001b[0;34m\u001b[0m\u001b[0m\n\u001b[0;32m--> 530\u001b[0;31m         \u001b[0mresp\u001b[0m \u001b[0;34m=\u001b[0m \u001b[0mself\u001b[0m\u001b[0;34m.\u001b[0m\u001b[0msend\u001b[0m\u001b[0;34m(\u001b[0m\u001b[0mprep\u001b[0m\u001b[0;34m,\u001b[0m \u001b[0;34m**\u001b[0m\u001b[0msend_kwargs\u001b[0m\u001b[0;34m)\u001b[0m\u001b[0;34m\u001b[0m\u001b[0;34m\u001b[0m\u001b[0m\n\u001b[0m\u001b[1;32m    531\u001b[0m \u001b[0;34m\u001b[0m\u001b[0m\n\u001b[1;32m    532\u001b[0m         \u001b[0;32mreturn\u001b[0m \u001b[0mresp\u001b[0m\u001b[0;34m\u001b[0m\u001b[0;34m\u001b[0m\u001b[0m\n",
            "\u001b[0;32m/usr/local/lib/python3.7/dist-packages/requests/sessions.py\u001b[0m in \u001b[0;36msend\u001b[0;34m(self, request, **kwargs)\u001b[0m\n\u001b[1;32m    641\u001b[0m \u001b[0;34m\u001b[0m\u001b[0m\n\u001b[1;32m    642\u001b[0m         \u001b[0;31m# Send the request\u001b[0m\u001b[0;34m\u001b[0m\u001b[0;34m\u001b[0m\u001b[0;34m\u001b[0m\u001b[0m\n\u001b[0;32m--> 643\u001b[0;31m         \u001b[0mr\u001b[0m \u001b[0;34m=\u001b[0m \u001b[0madapter\u001b[0m\u001b[0;34m.\u001b[0m\u001b[0msend\u001b[0m\u001b[0;34m(\u001b[0m\u001b[0mrequest\u001b[0m\u001b[0;34m,\u001b[0m \u001b[0;34m**\u001b[0m\u001b[0mkwargs\u001b[0m\u001b[0;34m)\u001b[0m\u001b[0;34m\u001b[0m\u001b[0;34m\u001b[0m\u001b[0m\n\u001b[0m\u001b[1;32m    644\u001b[0m \u001b[0;34m\u001b[0m\u001b[0m\n\u001b[1;32m    645\u001b[0m         \u001b[0;31m# Total elapsed time of the request (approximately)\u001b[0m\u001b[0;34m\u001b[0m\u001b[0;34m\u001b[0m\u001b[0;34m\u001b[0m\u001b[0m\n",
            "\u001b[0;32m/usr/local/lib/python3.7/dist-packages/requests/adapters.py\u001b[0m in \u001b[0;36msend\u001b[0;34m(self, request, stream, timeout, verify, cert, proxies)\u001b[0m\n\u001b[1;32m    447\u001b[0m                     \u001b[0mdecode_content\u001b[0m\u001b[0;34m=\u001b[0m\u001b[0;32mFalse\u001b[0m\u001b[0;34m,\u001b[0m\u001b[0;34m\u001b[0m\u001b[0;34m\u001b[0m\u001b[0m\n\u001b[1;32m    448\u001b[0m                     \u001b[0mretries\u001b[0m\u001b[0;34m=\u001b[0m\u001b[0mself\u001b[0m\u001b[0;34m.\u001b[0m\u001b[0mmax_retries\u001b[0m\u001b[0;34m,\u001b[0m\u001b[0;34m\u001b[0m\u001b[0;34m\u001b[0m\u001b[0m\n\u001b[0;32m--> 449\u001b[0;31m                     \u001b[0mtimeout\u001b[0m\u001b[0;34m=\u001b[0m\u001b[0mtimeout\u001b[0m\u001b[0;34m\u001b[0m\u001b[0;34m\u001b[0m\u001b[0m\n\u001b[0m\u001b[1;32m    450\u001b[0m                 )\n\u001b[1;32m    451\u001b[0m \u001b[0;34m\u001b[0m\u001b[0m\n",
            "\u001b[0;32m/usr/local/lib/python3.7/dist-packages/urllib3/connectionpool.py\u001b[0m in \u001b[0;36murlopen\u001b[0;34m(self, method, url, body, headers, retries, redirect, assert_same_host, timeout, pool_timeout, release_conn, chunked, body_pos, **response_kw)\u001b[0m\n\u001b[1;32m    598\u001b[0m                                                   \u001b[0mtimeout\u001b[0m\u001b[0;34m=\u001b[0m\u001b[0mtimeout_obj\u001b[0m\u001b[0;34m,\u001b[0m\u001b[0;34m\u001b[0m\u001b[0;34m\u001b[0m\u001b[0m\n\u001b[1;32m    599\u001b[0m                                                   \u001b[0mbody\u001b[0m\u001b[0;34m=\u001b[0m\u001b[0mbody\u001b[0m\u001b[0;34m,\u001b[0m \u001b[0mheaders\u001b[0m\u001b[0;34m=\u001b[0m\u001b[0mheaders\u001b[0m\u001b[0;34m,\u001b[0m\u001b[0;34m\u001b[0m\u001b[0;34m\u001b[0m\u001b[0m\n\u001b[0;32m--> 600\u001b[0;31m                                                   chunked=chunked)\n\u001b[0m\u001b[1;32m    601\u001b[0m \u001b[0;34m\u001b[0m\u001b[0m\n\u001b[1;32m    602\u001b[0m             \u001b[0;31m# If we're going to release the connection in ``finally:``, then\u001b[0m\u001b[0;34m\u001b[0m\u001b[0;34m\u001b[0m\u001b[0;34m\u001b[0m\u001b[0m\n",
            "\u001b[0;32m/usr/local/lib/python3.7/dist-packages/urllib3/connectionpool.py\u001b[0m in \u001b[0;36m_make_request\u001b[0;34m(self, conn, method, url, timeout, chunked, **httplib_request_kw)\u001b[0m\n\u001b[1;32m    378\u001b[0m             \u001b[0;32mexcept\u001b[0m \u001b[0mTypeError\u001b[0m\u001b[0;34m:\u001b[0m  \u001b[0;31m# Python 3\u001b[0m\u001b[0;34m\u001b[0m\u001b[0;34m\u001b[0m\u001b[0m\n\u001b[1;32m    379\u001b[0m                 \u001b[0;32mtry\u001b[0m\u001b[0;34m:\u001b[0m\u001b[0;34m\u001b[0m\u001b[0;34m\u001b[0m\u001b[0m\n\u001b[0;32m--> 380\u001b[0;31m                     \u001b[0mhttplib_response\u001b[0m \u001b[0;34m=\u001b[0m \u001b[0mconn\u001b[0m\u001b[0;34m.\u001b[0m\u001b[0mgetresponse\u001b[0m\u001b[0;34m(\u001b[0m\u001b[0;34m)\u001b[0m\u001b[0;34m\u001b[0m\u001b[0;34m\u001b[0m\u001b[0m\n\u001b[0m\u001b[1;32m    381\u001b[0m                 \u001b[0;32mexcept\u001b[0m \u001b[0mException\u001b[0m \u001b[0;32mas\u001b[0m \u001b[0me\u001b[0m\u001b[0;34m:\u001b[0m\u001b[0;34m\u001b[0m\u001b[0;34m\u001b[0m\u001b[0m\n\u001b[1;32m    382\u001b[0m                     \u001b[0;31m# Remove the TypeError from the exception chain in Python 3;\u001b[0m\u001b[0;34m\u001b[0m\u001b[0;34m\u001b[0m\u001b[0;34m\u001b[0m\u001b[0m\n",
            "\u001b[0;32m/usr/lib/python3.7/http/client.py\u001b[0m in \u001b[0;36mgetresponse\u001b[0;34m(self)\u001b[0m\n\u001b[1;32m   1371\u001b[0m         \u001b[0;32mtry\u001b[0m\u001b[0;34m:\u001b[0m\u001b[0;34m\u001b[0m\u001b[0;34m\u001b[0m\u001b[0m\n\u001b[1;32m   1372\u001b[0m             \u001b[0;32mtry\u001b[0m\u001b[0;34m:\u001b[0m\u001b[0;34m\u001b[0m\u001b[0;34m\u001b[0m\u001b[0m\n\u001b[0;32m-> 1373\u001b[0;31m                 \u001b[0mresponse\u001b[0m\u001b[0;34m.\u001b[0m\u001b[0mbegin\u001b[0m\u001b[0;34m(\u001b[0m\u001b[0;34m)\u001b[0m\u001b[0;34m\u001b[0m\u001b[0;34m\u001b[0m\u001b[0m\n\u001b[0m\u001b[1;32m   1374\u001b[0m             \u001b[0;32mexcept\u001b[0m \u001b[0mConnectionError\u001b[0m\u001b[0;34m:\u001b[0m\u001b[0;34m\u001b[0m\u001b[0;34m\u001b[0m\u001b[0m\n\u001b[1;32m   1375\u001b[0m                 \u001b[0mself\u001b[0m\u001b[0;34m.\u001b[0m\u001b[0mclose\u001b[0m\u001b[0;34m(\u001b[0m\u001b[0;34m)\u001b[0m\u001b[0;34m\u001b[0m\u001b[0;34m\u001b[0m\u001b[0m\n",
            "\u001b[0;32m/usr/lib/python3.7/http/client.py\u001b[0m in \u001b[0;36mbegin\u001b[0;34m(self)\u001b[0m\n\u001b[1;32m    317\u001b[0m         \u001b[0;31m# read until we get a non-100 response\u001b[0m\u001b[0;34m\u001b[0m\u001b[0;34m\u001b[0m\u001b[0;34m\u001b[0m\u001b[0m\n\u001b[1;32m    318\u001b[0m         \u001b[0;32mwhile\u001b[0m \u001b[0;32mTrue\u001b[0m\u001b[0;34m:\u001b[0m\u001b[0;34m\u001b[0m\u001b[0;34m\u001b[0m\u001b[0m\n\u001b[0;32m--> 319\u001b[0;31m             \u001b[0mversion\u001b[0m\u001b[0;34m,\u001b[0m \u001b[0mstatus\u001b[0m\u001b[0;34m,\u001b[0m \u001b[0mreason\u001b[0m \u001b[0;34m=\u001b[0m \u001b[0mself\u001b[0m\u001b[0;34m.\u001b[0m\u001b[0m_read_status\u001b[0m\u001b[0;34m(\u001b[0m\u001b[0;34m)\u001b[0m\u001b[0;34m\u001b[0m\u001b[0;34m\u001b[0m\u001b[0m\n\u001b[0m\u001b[1;32m    320\u001b[0m             \u001b[0;32mif\u001b[0m \u001b[0mstatus\u001b[0m \u001b[0;34m!=\u001b[0m \u001b[0mCONTINUE\u001b[0m\u001b[0;34m:\u001b[0m\u001b[0;34m\u001b[0m\u001b[0;34m\u001b[0m\u001b[0m\n\u001b[1;32m    321\u001b[0m                 \u001b[0;32mbreak\u001b[0m\u001b[0;34m\u001b[0m\u001b[0;34m\u001b[0m\u001b[0m\n",
            "\u001b[0;32m/usr/lib/python3.7/http/client.py\u001b[0m in \u001b[0;36m_read_status\u001b[0;34m(self)\u001b[0m\n\u001b[1;32m    278\u001b[0m \u001b[0;34m\u001b[0m\u001b[0m\n\u001b[1;32m    279\u001b[0m     \u001b[0;32mdef\u001b[0m \u001b[0m_read_status\u001b[0m\u001b[0;34m(\u001b[0m\u001b[0mself\u001b[0m\u001b[0;34m)\u001b[0m\u001b[0;34m:\u001b[0m\u001b[0;34m\u001b[0m\u001b[0;34m\u001b[0m\u001b[0m\n\u001b[0;32m--> 280\u001b[0;31m         \u001b[0mline\u001b[0m \u001b[0;34m=\u001b[0m \u001b[0mstr\u001b[0m\u001b[0;34m(\u001b[0m\u001b[0mself\u001b[0m\u001b[0;34m.\u001b[0m\u001b[0mfp\u001b[0m\u001b[0;34m.\u001b[0m\u001b[0mreadline\u001b[0m\u001b[0;34m(\u001b[0m\u001b[0m_MAXLINE\u001b[0m \u001b[0;34m+\u001b[0m \u001b[0;36m1\u001b[0m\u001b[0;34m)\u001b[0m\u001b[0;34m,\u001b[0m \u001b[0;34m\"iso-8859-1\"\u001b[0m\u001b[0;34m)\u001b[0m\u001b[0;34m\u001b[0m\u001b[0;34m\u001b[0m\u001b[0m\n\u001b[0m\u001b[1;32m    281\u001b[0m         \u001b[0;32mif\u001b[0m \u001b[0mlen\u001b[0m\u001b[0;34m(\u001b[0m\u001b[0mline\u001b[0m\u001b[0;34m)\u001b[0m \u001b[0;34m>\u001b[0m \u001b[0m_MAXLINE\u001b[0m\u001b[0;34m:\u001b[0m\u001b[0;34m\u001b[0m\u001b[0;34m\u001b[0m\u001b[0m\n\u001b[1;32m    282\u001b[0m             \u001b[0;32mraise\u001b[0m \u001b[0mLineTooLong\u001b[0m\u001b[0;34m(\u001b[0m\u001b[0;34m\"status line\"\u001b[0m\u001b[0;34m)\u001b[0m\u001b[0;34m\u001b[0m\u001b[0;34m\u001b[0m\u001b[0m\n",
            "\u001b[0;32m/usr/lib/python3.7/socket.py\u001b[0m in \u001b[0;36mreadinto\u001b[0;34m(self, b)\u001b[0m\n\u001b[1;32m    587\u001b[0m         \u001b[0;32mwhile\u001b[0m \u001b[0;32mTrue\u001b[0m\u001b[0;34m:\u001b[0m\u001b[0;34m\u001b[0m\u001b[0;34m\u001b[0m\u001b[0m\n\u001b[1;32m    588\u001b[0m             \u001b[0;32mtry\u001b[0m\u001b[0;34m:\u001b[0m\u001b[0;34m\u001b[0m\u001b[0;34m\u001b[0m\u001b[0m\n\u001b[0;32m--> 589\u001b[0;31m                 \u001b[0;32mreturn\u001b[0m \u001b[0mself\u001b[0m\u001b[0;34m.\u001b[0m\u001b[0m_sock\u001b[0m\u001b[0;34m.\u001b[0m\u001b[0mrecv_into\u001b[0m\u001b[0;34m(\u001b[0m\u001b[0mb\u001b[0m\u001b[0;34m)\u001b[0m\u001b[0;34m\u001b[0m\u001b[0;34m\u001b[0m\u001b[0m\n\u001b[0m\u001b[1;32m    590\u001b[0m             \u001b[0;32mexcept\u001b[0m \u001b[0mtimeout\u001b[0m\u001b[0;34m:\u001b[0m\u001b[0;34m\u001b[0m\u001b[0;34m\u001b[0m\u001b[0m\n\u001b[1;32m    591\u001b[0m                 \u001b[0mself\u001b[0m\u001b[0;34m.\u001b[0m\u001b[0m_timeout_occurred\u001b[0m \u001b[0;34m=\u001b[0m \u001b[0;32mTrue\u001b[0m\u001b[0;34m\u001b[0m\u001b[0;34m\u001b[0m\u001b[0m\n",
            "\u001b[0;32m/usr/lib/python3.7/ssl.py\u001b[0m in \u001b[0;36mrecv_into\u001b[0;34m(self, buffer, nbytes, flags)\u001b[0m\n\u001b[1;32m   1069\u001b[0m                   \u001b[0;34m\"non-zero flags not allowed in calls to recv_into() on %s\"\u001b[0m \u001b[0;34m%\u001b[0m\u001b[0;34m\u001b[0m\u001b[0;34m\u001b[0m\u001b[0m\n\u001b[1;32m   1070\u001b[0m                   self.__class__)\n\u001b[0;32m-> 1071\u001b[0;31m             \u001b[0;32mreturn\u001b[0m \u001b[0mself\u001b[0m\u001b[0;34m.\u001b[0m\u001b[0mread\u001b[0m\u001b[0;34m(\u001b[0m\u001b[0mnbytes\u001b[0m\u001b[0;34m,\u001b[0m \u001b[0mbuffer\u001b[0m\u001b[0;34m)\u001b[0m\u001b[0;34m\u001b[0m\u001b[0;34m\u001b[0m\u001b[0m\n\u001b[0m\u001b[1;32m   1072\u001b[0m         \u001b[0;32melse\u001b[0m\u001b[0;34m:\u001b[0m\u001b[0;34m\u001b[0m\u001b[0;34m\u001b[0m\u001b[0m\n\u001b[1;32m   1073\u001b[0m             \u001b[0;32mreturn\u001b[0m \u001b[0msuper\u001b[0m\u001b[0;34m(\u001b[0m\u001b[0;34m)\u001b[0m\u001b[0;34m.\u001b[0m\u001b[0mrecv_into\u001b[0m\u001b[0;34m(\u001b[0m\u001b[0mbuffer\u001b[0m\u001b[0;34m,\u001b[0m \u001b[0mnbytes\u001b[0m\u001b[0;34m,\u001b[0m \u001b[0mflags\u001b[0m\u001b[0;34m)\u001b[0m\u001b[0;34m\u001b[0m\u001b[0;34m\u001b[0m\u001b[0m\n",
            "\u001b[0;32m/usr/lib/python3.7/ssl.py\u001b[0m in \u001b[0;36mread\u001b[0;34m(self, len, buffer)\u001b[0m\n\u001b[1;32m    927\u001b[0m         \u001b[0;32mtry\u001b[0m\u001b[0;34m:\u001b[0m\u001b[0;34m\u001b[0m\u001b[0;34m\u001b[0m\u001b[0m\n\u001b[1;32m    928\u001b[0m             \u001b[0;32mif\u001b[0m \u001b[0mbuffer\u001b[0m \u001b[0;32mis\u001b[0m \u001b[0;32mnot\u001b[0m \u001b[0;32mNone\u001b[0m\u001b[0;34m:\u001b[0m\u001b[0;34m\u001b[0m\u001b[0;34m\u001b[0m\u001b[0m\n\u001b[0;32m--> 929\u001b[0;31m                 \u001b[0;32mreturn\u001b[0m \u001b[0mself\u001b[0m\u001b[0;34m.\u001b[0m\u001b[0m_sslobj\u001b[0m\u001b[0;34m.\u001b[0m\u001b[0mread\u001b[0m\u001b[0;34m(\u001b[0m\u001b[0mlen\u001b[0m\u001b[0;34m,\u001b[0m \u001b[0mbuffer\u001b[0m\u001b[0;34m)\u001b[0m\u001b[0;34m\u001b[0m\u001b[0;34m\u001b[0m\u001b[0m\n\u001b[0m\u001b[1;32m    930\u001b[0m             \u001b[0;32melse\u001b[0m\u001b[0;34m:\u001b[0m\u001b[0;34m\u001b[0m\u001b[0;34m\u001b[0m\u001b[0m\n\u001b[1;32m    931\u001b[0m                 \u001b[0;32mreturn\u001b[0m \u001b[0mself\u001b[0m\u001b[0;34m.\u001b[0m\u001b[0m_sslobj\u001b[0m\u001b[0;34m.\u001b[0m\u001b[0mread\u001b[0m\u001b[0;34m(\u001b[0m\u001b[0mlen\u001b[0m\u001b[0;34m)\u001b[0m\u001b[0;34m\u001b[0m\u001b[0;34m\u001b[0m\u001b[0m\n",
            "\u001b[0;31mKeyboardInterrupt\u001b[0m: "
          ]
        }
      ],
      "source": [
        "directions = []\n",
        "geolocalizador = Nominatim(user_agent=\"GetLoc\");\n",
        "#Se recorren todos los valores para obtener su direccion\n",
        "for i in range(len(df)):\n",
        "    direction = geolocalizador.reverse(str(df.at[i,\"Latitud\"]) + ',' + str(df.at[i,\"Longitud\"]))\n",
        "\n",
        "\n",
        "\n",
        "    directions.append(direction) #Se agrega a la lista\n",
        "\n",
        "    "
      ]
    },
    {
      "cell_type": "code",
      "execution_count": null,
      "metadata": {
        "id": "TJtJVx0G_oyf"
      },
      "outputs": [],
      "source": [
        "#Se muestra la lista de direcciones\n",
        "arr_directions = np.array(directions)\n",
        "print(arr_directions)"
      ]
    },
    {
      "cell_type": "markdown",
      "metadata": {
        "id": "g-b-T_LpAkYe"
      },
      "source": [
        "#Rango de datos"
      ]
    },
    {
      "cell_type": "code",
      "execution_count": 717,
      "metadata": {
        "id": "sJNWOqAMswU_",
        "colab": {
          "base_uri": "https://localhost:8080/",
          "height": 0
        },
        "outputId": "31bbf494-b0ee-4c44-ad5e-33b895cedc28"
      },
      "outputs": [
        {
          "output_type": "execute_result",
          "data": {
            "text/plain": [
              "array([[<matplotlib.axes._subplots.AxesSubplot object at 0x7f28db9d8dd0>,\n",
              "        <matplotlib.axes._subplots.AxesSubplot object at 0x7f28e034d450>,\n",
              "        <matplotlib.axes._subplots.AxesSubplot object at 0x7f28e038a090>],\n",
              "       [<matplotlib.axes._subplots.AxesSubplot object at 0x7f28e031ee90>,\n",
              "        <matplotlib.axes._subplots.AxesSubplot object at 0x7f28e0320ad0>,\n",
              "        <matplotlib.axes._subplots.AxesSubplot object at 0x7f28e0245b10>],\n",
              "       [<matplotlib.axes._subplots.AxesSubplot object at 0x7f28e0212590>,\n",
              "        <matplotlib.axes._subplots.AxesSubplot object at 0x7f28e01c99d0>,\n",
              "        <matplotlib.axes._subplots.AxesSubplot object at 0x7f28e01c9a10>],\n",
              "       [<matplotlib.axes._subplots.AxesSubplot object at 0x7f28e018b050>,\n",
              "        <matplotlib.axes._subplots.AxesSubplot object at 0x7f28e00f7950>,\n",
              "        <matplotlib.axes._subplots.AxesSubplot object at 0x7f28e00ade50>]],\n",
              "      dtype=object)"
            ]
          },
          "metadata": {},
          "execution_count": 717
        },
        {
          "output_type": "display_data",
          "data": {
            "text/plain": [
              "<Figure size 1440x1080 with 12 Axes>"
            ],
            "image/png": "[encoded data removed]"
          },
          "metadata": {
            "needs_background": "light"
          }
        }
      ],
      "source": [
        "df.hist(bins=50, figsize=(20,15))"
      ]
    },
    {
      "cell_type": "markdown",
      "metadata": {
        "id": "wIa-rCrnTXMR"
      },
      "source": [
        "# Mapeo de las propiedades (no cul, sin mapa, no jala chido)"
      ]
    },
    {
      "cell_type": "code",
      "execution_count": null,
      "metadata": {
        "id": "wgL064XgTR_y",
        "colab": {
          "base_uri": "https://localhost:8080/",
          "height": 459
        },
        "outputId": "8a8b79ff-3b97-4096-cdf9-123fc9b7b75f"
      },
      "outputs": [
        {
          "output_type": "execute_result",
          "data": {
            "text/plain": [
              "<matplotlib.axes._subplots.AxesSubplot at 0x7f28dce6ef90>"
            ]
          },
          "metadata": {},
          "execution_count": 542
        },
        {
          "output_type": "display_data",
          "data": {
            "text/plain": [
              "<Figure size 720x504 with 1 Axes>"
            ],
            "image/png": "[encoded data removed]"
          },
          "metadata": {
            "needs_background": "light"
          }
        }
      ],
      "source": [
        "#grafica de dispersion en X, Y\n",
        "df.plot(kind=\"scatter\", x=\"Latitud\", y=\"Longitud\", figsize=(10,7))"
      ]
    },
    {
      "cell_type": "code",
      "execution_count": null,
      "metadata": {
        "id": "UW_ZKcyPUfUL",
        "colab": {
          "base_uri": "https://localhost:8080/",
          "height": 459
        },
        "outputId": "0c113eec-7c3c-45b9-a44a-5a6d4dfcab0f"
      },
      "outputs": [
        {
          "output_type": "execute_result",
          "data": {
            "text/plain": [
              "<matplotlib.axes._subplots.AxesSubplot at 0x7f28dba56bd0>"
            ]
          },
          "metadata": {},
          "execution_count": 543
        },
        {
          "output_type": "display_data",
          "data": {
            "text/plain": [
              "<Figure size 720x504 with 1 Axes>"
            ],
            "image/png": "[encoded data removed]"
          },
          "metadata": {
            "needs_background": "light"
          }
        }
      ],
      "source": [
        "#grafica de dispersion en X, Y con alfa para ver donde hay mayor densidad\n",
        "df.plot(kind=\"scatter\", x=\"Latitud\", alpha=0.1, y=\"Longitud\", figsize=(10,7))"
      ]
    },
    {
      "cell_type": "code",
      "execution_count": null,
      "metadata": {
        "id": "8is69zOjU8pl"
      },
      "outputs": [],
      "source": [
        "#cambiamos el tamaño del punto y agregamos una escala de medicion\n",
        "#s tamaño de cada punto\n",
        "#c etiqueta\n",
        "\n",
        "\n",
        "#df.plot(kind=\"scatter\", x=\"Latitud\", alpha=0.1, y=\"Longitud\", figsize=(10,7),\n",
        " #       s=df['Valor comercial'], c='median_house_value')"
      ]
    },
    {
      "cell_type": "markdown",
      "metadata": {
        "id": "VkRrvgyNuOQQ"
      },
      "source": [
        "# Mapeo con follium"
      ]
    },
    {
      "cell_type": "code",
      "execution_count": null,
      "metadata": {
        "id": "XjAIQ2ABuJQy",
        "colab": {
          "base_uri": "https://localhost:8080/",
          "height": 696
        },
        "outputId": "ee6c5151-d5a1-43ab-e309-afc4b040260c"
      },
      "outputs": [
        {
          "output_type": "execute_result",
          "data": {
            "text/plain": [
              "<folium.folium.Map at 0x7f28db977310>"
            ],
            "text/html": [
              "<div style=\"width:100%;\"><div style=\"position:relative;width:100%;height:0;padding-bottom:60%;\"><span style=\"color:#565656\">Make this Notebook Trusted to load map: File -> Trust Notebook</span><iframe srcdoc=\"&lt;!DOCTYPE html&gt;\n",
              "&lt;head&gt;    \n",
              "    &lt;meta http-equiv=&quot;content-type&quot; content=&quot;text/html; charset=UTF-8&quot; /&gt;\n",
              "    \n",
              "        &lt;script&gt;\n",
              "            L_NO_TOUCH = false;\n",
              "            L_DISABLE_3D = false;\n",
              "        &lt;/script&gt;\n",
              "    \n",
              "    &lt;style&gt;html, body {width: 100%;height: 100%;margin: 0;padding: 0;}&lt;/style&gt;\n",
              "    &lt;style&gt;#map {position:absolute;top:0;bottom:0;right:0;left:0;}&lt;/style&gt;\n",
              "    &lt;script src=&quot;https://cdn.jsdelivr.net/npm/leaflet@1.6.0/dist/leaflet.js&quot;&gt;&lt;/script&gt;\n",
              "    &lt;script src=&quot;https://code.jquery.com/jquery-1.12.4.min.js&quot;&gt;&lt;/script&gt;\n",
              "    &lt;script src=&quot;https://maxcdn.bootstrapcdn.com/bootstrap/3.2.0/js/bootstrap.min.js&quot;&gt;&lt;/script&gt;\n",
              "    &lt;script src=&quot;https://cdnjs.cloudflare.com/ajax/libs/Leaflet.awesome-markers/2.0.2/leaflet.awesome-markers.js&quot;&gt;&lt;/script&gt;\n",
              "    &lt;link rel=&quot;stylesheet&quot; href=&quot;https://cdn.jsdelivr.net/npm/leaflet@1.6.0/dist/leaflet.css&quot;/&gt;\n",
              "    &lt;link rel=&quot;stylesheet&quot; href=&quot;https://maxcdn.bootstrapcdn.com/bootstrap/3.2.0/css/bootstrap.min.css&quot;/&gt;\n",
              "    &lt;link rel=&quot;stylesheet&quot; href=&quot;https://maxcdn.bootstrapcdn.com/bootstrap/3.2.0/css/bootstrap-theme.min.css&quot;/&gt;\n",
              "    &lt;link rel=&quot;stylesheet&quot; href=&quot;https://maxcdn.bootstrapcdn.com/font-awesome/4.6.3/css/font-awesome.min.css&quot;/&gt;\n",
              "    &lt;link rel=&quot;stylesheet&quot; href=&quot;https://cdnjs.cloudflare.com/ajax/libs/Leaflet.awesome-markers/2.0.2/leaflet.awesome-markers.css&quot;/&gt;\n",
              "    &lt;link rel=&quot;stylesheet&quot; href=&quot;https://cdn.jsdelivr.net/gh/python-visualization/folium/folium/templates/leaflet.awesome.rotate.min.css&quot;/&gt;\n",
              "    \n",
              "            &lt;meta name=&quot;viewport&quot; content=&quot;width=device-width,\n",
              "                initial-scale=1.0, maximum-scale=1.0, user-scalable=no&quot; /&gt;\n",
              "            &lt;style&gt;\n",
              "                #map_8121f03b9b4fb0bc5678a726611ae6d1 {\n",
              "                    position: relative;\n",
              "                    width: 100.0%;\n",
              "                    height: 100.0%;\n",
              "                    left: 0.0%;\n",
              "                    top: 0.0%;\n",
              "                }\n",
              "            &lt;/style&gt;\n",
              "        \n",
              "&lt;/head&gt;\n",
              "&lt;body&gt;    \n",
              "    \n",
              "            &lt;div class=&quot;folium-map&quot; id=&quot;map_8121f03b9b4fb0bc5678a726611ae6d1&quot; &gt;&lt;/div&gt;\n",
              "        \n",
              "&lt;/body&gt;\n",
              "&lt;script&gt;    \n",
              "    \n",
              "            var map_8121f03b9b4fb0bc5678a726611ae6d1 = L.map(\n",
              "                &quot;map_8121f03b9b4fb0bc5678a726611ae6d1&quot;,\n",
              "                {\n",
              "                    center: [-12.057158, -77.048902],\n",
              "                    crs: L.CRS.EPSG3857,\n",
              "                    zoom: 6,\n",
              "                    zoomControl: true,\n",
              "                    preferCanvas: false,\n",
              "                }\n",
              "            );\n",
              "\n",
              "            \n",
              "\n",
              "        \n",
              "    \n",
              "            var tile_layer_223822b61a694c490eeca813ee6f4d2a = L.tileLayer(\n",
              "                &quot;https://{s}.tile.openstreetmap.org/{z}/{x}/{y}.png&quot;,\n",
              "                {&quot;attribution&quot;: &quot;Data by \\u0026copy; \\u003ca href=\\&quot;http://openstreetmap.org\\&quot;\\u003eOpenStreetMap\\u003c/a\\u003e, under \\u003ca href=\\&quot;http://www.openstreetmap.org/copyright\\&quot;\\u003eODbL\\u003c/a\\u003e.&quot;, &quot;detectRetina&quot;: false, &quot;maxNativeZoom&quot;: 18, &quot;maxZoom&quot;: 18, &quot;minZoom&quot;: 0, &quot;noWrap&quot;: false, &quot;opacity&quot;: 1, &quot;subdomains&quot;: &quot;abc&quot;, &quot;tms&quot;: false}\n",
              "            ).addTo(map_8121f03b9b4fb0bc5678a726611ae6d1);\n",
              "        \n",
              "&lt;/script&gt;\" style=\"position:absolute;width:100%;height:100%;left:0;top:0;border:none !important;\" allowfullscreen webkitallowfullscreen mozallowfullscreen></iframe></div></div>"
            ]
          },
          "metadata": {},
          "execution_count": 545
        }
      ],
      "source": [
        "import folium\n",
        "#x=\"Latitud (Decimal)\", y=\"Longitud (Decimal)\"\n",
        "mapa=folium.Map(location=[-12.057158, -77.048902], zoom_start=6 )\n",
        "mapa"
      ]
    },
    {
      "cell_type": "code",
      "execution_count": null,
      "metadata": {
        "id": "6rNWaZK1wPEa",
        "colab": {
          "base_uri": "https://localhost:8080/"
        },
        "outputId": "4844805d-ee37-47a3-9f25-35cae850cb65"
      },
      "outputs": [
        {
          "output_type": "execute_result",
          "data": {
            "text/plain": [
              "array([[-12.1056, -77.0257],\n",
              "       [-12.1381, -76.9857],\n",
              "       [-12.0763, -77.0909],\n",
              "       ...,\n",
              "       [-12.0812, -77.0932],\n",
              "       [ -6.7725, -79.8611],\n",
              "       [-12.102 , -76.9657]])"
            ]
          },
          "metadata": {},
          "execution_count": 546
        }
      ],
      "source": [
        "distritos= df[ ['Latitud','Longitud']].to_numpy()\n",
        "distritos"
      ]
    },
    {
      "cell_type": "code",
      "execution_count": null,
      "metadata": {
        "id": "Bu5lUvZwwt5k",
        "colab": {
          "base_uri": "https://localhost:8080/",
          "height": 363
        },
        "outputId": "57c59ba4-e339-433b-9adc-d17a5f02da4e"
      },
      "outputs": [
        {
          "output_type": "error",
          "ename": "ValueError",
          "evalue": "ignored",
          "traceback": [
            "\u001b[0;31m---------------------------------------------------------------------------\u001b[0m",
            "\u001b[0;31mValueError\u001b[0m                                Traceback (most recent call last)",
            "\u001b[0;32m<ipython-input-547-896d8603aea3>\u001b[0m in \u001b[0;36m<module>\u001b[0;34m\u001b[0m\n\u001b[1;32m      2\u001b[0m \u001b[0;32mfrom\u001b[0m \u001b[0mfolium\u001b[0m\u001b[0;34m.\u001b[0m\u001b[0mplugins\u001b[0m \u001b[0;32mimport\u001b[0m \u001b[0mHeatMap\u001b[0m\u001b[0;34m\u001b[0m\u001b[0;34m\u001b[0m\u001b[0m\n\u001b[1;32m      3\u001b[0m \u001b[0;34m\u001b[0m\u001b[0m\n\u001b[0;32m----> 4\u001b[0;31m \u001b[0mHeatMap\u001b[0m \u001b[0;34m(\u001b[0m\u001b[0mdistritos\u001b[0m\u001b[0;34m,\u001b[0m\u001b[0mradius\u001b[0m\u001b[0;34m=\u001b[0m\u001b[0;36m15\u001b[0m\u001b[0;34m,\u001b[0m \u001b[0mmax_val\u001b[0m\u001b[0;34m=\u001b[0m\u001b[0;36m0.1\u001b[0m\u001b[0;34m,\u001b[0m \u001b[0mmin_opacity\u001b[0m\u001b[0;34m=\u001b[0m\u001b[0;36m0.4\u001b[0m\u001b[0;34m)\u001b[0m\u001b[0;34m.\u001b[0m\u001b[0madd_to\u001b[0m\u001b[0;34m(\u001b[0m\u001b[0mmapa\u001b[0m\u001b[0;34m)\u001b[0m\u001b[0;34m\u001b[0m\u001b[0;34m\u001b[0m\u001b[0m\n\u001b[0m\u001b[1;32m      5\u001b[0m \u001b[0mmapa\u001b[0m\u001b[0;34m\u001b[0m\u001b[0;34m\u001b[0m\u001b[0m\n",
            "\u001b[0;32m/usr/local/lib/python3.7/dist-packages/folium/plugins/heat_map.py\u001b[0m in \u001b[0;36m__init__\u001b[0;34m(self, data, name, min_opacity, max_zoom, radius, blur, gradient, overlay, control, show, **kwargs)\u001b[0m\n\u001b[1;32m     67\u001b[0m         \u001b[0mdata\u001b[0m \u001b[0;34m=\u001b[0m \u001b[0mif_pandas_df_convert_to_numpy\u001b[0m\u001b[0;34m(\u001b[0m\u001b[0mdata\u001b[0m\u001b[0;34m)\u001b[0m\u001b[0;34m\u001b[0m\u001b[0;34m\u001b[0m\u001b[0m\n\u001b[1;32m     68\u001b[0m         self.data = [[*validate_location(line[:2]), *line[2:]]  # noqa: E999\n\u001b[0;32m---> 69\u001b[0;31m                      for line in data]\n\u001b[0m\u001b[1;32m     70\u001b[0m         \u001b[0;32mif\u001b[0m \u001b[0mnp\u001b[0m\u001b[0;34m.\u001b[0m\u001b[0many\u001b[0m\u001b[0;34m(\u001b[0m\u001b[0mnp\u001b[0m\u001b[0;34m.\u001b[0m\u001b[0misnan\u001b[0m\u001b[0;34m(\u001b[0m\u001b[0mself\u001b[0m\u001b[0;34m.\u001b[0m\u001b[0mdata\u001b[0m\u001b[0;34m)\u001b[0m\u001b[0;34m)\u001b[0m\u001b[0;34m:\u001b[0m\u001b[0;34m\u001b[0m\u001b[0;34m\u001b[0m\u001b[0m\n\u001b[1;32m     71\u001b[0m             \u001b[0;32mraise\u001b[0m \u001b[0mValueError\u001b[0m\u001b[0;34m(\u001b[0m\u001b[0;34m'data may not contain NaNs.'\u001b[0m\u001b[0;34m)\u001b[0m\u001b[0;34m\u001b[0m\u001b[0;34m\u001b[0m\u001b[0m\n",
            "\u001b[0;32m/usr/local/lib/python3.7/dist-packages/folium/plugins/heat_map.py\u001b[0m in \u001b[0;36m<listcomp>\u001b[0;34m(.0)\u001b[0m\n\u001b[1;32m     67\u001b[0m         \u001b[0mdata\u001b[0m \u001b[0;34m=\u001b[0m \u001b[0mif_pandas_df_convert_to_numpy\u001b[0m\u001b[0;34m(\u001b[0m\u001b[0mdata\u001b[0m\u001b[0;34m)\u001b[0m\u001b[0;34m\u001b[0m\u001b[0;34m\u001b[0m\u001b[0m\n\u001b[1;32m     68\u001b[0m         self.data = [[*validate_location(line[:2]), *line[2:]]  # noqa: E999\n\u001b[0;32m---> 69\u001b[0;31m                      for line in data]\n\u001b[0m\u001b[1;32m     70\u001b[0m         \u001b[0;32mif\u001b[0m \u001b[0mnp\u001b[0m\u001b[0;34m.\u001b[0m\u001b[0many\u001b[0m\u001b[0;34m(\u001b[0m\u001b[0mnp\u001b[0m\u001b[0;34m.\u001b[0m\u001b[0misnan\u001b[0m\u001b[0;34m(\u001b[0m\u001b[0mself\u001b[0m\u001b[0;34m.\u001b[0m\u001b[0mdata\u001b[0m\u001b[0;34m)\u001b[0m\u001b[0;34m)\u001b[0m\u001b[0;34m:\u001b[0m\u001b[0;34m\u001b[0m\u001b[0;34m\u001b[0m\u001b[0m\n\u001b[1;32m     71\u001b[0m             \u001b[0;32mraise\u001b[0m \u001b[0mValueError\u001b[0m\u001b[0;34m(\u001b[0m\u001b[0;34m'data may not contain NaNs.'\u001b[0m\u001b[0;34m)\u001b[0m\u001b[0;34m\u001b[0m\u001b[0;34m\u001b[0m\u001b[0m\n",
            "\u001b[0;32m/usr/local/lib/python3.7/dist-packages/folium/utilities.py\u001b[0m in \u001b[0;36mvalidate_location\u001b[0;34m(location)\u001b[0m\n\u001b[1;32m     64\u001b[0m                              .format(coord, type(coord)))\n\u001b[1;32m     65\u001b[0m         \u001b[0;32mif\u001b[0m \u001b[0mmath\u001b[0m\u001b[0;34m.\u001b[0m\u001b[0misnan\u001b[0m\u001b[0;34m(\u001b[0m\u001b[0mfloat\u001b[0m\u001b[0;34m(\u001b[0m\u001b[0mcoord\u001b[0m\u001b[0;34m)\u001b[0m\u001b[0;34m)\u001b[0m\u001b[0;34m:\u001b[0m\u001b[0;34m\u001b[0m\u001b[0;34m\u001b[0m\u001b[0m\n\u001b[0;32m---> 66\u001b[0;31m             \u001b[0;32mraise\u001b[0m \u001b[0mValueError\u001b[0m\u001b[0;34m(\u001b[0m\u001b[0;34m'Location values cannot contain NaNs.'\u001b[0m\u001b[0;34m)\u001b[0m\u001b[0;34m\u001b[0m\u001b[0;34m\u001b[0m\u001b[0m\n\u001b[0m\u001b[1;32m     67\u001b[0m     \u001b[0;32mreturn\u001b[0m \u001b[0;34m[\u001b[0m\u001b[0mfloat\u001b[0m\u001b[0;34m(\u001b[0m\u001b[0mx\u001b[0m\u001b[0;34m)\u001b[0m \u001b[0;32mfor\u001b[0m \u001b[0mx\u001b[0m \u001b[0;32min\u001b[0m \u001b[0mcoords\u001b[0m\u001b[0;34m]\u001b[0m\u001b[0;34m\u001b[0m\u001b[0;34m\u001b[0m\u001b[0m\n\u001b[1;32m     68\u001b[0m \u001b[0;34m\u001b[0m\u001b[0m\n",
            "\u001b[0;31mValueError\u001b[0m: Location values cannot contain NaNs."
          ]
        }
      ],
      "source": [
        "from folium import plugins\n",
        "from folium.plugins import HeatMap\n",
        "\n",
        "HeatMap (distritos,radius=15, max_val=0.1, min_opacity=0.4).add_to(mapa)\n",
        "mapa"
      ]
    },
    {
      "cell_type": "markdown",
      "metadata": {
        "id": "f8Avo3kPzX28"
      },
      "source": [
        "# Correlacion de variables"
      ]
    },
    {
      "cell_type": "code",
      "execution_count": 718,
      "metadata": {
        "id": "1NofJttpzVvC",
        "colab": {
          "base_uri": "https://localhost:8080/",
          "height": 0
        },
        "outputId": "0dbb04ed-fc19-4e02-9cbb-fa24d7990f7c"
      },
      "outputs": [
        {
          "output_type": "execute_result",
          "data": {
            "text/plain": [
              "array([[<matplotlib.axes._subplots.AxesSubplot object at 0x7f28de735150>,\n",
              "        <matplotlib.axes._subplots.AxesSubplot object at 0x7f28de7cb990>,\n",
              "        <matplotlib.axes._subplots.AxesSubplot object at 0x7f28de6d6f10>,\n",
              "        <matplotlib.axes._subplots.AxesSubplot object at 0x7f28d9f364d0>,\n",
              "        <matplotlib.axes._subplots.AxesSubplot object at 0x7f28d9f599d0>],\n",
              "       [<matplotlib.axes._subplots.AxesSubplot object at 0x7f28d9f0fed0>,\n",
              "        <matplotlib.axes._subplots.AxesSubplot object at 0x7f28d9ed2490>,\n",
              "        <matplotlib.axes._subplots.AxesSubplot object at 0x7f28d9e438d0>,\n",
              "        <matplotlib.axes._subplots.AxesSubplot object at 0x7f28d9e43910>,\n",
              "        <matplotlib.axes._subplots.AxesSubplot object at 0x7f28d9df9f10>],\n",
              "       [<matplotlib.axes._subplots.AxesSubplot object at 0x7f28d9d73850>,\n",
              "        <matplotlib.axes._subplots.AxesSubplot object at 0x7f28d9d2bd50>,\n",
              "        <matplotlib.axes._subplots.AxesSubplot object at 0x7f28d9cef290>,\n",
              "        <matplotlib.axes._subplots.AxesSubplot object at 0x7f28d9ca5710>,\n",
              "        <matplotlib.axes._subplots.AxesSubplot object at 0x7f28d9cdbc10>],\n",
              "       [<matplotlib.axes._subplots.AxesSubplot object at 0x7f28d9c1f150>,\n",
              "        <matplotlib.axes._subplots.AxesSubplot object at 0x7f28d9c57650>,\n",
              "        <matplotlib.axes._subplots.AxesSubplot object at 0x7f28d9c0cb50>,\n",
              "        <matplotlib.axes._subplots.AxesSubplot object at 0x7f28d9bb7b90>,\n",
              "        <matplotlib.axes._subplots.AxesSubplot object at 0x7f28d9b85590>],\n",
              "       [<matplotlib.axes._subplots.AxesSubplot object at 0x7f28d9b3ba90>,\n",
              "        <matplotlib.axes._subplots.AxesSubplot object at 0x7f28d9af2f90>,\n",
              "        <matplotlib.axes._subplots.AxesSubplot object at 0x7f28d9ab54d0>,\n",
              "        <matplotlib.axes._subplots.AxesSubplot object at 0x7f28d9a6c9d0>,\n",
              "        <matplotlib.axes._subplots.AxesSubplot object at 0x7f28d9a22ed0>]],\n",
              "      dtype=object)"
            ]
          },
          "metadata": {},
          "execution_count": 718
        },
        {
          "output_type": "display_data",
          "data": {
            "text/plain": [
              "<Figure size 864x576 with 25 Axes>"
            ],
            "image/png": "[encoded data removed]"
          },
          "metadata": {
            "needs_background": "light"
          }
        }
      ],
      "source": [
        "#diagramas de coorelacion, se me ocurre que sea de todas las variables contra todas\n",
        "from pandas.plotting import scatter_matrix\n",
        "atributos=[\"Valor comercial\",\"Piso\",\"Provincia\",\"Numero de frentes\",\"Numero de estacionamiento\",\"Edad\",\"Tipo de via\",\"Categoria del bien\",\"Estado de conservacion\"]\n",
        "\n",
        "scatter_matrix(df[atributos], figsize=(12,8))"
      ]
    },
    {
      "cell_type": "code",
      "execution_count": 719,
      "metadata": {
        "id": "6VhykUo-_Obn",
        "colab": {
          "base_uri": "https://localhost:8080/",
          "height": 0
        },
        "outputId": "159da3e0-014b-4de7-b76d-74020632a6d8"
      },
      "outputs": [
        {
          "output_type": "display_data",
          "data": {
            "text/plain": [
              "<Figure size 432x288 with 2 Axes>"
            ],
            "image/png": "[encoded data removed]"
          },
          "metadata": {
            "needs_background": "light"
          }
        }
      ],
      "source": [
        "import seaborn as sn\n",
        "\n",
        "corrMatrix=df[atributos].corr().round(2)\n",
        "sn.heatmap(corrMatrix, annot=True,cmap='coolwarm')\n",
        "plt.show()"
      ]
    },
    {
      "cell_type": "markdown",
      "metadata": {
        "id": "2bdb8nXkHaov"
      },
      "source": [
        "# Preparar los datos y sus transformaciones"
      ]
    },
    {
      "cell_type": "code",
      "execution_count": 720,
      "metadata": {
        "id": "bIVUMSX-HYex",
        "colab": {
          "base_uri": "https://localhost:8080/"
        },
        "outputId": "dc1fd332-7e60-4a5e-ed1e-47e6dd76e00b"
      },
      "outputs": [
        {
          "output_type": "execute_result",
          "data": {
            "text/plain": [
              "False"
            ]
          },
          "metadata": {},
          "execution_count": 720
        }
      ],
      "source": [
        "#revisar y eliminar los datos nulos\n",
        "df.isnull().values.any()"
      ]
    },
    {
      "cell_type": "code",
      "execution_count": 721,
      "metadata": {
        "id": "AOSKc8KTH4QE",
        "colab": {
          "base_uri": "https://localhost:8080/"
        },
        "outputId": "1e05d859-ff9c-419f-ed28-7f14b619a949"
      },
      "outputs": [
        {
          "output_type": "execute_result",
          "data": {
            "text/plain": [
              "19359"
            ]
          },
          "metadata": {},
          "execution_count": 721
        }
      ],
      "source": [
        "#numero de datos\n",
        "len(df)"
      ]
    },
    {
      "cell_type": "markdown",
      "source": [
        "# Categorizar(lo haremos nominal)"
      ],
      "metadata": {
        "id": "3VgvOTVMQKtq"
      }
    },
    {
      "cell_type": "code",
      "source": [
        "df['Provincia'].value_counts()"
      ],
      "metadata": {
        "id": "bXU5jphLNvfp",
        "colab": {
          "base_uri": "https://localhost:8080/"
        },
        "outputId": "fdc7cb75-281d-4d3d-aa93-3b5403f5c734"
      },
      "execution_count": 722,
      "outputs": [
        {
          "output_type": "execute_result",
          "data": {
            "text/plain": [
              "Lima                     12828\n",
              "Trujillo                   694\n",
              "Arequipa                   619\n",
              "Chiclayo                   425\n",
              "Prov Const del Callao      394\n",
              "                         ...  \n",
              "Camana                       1\n",
              "Tayacaja                     1\n",
              "Bagua                        1\n",
              "Jauja                        1\n",
              "Huari                        1\n",
              "Name: Provincia, Length: 113, dtype: int64"
            ]
          },
          "metadata": {},
          "execution_count": 722
        }
      ]
    },
    {
      "cell_type": "code",
      "source": [
        "from sklearn.preprocessing import OneHotEncoder\n",
        "Nominal_codificador=OneHotEncoder(sparse=False)\n",
        "Nominal_codificador.fit_transform(df[['Provincia']])"
      ],
      "metadata": {
        "id": "okzzUkJKQmU5",
        "colab": {
          "base_uri": "https://localhost:8080/"
        },
        "outputId": "a103d9fd-8b49-4824-c18e-98aea9eaf855"
      },
      "execution_count": 723,
      "outputs": [
        {
          "output_type": "execute_result",
          "data": {
            "text/plain": [
              "array([[0., 0., 0., ..., 0., 0., 0.],\n",
              "       [0., 0., 0., ..., 0., 0., 0.],\n",
              "       [0., 0., 0., ..., 0., 0., 0.],\n",
              "       ...,\n",
              "       [0., 0., 0., ..., 0., 0., 0.],\n",
              "       [0., 0., 0., ..., 0., 0., 0.],\n",
              "       [0., 0., 0., ..., 0., 0., 0.]])"
            ]
          },
          "metadata": {},
          "execution_count": 723
        }
      ]
    },
    {
      "cell_type": "code",
      "source": [
        "#nominal\n",
        "Nominal_codificador.categories_"
      ],
      "metadata": {
        "id": "iKINII9RRiI6",
        "colab": {
          "base_uri": "https://localhost:8080/"
        },
        "outputId": "39930ab4-7007-4640-c7e1-4f9686bd9f50"
      },
      "execution_count": 724,
      "outputs": [
        {
          "output_type": "execute_result",
          "data": {
            "text/plain": [
              "[array(['Abancay', 'Alto Amazonas', 'Ambo', 'Andahuaylas', 'Anta',\n",
              "        'Arequipa', 'Ascope', 'Bagua', 'Barranca', 'Bellavista', 'CALLAO',\n",
              "        'CHICLAYO', 'CHINCHA', 'Cajabamba', 'Cajamarca', 'Calca', 'Camana',\n",
              "        'Canchis', 'Canete', 'Canta', 'Caraveli', 'Carhuaz', 'Casma',\n",
              "        'Caylloma', 'Celendin', 'Chachapoyas', 'Chanchamayo', 'Chepen',\n",
              "        'Chiclayo', 'Chincheros', 'Chota', 'Chucuito', 'Chumbivilcas',\n",
              "        'Chupaca', 'Concepcion', 'Contralmirante Villar',\n",
              "        'Coronel Portillo', 'Cusco', 'Datem del Maranon', 'El Dorado',\n",
              "        'Espinar', 'Ferrenafe', 'Huallaga', 'Huamanga', 'Huancavelica',\n",
              "        'Huancayo', 'Huanta', 'Huanuco', 'Huaral', 'Huaraz', 'Huari',\n",
              "        'Huarmey', 'Huarochiri', 'Huaura', 'Huaylas', 'Ilo', 'Islay',\n",
              "        'Jaen', 'Jauja', 'Junin', 'La Convencion', 'Lamas', 'Lambayeque',\n",
              "        'Leoncio Prado', 'Lima', 'Loreto', 'Mariscal Caceres',\n",
              "        'Mariscal Nieto', 'Mariscal Ramon Castilla', 'Maynas', 'Melgar',\n",
              "        'Morropon', 'Moyobamba', 'NAZCA', 'Ocros', 'Otuzco', 'Oxapampa',\n",
              "        'PALPA', 'PISCO', 'Pacasmayo', 'Padre Abad', 'Paita', 'Pasco',\n",
              "        'Picota', 'Piura', 'Prov Const del Callao', 'Puerto Inca', 'Puno',\n",
              "        'Quispicanchi', 'Requena', 'Rioja', 'San Marcos', 'San Martin',\n",
              "        'San Roman', 'Sanchez Carrion', 'Santa', 'Satipo', 'Sechura',\n",
              "        'Sullana', 'Tacna', 'Talara', 'Tambopata', 'Tarma', 'Tayacaja',\n",
              "        'Tocache', 'Trujillo', 'Tumbes', 'Urubamba', 'Utcubamba', 'Viru',\n",
              "        'Yauli', 'Yungay', 'Zarumilla'], dtype=object)]"
            ]
          },
          "metadata": {},
          "execution_count": 724
        }
      ]
    },
    {
      "cell_type": "markdown",
      "source": [
        "# PIPELINE"
      ],
      "metadata": {
        "id": "AcyxnGrgR0EZ"
      }
    },
    {
      "cell_type": "code",
      "source": [
        "from sklearn.utils.fixes import sklearn\n",
        "#MODULOS IMPORTANTES\n",
        "from sklearn.pipeline import Pipeline\n",
        "from sklearn.compose import ColumnTransformer\n",
        "from sklearn.preprocessing import StandardScaler, OrdinalEncoder, OneHotEncoder\n",
        "\n",
        "#lista de variables numericas y categoricas\n",
        "numeric_list=['Fecha entrega del Informe', \"Tipo de via\", \"Piso\", \"Numero de estacionamiento\", \"Depositos\", \"Latitud\", \"Longitud\",\"Numero de frentes\", \"Edad\", \"Elevador\", \"Area Terreno\", \"Area Construccion\",\"Valor comercial\" ]\n",
        "categorical_list=[\"Departamento\",\"Provincia\", \"Distrito\",\"Categoria del bien\", \"Posicion\", \"Estado de conservacion\", \"Metodo Representado\" ]"
      ],
      "metadata": {
        "id": "X0V2FuT5R33F"
      },
      "execution_count": 725,
      "outputs": []
    },
    {
      "cell_type": "code",
      "source": [
        "from pandas.core.arrays import categorical\n",
        "#pipeline de procesamiento para los datos numericos y categoricos\n",
        "numeric_transformer= Pipeline(steps=[(\"scaler\", StandardScaler())]) #Reescalar los numeros\n",
        "categorical_transformer=Pipeline(steps=[(\"onehot\", OneHotEncoder())]) #Casterar a numeros"
      ],
      "metadata": {
        "id": "vNIu27gDYdq7"
      },
      "execution_count": 726,
      "outputs": []
    },
    {
      "cell_type": "markdown",
      "source": [
        "\n",
        "\n",
        "ColumnTransformer function"
      ],
      "metadata": {
        "id": "OO0IzuEBamYd"
      }
    },
    {
      "cell_type": "code",
      "source": [
        "from matplotlib.transforms import Transform\n",
        "#definir transformaciones\n",
        "transformer= ColumnTransformer ([\n",
        "    (\"num\", numeric_transformer,numeric_list) , (\"cat\", categorical_transformer, categorical_list)\n",
        "]);"
      ],
      "metadata": {
        "id": "mZ9ZlbUNaxSB"
      },
      "execution_count": 727,
      "outputs": []
    },
    {
      "cell_type": "markdown",
      "source": [
        "# Preparacion de los datos 2.0"
      ],
      "metadata": {
        "id": "m9YXwQyIcGZN"
      }
    },
    {
      "cell_type": "code",
      "source": [
        "X_ejemplo = df.drop(columns=numeric_list, axis=1)\n",
        "X_ejemplo"
      ],
      "metadata": {
        "id": "11zCsOE_yXMH",
        "colab": {
          "base_uri": "https://localhost:8080/",
          "height": 0
        },
        "outputId": "c6f5c93d-172f-4093-ee2a-ed7e240991b4"
      },
      "execution_count": 728,
      "outputs": [
        {
          "output_type": "execute_result",
          "data": {
            "text/plain": [
              "      Departamento         Provincia           Distrito    Categoria del bien  \\\n",
              "0             Lima              Lima          Surquillo          Departamento   \n",
              "1             Lima              Lima  Santiago de Surco          Departamento   \n",
              "2             Lima              Lima         San Miguel               Oficina   \n",
              "3          Ucayali  Coronel Portillo           Calleria        Terreno Urbano   \n",
              "4             Lima              Lima  Magdalena del Mar               Oficina   \n",
              "...            ...               ...                ...                   ...   \n",
              "19354         Lima              Lima                Ate          Departamento   \n",
              "19355       Tumbes            Tumbes             Tumbes  Vivienda Unifamiliar   \n",
              "19356         Lima              Lima         San Miguel          Departamento   \n",
              "19357   Lambayeque          Chiclayo           Chiclayo  Vivienda Unifamiliar   \n",
              "19358         Lima              Lima  Santiago de Surco          Departamento   \n",
              "\n",
              "       Posicion Estado de conservacion               Metodo Representado  \n",
              "0            -1                  Bueno  Comparacion de mercado (directo)  \n",
              "1            -1              Muy bueno  Comparacion de mercado (directo)  \n",
              "2            -1                  Bueno  Comparacion de mercado (directo)  \n",
              "3            -1        No especificado     Costos o reposicion (directo)  \n",
              "4            -1            En proyecto  Comparacion de mercado (directo)  \n",
              "...         ...                    ...                               ...  \n",
              "19354  Exterior                  Bueno     Costos o reposicion (directo)  \n",
              "19355  Exterior        No especificado     Costos o reposicion (directo)  \n",
              "19356  Exterior        En construccion  Comparacion de mercado (directo)  \n",
              "19357  Exterior                Regular     Costos o reposicion (directo)  \n",
              "19358  Exterior        En construccion  Comparacion de mercado (directo)  \n",
              "\n",
              "[19359 rows x 7 columns]"
            ],
            "text/html": [
              "\n",
              "  <div id=\"df-1a7489f7-acf7-4a3d-9f07-5dd6cd858b38\">\n",
              "    <div class=\"colab-df-container\">\n",
              "      <div>\n",
              "<style scoped>\n",
              "    .dataframe tbody tr th:only-of-type {\n",
              "        vertical-align: middle;\n",
              "    }\n",
              "\n",
              "    .dataframe tbody tr th {\n",
              "        vertical-align: top;\n",
              "    }\n",
              "\n",
              "    .dataframe thead th {\n",
              "        text-align: right;\n",
              "    }\n",
              "</style>\n",
              "<table border=\"1\" class=\"dataframe\">\n",
              "  <thead>\n",
              "    <tr style=\"text-align: right;\">\n",
              "      <th></th>\n",
              "      <th>Departamento</th>\n",
              "      <th>Provincia</th>\n",
              "      <th>Distrito</th>\n",
              "      <th>Categoria del bien</th>\n",
              "      <th>Posicion</th>\n",
              "      <th>Estado de conservacion</th>\n",
              "      <th>Metodo Representado</th>\n",
              "    </tr>\n",
              "  </thead>\n",
              "  <tbody>\n",
              "    <tr>\n",
              "      <th>0</th>\n",
              "      <td>Lima</td>\n",
              "      <td>Lima</td>\n",
              "      <td>Surquillo</td>\n",
              "      <td>Departamento</td>\n",
              "      <td>-1</td>\n",
              "      <td>Bueno</td>\n",
              "      <td>Comparacion de mercado (directo)</td>\n",
              "    </tr>\n",
              "    <tr>\n",
              "      <th>1</th>\n",
              "      <td>Lima</td>\n",
              "      <td>Lima</td>\n",
              "      <td>Santiago de Surco</td>\n",
              "      <td>Departamento</td>\n",
              "      <td>-1</td>\n",
              "      <td>Muy bueno</td>\n",
              "      <td>Comparacion de mercado (directo)</td>\n",
              "    </tr>\n",
              "    <tr>\n",
              "      <th>2</th>\n",
              "      <td>Lima</td>\n",
              "      <td>Lima</td>\n",
              "      <td>San Miguel</td>\n",
              "      <td>Oficina</td>\n",
              "      <td>-1</td>\n",
              "      <td>Bueno</td>\n",
              "      <td>Comparacion de mercado (directo)</td>\n",
              "    </tr>\n",
              "    <tr>\n",
              "      <th>3</th>\n",
              "      <td>Ucayali</td>\n",
              "      <td>Coronel Portillo</td>\n",
              "      <td>Calleria</td>\n",
              "      <td>Terreno Urbano</td>\n",
              "      <td>-1</td>\n",
              "      <td>No especificado</td>\n",
              "      <td>Costos o reposicion (directo)</td>\n",
              "    </tr>\n",
              "    <tr>\n",
              "      <th>4</th>\n",
              "      <td>Lima</td>\n",
              "      <td>Lima</td>\n",
              "      <td>Magdalena del Mar</td>\n",
              "      <td>Oficina</td>\n",
              "      <td>-1</td>\n",
              "      <td>En proyecto</td>\n",
              "      <td>Comparacion de mercado (directo)</td>\n",
              "    </tr>\n",
              "    <tr>\n",
              "      <th>...</th>\n",
              "      <td>...</td>\n",
              "      <td>...</td>\n",
              "      <td>...</td>\n",
              "      <td>...</td>\n",
              "      <td>...</td>\n",
              "      <td>...</td>\n",
              "      <td>...</td>\n",
              "    </tr>\n",
              "    <tr>\n",
              "      <th>19354</th>\n",
              "      <td>Lima</td>\n",
              "      <td>Lima</td>\n",
              "      <td>Ate</td>\n",
              "      <td>Departamento</td>\n",
              "      <td>Exterior</td>\n",
              "      <td>Bueno</td>\n",
              "      <td>Costos o reposicion (directo)</td>\n",
              "    </tr>\n",
              "    <tr>\n",
              "      <th>19355</th>\n",
              "      <td>Tumbes</td>\n",
              "      <td>Tumbes</td>\n",
              "      <td>Tumbes</td>\n",
              "      <td>Vivienda Unifamiliar</td>\n",
              "      <td>Exterior</td>\n",
              "      <td>No especificado</td>\n",
              "      <td>Costos o reposicion (directo)</td>\n",
              "    </tr>\n",
              "    <tr>\n",
              "      <th>19356</th>\n",
              "      <td>Lima</td>\n",
              "      <td>Lima</td>\n",
              "      <td>San Miguel</td>\n",
              "      <td>Departamento</td>\n",
              "      <td>Exterior</td>\n",
              "      <td>En construccion</td>\n",
              "      <td>Comparacion de mercado (directo)</td>\n",
              "    </tr>\n",
              "    <tr>\n",
              "      <th>19357</th>\n",
              "      <td>Lambayeque</td>\n",
              "      <td>Chiclayo</td>\n",
              "      <td>Chiclayo</td>\n",
              "      <td>Vivienda Unifamiliar</td>\n",
              "      <td>Exterior</td>\n",
              "      <td>Regular</td>\n",
              "      <td>Costos o reposicion (directo)</td>\n",
              "    </tr>\n",
              "    <tr>\n",
              "      <th>19358</th>\n",
              "      <td>Lima</td>\n",
              "      <td>Lima</td>\n",
              "      <td>Santiago de Surco</td>\n",
              "      <td>Departamento</td>\n",
              "      <td>Exterior</td>\n",
              "      <td>En construccion</td>\n",
              "      <td>Comparacion de mercado (directo)</td>\n",
              "    </tr>\n",
              "  </tbody>\n",
              "</table>\n",
              "<p>19359 rows × 7 columns</p>\n",
              "</div>\n",
              "      <button class=\"colab-df-convert\" onclick=\"convertToInteractive('df-1a7489f7-acf7-4a3d-9f07-5dd6cd858b38')\"\n",
              "              title=\"Convert this dataframe to an interactive table.\"\n",
              "              style=\"display:none;\">\n",
              "        \n",
              "  <svg xmlns=\"http://www.w3.org/2000/svg\" height=\"24px\"viewBox=\"0 0 24 24\"\n",
              "       width=\"24px\">\n",
              "    <path d=\"M0 0h24v24H0V0z\" fill=\"none\"/>\n",
              "    <path d=\"M18.56 5.44l.94 2.06.94-2.06 2.06-.94-2.06-.94-.94-2.06-.94 2.06-2.06.94zm-11 1L8.5 8.5l.94-2.06 2.06-.94-2.06-.94L8.5 2.5l-.94 2.06-2.06.94zm10 10l.94 2.06.94-2.06 2.06-.94-2.06-.94-.94-2.06-.94 2.06-2.06.94z\"/><path d=\"M17.41 7.96l-1.37-1.37c-.4-.4-.92-.59-1.43-.59-.52 0-1.04.2-1.43.59L10.3 9.45l-7.72 7.72c-.78.78-.78 2.05 0 2.83L4 21.41c.39.39.9.59 1.41.59.51 0 1.02-.2 1.41-.59l7.78-7.78 2.81-2.81c.8-.78.8-2.07 0-2.86zM5.41 20L4 18.59l7.72-7.72 1.47 1.35L5.41 20z\"/>\n",
              "  </svg>\n",
              "      </button>\n",
              "      \n",
              "  <style>\n",
              "    .colab-df-container {\n",
              "      display:flex;\n",
              "      flex-wrap:wrap;\n",
              "      gap: 12px;\n",
              "    }\n",
              "\n",
              "    .colab-df-convert {\n",
              "      background-color: #E8F0FE;\n",
              "      border: none;\n",
              "      border-radius: 50%;\n",
              "      cursor: pointer;\n",
              "      display: none;\n",
              "      fill: #1967D2;\n",
              "      height: 32px;\n",
              "      padding: 0 0 0 0;\n",
              "      width: 32px;\n",
              "    }\n",
              "\n",
              "    .colab-df-convert:hover {\n",
              "      background-color: #E2EBFA;\n",
              "      box-shadow: 0px 1px 2px rgba(60, 64, 67, 0.3), 0px 1px 3px 1px rgba(60, 64, 67, 0.15);\n",
              "      fill: #174EA6;\n",
              "    }\n",
              "\n",
              "    [theme=dark] .colab-df-convert {\n",
              "      background-color: #3B4455;\n",
              "      fill: #D2E3FC;\n",
              "    }\n",
              "\n",
              "    [theme=dark] .colab-df-convert:hover {\n",
              "      background-color: #434B5C;\n",
              "      box-shadow: 0px 1px 3px 1px rgba(0, 0, 0, 0.15);\n",
              "      filter: drop-shadow(0px 1px 2px rgba(0, 0, 0, 0.3));\n",
              "      fill: #FFFFFF;\n",
              "    }\n",
              "  </style>\n",
              "\n",
              "      <script>\n",
              "        const buttonEl =\n",
              "          document.querySelector('#df-1a7489f7-acf7-4a3d-9f07-5dd6cd858b38 button.colab-df-convert');\n",
              "        buttonEl.style.display =\n",
              "          google.colab.kernel.accessAllowed ? 'block' : 'none';\n",
              "\n",
              "        async function convertToInteractive(key) {\n",
              "          const element = document.querySelector('#df-1a7489f7-acf7-4a3d-9f07-5dd6cd858b38');\n",
              "          const dataTable =\n",
              "            await google.colab.kernel.invokeFunction('convertToInteractive',\n",
              "                                                     [key], {});\n",
              "          if (!dataTable) return;\n",
              "\n",
              "          const docLinkHtml = 'Like what you see? Visit the ' +\n",
              "            '<a target=\"_blank\" href=https://colab.research.google.com/notebooks/data_table.ipynb>data table notebook</a>'\n",
              "            + ' to learn more about interactive tables.';\n",
              "          element.innerHTML = '';\n",
              "          dataTable['output_type'] = 'display_data';\n",
              "          await google.colab.output.renderOutput(dataTable, element);\n",
              "          const docLink = document.createElement('div');\n",
              "          docLink.innerHTML = docLinkHtml;\n",
              "          element.appendChild(docLink);\n",
              "        }\n",
              "      </script>\n",
              "    </div>\n",
              "  </div>\n",
              "  "
            ]
          },
          "metadata": {},
          "execution_count": 728
        }
      ]
    },
    {
      "cell_type": "code",
      "source": [
        "#crear x (quitar la columna o el campo valor comercial\n",
        "# X_raw_nnn -> raw no numeric data\n",
        "X_raw_nnd = df.drop(columns=numeric_list, axis=1)\n",
        "\n",
        "#Convert data to numeric data \n",
        "enc = OrdinalEncoder()\n",
        "enc.fit(X_raw_nnd)\n",
        "\n",
        "# X_nnn -> no numeric data decode to numeric\n",
        "X_nnd_decode =  np.array(enc.transform(X_raw_nnd))"
      ],
      "metadata": {
        "id": "2pTT8CQe3cqn"
      },
      "execution_count": 729,
      "outputs": []
    },
    {
      "cell_type": "code",
      "source": [
        "X_nnd_decode"
      ],
      "metadata": {
        "id": "-ehY28BoViXt",
        "colab": {
          "base_uri": "https://localhost:8080/"
        },
        "outputId": "2eda8c97-c627-428d-8644-60da31260cd5"
      },
      "execution_count": 730,
      "outputs": [
        {
          "output_type": "execute_result",
          "data": {
            "text/plain": [
              "array([[ 12.,  64., 316., ...,   0.,   0.,   0.],\n",
              "       [ 12.,  64., 302., ...,   0.,   4.,   0.],\n",
              "       [ 12.,  64., 283., ...,   0.,   0.,   0.],\n",
              "       ...,\n",
              "       [ 12.,  64., 283., ...,   1.,   1.,   0.],\n",
              "       [ 11.,  28.,  74., ...,   1.,   6.,   1.],\n",
              "       [ 12.,  64., 302., ...,   1.,   1.,   0.]])"
            ]
          },
          "metadata": {},
          "execution_count": 730
        }
      ]
    },
    {
      "cell_type": "code",
      "source": [
        "#X need to contain numeric and categorical data\n",
        "X_nd = np.array(df.drop(columns=categorical_list, axis=1))\n",
        "X_nd"
      ],
      "metadata": {
        "id": "jm_6_D1l3KVu",
        "colab": {
          "base_uri": "https://localhost:8080/"
        },
        "outputId": "b28f34ef-7f18-43dd-c7d0-4f6e88154318"
      },
      "execution_count": 731,
      "outputs": [
        {
          "output_type": "execute_result",
          "data": {
            "text/plain": [
              "array([[2021, 1, '-1', ..., 13.72, 63.92, 138169.0],\n",
              "       [2017, 1, '-1', ..., 32.93, 111.12, 203712.0],\n",
              "       [2019, 1, '-1', ..., 5.09, 106.22, 145911.0],\n",
              "       ...,\n",
              "       [2021, 1, '1', ..., 5.65, 71.7, 123510.0],\n",
              "       [2019, 4, '1', ..., 162.0, 89.59, 99631.0],\n",
              "       [2019, 1, '1', ..., 12.82, 52.58, 147769.0]], dtype=object)"
            ]
          },
          "metadata": {},
          "execution_count": 731
        }
      ]
    },
    {
      "cell_type": "code",
      "source": [
        "#Union de X no numericas y X numericas \n",
        "X = np.concatenate((X_nnd_decode, X_nd), axis=1)\n",
        "X"
      ],
      "metadata": {
        "id": "xqgxVu7R7frW",
        "colab": {
          "base_uri": "https://localhost:8080/"
        },
        "outputId": "fa71de7c-b67b-467d-ea9b-5a601eb288c6"
      },
      "execution_count": 732,
      "outputs": [
        {
          "output_type": "execute_result",
          "data": {
            "text/plain": [
              "array([[12.0, 64.0, 316.0, ..., 13.72, 63.92, 138169.0],\n",
              "       [12.0, 64.0, 302.0, ..., 32.93, 111.12, 203712.0],\n",
              "       [12.0, 64.0, 283.0, ..., 5.09, 106.22, 145911.0],\n",
              "       ...,\n",
              "       [12.0, 64.0, 283.0, ..., 5.65, 71.7, 123510.0],\n",
              "       [11.0, 28.0, 74.0, ..., 162.0, 89.59, 99631.0],\n",
              "       [12.0, 64.0, 302.0, ..., 12.82, 52.58, 147769.0]], dtype=object)"
            ]
          },
          "metadata": {},
          "execution_count": 732
        }
      ]
    },
    {
      "cell_type": "code",
      "source": [
        "#crear y (valor de la columna valor comercial)\n",
        "y =  np.array(df[\"Valor comercial\"])\n",
        "y"
      ],
      "metadata": {
        "id": "cHwLONYAcV6F",
        "colab": {
          "base_uri": "https://localhost:8080/"
        },
        "outputId": "1a43ab20-56fd-4fbe-9659-2e30f58ea1aa"
      },
      "execution_count": 733,
      "outputs": [
        {
          "output_type": "execute_result",
          "data": {
            "text/plain": [
              "array([138169., 203712., 145911., ..., 123510.,  99631., 147769.])"
            ]
          },
          "metadata": {},
          "execution_count": 733
        }
      ]
    },
    {
      "cell_type": "code",
      "source": [
        "#Forma 1\n",
        "from sklearn.model_selection import train_test_split\n",
        "#X_main, X_test, y_main, y_test = train_test_split(X,y,test_size=0.8) # Puedes usar desde esta linea\n",
        "#X_train, X_val, y_train, y_val = train_test_split(X_main,y_main, train_size=0.2) # \n",
        "X_train, X_test, y_train, y_test = train_test_split(X,y, train_size=0.9) "
      ],
      "metadata": {
        "id": "O129luAv1wS3"
      },
      "execution_count": 734,
      "outputs": []
    },
    {
      "cell_type": "markdown",
      "source": [],
      "metadata": {
        "id": "uzjdkG2Lr4_r"
      }
    },
    {
      "cell_type": "code",
      "source": [
        "#revisa el tamaño de cada muesta\n",
        "X_train.shape, X_test.shape, y_train.shape, y_test.shape"
      ],
      "metadata": {
        "id": "9tA_VHSXAJyL",
        "colab": {
          "base_uri": "https://localhost:8080/"
        },
        "outputId": "e7966a84-0ef9-44e4-d680-35ef9d11730d"
      },
      "execution_count": 735,
      "outputs": [
        {
          "output_type": "execute_result",
          "data": {
            "text/plain": [
              "((17423, 20), (1936, 20), (17423,), (1936,))"
            ]
          },
          "metadata": {},
          "execution_count": 735
        }
      ]
    },
    {
      "cell_type": "markdown",
      "source": [
        "# Red Neuronal"
      ],
      "metadata": {
        "id": "_d-OClwHSx0i"
      }
    },
    {
      "cell_type": "code",
      "source": [
        "data_shape = df.shape[1:]\n",
        "data_shape[0]"
      ],
      "metadata": {
        "id": "NVeGysh5YMyx",
        "colab": {
          "base_uri": "https://localhost:8080/"
        },
        "outputId": "2138faeb-82b2-437c-e482-8789abfa236b"
      },
      "execution_count": 736,
      "outputs": [
        {
          "output_type": "execute_result",
          "data": {
            "text/plain": [
              "20"
            ]
          },
          "metadata": {},
          "execution_count": 736
        }
      ]
    },
    {
      "cell_type": "code",
      "source": [
        "# Inicialización de red neuronal\n",
        "network = models.Sequential()  \n",
        "#network.add(layers.Dense(units=data_shape[0], activation='sigmoid', input_dim=data_shape[0], name='hidden-layer_1'))\n",
        "#network.add(layers.Dense(units=data_shape[0], activation='sigmoid', input_dim=data_shape[0], name='hidden-layer_2'))\n",
        "#network.add(layers.Dense(units=data_shape[0], activation='sigmoid', input_dim=data_shape[0], name='hidden-layer_3'))\n",
        "#network.add(layers.Dense(units=1, activation='sigmoid', name='output'))\n",
        "network.add(layers.InputLayer(data_shape))\n",
        "network.add(layers.Dense(256,'relu'))\n",
        "network.add(layers.Dense(128,'relu'))\n",
        "network.add(layers.Dense(64,'relu'))\n",
        "network.add(layers.Dense(32,'relu'))\n",
        "network.add(layers.Dense(16,'relu'))\n",
        "network.add(layers.Dense(1,'linear'))\n"
      ],
      "metadata": {
        "id": "gs6mM8b4S0Xn"
      },
      "execution_count": 737,
      "outputs": []
    },
    {
      "cell_type": "code",
      "source": [
        "# optimizador\n",
        "opt = tf.keras.optimizers.Adam(learning_rate=.1) \n",
        "# compilador\n",
        "network.compile(optimizer=opt, loss='mse', metrics=[keras.metrics.RootMeanSquaredError()])\n",
        "# Muestra arquitectura de la red\n",
        "network.summary()"
      ],
      "metadata": {
        "id": "xLNOtBrIUU1g",
        "colab": {
          "base_uri": "https://localhost:8080/"
        },
        "outputId": "7bb25ae6-ee89-4420-bd76-366324fd62aa"
      },
      "execution_count": 738,
      "outputs": [
        {
          "output_type": "stream",
          "name": "stdout",
          "text": [
            "Model: \"sequential_23\"\n",
            "_________________________________________________________________\n",
            " Layer (type)                Output Shape              Param #   \n",
            "=================================================================\n",
            " dense_98 (Dense)            (None, 256)               5376      \n",
            "                                                                 \n",
            " dense_99 (Dense)            (None, 128)               32896     \n",
            "                                                                 \n",
            " dense_100 (Dense)           (None, 64)                8256      \n",
            "                                                                 \n",
            " dense_101 (Dense)           (None, 32)                2080      \n",
            "                                                                 \n",
            " dense_102 (Dense)           (None, 16)                528       \n",
            "                                                                 \n",
            " dense_103 (Dense)           (None, 1)                 17        \n",
            "                                                                 \n",
            "=================================================================\n",
            "Total params: 49,153\n",
            "Trainable params: 49,153\n",
            "Non-trainable params: 0\n",
            "_________________________________________________________________\n"
          ]
        }
      ]
    },
    {
      "cell_type": "code",
      "source": [
        "y_train.shape"
      ],
      "metadata": {
        "id": "TiyxfLF-bw7H",
        "colab": {
          "base_uri": "https://localhost:8080/"
        },
        "outputId": "5fbf1117-5a79-4807-c06e-4cb9a9d38d70"
      },
      "execution_count": 739,
      "outputs": [
        {
          "output_type": "execute_result",
          "data": {
            "text/plain": [
              "(17423,)"
            ]
          },
          "metadata": {},
          "execution_count": 739
        }
      ]
    },
    {
      "cell_type": "code",
      "source": [
        "X_train.shape"
      ],
      "metadata": {
        "id": "pPY-KiKqb1t9",
        "colab": {
          "base_uri": "https://localhost:8080/"
        },
        "outputId": "0f1fb5d5-2cfd-499a-d011-a09d35ec273b"
      },
      "execution_count": 740,
      "outputs": [
        {
          "output_type": "execute_result",
          "data": {
            "text/plain": [
              "(17423, 20)"
            ]
          },
          "metadata": {},
          "execution_count": 740
        }
      ]
    },
    {
      "cell_type": "markdown",
      "source": [
        "# Fase de entrenamiento"
      ],
      "metadata": {
        "id": "sI4ArQcFxsZO"
      }
    },
    {
      "cell_type": "code",
      "source": [
        "# Entrenamiento de la red\n",
        "#tic = time()\n",
        "network.fit(x=X_train, y=y_train,validation_data=(X,y), epochs=100)\n",
        "#print('total training time:', time()-tic, 'seconds')"
      ],
      "metadata": {
        "id": "-Uy8Q3cRUcNI",
        "colab": {
          "base_uri": "https://localhost:8080/",
          "height": 380
        },
        "outputId": "d26c06cb-92ba-4e33-d9e9-dd6459c93bd8"
      },
      "execution_count": 741,
      "outputs": [
        {
          "output_type": "error",
          "ename": "ValueError",
          "evalue": "ignored",
          "traceback": [
            "\u001b[0;31m---------------------------------------------------------------------------\u001b[0m",
            "\u001b[0;31mValueError\u001b[0m                                Traceback (most recent call last)",
            "\u001b[0;32m<ipython-input-741-de7c32b7f9e7>\u001b[0m in \u001b[0;36m<module>\u001b[0;34m\u001b[0m\n\u001b[1;32m      1\u001b[0m \u001b[0;31m# Entrenamiento de la red\u001b[0m\u001b[0;34m\u001b[0m\u001b[0;34m\u001b[0m\u001b[0;34m\u001b[0m\u001b[0m\n\u001b[1;32m      2\u001b[0m \u001b[0;31m#tic = time()\u001b[0m\u001b[0;34m\u001b[0m\u001b[0;34m\u001b[0m\u001b[0;34m\u001b[0m\u001b[0m\n\u001b[0;32m----> 3\u001b[0;31m \u001b[0mnetwork\u001b[0m\u001b[0;34m.\u001b[0m\u001b[0mfit\u001b[0m\u001b[0;34m(\u001b[0m\u001b[0mx\u001b[0m\u001b[0;34m=\u001b[0m\u001b[0mX_train\u001b[0m\u001b[0;34m,\u001b[0m \u001b[0my\u001b[0m\u001b[0;34m=\u001b[0m\u001b[0my_train\u001b[0m\u001b[0;34m,\u001b[0m\u001b[0mvalidation_data\u001b[0m\u001b[0;34m=\u001b[0m\u001b[0;34m(\u001b[0m\u001b[0mX\u001b[0m\u001b[0;34m,\u001b[0m\u001b[0my\u001b[0m\u001b[0;34m)\u001b[0m\u001b[0;34m,\u001b[0m \u001b[0mepochs\u001b[0m\u001b[0;34m=\u001b[0m\u001b[0;36m100\u001b[0m\u001b[0;34m)\u001b[0m\u001b[0;34m\u001b[0m\u001b[0;34m\u001b[0m\u001b[0m\n\u001b[0m\u001b[1;32m      4\u001b[0m \u001b[0;31m#print('total training time:', time()-tic, 'seconds')\u001b[0m\u001b[0;34m\u001b[0m\u001b[0;34m\u001b[0m\u001b[0;34m\u001b[0m\u001b[0m\n",
            "\u001b[0;32m/usr/local/lib/python3.7/dist-packages/keras/utils/traceback_utils.py\u001b[0m in \u001b[0;36merror_handler\u001b[0;34m(*args, **kwargs)\u001b[0m\n\u001b[1;32m     65\u001b[0m     \u001b[0;32mexcept\u001b[0m \u001b[0mException\u001b[0m \u001b[0;32mas\u001b[0m \u001b[0me\u001b[0m\u001b[0;34m:\u001b[0m  \u001b[0;31m# pylint: disable=broad-except\u001b[0m\u001b[0;34m\u001b[0m\u001b[0;34m\u001b[0m\u001b[0m\n\u001b[1;32m     66\u001b[0m       \u001b[0mfiltered_tb\u001b[0m \u001b[0;34m=\u001b[0m \u001b[0m_process_traceback_frames\u001b[0m\u001b[0;34m(\u001b[0m\u001b[0me\u001b[0m\u001b[0;34m.\u001b[0m\u001b[0m__traceback__\u001b[0m\u001b[0;34m)\u001b[0m\u001b[0;34m\u001b[0m\u001b[0;34m\u001b[0m\u001b[0m\n\u001b[0;32m---> 67\u001b[0;31m       \u001b[0;32mraise\u001b[0m \u001b[0me\u001b[0m\u001b[0;34m.\u001b[0m\u001b[0mwith_traceback\u001b[0m\u001b[0;34m(\u001b[0m\u001b[0mfiltered_tb\u001b[0m\u001b[0;34m)\u001b[0m \u001b[0;32mfrom\u001b[0m \u001b[0;32mNone\u001b[0m\u001b[0;34m\u001b[0m\u001b[0;34m\u001b[0m\u001b[0m\n\u001b[0m\u001b[1;32m     68\u001b[0m     \u001b[0;32mfinally\u001b[0m\u001b[0;34m:\u001b[0m\u001b[0;34m\u001b[0m\u001b[0;34m\u001b[0m\u001b[0m\n\u001b[1;32m     69\u001b[0m       \u001b[0;32mdel\u001b[0m \u001b[0mfiltered_tb\u001b[0m\u001b[0;34m\u001b[0m\u001b[0;34m\u001b[0m\u001b[0m\n",
            "\u001b[0;32m/usr/local/lib/python3.7/dist-packages/tensorflow/python/framework/constant_op.py\u001b[0m in \u001b[0;36mconvert_to_eager_tensor\u001b[0;34m(value, ctx, dtype)\u001b[0m\n\u001b[1;32m    100\u001b[0m       \u001b[0mdtype\u001b[0m \u001b[0;34m=\u001b[0m \u001b[0mdtypes\u001b[0m\u001b[0;34m.\u001b[0m\u001b[0mas_dtype\u001b[0m\u001b[0;34m(\u001b[0m\u001b[0mdtype\u001b[0m\u001b[0;34m)\u001b[0m\u001b[0;34m.\u001b[0m\u001b[0mas_datatype_enum\u001b[0m\u001b[0;34m\u001b[0m\u001b[0;34m\u001b[0m\u001b[0m\n\u001b[1;32m    101\u001b[0m   \u001b[0mctx\u001b[0m\u001b[0;34m.\u001b[0m\u001b[0mensure_initialized\u001b[0m\u001b[0;34m(\u001b[0m\u001b[0;34m)\u001b[0m\u001b[0;34m\u001b[0m\u001b[0;34m\u001b[0m\u001b[0m\n\u001b[0;32m--> 102\u001b[0;31m   \u001b[0;32mreturn\u001b[0m \u001b[0mops\u001b[0m\u001b[0;34m.\u001b[0m\u001b[0mEagerTensor\u001b[0m\u001b[0;34m(\u001b[0m\u001b[0mvalue\u001b[0m\u001b[0;34m,\u001b[0m \u001b[0mctx\u001b[0m\u001b[0;34m.\u001b[0m\u001b[0mdevice_name\u001b[0m\u001b[0;34m,\u001b[0m \u001b[0mdtype\u001b[0m\u001b[0;34m)\u001b[0m\u001b[0;34m\u001b[0m\u001b[0;34m\u001b[0m\u001b[0m\n\u001b[0m\u001b[1;32m    103\u001b[0m \u001b[0;34m\u001b[0m\u001b[0m\n\u001b[1;32m    104\u001b[0m \u001b[0;34m\u001b[0m\u001b[0m\n",
            "\u001b[0;31mValueError\u001b[0m: Failed to convert a NumPy array to a Tensor (Unsupported object type float)."
          ]
        }
      ]
    },
    {
      "cell_type": "code",
      "source": [
        "# Precisiónx\n",
        "results = network.evaluate(X_test, y_test)\n",
        "print('results loss:', results[0])\n",
        "print('results accuracy:', results[1])"
      ],
      "metadata": {
        "id": "Yj5FPtNwVGcK",
        "colab": {
          "base_uri": "https://localhost:8080/",
          "height": 380
        },
        "outputId": "64548721-2334-42b4-9158-6f11162612fd"
      },
      "execution_count": 742,
      "outputs": [
        {
          "output_type": "error",
          "ename": "ValueError",
          "evalue": "ignored",
          "traceback": [
            "\u001b[0;31m---------------------------------------------------------------------------\u001b[0m",
            "\u001b[0;31mValueError\u001b[0m                                Traceback (most recent call last)",
            "\u001b[0;32m<ipython-input-742-94ed5da4c9ad>\u001b[0m in \u001b[0;36m<module>\u001b[0;34m\u001b[0m\n\u001b[1;32m      1\u001b[0m \u001b[0;31m# Precisiónx\u001b[0m\u001b[0;34m\u001b[0m\u001b[0;34m\u001b[0m\u001b[0;34m\u001b[0m\u001b[0m\n\u001b[0;32m----> 2\u001b[0;31m \u001b[0mresults\u001b[0m \u001b[0;34m=\u001b[0m \u001b[0mnetwork\u001b[0m\u001b[0;34m.\u001b[0m\u001b[0mevaluate\u001b[0m\u001b[0;34m(\u001b[0m\u001b[0mX_test\u001b[0m\u001b[0;34m,\u001b[0m \u001b[0my_test\u001b[0m\u001b[0;34m)\u001b[0m\u001b[0;34m\u001b[0m\u001b[0;34m\u001b[0m\u001b[0m\n\u001b[0m\u001b[1;32m      3\u001b[0m \u001b[0mprint\u001b[0m\u001b[0;34m(\u001b[0m\u001b[0;34m'results loss:'\u001b[0m\u001b[0;34m,\u001b[0m \u001b[0mresults\u001b[0m\u001b[0;34m[\u001b[0m\u001b[0;36m0\u001b[0m\u001b[0;34m]\u001b[0m\u001b[0;34m)\u001b[0m\u001b[0;34m\u001b[0m\u001b[0;34m\u001b[0m\u001b[0m\n\u001b[1;32m      4\u001b[0m \u001b[0mprint\u001b[0m\u001b[0;34m(\u001b[0m\u001b[0;34m'results accuracy:'\u001b[0m\u001b[0;34m,\u001b[0m \u001b[0mresults\u001b[0m\u001b[0;34m[\u001b[0m\u001b[0;36m1\u001b[0m\u001b[0;34m]\u001b[0m\u001b[0;34m)\u001b[0m\u001b[0;34m\u001b[0m\u001b[0;34m\u001b[0m\u001b[0m\n",
            "\u001b[0;32m/usr/local/lib/python3.7/dist-packages/keras/utils/traceback_utils.py\u001b[0m in \u001b[0;36merror_handler\u001b[0;34m(*args, **kwargs)\u001b[0m\n\u001b[1;32m     65\u001b[0m     \u001b[0;32mexcept\u001b[0m \u001b[0mException\u001b[0m \u001b[0;32mas\u001b[0m \u001b[0me\u001b[0m\u001b[0;34m:\u001b[0m  \u001b[0;31m# pylint: disable=broad-except\u001b[0m\u001b[0;34m\u001b[0m\u001b[0;34m\u001b[0m\u001b[0m\n\u001b[1;32m     66\u001b[0m       \u001b[0mfiltered_tb\u001b[0m \u001b[0;34m=\u001b[0m \u001b[0m_process_traceback_frames\u001b[0m\u001b[0;34m(\u001b[0m\u001b[0me\u001b[0m\u001b[0;34m.\u001b[0m\u001b[0m__traceback__\u001b[0m\u001b[0;34m)\u001b[0m\u001b[0;34m\u001b[0m\u001b[0;34m\u001b[0m\u001b[0m\n\u001b[0;32m---> 67\u001b[0;31m       \u001b[0;32mraise\u001b[0m \u001b[0me\u001b[0m\u001b[0;34m.\u001b[0m\u001b[0mwith_traceback\u001b[0m\u001b[0;34m(\u001b[0m\u001b[0mfiltered_tb\u001b[0m\u001b[0;34m)\u001b[0m \u001b[0;32mfrom\u001b[0m \u001b[0;32mNone\u001b[0m\u001b[0;34m\u001b[0m\u001b[0;34m\u001b[0m\u001b[0m\n\u001b[0m\u001b[1;32m     68\u001b[0m     \u001b[0;32mfinally\u001b[0m\u001b[0;34m:\u001b[0m\u001b[0;34m\u001b[0m\u001b[0;34m\u001b[0m\u001b[0m\n\u001b[1;32m     69\u001b[0m       \u001b[0;32mdel\u001b[0m \u001b[0mfiltered_tb\u001b[0m\u001b[0;34m\u001b[0m\u001b[0;34m\u001b[0m\u001b[0m\n",
            "\u001b[0;32m/usr/local/lib/python3.7/dist-packages/tensorflow/python/framework/constant_op.py\u001b[0m in \u001b[0;36mconvert_to_eager_tensor\u001b[0;34m(value, ctx, dtype)\u001b[0m\n\u001b[1;32m    100\u001b[0m       \u001b[0mdtype\u001b[0m \u001b[0;34m=\u001b[0m \u001b[0mdtypes\u001b[0m\u001b[0;34m.\u001b[0m\u001b[0mas_dtype\u001b[0m\u001b[0;34m(\u001b[0m\u001b[0mdtype\u001b[0m\u001b[0;34m)\u001b[0m\u001b[0;34m.\u001b[0m\u001b[0mas_datatype_enum\u001b[0m\u001b[0;34m\u001b[0m\u001b[0;34m\u001b[0m\u001b[0m\n\u001b[1;32m    101\u001b[0m   \u001b[0mctx\u001b[0m\u001b[0;34m.\u001b[0m\u001b[0mensure_initialized\u001b[0m\u001b[0;34m(\u001b[0m\u001b[0;34m)\u001b[0m\u001b[0;34m\u001b[0m\u001b[0;34m\u001b[0m\u001b[0m\n\u001b[0;32m--> 102\u001b[0;31m   \u001b[0;32mreturn\u001b[0m \u001b[0mops\u001b[0m\u001b[0;34m.\u001b[0m\u001b[0mEagerTensor\u001b[0m\u001b[0;34m(\u001b[0m\u001b[0mvalue\u001b[0m\u001b[0;34m,\u001b[0m \u001b[0mctx\u001b[0m\u001b[0;34m.\u001b[0m\u001b[0mdevice_name\u001b[0m\u001b[0;34m,\u001b[0m \u001b[0mdtype\u001b[0m\u001b[0;34m)\u001b[0m\u001b[0;34m\u001b[0m\u001b[0;34m\u001b[0m\u001b[0m\n\u001b[0m\u001b[1;32m    103\u001b[0m \u001b[0;34m\u001b[0m\u001b[0m\n\u001b[1;32m    104\u001b[0m \u001b[0;34m\u001b[0m\u001b[0m\n",
            "\u001b[0;31mValueError\u001b[0m: Failed to convert a NumPy array to a Tensor (Unsupported object type float)."
          ]
        }
      ]
    },
    {
      "cell_type": "code",
      "source": [
        "# Salida de la red entrenada\n",
        "y_output = network.predict(X_test)\n",
        "print(\"Salida de la red neuronal: \")\n",
        "print(y_output.round().transpose())"
      ],
      "metadata": {
        "id": "bDLRRGBEVHcb"
      },
      "execution_count": null,
      "outputs": []
    },
    {
      "cell_type": "code",
      "source": [
        "mean_squared_error(network.predict(X_test),y_test,squared=False)"
      ],
      "metadata": {
        "id": "IjWPyAInl_63"
      },
      "execution_count": null,
      "outputs": []
    },
    {
      "cell_type": "markdown",
      "source": [
        "# Fase de pruebas\n"
      ],
      "metadata": {
        "id": "ncA9Vciz95ti"
      }
    },
    {
      "cell_type": "code",
      "source": [
        "path = '/content/drive/MyDrive/BBVA_Hackaton/Test2_Data_BBVA.csv'\n",
        "df_test = pd.read_csv(path)\n",
        "df_test.head()"
      ],
      "metadata": {
        "id": "ASkewzxxu8ZC",
        "colab": {
          "base_uri": "https://localhost:8080/",
          "height": 525
        },
        "outputId": "6e6d695a-be3d-4c4e-a9e4-f1da3451240d"
      },
      "execution_count": null,
      "outputs": [
        {
          "output_type": "execute_result",
          "data": {
            "text/plain": [
              "   Fecha entrega del Informe  Tipo de via  Piso Departamento  \\\n",
              "0                       2021            1    -1         Lima   \n",
              "1                       2017            2    -1         Lima   \n",
              "2                       2019            3    -1      Apurmac   \n",
              "3                       2019            2    -1      Ucayali   \n",
              "4                       2020            1    -1         Lima   \n",
              "\n",
              "          Provincia           Distrito  Numero de estacionamiento  Depositos  \\\n",
              "0              Lima          Surquillo                          0          1   \n",
              "1              Lima  Santiago de Surco                          1          1   \n",
              "2        Chincheros         Chincheros                          1          1   \n",
              "3  Coronel Portillo           Calleria                         -1         -1   \n",
              "4              Lima  Magdalena del Mar                          1          2   \n",
              "\n",
              "     Latitud   Longitud  ...     Posicion Numero de frentes  Edad  Elevador  \\\n",
              "0 -12.105644 -77.025705  ...  No definido                -1     1        -1   \n",
              "1 -12.138068 -76.985660  ...  No definido                -1     1        -1   \n",
              "2  -1.000000 -77.090878  ...  No definido                -1     1        -1   \n",
              "3  -8.381362 -74.537930  ...  No definido                -1    -1        -1   \n",
              "4 -12.091392 -77.055850  ...  No definido                -1     2        -1   \n",
              "\n",
              "   Estado de conservacion               Metodo Representado  \\\n",
              "0                   Bueno  Comparacion de mercado (directo)   \n",
              "1               Muy bueno  Comparacion de mercado (directo)   \n",
              "2                   Bueno  Comparacion de mercado (directo)   \n",
              "3             No definido     Costos o reposicion (directo)   \n",
              "4             En proyecto  Comparacion de mercado (directo)   \n",
              "\n",
              "  Moneda principal para calculos Area Terreno  Area Construccion  \\\n",
              "0                    No definido        11.00              64.92   \n",
              "1                    No definido        50.32             134.20   \n",
              "2                    No definido     44778.00             111.11   \n",
              "3                    No definido        31.00               0.00   \n",
              "4                    No definido         3.22             111.11   \n",
              "\n",
              "   Valor comercial  \n",
              "0                0  \n",
              "1                0  \n",
              "2                0  \n",
              "3                0  \n",
              "4                0  \n",
              "\n",
              "[5 rows x 21 columns]"
            ],
            "text/html": [
              "\n",
              "  <div id=\"df-f9f1eb23-8990-460f-a57c-a48976c7b89c\">\n",
              "    <div class=\"colab-df-container\">\n",
              "      <div>\n",
              "<style scoped>\n",
              "    .dataframe tbody tr th:only-of-type {\n",
              "        vertical-align: middle;\n",
              "    }\n",
              "\n",
              "    .dataframe tbody tr th {\n",
              "        vertical-align: top;\n",
              "    }\n",
              "\n",
              "    .dataframe thead th {\n",
              "        text-align: right;\n",
              "    }\n",
              "</style>\n",
              "<table border=\"1\" class=\"dataframe\">\n",
              "  <thead>\n",
              "    <tr style=\"text-align: right;\">\n",
              "      <th></th>\n",
              "      <th>Fecha entrega del Informe</th>\n",
              "      <th>Tipo de via</th>\n",
              "      <th>Piso</th>\n",
              "      <th>Departamento</th>\n",
              "      <th>Provincia</th>\n",
              "      <th>Distrito</th>\n",
              "      <th>Numero de estacionamiento</th>\n",
              "      <th>Depositos</th>\n",
              "      <th>Latitud</th>\n",
              "      <th>Longitud</th>\n",
              "      <th>...</th>\n",
              "      <th>Posicion</th>\n",
              "      <th>Numero de frentes</th>\n",
              "      <th>Edad</th>\n",
              "      <th>Elevador</th>\n",
              "      <th>Estado de conservacion</th>\n",
              "      <th>Metodo Representado</th>\n",
              "      <th>Moneda principal para calculos</th>\n",
              "      <th>Area Terreno</th>\n",
              "      <th>Area Construccion</th>\n",
              "      <th>Valor comercial</th>\n",
              "    </tr>\n",
              "  </thead>\n",
              "  <tbody>\n",
              "    <tr>\n",
              "      <th>0</th>\n",
              "      <td>2021</td>\n",
              "      <td>1</td>\n",
              "      <td>-1</td>\n",
              "      <td>Lima</td>\n",
              "      <td>Lima</td>\n",
              "      <td>Surquillo</td>\n",
              "      <td>0</td>\n",
              "      <td>1</td>\n",
              "      <td>-12.105644</td>\n",
              "      <td>-77.025705</td>\n",
              "      <td>...</td>\n",
              "      <td>No definido</td>\n",
              "      <td>-1</td>\n",
              "      <td>1</td>\n",
              "      <td>-1</td>\n",
              "      <td>Bueno</td>\n",
              "      <td>Comparacion de mercado (directo)</td>\n",
              "      <td>No definido</td>\n",
              "      <td>11.00</td>\n",
              "      <td>64.92</td>\n",
              "      <td>0</td>\n",
              "    </tr>\n",
              "    <tr>\n",
              "      <th>1</th>\n",
              "      <td>2017</td>\n",
              "      <td>2</td>\n",
              "      <td>-1</td>\n",
              "      <td>Lima</td>\n",
              "      <td>Lima</td>\n",
              "      <td>Santiago de Surco</td>\n",
              "      <td>1</td>\n",
              "      <td>1</td>\n",
              "      <td>-12.138068</td>\n",
              "      <td>-76.985660</td>\n",
              "      <td>...</td>\n",
              "      <td>No definido</td>\n",
              "      <td>-1</td>\n",
              "      <td>1</td>\n",
              "      <td>-1</td>\n",
              "      <td>Muy bueno</td>\n",
              "      <td>Comparacion de mercado (directo)</td>\n",
              "      <td>No definido</td>\n",
              "      <td>50.32</td>\n",
              "      <td>134.20</td>\n",
              "      <td>0</td>\n",
              "    </tr>\n",
              "    <tr>\n",
              "      <th>2</th>\n",
              "      <td>2019</td>\n",
              "      <td>3</td>\n",
              "      <td>-1</td>\n",
              "      <td>Apurmac</td>\n",
              "      <td>Chincheros</td>\n",
              "      <td>Chincheros</td>\n",
              "      <td>1</td>\n",
              "      <td>1</td>\n",
              "      <td>-1.000000</td>\n",
              "      <td>-77.090878</td>\n",
              "      <td>...</td>\n",
              "      <td>No definido</td>\n",
              "      <td>-1</td>\n",
              "      <td>1</td>\n",
              "      <td>-1</td>\n",
              "      <td>Bueno</td>\n",
              "      <td>Comparacion de mercado (directo)</td>\n",
              "      <td>No definido</td>\n",
              "      <td>44778.00</td>\n",
              "      <td>111.11</td>\n",
              "      <td>0</td>\n",
              "    </tr>\n",
              "    <tr>\n",
              "      <th>3</th>\n",
              "      <td>2019</td>\n",
              "      <td>2</td>\n",
              "      <td>-1</td>\n",
              "      <td>Ucayali</td>\n",
              "      <td>Coronel Portillo</td>\n",
              "      <td>Calleria</td>\n",
              "      <td>-1</td>\n",
              "      <td>-1</td>\n",
              "      <td>-8.381362</td>\n",
              "      <td>-74.537930</td>\n",
              "      <td>...</td>\n",
              "      <td>No definido</td>\n",
              "      <td>-1</td>\n",
              "      <td>-1</td>\n",
              "      <td>-1</td>\n",
              "      <td>No definido</td>\n",
              "      <td>Costos o reposicion (directo)</td>\n",
              "      <td>No definido</td>\n",
              "      <td>31.00</td>\n",
              "      <td>0.00</td>\n",
              "      <td>0</td>\n",
              "    </tr>\n",
              "    <tr>\n",
              "      <th>4</th>\n",
              "      <td>2020</td>\n",
              "      <td>1</td>\n",
              "      <td>-1</td>\n",
              "      <td>Lima</td>\n",
              "      <td>Lima</td>\n",
              "      <td>Magdalena del Mar</td>\n",
              "      <td>1</td>\n",
              "      <td>2</td>\n",
              "      <td>-12.091392</td>\n",
              "      <td>-77.055850</td>\n",
              "      <td>...</td>\n",
              "      <td>No definido</td>\n",
              "      <td>-1</td>\n",
              "      <td>2</td>\n",
              "      <td>-1</td>\n",
              "      <td>En proyecto</td>\n",
              "      <td>Comparacion de mercado (directo)</td>\n",
              "      <td>No definido</td>\n",
              "      <td>3.22</td>\n",
              "      <td>111.11</td>\n",
              "      <td>0</td>\n",
              "    </tr>\n",
              "  </tbody>\n",
              "</table>\n",
              "<p>5 rows × 21 columns</p>\n",
              "</div>\n",
              "      <button class=\"colab-df-convert\" onclick=\"convertToInteractive('df-f9f1eb23-8990-460f-a57c-a48976c7b89c')\"\n",
              "              title=\"Convert this dataframe to an interactive table.\"\n",
              "              style=\"display:none;\">\n",
              "        \n",
              "  <svg xmlns=\"http://www.w3.org/2000/svg\" height=\"24px\"viewBox=\"0 0 24 24\"\n",
              "       width=\"24px\">\n",
              "    <path d=\"M0 0h24v24H0V0z\" fill=\"none\"/>\n",
              "    <path d=\"M18.56 5.44l.94 2.06.94-2.06 2.06-.94-2.06-.94-.94-2.06-.94 2.06-2.06.94zm-11 1L8.5 8.5l.94-2.06 2.06-.94-2.06-.94L8.5 2.5l-.94 2.06-2.06.94zm10 10l.94 2.06.94-2.06 2.06-.94-2.06-.94-.94-2.06-.94 2.06-2.06.94z\"/><path d=\"M17.41 7.96l-1.37-1.37c-.4-.4-.92-.59-1.43-.59-.52 0-1.04.2-1.43.59L10.3 9.45l-7.72 7.72c-.78.78-.78 2.05 0 2.83L4 21.41c.39.39.9.59 1.41.59.51 0 1.02-.2 1.41-.59l7.78-7.78 2.81-2.81c.8-.78.8-2.07 0-2.86zM5.41 20L4 18.59l7.72-7.72 1.47 1.35L5.41 20z\"/>\n",
              "  </svg>\n",
              "      </button>\n",
              "      \n",
              "  <style>\n",
              "    .colab-df-container {\n",
              "      display:flex;\n",
              "      flex-wrap:wrap;\n",
              "      gap: 12px;\n",
              "    }\n",
              "\n",
              "    .colab-df-convert {\n",
              "      background-color: #E8F0FE;\n",
              "      border: none;\n",
              "      border-radius: 50%;\n",
              "      cursor: pointer;\n",
              "      display: none;\n",
              "      fill: #1967D2;\n",
              "      height: 32px;\n",
              "      padding: 0 0 0 0;\n",
              "      width: 32px;\n",
              "    }\n",
              "\n",
              "    .colab-df-convert:hover {\n",
              "      background-color: #E2EBFA;\n",
              "      box-shadow: 0px 1px 2px rgba(60, 64, 67, 0.3), 0px 1px 3px 1px rgba(60, 64, 67, 0.15);\n",
              "      fill: #174EA6;\n",
              "    }\n",
              "\n",
              "    [theme=dark] .colab-df-convert {\n",
              "      background-color: #3B4455;\n",
              "      fill: #D2E3FC;\n",
              "    }\n",
              "\n",
              "    [theme=dark] .colab-df-convert:hover {\n",
              "      background-color: #434B5C;\n",
              "      box-shadow: 0px 1px 3px 1px rgba(0, 0, 0, 0.15);\n",
              "      filter: drop-shadow(0px 1px 2px rgba(0, 0, 0, 0.3));\n",
              "      fill: #FFFFFF;\n",
              "    }\n",
              "  </style>\n",
              "\n",
              "      <script>\n",
              "        const buttonEl =\n",
              "          document.querySelector('#df-f9f1eb23-8990-460f-a57c-a48976c7b89c button.colab-df-convert');\n",
              "        buttonEl.style.display =\n",
              "          google.colab.kernel.accessAllowed ? 'block' : 'none';\n",
              "\n",
              "        async function convertToInteractive(key) {\n",
              "          const element = document.querySelector('#df-f9f1eb23-8990-460f-a57c-a48976c7b89c');\n",
              "          const dataTable =\n",
              "            await google.colab.kernel.invokeFunction('convertToInteractive',\n",
              "                                                     [key], {});\n",
              "          if (!dataTable) return;\n",
              "\n",
              "          const docLinkHtml = 'Like what you see? Visit the ' +\n",
              "            '<a target=\"_blank\" href=https://colab.research.google.com/notebooks/data_table.ipynb>data table notebook</a>'\n",
              "            + ' to learn more about interactive tables.';\n",
              "          element.innerHTML = '';\n",
              "          dataTable['output_type'] = 'display_data';\n",
              "          await google.colab.output.renderOutput(dataTable, element);\n",
              "          const docLink = document.createElement('div');\n",
              "          docLink.innerHTML = docLinkHtml;\n",
              "          element.appendChild(docLink);\n",
              "        }\n",
              "      </script>\n",
              "    </div>\n",
              "  </div>\n",
              "  "
            ]
          },
          "metadata": {},
          "execution_count": 517
        }
      ]
    },
    {
      "cell_type": "code",
      "source": [
        "# X_raw_nnn -> raw no numeric data\n",
        "X_raw_nnd_test= df_test.drop(columns=numeric_list, axis=1)\n",
        "\n",
        "#Convert data to numeric data \n",
        "enc = OrdinalEncoder()\n",
        "enc.fit(X_raw_nnd_test)\n",
        "\n",
        "# X_nnn -> no numeric data decode to numeric\n",
        "X_nnd_decode_test =  np.array(enc.transform(X_raw_nnd_test))"
      ],
      "metadata": {
        "id": "KTTvIr6F75CY"
      },
      "execution_count": null,
      "outputs": []
    },
    {
      "cell_type": "code",
      "source": [
        "X_nnd_decode_test.shape"
      ],
      "metadata": {
        "colab": {
          "base_uri": "https://localhost:8080/"
        },
        "id": "zbCTXMsf89lO",
        "outputId": "067b3aa6-f03b-484b-fc21-c24272648f9e"
      },
      "execution_count": null,
      "outputs": [
        {
          "output_type": "execute_result",
          "data": {
            "text/plain": [
              "(10, 8)"
            ]
          },
          "metadata": {},
          "execution_count": 519
        }
      ]
    },
    {
      "cell_type": "code",
      "source": [
        "#X need to contain numeric and categorical data\n",
        "X_nd_test = np.array(df_test.drop(columns=categorical_list, axis=1))\n",
        "X_nd_test.shape"
      ],
      "metadata": {
        "colab": {
          "base_uri": "https://localhost:8080/"
        },
        "id": "8fO8rWyw8Q0s",
        "outputId": "1bc9908a-a2fe-4804-87a5-b3ad10f52220"
      },
      "execution_count": null,
      "outputs": [
        {
          "output_type": "execute_result",
          "data": {
            "text/plain": [
              "(10, 13)"
            ]
          },
          "metadata": {},
          "execution_count": 520
        }
      ]
    },
    {
      "cell_type": "code",
      "source": [
        "#Union de X no numericas y X numericas \n",
        "X_real_test= np.concatenate((X_nnd_decode_test, X_nd_test), axis=1)\n",
        "X_real_test"
      ],
      "metadata": {
        "colab": {
          "base_uri": "https://localhost:8080/"
        },
        "id": "lFV6Ooeq8Vkx",
        "outputId": "4b9e6d53-1cbc-4ca1-a01a-b0acf6260c44"
      },
      "execution_count": null,
      "outputs": [
        {
          "output_type": "execute_result",
          "data": {
            "text/plain": [
              "array([[ 4.0000000e+00,  5.0000000e+00,  8.0000000e+00,  0.0000000e+00,\n",
              "         0.0000000e+00,  0.0000000e+00,  0.0000000e+00,  0.0000000e+00,\n",
              "         2.0210000e+03,  1.0000000e+00, -1.0000000e+00,  0.0000000e+00,\n",
              "         1.0000000e+00, -1.2105644e+01, -7.7025705e+01, -1.0000000e+00,\n",
              "         1.0000000e+00, -1.0000000e+00,  1.1000000e+01,  6.4920000e+01,\n",
              "         0.0000000e+00],\n",
              "       [ 4.0000000e+00,  5.0000000e+00,  7.0000000e+00,  0.0000000e+00,\n",
              "         0.0000000e+00,  3.0000000e+00,  0.0000000e+00,  0.0000000e+00,\n",
              "         2.0170000e+03,  2.0000000e+00, -1.0000000e+00,  1.0000000e+00,\n",
              "         1.0000000e+00, -1.2138068e+01, -7.6985660e+01, -1.0000000e+00,\n",
              "         1.0000000e+00, -1.0000000e+00,  5.0320000e+01,  1.3420000e+02,\n",
              "         0.0000000e+00],\n",
              "       [ 0.0000000e+00,  1.0000000e+00,  1.0000000e+00,  3.0000000e+00,\n",
              "         0.0000000e+00,  0.0000000e+00,  0.0000000e+00,  0.0000000e+00,\n",
              "         2.0190000e+03,  3.0000000e+00, -1.0000000e+00,  1.0000000e+00,\n",
              "         1.0000000e+00, -1.0000000e+00, -7.7090878e+01, -1.0000000e+00,\n",
              "         1.0000000e+00, -1.0000000e+00,  4.4778000e+04,  1.1111000e+02,\n",
              "         0.0000000e+00],\n",
              "       [ 5.0000000e+00,  3.0000000e+00,  0.0000000e+00,  4.0000000e+00,\n",
              "         0.0000000e+00,  4.0000000e+00,  1.0000000e+00,  0.0000000e+00,\n",
              "         2.0190000e+03,  2.0000000e+00, -1.0000000e+00, -1.0000000e+00,\n",
              "        -1.0000000e+00, -8.3813620e+00, -7.4537930e+01, -1.0000000e+00,\n",
              "        -1.0000000e+00, -1.0000000e+00,  3.1000000e+01,  0.0000000e+00,\n",
              "         0.0000000e+00],\n",
              "       [ 4.0000000e+00,  5.0000000e+00,  5.0000000e+00,  2.0000000e+00,\n",
              "         0.0000000e+00,  2.0000000e+00,  0.0000000e+00,  0.0000000e+00,\n",
              "         2.0200000e+03,  1.0000000e+00, -1.0000000e+00,  1.0000000e+00,\n",
              "         2.0000000e+00, -1.2091392e+01, -7.7055850e+01, -1.0000000e+00,\n",
              "         2.0000000e+00, -1.0000000e+00,  3.2200000e+00,  1.1111000e+02,\n",
              "         0.0000000e+00],\n",
              "       [ 1.0000000e+00,  0.0000000e+00,  6.0000000e+00,  4.0000000e+00,\n",
              "         0.0000000e+00,  0.0000000e+00,  1.0000000e+00,  0.0000000e+00,\n",
              "         2.0210000e+03, -1.0000000e+00, -1.0000000e+00,  1.0000000e+00,\n",
              "         2.0000000e+00, -1.6427006e+01, -7.1573633e+01, -1.0000000e+00,\n",
              "        -1.0000000e+00, -1.0000000e+00,  1.4394000e+02,  0.0000000e+00,\n",
              "         0.0000000e+00],\n",
              "       [ 3.0000000e+00,  4.0000000e+00,  2.0000000e+00,  1.0000000e+00,\n",
              "         0.0000000e+00,  0.0000000e+00,  1.0000000e+00,  0.0000000e+00,\n",
              "         2.0170000e+03, -1.0000000e+00, -1.0000000e+00,  1.0000000e+00,\n",
              "         2.0000000e+00, -1.4074475e+01, -1.0000000e+00, -1.0000000e+00,\n",
              "         3.0000000e+00, -1.0000000e+00,  0.0000000e+00,  9.0880000e+01,\n",
              "         0.0000000e+00],\n",
              "       [ 4.0000000e+00,  5.0000000e+00,  8.0000000e+00,  0.0000000e+00,\n",
              "         0.0000000e+00,  1.0000000e+00,  0.0000000e+00,  0.0000000e+00,\n",
              "         2.0200000e+03,  1.0000000e+00,  1.0000000e+00, -1.0000000e+00,\n",
              "        -1.0000000e+00, -1.2117501e+01, -7.7004499e+01, -1.0000000e+00,\n",
              "         2.0000000e+00, -1.0000000e+00,  1.6020000e+01,  1.1725000e+02,\n",
              "         0.0000000e+00],\n",
              "       [ 2.0000000e+00,  2.0000000e+00,  4.0000000e+00,  4.0000000e+00,\n",
              "         0.0000000e+00,  0.0000000e+00,  1.0000000e+00,  0.0000000e+00,\n",
              "         2.0190000e+03,  2.0000000e+00, -1.0000000e+00,  1.0000000e+00,\n",
              "         2.0000000e+00, -9.9578660e+00, -7.6243089e+01, -1.0000000e+00,\n",
              "        -1.0000000e+00, -1.0000000e+00,  3.0000000e+02,  0.0000000e+00,\n",
              "         0.0000000e+00],\n",
              "       [ 4.0000000e+00,  5.0000000e+00,  3.0000000e+00,  5.0000000e+00,\n",
              "         0.0000000e+00,  0.0000000e+00,  0.0000000e+00,  0.0000000e+00,\n",
              "         2.0170000e+03,  1.0000000e+00, -1.0000000e+00,  7.0000000e+00,\n",
              "         0.0000000e+00, -1.2076824e+01, -7.6931810e+01, -1.0000000e+00,\n",
              "         1.9000000e+01, -1.0000000e+00,  9.0011000e+02,  1.2009800e+03,\n",
              "         0.0000000e+00]])"
            ]
          },
          "metadata": {},
          "execution_count": 521
        }
      ]
    },
    {
      "cell_type": "code",
      "source": [
        "# Salida de la red entrenada\n",
        "y_output_test = network.predict(X_real_test)\n",
        "print(\"Salida de la red neuronal: \")\n",
        "print(y_output_test)"
      ],
      "metadata": {
        "colab": {
          "base_uri": "https://localhost:8080/"
        },
        "id": "sNJ41gwQ8krR",
        "outputId": "14a29c81-962e-48f7-c832-19bd5cefe876"
      },
      "execution_count": null,
      "outputs": [
        {
          "output_type": "stream",
          "name": "stdout",
          "text": [
            "1/1 [==============================] - 0s 20ms/step\n",
            "Salida de la red neuronal: \n",
            "[[28989356.]\n",
            " [29277406.]\n",
            " [32223870.]\n",
            " [27682382.]\n",
            " [29719846.]\n",
            " [25695312.]\n",
            " [28448536.]\n",
            " [29694282.]\n",
            " [23221108.]\n",
            " [31064974.]]\n"
          ]
        }
      ]
    }
  ],
  "metadata": {
    "colab": {
      "collapsed_sections": [
        "EiEW5j9oVbql",
        "Iifjn1z7ZoHg",
        "FrrLXNsf4zYX",
        "cV1f9_C8-EjQ",
        "54VNzzNX_UBf",
        "g-b-T_LpAkYe",
        "wIa-rCrnTXMR",
        "VkRrvgyNuOQQ",
        "f8Avo3kPzX28",
        "2bdb8nXkHaov",
        "3VgvOTVMQKtq",
        "AcyxnGrgR0EZ",
        "m9YXwQyIcGZN",
        "_d-OClwHSx0i"
      ],
      "provenance": [],
      "include_colab_link": true
    },
    "kernelspec": {
      "display_name": "Python 3",
      "name": "python3"
    },
    "language_info": {
      "name": "python"
    }
  },
  "nbformat": 4,
  "nbformat_minor": 0
}